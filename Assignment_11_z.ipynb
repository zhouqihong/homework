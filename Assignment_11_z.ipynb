{
 "cells": [
  {
   "cell_type": "markdown",
   "metadata": {
    "colab_type": "text",
    "id": "Z7HmSCuE7LK6"
   },
   "source": [
    "## Lesson-11 Recurrent Neural Networks 循环神经网络的原理及应用"
   ]
  },
  {
   "cell_type": "markdown",
   "metadata": {
    "colab_type": "text",
    "id": "n_jFLua-7LK7"
   },
   "source": [
    "循环神经网络是我们常用的一个网络模型，这个网络能够处理例如字符串，时间序列等问题。因为模型对序列问题的优势，RNN模型已经成为了自然语言处理问题的常见方法。"
   ]
  },
  {
   "cell_type": "markdown",
   "metadata": {
    "colab_type": "text",
    "id": "Dz07UF1r7LK8"
   },
   "source": [
    "在本课程的作业中，我们将完成三个任务：\n",
    "\n",
    "0. 基于任务驱动，实际感受并能够初步使用pytorch；\n",
    "1. 使用RNN模型进行名字的国籍分类；(这个程序主要是参考的Pytorch文档)"
   ]
  },
  {
   "cell_type": "markdown",
   "metadata": {
    "colab_type": "text",
    "id": "ha68saGf7LK9"
   },
   "source": [
    "RNN也可以用于金融数据的预测，例如:\n",
    "![image.png](attachment:image.png)"
   ]
  },
  {
   "cell_type": "markdown",
   "metadata": {
    "colab_type": "text",
    "id": "iTdq3Czs7LK9"
   },
   "source": [
    "![image.png](attachment:image.png)"
   ]
  },
  {
   "cell_type": "markdown",
   "metadata": {
    "colab_type": "text",
    "id": "QLFJHIn17LK-"
   },
   "source": [
    "上图中蓝色的部分就是预测值， 关于RNN模型对金融数据的预测，我们只会会增加专门的研讨课程，给大家讲解"
   ]
  },
  {
   "cell_type": "markdown",
   "metadata": {
    "colab_type": "text",
    "id": "fSFBho7l7LK-"
   },
   "source": [
    "我们今天带给大家的是使用RNN进行名字的国籍分类:"
   ]
  },
  {
   "cell_type": "code",
   "execution_count": 2,
   "metadata": {
    "colab": {
     "base_uri": "https://localhost:8080/",
     "height": 127
    },
    "colab_type": "code",
    "id": "KFyBicnx7N5V",
    "outputId": "67880b6d-2860-4a9e-ca5c-27b5c49cc34e"
   },
   "outputs": [
    {
     "name": "stdout",
     "output_type": "stream",
     "text": [
      "Go to this URL in a browser: https://accounts.google.com/o/oauth2/auth?client_id=947318989803-6bn6qk8qdgf4n4g3pfee6491hc0brc4i.apps.googleusercontent.com&redirect_uri=urn%3aietf%3awg%3aoauth%3a2.0%3aoob&response_type=code&scope=email%20https%3a%2f%2fwww.googleapis.com%2fauth%2fdocs.test%20https%3a%2f%2fwww.googleapis.com%2fauth%2fdrive%20https%3a%2f%2fwww.googleapis.com%2fauth%2fdrive.photos.readonly%20https%3a%2f%2fwww.googleapis.com%2fauth%2fpeopleapi.readonly\n",
      "\n",
      "Enter your authorization code:\n",
      "··········\n",
      "Mounted at /content/drive/\n"
     ]
    }
   ],
   "source": [
    "from google.colab import drive\n",
    "\n",
    "drive.mount('/content/drive/')"
   ]
  },
  {
   "cell_type": "markdown",
   "metadata": {
    "colab_type": "text",
    "id": "OBCZCcUt7LK_"
   },
   "source": [
    "## 1. 使用RNN模型进行名字的国籍分类"
   ]
  },
  {
   "cell_type": "markdown",
   "metadata": {
    "colab_type": "text",
    "id": "F3Y39tN57LK_"
   },
   "source": [
    "首先，我们下载数据: 将这个数据置于和我们jupyter notebook位置相同的地方"
   ]
  },
  {
   "cell_type": "markdown",
   "metadata": {
    "colab_type": "text",
    "id": "3LkuGMM27LLA"
   },
   "source": [
    "#### 1.1 我们利用通配符，打印出所有的文件"
   ]
  },
  {
   "cell_type": "code",
   "execution_count": 4,
   "metadata": {
    "colab": {
     "base_uri": "https://localhost:8080/",
     "height": 611
    },
    "colab_type": "code",
    "id": "r5747fJK78_y",
    "outputId": "7e2ad05f-43dd-47df-86a5-f3cd58cb90dc"
   },
   "outputs": [
    {
     "name": "stdout",
     "output_type": "stream",
     "text": [
      "--2020-07-22 16:22:23--  https://download.pytorch.org/tutorial/data.zip\n",
      "Resolving download.pytorch.org (download.pytorch.org)... 52.84.16.73, 52.84.16.5, 52.84.16.69, ...\n",
      "Connecting to download.pytorch.org (download.pytorch.org)|52.84.16.73|:443... connected.\n",
      "HTTP request sent, awaiting response... 200 OK\n",
      "Length: 2882130 (2.7M) [application/zip]\n",
      "Saving to: ‘data.zip’\n",
      "\n",
      "\r",
      "data.zip              0%[                    ]       0  --.-KB/s               \r",
      "data.zip            100%[===================>]   2.75M  --.-KB/s    in 0.1s    \n",
      "\n",
      "2020-07-22 16:22:23 (26.4 MB/s) - ‘data.zip’ saved [2882130/2882130]\n",
      "\n",
      "Archive:  data.zip\n",
      "   creating: data/\n",
      "  inflating: data/eng-fra.txt        \n",
      "   creating: data/names/\n",
      "  inflating: data/names/Arabic.txt   \n",
      "  inflating: data/names/Chinese.txt  \n",
      "  inflating: data/names/Czech.txt    \n",
      "  inflating: data/names/Dutch.txt    \n",
      "  inflating: data/names/English.txt  \n",
      "  inflating: data/names/French.txt   \n",
      "  inflating: data/names/German.txt   \n",
      "  inflating: data/names/Greek.txt    \n",
      "  inflating: data/names/Irish.txt    \n",
      "  inflating: data/names/Italian.txt  \n",
      "  inflating: data/names/Japanese.txt  \n",
      "  inflating: data/names/Korean.txt   \n",
      "  inflating: data/names/Polish.txt   \n",
      "  inflating: data/names/Portuguese.txt  \n",
      "  inflating: data/names/Russian.txt  \n",
      "  inflating: data/names/Scottish.txt  \n",
      "  inflating: data/names/Spanish.txt  \n",
      "  inflating: data/names/Vietnamese.txt  \n"
     ]
    }
   ],
   "source": [
    "!wget https://download.pytorch.org/tutorial/data.zip\n",
    "!unzip data.zip"
   ]
  },
  {
   "cell_type": "code",
   "execution_count": 37,
   "metadata": {
    "colab": {},
    "colab_type": "code",
    "id": "hhCPVx1q7LLA"
   },
   "outputs": [],
   "source": [
    "from io import open\n",
    "import glob\n",
    "import os\n",
    "import matplotlib.pyplot as plt\n",
    "\n",
    "\n",
    "def find_files(path): return glob.glob(path)\n",
    "\n",
    "print(find_files('data/names/*.txt'))"
   ]
  },
  {
   "cell_type": "markdown",
   "metadata": {
    "colab_type": "text",
    "id": "Qn4E7I1M7LLE"
   },
   "source": [
    "### 1.2 名字里边包含不少非Ascii码，为了简便问题，我们将他们转化为Ascii码"
   ]
  },
  {
   "cell_type": "code",
   "execution_count": null,
   "metadata": {
    "colab": {
     "base_uri": "https://localhost:8080/",
     "height": 35
    },
    "colab_type": "code",
    "id": "Xy7_Ex4a7LLF",
    "outputId": "00666098-3c7e-45f4-8945-174b7d154178"
   },
   "outputs": [
    {
     "name": "stdout",
     "output_type": "stream",
     "text": [
      "Slusarski\n"
     ]
    }
   ],
   "source": [
    "import unicodedata\n",
    "import string\n",
    "\n",
    "all_letters = string.ascii_letters + \" .,;'\"\n",
    "n_letters = len(all_letters)\n",
    "\n",
    "# Turn a Unicode string to plain ASCII, thanks to https://stackoverflow.com/a/518232/2809427\n",
    "def unicode_2_Ascii(s):\n",
    "    return ''.join(\n",
    "        c for c in unicodedata.normalize('NFD', s)\n",
    "        if unicodedata.category(c) != 'Mn'\n",
    "        and c in all_letters\n",
    "    )\n",
    "\n",
    "print(unicode_2_Ascii('Ślusàrski'))"
   ]
  },
  {
   "cell_type": "markdown",
   "metadata": {
    "colab_type": "text",
    "id": "hiMyPj_j7LLH"
   },
   "source": [
    "### Step1.3 然后我们建立类别和对于的名字的dictionary对应"
   ]
  },
  {
   "cell_type": "code",
   "execution_count": null,
   "metadata": {
    "colab": {},
    "colab_type": "code",
    "id": "EmGI29bK7LLH"
   },
   "outputs": [],
   "source": [
    "# Build the category_lines dictionary, a list of names per language\n",
    "category_lines = {}\n",
    "all_categories = []\n",
    "\n",
    "# Read a file and split into lines\n",
    "def read_lines(filename):\n",
    "    lines = open(filename, encoding='utf-8').read().strip().split('\\n')\n",
    "    return [unicode_2_Ascii(line) for line in lines]\n",
    "\n",
    "for filename in find_files('data/names/*.txt'):\n",
    "    category = os.path.splitext(os.path.basename(filename))[0]\n",
    "    all_categories.append(category)\n",
    "    lines = read_lines(filename)\n",
    "    category_lines[category] = lines\n",
    "\n",
    "n_categories = len(all_categories)"
   ]
  },
  {
   "cell_type": "code",
   "execution_count": null,
   "metadata": {
    "colab": {
     "base_uri": "https://localhost:8080/",
     "height": 35
    },
    "colab_type": "code",
    "id": "QCJ6Ca7W7LLK",
    "outputId": "cdb5b21f-3df5-401b-cb8f-63b34881ea91"
   },
   "outputs": [
    {
     "data": {
      "text/plain": [
       "18"
      ]
     },
     "execution_count": 9,
     "metadata": {
      "tags": []
     },
     "output_type": "execute_result"
    }
   ],
   "source": [
    "n_categories"
   ]
  },
  {
   "cell_type": "code",
   "execution_count": null,
   "metadata": {
    "colab": {
     "base_uri": "https://localhost:8080/",
     "height": 35
    },
    "colab_type": "code",
    "id": "r9HN1FN87LLM",
    "outputId": "987a3568-d097-473e-89a5-4539c79fab76"
   },
   "outputs": [
    {
     "data": {
      "text/plain": [
       "['Ang', 'AuYong', 'Bai', 'Ban', 'Bao', 'Bei', 'Bian', 'Bui', 'Cai', 'Cao']"
      ]
     },
     "execution_count": 10,
     "metadata": {
      "tags": []
     },
     "output_type": "execute_result"
    }
   ],
   "source": [
    "category_lines['Chinese'][:10]"
   ]
  },
  {
   "cell_type": "markdown",
   "metadata": {
    "colab_type": "text",
    "id": "8FsKTHQ27LLP"
   },
   "source": [
    "### 1.4 这一次我们使用pytorch, 来进行向量化"
   ]
  },
  {
   "cell_type": "code",
   "execution_count": null,
   "metadata": {
    "colab": {
     "base_uri": "https://localhost:8080/",
     "height": 53
    },
    "colab_type": "code",
    "id": "bH1Iz7up7LLP",
    "outputId": "761d0ba3-2b3d-4e89-f834-4b37f09c673c"
   },
   "outputs": [
    {
     "name": "stdout",
     "output_type": "stream",
     "text": [
      "35\n",
      "torch.Size([5, 1, 57])\n"
     ]
    }
   ],
   "source": [
    "import torch\n",
    "\n",
    "# Find letter index from all_letters, e.g. \"a\" = 0\n",
    "def letter_to_index(letter):\n",
    "    return all_letters.find(letter)\n",
    "\n",
    "# Just for demonstration, turn a letter into a <1 x n_letters> Tensor\n",
    "def letter_to_tensor(letter):\n",
    "    tensor = torch.zeros(1, n_letters)\n",
    "    tensor[0][letter_to_index(letter)] = 1\n",
    "    return tensor\n",
    "\n",
    "# Turn a line into a <line_length x 1 x n_letters>,\n",
    "# or an array of one-hot letter vectors\n",
    "def line_to_tensor(line):\n",
    "    tensor = torch.zeros(len(line), 1, n_letters)\n",
    "    for li, letter in enumerate(line):\n",
    "        tensor[li][0][letter_to_index(letter)] = 1\n",
    "    return tensor\n",
    "\n",
    "print(letter_to_index('J'))\n",
    "\n",
    "print(line_to_tensor('Jones').size())"
   ]
  },
  {
   "cell_type": "code",
   "execution_count": null,
   "metadata": {
    "colab": {
     "base_uri": "https://localhost:8080/",
     "height": 449
    },
    "colab_type": "code",
    "id": "mrgwGjwe7LLT",
    "outputId": "c9dabba1-477d-42c0-fcec-e9261f4b1a6b"
   },
   "outputs": [
    {
     "data": {
      "text/plain": [
       "tensor([[[0., 0., 0., 0., 0., 0., 0., 0., 0., 0., 0., 0., 0., 0., 0., 0., 0.,\n",
       "          0., 0., 0., 0., 0., 0., 0., 0., 0., 0., 0., 0., 0., 0., 0., 0., 0.,\n",
       "          0., 1., 0., 0., 0., 0., 0., 0., 0., 0., 0., 0., 0., 0., 0., 0., 0.,\n",
       "          0., 0., 0., 0., 0., 0.]],\n",
       "\n",
       "        [[0., 0., 0., 0., 0., 0., 0., 0., 0., 0., 0., 0., 0., 0., 1., 0., 0.,\n",
       "          0., 0., 0., 0., 0., 0., 0., 0., 0., 0., 0., 0., 0., 0., 0., 0., 0.,\n",
       "          0., 0., 0., 0., 0., 0., 0., 0., 0., 0., 0., 0., 0., 0., 0., 0., 0.,\n",
       "          0., 0., 0., 0., 0., 0.]],\n",
       "\n",
       "        [[0., 0., 0., 0., 0., 0., 0., 0., 0., 0., 0., 0., 0., 1., 0., 0., 0.,\n",
       "          0., 0., 0., 0., 0., 0., 0., 0., 0., 0., 0., 0., 0., 0., 0., 0., 0.,\n",
       "          0., 0., 0., 0., 0., 0., 0., 0., 0., 0., 0., 0., 0., 0., 0., 0., 0.,\n",
       "          0., 0., 0., 0., 0., 0.]],\n",
       "\n",
       "        [[0., 0., 0., 0., 1., 0., 0., 0., 0., 0., 0., 0., 0., 0., 0., 0., 0.,\n",
       "          0., 0., 0., 0., 0., 0., 0., 0., 0., 0., 0., 0., 0., 0., 0., 0., 0.,\n",
       "          0., 0., 0., 0., 0., 0., 0., 0., 0., 0., 0., 0., 0., 0., 0., 0., 0.,\n",
       "          0., 0., 0., 0., 0., 0.]],\n",
       "\n",
       "        [[0., 0., 0., 0., 0., 0., 0., 0., 0., 0., 0., 0., 0., 0., 0., 0., 0.,\n",
       "          0., 1., 0., 0., 0., 0., 0., 0., 0., 0., 0., 0., 0., 0., 0., 0., 0.,\n",
       "          0., 0., 0., 0., 0., 0., 0., 0., 0., 0., 0., 0., 0., 0., 0., 0., 0.,\n",
       "          0., 0., 0., 0., 0., 0.]]])"
      ]
     },
     "execution_count": 12,
     "metadata": {
      "tags": []
     },
     "output_type": "execute_result"
    }
   ],
   "source": [
    "line_to_tensor('Jones')"
   ]
  },
  {
   "cell_type": "markdown",
   "metadata": {
    "colab_type": "text",
    "id": "hvv8on7m7LLW"
   },
   "source": [
    "我们可以看到，是对名字里的每个字符做了 one-hot操作"
   ]
  },
  {
   "cell_type": "markdown",
   "metadata": {
    "colab_type": "text",
    "id": "_OHpzqgf7LLW"
   },
   "source": [
    "### 1.5 然后，我们构建一个这样的RNN网络"
   ]
  },
  {
   "cell_type": "markdown",
   "metadata": {
    "colab_type": "text",
    "id": "L9v3BSLJ7LLX"
   },
   "source": [
    "![image.png](attachment:image.png)"
   ]
  },
  {
   "cell_type": "code",
   "execution_count": null,
   "metadata": {
    "colab": {},
    "colab_type": "code",
    "id": "SrLS6ol57LLX"
   },
   "outputs": [],
   "source": [
    "import torch.nn as nn\n",
    "\n",
    "class RNN(nn.Module):\n",
    "    def __init__(self, input_size, hidden_size, output_size):\n",
    "        super(RNN, self).__init__()\n",
    "\n",
    "        self.hidden_size = hidden_size\n",
    "\n",
    "        self.i2h = nn.Linear(input_size + hidden_size, hidden_size)\n",
    "        self.i2o = nn.Linear(input_size + hidden_size, output_size)\n",
    "        self.softmax = nn.LogSoftmax(dim=1)\n",
    "\n",
    "    def forward(self, input, hidden):\n",
    "        combined = torch.cat((input, hidden), 1)\n",
    "        hidden = self.i2h(combined)\n",
    "        output = self.i2o(combined)\n",
    "        output = self.softmax(output)\n",
    "        return output, hidden\n",
    "\n",
    "    def initHidden(self):\n",
    "        return torch.zeros(1, self.hidden_size)\n",
    "\n",
    "n_hidden = 128"
   ]
  },
  {
   "cell_type": "code",
   "execution_count": null,
   "metadata": {
    "colab": {},
    "colab_type": "code",
    "id": "pvhkx-Pk7LLb"
   },
   "outputs": [],
   "source": [
    "rnn = RNN(n_letters, n_hidden, n_categories)"
   ]
  },
  {
   "cell_type": "markdown",
   "metadata": {
    "colab_type": "text",
    "id": "U2t9HWht7LLd"
   },
   "source": [
    "### 1.6 运行一步RNN\n",
    "\n",
    "为了运行这个rnn网络，我们需要给他一个input，然后再加上一个hidden state. 然后我们就能过获得一个output，这个output便是的是这个单词的属于每个国家的概率，和接下来的hidden state."
   ]
  },
  {
   "cell_type": "code",
   "execution_count": null,
   "metadata": {
    "colab": {},
    "colab_type": "code",
    "id": "nPFbQNMY7LLe"
   },
   "outputs": [],
   "source": [
    "input = letter_to_tensor('A')\n",
    "hidden =torch.zeros(1, n_hidden)\n",
    "\n",
    "output, next_hidden = rnn(input, hidden)"
   ]
  },
  {
   "cell_type": "code",
   "execution_count": null,
   "metadata": {
    "colab": {
     "base_uri": "https://localhost:8080/",
     "height": 71
    },
    "colab_type": "code",
    "id": "n3uMiav97LLg",
    "outputId": "30a9cbed-c4a8-4dcf-fa27-da0d991ba95a"
   },
   "outputs": [
    {
     "data": {
      "text/plain": [
       "tensor([[-2.9339, -3.0207, -2.8792, -2.8011, -2.9066, -2.9150, -2.8853, -2.8359,\n",
       "         -3.0154, -2.8345, -2.9008, -2.8958, -2.9266, -2.8768, -2.8879, -2.8857,\n",
       "         -2.8806, -2.7767]], grad_fn=<LogSoftmaxBackward>)"
      ]
     },
     "execution_count": 16,
     "metadata": {
      "tags": []
     },
     "output_type": "execute_result"
    }
   ],
   "source": [
    "output"
   ]
  },
  {
   "cell_type": "code",
   "execution_count": null,
   "metadata": {
    "colab": {
     "base_uri": "https://localhost:8080/",
     "height": 485
    },
    "colab_type": "code",
    "id": "qrhkwxba7LLi",
    "outputId": "91020dd2-0adc-4b60-9dab-826fa8d5a1a7"
   },
   "outputs": [
    {
     "data": {
      "text/plain": [
       "tensor([[-4.5417e-02, -9.2074e-02, -9.9323e-02, -8.5756e-02, -3.5325e-02,\n",
       "         -4.9350e-02,  9.3543e-02, -1.0954e-02,  4.8960e-02,  3.6879e-02,\n",
       "          1.3318e-03,  2.9163e-02,  1.8872e-02,  7.3214e-02, -4.2261e-02,\n",
       "          4.9458e-03,  9.5736e-03, -2.3558e-02, -4.5535e-03, -5.4642e-02,\n",
       "         -1.4570e-02, -9.1193e-02, -5.0531e-04, -4.3820e-02,  8.9702e-03,\n",
       "          3.3109e-02,  2.4673e-02,  2.5202e-02,  4.0535e-02, -1.5822e-02,\n",
       "         -5.2994e-02, -8.3962e-02,  7.9832e-02,  3.4034e-02, -4.1505e-02,\n",
       "         -8.0693e-02,  1.4553e-02, -3.4639e-02, -1.2144e-01, -1.9106e-02,\n",
       "         -1.8711e-02,  9.9874e-02, -5.2605e-02, -4.4656e-02, -8.4341e-02,\n",
       "         -7.3961e-02, -6.5679e-02, -3.1707e-02, -1.2021e-02, -9.3402e-02,\n",
       "         -1.2842e-02,  1.3414e-01, -4.6151e-02, -9.0912e-02, -3.0439e-02,\n",
       "          5.3734e-02,  3.3195e-02, -5.6682e-02,  5.0456e-02,  7.0209e-02,\n",
       "         -6.0434e-03, -1.1545e-01, -4.8450e-02,  2.1286e-02, -1.2944e-01,\n",
       "         -3.3887e-02, -7.6369e-03,  7.9190e-02,  1.2026e-01, -2.1242e-02,\n",
       "          5.0978e-03,  2.6871e-02, -1.0228e-01,  8.5040e-03, -3.6355e-03,\n",
       "         -1.5446e-03,  2.0244e-02,  5.9536e-03, -1.2260e-02, -1.1428e-01,\n",
       "          3.2015e-02, -1.2152e-01, -8.1247e-02,  2.4267e-02, -8.5235e-02,\n",
       "         -2.9549e-02,  6.4689e-02, -1.0589e-02,  1.3314e-01,  4.2878e-02,\n",
       "         -9.2807e-02, -1.5975e-02, -2.1360e-02,  1.5964e-02,  1.1669e-01,\n",
       "         -7.3442e-02,  1.0239e-01,  3.8843e-02, -1.1405e-01, -1.1973e-01,\n",
       "          8.1024e-02, -1.4530e-01, -6.7300e-02,  4.2967e-02,  1.2205e-01,\n",
       "         -1.3737e-01, -6.0981e-03, -1.7709e-02, -9.7307e-02, -3.2915e-02,\n",
       "         -3.6580e-02, -1.1351e-05, -7.9421e-02,  6.9114e-02, -8.2307e-03,\n",
       "          5.4132e-02, -9.1375e-02, -8.4864e-02,  6.9013e-02, -1.3281e-01,\n",
       "         -1.9035e-02,  1.1804e-02, -4.4628e-02, -1.0310e-02,  2.8020e-02,\n",
       "          5.6706e-02,  4.3357e-02, -2.5263e-03]], grad_fn=<AddmmBackward>)"
      ]
     },
     "execution_count": 14,
     "metadata": {
      "tags": []
     },
     "output_type": "execute_result"
    }
   ],
   "source": [
    "next_hidden"
   ]
  },
  {
   "cell_type": "markdown",
   "metadata": {
    "colab_type": "text",
    "id": "01-JmnZ17LLl"
   },
   "source": [
    "然后，我们可以使用 line_to_tensor, 把一句话直接变成 tensor"
   ]
  },
  {
   "cell_type": "code",
   "execution_count": null,
   "metadata": {
    "colab": {
     "base_uri": "https://localhost:8080/",
     "height": 71
    },
    "colab_type": "code",
    "id": "0PAh4OQW7LLl",
    "outputId": "cebdcf9a-4676-490c-caaa-1d402efa2e38"
   },
   "outputs": [
    {
     "name": "stdout",
     "output_type": "stream",
     "text": [
      "tensor([[-2.8598, -2.9539, -2.7887, -2.8544, -3.0276, -2.9626, -2.9082, -2.8895,\n",
      "         -2.8657, -2.9766, -2.8433, -2.9078, -2.9359, -2.8076, -2.8904, -2.7788,\n",
      "         -2.8957, -2.9172]], grad_fn=<LogSoftmaxBackward>)\n"
     ]
    }
   ],
   "source": [
    "input = line_to_tensor('Albert')\n",
    "hidden = torch.zeros(1, n_hidden)\n",
    "\n",
    "output, next_hidden = rnn(input[0], hidden)\n",
    "print(output)"
   ]
  },
  {
   "cell_type": "markdown",
   "metadata": {
    "colab_type": "text",
    "id": "Zll-qHiH7LLo"
   },
   "source": [
    "这个output，就是基于目前的RNN参数，预测出来的国籍概率分布。显然是不对的，因为里边的参数都是随机的。"
   ]
  },
  {
   "cell_type": "markdown",
   "metadata": {
    "colab_type": "text",
    "id": "e6t6OAsu7LLp"
   },
   "source": [
    "### 1.7 更好的观察结果"
   ]
  },
  {
   "cell_type": "markdown",
   "metadata": {
    "colab_type": "text",
    "id": "6xTgHQMI7LLp"
   },
   "source": [
    "为了能够更好的看到我们的训练结果，我们需要把输出的tensor变成我们能看懂的国籍"
   ]
  },
  {
   "cell_type": "code",
   "execution_count": null,
   "metadata": {
    "colab": {},
    "colab_type": "code",
    "id": "RhD2PgLY7LLp"
   },
   "outputs": [],
   "source": [
    "def category_from_output(output):\n",
    "    top_n, top_i = output.topk(1)\n",
    "    category_i = top_i[0].item()\n",
    "    return all_categories[category_i], category_i\n",
    "\n"
   ]
  },
  {
   "cell_type": "markdown",
   "metadata": {
    "colab_type": "text",
    "id": "l9umizge7LLs"
   },
   "source": [
    "对于刚刚产生的output，我们使用这个函数"
   ]
  },
  {
   "cell_type": "code",
   "execution_count": null,
   "metadata": {
    "colab": {
     "base_uri": "https://localhost:8080/",
     "height": 35
    },
    "colab_type": "code",
    "id": "uBz2Av2e7LLs",
    "outputId": "582916f9-7cde-4650-d4be-eeb500be7eea"
   },
   "outputs": [
    {
     "name": "stdout",
     "output_type": "stream",
     "text": [
      "('English', 15)\n"
     ]
    }
   ],
   "source": [
    "print(category_from_output(output))"
   ]
  },
  {
   "cell_type": "markdown",
   "metadata": {
    "colab_type": "text",
    "id": "tXR9QCTt7LLu"
   },
   "source": [
    "### 1.8 随机生成训练数据"
   ]
  },
  {
   "cell_type": "code",
   "execution_count": null,
   "metadata": {
    "colab": {
     "base_uri": "https://localhost:8080/",
     "height": 341
    },
    "colab_type": "code",
    "id": "wuUQHzte7LLv",
    "outputId": "532d6897-fb5c-45be-8e3d-1b203d40cae9"
   },
   "outputs": [
    {
     "data": {
      "text/plain": [
       "['Portuguese',\n",
       " 'Japanese',\n",
       " 'Dutch',\n",
       " 'Polish',\n",
       " 'Chinese',\n",
       " 'Arabic',\n",
       " 'Spanish',\n",
       " 'Korean',\n",
       " 'Irish',\n",
       " 'Czech',\n",
       " 'French',\n",
       " 'Greek',\n",
       " 'German',\n",
       " 'Russian',\n",
       " 'Italian',\n",
       " 'English',\n",
       " 'Vietnamese',\n",
       " 'Scottish']"
      ]
     },
     "execution_count": 18,
     "metadata": {
      "tags": []
     },
     "output_type": "execute_result"
    }
   ],
   "source": [
    "all_categories"
   ]
  },
  {
   "cell_type": "code",
   "execution_count": null,
   "metadata": {
    "colab": {},
    "colab_type": "code",
    "id": "rt2XC8CI7LLx"
   },
   "outputs": [],
   "source": [
    "#category_lines"
   ]
  },
  {
   "cell_type": "code",
   "execution_count": null,
   "metadata": {
    "colab": {
     "base_uri": "https://localhost:8080/",
     "height": 197
    },
    "colab_type": "code",
    "id": "Pr848MAK7LLz",
    "outputId": "63c7eb73-730f-4e83-d8d8-75cb7d5858ea"
   },
   "outputs": [
    {
     "name": "stdout",
     "output_type": "stream",
     "text": [
      "category = Portuguese / line = Pereira\n",
      "category = Polish / line = Wawrzaszek\n",
      "category = Portuguese / line = D'cruze\n",
      "category = Russian / line = Mihailichenko\n",
      "category = Portuguese / line = Melo\n",
      "category = Irish / line = Kavanagh\n",
      "category = Czech / line = Janacek\n",
      "category = Italian / line = Lamberti\n",
      "category = Japanese / line = Tsuruga\n",
      "category = Scottish / line = Hill\n"
     ]
    }
   ],
   "source": [
    "import random\n",
    "\n",
    "def sample(l):\n",
    "    return l[random.randint(0, len(l) - 1)]\n",
    "\n",
    "def sample_trainning():\n",
    "    category = sample(all_categories)\n",
    "    line = sample(category_lines[category])\n",
    "    category_tensor = torch.tensor([all_categories.index(category)], dtype=torch.long)\n",
    "    line_tensor = line_to_tensor(line)\n",
    "    return category, line, category_tensor, line_tensor\n",
    "\n",
    "for i in range(10):\n",
    "    category, line, category_tensor, line_tensor = sample_trainning()\n",
    "    print('category =', category, '/ line =', line)"
   ]
  },
  {
   "cell_type": "markdown",
   "metadata": {
    "colab_type": "text",
    "id": "t7yovsQ17LL1"
   },
   "source": [
    "### 因为我们这个模型需要 softmax 来获得每个类别，所以我们使用cross-entropy作为Loss函数"
   ]
  },
  {
   "cell_type": "code",
   "execution_count": null,
   "metadata": {
    "colab": {},
    "colab_type": "code",
    "id": "a0yq8tV-7LL1"
   },
   "outputs": [],
   "source": [
    "criterion = nn.CrossEntropyLoss()"
   ]
  },
  {
   "cell_type": "code",
   "execution_count": null,
   "metadata": {
    "colab": {},
    "colab_type": "code",
    "id": "30dcvukK7LL4"
   },
   "outputs": [],
   "source": [
    "learning_rate = 0.005 # If you set this too high, it might explode. If too low, it might not learn\n",
    "\n",
    "def train(category_tensor, line_tensor):\n",
    "    hidden = rnn.initHidden()\n",
    "\n",
    "    rnn.zero_grad()\n",
    "\n",
    "    for i in range(line_tensor.size()[0]):\n",
    "        output, hidden = rnn(line_tensor[i], hidden)\n",
    "\n",
    "    loss = criterion(output, category_tensor)\n",
    "    loss.backward()\n",
    "\n",
    "    # Add parameters' gradients to their values, multiplied by learning rate\n",
    "    for p in rnn.parameters():\n",
    "        p.data.add_(-learning_rate, p.grad.data)\n",
    "\n",
    "    return output, loss.item()"
   ]
  },
  {
   "cell_type": "code",
   "execution_count": null,
   "metadata": {
    "colab": {},
    "colab_type": "code",
    "id": "zwVzKbFM7LL7"
   },
   "outputs": [],
   "source": [
    "import time\n",
    "import math\n",
    "\n",
    "n_iters = 1000 # 这个数字你可以调大一些\n",
    "print_every = 500\n",
    "plot_every = 100\n",
    "\n",
    "\n",
    "# Keep track of losses for plotting\n",
    "current_loss = 0\n",
    "all_losses = []\n",
    "\n",
    "def time_since(since):\n",
    "    now = time.time()\n",
    "    s = now - since\n",
    "    m = math.floor(s / 60)\n",
    "    s -= m * 60\n",
    "    return '%dm %ds' % (m, s)\n",
    "\n",
    "start = time.time()\n",
    "\n",
    "for iter in range(1, n_iters + 1):\n",
    "    category, line, category_tensor, line_tensor = sample_trainning()\n",
    "    print(category_tensor.shape)\n",
    "    output, loss = train(category_tensor, line_tensor)\n",
    "    current_loss += loss\n",
    "\n",
    "    # Print iter number, loss, name and guess\n",
    "    if iter % print_every == 0:\n",
    "        guess, guess_i = category_from_output(output)\n",
    "        correct = '✓' if guess == category else '✗ (%s)' % category\n",
    "        print('%d %d%% (%s) %.4f %s / %s %s' % (iter, iter / n_iters * 100, time_since(start), loss, line, guess, correct))\n",
    "\n",
    "    # Add current loss avg to list of losses\n",
    "    if iter % plot_every == 0:\n",
    "        all_losses.append(current_loss / plot_every)\n",
    "        current_loss = 0"
   ]
  },
  {
   "cell_type": "markdown",
   "metadata": {
    "colab_type": "text",
    "id": "KkOc8NDm7LL-"
   },
   "source": [
    "### 1.9 观察Loss的变化"
   ]
  },
  {
   "cell_type": "code",
   "execution_count": null,
   "metadata": {
    "colab": {
     "base_uri": "https://localhost:8080/",
     "height": 197
    },
    "colab_type": "code",
    "id": "l87rKHHI7LL-",
    "outputId": "14bf5bab-09eb-4520-d31c-a35d13c46714"
   },
   "outputs": [
    {
     "data": {
      "text/plain": [
       "[2.845351059436798,\n",
       " 2.840982582569122,\n",
       " 2.8363467836380005,\n",
       " 2.847794284820557,\n",
       " 2.821723988056183,\n",
       " 2.8310155272483826,\n",
       " 2.8234628891944884,\n",
       " 2.8123889327049256,\n",
       " 2.7894581246376036,\n",
       " 2.79333384513855]"
      ]
     },
     "execution_count": 25,
     "metadata": {
      "tags": []
     },
     "output_type": "execute_result"
    }
   ],
   "source": [
    "all_losses"
   ]
  },
  {
   "cell_type": "code",
   "execution_count": null,
   "metadata": {
    "colab": {},
    "colab_type": "code",
    "id": "9NyZB-u-7LMA"
   },
   "outputs": [],
   "source": [
    "%matplotlib inline"
   ]
  },
  {
   "cell_type": "code",
   "execution_count": null,
   "metadata": {
    "colab": {
     "base_uri": "https://localhost:8080/",
     "height": 285
    },
    "colab_type": "code",
    "id": "mXgH9d3t7LMC",
    "outputId": "4c395f43-8eba-43b0-987c-1dd225fb106e"
   },
   "outputs": [
    {
     "data": {
      "text/plain": [
       "[<matplotlib.lines.Line2D at 0x7feec016d8d0>]"
      ]
     },
     "execution_count": 27,
     "metadata": {
      "tags": []
     },
     "output_type": "execute_result"
    },
    {
     "data": {
      "image/png": "[encoded data removed]",
      "text/plain": [
       "<Figure size 432x288 with 1 Axes>"
      ]
     },
     "metadata": {
      "needs_background": "light",
      "tags": []
     },
     "output_type": "display_data"
    }
   ],
   "source": [
    "plt.plot(all_losses)"
   ]
  },
  {
   "cell_type": "code",
   "execution_count": null,
   "metadata": {
    "colab": {
     "base_uri": "https://localhost:8080/",
     "height": 287
    },
    "colab_type": "code",
    "id": "QDI4cUqG7LME",
    "outputId": "ec03e03f-9265-49a9-8c09-f121c34ddf07"
   },
   "outputs": [
    {
     "name": "stdout",
     "output_type": "stream",
     "text": [
      "\n",
      "> Dovesky\n",
      "(-2.79) Russian\n",
      "(-2.79) Chinese\n",
      "(-2.82) English\n",
      "\n",
      "> Jackson\n",
      "(-2.74) Russian\n",
      "(-2.75) Dutch\n",
      "(-2.77) Japanese\n",
      "\n",
      "> Satoshi\n",
      "(-2.53) Italian\n",
      "(-2.66) Japanese\n",
      "(-2.82) Chinese\n"
     ]
    }
   ],
   "source": [
    "def evaluate(line_tensor):\n",
    "    hidden = rnn.initHidden()\n",
    "\n",
    "    for i in range(line_tensor.size()[0]):\n",
    "        output, hidden = rnn(line_tensor[i], hidden)\n",
    "\n",
    "    return output\n",
    "\n",
    "def predict(input_line, n_predictions=3):\n",
    "    print('\\n> %s' % input_line)\n",
    "    with torch.no_grad():\n",
    "        output = evaluate(line_to_tensor(input_line))\n",
    "\n",
    "        # Get top N categories\n",
    "        topv, topi = output.topk(n_predictions, 1, True)\n",
    "        predictions = []\n",
    "\n",
    "        for i in range(n_predictions):\n",
    "            value = topv[0][i].item()\n",
    "            category_index = topi[0][i].item()\n",
    "            print('(%.2f) %s' % (value, all_categories[category_index]))\n",
    "            predictions.append([value, all_categories[category_index]])\n",
    "\n",
    "predict('Dovesky')\n",
    "predict('Jackson')\n",
    "predict('Satoshi')"
   ]
  },
  {
   "cell_type": "markdown",
   "metadata": {
    "colab_type": "text",
    "id": "bpkz8kPZ7LMH"
   },
   "source": [
    "## 代码练习"
   ]
  },
  {
   "cell_type": "code",
   "execution_count": 5,
   "metadata": {
    "colab": {
     "base_uri": "https://localhost:8080/",
     "height": 55
    },
    "colab_type": "code",
    "id": "fRieGEiy_HXC",
    "outputId": "dc20b16b-41f1-42c2-d1e4-538e0a65ed0d"
   },
   "outputs": [
    {
     "name": "stdout",
     "output_type": "stream",
     "text": [
      "['data/names/Dutch.txt', 'data/names/German.txt', 'data/names/English.txt', 'data/names/Irish.txt', 'data/names/Arabic.txt', 'data/names/Greek.txt', 'data/names/Japanese.txt', 'data/names/Polish.txt', 'data/names/Czech.txt', 'data/names/French.txt', 'data/names/Chinese.txt', 'data/names/Scottish.txt', 'data/names/Portuguese.txt', 'data/names/Russian.txt', 'data/names/Spanish.txt', 'data/names/Vietnamese.txt', 'data/names/Italian.txt', 'data/names/Korean.txt']\n"
     ]
    }
   ],
   "source": [
    "from __future__ import unicode_literals, print_function, division\n",
    "from io import open\n",
    "import glob\n",
    "import os\n",
    "\n",
    "def findFiles(path): return glob.glob(path)\n",
    "\n",
    "print(findFiles('data/names/*.txt'))"
   ]
  },
  {
   "cell_type": "code",
   "execution_count": 6,
   "metadata": {
    "colab": {
     "base_uri": "https://localhost:8080/",
     "height": 35
    },
    "colab_type": "code",
    "id": "HLN3VCLWBX__",
    "outputId": "5aeb9a13-07aa-4872-cc98-cb495dadf814"
   },
   "outputs": [
    {
     "name": "stdout",
     "output_type": "stream",
     "text": [
      "Slusarski\n"
     ]
    }
   ],
   "source": [
    "import unicodedata\n",
    "import string\n",
    "\n",
    "all_letters = string.ascii_letters + \" .,;'\"\n",
    "n_letters = len(all_letters)\n",
    "\n",
    "# Turn a Unicode string to plain ASCII\n",
    "def unicodeToAscii(s):\n",
    "    return ''.join(\n",
    "        c for c in unicodedata.normalize('NFD', s)\n",
    "        if unicodedata.category(c) != 'Mn'\n",
    "        and c in all_letters\n",
    "    )\n",
    "\n",
    "print(unicodeToAscii('Ślusàrski'))"
   ]
  },
  {
   "cell_type": "code",
   "execution_count": 7,
   "metadata": {
    "colab": {},
    "colab_type": "code",
    "id": "F9qP4S_5BYSv"
   },
   "outputs": [],
   "source": [
    "def readLines(filename):\n",
    "    lines = open(filename, encoding='utf-8').read().strip().split('\\n')\n",
    "    return [unicodeToAscii(line) for line in lines]"
   ]
  },
  {
   "cell_type": "code",
   "execution_count": 8,
   "metadata": {
    "colab": {},
    "colab_type": "code",
    "id": "KFy47aSQBYgA"
   },
   "outputs": [],
   "source": [
    "category_lines = {}\n",
    "all_categories = []\n",
    "\n",
    "\n",
    "for filename in findFiles('data/names/*.txt'):\n",
    "    category = os.path.splitext(os.path.basename(filename))[0]\n",
    "    all_categories.append(category)\n",
    "    lines = readLines(filename)\n",
    "    category_lines[category] = lines\n",
    "\n",
    "n_categories = len(all_categories)"
   ]
  },
  {
   "cell_type": "code",
   "execution_count": 9,
   "metadata": {
    "colab": {
     "base_uri": "https://localhost:8080/",
     "height": 35
    },
    "colab_type": "code",
    "id": "BGiXfF4IBYwJ",
    "outputId": "a0bfdb6c-1eb0-45bd-b064-a21eecbcc247"
   },
   "outputs": [
    {
     "name": "stdout",
     "output_type": "stream",
     "text": [
      "['Abe', 'Abukara', 'Adachi', 'Aida', 'Aihara']\n"
     ]
    }
   ],
   "source": [
    "print(category_lines['Japanese'][:5])"
   ]
  },
  {
   "cell_type": "markdown",
   "metadata": {
    "colab_type": "text",
    "id": "z09vgVOJCZC5"
   },
   "source": [
    "### 将surnames转成tensor"
   ]
  },
  {
   "cell_type": "code",
   "execution_count": 10,
   "metadata": {
    "colab": {
     "base_uri": "https://localhost:8080/",
     "height": 127
    },
    "colab_type": "code",
    "id": "qyOuiOezBZKU",
    "outputId": "172651a7-8e13-4ce7-fc96-4e050c75420e"
   },
   "outputs": [
    {
     "name": "stdout",
     "output_type": "stream",
     "text": [
      "tensor([[0., 0., 0., 0., 0., 0., 0., 0., 0., 0., 0., 0., 0., 0., 0., 0., 0., 0.,\n",
      "         0., 0., 0., 0., 0., 0., 0., 0., 0., 0., 0., 0., 0., 0., 0., 0., 0., 1.,\n",
      "         0., 0., 0., 0., 0., 0., 0., 0., 0., 0., 0., 0., 0., 0., 0., 0., 0., 0.,\n",
      "         0., 0., 0.]])\n",
      "torch.Size([5, 1, 57])\n"
     ]
    }
   ],
   "source": [
    "import torch\n",
    "\n",
    "def letterToIndex(letter):\n",
    "    return all_letters.find(letter)\n",
    "\n",
    "def letterToTensor(letter):\n",
    "    tensor = torch.zeros(1, n_letters)\n",
    "    tensor[0][letterToIndex(letter)] = 1\n",
    "    return tensor\n",
    "\n",
    "def lineToTensor(line):\n",
    "    tensor = torch.zeros(len(line), 1, n_letters)\n",
    "    for li, letter in enumerate(line):\n",
    "        tensor[li][0][letterToIndex(letter)] = 1\n",
    "    return tensor\n",
    "\n",
    "print(letterToTensor('J'))\n",
    "\n",
    "print(lineToTensor('Jones').size())"
   ]
  },
  {
   "cell_type": "code",
   "execution_count": 11,
   "metadata": {
    "colab": {},
    "colab_type": "code",
    "id": "U1p6acMzBZG6"
   },
   "outputs": [],
   "source": [
    "import torch.nn as nn\n",
    "\n",
    "class RNN(nn.Module):\n",
    "    def __init__(self, input_size, hidden_size, output_size):\n",
    "        super(RNN, self).__init__()\n",
    "\n",
    "        self.hidden_size = hidden_size\n",
    "\n",
    "        self.i2h = nn.Linear(input_size + hidden_size, hidden_size)\n",
    "        self.i2o = nn.Linear(input_size + hidden_size, output_size)\n",
    "        self.softmax = nn.LogSoftmax(dim=1)\n",
    "\n",
    "    def forward(self, input, hidden):\n",
    "        combined = torch.cat((input, hidden), 1)\n",
    "        hidden = self.i2h(combined)\n",
    "        output = self.i2o(combined)\n",
    "        output = self.softmax(output)\n",
    "        return output, hidden\n",
    "\n",
    "    def initHidden(self):\n",
    "        return torch.zeros(1, self.hidden_size)\n",
    "\n",
    "n_hidden = 128\n",
    "rnn = RNN(n_letters, n_hidden, n_categories)"
   ]
  },
  {
   "cell_type": "code",
   "execution_count": 12,
   "metadata": {
    "colab": {},
    "colab_type": "code",
    "id": "FUAMK4L1i7_3"
   },
   "outputs": [],
   "source": [
    "input = letterToTensor('A')\n",
    "hidden =torch.zeros(1, n_hidden)\n",
    "\n",
    "output, next_hidden = rnn(input, hidden)"
   ]
  },
  {
   "cell_type": "code",
   "execution_count": 13,
   "metadata": {
    "colab": {
     "base_uri": "https://localhost:8080/",
     "height": 91
    },
    "colab_type": "code",
    "id": "KMqp51vUBZDe",
    "outputId": "c8233130-45f2-4121-bc38-3146b5373476"
   },
   "outputs": [
    {
     "name": "stdout",
     "output_type": "stream",
     "text": [
      "tensor([[-2.7709, -2.9190, -2.8059, -2.8866, -2.9581, -2.9849, -2.9121, -2.7534,\n",
      "         -2.9330, -2.9805, -2.9146, -2.8211, -2.9468, -2.9216, -2.8976, -2.8850,\n",
      "         -2.9352, -2.8404]], grad_fn=<LogSoftmaxBackward>)\n"
     ]
    }
   ],
   "source": [
    "input = lineToTensor('Albert')\n",
    "hidden = torch.zeros(1, n_hidden)\n",
    "\n",
    "output, next_hidden = rnn(input[0], hidden)\n",
    "print(output)"
   ]
  },
  {
   "cell_type": "code",
   "execution_count": 14,
   "metadata": {
    "colab": {
     "base_uri": "https://localhost:8080/",
     "height": 35
    },
    "colab_type": "code",
    "id": "mXLR7OgiBZBz",
    "outputId": "998ffc72-2c94-4627-8b99-30ffb06bf746"
   },
   "outputs": [
    {
     "name": "stdout",
     "output_type": "stream",
     "text": [
      "('Polish', 7)\n"
     ]
    }
   ],
   "source": [
    "def categoryFromOutput(output):\n",
    "    top_n, top_i = output.topk(1)\n",
    "    category_i = top_i[0].item()\n",
    "    return all_categories[category_i], category_i\n",
    "\n",
    "print(categoryFromOutput(output))"
   ]
  },
  {
   "cell_type": "code",
   "execution_count": 15,
   "metadata": {
    "colab": {
     "base_uri": "https://localhost:8080/",
     "height": 197
    },
    "colab_type": "code",
    "id": "Z_5xsUTzBY--",
    "outputId": "b967678e-c13d-4e1b-9e6d-ef691deed9db"
   },
   "outputs": [
    {
     "name": "stdout",
     "output_type": "stream",
     "text": [
      "category = Irish / line = Naomhan\n",
      "category = Irish / line = Treasach\n",
      "category = Japanese / line = Yamamoto\n",
      "category = Greek / line = Maneates\n",
      "category = Vietnamese / line = Duong\n",
      "category = Russian / line = Javoronok\n",
      "category = English / line = Eley\n",
      "category = Scottish / line = Ferguson\n",
      "category = German / line = Kruse\n",
      "category = French / line = Sauveterre\n"
     ]
    }
   ],
   "source": [
    "import random\n",
    "\n",
    "def randomChoice(l):\n",
    "    return l[random.randint(0, len(l) - 1)]\n",
    "\n",
    "def randomTrainingExample():\n",
    "    category = randomChoice(all_categories)\n",
    "    line = randomChoice(category_lines[category])\n",
    "    category_tensor = torch.tensor([all_categories.index(category)], dtype=torch.long)\n",
    "    line_tensor = lineToTensor(line)\n",
    "    return category, line, category_tensor, line_tensor\n",
    "\n",
    "for i in range(10):\n",
    "    category, line, category_tensor, line_tensor = randomTrainingExample()\n",
    "    print('category =', category, '/ line =', line)"
   ]
  },
  {
   "cell_type": "code",
   "execution_count": 38,
   "metadata": {
    "colab": {},
    "colab_type": "code",
    "id": "3P7RIcyABY9E"
   },
   "outputs": [],
   "source": [
    "criterion = nn.NLLLoss()"
   ]
  },
  {
   "cell_type": "code",
   "execution_count": 39,
   "metadata": {
    "colab": {},
    "colab_type": "code",
    "id": "U0xatrRIi8AV"
   },
   "outputs": [],
   "source": [
    "learning_rate = 0.005 # If you set this too high, it might explode. If too low, it might not learn\n",
    "\n",
    "def train(category_tensor, line_tensor):\n",
    "    hidden = rnn.initHidden()\n",
    "\n",
    "    rnn.zero_grad()\n",
    "\n",
    "    for i in range(line_tensor.size()[0]):\n",
    "        output, hidden = rnn(line_tensor[i], hidden)\n",
    "\n",
    "    loss = criterion(output, category_tensor)\n",
    "    loss.backward()\n",
    "\n",
    "   \n",
    "    for p in rnn.parameters():\n",
    "        p.data.add_(-learning_rate, p.grad.data)\n",
    "\n",
    "    return output, loss.item()"
   ]
  },
  {
   "cell_type": "code",
   "execution_count": 40,
   "metadata": {
    "colab": {
     "base_uri": "https://localhost:8080/",
     "height": 377
    },
    "colab_type": "code",
    "id": "PHMT5eJwBYqr",
    "outputId": "bbbead94-b674-4ab1-9ef8-0cce74c0539a"
   },
   "outputs": [
    {
     "name": "stdout",
     "output_type": "stream",
     "text": [
      "5000 5% (2.193427562713623)  Havroshkin / Greek ✗ (Russian)\n",
      "10000 10% (0.8114324808120728)  Garofalis / Greek ✓\n",
      "15000 15% (2.3954954147338867)  Tosi / Korean ✗ (Italian)\n",
      "20000 20% (0.977168619632721)  Tze / Chinese ✓\n",
      "25000 25% (1.7284306287765503)  Doyle / Irish ✓\n",
      "30000 30% (0.9015117883682251)  Schwarzenegger / Dutch ✗ (German)\n",
      "35000 35% (2.1742377281188965)  Abreu / Dutch ✗ (Portuguese)\n",
      "40000 40% (1.9753971099853516)  Zavala / Italian ✗ (Spanish)\n",
      "45000 45% (0.35565072298049927)  Samaha / Arabic ✓\n",
      "50000 50% (1.5931611061096191)  Vlasek / Polish ✗ (Czech)\n",
      "55000 55% (5.699963092803955)  Twigg / Chinese ✗ (English)\n",
      "60000 60% (2.09792423248291)  Vykruta / Japanese ✗ (Czech)\n",
      "65000 65% (0.4028301239013672)  Ferro / Portuguese ✓\n",
      "70000 70% (1.6772114038467407)  Kvasnicka / Polish ✗ (Czech)\n",
      "75000 75% (0.37365856766700745)  So / Korean ✓\n",
      "80000 80% (1.8588064908981323)  Beringer / French ✗ (German)\n",
      "85000 85% (0.6250619292259216)  Vega / Spanish ✓\n",
      "90000 90% (2.554600715637207)  Habin / Arabic ✗ (Russian)\n",
      "95000 95% (1.826252818107605)  Belo / Spanish ✗ (Portuguese)\n",
      "100000 100% (0.9441243410110474)  Ryu / Korean ✓\n"
     ]
    }
   ],
   "source": [
    "n_iters = 100000\n",
    "print_every = 5000\n",
    "plot_every = 1000\n",
    "\n",
    "\n",
    "current_loss = 0\n",
    "all_losses = []\n",
    "\n",
    "for iter in range(1, n_iters + 1):\n",
    "    category, line, category_tensor, line_tensor = randomTrainingExample()\n",
    "    output, loss = train(category_tensor, line_tensor)\n",
    "    current_loss += loss\n",
    "\n",
    "   \n",
    "    if iter % print_every == 0:\n",
    "        guess, guess_i = categoryFromOutput(output)\n",
    "        correct = '✓' if guess == category else '✗ (%s)' % category\n",
    "        print('%d %d%% (%s)  %s / %s %s' % (iter, iter / n_iters * 100, loss, line, guess, correct))\n",
    "\n",
    "    \n",
    "    if iter % plot_every == 0:\n",
    "        all_losses.append(current_loss / plot_every)\n",
    "        current_loss = 0"
   ]
  },
  {
   "cell_type": "code",
   "execution_count": 41,
   "metadata": {
    "colab": {
     "base_uri": "https://localhost:8080/",
     "height": 283
    },
    "colab_type": "code",
    "id": "shq39RqFBYoy",
    "outputId": "bd5d5314-9032-499f-de9d-d285e772c4e9"
   },
   "outputs": [
    {
     "data": {
      "text/plain": [
       "[<matplotlib.lines.Line2D at 0x7f448809d908>]"
      ]
     },
     "execution_count": 41,
     "metadata": {
      "tags": []
     },
     "output_type": "execute_result"
    },
    {
     "data": {
      "image/png": "[encoded data removed]",
      "text/plain": [
       "<Figure size 432x288 with 1 Axes>"
      ]
     },
     "metadata": {
      "needs_background": "light",
      "tags": []
     },
     "output_type": "display_data"
    }
   ],
   "source": [
    "import matplotlib.pyplot as plt\n",
    "import matplotlib.ticker as ticker\n",
    "\n",
    "plt.figure()\n",
    "plt.plot(all_losses)"
   ]
  },
  {
   "cell_type": "code",
   "execution_count": 42,
   "metadata": {
    "colab": {
     "base_uri": "https://localhost:8080/",
     "height": 320
    },
    "colab_type": "code",
    "id": "RMRRbpHri8Al",
    "outputId": "0ad89880-110c-4e5b-82d8-fbba6254077c"
   },
   "outputs": [
    {
     "data": {
      "image/png": "[encoded data removed]",
      "text/plain": [
       "<Figure size 432x288 with 2 Axes>"
      ]
     },
     "metadata": {
      "needs_background": "light",
      "tags": []
     },
     "output_type": "display_data"
    }
   ],
   "source": [
    "confusion = torch.zeros(n_categories, n_categories)\n",
    "n_confusion = 10000\n",
    "\n",
    "def evaluate(line_tensor):\n",
    "    hidden = rnn.initHidden()\n",
    "\n",
    "    for i in range(line_tensor.size()[0]):\n",
    "        output, hidden = rnn(line_tensor[i], hidden)\n",
    "\n",
    "    return output\n",
    "\n",
    "for i in range(n_confusion):\n",
    "    category, line, category_tensor, line_tensor = randomTrainingExample()\n",
    "    output = evaluate(line_tensor)\n",
    "    guess, guess_i = categoryFromOutput(output)\n",
    "    category_i = all_categories.index(category)\n",
    "    confusion[category_i][guess_i] += 1\n",
    "\n",
    "\n",
    "for i in range(n_categories):\n",
    "    confusion[i] = confusion[i] / confusion[i].sum()\n",
    "\n",
    "\n",
    "fig = plt.figure()\n",
    "ax = fig.add_subplot(111)\n",
    "cax = ax.matshow(confusion.numpy())\n",
    "fig.colorbar(cax)\n",
    "\n",
    "\n",
    "ax.set_xticklabels([''] + all_categories, rotation=90)\n",
    "ax.set_yticklabels([''] + all_categories)\n",
    "\n",
    "ax.xaxis.set_major_locator(ticker.MultipleLocator(1))\n",
    "ax.yaxis.set_major_locator(ticker.MultipleLocator(1))\n",
    "\n",
    "plt.show()"
   ]
  },
  {
   "cell_type": "code",
   "execution_count": 43,
   "metadata": {
    "colab": {
     "base_uri": "https://localhost:8080/",
     "height": 287
    },
    "colab_type": "code",
    "id": "VGbpXCHyBYkt",
    "outputId": "901ca4d4-7dc6-49d9-8450-fe39b55697dc"
   },
   "outputs": [
    {
     "name": "stdout",
     "output_type": "stream",
     "text": [
      "\n",
      "> Dovesky\n",
      "(-0.81) Czech\n",
      "(-0.97) Russian\n",
      "(-2.89) Polish\n",
      "\n",
      "> Jackson\n",
      "(-0.59) Scottish\n",
      "(-1.81) Russian\n",
      "(-2.12) English\n",
      "\n",
      "> Satoshi\n",
      "(-0.96) Italian\n",
      "(-1.54) Portuguese\n",
      "(-1.93) Japanese\n"
     ]
    }
   ],
   "source": [
    "def predict(input_line, n_predictions=3):\n",
    "    print('\\n> %s' % input_line)\n",
    "    with torch.no_grad():\n",
    "        output = evaluate(lineToTensor(input_line))\n",
    "\n",
    "        # Get top N categories\n",
    "        topv, topi = output.topk(n_predictions, 1, True)\n",
    "        predictions = []\n",
    "\n",
    "        for i in range(n_predictions):\n",
    "            value = topv[0][i].item()\n",
    "            category_index = topi[0][i].item()\n",
    "            print('(%.2f) %s' % (value, all_categories[category_index]))\n",
    "            predictions.append([value, all_categories[category_index]])\n",
    "\n",
    "predict('Dovesky')\n",
    "predict('Jackson')\n",
    "predict('Satoshi')"
   ]
  },
  {
   "cell_type": "markdown",
   "metadata": {
    "colab_type": "text",
    "id": "yGhPofgx7LMI"
   },
   "source": [
    "### 1. 尝试在我们的RNN模型中添加更多layers，然后观察Loss变化"
   ]
  },
  {
   "cell_type": "code",
   "execution_count": 44,
   "metadata": {
    "colab": {},
    "colab_type": "code",
    "id": "9s3BA9BgBYam"
   },
   "outputs": [],
   "source": [
    "#add linear layers\n",
    "import torch.nn as nn\n",
    "\n",
    "class RNN(nn.Module):\n",
    "    def __init__(self, input_size, hidden_size, output_size):\n",
    "        super(RNN, self).__init__()\n",
    "\n",
    "        self.hidden_size = hidden_size\n",
    "\n",
    "        self.i2h = nn.Sequential(\n",
    "            nn.Linear(input_size + hidden_size, hidden_size),\n",
    "            nn.Linear(hidden_size, hidden_size),\n",
    "            nn.ReLU()\n",
    "        )\n",
    "        self.i2o = nn.Linear(input_size + hidden_size, output_size)\n",
    "        self.softmax = nn.LogSoftmax(dim=1)\n",
    "\n",
    "    def forward(self, input, hidden):\n",
    "        combined = torch.cat((input, hidden), 1)\n",
    "        hidden = self.i2h(combined)\n",
    "        output = self.i2o(combined)\n",
    "        output = self.softmax(output)\n",
    "        return output, hidden\n",
    "\n",
    "    def initHidden(self):\n",
    "        return torch.zeros(1, self.hidden_size)\n",
    "\n",
    "n_hidden = 128\n",
    "rnn = RNN(n_letters, n_hidden, n_categories)"
   ]
  },
  {
   "cell_type": "code",
   "execution_count": 45,
   "metadata": {
    "colab": {
     "base_uri": "https://localhost:8080/",
     "height": 91
    },
    "colab_type": "code",
    "id": "5QneojbZBYYn",
    "outputId": "a15ace14-8891-44b5-d3a9-3c099b837966"
   },
   "outputs": [
    {
     "name": "stdout",
     "output_type": "stream",
     "text": [
      "tensor([[-2.8585, -2.9187, -2.9025, -2.9171, -2.9672, -2.9171, -2.9010, -2.7754,\n",
      "         -2.7834, -2.9476, -2.8782, -2.8917, -2.8041, -2.9062, -2.8850, -2.9593,\n",
      "         -2.9915, -2.8531]], grad_fn=<LogSoftmaxBackward>)\n"
     ]
    }
   ],
   "source": [
    "input = lineToTensor('Albert')\n",
    "hidden = torch.zeros(1, n_hidden)\n",
    "\n",
    "output, next_hidden = rnn(input[0], hidden)\n",
    "print(output)"
   ]
  },
  {
   "cell_type": "code",
   "execution_count": 46,
   "metadata": {
    "colab": {
     "base_uri": "https://localhost:8080/",
     "height": 35
    },
    "colab_type": "code",
    "id": "AWeKtdrDBYP5",
    "outputId": "e71a7ab5-a422-4c97-d4fe-77f77d70123a"
   },
   "outputs": [
    {
     "name": "stdout",
     "output_type": "stream",
     "text": [
      "('Polish', 7)\n"
     ]
    }
   ],
   "source": [
    "def categoryFromOutput(output):\n",
    "    top_n, top_i = output.topk(1)\n",
    "    category_i = top_i[0].item()\n",
    "    return all_categories[category_i], category_i\n",
    "\n",
    "print(categoryFromOutput(output))"
   ]
  },
  {
   "cell_type": "code",
   "execution_count": 47,
   "metadata": {
    "colab": {
     "base_uri": "https://localhost:8080/",
     "height": 197
    },
    "colab_type": "code",
    "id": "Q6xzENBqBYNZ",
    "outputId": "2dd1d407-9d33-46b1-ae50-6fd2d585bf73"
   },
   "outputs": [
    {
     "name": "stdout",
     "output_type": "stream",
     "text": [
      "category = Korean / line = Hyun \n",
      "category = Vietnamese / line = Quang\n",
      "category = Irish / line = Simon\n",
      "category = Scottish / line = Mckenzie\n",
      "category = Czech / line = Borovka\n",
      "category = Irish / line = Cearbhall\n",
      "category = German / line = Pawlitzki\n",
      "category = Korean / line = Jong\n",
      "category = Italian / line = Napoletani\n",
      "category = French / line = Favager\n"
     ]
    }
   ],
   "source": [
    "import random\n",
    "\n",
    "def randomChoice(l):\n",
    "    return l[random.randint(0, len(l) - 1)]\n",
    "\n",
    "def randomTrainingExample():\n",
    "    category = randomChoice(all_categories)\n",
    "    line = randomChoice(category_lines[category])\n",
    "    category_tensor = torch.tensor([all_categories.index(category)], dtype=torch.long)\n",
    "    line_tensor = lineToTensor(line)\n",
    "    return category, line, category_tensor, line_tensor\n",
    "\n",
    "for i in range(10):\n",
    "    category, line, category_tensor, line_tensor = randomTrainingExample()\n",
    "    print('category =', category, '/ line =', line)"
   ]
  },
  {
   "cell_type": "code",
   "execution_count": 48,
   "metadata": {
    "colab": {},
    "colab_type": "code",
    "id": "9jONNO_dFzey"
   },
   "outputs": [],
   "source": [
    "criterion = nn.NLLLoss()"
   ]
  },
  {
   "cell_type": "code",
   "execution_count": 49,
   "metadata": {
    "colab": {},
    "colab_type": "code",
    "id": "9VgYcobHF4rH"
   },
   "outputs": [],
   "source": [
    "learning_rate = 0.005 \n",
    "\n",
    "def train(category_tensor, line_tensor):\n",
    "    hidden = rnn.initHidden()\n",
    "\n",
    "    rnn.zero_grad()\n",
    "\n",
    "    for i in range(line_tensor.size()[0]):\n",
    "        output, hidden = rnn(line_tensor[i], hidden)\n",
    "\n",
    "    loss = criterion(output, category_tensor)\n",
    "    loss.backward()\n",
    "\n",
    "    for p in rnn.parameters():\n",
    "        p.data.add_(-learning_rate, p.grad.data)\n",
    "\n",
    "    return output, loss.item()"
   ]
  },
  {
   "cell_type": "code",
   "execution_count": 50,
   "metadata": {
    "colab": {
     "base_uri": "https://localhost:8080/",
     "height": 397
    },
    "colab_type": "code",
    "id": "ZBpx1XNmF8lX",
    "outputId": "b63a4ec0-e68f-4b19-b1f5-0551e2a21b8c"
   },
   "outputs": [
    {
     "name": "stdout",
     "output_type": "stream",
     "text": [
      "5000 5% (2.837373733520508)  Chaput / English ✗ (French)\n",
      "10000 10% (2.4057719707489014)  De santigo / Portuguese ✓\n",
      "15000 15% (2.5421054363250732)  Clegg / German ✗ (English)\n",
      "20000 20% (2.9963221549987793)  Rose / English ✗ (German)\n",
      "25000 25% (1.9947108030319214)  Larue / English ✗ (French)\n",
      "30000 30% (1.4469538927078247)  Damhan / Arabic ✗ (Irish)\n",
      "35000 35% (3.56813383102417)  Gentile / French ✗ (Italian)\n",
      "40000 40% (1.1903797388076782)  Slusarski / Japanese ✗ (Polish)\n",
      "45000 45% (1.8827481269836426)  Franco / Italian ✗ (Portuguese)\n",
      "50000 50% (1.580945372581482)  Rim / Korean ✓\n",
      "55000 55% (0.18415474891662598)  Funakoshi / Japanese ✓\n",
      "60000 60% (4.15769100189209)  Hanania / Russian ✗ (Arabic)\n",
      "65000 65% (2.1324429512023926)  Pierce / French ✗ (English)\n",
      "70000 70% (4.522136211395264)  Rompa / Portuguese ✗ (Dutch)\n",
      "75000 75% (1.1389333009719849)  Laberenz / Spanish ✗ (German)\n",
      "80000 80% (2.5997796058654785)  Makushok / Japanese ✗ (Russian)\n",
      "85000 85% (4.572159767150879)  Desrosiers / Dutch ✗ (French)\n",
      "90000 90% (0.3832828998565674)  Gniewek / Polish ✓\n",
      "95000 95% (0.04705337807536125)  Avvakumov / Russian ✓\n",
      "100000 100% (2.4108331203460693)  Freeburn / Dutch ✗ (English)\n"
     ]
    }
   ],
   "source": [
    "n_iters = 100000\n",
    "print_every = 5000\n",
    "plot_every = 1000\n",
    "\n",
    "\n",
    "current_loss = 0\n",
    "all_losses = []\n",
    "\n",
    "for iter in range(1, n_iters + 1):\n",
    "    category, line, category_tensor, line_tensor = randomTrainingExample()\n",
    "    output, loss = train(category_tensor, line_tensor)\n",
    "    current_loss += loss\n",
    "\n",
    "    \n",
    "    if iter % print_every == 0:\n",
    "        guess, guess_i = categoryFromOutput(output)\n",
    "        correct = '✓' if guess == category else '✗ (%s)' % category\n",
    "        print('%d %d%% (%s)  %s / %s %s' % (iter, iter / n_iters * 100, loss, line, guess, correct))\n",
    "\n",
    "    \n",
    "    if iter % plot_every == 0:\n",
    "        all_losses.append(current_loss / plot_every)\n",
    "        current_loss = 0"
   ]
  },
  {
   "cell_type": "code",
   "execution_count": 51,
   "metadata": {
    "colab": {
     "base_uri": "https://localhost:8080/",
     "height": 283
    },
    "colab_type": "code",
    "id": "wyBM6BrdFNeY",
    "outputId": "0822b4a0-d38d-4640-df12-90fd7d39173f"
   },
   "outputs": [
    {
     "data": {
      "text/plain": [
       "[<matplotlib.lines.Line2D at 0x7f4487f0f208>]"
      ]
     },
     "execution_count": 51,
     "metadata": {
      "tags": []
     },
     "output_type": "execute_result"
    },
    {
     "data": {
      "image/png": "[encoded data removed]",
      "text/plain": [
       "<Figure size 432x288 with 1 Axes>"
      ]
     },
     "metadata": {
      "needs_background": "light",
      "tags": []
     },
     "output_type": "display_data"
    }
   ],
   "source": [
    "import matplotlib.pyplot as plt\n",
    "import matplotlib.ticker as ticker\n",
    "\n",
    "plt.figure()\n",
    "plt.plot(all_losses)"
   ]
  },
  {
   "cell_type": "code",
   "execution_count": 52,
   "metadata": {
    "colab": {
     "base_uri": "https://localhost:8080/",
     "height": 320
    },
    "colab_type": "code",
    "id": "bq_MoQ41HGLj",
    "outputId": "41f15f82-2511-451e-823c-5dbadf8a960c"
   },
   "outputs": [
    {
     "data": {
      "image/png": "[encoded data removed]",
      "text/plain": [
       "<Figure size 432x288 with 2 Axes>"
      ]
     },
     "metadata": {
      "needs_background": "light",
      "tags": []
     },
     "output_type": "display_data"
    }
   ],
   "source": [
    "confusion = torch.zeros(n_categories, n_categories)\n",
    "n_confusion = 10000\n",
    "\n",
    "def evaluate(line_tensor):\n",
    "    hidden = rnn.initHidden()\n",
    "\n",
    "    for i in range(line_tensor.size()[0]):\n",
    "        output, hidden = rnn(line_tensor[i], hidden)\n",
    "\n",
    "    return output\n",
    "\n",
    "for i in range(n_confusion):\n",
    "    category, line, category_tensor, line_tensor = randomTrainingExample()\n",
    "    output = evaluate(line_tensor)\n",
    "    guess, guess_i = categoryFromOutput(output)\n",
    "    category_i = all_categories.index(category)\n",
    "    confusion[category_i][guess_i] += 1\n",
    "\n",
    "\n",
    "for i in range(n_categories):\n",
    "    confusion[i] = confusion[i] / confusion[i].sum()\n",
    "\n",
    "fig = plt.figure()\n",
    "ax = fig.add_subplot(111)\n",
    "cax = ax.matshow(confusion.numpy())\n",
    "fig.colorbar(cax)\n",
    "\n",
    "\n",
    "ax.set_xticklabels([''] + all_categories, rotation=90)\n",
    "ax.set_yticklabels([''] + all_categories)\n",
    "\n",
    "ax.xaxis.set_major_locator(ticker.MultipleLocator(1))\n",
    "ax.yaxis.set_major_locator(ticker.MultipleLocator(1))\n",
    "\n",
    "plt.show()"
   ]
  },
  {
   "cell_type": "code",
   "execution_count": 53,
   "metadata": {
    "colab": {
     "base_uri": "https://localhost:8080/",
     "height": 287
    },
    "colab_type": "code",
    "id": "GEUkTqtHGBSi",
    "outputId": "cc4879ff-ed69-4d2e-c07f-2724f2e4c0a2"
   },
   "outputs": [
    {
     "name": "stdout",
     "output_type": "stream",
     "text": [
      "\n",
      "> Dovesky\n",
      "(-0.55) Russian\n",
      "(-1.54) Czech\n",
      "(-2.31) Polish\n",
      "\n",
      "> Smith\n",
      "(-0.29) Scottish\n",
      "(-2.41) German\n",
      "(-3.45) English\n",
      "\n",
      "> Satoshi\n",
      "(-1.26) Italian\n",
      "(-1.36) Japanese\n",
      "(-1.90) Polish\n"
     ]
    }
   ],
   "source": [
    "def predict(input_line, n_predictions=3):\n",
    "    print('\\n> %s' % input_line)\n",
    "    with torch.no_grad():\n",
    "        output = evaluate(lineToTensor(input_line))\n",
    "\n",
    "        # Get top N categories\n",
    "        topv, topi = output.topk(n_predictions, 1, True)\n",
    "        predictions = []\n",
    "\n",
    "        for i in range(n_predictions):\n",
    "            value = topv[0][i].item()\n",
    "            category_index = topi[0][i].item()\n",
    "            print('(%.2f) %s' % (value, all_categories[category_index]))\n",
    "            predictions.append([value, all_categories[category_index]])\n",
    "\n",
    "predict('Dovesky')\n",
    "predict('Smith')\n",
    "predict('Satoshi')"
   ]
  },
  {
   "cell_type": "markdown",
   "metadata": {
    "colab_type": "text",
    "id": "YFx60Yg47LMI"
   },
   "source": [
    "### 2. 将原始的RNN模型改成nn.LSTM和nn.GRU， 并且改变 `n_iters = 1000 ` 这个值，观察其变化"
   ]
  },
  {
   "cell_type": "code",
   "execution_count": 54,
   "metadata": {
    "colab": {},
    "colab_type": "code",
    "id": "5sF0XkoHHwWn"
   },
   "outputs": [],
   "source": [
    "import torch.nn as nn\n",
    "\n",
    "class LSTM(nn.Module):\n",
    "    def __init__(self, input_size, hidden_size, output_size):\n",
    "        super(LSTM, self).__init__()\n",
    "\n",
    "        self.hidden_size = hidden_size\n",
    "\n",
    "        self.i2h = nn.LSTM(input_size, hidden_size)\n",
    "        self.i2o = nn.Linear(hidden_size, output_size)\n",
    "        self.softmax = nn.LogSoftmax(dim=1)\n",
    "\n",
    "    def forward(self, input):\n",
    "        output, hidden = self.i2h(input)\n",
    "        output = self.i2o(output[-1])\n",
    "        output = self.softmax(output)\n",
    "        return output, hidden\n",
    "\n",
    "    def initHidden(self):\n",
    "        return torch.zeros(1, 1, self.hidden_size)\n",
    "        \n",
    "n_hidden = 128\n",
    "model_2 = LSTM(n_letters, n_hidden, 18)"
   ]
  },
  {
   "cell_type": "code",
   "execution_count": 55,
   "metadata": {
    "colab": {
     "base_uri": "https://localhost:8080/",
     "height": 91
    },
    "colab_type": "code",
    "id": "O3IwosJXIJrm",
    "outputId": "71d32d01-b6a6-4e01-fbdd-95862a25a936"
   },
   "outputs": [
    {
     "name": "stdout",
     "output_type": "stream",
     "text": [
      "tensor([[-2.9830, -2.8092, -2.8752, -2.9148, -2.8301, -2.9864, -2.9587, -2.9817,\n",
      "         -2.8178, -2.8190, -2.8564, -2.8529, -2.8529, -2.9273, -2.8655, -2.8634,\n",
      "         -2.9460, -2.9178]], grad_fn=<LogSoftmaxBackward>)\n"
     ]
    }
   ],
   "source": [
    "input = lineToTensor('Albert')\n",
    "hidden = torch.zeros(1, 1, n_hidden)\n",
    "\n",
    "output, next_hidden = model_2(input)\n",
    "print(output)"
   ]
  },
  {
   "cell_type": "code",
   "execution_count": 56,
   "metadata": {
    "colab": {
     "base_uri": "https://localhost:8080/",
     "height": 35
    },
    "colab_type": "code",
    "id": "m6xEAixWITB9",
    "outputId": "45dc3157-7950-49f5-f5ef-f48c332392b7"
   },
   "outputs": [
    {
     "name": "stdout",
     "output_type": "stream",
     "text": [
      "('German', 1)\n"
     ]
    }
   ],
   "source": [
    "def categoryFromOutput(output):\n",
    "    top_n, top_i = output.topk(1)\n",
    "    category_i = top_i[0].item()\n",
    "    return all_categories[category_i], category_i\n",
    "\n",
    "print(categoryFromOutput(output))"
   ]
  },
  {
   "cell_type": "code",
   "execution_count": 57,
   "metadata": {
    "colab": {
     "base_uri": "https://localhost:8080/",
     "height": 197
    },
    "colab_type": "code",
    "id": "G0HkfhhPGZDJ",
    "outputId": "678fbde9-5df8-4a2e-ab9b-fd4c14abf457"
   },
   "outputs": [
    {
     "name": "stdout",
     "output_type": "stream",
     "text": [
      "category = English / line = Hayward\n",
      "category = Chinese / line = Sun\n",
      "category = Portuguese / line = Belo\n",
      "category = Irish / line = Carey\n",
      "category = Scottish / line = Allan\n",
      "category = Russian / line = Belousko\n",
      "category = Spanish / line = Duarte\n",
      "category = English / line = Elmhirst\n",
      "category = Scottish / line = Johnston\n",
      "category = Chinese / line = Lim\n"
     ]
    }
   ],
   "source": [
    "import random\n",
    "\n",
    "def randomChoice(l):\n",
    "    return l[random.randint(0, len(l) - 1)]\n",
    "\n",
    "def randomTrainingExample():\n",
    "    category = randomChoice(all_categories)\n",
    "    line = randomChoice(category_lines[category])\n",
    "    category_tensor = torch.tensor([all_categories.index(category)], dtype=torch.long)\n",
    "    line_tensor = lineToTensor(line)\n",
    "    return category, line, category_tensor, line_tensor\n",
    "\n",
    "for i in range(10):\n",
    "    category, line, category_tensor, line_tensor = randomTrainingExample()\n",
    "    print('category =', category, '/ line =', line)"
   ]
  },
  {
   "cell_type": "markdown",
   "metadata": {
    "colab_type": "text",
    "id": "pm2JCspXBKqw"
   },
   "source": [
    "### 4. Pytorch里边常用nn.NLLoss来代替crossentropy，将criterion改为nn.NLLoss，观察变化"
   ]
  },
  {
   "cell_type": "code",
   "execution_count": 58,
   "metadata": {
    "colab": {},
    "colab_type": "code",
    "id": "kCyQPPZaGY_t"
   },
   "outputs": [],
   "source": [
    "criterion = nn.NLLLoss()"
   ]
  },
  {
   "cell_type": "code",
   "execution_count": 59,
   "metadata": {
    "colab": {},
    "colab_type": "code",
    "id": "C6wvwi7dGY7p"
   },
   "outputs": [],
   "source": [
    "learning_rate = 0.005 \n",
    "\n",
    "def train(category_tensor, line_tensor):\n",
    "    hidden = model_2.initHidden()\n",
    "\n",
    "    model_2.zero_grad()\n",
    "\n",
    "    \n",
    "    output, hidden = model_2(line_tensor)\n",
    "\n",
    "    loss = criterion(output, category_tensor)\n",
    "    loss.backward()\n",
    "\n",
    "    for p in model_2.parameters():\n",
    "        p.data.add_(-learning_rate, p.grad.data)\n",
    "\n",
    "    return output, loss.item()"
   ]
  },
  {
   "cell_type": "code",
   "execution_count": 60,
   "metadata": {
    "colab": {
     "base_uri": "https://localhost:8080/",
     "height": 397
    },
    "colab_type": "code",
    "id": "e81szxwmGo1S",
    "outputId": "0125bfd3-baaf-4ae8-d502-26ff7f5c08a8"
   },
   "outputs": [
    {
     "name": "stdout",
     "output_type": "stream",
     "text": [
      "5000 5% (2.9352269172668457)  Inoue / Polish ✗ (Japanese)\n",
      "10000 10% (2.8315157890319824)  O'Grady / Arabic ✗ (Irish)\n",
      "15000 15% (2.9634246826171875)  Glockl / Greek ✗ (Czech)\n",
      "20000 20% (1.994674563407898)  Belesis / Greek ✓\n",
      "25000 25% (2.9417099952697754)  Von brandt / Greek ✗ (German)\n",
      "30000 30% (1.6987518072128296)  Pak / Chinese ✗ (Korean)\n",
      "35000 35% (4.034075736999512)  Shirane / French ✗ (Japanese)\n",
      "40000 40% (2.643242359161377)  Miller / German ✗ (Scottish)\n",
      "45000 45% (3.2064061164855957)  Douglas / Greek ✗ (Scottish)\n",
      "50000 50% (1.248937726020813)  Chi / Vietnamese ✗ (Chinese)\n",
      "55000 55% (1.8479825258255005)  Robert / German ✗ (French)\n",
      "60000 60% (1.0203723907470703)  Chu / Vietnamese ✓\n",
      "65000 65% (1.3108636140823364)  O'Neill / Irish ✓\n",
      "70000 70% (1.3543548583984375)  Schmidt / German ✓\n",
      "75000 75% (1.002565622329712)  Lim  / Korean ✓\n",
      "80000 80% (2.090017795562744)  Heidl / English ✗ (Czech)\n",
      "85000 85% (0.7573952674865723)  Tieu / Vietnamese ✓\n",
      "90000 90% (3.8214950561523438)  Chmiel / English ✗ (Polish)\n",
      "95000 95% (0.24034026265144348)  Macghabhann / Irish ✓\n",
      "100000 100% (1.5711416006088257)  Rose / French ✓\n"
     ]
    }
   ],
   "source": [
    "n_iters = 100000\n",
    "print_every = 5000\n",
    "plot_every = 1000\n",
    "\n",
    "\n",
    "current_loss = 0\n",
    "all_losses = []\n",
    "\n",
    "for iter in range(1, n_iters + 1):\n",
    "    category, line, category_tensor, line_tensor = randomTrainingExample()\n",
    "    output, loss = train(category_tensor, line_tensor)\n",
    "    current_loss += loss\n",
    "\n",
    "    \n",
    "    if iter % print_every == 0:\n",
    "        guess, guess_i = categoryFromOutput(output)\n",
    "        correct = '✓' if guess == category else '✗ (%s)' % category\n",
    "        print('%d %d%% (%s)  %s / %s %s' % (iter, iter / n_iters * 100, loss, line, guess, correct))\n",
    "\n",
    "    \n",
    "    if iter % plot_every == 0:\n",
    "        all_losses.append(current_loss / plot_every)\n",
    "        current_loss = 0"
   ]
  },
  {
   "cell_type": "code",
   "execution_count": 61,
   "metadata": {
    "colab": {
     "base_uri": "https://localhost:8080/",
     "height": 283
    },
    "colab_type": "code",
    "id": "9n7Ur5YsGY5B",
    "outputId": "9957e380-9a03-4030-838b-085d80db95b1"
   },
   "outputs": [
    {
     "data": {
      "text/plain": [
       "[<matplotlib.lines.Line2D at 0x7f4487d710f0>]"
      ]
     },
     "execution_count": 61,
     "metadata": {
      "tags": []
     },
     "output_type": "execute_result"
    },
    {
     "data": {
      "image/png": "[encoded data removed]",
      "text/plain": [
       "<Figure size 432x288 with 1 Axes>"
      ]
     },
     "metadata": {
      "needs_background": "light",
      "tags": []
     },
     "output_type": "display_data"
    }
   ],
   "source": [
    "import matplotlib.pyplot as plt\n",
    "import matplotlib.ticker as ticker\n",
    "\n",
    "plt.figure()\n",
    "plt.plot(all_losses)"
   ]
  },
  {
   "cell_type": "code",
   "execution_count": 62,
   "metadata": {
    "colab": {
     "base_uri": "https://localhost:8080/",
     "height": 320
    },
    "colab_type": "code",
    "id": "u2kMnOuXGt6D",
    "outputId": "170a25d3-0e4f-4705-908e-4a82a21754c8"
   },
   "outputs": [
    {
     "data": {
      "image/png": "[encoded data removed]",
      "text/plain": [
       "<Figure size 432x288 with 2 Axes>"
      ]
     },
     "metadata": {
      "needs_background": "light",
      "tags": []
     },
     "output_type": "display_data"
    }
   ],
   "source": [
    "confusion = torch.zeros(n_categories, n_categories)\n",
    "n_confusion = 10000\n",
    "\n",
    "def evaluate(line_tensor):\n",
    "    hidden = rnn.initHidden()\n",
    "\n",
    "    for i in range(line_tensor.size()[0]):\n",
    "        output, hidden = rnn(line_tensor[i], hidden)\n",
    "\n",
    "    return output\n",
    "\n",
    "for i in range(n_confusion):\n",
    "    category, line, category_tensor, line_tensor = randomTrainingExample()\n",
    "    output = evaluate(line_tensor)\n",
    "    guess, guess_i = categoryFromOutput(output)\n",
    "    category_i = all_categories.index(category)\n",
    "    confusion[category_i][guess_i] += 1\n",
    "\n",
    "\n",
    "for i in range(n_categories):\n",
    "    confusion[i] = confusion[i] / confusion[i].sum()\n",
    "\n",
    "fig = plt.figure()\n",
    "ax = fig.add_subplot(111)\n",
    "cax = ax.matshow(confusion.numpy())\n",
    "fig.colorbar(cax)\n",
    "\n",
    "\n",
    "ax.set_xticklabels([''] + all_categories, rotation=90)\n",
    "ax.set_yticklabels([''] + all_categories)\n",
    "\n",
    "ax.xaxis.set_major_locator(ticker.MultipleLocator(1))\n",
    "ax.yaxis.set_major_locator(ticker.MultipleLocator(1))\n",
    "\n",
    "plt.show()\n"
   ]
  },
  {
   "cell_type": "markdown",
   "metadata": {
    "colab_type": "text",
    "id": "TeliyIWp7LMJ"
   },
   "source": [
    "### 3. 把该RNN模型变成多层RNN模型，观察Loss的变化"
   ]
  },
  {
   "cell_type": "code",
   "execution_count": 63,
   "metadata": {
    "colab": {},
    "colab_type": "code",
    "id": "NSCv-h1oH3UF"
   },
   "outputs": [],
   "source": [
    "#LSTM+RNN\n",
    "\n",
    "import torch.nn as nn\n",
    "\n",
    "class RNN_LSTM(nn.Module):\n",
    "    def __init__(self, input_size, hidden_size, output_size):\n",
    "        super(RNN_LSTM, self).__init__()\n",
    "\n",
    "        self.hidden_size = hidden_size\n",
    "\n",
    "        self.lstm = nn.LSTM(input_size, hidden_size)\n",
    "        self.rnn = nn.RNN(hidden_size, hidden_size)\n",
    "        self.linear = nn.Linear(hidden_size, output_size)\n",
    "        #self.softmax = nn.LogSoftmax(dim=1)\n",
    "\n",
    "    def forward(self, input):\n",
    "        output, hidden = self.lstm(input)\n",
    "        output, hidden = self.rnn(output, hidden[0])\n",
    "        output = self.linear(output[-1])\n",
    "        return output, hidden\n",
    "\n",
    "    def initHidden(self):\n",
    "        return torch.zeros(1, 1, self.hidden_size)\n",
    "\n",
    "n_hidden = 128\n",
    "model_3 = RNN_LSTM(n_letters, n_hidden, n_categories)"
   ]
  },
  {
   "cell_type": "code",
   "execution_count": 64,
   "metadata": {
    "colab": {
     "base_uri": "https://localhost:8080/",
     "height": 91
    },
    "colab_type": "code",
    "id": "8LvXcqWXH3Pw",
    "outputId": "110d2969-fc83-4235-a07e-15878c20400a"
   },
   "outputs": [
    {
     "name": "stdout",
     "output_type": "stream",
     "text": [
      "tensor([[-0.0542, -0.1112, -0.0833,  0.0950, -0.0642, -0.1920,  0.0527, -0.0077,\n",
      "         -0.0628,  0.0104, -0.0594,  0.0406, -0.0672, -0.0055, -0.1023, -0.0633,\n",
      "         -0.0724,  0.0860]], grad_fn=<AddmmBackward>)\n"
     ]
    }
   ],
   "source": [
    "input = lineToTensor('Albert')\n",
    "hidden = torch.zeros(1, 1, n_hidden)\n",
    "\n",
    "output, next_hidden = model_3(input)\n",
    "print(output)"
   ]
  },
  {
   "cell_type": "code",
   "execution_count": 65,
   "metadata": {
    "colab": {
     "base_uri": "https://localhost:8080/",
     "height": 35
    },
    "colab_type": "code",
    "id": "aIPxKc0LH3Ly",
    "outputId": "b5190745-1b6a-480d-c004-c6dc30ecddd1"
   },
   "outputs": [
    {
     "name": "stdout",
     "output_type": "stream",
     "text": [
      "('Irish', 3)\n"
     ]
    }
   ],
   "source": [
    "def categoryFromOutput(output):\n",
    "    top_n, top_i = output.topk(1)\n",
    "    category_i = top_i[0].item()\n",
    "    return all_categories[category_i], category_i\n",
    "\n",
    "print(categoryFromOutput(output))"
   ]
  },
  {
   "cell_type": "code",
   "execution_count": 66,
   "metadata": {
    "colab": {
     "base_uri": "https://localhost:8080/",
     "height": 197
    },
    "colab_type": "code",
    "id": "K40MGBYQIDU6",
    "outputId": "a53da4f8-ad9f-494a-ab4d-2437cf254928"
   },
   "outputs": [
    {
     "name": "stdout",
     "output_type": "stream",
     "text": [
      "category = Japanese / line = Takagawa\n",
      "category = Polish / line = Szweda\n",
      "category = English / line = Waller\n",
      "category = Vietnamese / line = Phi\n",
      "category = Irish / line = O'Keefe\n",
      "category = Arabic / line = Deeb\n",
      "category = Irish / line = Naoimhin\n",
      "category = Dutch / line = Rijnder\n",
      "category = French / line = Charpentier\n",
      "category = Dutch / line = Houten\n"
     ]
    }
   ],
   "source": [
    "import random\n",
    "\n",
    "def randomChoice(l):\n",
    "    return l[random.randint(0, len(l) - 1)]\n",
    "\n",
    "def randomTrainingExample():\n",
    "    category = randomChoice(all_categories)\n",
    "    line = randomChoice(category_lines[category])\n",
    "    category_tensor = torch.tensor([all_categories.index(category)], dtype=torch.long)\n",
    "    line_tensor = lineToTensor(line)\n",
    "    return category, line, category_tensor, line_tensor\n",
    "\n",
    "for i in range(10):\n",
    "    category, line, category_tensor, line_tensor = randomTrainingExample()\n",
    "    print('category =', category, '/ line =', line)"
   ]
  },
  {
   "cell_type": "code",
   "execution_count": 67,
   "metadata": {
    "colab": {},
    "colab_type": "code",
    "id": "tAxE7mgnIDSY"
   },
   "outputs": [],
   "source": [
    "criterion = nn.CrossEntropyLoss()\n",
    "#criterion = nn.NLLLoss()"
   ]
  },
  {
   "cell_type": "code",
   "execution_count": 68,
   "metadata": {
    "colab": {},
    "colab_type": "code",
    "id": "sIyQC6EvIMDs"
   },
   "outputs": [],
   "source": [
    "learning_rate = 0.005 \n",
    "\n",
    "def train(category_tensor, line_tensor):\n",
    "    hidden = model_3.initHidden()\n",
    "\n",
    "    model_3.zero_grad()\n",
    "\n",
    "    \n",
    "    output, hidden = model_3(line_tensor)\n",
    "\n",
    "    loss = criterion(output, category_tensor)\n",
    "    loss.backward()\n",
    "\n",
    "    for p in model_3.parameters():\n",
    "        p.data.add_(-learning_rate, p.grad.data)\n",
    "\n",
    "    return output, loss.item()"
   ]
  },
  {
   "cell_type": "code",
   "execution_count": 69,
   "metadata": {
    "colab": {
     "base_uri": "https://localhost:8080/",
     "height": 397
    },
    "colab_type": "code",
    "id": "Ewi33SA0IL_B",
    "outputId": "7945d710-8a68-4e8f-cfbc-a57ada96fe4f"
   },
   "outputs": [
    {
     "name": "stdout",
     "output_type": "stream",
     "text": [
      "5000 5% (3.123809814453125)  Geier / Arabic ✗ (German)\n",
      "10000 10% (3.1228160858154297)  Young / Arabic ✗ (Scottish)\n",
      "15000 15% (2.7205889225006104)  Mooney / Scottish ✗ (Irish)\n",
      "20000 20% (2.2411746978759766)  Oirschotten / Irish ✗ (Dutch)\n",
      "25000 25% (2.4015862941741943)  Zambrano / Japanese ✗ (Spanish)\n",
      "30000 30% (1.8161519765853882)  Lee / Chinese ✗ (Korean)\n",
      "35000 35% (0.6419191956520081)  Porokhov / Russian ✓\n",
      "40000 40% (2.0360474586486816)  Andel / German ✗ (Dutch)\n",
      "45000 45% (4.909980297088623)  Nemoto / Portuguese ✗ (Japanese)\n",
      "50000 50% (0.14998388290405273)  Agelakos / Greek ✓\n",
      "55000 55% (4.760387420654297)  Altena / Portuguese ✗ (Dutch)\n",
      "60000 60% (0.06287690997123718)  Pappayiorgas / Greek ✓\n",
      "65000 65% (0.9566289186477661)  Abbatantuono / Greek ✗ (Italian)\n",
      "70000 70% (0.8910706639289856)  Jeon / Korean ✓\n",
      "75000 75% (0.7708255648612976)  Tron / Vietnamese ✓\n",
      "80000 80% (5.082045555114746)  Zaloumi / Italian ✗ (Greek)\n",
      "85000 85% (0.5186841487884521)  Cablikova / Czech ✓\n",
      "90000 90% (0.0685751885175705)  Kunomasu / Japanese ✓\n",
      "95000 95% (0.43825721740722656)  Giordano / Italian ✓\n",
      "100000 100% (1.2560484409332275)  Jeong / Scottish ✗ (Korean)\n"
     ]
    }
   ],
   "source": [
    "n_iters = 100000\n",
    "print_every = 5000\n",
    "plot_every = 1000\n",
    "\n",
    "\n",
    "current_loss = 0\n",
    "all_losses = []\n",
    "\n",
    "for iter in range(1, n_iters + 1):\n",
    "    category, line, category_tensor, line_tensor = randomTrainingExample()\n",
    "    output, loss = train(category_tensor, line_tensor)\n",
    "    current_loss += loss\n",
    "\n",
    "    \n",
    "    if iter % print_every == 0:\n",
    "        guess, guess_i = categoryFromOutput(output)\n",
    "        correct = '✓' if guess == category else '✗ (%s)' % category\n",
    "        print('%d %d%% (%s)  %s / %s %s' % (iter, iter / n_iters * 100, loss, line, guess, correct))\n",
    "\n",
    "    \n",
    "    if iter % plot_every == 0:\n",
    "        all_losses.append(current_loss / plot_every)\n",
    "        current_loss = 0"
   ]
  },
  {
   "cell_type": "code",
   "execution_count": 70,
   "metadata": {
    "colab": {
     "base_uri": "https://localhost:8080/",
     "height": 299
    },
    "colab_type": "code",
    "id": "TViYAwqsIL6L",
    "outputId": "5da5f624-7878-4c6b-8a8d-7ba4d6ef2691"
   },
   "outputs": [
    {
     "data": {
      "text/plain": [
       "[<matplotlib.lines.Line2D at 0x7f44880e98d0>]"
      ]
     },
     "execution_count": 70,
     "metadata": {
      "tags": []
     },
     "output_type": "execute_result"
    },
    {
     "data": {
      "image/png": "[encoded data removed]",
      "text/plain": [
       "<Figure size 432x288 with 1 Axes>"
      ]
     },
     "metadata": {
      "needs_background": "light",
      "tags": []
     },
     "output_type": "display_data"
    }
   ],
   "source": [
    "import matplotlib.pyplot as plt\n",
    "import matplotlib.ticker as ticker\n",
    "\n",
    "plt.figure()\n",
    "plt.title('CrossEntropyLoss')\n",
    "plt.plot(all_losses)"
   ]
  },
  {
   "cell_type": "markdown",
   "metadata": {
    "colab_type": "text",
    "id": "c7Us3eQxRTWF"
   },
   "source": [
    "采用nn.NLLLoss的loss\n"
   ]
  },
  {
   "cell_type": "markdown",
   "metadata": {
    "colab_type": "text",
    "id": "bnaNcFp0WA4B"
   },
   "source": [
    "![image.png](data:image/png;base64,iVBORw0KGgoAAAANSUhEUgAAAogAAAGdCAYAAACRuoIPAAAgAElEQVR4Aeydd5CVZZr2d//6tvb/rU1Vu1u1W1tu7dbO6M4MBhQDIEpSBJRBEVEGE+IoooOKZOgm55yjgORM55xzzjnnHLm+uh7ntA3TDaebc7pPuN6qwzl9zvM+4Xe/NV5z3899P38FXSIgAiIgAiIgAiIgAiLQi8Bf9fqsjyIgAiIgAiIgAiIgAiIACUQ9BCIgAiIgAiIgAiIgAvcQkEC8B4f+EAEREAEREAEREAERkEDUMyACIiACIiACIiACInAPAQnEe3DoDxEQAREQAREQAREQAQlEPQMiIAIiIAIiIAIiIAL3EJBAvAeH/hABERABERABERABEZBA1DMgAiIgAiIgAiIgAiJwDwEJxHtw6A8REAEREAEREAEREAEJRD0DIiACLk+gsbER6enpSEtLQ1FREbq7u3H37t2edTc1NaG8vBy5ubng5/r6eiQlJaG6uhqdnZ097Xp/aG9vR21tremP9/Z3cRz+znFramrQ0dHRX1N9LwIiIAIOQ0AC0WFMoYmIgAjYi4C/vz/GjBmDUaNGYfHixWhpaUFXV1fPcKGhodi6dStmz56NyMhI3Lx5E//zP/+DEydOoLKysqdd7w8UfOfPn8fXX3+N7du39/7pns8Uo+yb4/70008oLi6+53f9IQIiIAKOSEAC0RGtojmJgAjYlMC1a9fwr//6r/j7v/97TJgwAd7e3sarZxnEy8sL3333HZ5//nn4+fnhxx9/xF//9V9j27ZtKC0ttTS75z0nJwcHDx7EzJkzsWTJknt+6/0HhSj7fvfdd3HgwAHjpez9uz6LgAiIgCMSkEB0RKtoTiIgAjYlYBGI//7v/268iF988QViYmJMqJkDOYpAbG1tRUVFBSg+LSHxvLw8E+ruHRbnZ3o2GRJPTU01L7bnfQ0NDT0hdIbLKXAzMjJ62vEzQ97Nzc02ZazOREAEXIuABKJr2VOrEQER6IOARSC++eabmDFjBv7jP/7DhIcZaublCAKRexUp8nbu3IlZs2bhhRdewHPPPYc//OEPOH78OLiPkvshKQ4p7ui9ZEj86aefxpNPPokXX3zReDN9fX1NW7Zj6NzDwwNjx4417Z555hm88sorxjMaGxvbByl9JQIiIAI/E5BA1JMgAiLg8gQsAvGrr74y4d7HH3/cCCd6EXkNt0CkOMzOzsbRo0cxdepUfP7551i6dClWrFiBuXPn4ssvv8Tp06dNogs9h0FBQWbvI39buXIlVq1aZdqyfVRUlEmyofdwzZo1+OCDD/D999+b39mOr7NnzyI5Odnl7a4FioAIDJ6ABOLg2elOERABJyFgEYgUTIcOHcK8efPw4YcfYu/evcYrd+fOnWHdg0hv36VLl7BgwQLj6WMyC8PADBdzHyQ9ilOmTEFYWJgJF+/atQvvvfeeEXvMpG5razMZ0ikpKSZETXHIDOw33ngD06ZNQ0JCAurq6kxyDkPYDFuXlZU5ifU0TREQgeEgIIE4HNQ1pgiIwJAS6C0Q6S1kkgo9dfTAsfTM9evXh1UgMpFl7dq1eP/9943oY4kdhpP5PT/TM/iP//iPuHr1qglDU9gyVL5w4UJTuodCkm25h5H3sQQPBSLXOH78eLO+wsJC873ld5XbGdJHUIOJgNMRkEB0OpNpwiIgAgMl0FsgRkREGO8cw7jvvPOO2Yt45MiRYRWIFG0Ue5zPqVOnQDHHi6Fnegh37NiBv/mbv8HJkyfNb/QkMnOaXlCGj+kZZYY0xS89g+yP+xS3bNmCTz75BN988w1++OEHbNq0yfRPTyNFpS4REAER6I+ABGJ/ZPS9CIiAyxDoLRAZbuXFUDPFkyVU+6c//WnYytxQ0H322WcmyYSh5pKSkh72TKTZt28f/t//+3+gkLWElOlN/Pbbb03ZHpbnoafw008/RWBgYE8mM4Xg4cOHMWfOHLz00ktmfQw5U0xqD2IPYn0QARHog4AEYh9Q9JUIiIBrEehLIPJUlQ0bNuBf/uVfjICaP3/+sApEFtK21ErkHkFe9CDSI0jP39/+7d/i3Llz5iQWfs89hSzWzbI1zFZev349nnrqKROqppeUF0POVVVVphwOQ9VMTqEofvvtt41X0jTSPyIgAiLQBwEJxD6g6CsREAHXItCXQGTZmIsXLxpRNXr0aFMK5v5C2QzRUoTRw9f7xaQSZh1bCmUzzNv7d8tn7gvky1Iom57ArKyse9ryd+4H5G8MGbN0DU9+YQiYAo9z/+Mf/4jf/va38PHxMd+z/iFPZKFI5Fy435AZ0L/61a+MV5F7LLk+Ck3On3sS+aJwXLRoESZPnmz2OrqWlbUaERABWxKQQLQlTfUlAiLgkAT6EoicKMPNDC3/3//9H/7t3/7tLzyIPEaPGc4sh9P7VVBQgPj4eCMQmQjCWoW9f7d8ZuFqikUKRIZ2uQ+QoWHL73ynZ4/tuH9w2bJlGDFihMlcZqiYx/7Rs0jRyH2EbMvw8+3bt3Hjxg1z6ktiYqIpbcPj/kaOHAlPT08TZqaAvHLlCi5cuGDGYzuGr1kknP2x3qIuERABEeiPgARif2T0vQiIgMsQ6E8gMoM5Ojoar776Kv75n//5HoH4V3/1V/iHf/gH/Od//if+67/+q+f13//930bIMZmEe/lYqPrv/u7ven7v3Zb1C+m5417BJ554Av/0T/9kinT3bkPvJcUfw8T0HDJ5ZuLEiWBRa/b92muvYfXq1bAkltAryLG5r/DZZ5814paFslkAm+V7AgICTKkbilgmsrz88svG+/i73/3OFN6eNGmSKe+jPYgu83hrISJgFwISiHbBqk5FQAQciQD36XEfH71yvev/MbTLMC0FF/fwMXGF4Vt66liour9Xby/gnj17+m3HPX8MITPkSw9fX/1xXvTy0ePHufEkFApPzofeQIaOKR4ZbmZfTFKh95IZzdxDycLXPC2FpW9u3rxp+qAo5br4Nz2FzHLma/PmzaY/rk9ZzI70hGouIuB4BCQQHc8mmpEIiIAIiIAIiIAIDCsBCcRhxa/BRUAEREAEREAERMDxCEggOp5NNCMREAEREAEREAERGFYCEojDil+Di4AIiIAIiIAIiIDjEZBAdDybaEYiIAIiIAIiIAIiMKwEJBCHFb8GFwEREAEREAEREAHHIyCB6CA2YQkLnrDAchw8oUEvMdAzoGdAz4CeAT0DzvsM8L/pPNKzsrLSQZTGwKYhgTgwXnZrzSK4b7zxhil2yxMX9BIDPQN6BvQM6BnQM+C8z8Drr79uiu/v37/fbtrBnh1LINqT7gD6ZuHb5557Du+//z5YeFcvMdAzoGdAz4CeAT0DzvsM8AQknnLEAvXOeEkgOojVeOzVhAkTzCkHDjIlTUMEREAEREAERGCQBHjG+vTp07F79+5B9jC8t0kgDi//ntElEHtQ6IMIiIAIiIAIOD0BCUSnN6FjLEAC0THsoFmIgAiIgAiIgC0ISCDagqL6gASiHgIREAEREAERcB0CEoiuY8thXYkE4rDi1+AiIAIiIAIiYFMCEog2xem+nUkguq/ttXIREAEREAHXIyCB6Ho2HZYVSSAOC3YNKgIiIAIiIAJ2ISCBaBes7tepBKL72VwrFgEREAERcF0CEoiua1urVtbW1oa8vDxcvXoVW7duxZYtW3Du3DnExsaCx+dZe0kgWktK7URABERABETA8QlIIDq+jew6w6qqKpw9exYLFizAmDFj8PLLL+O9994zYrG0tBRdXV1WjS+BaBUmNRIBERABERABpyAggegUZrLPJO/evYvU1FRzbvKyZcsQGBiIhIQErFy5Eu+88w5CQ0NRW1tr1eASiFZhUiMREAEREAERcAoCEohOYSb7TJLiz9fX1xyRt2vXLtTX16OjowMnTpzAJ598Yo7NS09Pt2pwewjElo4uZFU0IrW0HrlVTejo6rZqLmokAiIgAiIgAiLwaAQkEB+Nn1PfTeOfOXMGM2fONGFmy2L8/f3h4eGBFStWIDg42PL1Pe8tLS2oqKhAbm4usrOzcevWLROiPnz48D3tHuWPysY2nI8pwv7AbJyKyEd6WQNqm9uNULz7KB3rXhEQAREQAREQgQcSkEB8IB7X/pFePwq6jz76yCSpWFYbGRmJ7du3Y9GiRfDy8rJ8fc97fHw89uzZg9mzZ5sQ9fjx4/HYY49h796997R7lD/oNVxyMRGTtwdh9EY/fHoiGhdiilBa14qubknER2Gre0VABERABETgQQQkEB9Ex8V/437DAwcOYP78+bh+/XrPaqOjo8GQ8xdffIHbt2/3fN/7Q1FREehpPHTokBGKy5cvx4gRI0x/vds9yufqpnbcTCzFyqspmLkvDGM3+uODw5HYeDsdXillKKxpllB8FMC6VwREQAREQAT6ISCB2A8Yd/j6UTyI9/Oxxx5EjsFEmuTiehwIzMGMvaF4zsMHz6/zxYLTsTgfXYjcyiY0tnWiUx7F+02iv0VABERABERg0AQkEAeNzvlvpPEHuwfx/tXbSyByHCarlNW3Iq6gFtu8M/H7fWEYscoL47cEYPH5BIRkV6Gqse3+KelvERABERABERCBQRKQQBwkOFe4zZLFzP2DjpjF3Jtx9927aO3oQlJxHX6MLMA3PyVg6q5gvLolAAtOx+BgUA6i8mqMN7Fb3sTe6PRZBERABERABAZMQAJxwMhc54bu7m6kpKRg6tSp6F0HkdnLb7/9NkJCQlBTU2PVgu3pQbx/Ak1tnUgoqsX6W2l4bXsQfrPyDt7YGYxV11IQkVNtklgoJu8qj+V+dPpbBERABERABKwiIIFoFSbXbVRZWWnCzExUGT16NMaOHWsykzdt2oSSkhKHPEmF3sSW9i6TpOKTWm7CzBO2BuKpNV6YtisEe/yzkVJaj3bVTXTdB1crEwEREAERsCsBCUS74nX8znkWM2sZ9j6LmUfvxcTEOPxZzCx1U9XYjuCsKuz0zcJHx6MweoOf2aO49HISLsYWIbO8Ee2d3fImOv6jqBmKgAiIgAg4EAEJRAcyhjNPZShDzH1xYm3E28mlmH8y2pTDedbDB7MOhuNwcC7SSutR29yhk1j6AqfvREAEREAERKAPAhKIfUDRVwMnMNwCkcfw1bV0IKu8EcdC8/DhsSiMWO2Flzb4Yf7JGFNPsbi2ZeAL0x0iIAIiIAIi4IYEJBDd0Oj2WPJwC0SuiUkprIeYXdGIq/ElWH4lGW/tDcW4zQH4w9EobPfJRGBmJWqa29Gp/Yn2eAzUpwiIgAiIgIsQkEB0EUMO9zIcQSD2ZsAs5pzKJpOwwrqJT672wvitgfjmp3j4pVcgv7oZze2dphB37/v0WQREQAREQAREAJBA1FNgEwKOJhCZ6dzW2W0KbIdmV2Ht9VRTCodCkRnP62+nITKvGm0dXTZZvzoRAREQAREQAVciIIHoStYcxrU4mkC0oOBRffUtHYjJr8GhoFz88XQsxm7yx/TdIfj6p3icishHUnE9mttVN9HCTO8iIAIiIAIiIIGoZ8AmBBxVIPZeXE1TO0KyKvGn8wmYuC0QIz18MGVnMHb4ZiK2oBaVjW3G69j7Hn0WAREQAREQAXckIIHojla3w5qdQSAygaWxrRMF1c04H1OEhWfj8PQab4zy9MGcQxE4FZ6PrIpG7Uu0w/OhLkVABERABJyLgASic9nLYWfrDALRAo/ZzoU1zfBOLTfH9c0+GG7OdH7nQDg8bqTiZlIpSupazdnPlnv0LgIiIAIiIALuREAC0Z2sbce1OpNAtGDgCSvl9a04HZFv6iayuDbrJs47FoXLccVIK21AfWsHmPCiSwREQAREQATciYAEojtZ245rdUaBaOomdnWjuqkdcQW12BeQA3oRmen84gY/fHchEbeTy0xYWiLRjg+PuhYBERABEXA4AhKIDmcS55yQMwrE3qRZEzG9rAFnowrx7YVEk8Ty+s5gfHIiGvsCshGZW2OO65NQ7E1Nn0VABERABFyVgASiq1p2iNfl7ALRgotCMbG4zuxNfGtPKEau9caYjX5Ycz0VQZmV4JnPLR0qiWPhpXcREAEREAHXJCCB6Jp2HfJVuYpApIeQArCsvhVeKWVYeTUFz6/zBfcnUjDu8ssydRM7u7QvccgfMg0oAiIgAiIwZAQkEIcMtWsP5CoCsbeVKhraEJ5TbUThh8eiMHFrIKbtDsHSy8m4FFv85+P6dBJLb2b6LAIiIAIi4BoEJBBdw47DvgpXFIiE2tV9Fw2tHbiWUIJFZ+PxwnpfjPL0xawD4TgdUYCEojrUNLeDNRblUxz2x1ATEAEREAERsBEBCUQbgXT3blxVIFL0USTWtXQgtaQeP0bm4w9HI02B7Wc9ffD56ViciypEVdPPItHdnwOtXwREQAREwDUISCC6hh2HfRWuKhB7g23t6DJh5avxxVh5NdmEmydvD8J7hyKw+U46/NIrTBILBaUuERABERABEXBmAhKIzmw9B5q7OwhEC24W2M6uaMT+wGwjDkd6eOOZNd745ly8CUXzKL+mtk4V2LYA07sIiIAIiIDTEZBAdDqTOeaE3UkgssB2W2c3KhvbEJZdhR0+mZiwNdBkOk/aHoRV11IQml2FlnaVw3HMp1WzEgEREAEReBgBCcSHEdLvVhFwJ4HYGwj3JiYV1+N4WB6+PBOHKTuDMWFrAL46G4eT4fk9x/X1vkefRUAEREAERMDRCUggOrqFnGR+7ioQaZ67d++io6vbFNJefS0FL2/yxzNrvfHGzmDs9ecpLNWoamw3bXSss5M80JqmCIiACLg5AQlEN38AbLV8dxaIZEjh19jWieyKJtxILMUff4w1BbafXuuNeUejcCQk1ySwcP+iLhEQAREQARFwdAISiI5uISeZn7sLRIuZKABZYNs7tdwc1/fO/nAw03nmvlB43EjFreRSkwnd2S2haGGmdxEQAREQAccjIIHoeDZxyhlJIN5rNpa6Kaxpxo8RBfj4eDRGefpgxGovLDgVg7NRBSYLur6lwxTYvvdO/SUCIiACIiACw09AAnH4beASM5BAvNeMrITY3tWNmqZ2xBbU4mBQDt7YFWJOYRm3OQALz8bhdnKp+Z3nP+sSAREQAREQAUciIIHoSNZw4rlIIPZvPNZEzChrxNmoQnx3IRFv7gnF2E3++ORENHb7ZyE8p8qEpaUT+2eoX0RABERABIaWgATi0PJ+pNE6OztRXV2N/Px8pKenIysry7zy8vJQW1uL9vb2nv6bmppQWlpqfs/IyEBubi7q6uruacP2NTU14EPANtnZ2SgvL0dLS0tPP9Z+kEB8MCn6CLu77yImvxbbfTLx+o4gk+k8brM/ll9JhldKmUli4Wkt8ig+mKV+FQEREAERsD8BCUT7M7bZCJWVlTh+/Dg++ugjjB49GpMnT8aUKVMwb948XLp0CQUFBT1jRUREYN26dZg6dSpeeeUVzJkzB1euXEFhYWFPG4rGc+fOYebMmabNjBkzsHnzZsTHx/e0sfaDBKJ1pJrbu1BU02IKaa+4moyJ2wLN3sQ394Rgw600pJc1mGxo63pTKxEQAREQARGwDwEJRPtwtUuv9Ahu3boVH374Id59911s2LABu3btMqIxLi7OeBctXsZDhw7hgw8+wOrVq7FmzRosWbIEn3/+OW7duoXu7m7zunjxIv74xz/ihx9+wNq1a7Fy5Uq89957OHXqlPEsdnV1Wb0OCUSrUZnElIbWDkTkVpvj+j49GY3XdgQZr+K3FxJxLrrQFNhmRrTCztZzVUsREAEREAHbEZBAtB1Lu/dkEYirVq3CkSNHjIi7f1CGlmNjY43oo9ijl5BhZF9fX7z44ovYtm0bGhsbzYvCceLEiQgPDzch6qSkJEyfPt0IysTERLS1td3ffb9/SyD2i+aBP1Q3tcEvvQLfXkgw+xKfWHHbnO+8NyAbqSX1JomFRbh1iYAIiIAIiMBQEpBAHErajziWNQKxoqICR48eBUXkli1bwLA0PYEUcL///e9N2JkCkq8VK1YYLyP3MLINw88eHh7G6/jjjz+ivr7e6hlLIFqN6p6Gnd130dDaiYzyBpyPKcQHRyIweoMfXljvi3nHonAxtghl9a3al3gPNf0hAiIgAiJgbwISiPYmbMP+LQKRexDpHWSImXsSvb29UVVVBYaXi4uLjQikd5Aij4kpvGjoTz/91AhAhpn5okBctGgRysrKTJve4pKeRibEWHtJIFpLqu92DCezbuKNxBKsuZ6CWQfC8eJ6P8w9Eolt3hnmGD8Jxb7Z6VsREAEREAHbE5BAtD3TAffIDGSGgpmVnJmZ2eeL4pCePu4tpEAcO3YsJk2aZBJMFi9ejJCQECMS6QVcunSp2VN47do1NDQ0mPnw3m+++cZ8f/bsWfBFL+OyZctAYciLIvP8+fPme+5JpPexv4uZzryP82b2MwXnmDFjcPjw4f5u0fdWEOC5zkxUORaah7f2hOJZDx+M2eiPxecTcD2x1IhIJrqwELcuERABERABEbAXAQlEe5EdQL8XLlwwSSfMSGZmcl8vCraAgABwb2Bqaqp5sTTNyZMnjReQ4o/7DIdKIDLTec+ePZg9ezamTZuG8ePH47HHHsPevXsHsHI17YsAS93QWxhbUIN1N9Pwxs5g/G6VF17fEYwVV1MQV1iL2paOvm7VdyIgAiIgAiJgEwISiDbB+GidcD8gPYPMSN6xY0efr5s3bxpPnaXeIT1NfDGxhEKNIo3Zx0MVYi4qKoK/v7+ZN8dfvnw5RowYgQMHDjwaDN1tCNBD2NLeZU5hORKSi89PxxqBOGlbIL46G4fjoXmIK6g1bVQ3UQ+NCIiACIiArQlIINqaqB37oyDkPkOWqbFcDD1fvXrV1DGkOOu9j1BJKhZKzv1e19KBsOxqU1B7/JYAMNOZdRPX30pDTH5NT4FtBZ2d286avQiIgAg4EgEJREeyxkPmYqlx2Nzc3NMyMjLSJKuw2DX3FVpb5oZ7E1kjccKECWBRbXome5e5SUhIUJmbHsrD+4HeRB7Xl1vZZPYhfnEmDjyB5Zm13pi+OwT7A3JMSRxmROsSAREQAREQAVsQkEC0BcUh6oP1DLlfcd++fdi5c6d5Mcnk66+/NuFp7gu0iMiDBw/i/fffv6dQ9oIFC8BQtaVQNvvidyyizT2OzGrmnkLua+RYKpQ9RIa1cpjOrrtmbyLrJm71zsAfjkaZTOeZ+8Kw7HKyKYmTWd6Its4uSCpaCVXNREAEREAE+iQggdgnFsf8sqSkBOvXrzfC77XXXgNfs2bNMsIuLS0NvT2LLH7NmoZvvPFGz1F79x/HR+OfOXPG1EccN24c3nzzTWzcuNHUSBwoAZW5GSixR2tfXNuCawkl+Oh4tMlyfs7TB2/vD8Ph4FyklNSjtrkDKrD9aIx1twiIgAi4MwEJRCeyfkdHh6lZaCmJw7I4/Ezh2Nraes/eRIaauT+RbZjtzHaWBBfLknlSCj2FfAjYhuVqWBOxt9C0tH3YuwTiwwjZ9neKv9rmdmRVNJqSOB8di8bvVnqZItvzT8WYUHRRbYtJZLLtyOpNBERABETAHQhIILqDlYdgjRKIQwD5viF4TjP3J2ZXNOJafAlWXk3BjL2heHVrIOYejcI270wEZFSgrrkdnTqu7z56+lMEREAEROBBBCQQH0RHv1lNQALRalR2acjaiQXVzeAZzm8fCMeI1V54dUsAvj4Xj4D0CuRXN6O5vRMUlbpEQAREQARE4GEEJBAfRki/W0VAAtEqTHZrxFqIPK6vvKENodlVWHczFVN2BuPJ1V5gaZxNd9IRnVeDjs5fSiTZbTLqWAREQAREwOkJSCA6vQkdYwESiI5hB3oIWTcxtqAWh4J/LrA9eoOfqZvI4/rORhUgtbQBPK5P3kTHsJlmIQIiIAKOSEAC0RGt4oRzkkB0PKPVNLcjKLPShJknbA005zpP2x2Cvf7ZiC+sRXVTu/E6Ot7MNSMREAEREIHhJiCBONwWcJHxJRAdz5BMYGlo7TT7D89EFZrj+n636g6e9/TB3COROBNVYIpv84QeXSIgAiIgAiLQm4AEYm8a+jxoAhKIg0Zn9xup/5ikcju5DB43UvHO/jCzL3HWgXCsu5Vmvi+vbzUFtu0+GQ0gAiIgAiLgFAQkEJ3CTI4/SQlEx7dRW2c3yupaTd3EPxyNNEf1cX/ixyeiTdHtjLIG1Ld2gAkvukRABERABNybgASie9vfZquXQLQZSrt1RN3HAttVjW2Iya/BHv9s8Ji+p9Z44aX1flhyMQleKWUmgUUi0W5mUMciIAIi4BQEJBCdwkyOP0kJRMe3Ue8ZNrZ1Iq20AWciC7D4QgKYxMKyOJ+eiMH+gBxE5dWASS5yJvamps8iIAIi4D4EJBDdx9Z2XakEol3x2q1zFs9OKKrDuptpphTOSA8fvLTBD2uvpyAwowKl9a1o6VBJHLsZQB2LgAiIgIMSkEB0UMM427QkEJ3NYj/Pl6HklvYuIwQZXuZxfaM8fTDSwxtv7QnBDp9MJBXVmdC0c65QsxYBERABERgMAQnEwVDTPX9BQALxL5A43RcVDW0Iy6nGLr8sfHgsCpO2/Rx2/uFSEi7GFiGvqhlN7Z1Oty5NWAREQAREYOAEJBAHzkx39EFAArEPKE74FWsncn/i9YQSU2D7+XW+eM7TByyJczI8H/GFdahtbgfbKdfZCQ2sKYuACIiAlQQkEK0EpWYPJiCB+GA+zvIrRR/DzjyuL7WkHueiCjHvWJQJOY9c64M//hiL8zFF5vfObklEZ7Gr5ikCIiACAyUggThQYmrfJwEJxD6xOPWXrR1dKKxpMTUSV15LxtRdwZi8PQhzDkdgm3emOcavvKFNdROd2sqavAiIgAj0TUACsW8u+naABCQQBwjMiZqzdmJWRSP2BWTj3YPhYKbzM2u9Td1Ens5SXNtiaieqJI4TGVVTFQEREIGHEJBAfAgg/WwdAQlE6zg5YysKP57CUtnYht3pIn8AACAASURBVJCsSmz2SsfYTf541sMHb+wMxvpbaYjNrzFtnHF9mrMIiIAIiMBfEpBA/Esm+mYQBCQQBwHNCW+pbelAfGEtDgfn4rNTMXhtRxAmbgvEtxcScC66EDmVTWhqU6azE5pWUxYBERCBewhIIN6DQ38MloAE4mDJOd99TGJp7+yGT2o5friUiBfX+5oklt/vCzPnPMcW1KKqqd3UTryruLPzGVgzFgEREAEAEoh6DGxCQALRJhidphPqvobWDqSXNeByXDE+Ph5tyuFwb+JHx6ONUOQpLG2dXU6zJk1UBERABETgFwISiL+w0KdHICCB+AjwnPjWto4ulNS14GZSKdbeSAW9iJO2B+Ht/WFYcz0FNxJLkVvZZOomOvEyNXUREAERcDsCEohuZ3L7LFgC0T5cnaXXzq5u5FU14URYvjmFZZSnL36z8g4+PRFjCmznVjaivqVDQtFZDKp5ioAIuD0BCUS3fwRsA0AC0TYcnbUXhpy5L7G6qR1xBbU4FJSL6btDwJNYxm32x5dnYsGznmua2qFtic5qZc1bBETAnQhIILqTte24VglEO8J1sq6b2zuRWd5oTlxZcjEJM/aGYvQGP3x6MtrUUozOqzFCUkLRyQyr6YqACLgVAQlEtzK3/RYrgWg/ts7aMzOY6U3c6ZtlTmBhAsv4rYFmb6J/egXK6luN15FZ0bpEQAREQAQci4AEomPZw2lnI4HotKaz68Rb2rtQVNOC0Owq/HA5yQjE363ywsz9Ydjuk4n8qmawjS4REAEREAHHIiCB6Fj2cNrZSCA6rensPvHO7rtoaO00InG3fxbmHYvCpG2BmLYrBMsvJ+NKXDGyKxqVwGJ3S2gAERABEbCegASi9azs1rKtrQ3V1dWmKGVaWhoyMzNRX1+Pzs57T6Tg3zU1NSgoKEBGRoZ5lZaWorm5Gd3d3WZ+fOffJSUlPW0KCwtRW1uLrq6fPTUM/XV0dKCiogLZ2dmmXW5uLsrKysz3g1moBOJgqLnXPXzuKhpacTu5FAvPxJl9iU8sv22yno+F5BqRWNfSAQpKXSIgAiIgAsNLQAJxePmb0SkIT5w4gVmzZmHkyJEYP348bt++bQRc7+lRRP7444/4/PPPMW7cOLz66qvw9PREbGwsWlpaTNOmpiZERUVh5cqV5ne2W7hwIS5cuGBEJxtRHFJY7tmzB9OmTTPtOPaGDRuMSLSIzd5jP+yzBOLDCOl3EmA5nPrWDqSU1JuSODP2hplM57Eb/c3RfTcTS82Zz9qWqOdFBERABIaXgATi8PI3o9N7d+3aNaxbtw6TJ0/GqFGjcOnSJeMFtEyPwi8uLg4LFizAV199ZdpSBH799ddYu3YtysvLjReR3sVly5aZ7/n7+vXr8eWXX5q/U1JSjHexsrISp06dwooVK0xfbLNo0SLTjsK0uLjYMqzV7xKIVqNSQwCtHV3m3OaLsUVYejkJv98Xao7s++h4FHb5ZSEspwoVDW3QUX16XERABERgeAhIIA4P93tGZdiYoV4ag2JtxowZuH79+j0CkcLv/PnzeP3113Ho0CEj9OgFXL58OSZNmgSKv8bGRuM9HDNmjPEs8vfW1lbs3LkTb731Fq5evWrEHz2W77//vhGIQUFBpq8bN25g8eLFWL16NcLCwu6ZnzV/SCBaQ0lt7idAAZhYVIc9/ll4fUcQmOk8bnOASWi5k1KG4toWIya7FHa+H53+FgEREAG7EpBAtCte6zrn3kLuQ+SLYd++BGJoaCg2btyIb7/9Ft7e3sZbyFAx28+cOdOEpBlqpgicOnUqjhw5YkLJDBdT/H3//ffYtGmTEZAJCQl49tlnjRitq6szfXHv49GjR/Hee++ZcLR1M/+llQTiLyz0aWAEWjq6jBCMzK3GyqvJpiTOb1fewbTdwfC8mYrU0npz7vPAelVrERABERCBRyEggfgo9Oxw7/79+/sUiLdu3cKSJUuwefNmI/IsQ588eRLz5s3DmTNnwDbcy0jvIL2NlovikuLwu+++M0IyIiICTz31FLZt29aT3MIEFYa5J06ciGPHjllutfpdAtFqVGrYBwF6CJvaOkGReCAwB/NPxhihSK/in84n4MfIAiQV15m6iQo79wFQX4mACIiAjQlIINoYqKU7eveKiopM6Jgh3b5e3HvI8HJ7e7vlNvQnEC9fvmz2C+7btw+JiYk97X/66SeTtHL48GGcPXsWBw4cwPz5843YszSKiYnBrl27zB5DJqswrPzcc89h9+7dliagJ9HHxwcvvfSSmUPPD/18YFIMs6C5BobHKU4Z2uY8dInAYAlQ/FU1tiEosxLfXUg04ebHl9/GO3+um5hcXG9+57F+ukRABERABOxHQALRTmwpDumx494/Jp709ZozZw7OnTtnRJZlGs4iEOPj4014e/bs2SYTmpnXjz32GPbu3WtZit5FYFAEWOamsa3TlL1hEsvHx6MxeqMfRq3zxbsHw3EmqgAF1c0603lQdHWTCIiACFhHQALROk4DbsW6gxcvXgQ9fjt27OjzxX2C0dHRqKqq6um/P4HoaCFmCmB/f3+TMMN9kEyWGTFihPFg9ixGH0TgEQh0dHWbvYlMVvG8mYbZhyKMSJxzOAIbbqfBJ7Xc/K66iY8AWbeKgAiIQD8EJBD7ATNcX/cnEIcqSYUeQYahB3ppD+JAian9QAjkVDbidEQ+3t4fhuc8ffDSBj98fjoWl2KLkFvZZDyOEooDIaq2IiACIvBgAhKID+Yz5L/2JxAfVOaGiSUUaA0NDYiMjMTo0aNNmRsmnvQuc3PlyhWzL5L7IRneptfv/jI3q1atUpmbIbe6BnwYgbbOblMXkYkqm70y8NbeUPAUlle3BODb8wkIzqw0BbYf1o9+FwEREAERsI6ABKJ1nOzaiske4eHhJmlk+vTpePzxxzF37lwj8ijqeOweC2WzjM1nn31mTkZhUW0WwmaB6zVr1vScgJKfn4+lS5feUyj7iy++MAkuFJE8hs9SKJsCkUW3LYWy2Y6hbBXKtqu51fkgCXTfvWuymBOK6nAyPB9fn4vHlJ3BmLgt0GQ97wvIRlh2lSmJI2/iICHrNhEQARH4MwEJRAd4FJgFzHI1rF/45JNP4oknnsAzzzyDKVOmmFNR6Ankxb2Kp0+fNiLRctSeh4cHmKVsOWqPxbJZxoanpLzyyit4+eWXQeHHbGcKTV7MmmYRbWYxc0we2cej9igU+b3lzGbT2Mp/FGK2EpSa2YRAQ2snkorrse5mGqbuCsFvVt7BpG1B+OFSEkKyK00SS3N7F3Sqs01wqxMREAE3JCCB6ABGZ4FsnrOclZWF1NRUcyoK3/l3SUmJKXjNabKgNtsx3JyRkWFeFHT0ClrOT+Y7vY28z9KmsLDQlNOxCD+WEmEZHnouOQbb8UGgEOX3g6kzJ4HoAA+SG02BdRMtBbZ90yqw4koyJm0LxFNrvDBhawA238lAdF4NurpVDseNHgstVQREwIYEJBBtCNOdu5JAdGfrD9/aGXaubmo3BbYZYp5/KgYvrffDm3tCsfh8As5EFpiTWFiEW5cIiIAIiID1BCQQrWellg8gIIH4ADj6aUgIUCj6pVfgqzPxGL810GQ7v74zyJzzHJtfg6qmdjDZRZcIiIAIiMDDCUggPpyRWlhBQALRCkhqYlcCTExpaO1AQVUzzkUV4osf4zBi1R2M8vTBB0cicSo8HzkVjeju1s5EuxpCnYuACLgEAQlElzDj8C9CAnH4baAZ/Ezg7l2YJBUW2F5/Mw2zDoRjwtZAzNwXBo8bqbiZVIqy+la0dnQJmQiIgAiIQD8EJBD7AaOvB0ZAAnFgvNTa/gR4XnNVY7spifPR8Wg8vcYbL6z3xUfHonA1vgTpZQ1gNjQFpS4REAEREIF7CUgg3stDfw2SgATiIMHpNrsRoPBj2LmqsQ0x+TU4FJRjTmIxQnGdL5ZeToJPWrnZl8hkF10iIAIiIAK/EJBA/IWFPj0CAQnER4CnW+1OgFnMmeWNOBtViG/PJ5oTWFhke8HpWBwOyUV8YS3qWzvsPg8NIAIiIALOQkAC0Vks5eDzlEB0cANpeoZAS3sX4gpq4XEz1RTYftbDBy9v8sdmr3SE51SZ4/qY6Sx/oh4YERABdycggejuT4CN1i+BaCOQ6sauBBhKpkgsrW81ySpLLibh6TVepiTO7IPhOBqSi6yKRrAQty4REAERcGcCEojubH0brl0C0YYw1dWQEGAmc1BmJbZ6Z2DOoQhzpvNbe0KxVpnOQ8Jfg4iACDg2AQlEx7aP08xOAtFpTKWJ9iLQ0dWNupYOszdx/skYk+n8IjOdj0fhSnwx0kobzO/0PMqn2AucPoqACLg8AQlElzfx0CxQAnFoOGsU2xJg8jLDyTXN7YgtqMXBoBxTL5Fh5+fX+Zrj+m4klqK5vVNhZ9uiV28iIAIOTkAC0cEN5CzTk0B0Fktpnv0R+CXTuQDfXUjEpG1BeG1HED48FoVdflkIza5CRUObPIn9AdT3IiACLkVAAtGlzDl8i5FAHD72Gtm2BFo6upBYVIfNdzIwY28oRq71xkgPbyy7kgSezlJa14rm9i6odqJtuas3ERABxyIggehY9nDa2UggOq3pNPH7CJhM544ulNe3wj+9Ap43U/HiBl+M9PDBtN0h2HA7DXGFtTqq7z5u+lMERMC1CEggupY9h201EojDhl4D25FAdVM7ovNrcCAoB5+ejMHrO4JMtvO3FxJwLroQ2RWNaGzrtOMM1LUIiIAIDA8BCcTh4e5yo0ogupxJtaA/E6BHkcWzGV7+/lIinl/ng2fWeptkliMhueYYPwrJzq67OtdZT40IiIDLEJBAdBlTDu9CJBCHl79Gty8BZjvzKL70sgZcjis2ZXBGefqasjgsiXM8LM8ksFBI6hIBERABVyAggegKVnSANUggOoARNAW7E2jt6DJJKjcTS+FxI9V4ESdtC8Tb+8N6CmznVjYpgcXultAAIiAC9iYggWhvwm7SvwSimxhayzQEWDsxt6oJpyLyMe9YFOhN/L8Vd8Bi26fC80GRWN/SgU4d2acnRgREwEkJSCA6qeEcbdoSiI5mEc3HngR4qkp7Zze495AZzSywPW1XiBGK4zYH4PPTsfBKKUNVU7s9p6G+RUAERMBuBCQQ7YbWvTqWQHQve2u1vxDgKSsZ5Q04H12I7y8mmtqJL6z3xScnorHXPxuRudVGKHIfoy4REAERcBYCEojOYikHn6cEooMbSNOzO4G7d+8irqAWO3wyTSmcp9d4Y/zWAKy8mgy/tHKzd5FJLCqwbXdTaAAREAEbEJBAtAFEdQFIIOopEAGgpb0LRTUtCM+pxtLLSUYo/mblHby1JxRbvDKQXdEEHumnSwREQAQcnYAEoqNbyEnmJ4HoJIbSNO1OgIkpFIFhOVUmxPzR8Wgw03nqrmATgr4QU2TK5XR3q26i3Y2hAURABAZNQAJx0Oh0Y28CEoi9aeizCAAMOVc0tMIvrQKLzsVj7CZ//Hr5Lbx/OBIHAnPMKSx1ynTWoyICIuCgBCQQHdQwzjYtCURns5jmOxQEOru60dDaaTyGP0YW4L1DEXhxvR/GbPTDJ8ejcSupFJWNbUMxFY0hAiIgAgMiIIE4IFxq3B8BCcT+yOh7Efi5JE5+dTOuJ5Zi5dUUU1h7lKcPPj4ejT3+WYjKqzElc5TprKdFBETAUQhIIDqAJdra2lBdXQ0aIy0tDZmZmaivr0dn5y+b2bu6utDY2Gh+S09PR1ZWlnnl5+ejoqKip213dzfYX1lZmWmbkZEBtqmsrOxpw9AX++OYubm5pl12djaKi4vNvfx9oJcE4kCJqb27Ekgpqcf+gBy8tiPInOk8YWsgVl1NgV96hTKd3fWh0LpFwAEJSCA6gFEoCE+cOIFZs2Zh5MiRGD9+PG7fvm2En2V6FIxBQUGYMGECXnzxRUyZMsW8Pv74Y+zevduIPbZtbW01gm/Tpk2YNGkSXnnlFXz44Yc4cOBATxuKw4aGhp4x2eebb76JpUuXGpFKgTnQSwJxoMTU3l0J8Li+4toWRORW44dL92Y6b76TgazyRjQq09ldHw+tWwQchoAEogOYgl68a9euYd26dZg8eTJGjRqFS5cuoaSkpGd2NTU1uHPnDkaMGIGZM2di165d5nXy5En4+/ujqanJtC0tLcXWrVvx/fffY8mSJdiwYQMWLlyIL7/8EmFhYWA/dXV18PLygoeHBz777DMz7uLFi/HVV1/h9OnTRmD2DGzlBwlEK0GpmQgA5gi+pvZOhGZXYY9/NnoynXcG47sLiTgXVQh6GrmHcTAefUEWAREQgUclIIH4qARtcD9FG0O8NMb69esxY8YMXL9+/S8Eoo+PD8aOHYs9e/b0OSrDy0lJSUZkrlq1CgxF0xtIEWnxIqakpJiQ83fffYdly5bh7NmzJpxN8bhx40YsWLAAt27d6rP/B30pgfggOvpNBPomYMl09k2rwNfn4vEyM52X3ca7B8Oxyy8LaaX1JomFBbZ1iYAIiMBQEpBAHEra/YzFvYYUcnxR/A1WINKLGBwcjNGjR2P79u0m3Mz/AFH8MeT8zTffwNvbG6mpqUZEenp6GlHa3t6O8vJyI0oZkj58+HA/M+3/awnE/tnoFxF4EAFLpnNmWaPxHM49EmUynZ9f54tZB8LA7Ofcqp8jBA/qR7+JgAiIgC0JSCDakqYN+tq/f3+/ApEh5ieffNKEmCkkua+Q4WWGoikymYhC7x/3FB46dKhnNhSER48exdy5c3Hx4kUkJCTg6aefNuHn5uZmWBJbQkNDTQh7x44dPff296GoqMiMzXE4l+XLl5t7OSddIiACAyfQ3tmNgupm3Eoqg8eNNMw+GIHnPH1MaRzPm2m4nVyGwpoWdHTJmzhwurpDBERgoAQkEAdKzMr2HR0doIhi6JhJKH29uPeQ4WV68CxXfwKRSSoBAQEmgYVJKm+88QamTZtmEksYjua+wsLCQrN3cfr06SYBxdInx2Eo+e2338aZM2cQFxeHX//618araGnD99jYWPzqV7/C5s2be3/d5+f4+HgjDGfPnm3mwcSaxx57DHv37u2zvb4UARGwnkBOZRNORxTgnf3hGOXpi5c2+OHDY1H4KboIWRU/J7HwxBZdIiACImAvAhKIdiJLcch9fm+99ZYJ5zL55P7XnDlzcO7cOVNqxjKN/gQiRSQ9hNHR0cYDyJAuM52ZgMKkFZbHoTGZ3PIoApHC0RqB2NLSYrKsKT4pgum5HDNmzKDC05a1610EROBnAtxzyALaqSUN2OmbiVkHws3exHGbA7D4fAKCMytRpQLbelxEQATsSEAC0U5wa2trTTh33759YMi2r9eRI0eM4KuqquqZRX8CkWFgeiUpzPjOF/cNrl692ghPlsChl/JRQszcq8gQtjUh5p4J//mD9iDeT0R/i8CjEWA50s6uu0guqceZqEIjDKfsDMbEbYH49EQ0DgTlIDK3Bs3tneiSN/HRYOtuERCBvyAggfgXSIb3iwcJRNYvtJS84DtFIsUcQ83cn0hjKklleO2n0UXAHgQaWzuRUdaI9bfSMHVXCJ5Yfhuv7wjGymspiMqrNnUVWzq67DG0+hQBEXBTAhKIDmb4/gQiPYfcZ0hRaBGHrHnIWocsfRMZGWnK1fRX5mbevHlg373L3LAw9v1lblgXUWVuHOyh0HTcngA9hJYC214p5fj+YhJe3RJgTmJ5bXuQOa4vsaiu5/9Auj0wARABEXhkAhKIj4zw0TvgUXnh4eHmRBTuH3z88cdNxjHL0Fy5csUIP0vWsCVkzTI2LHS9aNEiU8+Qx+kxk9lSKJv7H1ksm4WyWSSbL2Yp83g9Ck16HNeuXYv58+f3FMrmfsZTp06pUPajm1Q9iIBdCHTfvYvKhjZTYJt1Ej86HgWe6fz7fWFYejkJF2OLkF3RaMSkXSagTkVABNyGgASiA5iaSR4sZj116lSzB/CJJ57AM888Y47SYzFry7nKbMPj+F577TXzGzOZefoKvYf0MPLiUXs8f5lFrydOnIhx48bB4j2kOOTFUDWzoo8fP4533nnHlMWhMP3hhx9MwomO2jOY9I8IODSBioY23EoqxacnYzB2kz9YN3HGnlAcC80zp7DUt3SoJI5DW1CTEwHHJiCB6AD2oSCjeMvKyjJFrBkGZu1C/s0ahwwrW9rQYPze8qJ4ZIFsJrHw4jtFokVUUizm5eWZDGh6GHkxRE2RyDHZH5NbKFKLi4vNOJZ9jqaxlf8oScVKUGomAjYiwASWupYO5FY24XhoHj4+HoXHl98yJXH+eDoWt5LLUFbfqrCzjXirGxFwNwISiO5mcTutVwLRTmDVrQg8gAArITLszLDy1fgSrLiSjOm7Q0ym89yjUea4vpCsKjS2dZrznx/QlX4SAREQgXsISCDeg0N/DJaABOJgyek+EbANgZb2LhTVtJi6iW/vD8NvVt7BhK2B+P5iotmzWFDTbEri2GY09SICIuDqBCQQXd3CQ7Q+CcQhAq1hRKAfAvQk8hi+8vpWBGZUYs31VONJfGqNF8ZvDcQWrwxE5dWgu/suWGNRlwiIgAg8iIAE4oPo6DerCUggWo1KDUXArgQo/mqa2hGTX4P9gTn47FSM2Zf45p5Q/Ol8As5EFiC1tN6Ene06EXUuAiLg1AQkEJ3afI4zeQlEx7GFZiICFgIUin5pFfjqbBzGbw3Ac54+mPznuokssM3j/No6WIDfcofeRUAEROBnAhKIehJsQkAC0SYY1YkI2JQAC2w3tHagoLoZ56IL8cWZOPx25R0jFOccisDBoBxzQgtD07pEQAREoDcBCcTeNPR50AQkEAeNTjeKgN0JsHQVRaJXSpk5rm/2wXBM2haIabtCsPxKMi7HFZvfmeiiSwREQARIQAJRz4FNCEgg2gSjOhEBuxJo7+pGTXO72YfIvYnPrPXGyLXeoDeRexOTi+vBAtsKOdvVDOpcBJyCgASiU5jJ8Scpgej4NtIMRYDCr7P7rhGJCUV1RhS+fzjChJxHrvXBNz8l4GZSKdo6u019RRETARFwXwISiO5re5uuXALRpjjVmQjYnUBze5cJK1+JK8ayy8kmeYUJLB+fiDZ7E6Pza4yQtPtENIAIiIBDEpBAdEizON+kJBCdz2aasQiQABNUGFre5p0JlsJ51sMHL673hefNNPhnVKC0vhUUk6yzqEsERMB9CEgguo+t7bpSCUS74lXnImA3AtR9rR1dKK9vg3dKOZZfTsYza7zN/sQ394QYoUhvIo/r0yUCIuA+BCQQ3cfWdl2pBKJd8apzERgSApUNbeZYvp2+mfj4eDRe3xFkjutbdC4ex0PzkFhUh7qWjiGZiwYRAREYXgISiMPL32VGl0B0GVNqIW5OgLUTm9s7cTu5FEsuJWL0Bj88tdoLU3cGY/OdDITlVKGqsc0kuyjq7OYPi5bv0gQkEF3avEO3OAnEoWOtkUTAngS405D7DetbO5BV3mhqJy48E4dxm/wxYpUXPjgSiaMhuahqakN7pwps29MW6lsEhpOABOJw0nehsSUQXciYWooI/JkABWD1n4/ro/fw3YPhJuT89v4wU3Cbx/gV17aIlwiIgAsSkEB0QaMOx5IkEIeDusYUgaEhYDmJ5XxMEeYdi8KodT747ao7pm4iy+RQJDa1dSrTeWjMoVFEYEgISCAOCWbXH0QC0fVtrBW6NwF6E3kKS0x+DXb4ZuKVzQGmJM5rO4Kw7HISInKrlens3o+IVu9iBCQQXcygw7UcCcThIq9xRWBoCbDcDesmHg/Lx5dn4jB1VzDGbvLHV+ficSI8H8kl9WhoVabz0FpFo4mA7QlIINqeqVv2KIHolmbXot2UgDmyr+sugjIrsfp6Cl5ipvMab0zfHYLtPpkIz6lCRcPPSSwqsO2mD4mW7fQEJBCd3oSOsQAJRMewg2YhAkNFgCKR3sTsikbcSSnD56djMWajH55c7YV3D4Rjt18WciubzCksQzUnjSMCImA7AhKItmPp1j1JILq1+bV4NybAvYlVTe3wSS3H5jvpeP9whMl05rF9P1xKwvnoIqSWNqhuohs/I1q6cxKQQHROuzncrCUQHc4kmpAIDCkBZjoX1bTganwxFpyOweiNfnhi+W3MPhiBPf7ZSC9rMCVzePazLhEQAccnIIHo+DZyihlKIDqFmTRJEbArAYo/HsWXVtqAHyMKMPdIJF5Y72te9CxejC1CUU2zXeegzkVABGxDQALRNhzdvhcJRLd/BARABHoIMOycV9WMm4mlWHM9FbMOhGOUp68RjFu8MhCQUYnyhjbwWD9dIiACjklAAtEx7eJ0s5JAdDqTacIiYHcCTGTJqmjEsdA8vLUnFCM9vPHyJn8sPBuHW8mlKKptQVtntwps290SGkAEBk5AAnHgzHRHHwQkEPuAoq9EQASMAKS3ML6wzhzPN31PCB5ffhtv7AzGxtvpyCxvNKewCJUIiIBjEZBAdCx7OO1sJBCd1nSauAjYnQBrIbZ2dCGuoBZHQnLx2alYk+nMItvfX0zExdhiZJQ3mpAzvY66REAEhp+ABOLw2wCNjY0oLi5GdnY2MjMzzXt+fj5qa2vR3f1Lxl9nZydqampQUFCAjIwM8yotLUVzc3NPO7bn3yUlJT1tCgsLTV9dXV1mtcw27OjoQEVFhRmLfeXm5qKsrMx8PxgkEoiDoaZ7RMD9CLAkTmh2Ff50PsGEm5npPPdIFA4F5SKj/OdMZ+5h1CUCIjC8BCQQh5e/GT0oKAhLly7FtGnTMGnSJEyfPh0fffQRLl++jKamph7xV11djR9//BGff/45xo0bh1dffRWenp6IjY1FS0uL6Yvto6KisHLlSvM72y1cuBAXLlxAfX29aUNxSGG5Z88eMyb7mTVrFjZs2GBEYm9Ram6w4h8JRCsgqYkIiICph8gC2wwtn4rIx7sHw/H8Ol9zGsvcLHkI8AAAIABJREFUo5G4GFOEgmplOutREYHhJiCBONwWABAREYGdO3di69at2L59uxFqn3zyCdavXw9/f38jEin84uLisGDBAnz11VdYt26dEYFff/011q5di/LyciMk6V1ctmwZ+D1FIvv48ssvzd8pKSnGu1hZWYlTp05hxYoVpi+2WbRokWl3+/Zt480cKBYJxIESU3sRcG8C7V3dyK1qwtX4Eqy8moJ3DoTjhXW++OBIJDbcTodXShmKa1uguonu/Zxo9cNHQAJx+Nj3jMxwMr2ADDXTe8dQ77Zt2/DNN98YIchQMIXf+fPn8frrr+PQoUNG6NELuHz5cuN1pPjj/fQejhkzxngW+Xtra6sRn2+99RauXr1qxB/D2O+//74RiPReMiR948YNLF68GKtXr0ZYWFjP3Kz9IIFoLSm1EwER6E2AW15YRPtIcC5m7A3Fsx4+psj2xyeiTd1EZkE3tHYaz2Pv+/RZBETAvgQkEO3L16re29vbjUizhHa5z5DhZXoCv/vuOxMODg0NxcaNG/Htt9/C29vbCEmGihkmnjlzJuj5o8ikCJw6dSqOHDli9hOyT4q/77//Hps2bTICMiEhAc8++6zxLtbV1Zm+0tLScPToUbz33nsmHG3VxHs1kkDsBUMfRUAEBkSACSzMdE4qqsNW7wzM3B9mMp3HbfbH4vMJ8EuvQGVjGygmdYmACAwNAQnEoeE8oFHo+duyZQuWLFlivH9VVVW4deuW+Xvz5s1G5Fk6PHnyJObNm4czZ86YNidOnDDeQXobLRfFJcUhxSaFJEPaTz31lPFSWkQpvZbXrl3DxIkTcezYMcut/b4XFRWZ8De9mRSp9GSOGDECBw4c6Pce/SACIiAC/RFgpjOTUxKL63A6ssAksUzZGYzJ24PwyYlo7A3IRlhOFbh/sVMFtvvDqO9FwGYEJBBthvLejujdo4iyZCYzrHv/i5nD9BbSg2i5uNcwOjoac+fONR5EPz8/sweRHkXuPdy3bx8SExMtzfHTTz+ZpJXDhw/j7NmzRqDNnz/fiD1Lo5iYGOzatcvsMWSyCsPKzz33HHbv3m1pAnoSfXx88NJLL2H//v093/f3IT4+3gjD2bNnm0SX8ePH47HHHsPevXv7u0Xfi4AIiIBVBBpaeVxffU/dxN+uvIOJ2wKx7HIywnOqzd7ElvafqzJY1aEaiYAIDJiABOKAkVl3A8UhPXbc+zd58uQ+X3PmzMG5c+dMiRlLr/TuMQGFYWOGfBsaGkwI2NEEIrOmuTeSIpcimB5O7n2kUNUlAiIgAo9CgEfwMexcUtcKn9RyrLiajFe3BOCZtd7Go7jbLwsJhXUKOT8KZN0rAg8hIIH4EECD/Zk1DC9evGg8fjt27EBfL+4TpLeQIWQKLiaasB0zmOnd415By+VoIWbLvCzv2oNoIaF3ERABWxHglsOqxjZE5FZjj3+WCTW/uN4Xv98XiqWXk3Aprgi5lU1GTNpqTPUjAiLwMwEJRAd4EhhizsvLM2KSNQ5ZloaGYWFsyzVUSSoMGTMMPdBLAnGgxNReBETAWgI/C8V23E4uw4LTsabANkviUCieDM9HakkDGJbu7FKBbWuZqp0IPIyABOLDCA3B7xSH3D/IEjZr1qwBxRY9ir0z9h5U5oaJJbyH4ejIyEiMHj3alLlh4knvMjdXrlwx+yK5F5LhbSaW3F/mZtWqVSpzMwQ21xAiIAIDI8DElPqWDuRUNOFYaB4+OhYFnsIyeoMfFp6Ng3dKOSoalOk8MKpqLQL9E5BA7J/NkP3C0jT03P3v//4vZsyYYcrZMNTMjOTehbJZxuazzz4zJ6NYCmWzwDVFJcUgM5JZU5GnsvQulP3FF1+YBBeKSNY8tBTKpkBk4oulUDbbMZTNY/8GesmDOFBiai8CIjAYAtyfmF3RiCtxxSZphec5T9oWiA+PRWFfQLZJYmlSpvNg0OoeEbiHgATiPTiG5w/uRXz55ZdNBjGPvZsyZYp5ffzxx2YvIvco8uL76dOnjUi0HLXn4eEBZilbjtpjsWwmuvCUlFdeecX0S+HHbGfLUXsMabOUDvc5smai5ag9CkV+bzmzeSA0JBAHQkttRUAEHpVAc3sX8qqasNUrwxTYZqbzpG1BWH7l50znopoWsI0uERCBwRGQQBwcN5veReGXkZGB9PR0UwonKysLfNEbyExhy15EvvM8Zoab2Z4vCjp6BS31DPnOUjklJSU9bQoLC005HYvwY+iaZXjYN8dhP3wQ6IXk971D29YuVALRWlJqJwIiYAsClrqJpcx0TivHiivJeGVLAJ5e443Xtgdhu08mYvJr0a2aibbArT7ckIAEohsa3R5LlkC0B1X1KQIi8DACTGDhKSu9M525L/GtvaH49kIizkQWIL20AQw76xIBEbCegASi9azU8gEEJBAfAEc/iYAI2J0AhWJ1UzvupJThyzOxxps4ytMXr+8INnsTY/JrzO88rUUH9tndHBrABQhIILqAER1hCRKIjmAFzUEE3JuAJdOZtRHPRhXi89Ox+O2qOxjl6YN5RyNNSRzuW+zsVjkc935StHprCEggWkNJbR5KQALxoYjUQAREYIgIcN9hfnWzqZvoeTMNb+8PM5nOv98XBo+bqbiVXIqy+la0dUooDpFJNIwTEpBAdEKjOeKUJRAd0Sqakwi4NwGGk1kb8TjrJh6PNgksz3v64tMT0bgaX4zM8kY0tHaC4WldIiAC9xKQQLyXh/4aJAEJxEGC020iIAJ2I0Dh19l11+w9jM6rwaGgXFMSZ+Rab/DIPpbE8UsvR3tXN5gVrUsEROAXAhKIv7DQp0cgIIH4CPB0qwiIgN0JNLZ2Go8hs5r/9FMCxm8NwOs7gsw+xaOheUgoqkNdS4fd56EBRMBZCEggOoulHHyeEogObiBNTwREwGQvt3Z0ISqvBmtvpBqB+KyHD8ZtDjAFt0Oyq0xImm0GUw9WiEXAlQhIILqSNYdxLRKIwwhfQ4uACFhNgKHk5vZOFNe24HpiCRafT8BTa7ww0sMbsw6EY7dfFtLKGtDWqVNYrIaqhi5JQALRJc069IuSQBx65hpRBERg8AQoFEvrWxGQUYEtXul4/3AEJm8PwpSdwVh6OQnnY4qQVdGoAtuDR6w7nZyABKKTG9BRpi+B6CiW0DxEQAQGQqCzqxt1Le24GFuEhWfi8Jynj8l2fvdAOA4F5yKuoBbVTW0m2UV5LAMhq7bOTkAC0dkt6CDzl0B0EENoGiIgAgMiQNHX1X0Xtc0dSC6ux/mYQvzhaKTJch651gcfH4/CqfB8VDa0gWVzdImAuxCQQHQXS9t5nRKIdgas7kVABOxOoKWjC0V/3pvIJJaZ+8IwYWsg6E1cfzMNXillKKxptvs8NIAIOAIBCURHsIILzEEC0QWMqCWIgAgYAjyJJbuiESfD8vH+4UhzVN+IVV748kyc2ZvIBBcmuqh2oh4YVyYggejK1h3CtUkgDiFsDSUCImB3AjyGr6qxHbH5tdjll4XXdwSDJXFe2xGEZZeTEJ1fowQWu1tBAwwnAQnE4aTvQmNLILqQMbUUERABQ4Bnq9BTmFJSj9PhBfjqbBym7grGy5v88c1PCTgTVYCMsgYJRT0vLklAAtElzTr0i5JAHHrmGlEERGBoCDCRhQkqwZmVWH0tBS9t8DOZzm/vD8P+wGzwGD+e+Uyvo8LOQ2MTjWJ/AhKI9mfsFiNIILqFmbVIEXBbAhSJjW0/H9d3LaEEHx6LMpnOz6z1xnuHIrAvIBs5lU1obleBbbd9SFxs4RKILmbQ4VqOBOJwkde4IiACQ0mAJ6yU17fiZlIp1t1MM+KQmc4z9obih0tJ+Cm6CKmlDejsvgvVTRxKy2gsWxOQQLQ1UTftTwLRTQ2vZYuAmxJgKDm/qhkXYosw/2QMRm/ww29W3jYlcfb6ZyOzvNHUVuzoUu1EN31EnH7ZEohOb0LHWIAEomPYQbMQAREYOgLcl1jT3I700gb8GFGAD49H4fl1vmaPIj/fSipFWX3r0E1II4mADQlIINoQpjt3JYHoztbX2kXAvQl0dHYbbyIF4aprKWDyygvrfPHx8Wjs9stGRG41apralcDi3o+J061eAtHpTOaYE5ZAdEy7aFYiIAJDR4BH9mWUN+BgUA6m7gwxmc6TtgVi2eVk+KdXoKS2Ba0dXRKKQ2cSjfQIBCQQHwGebv2FgATiLyz0SQREwD0JsG5iW0cXSutaEZFTjaWXkzB5exB+u/IOpu8OwWavdKSpbqJ7PhxOuGoJRCc0miNOWQLREa2iOYmACAwHAXoSm9o6EZ5Tjb0B2fjkRDQmbA3AtN3B+PZCIs5GFZri20xguatU5+Ewkca0goAEohWQ1OThBCQQH85ILURABNyPQHlDqwkvLzoXj3Gb/fGblXcw60A4dvtlIbWkHlWNPxfYdj8yWrGjE5BAdHQLOcn8JBCdxFCapgiIwJAS6OzqRkNrB7IqGo3nkIkrL6z3NdnO7x2MMN+xwLYuEXA0AhKIjmYRJ52PBKKTGk7TFgERGBICnV13UVDdjFvJpfC4mYrZB8Px4no/zDkUYQpu304uQ3FtiznSb0gmpEFE4CEEJBAfAmgofm5sbERxcTGys7ORmZlp3vPz81FbW4vu7p+LrHZ1dYHt+Ht6ejqysrLMi+0qKirQ2dlppsr2bW1tKCsrM20zMjLANpWVlT1tuOeF/VVXVyM3N7dnTM6B9w5mT4wE4lA8KRpDBETA2Qlwf2JeVRNOhedj1sFwPOfpgzEb/czRfRdji5BV3ojG1k5zEouzr1Xzd24CEogOYL+goCAsXboU06ZNw6RJkzB9+nR89NFHuHz5MpqamoxIrK+vB9tNmDABL774IqZMmWJeH3/8MXbv3m3EHpfS2tpqBN+mTZtMX6+88go+/PBDHDhwoKcNxWFDQwNOnDiBWbNmmT7ffPNNMwc+EBSJA70kEAdKTO1FQATckQAznVlgu7KxDYnFddjhm2n2JD6x4rbZo/jdxUQEZFSgumng/zvsjjy1ZvsRkEC0H1ure46IiMDOnTuxdetWbN++HRs2bMAnn3yC9evXw9/f34jEmpoa3LlzByNGjMDMmTOxa9cu8zp58mRPGw5YWlpq+vn++++xZMkS09fChQvx5ZdfIiwsDOynrq4OXl5e8PDwwGeffYZ169Zh8eLF+Oqrr3D69GkjMK2e/J8bSiAOlJjai4AIuDMBRmp4rnNycT3ORBZg8fkEvLYjyLx4dN+BwBxE5dWgub0T9DrqEoGhJiCBONTE+xiPIeDY2FgTQmaImOHhbdu24ZtvvjHijSFkCjsfHx+MHTsWe/bs6aMXGE9jUlISJk+ejFWrVplQNL2BFJEWL2JKSooJOX/33XdYtmwZzp49C3onKR43btyIBQsW4NatW332/6AvJRAfREe/iYAIiED/BBpaO5Fa0gDPm2mYtjsEv1vlZeonrr6eguj8GnNcX1unznTun6B+sQcBCUR7UB1gn+3t7Whubu7Zb0gxyPAyBRyFHL2C1ghEhqODg4MxevRo44lkuJn/L5XijyFnCk5vb2+kpqYaEenp6Qk+ABy/vLwc169fB0PShw8fHuAKAAnEASPTDSIgAiJgCNBDyBNWSupacSe5DD9cSsLLm/zxrIc33twTguOhecgsbxQtERhSAhKIQ4rbusEoCLds2WJCxAw9V1VVGYHIEPOTTz5pQsz0InJfIUPQJSUlJgGFiSj0/nGf4qFDh3oGoyA8evQo5s6di4sXLyIhIQFPP/20CT9bhCk9jaGhoSaEvWPHjp57+/tQVFRkxuY4nMvy5cvNvZyTLhEQAREQgYETYM3sioY2hGZXYbtPJuYeiTRnOr97IByeN1JxJ6XMHNfHAtu6RMDeBCQQ7US4o6MDFFGWzGRmH9//YgYxPYP04FkuegGjo6ONmKMH0c/Pz+xBZBg4ICAA48ePN0kqb7zxhklqYXILPX/cV1hYWIhLly6ZJBcmoFgujsNQ8ttvv40zZ84gLi4Ov/71r41X0dKG7wxz/+pXv8LmzZt7f93n5/j4eCMMZ8+ebebBeT322GPYu3dvn+31pQiIgAiIgHUEuu/eNWFlZjVTJD6/zhdjNvrj4+NRuBRXbGoqKtPZOpZqNXgCEoiDZ/fAOykOGR5+6623TDiX+wLvf82ZMwfnzp0zpWYsnTFhhUkjTESh14/ZxtyXSBFJDyHFIz2ADOnevn0bTEBh27S0NBMuflSBSOFojUBsaWkx5XUoPimC6bkcM2bMoMLTlrXrXQREQARE4GcC9BLWNLWbI/l2+GTinf1heGI5M50DwExn/3RmOv/iXBA3EbA1AQlEWxP9c3+sYchw7r59+8CQbV+vI0eOGMHHEDIFFxNI2I4ZzCxdQyFouSgS6ZVkO77zxX2Dq1evNsKTJXDooXyUEDP3KjKEbU2I2TIvy7v2IFpI6F0EREAEbEOAIWeWxGGm848RBfjTT79kOn96Mgb7A7LNec88qaVTmc62ga5eeghIIPagGL4P9A7m5eUZMfn555+bkjQ0jKX4NWdGgcj6hZYi1nynSKSYY/1E7k/kPUpSGT47amQREAERsBeB+tYO4020ZDqPWOWFidsCsfxKstmzWFTTgub2LnsNr37dkIAEogMYneKQewRff/11rFmzxoSP6Sm0iEFOkX9znyFFoUUcMpmFtQ5Z+iYyMtKUq+mvzM28efOwf/9+46VkWR2Gv7l/8f4yN6yLqDI3DvBQaAoiIAIi0IsAM51bmOlc2wKvlDKsuJKMVzb745m13qZ24jbvTMTk16C7+y5UNbEXOH0cNAEJxEGjs92NV69eBZM9/vd//xczZsww9QjpGWSiiaVQtiVr2BKyZkFtFrpetGiRKYdD0UePo6VQNgUgi2Wz6DaLZPPFLGUer0ehSY/j2rVrMX/+/J5C2dzPeOrUKRXKtp1p1ZMIiIAI2JQAw86VDW2IyKnGXv9sfHoyGmM3+ePNPaH49kIizkQVIrW0AaytqEsEHoWABOKj0LPRvdyL+PLLL+Oll17Cq6+++hfH6HGPIvcXsuA1j8Z77bXXTBtmMjOhhd5Dehh5sfYhz19m0euJEydi3LhxsHgPKQ55MVTNrOjjx4/jnXfeMWVxeLzfDz/8YBJOdNSewaR/REAERMBhCTDTuaa53XgTvzobZ5JXRnn6YsrOYOzxzzYCkiVzWF+RbXWJwEAJSCAOlJgd2lMAUtSlp6cbIZiVlQW+6BXkKSr0DFK0UeDRYJbf+c5TVyznNXNq3KtIkcjvKSrZL0PYzIC27GlkiJoi0dIf2zETubi42IzTO7Rt7XKVpGItKbUTAREQAdsQYNi5vqUDORWNOBtVgM9Px+LJ1V4Y6eGNdw+GY6dvpvEmMjStSwQGSkACcaDE1L5PAhKIfWLRlyIgAiJgdwIUigXVzaaQ9obbaZhzOMIc1Udv4vcXE3EuutCcxKIkFrubwqUGkEB0KXMO32IkEIePvUYWAREQARJg7cSqpjacjynCwjNxpsD2iNVeeOdAOA4F5yKxqA51LR0m5Kygs56ZhxGQQHwYIf1uFQEJRKswqZEIiIAI2I0AtxqyHmJtcwdSS+pxOa4Y845F4aUNfnjO0wcLz8bhemKJyYbWvkS7mcFlOpZAdBlTDu9CJBCHl79GFwEREIHeBJicUlrXipuJpVh1LQXTdodgwrZAfHw8GgeDchFXWIvaZp3E0puZPt9LQALxXh76a5AEJBAHCU63iYAIiIAdCbAuYkpJPXb7Z2P6nhA86+GDsRv9selOOoIyK2HJdFaisx2N4KRdSyA6qeEcbdoSiI5mEc1HBERABGCKZlu8id6p5fjhUpLJcmaB7VkHmOmchfTSBrR1dAuXCNxDQALxHhz6Y7AEJBAHS073iYAIiID9CXDPYWVjG4KzKrHNOwMfHIk0J7Aw03nZ5WRcii1GTmWT2Z9o/9loBGcgIIHoDFZygjlKIDqBkTRFERABtyfAkjjce3gprtgkrYxa54un13ib0jjHQ/OQVFxnklzYTmFn935cJBDd2/42W70Eos1QqiMREAERsBsBlrf5WSR2IKm4HueiCvH+4Qi8sN4Xozx9TLHtC7FFRiR2dqkYjt0M4QQdSyA6gZGcYYoSiM5gJc1RBERABH4h0NLehcKaZlxNKMbKa8l4a28oJmwNNOHnbd6ZCMysNJnQv9yhT+5EQALRnaxtx7VKINoRrroWAREQATsSYKZzWmkDDgbn4O39YXjW08dkO393MRHXEkpQVNOCprZO43m04zTUtYMRkEB0MIM463QkEJ3Vcpq3CIiAuxNgIJmZzuUNbQjLqcaG2+l4dUsARnr44PUdQSbzOTyn2oSd3Z2VO61fAtGdrG3HtUog2hGuuhYBERCBISDATOf61g7EFdTiSEguvjwTh6m7QjBusz++OBOHw8G5iMmvRX1LB+4qg2UILDK8Q0ggDi9/lxldAtFlTKmFiIAIuDkBaj96FEOyKrH2Ripe2RIAnunMkjgeN1IRml2F8vpWtHd2m3Od3RyXyy5fAtFlTTu0C5NAHFreGk0EREAE7EmA3sTGtk7kVjXBL60c3/wUj/FbA/Dkai+8sz8MBwJzUFDTbISkPeehvoePgATi8LF3qZElEF3KnFqMCIiACBgCHV3dqGluNxnNO3wy8YejUWZ/4sx9YVh9LQU3EkuRW9lkElhUFMe1HhoJRNey57CtRgJx2NBrYBEQAREYEgLFtS1GEH56IgYvbfAz3sT5J6NxMjwfORVNqGvpAAWlLtcgIIHoGnYc9lVIIA67CTQBERABEbArAYq/2uYOpJTU42BQDn6/L8yUwxm3yR8LTsXidnIZSutb7ToHdT50BCQQh461S48kgejS5tXiREAERMAQYAJLW0cXMsoacD6mCEsuJmHG3lCM3uCHj45HY6dvljnvuaqxTXUTnfyZkUB0cgM6yvQlEB3FEpqHCIiACAwNAXoUk4rqsMsvC1N3BeOpNd4YvzUQf/opAd6pZeaUlpaOLmU6D405bD6KBKLNkbpnhxKI7ml3rVoERMB9CdCbSAFYUteKiNxqrLmeaoTi/624Ywpsb7idhsTiOnMKi/tSct6VSyA6r+0cauYSiA5lDk1GBERABIaMQNfdu0YERufV4FBQrtmPyJNY6FX80/kEnI0qRGppvUlgUX3tITPLIw8kgfjICNUBCUgg6jkQAREQARGoamw3hbQpDCkSf7vqzv9v77y/q6rSPv7+EfPTlDXzwxSnrFkza3R4LeArSEcBARVRpIjCKIggRQEbRTqo9F6lSVGatITQCb2HTiAkIYH0Xnje9dkzByKT3OQmN8kt37PWJck9+7TPPuzzPU/b1nX+IZsdc8XN95yWU2iFynQOiRtFAjEkuin4T1ICMfj7SGcoAiIgArVNoLj0PwW2U3Oc5fDd5cfs2QlR1nhitPVacsQ2nrptCel5tX0a2n8ACEggBgCidiELou4BERABERCBhwRKSu/bzXu5tu1csn255by9Mf+QE4lvLzli3+y67Apvp2YXGIJSS3ASkEAMzn4JubOSBTHkukwnLAIiIAK1TqC45L5dTc2xRfuvu3I4T325y7meh3x3ynacT7b4e7mWW1iikji13hP+H0AC0X9m2qIcAhKI5UDRVyIgAiIQ4QRc3cTiUruTmW8ksYzbSqbzAfvHqB324rS97u/j8WmWlV8c4aSC7/IlEIOvT0LyjCQQQ7LbdNIiIAIiUCcESu/fd5bC4/Hpzpr4waoT1vrrPdZh5n4btOakLT8Ub6dvZbiyObTVUv8EJBDrvw/cGRQXF9vdu3ft5s2bduXKFfehc27fvm35+flWWvpwfsusrCxLSEhwbS5fvmzx8fGWnZ1t7MNb2CY1NdWuXr1qly5dMvbF/vneW4qKiiwzM9OuX79u7Ie2HC8nJ8drUuWfEohVRqWGIiACIhDRBO7lFLq6iZ9sOGMvfrPXGozeaS/POmBTdly0kzfTnbUxv6gkohkFw8VLIAZDL5g5Mbd06VLr37+/tW/f3l566SXr0qWLjRgxws6fP2+5ubnuTO/fv2/R0dH28ccfu3Zt2rSxPn362J49e9w+vMthm3nz5tkrr7xiLVu2tDfeeMMWL17sxKLXJjk52Xbs2GE9evSw1q1bW8eOHd3xDhw4YBzHn0UC0R9aaisCIiACkUuAxJScgmIXf/jDyds2aM0pl8DSaHyUdZl70JYcvOFK4vj7HIpcorVz5RKItcPV771iFUTkffvttzZjxgybOXOmffbZZzZ48GCbP3++nT171goKCpy1b9asWdarVy8bN26cjR492oYNG+ba7t2711kasRKuXLnSevfubSNHjnTtPv/8c3v77bdtw4YNbj/8x9u5c6d9+umnTmyOGTPG+CAWFy5c6KySWBirukggVpWU2omACIiACECgtPS+3U7Ps90XU2zqjov21qJYN6dz1/mHbczm87bldKLdSsuzguKHHjSRqzsCEoh1x9rnkXAhYyUsLCx80G7//v02duxY69u3r23ZssXS09Nt8+bN9sknn9iQIUMsMTHRfTZu3GitWrVyFsO8vDznJkYYYoVEuGVkZNiRI0esRYsWNnHiREtKSnKu5qlTpzorJFbEO3fuOBdzv379nKjcvn27X65mCcQH3aZfREAEREAE/CBASZykjHxbd+yW9V561J6bGG1NJu22Hotibd2xBLuUnG3ZBcXKdPaDaSCaSiAGgmKA9oFILGtSx6L4xRdfPBCIxAciGLEarl692gk/rHwnTpywZs2a2eTJk52FEXE3atQo++ijj5xYLCkpceLvgw8+cNbEXbt22a1bt1wb3NnEKLKflJQUW7Zsmft+ypQpLmaxqpcmgVhVUmonAiIgAiJQlgABTUUlpcYsK+cTM23+3mvWc1GsPT5yhzWbHGPEKu67nGoZeVX3apXdv36vHgEJxOpxq7WtSBTZtGn7v+r7AAAgAElEQVSTTZ8+3QYMGGDvvPOOczETU3jjxg1D5CESEY9eMsnFixedJXD8+PF29OhRF2uIu7isyCOphe2+/PJLW758uZ08edKJz9dff92JRS4IS2NUVJSzIBLjiFWxooX9xcTEOHf07Nmz3b4aNGjgzrWibfS9CIiACIiACFREAKFYWFxql5KznOVw+Pp/J7G0n77P+q88YUsP3rBTt9Itr7DElOlcEcXAfS+BGDiW5e4JtzBZwmQmkylc3geXL2IPCyIJIlgNX3zxRWvUqJFLMtm9e7ez5tFZxBESe3j8+HHDnczCvklCQSCSwDJt2jQnBOfOnWtpaWmuDcfwvie+EYGJG5o4RSyTLGRCx8bGuuO///77zhXtVpTzz6lTpwxh2K1bN+vUqZNLcnnsscdszpw55bTWVyIgAiIgAiJQdQK4lC8kZdnYrRdcKZwGY3a6+omTt180SuUkZ+abMp2rzrM6LSUQq0PNj21ICnnzzTddPGDbtm2tvA9WvcOHD7sYREQasYUISRJWSEAhbhDhFkwCEXGKSxrxi9Vz27Zt1rRpU1u0aJEfdNRUBERABERABP6bABZCBCDzNm86dduYeaXxxN3WcFyUvTr7oC3Yd83O3c78SVjWf+9F39SEgARiTehVYVviA8kKxmqH27i8z9atW53QKpugwq7j4uJsyZIl1rNnT1u7dm1QuZgfvXTFID5KRH+LgAiIgAjUlABCMTEjz2IupthXOy/ZW4uPWNPJu63L3EP2+Q/nbMPxBLuakm25hQ/rANf0mNr+3wQkEIPkTiA5hUQREkq8hRhAspe9DOVAJKkQh6gkFY+wfoqACIiACIQCATKdcStvOJFg7y0/5srh/N+EaDe/sxebmJZb6JJd/KviGwpXXz/nKIFYP9z/66hYDxGAJIp4C3GGlKLp3LmzrVq1ypW5IYGlvDI3FMMm5tArc0McIxnKWPaYLQUXdfPmzW3ChAnOhU2tRF9lbnAZ4+6u6iILYlVJqZ0IiIAIiIC/BLxM5/TcQruYnGXLDt2wPsuOWoPRO+z/JkRZ32+P25qjtwxrI2JSS80JSCDWnGFA9sA0eMQcei5oimUj8qh3yHe4qr1C2bircTtjDaScDXGKFLwm8YREF8TfihUrXAa0VyibotsU116/fn25hbIpncOne/futmDBAhXKDkivaiciIAIiIAKBJkBJnGupObb5dKIrqN15zkFrO22fUWB78vY4i7pwx1kbC0tUYLsm7CUQa0IvgNtiPUSgde3a1SWytGvXzv3ODCiUuPFK2uCKphTN0KFDjTZMkUcmMiVnSBrxFmZeIaP45ZdfdgWyKWdDAgklcbyFqfaomYgoZD8dOnSw4cOHGwW6y9Zj9Nr7+ikLoi86WicCIiACIhBoAgXFJXYrLdclrPRafMSeHrvLnh0fZQNWnbAtZxJdbGJ2frHfz7NAn2eo7k8CMUh6jvhDspfJCiaDmdI1dA7fYRHEMugtTMtHHUKvdE58fLzxXXHxwyBdXM2pqakuw5hC2OwLKyX78haOifu57DERqv64lr19SSB6JPRTBERABESgLghgyMBKmJpdYIev3bNZu6/YSzP22zPjdlnzqTE2cuM523MxxRCSqpvof49IIPrPTFuUQ0ACsRwo+koEREAERKBOCGTmFdmFpEz79nC8Df7ulHM5t5u2zz5YecKWHLhuZxIyLD1XM7H40xkSiP7QUtsKCUggVohGK0RABERABOqAwP375monYk0ct/WCE4nPjIuyVl/tsW92XbYDV+7a3ewCN1sLbbX4JiCB6JuP1laRgARiFUGpmQiIgAiIQK0RwJWcU1BsN+/l2razSTZs3WlrND7KnhkbZT0Wxbp4xfi7ua4cTq2dRJjsWAIxTDqyvi9DArG+e0DHFwEREAER8AhQ6iYlq8D2Xkqxr3desm4LYp1F8ZXZB9z0fYjH2+l5zprobaOfPyUggfhTHvqrmgQkEKsJTpuJgAiIgAjUGgGE4t3sQlcjsd+K44bLueG4Xa5u4vrjCXYpOcuIX6SdvM4/7QYJxJ/y0F/VJCCBWE1w2kwEREAERKDWCCD6ikvvG7OsHI9Pt0X7r9srsw+6OZ2fn7Tbhq49bVvPJD0QibV2IiG4YwnEEOy0YDxlCcRg7BWdkwiIgAiIgEcgu6DYLt/JdtbE4evPWMeZB6zN13utz9KjNjP6ih26dtfuZD0sBedtF6k/JRAjtecDfN0SiAEGqt2JgAiIgAgEnAAWRWZiOXkz3WU2d5p1wJ4Zu8uemxhtIzedsx3nki0pI89lQ0d67UQJxIDffpG5QwnEyOx3XbUIiIAIhBoBStzkFpZYYnqe7b+S6pJWWkyNcTOxvDrnoE3aHudqKuYVlYTapQX0fCUQA4ozcncmgRi5fa8rFwEREIFQJICFMCOvyI7eSLP5e6/Zu8uPWfsZ+12286ffn7UNJxLsSkq2RapQlEAMxbs6CM9ZAjEIO0WnJAIiIAIiUCkBLIpZ+cXOvTxs/WlrPHG3PfnlLuu5KNYW/2cWlns5hc41HUkFtiUQK7111KAqBCQQq0JJbURABERABIKRAGVuMvOL7EJipq09dst6LIx1cYnPToi2PsuO2arYm5acke/mfg7G86+Nc5JArA2qEbhPCcQI7HRdsgiIgAiEGYH8ohJLSMuzTacTbczm8/bGvEPWauoeV2h7wo9xtuN8spulJRIsiRKIYXZz19flSCDWF3kdVwREQAREINAEiE+kiPbyQzes+4JYe3Z8lD01dpd9sOqkrT2WYLfS8lyiC5bHcF0kEMO1Z+v4uiQQ6xi4DicCIiACIlCrBAqKSiw1q8BO3Uq3mbuv2KuzD7o5ndtN22effX/WTsSnu9jFWj2Jety5BGI9wg+nQ0sghlNv6lpEQAREQAQgcP/+fcsrLLHziZm26shNG/zdKes084BzOzMLy+ojNy0uKctZE8PN7SyBqP8DASEggRgQjNqJCIiACIhAkBLIKyy2w9fu2pdbzluLKTHWYPRO6zr/sM2JueoKb6dmF1hhcamFi1CUQAzSGzHUTksCMdR6TOcrAiIgAiLgDwHiEnMKil1txM2nE+2dpUeN+ZwbjouynouO2JIDNyz+Xq4VFJf6s9ugbSuBGLRdE1onJoEYWv2lsxUBERABEageAayEyZn5tu1sko3/Mc66LYy1llP32BvzDtvozeddBvTVlGwjgSWUU1gkEKt3f2irRwhIID4CRH+KgAiIgAiENQHiE6+l5th3R2/Z20uOPiiw/c6So7b04A1DJGbmFVlxSWhaFCUQw/r2rbuLk0CsO9Y6kgiIgAiIQHAQwJ3MLCsksSzcf926L4y1Z8busuZTYqz/yhMWHXfH7mTlB8fJ+nkWEoh+AlPz8glIIJbPRd+KgAiIgAiENwGSUnA7X76Tbd+fuG3M49x5zkFrOnm3vbf8mM3dc9WOXE9z8z4TxxgqiwRiqPRUkJ+nBGKQd5BOTwREQAREoNYJYFHEmjgj+rJ1mLHfZTq3m77PRm46b/svp1piRp4xW0soCEUJxFq/XSLjABKIkdHPukoREAEREIGKCWAgRADeTs+zfZdTbcT6M/biN/ucUHx51gGbFnXZLiRlutqKFe8lONZIIAZHP4T8WUgghnwX6gJEQAREQAQCRIAM5oy8Ijt49a7N2n3V3l1+zGU6vzL7oI3YcMbWHU+wuOQsKywJ3rqJEogBuhkifTcSiJF+B+j6RUAEREAEyiNASZyouDs2cPVJl7zyv2N22psLDtvcvVedNZEkF2IYg22RQAy2HgnR85FADNGO02mLgAiIgAjUKoGiklJX7uZqSo6tjL1p/1p21BqO22WNJ0a78jgktlBgO9gWCcRg65EQPR8JxBDtOJ22CIiACIhArRMgd7m49L7duJtjP55JctP1UVi76eQYe2vxEZuy46LtunDHEjPyg2YmFgnEWr8tKj9ATk6OJSUlGZ1x5coVu3r1ql2/ft3S0tKsuLjYTRZeWFho6enpdvnyZbt48aJrR9tbt265diUlJe5ApaWllpuba4mJiXbp0iX3oQ3bem0o7llUVGQpKSnuWLTjeMnJye77ys/4v1tIIP43E30jAiIgAiIgAo8SwKKIUFxy4Lqby/mZcVHWfGqM9V1x3L4/edvikrIsPbfQaFefVXEkEB/tuXr4++DBgzZmzBh77bXXrH379tapUyfr3r27rVq1yu7du+eEHSJv/fr11qZNG2vatKm99NJL7jNo0CBbvXq1ZWRkuDNHbB49etRGjRplrVq1shYtWtiHH37ots3MzHRtEIcI0tmzZ7tj0a5r1642adIkJxIRmf4uEoj+ElN7ERABERCBSCTg1U1MySqw4/Hp9tWOS/banIP2+Kgd1mRStA1YfcLWHb9lSRn5VlxSf3UTJRCD4O7Egvf999/b3LlzbebMmTZlyhQbMGCAjRs3zrZs2WJZWVnOurhs2TJr3LixvfXWW64dbb/77jsnCPPy8pyl8ebNm/b555/bkCFDnEicOHGiDRw40P19/vx5Z11MTU21FStW2MiRIw2BSZvBgwe7dtu3b7fbt2/7TUUC0W9k2kAEREAERCCCCSAUcwtL7ExChotNHL7+jHWcud/aTt9n3RbE2sRtcbbjXLJROxFrYl0vEoh1Tbyc4+E+xi3sWe5w/S5atMiGDRvmRByuXzoKS+Hrr7/uLIvl7MbYD9ZDLIzjx493VsL8/HybMWOGvfrqq7Zp0yYn/nBT9+zZ0+1737597thbt261jz/+2FkyDx06VN7ufX4ngegTj1aKgAiIgAiIQIUEcgqK7VJyls3YfcVN1/f02F3Gp/+KE/bDydtGgkt2ASFnFe4i4CskEAOO1P8dEhPoiUO2vnPnjs2ZM+eBFZC/qyIQiTtEBHbs2NEWL17s4gnZL+JvxIgRzjKJgDx9+rQ1bNjQWQ5xTdMmLi7OlixZ4lzbuLL9XSQQ/SWm9iIgAiIgAiLwbwLMrEKBbdzOsdfv2by916zjrAPWcHyUtZi6x0ZtOu8Kb1MOp65EogRikNyd2dnZRiwibmTiB4lB/OKLL2zbtm0/cTE///zz1qtXLxc/iKDD2kcyCwkouKqXL1/urIPr1q17cGXsF7f18OHDDRdybGysPfnkk/bNN988EKZYKTdv3mwvvPCCLV269MG2Ff2SkJBgMTExtnDhQncunGuDBg1s/vz5FW2i70VABERABERABCohkJVfZBeTs2zVkZs2ZO0pazttn/t8uPqkfXso3k3ll5lXVMlear5aArHmDMvdA4kgiCgyknHplvfxMpVxDRMXiNWvd+/e9txzz9nTTz/tLHy0YT2xhWvXrnUCDhdyhw4drHPnzs6V7LmJz5w54wRa3759ndjzTuz48eMuZpFYRKyDtG/UqJHNmjXLa+KSXKKioqxJkyY2b968B99X9MupU6ecMOzWrZtLdGndurU99thjzvJZ0Tb6XgREQAREQAREoHICXiLL4Wv3bOzWC9bm673WcFyUE4rMzBJ77Z7dzandTGcJxMr7qVotEIdY7Ij9a9u2bbmfHj16uCQTRCDlbO7evWvx8fHOkkhWM5ZELIqUqMHCyD4RZrhz+blmzRrr37+/syiyri4FIkkxxEpy7ohgLJ0IV2IntYiACIiACIiACNSMACKR2MQbd3Nt8+lEG7TmpCuw/czYKHt7yRFXJichrfYSWCQQa9Z/FW6NqNuwYYPLTJ4+fbqV98FieOzYMScMy+6IcjTR0dEuiYQSNcQWIiALCgqcNRF3Mr8jzkgsadmypZGhjHCsKxdz2fPld8UgPkpEf4uACIiACIhAzQlQ6iYpM9+i4+7Y5B0X7Y35h5wlkdI443+8YLvjUiwtt9AV4q750R7uQQLxIYt6+w3Bh0uaZBUWMo+JJ/zss8/slVdecVZFEklo57Xhb9phaWzWrJmdPHnSJbLUNEkFl7GSVOrtVtCBRUAEREAERKBcAsWlpXYnM99Wxsbbu8uPuQSWZ8dH24Qf4+zmvdyAz+csgVhuN9Ttl1gbsRIiElkojk2SCdZD4glxH1MGh3ZYElkQh8yoQpvmzZu7GEfcvkeOHDESWShzQ+JJ2TI3GzdudPsiHhL3NoklXvyiV+Zm9OjRLvHFHcSPf2RB9AOWmoqACIiACIiAnwQwIVEP8V5OoR2LT7PFB67bO0uP2qL9143ElpLSwNbAkUD0s4Nqo/nhw4ddrULc0NQsJOOYAtZYBxGKlKIhzo8sY8rf0O7rr792LuihQ4e6ZBbiAbEuEsOI5bFsoWyKbrM/RBxC0yuUjUAsWyibdsQSqlB2bfSy9ikCIiACIiACgSGQnV9sV1Oy7cezSXY6IaNWpuWTQAxMX9VoLwi/Pn36uPqFJLQw1d7bb7/tklC8qfZwISMMu3TpYu3atXNZzCTAICipYUhMIgvJLJSxYZYUYhOxLiL8yID2ptojK5qp9shipmaiN9UeM6rwPa5sfxdZEP0lpvYiIAIiIAIiELwEJBCDoG+wEGL5u3LlivtgLbxx44arb4hLGcuglzVMh5Vth+UQN3LZ2ETmY8ZlTRwjH+Zx9molcrm0xZ3NtuyLNuwXl3TZWEh/0Egg+kNLbUVABERABEQguAlIIAZ3/4TM2UkghkxX6URFQAREQAREoFICEoiVIlKDqhCQQKwKJbURAREQAREQgdAgIIEYGv0U9GcpgRj0XaQTFAEREAEREIEqE5BArDIqNfRFQALRFx2tEwEREAEREIHQIiCBGFr9FbRnK4EYtF2jExMBERABERABvwlIIPqNTBuUR0ACsTwq+k4EREAEREAEQpOABGJo9lvQnbUEYtB1iU5IBERABERABKpNQAKx2ui0YVkCEohlaeh3ERABERABEQhtAhKIod1/QXP2EohB0xU6EREQAREQARGoMQEJxBoj1A4gIIGo+0AEREAEREAEwoeABGL49GW9XsnZs2etRYsWNmnSJGOqwEB+Ll++7KYDZFrAQO5X+6q4nzzmYlQxo0Cx4b6+ePHig2k2A7Vf7afivvPub40pFTMK1P3jTecK80DtU/upuN8CeW/HxMRYmzZtbMaMGfWqL6p78P+p7obaLrAETpw4Yf/85z/tqaeesk6dOgX0ww2K+OzQoUNA9xvo8wyn/bVu3dpatmxpHTt2FPMA38+P3ift2rWzpk2bGj8fXae/AzuWeDzbtm3rmLdv317Ma/n+ZgxhLGEc9/jrZ+3c13B94YUXrHnz5vbSSy/VmDd99tvf/tYmTJgQWMFQR3uTQKwj0JUdJikpyWbNmmVff/21zZ49O6CfLl26WOPGjW3ixIkB3W+gzzOc9sdAgyivjf4MJ06BuJZBgwbZn/70Jxs4cKDu7wCPHRX1z/vvv29//etf7aOPPhLzWmY+efJka9Kkib322mtiXcusud979uzpDDWjRo2qMe+ZM2e65+6+ffsqkwBBuV4CMSi7JbAnxQDTrVs3S05ODuyOtbcKCYwcOdLeffddy87OrrCNVgSGwK5du+yJJ56w7du3B2aH2kulBH744Qdr2LCh7d+/v9K2alAzAqmpqU60hKoVqmZXX/dbz5s3z1kPL126VPcHD7IjSiAGWYfUxulIINYGVd/7lED0zSeQayUQA0mzavuSQKwap0C0kkAMBMWq70MC8SErCcSHLML2NwnEuu9aCcS6Yy6BWHesvSNJIHokav+nBGLtMy57BAnEhzQkEB+yCNvfiIPo16+fpaSkhO01BtuFIcqHDBliOTk5wXZqYXc+e/bssWbNmll0dHTYXVuwXtCPP/7ogvljY2OD9RTD5rzu3btn/fv3t+nTp4fNNQXzhSxbtsy6d+/uMsaD+Tzr4twkEOuCcj0fAwvLkiVLLDMzs57PJHIOv3XrVlu5cqUVFBREzkXX05XGxcXZuHHj7MKFC/V0BpF32NOnTz8oyRV5V1+3V0wcM6Jl586ddXvgCD0acbVz5syxO3fuRCiBh5ctgfiQRdj+duvWLffwLCwsDNtrDLYLu3Hjhqs9WVJSEmynFnbnk5aWZkePHjV+aqkbAnfv3rXjx49bRkZG3Rwwgo9SVFRkvATdvHkzginU3aUnJiYadYnz8vLq7qBBeiQJxCDtGJ2WCIiACIiACIiACNQXAQnE+iKv44qACIiACIiACIhAkBKQQAzSjtFpiYAIiIAIiIAIiEB9EZBArC/ydXBc4t/Ior19+7aLh6PwJ/GI6enpVlpaWgdnEJ6HgCuB4/Hx8S7Tjbk7+RC7QiLQ/fv3HV/Y04a5VPlcv37drRf7mt0XFHy/du2aY5ubm+tYE1/LbETevLXEgBInR19oqR4B7tOsrCwX+8bcvdzj8CXWk+Sr4uJiV3yfvmBs4SclWfj/Ie7+Mc/Pz3dVJhgjPM6MHbCmH4hDJJvZ6wdYM67TD2LtmzX3MM897lHmbIdr2eRB+MLZYw/jhIQEo0/KsmXMhzn/B+gjxhj2zf+DcF0kEMO1Z83czUsZis8++8xatWrlpn4bPHiwff/99yq/UoN+JzB/79691qdPHzfXMnN3vvjii/b555+7TEMGcwKcYf/ee++5ObCZJ7hHjx5utg9ETdmBpwanElGbwozBfNKkSW7aMfiTnAJrBvQvv/zSsWaKw7feessWLlxoCEe20eIfAVjDNSYmxpXIevnll91cwMxPu3r1aveQJMuT6Ts7d+7sxpfXX3/dZX+G+0PTP5JVa00GPtO8MUYwlsCZmZjWrl3r+oGXohUrVpjXD0y7x7iOUFEinG/Gu3fvtgEDBrjnH3O29+7d273MsBVjA8Lvu+++szfffNOxhzFTSNInnpDk/wNj/vDhw90YwxzLvXr1sqioqLAuHyeB6PveCtm13NC8ZY4YMcKGDh1qzCvJg/WDDz6wjz/+2L1NKUuret2LBfbIkSPu4ThlyhQ33zJ1D5mf9osvvnAWl4MHDxoFV//1r3+5gXz06NFuYJo2bZqxLpzfOqtHtfKtsAhSgoJ7uHnz5ta6dWujBiL3OWUpuNe5t7/66itXNw7BDmu20+IfAe5PHqzU3mP8YJo35hXn/qUPuP8RL8OGDTNeOvl/wEOYAvFbtmxRiZAq4mac5oVxw4YNhsBm/IAzPBEglG86cOCALV++3L0AwZjv4M4L0vr1650lq4qHi8hm3lhNXdq2bdu6lxmvJBbikPqpPBt5mYctIpAxhtJCtOMlE2vh3Llz3ZSHvIiOGTPG9QEiPZzrr0oghul/Gd58eDg+++yzNnXqVOcKwmTOw5OBaNu2bc4lF6aXX6uXhYUEVwODB2KRN3gGeQZtrClwh/OgQYPcA/X8+fNONM6fP9+14QFAX2ipOgEYnzlzxj1AeUgyt7gnEPft2+d+h/mxY8fcTnmgIhjHjh3r+qnqR1JLT7TwUsM9jAjBfY+1Bes4oRPUVuXlhwcqVhS+37x5s7ENRZ3PnTsnkFUgwH3NBAaM0f/4xz/cCw+CBJcnQgXxzcsP1i2EOrUQWcc9j5UL3qqP6Bs0oT94Gk6cOOG8PHjTPIGIFZyXmk8++cS+/fZb9zLJGEJ/IBLxtjHeU9eWF07GHsQiFl2KxSM4eYnihYr/N+G2SCCGW4/+53oQMLyV4trENcEAzgC/ceNG9+DkPwD/YbT4T4BBHZ6IPH5nYIAtb/24Lxg4eHgiYhhsEJE8VKllNnDgQPemyt9aqk4Atz6WKe5n3Jq88ePmwQXK97/5zW/cfY5FgIV7e8aMGS4EAIuXlqoT4N5GtGDB+vDDD50g4TsW715nbHn66addMXgewNz/1OmbNWuWNWrUyFm9qn7EyG3pCUTGjr/97W9OeDM2EMuJOEQE8rLz3HPPOYHIWIIYIV4OtyjjzIIFCyIXYBWunHuX2HBiD7H+lRWIfMdLPeKP2ELGdNjzAtS+fXs3hvB/gTEHLxzPUjwS7JMXf8KLeAklPjQcvUISiFW4wUKxCWJk6dKlTqQgCr2FN0/cobyd8ruWmhNgYEDAfPrpp26KJt5WiYEjloWHJ4MJbRAvuKGJH/KETM2PHhl7YMDmTZ0Bfs2aNS5eC4G4Y8cOW7dunf3qV79yL0TeWzxB6YsXL7Ynn3xSFhY/bxHuTcYPXnDwNsAXEQLPTZs2Oes5ouV3v/udsxryUIU7ISuLFi2y3//+92HtdvMTp8/mcMP7gJWWcYEXSMQKrmashlhocfUzlSQWcYQ4CyKF8Zv+QVxq8U2AMRijCTzLCkQSUp5//nnHG2EOXyy4p06dssaNG7v2jOGIday19AUWRRZE+quvvuq+53cvXtH3mYTWWgnE0OqvKp8tNzgxEwQ6b9++/cF2xGNgWcF8jmtIS80IMMDz9kicUN++fV1cEO4H4oN4Ay07vSFtaUMAujfI1Ozo4b81whpWvMET74ObGdYE9CMQcWuSNIFYQbx4Cw9QXEZ/+ctfnEXX+14/KyfA/UyYBOIDYcJLTZcuXZyAwWKFSxN3/s9//nMn0L09cn/zUvqLX/xCotyDUoWfiJJDhw658BPEyhNPPOGssIwfhKPghcCViWj0Fv5PYCXv1KmTs2B53+tn+QQqEogk+WAJL8uWPZDxzPe4n0mA4zlK3CEv/573B+tjz549nUBkXArHmH4JxPLvp5D/VgKxbrqQt00Gd9wUuIOIWcGighB8VCByRhKI/vUL7h7cyLh3SJDA2sI8wBKI/nH0pzXimoxNxAoinJAJxpMffvjBZTTzoMS69ahA5BgIxF/+8pcSiFUEjqhGcOAuZgxh/nZe4hHoxHIypmC59axc3m4lED0SVftZHYH4zDPPuHFHArFqjNUqhAjIxVy7ncXAzps/WbRYt3iTJD6Ft0q+J7i/rIuZWCO5mP3vE1xAM2fOdIIEKxbhEWQjwvbPf/6zy1rmb0QJcXH0C4tczP6z9rbA6n3y5EknDnEz45rjpYcxBe8DgfqUEqrIxfyHP/xBLmYPZiU/ES5wJXaze/fubn5rXBrO/wgAAAZKSURBVJWErPAdyRMkvz3++ONyMVfC0tfqigRiRS5mXkKbNGkiF7MvqFoXugSUpFK7fYc7gaB8YuIQh7jzcUt4CxYvHq64JJSk4lHx/ycuIBKqcHcSE0QdM+IK//jHP9rPfvYz52LD8vLrX/9aSSr+4y13CwQK93bXrl1dkgpWcl56sKR4VkRcz0pSKRefX18ivHnJHD9+vEtwI/GBlxwvLpG4t3feecf+/ve/K0nFL7I/bVyRQFSSyk85PfqXXMyPEgmTvxnkidUio5AHLOn8DEZemRvcRgTfavGfAAM4YpCYuH79+jkLIg9P+HoLrjYyQHGLli1zQ50+lbnxKFX+k/uYe5dah8yCwIesZWKDyOzENYdbn8Bz7vOyZW5IxFKZm8oZP9oCMYi1mzhlgvMp68ELEXFWBPljHScmizjb8srcELN49uzZR3erv8sh4CVE4LZHdBOugpjBgkimPqVtEIm8BJVX5oYXUZW5KQfsI19VJBCJF6+ozA0u/rJlbhjvHy1zQ1Fzlbl5BLb+DH4CiBjM5zwkccExkOAK9eJaEDjhGFRbFz1DED8Dx1NPPeWsWsx+gOjDFbpq1SonCImbw6rIQ5SBhUGeEjjffPONiy8Kx5IIdcGeY1Bjz4tB9Apl8zf3OjFbvAQhUuDOSxIxdVr8I8ADlXuZ+xbxAlPGEJJUKADP/Y8454UHEUkmLQ9Pgv1JHELUa6mcgFfmhoQqRCD3LKzhCWssi4wlvHDSD4h2RDluZ8YTMszJoNVSMQFqHpJ1z71M7dTHHnvMPRO5fw8fPuzuV56NvPTAlnEEzjB/tFA2Yz39wL7oAypXqFB2xey1JogJEMjMGyk3ccuWLd3sE1i1KKngZWIF8ekH7anhliBwnGxD3J4ko5CZzAcBTukVxDmDD4N8hw4dXP0+YowoUA57BLyW6hGgXhmZy7DFhc+LDjGHDNz0AfFxuP0pTO65R6t3pMjdCisiTBEuZMrClRhQRCBJFFi4EIEIGEp9YMFlPUKdGEa9APl375AEhMXwjTfecLX1GDPwTjBW45nA0uX1BSKHkjiM67zoIzK1VEyAElnMksIzsEGDBs5dj2cNSzgFsLnPKZ1FSAV1Dbnfsdbi+fG8QozXvIzyQsT/BfqAUmZYb8P5ZUgu5orvq5Bfw8CBGCEekYGED/8ZiInjAaClegQQHVilGEBweSJYvA+xWzwgcY3CHjHpreNNn3ViXz3u3lawZTYJ2BKrBU/6hNk+YM19DmsyoCXEPWr+/4Qp1nJeduCKm5/xg/uasQUrI8xZD3PWU1SYdeLuH29echCBMCTuFt6MJd5YDWuvL1hPOy95SKx9s8ZQwljBPYpFEA8EiUHcy7zocJ8znjBmwJb72QsZKjtWE3bB9/QN7Qi9YN/h/DIkgej73tJaERABERABERABEYg4AhKIEdflumAREAEREAEREAER8E1AAtE3H60VAREQAREQAREQgYgjIIEYcV2uCxYBERABERABERAB3wQkEH3z0VoREAEREAEREAERiDgCEogR1+W6YBEQAREQAREQARHwTUAC0TcfrRUBERABERABERCBiCMggRhxXa4LFgEREAEREAEREAHfBCQQffPRWhEQAREQAREQARGIOAISiBHX5bpgERABERABERABEfBNQALRNx+tFQEREAEREAEREIGIIyCBGHFdrgsWAREQAREQAREQAd8EJBB989FaERABERABERABEYg4AhKIEdflumAREAEREAEREAER8E1AAtE3H60VAREQAREQAREQgYgjIIEYcV2uCxYBERABERABERAB3wQkEH3z0VoREAEREAEREAERiDgCEogR1+W6YBEQAREQAREQARHwTUAC0TcfrRUBERABERABERCBiCMggRhxXa4LFgEREAEREAEREAHfBCQQffPRWhEQAREQAREQARGIOAISiBHX5bpgERABERABERABEfBNQALRNx+tFQEREAEREAEREIGIIyCBGHFdrgsWAREQAREQAREQAd8EJBB989FaERABERABERABEYg4AhKIEdflumAREAEREAEREAER8E1AAtE3H60VAREQAREQAREQgYgjIIEYcV2uCxYBERABERABERAB3wQkEH3z0VoREAEREAEREAERiDgC/w/no/bysWP1cQAAAABJRU5ErkJggg==)\n",
    "\n"
   ]
  },
  {
   "cell_type": "code",
   "execution_count": null,
   "metadata": {
    "colab": {},
    "colab_type": "code",
    "id": "Brgv4ycRIL2V"
   },
   "outputs": [],
   "source": [
    "##LSTM+RNN，使用nn.NLLLoss()居然losses成了一条直线，不知为何？改为nn.CrossEntropLoss()，炼丹调参"
   ]
  }
 ],
 "metadata": {
  "accelerator": "GPU",
  "colab": {
   "collapsed_sections": [],
   "name": "assignment-11-rnn.ipynb",
   "provenance": []
  },
  "kernelspec": {
   "display_name": "Python 3",
   "language": "python",
   "name": "python3"
  },
  "language_info": {
   "codemirror_mode": {
    "name": "ipython",
    "version": 3
   },
   "file_extension": ".py",
   "mimetype": "text/x-python",
   "name": "python",
   "nbconvert_exporter": "python",
   "pygments_lexer": "ipython3",
   "version": "3.7.3"
  },
  "toc": {
   "base_numbering": 1,
   "nav_menu": {},
   "number_sections": true,
   "sideBar": true,
   "skip_h1_title": false,
   "title_cell": "Table of Contents",
   "title_sidebar": "Contents",
   "toc_cell": false,
   "toc_position": {},
   "toc_section_display": true,
   "toc_window_display": false
  }
 },
 "nbformat": 4,
 "nbformat_minor": 1
}
