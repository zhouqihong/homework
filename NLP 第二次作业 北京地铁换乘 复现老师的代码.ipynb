{
 "cells": [
  {
   "cell_type": "markdown",
   "metadata": {},
   "source": [
    "多条件搜索\n",
    "方法一：使用sorted 函数"
   ]
  },
  {
   "cell_type": "code",
   "execution_count": 1,
   "metadata": {},
   "outputs": [],
   "source": [
    "tuple_list = [[4,1,5], [4,3,2], [6,2,6], [4,2,7]]"
   ]
  },
  {
   "cell_type": "code",
   "execution_count": 2,
   "metadata": {},
   "outputs": [
    {
     "data": {
      "text/plain": [
       "[[4, 1, 5], [4, 2, 7], [4, 3, 2], [6, 2, 6]]"
      ]
     },
     "execution_count": 2,
     "metadata": {},
     "output_type": "execute_result"
    }
   ],
   "source": [
    "sorted(tuple_list,key=lambda x:(x[0],x[1]))"
   ]
  },
  {
   "cell_type": "markdown",
   "metadata": {},
   "source": [
    "方法二：使用条件加权"
   ]
  },
  {
   "cell_type": "code",
   "execution_count": 3,
   "metadata": {},
   "outputs": [],
   "source": [
    "tuple_list = [(4,1,5), (4,3,2), (6,2,6), (4,2,7)]"
   ]
  },
  {
   "cell_type": "code",
   "execution_count": 4,
   "metadata": {},
   "outputs": [],
   "source": [
    "def get_score(x):\n",
    "    return x[0]+0.1*x[1]+0.01*x[2]"
   ]
  },
  {
   "cell_type": "code",
   "execution_count": 5,
   "metadata": {},
   "outputs": [
    {
     "data": {
      "text/plain": [
       "[(4, 1, 5), (4, 2, 7), (4, 3, 2), (6, 2, 6)]"
      ]
     },
     "execution_count": 5,
     "metadata": {},
     "output_type": "execute_result"
    }
   ],
   "source": [
    "sorted(tuple_list,key=get_score)"
   ]
  },
  {
   "cell_type": "markdown",
   "metadata": {},
   "source": [
    "百度百科爬虫（老师说只要五步）"
   ]
  },
  {
   "cell_type": "code",
   "execution_count": 1,
   "metadata": {},
   "outputs": [],
   "source": [
    "from bs4 import BeautifulSoup\n",
    "import requests\n",
    "import re\n",
    "import random"
   ]
  },
  {
   "cell_type": "code",
   "execution_count": 2,
   "metadata": {},
   "outputs": [],
   "source": [
    "url = \"https://baike.baidu.com/item/%E5%8C%97%E4%BA%AC%E5%9C%B0%E9%93%81/408485?fr=aladdin\""
   ]
  },
  {
   "cell_type": "code",
   "execution_count": 3,
   "metadata": {},
   "outputs": [],
   "source": [
    "user_agent = \"Mozilla/5.0 (Macintosh; U; Intel Mac OS x 10_6_8; en-us) AppleWebKit/534.50 (KHTM)\" #这一步是什么意思？\n",
    "headers = {'User-Agent': user_agent}"
   ]
  },
  {
   "cell_type": "code",
   "execution_count": 4,
   "metadata": {},
   "outputs": [],
   "source": [
    "def get_all_subway_links(url):\n",
    "    page = requests.get(url,headers=headers)\n",
    "    soup = BeautifulSoup(page.content, 'html.parser',from_encoding=\"utf-8\")\n",
    "    links =set()\n",
    "    for link in soup.findAll(\"table\")[0].findAll(\"a\"):\n",
    "        links.add(\"http://baike.baidu.com/item/\"+link.get_text())\n",
    "    return list(links)    "
   ]
  },
  {
   "cell_type": "code",
   "execution_count": 5,
   "metadata": {},
   "outputs": [],
   "source": [
    "links = get_all_subway_links(url)"
   ]
  },
  {
   "cell_type": "code",
   "execution_count": 6,
   "metadata": {},
   "outputs": [
    {
     "data": {
      "text/plain": [
       "['http://baike.baidu.com/item/北京地铁大兴线',\n",
       " 'http://baike.baidu.com/item/北京地铁15号线',\n",
       " 'http://baike.baidu.com/item/北京地铁S1线',\n",
       " 'http://baike.baidu.com/item/北京地铁13号线',\n",
       " 'http://baike.baidu.com/item/北京地铁14号线',\n",
       " 'http://baike.baidu.com/item/北京地铁6号线',\n",
       " 'http://baike.baidu.com/item/北京地铁9号线',\n",
       " 'http://baike.baidu.com/item/北京地铁八通线',\n",
       " 'http://baike.baidu.com/item/北京地铁燕房线',\n",
       " 'http://baike.baidu.com/item/北京地铁西郊线',\n",
       " 'http://baike.baidu.com/item/北京地铁4号线',\n",
       " 'http://baike.baidu.com/item/北京地铁5号线',\n",
       " 'http://baike.baidu.com/item/北京地铁昌平线',\n",
       " 'http://baike.baidu.com/item/北京地铁7号线',\n",
       " 'http://baike.baidu.com/item/北京地铁8号线',\n",
       " 'http://baike.baidu.com/item/复八线',\n",
       " 'http://baike.baidu.com/item/北京地铁亦庄线',\n",
       " 'http://baike.baidu.com/item/北京地铁机场线',\n",
       " 'http://baike.baidu.com/item/北京地铁10号线',\n",
       " 'http://baike.baidu.com/item/北京地铁房山线',\n",
       " 'http://baike.baidu.com/item/北京地铁16号线',\n",
       " 'http://baike.baidu.com/item/北京地铁1号线']"
      ]
     },
     "execution_count": 6,
     "metadata": {},
     "output_type": "execute_result"
    }
   ],
   "source": [
    "links"
   ]
  },
  {
   "cell_type": "code",
   "execution_count": 7,
   "metadata": {},
   "outputs": [],
   "source": [
    "def get_stations(text):\n",
    "    stations = []\n",
    "    pattern = re.compile(\".*站\")\n",
    "    trs = text.find_all(\"tr\")\n",
    "    for tr in trs:\n",
    "        if tr.a and tr.a.string:\n",
    "            if pattern.search(tr.a.string):\n",
    "                stations.append(tr.a.string)\n",
    "    return stations"
   ]
  },
  {
   "cell_type": "code",
   "execution_count": 8,
   "metadata": {},
   "outputs": [],
   "source": [
    "def get_stations_from_table(text):\n",
    "    pattern = re.compile(r\".*站\")\n",
    "    stations = []\n",
    "    trs = text.find_all(\"tr\")\n",
    "    for tr in trs:\n",
    "        if tr.a and tr.a.string:\n",
    "            if pattern.search(tr.a.string):\n",
    "                stations.append(tr.a.string)\n",
    "    return stations    "
   ]
  },
  {
   "cell_type": "code",
   "execution_count": 13,
   "metadata": {},
   "outputs": [
    {
     "name": "stdout",
     "output_type": "stream",
     "text": [
      "http://baike.baidu.com/item/北京地铁大兴线\n",
      "['天宫院站', '生物医药基地站', '义和庄站', '黄村火车站', '黄村西大街站', '清源路站', '枣园站', '高米店南站', '高米店北站', '西红门站', '新宫站', '公益西桥站', '角门西站', '马家堡站', '北京南站', '陶然亭站', '菜市口站', '宣武门站', '西单站', '灵境胡同站', '西四站', '平安里站', '新街口站', '西直门站', '动物园站', '国家图书馆站', '魏公村站', '人民大学站', '海淀黄庄站', '中关村站', '北京大学东门站', '圆明园站', '西苑站', '北宫门站', '安河桥北站']\n",
      "______________________________\n",
      "http://baike.baidu.com/item/北京地铁15号线\n",
      "['清华东路西口站', '六道口站', '北沙滩站', '奥林匹克公园站', '安立路站', '大屯路东站', '关庄站', '望京西站', '望京站', '望京东站', '崔各庄站', '马泉营站', '孙河站', '国展站', '花梨坎站', '后沙峪站', '南法信站', '石门站', '顺义站', '俸伯站']\n",
      "______________________________\n",
      "http://baike.baidu.com/item/北京地铁S1线\n",
      "['苹果园站', '金安桥站', '四道桥站', '桥户营站', '上岸站', '栗园庄站', '小园站', '石厂站']\n",
      "______________________________\n",
      "http://baike.baidu.com/item/北京地铁13号线\n",
      "['车公庄站', '西直门站', '大钟寺站', '知春路站', '五道口站', '上地站', '西二旗站', '龙泽站', '回龙观站', '霍营站', '立水桥站', '北苑站', '望京西站', '芍药居站', '光熙门站', '柳芳站', '东直门站']\n",
      "______________________________\n",
      "http://baike.baidu.com/item/北京地铁14号线\n",
      "['园博园站', '大瓦窑站', '郭庄子站', '大井站', '七里庄站', '西局站', '东管头站', '丽泽商务区站', '菜户营站', '西铁营站', '景风门站', '北京南站', '陶然桥站', '永定门外站', '景泰站', '蒲黄榆站', '方庄站', '十里河站', '北工大西门站', '平乐园站', '九龙山站', '大望路站', '金台路站', '朝阳公园站', '枣营站', '东风北桥站', '将台站', '高家园站', '望京南站', '阜通站', '望京站', '东湖渠站', '来广营站', '善各庄站']\n",
      "______________________________\n",
      "http://baike.baidu.com/item/北京地铁6号线\n",
      "['金安桥站', '苹果园站', '杨庄站', '西黄村站', '廖公庄站', '田村站', '海淀五路居站', '慈寿寺站', '花园桥站', '白石桥南站', '二里沟站', '车公庄西站', '车公庄站', '平安里站', '北海北站', '南锣鼓巷站', '东四站', '朝阳门站', '东大桥站', '呼家楼站', '金台路站', '十里堡站', '青年路站', '褡裢坡站', '黄渠站', '常营站', '草房站', '物资学院路站', '通州北关站', '通运门站', '北运河西站', '北运河东站', '郝家府站', '东夏园站', '潞城站']\n",
      "______________________________\n",
      "http://baike.baidu.com/item/北京地铁9号线\n",
      "['郭公庄站', '丰台科技园站', '科怡路站', '丰台南路站', '丰台东大街站', '七里庄站', '六里桥站', '六里桥东站', '北京西站', '军事博物馆站', '白堆子站', '白石桥南站', '国家图书馆站']\n",
      "______________________________\n",
      "http://baike.baidu.com/item/北京地铁八通线\n",
      "['四惠站', '四惠东站', '高碑店站', '传媒大学站', '双桥站', '管庄站', '八里桥站', '通州北苑站', '果园站', '九棵树站', '梨园站', '临河里站', '土桥站', '环球影城站']\n",
      "______________________________\n",
      "http://baike.baidu.com/item/北京地铁燕房线\n",
      "['阎村东站', '紫草坞站', '阎村站', '星城站', '大石河东站', '马各庄站', '饶乐府站', '房山城关站', '燕山站', '老城区站', '顾册站']\n",
      "______________________________\n",
      "http://baike.baidu.com/item/北京地铁西郊线\n",
      "['巴沟站', '颐和园西门站', '茶棚站', '植物园站', '香山站']\n",
      "______________________________\n",
      "http://baike.baidu.com/item/北京地铁4号线\n",
      "['公益西桥站', '角门西站', '马家堡站', '北京南站', '陶然亭站', '菜市口站', '宣武门站', '西单站', '灵境胡同站', '西四站', '平安里站', '新街口站', '西直门站', '动物园站', '国家图书馆站', '魏公村站', '人民大学站', '海淀黄庄站', '中关村站', '北京大学东门站', '圆明园站', '西苑站', '北宫门站', '安河桥北站']\n",
      "______________________________\n",
      "http://baike.baidu.com/item/北京地铁5号线\n",
      "['宋家庄站', '刘家窑站', '蒲黄榆站', '天坛东门站', '磁器口站', '崇文门站', '东单站', '灯市口站', '东四站', '张自忠路站', '北新桥站', '雍和宫站', '和平里北街站', '和平西桥站', '惠新西街南口站', '惠新西街北口站', '大屯路东站', '北苑路北站', '立水桥南站', '立水桥站', '天通苑南站', '天通苑站', '天通苑北站']\n",
      "______________________________\n",
      "http://baike.baidu.com/item/北京地铁昌平线\n",
      "['西二旗站', '生命科学园站', '朱辛庄站', '巩华城站', '沙河站', '沙河高教园站', '南邵站', '北邵洼站', '昌平东关站', '昌平站', '十三陵景区站', '昌平西山口站']\n",
      "______________________________\n",
      "http://baike.baidu.com/item/北京地铁7号线\n",
      "['北京西站', '湾子站', '达官营站', '广安门内站', '菜市口站', '虎坊桥站', '珠市口站', '桥湾站', '磁器口站', '广渠门内站', '广渠门外站', '双井站', '九龙山站', '大郊亭站', '百子湾站', '化工站', '南楼梓庄站', '欢乐谷景区站', '垡头站', '双合站', '焦化厂站', '黄厂村站', '豆各庄站', '黑庄户站', '万盛南街西口站', '云景东路站', '小马庄站', '高楼金站', '环球影城站']\n",
      "______________________________\n",
      "http://baike.baidu.com/item/北京地铁8号线\n",
      "['朱辛庄站', '育知路站', '平西府站', '回龙观东大街站', '霍营站', '育新站', '西小口站', '永泰庄站', '林萃桥站', '森林公园南门站', '奥林匹克公园站', '奥体中心站', '北土城站', '安华桥站', '安德里北街站', '鼓楼大街站', '什刹海站', '南锣鼓巷站', '中国美术馆站', '金鱼胡同站', '王府井站', '前门站', '珠市口站', '天桥站', '永定门外站', '木樨园站', '海户屯站', '大红门站', '大红门南站', '和义站', '东高地站', '火箭万源站', '五福堂站', '德茂站', '瀛海站']\n",
      "______________________________\n",
      "http://baike.baidu.com/item/复八线\n",
      "['黑石头站', '高井站', '福寿岭站', '苹果园站', '古城站', '衙门口站', '八角游乐园站', '八宝山站', '玉泉路站', '五棵松站', '万寿路站', '公主坟站', '军事博物馆站', '木樨地站', '南礼士路站', '复兴门站', '西单站', '天安门西站', '天安门东站', '王府井站', '东单站', '建国门站', '永安里站', '国贸站', '大望路站', '四惠站', '四惠东站', '高碑店站', '传媒大学站', '双桥站', '管庄站', '八里桥站', '通州北苑站', '果园站', '九棵树站', '梨园站', '临河里站', '土桥站', '花庄站']\n",
      "______________________________\n",
      "http://baike.baidu.com/item/北京地铁亦庄线\n",
      "______________________________\n",
      "http://baike.baidu.com/item/北京地铁机场线\n",
      "______________________________\n",
      "http://baike.baidu.com/item/北京地铁10号线\n",
      "['巴沟站', '苏州街站', '海淀黄庄站', '知春里站', '知春路站', '西土城站', '牡丹园站', '健德门站', '北土城站', '安贞门站', '惠新西街南口站', '芍药居站', '太阳宫站', '三元桥站', '亮马桥站', '农业展览馆站', '团结湖站', '呼家楼站', '金台夕照站', '国贸站', '双井站', '劲松站', '潘家园站', '十里河站', '分钟寺站', '成寿寺站', '宋家庄站', '石榴庄站', '大红门站', '角门东站', '角门西站', '草桥站', '纪家庙站', '首经贸站', '丰台站', '泥洼站', '西局站', '六里桥站', '莲花桥站', '公主坟站', '西钓鱼台站', '慈寿寺站', '车道沟站', '长春桥站', '火器营站', '巴沟站']\n",
      "______________________________\n",
      "http://baike.baidu.com/item/北京地铁房山线\n",
      "['阎村东站', '苏庄站', '良乡南关站', '良乡大学城西站', '良乡大学城站', '良乡大学城北站', '广阳城站', '篱笆房站', '长阳站', '稻田站', '大葆台站', '郭公庄站', '首经贸站', '丰益桥南站']\n",
      "______________________________\n",
      "http://baike.baidu.com/item/北京地铁16号线\n",
      "['宛平站', '榆树庄站', '看丹站', '富丰桥站', '丰台南路站', '丰台站', '丰益桥南站', '丽泽商务区站', '红莲南里站', '达官营站', '木樨地站', '玉渊潭东门站', '甘家口站', '二里沟站', '国家图书馆站', '万寿寺站', '苏州桥站', '苏州街站', '万泉河桥站', '西苑站', '农大南路站', '马连洼站', '西北旺站', '永丰南站', '永丰站', '屯佃站', '稻香湖路站', '温阳路站', '北安河站']\n",
      "______________________________\n",
      "http://baike.baidu.com/item/北京地铁1号线\n",
      "['黑石头站', '高井站', '福寿岭站', '苹果园站', '古城站', '衙门口站', '八角游乐园站', '八宝山站', '玉泉路站', '五棵松站', '万寿路站', '公主坟站', '军事博物馆站', '木樨地站', '南礼士路站', '复兴门站', '西单站', '天安门西站', '天安门东站', '王府井站', '东单站', '建国门站', '永安里站', '国贸站', '大望路站', '四惠站', '四惠东站', '高碑店站', '传媒大学站', '双桥站', '管庄站', '八里桥站', '通州北苑站', '果园站', '九棵树站', '梨园站', '临河里站', '土桥站', '花庄站']\n",
      "______________________________\n"
     ]
    }
   ],
   "source": [
    "subway = {}\n",
    "pattern = re.compile(r'[\\u4e00-\\u9fa5_A-Z0-9]+')\n",
    "for link in links:\n",
    "    print(link)\n",
    "    line = ''.join(pattern.findall(link))\n",
    "    pattern_1 = re.compile(r\"车站列表\")\n",
    "    pattern_2 = re.compile(r\"车站列表\")\n",
    "    pattern_3 = re.compile(r\"[\\u4e00-\\u9fa5-9+]\")\n",
    "    page = requests.get(link,headers=headers)\n",
    "    soup = BeautifulSoup(page.content,'html.parser',from_encoding='utf-8')\n",
    "    for table in soup.find_all(\"table\"):\n",
    "        if table.caption:\n",
    "            caption = ''.join(pattern_3.findall(str(table.caption)))\n",
    "            if pattern_1.search(caption) or pattern_2.search(caption):\n",
    "                stations = get_stations_from_table(table)\n",
    "                subway[line] = stations\n",
    "                print(stations)\n",
    "                break\n",
    "                \n",
    "        elif not table.caption:\n",
    "            stations = get_stations(table)\n",
    "            if len(stations) <= 1:\n",
    "                continue\n",
    "            else:\n",
    "                subway[line] = stations\n",
    "                print(stations)\n",
    "                break\n",
    "    print(\"_\"*30)  \n",
    "    "
   ]
  },
  {
   "cell_type": "markdown",
   "metadata": {},
   "source": [
    "搜索问题\n",
    "1.bfs 是否最优解？\n",
    "若是点与点之间的cost不为负数则为最优解，否则不是。插入老师的图？？\n"
   ]
  },
  {
   "cell_type": "code",
   "execution_count": 26,
   "metadata": {},
   "outputs": [],
   "source": [
    "from collections import defaultdict"
   ]
  },
  {
   "cell_type": "code",
   "execution_count": 27,
   "metadata": {},
   "outputs": [],
   "source": [
    "simple_connection = {\n",
    "    '北京': ['太原', '沈阳'],\n",
    "    '太原': ['北京', '西安', '郑州'],\n",
    "    '兰州': ['西安'],\n",
    "    '郑州': ['太原',\"长沙\",\"石家庄\",\"福州\"],\n",
    "    '西安': ['兰州',\"长沙\",\"太原\"],\n",
    "    '长沙': ['福州',\"南宁\",\"郑州\",\"西安\"],\n",
    "    '沈阳': ['北京'],\n",
    "    '福州': ['长沙','郑州'],    \n",
    "}\n",
    "graph = defaultdict(list)\n",
    "graph.update(simple_connection)"
   ]
  },
  {
   "cell_type": "code",
   "execution_count": 28,
   "metadata": {},
   "outputs": [],
   "source": [
    "line2station = {1:[\"兰州\",\"西安\",\"长沙\",\"郑州\"],\n",
    "    2:[\"兰州\",\"西安\",\"太原\",\"郑州\",\"福州\"],\n",
    "    3:[\"兰州\",\"西安\",\"长沙\",\"南宁\"],\n",
    "    4:[\"长沙\",\"福州\"],\n",
    "    5:[\"兰州\",\"西安\",\"太原\",\"北京\",\"沈阳\"],\n",
    "    6:[\"郑州\",\"石家庄\"]\n",
    "}"
   ]
  },
  {
   "cell_type": "code",
   "execution_count": 30,
   "metadata": {},
   "outputs": [],
   "source": [
    "station2line = {}\n",
    "for key,values in line2station.items():\n",
    "    for v in values:\n",
    "        if v not in station2line:\n",
    "            station2line[v]={key}\n",
    "        else:\n",
    "            station2line[v].add(key)"
   ]
  },
  {
   "cell_type": "code",
   "execution_count": 31,
   "metadata": {},
   "outputs": [
    {
     "data": {
      "text/plain": [
       "{'兰州': {1, 2, 3, 5},\n",
       " '西安': {1, 2, 3, 5},\n",
       " '长沙': {1, 3, 4},\n",
       " '郑州': {1, 2, 6},\n",
       " '太原': {2, 5},\n",
       " '福州': {2, 4},\n",
       " '南宁': {3},\n",
       " '北京': {5},\n",
       " '沈阳': {5},\n",
       " '石家庄': {6}}"
      ]
     },
     "execution_count": 31,
     "metadata": {},
     "output_type": "execute_result"
    }
   ],
   "source": [
    "station2line"
   ]
  },
  {
   "cell_type": "markdown",
   "metadata": {},
   "source": [
    "lines= {2,3,4}   ?insec = {3,4}\n",
    "1{2,3,4},2{3,4,5}，3{1,2}"
   ]
  },
  {
   "cell_type": "code",
   "execution_count": 32,
   "metadata": {},
   "outputs": [],
   "source": [
    "def get_trains(path):\n",
    "    trans = 0\n",
    "    lines = set(station2line[path[0]])\n",
    "    for i, station in enumerate(path[:-1]):\n",
    "        next_station = path[i+1]\n",
    "        intersec = lines & station2line[next_station]\n",
    "        if len(intersec) != 0: #交集的长度不为0\n",
    "            lines = intersec\n",
    "            continue\n",
    "        else:\n",
    "            lines = station2line[station] & station2line[next_station]\n",
    "        trans += 1\n",
    "    return trans"
   ]
  },
  {
   "cell_type": "code",
   "execution_count": 34,
   "metadata": {},
   "outputs": [
    {
     "data": {
      "text/plain": [
       "3"
      ]
     },
     "execution_count": 34,
     "metadata": {},
     "output_type": "execute_result"
    }
   ],
   "source": [
    "get_trains([\"兰州\",\"西安\",\"长沙\",\"郑州\",\"太原\",\"西安\",\"长沙\",\"福州\"])"
   ]
  },
  {
   "cell_type": "code",
   "execution_count": 35,
   "metadata": {},
   "outputs": [],
   "source": [
    "def get_len(x):\n",
    "    return len(x)"
   ]
  },
  {
   "cell_type": "code",
   "execution_count": 36,
   "metadata": {},
   "outputs": [],
   "source": [
    "def search(start, destination, connection_grpah,sorted_function):\n",
    "    pathes = [[start]]\n",
    "    \n",
    "    while pathes:\n",
    "        \n",
    "        path = pathes.pop(0)\n",
    "        froninter = path[-1]\n",
    "        \n",
    "        successors = connection_grpah[froninter]\n",
    "        \n",
    "        for city in successors:\n",
    "            if city in path: continue\n",
    "                \n",
    "            new_path = path + [city]\n",
    "            pathes.append(new_path)\n",
    "        pathes = sorted(pathes,key=sorted_function)\n",
    "        \n",
    "        if pathes and (destination in pathes[0]):\n",
    "            return pathes[0]               \n",
    "                "
   ]
  },
  {
   "cell_type": "code",
   "execution_count": 38,
   "metadata": {},
   "outputs": [
    {
     "name": "stdout",
     "output_type": "stream",
     "text": [
      "['兰州', '西安', '太原', '郑州', '福州']\n"
     ]
    }
   ],
   "source": [
    "print(search(\"兰州\",\"福州\",graph,get_trains))"
   ]
  },
  {
   "cell_type": "markdown",
   "metadata": {},
   "source": [
    "感谢李晓明老师的耐心解答，跌跌撞撞的终于运行完毕，复现了第二课的代码！还是很开心20190722"
   ]
  },
  {
   "cell_type": "code",
   "execution_count": null,
   "metadata": {},
   "outputs": [],
   "source": []
  }
 ],
 "metadata": {
  "kernelspec": {
   "display_name": "Python 3",
   "language": "python",
   "name": "python3"
  },
  "language_info": {
   "codemirror_mode": {
    "name": "ipython",
    "version": 3
   },
   "file_extension": ".py",
   "mimetype": "text/x-python",
   "name": "python",
   "nbconvert_exporter": "python",
   "pygments_lexer": "ipython3",
   "version": "3.7.3"
  }
 },
 "nbformat": 4,
 "nbformat_minor": 2
}
