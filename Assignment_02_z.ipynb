{
 "cells": [
  {
   "cell_type": "markdown",
   "metadata": {},
   "source": [
    "# Assignment 2\n"
   ]
  },
  {
   "cell_type": "markdown",
   "metadata": {},
   "source": [
    "#### 1. 复习上课内容以及复现课程代码"
   ]
  },
  {
   "cell_type": "markdown",
   "metadata": {},
   "source": [
    "在本部分，你需要在复习上课内容和课程代码后，复现课程代码。 "
   ]
  },
  {
   "cell_type": "code",
   "execution_count": null,
   "metadata": {},
   "outputs": [],
   "source": [
    "## Build Graph"
   ]
  },
  {
   "cell_type": "code",
   "execution_count": 3,
   "metadata": {},
   "outputs": [],
   "source": [
    "coordination_source = \"\"\"\n",
    "{name:'兰州', geoCoord:[103.73, 36.03]},\n",
    "{name:'嘉峪关', geoCoord:[98.17, 39.47]},\n",
    "{name:'西宁', geoCoord:[101.74, 36.56]},\n",
    "{name:'成都', geoCoord:[104.06, 30.67]},\n",
    "{name:'石家庄', geoCoord:[114.48, 38.03]},\n",
    "{name:'拉萨', geoCoord:[102.73, 25.04]},\n",
    "{name:'贵阳', geoCoord:[106.71, 26.57]},\n",
    "{name:'武汉', geoCoord:[114.31, 30.52]},\n",
    "{name:'郑州', geoCoord:[113.65, 34.76]},\n",
    "{name:'济南', geoCoord:[117, 36.65]},\n",
    "{name:'南京', geoCoord:[118.78, 32.04]},\n",
    "{name:'合肥', geoCoord:[117.27, 31.86]},\n",
    "{name:'杭州', geoCoord:[120.19, 30.26]},\n",
    "{name:'南昌', geoCoord:[115.89, 28.68]},\n",
    "{name:'福州', geoCoord:[119.3, 26.08]},\n",
    "{name:'广州', geoCoord:[113.23, 23.16]},\n",
    "{name:'长沙', geoCoord:[113, 28.21]},\n",
    "//{name:'海口', geoCoord:[110.35, 20.02]},\n",
    "{name:'沈阳', geoCoord:[123.38, 41.8]},\n",
    "{name:'长春', geoCoord:[125.35, 43.88]},\n",
    "{name:'哈尔滨', geoCoord:[126.63, 45.75]},\n",
    "{name:'太原', geoCoord:[112.53, 37.87]},\n",
    "{name:'西安', geoCoord:[108.95, 34.27]},\n",
    "//{name:'台湾', geoCoord:[121.30, 25.03]},\n",
    "{name:'北京', geoCoord:[116.46, 39.92]},\n",
    "{name:'上海', geoCoord:[121.48, 31.22]},\n",
    "{name:'重庆', geoCoord:[106.54, 29.59]},\n",
    "{name:'天津', geoCoord:[117.2, 39.13]},\n",
    "{name:'呼和浩特', geoCoord:[111.65, 40.82]},\n",
    "{name:'南宁', geoCoord:[108.33, 22.84]},\n",
    "//{name:'西藏', geoCoord:[91.11, 29.97]},\n",
    "{name:'银川', geoCoord:[106.27, 38.47]},\n",
    "{name:'乌鲁木齐', geoCoord:[87.68, 43.77]},\n",
    "{name:'香港', geoCoord:[114.17, 22.28]},\n",
    "{name:'澳门', geoCoord:[113.54, 22.19]}\n",
    "\"\"\""
   ]
  },
  {
   "cell_type": "code",
   "execution_count": null,
   "metadata": {},
   "outputs": [],
   "source": [
    "### Get data from source using regular expression"
   ]
  },
  {
   "cell_type": "code",
   "execution_count": 1,
   "metadata": {},
   "outputs": [
    {
     "data": {
      "text/plain": [
       "['color', 'colour']"
      ]
     },
     "execution_count": 1,
     "metadata": {},
     "output_type": "execute_result"
    }
   ],
   "source": [
    "import re\n",
    "a = \"color or colour\"\n",
    "pattern = re.compile(\"colou?r\")\n",
    "pattern.findall(a)"
   ]
  },
  {
   "cell_type": "code",
   "execution_count": 5,
   "metadata": {},
   "outputs": [],
   "source": [
    "def get_city_info(city_coordination):\n",
    "    city_location = {}\n",
    "    for line in city_coordination.split(\"\\n\"):\n",
    "        if line.startswith(\"//\"):continue\n",
    "        if line.strip() == \"\":continue\n",
    "        \n",
    "        city = re.findall(\"name:'(\\w+)'\",line)[0]\n",
    "        x_y = re.findall(\"Coord:\\[(\\d+.\\d+),\\s(\\d+.\\d+)\\]\",line)[0]\n",
    "        x_y = tuple(map(float,x_y))\n",
    "        city_location[city] = x_y\n",
    "    return city_location"
   ]
  },
  {
   "cell_type": "code",
   "execution_count": 6,
   "metadata": {},
   "outputs": [],
   "source": [
    "city_info = get_city_info(coordination_source)"
   ]
  },
  {
   "cell_type": "code",
   "execution_count": 7,
   "metadata": {},
   "outputs": [
    {
     "data": {
      "text/plain": [
       "{'兰州': (103.73, 36.03),\n",
       " '嘉峪关': (98.17, 39.47),\n",
       " '西宁': (101.74, 36.56),\n",
       " '成都': (104.06, 30.67),\n",
       " '石家庄': (114.48, 38.03),\n",
       " '拉萨': (102.73, 25.04),\n",
       " '贵阳': (106.71, 26.57),\n",
       " '武汉': (114.31, 30.52),\n",
       " '郑州': (113.65, 34.76),\n",
       " '济南': (117.0, 36.65),\n",
       " '南京': (118.78, 32.04),\n",
       " '合肥': (117.27, 31.86),\n",
       " '杭州': (120.19, 30.26),\n",
       " '南昌': (115.89, 28.68),\n",
       " '福州': (119.3, 26.08),\n",
       " '广州': (113.23, 23.16),\n",
       " '长沙': (113.0, 28.21),\n",
       " '沈阳': (123.38, 41.8),\n",
       " '长春': (125.35, 43.88),\n",
       " '哈尔滨': (126.63, 45.75),\n",
       " '太原': (112.53, 37.87),\n",
       " '西安': (108.95, 34.27),\n",
       " '北京': (116.46, 39.92),\n",
       " '上海': (121.48, 31.22),\n",
       " '重庆': (106.54, 29.59),\n",
       " '天津': (117.2, 39.13),\n",
       " '呼和浩特': (111.65, 40.82),\n",
       " '南宁': (108.33, 22.84),\n",
       " '银川': (106.27, 38.47),\n",
       " '乌鲁木齐': (87.68, 43.77),\n",
       " '香港': (114.17, 22.28),\n",
       " '澳门': (113.54, 22.19)}"
      ]
     },
     "execution_count": 7,
     "metadata": {},
     "output_type": "execute_result"
    }
   ],
   "source": [
    "city_info"
   ]
  },
  {
   "cell_type": "code",
   "execution_count": null,
   "metadata": {},
   "outputs": [],
   "source": [
    "### Compute distance between cities"
   ]
  },
  {
   "cell_type": "code",
   "execution_count": 8,
   "metadata": {},
   "outputs": [],
   "source": [
    "import math\n",
    "\n",
    "def geo_distance(origin, destination):\n",
    "    \"\"\"\n",
    "    Calculate the Haversine distance.\n",
    "\n",
    "    Parameters\n",
    "    ----------\n",
    "    origin : tuple of float\n",
    "        (lat, long)\n",
    "    destination : tuple of float\n",
    "        (lat, long)\n",
    "\n",
    "    Returns\n",
    "    -------\n",
    "    distance_in_km : float\n",
    "\n",
    "    Examples\n",
    "    --------\n",
    "    >>> origin = (48.1372, 11.5756)  # Munich\n",
    "    >>> destination = (52.5186, 13.4083)  # Berlin\n",
    "    >>> round(distance(origin, destination), 1)\n",
    "    504.2\n",
    "    \"\"\"\n",
    "    lat1,lon1 = origin \n",
    "    lat2,lon2 = destination\n",
    "    radius = 6371 # km\n",
    "    \n",
    "    dlat = math.radians(lat2 - lat1)\n",
    "    dlon = math.radians(lon2 - lon1)\n",
    "    a = (math.sin(dlat / 2) * math.sin(dlat / 2) +\n",
    "        math.cos(math.radians(lat1)) * math.cos(math.radians(lat2))*\n",
    "        math.sin(dlon / 2) * math.sin(dlon / 2))\n",
    "    c = 2 * math.atan2(math.sqrt(a),math.sqrt(1 - a))\n",
    "    d = radius * c\n",
    "    \n",
    "    return d"
   ]
  },
  {
   "cell_type": "code",
   "execution_count": 9,
   "metadata": {},
   "outputs": [
    {
     "data": {
      "text/plain": [
       "277.5665030932603"
      ]
     },
     "execution_count": 9,
     "metadata": {},
     "output_type": "execute_result"
    }
   ],
   "source": [
    "def get_city_distance(city1, city2):\n",
    "    return geo_distance(city_info[city1],city_info[city2])\n",
    "\n",
    "get_city_distance(\"重庆\",\"成都\")"
   ]
  },
  {
   "cell_type": "code",
   "execution_count": 10,
   "metadata": {},
   "outputs": [
    {
     "data": {
      "text/plain": [
       "727.52769688981"
      ]
     },
     "execution_count": 10,
     "metadata": {},
     "output_type": "execute_result"
    }
   ],
   "source": [
    "get_city_distance(\"上海\",\"北京\")"
   ]
  },
  {
   "cell_type": "code",
   "execution_count": null,
   "metadata": {},
   "outputs": [],
   "source": [
    "### Draw the graph"
   ]
  },
  {
   "cell_type": "code",
   "execution_count": 11,
   "metadata": {},
   "outputs": [],
   "source": [
    "import networkx as nx\n",
    "import matplotlib.pyplot as plt\n",
    "%matplotlib inline\n",
    "\n",
    "plt.rcParams['font.sans-serif'] = ['SimHei']\n",
    "plt.rcParams['axes.unicode_minus'] = False"
   ]
  },
  {
   "cell_type": "code",
   "execution_count": 14,
   "metadata": {},
   "outputs": [
    {
     "data": {
      "text/plain": [
       "dict_keys(['兰州', '嘉峪关', '西宁', '成都', '石家庄', '拉萨', '贵阳', '武汉', '郑州', '济南', '南京', '合肥', '杭州', '南昌', '福州', '广州', '长沙', '沈阳', '长春', '哈尔滨', '太原', '西安', '北京', '上海', '重庆', '天津', '呼和浩特', '南宁', '银川', '乌鲁木齐', '香港', '澳门'])"
      ]
     },
     "execution_count": 14,
     "metadata": {},
     "output_type": "execute_result"
    }
   ],
   "source": [
    "city_info.keys()"
   ]
  },
  {
   "cell_type": "code",
   "execution_count": 17,
   "metadata": {},
   "outputs": [],
   "source": [
    "city_graph = nx.Graph()\n",
    "\n",
    "city_graph.add_nodes_from(list(city_info.keys()))"
   ]
  },
  {
   "cell_type": "code",
   "execution_count": 18,
   "metadata": {},
   "outputs": [
    {
     "data": {
      "image/png": "[encoded data removed]",
      "text/plain": [
       "<Figure size 432x288 with 1 Axes>"
      ]
     },
     "metadata": {},
     "output_type": "display_data"
    }
   ],
   "source": [
    "nx.draw(city_graph,city_info, with_labels=True,node_size=10)"
   ]
  },
  {
   "cell_type": "code",
   "execution_count": null,
   "metadata": {},
   "outputs": [],
   "source": [
    "### Build connection"
   ]
  },
  {
   "cell_type": "code",
   "execution_count": 20,
   "metadata": {},
   "outputs": [],
   "source": [
    "threshold = 700 #define the threshold"
   ]
  },
  {
   "cell_type": "code",
   "execution_count": 19,
   "metadata": {},
   "outputs": [],
   "source": [
    "from collections import defaultdict"
   ]
  },
  {
   "cell_type": "code",
   "execution_count": 23,
   "metadata": {},
   "outputs": [],
   "source": [
    "def build_connection(city_info):\n",
    "    cities_connection = defaultdict(list)\n",
    "    cities = list(city_info.keys())\n",
    "    for c1 in cities:\n",
    "        for c2 in cities:\n",
    "            if c1 == c2 : continue\n",
    "            \n",
    "            if get_city_distance(c1,c2) < threshold:\n",
    "                cities_connection[c1].append(c2)\n",
    "                \n",
    "    return cities_connection\n",
    "\n",
    "cities_connection = build_connection(city_info)"
   ]
  },
  {
   "cell_type": "code",
   "execution_count": 24,
   "metadata": {},
   "outputs": [
    {
     "data": {
      "text/plain": [
       "defaultdict(list,\n",
       "            {'兰州': ['嘉峪关', '西宁', '成都', '拉萨', '贵阳', '西安', '重庆', '南宁', '银川'],\n",
       "             '嘉峪关': ['兰州', '西宁', '成都', '拉萨'],\n",
       "             '西宁': ['兰州', '嘉峪关', '成都', '拉萨', '贵阳', '重庆', '银川'],\n",
       "             '成都': ['兰州', '嘉峪关', '西宁', '拉萨', '贵阳', '西安', '重庆', '南宁', '银川'],\n",
       "             '石家庄': ['武汉',\n",
       "              '郑州',\n",
       "              '济南',\n",
       "              '南京',\n",
       "              '合肥',\n",
       "              '南昌',\n",
       "              '广州',\n",
       "              '长沙',\n",
       "              '太原',\n",
       "              '西安',\n",
       "              '北京',\n",
       "              '天津',\n",
       "              '呼和浩特'],\n",
       "             '拉萨': ['兰州', '嘉峪关', '西宁', '成都', '贵阳', '重庆', '南宁', '银川'],\n",
       "             '贵阳': ['兰州', '西宁', '成都', '拉萨', '西安', '重庆', '南宁', '银川'],\n",
       "             '武汉': ['石家庄',\n",
       "              '郑州',\n",
       "              '济南',\n",
       "              '南京',\n",
       "              '合肥',\n",
       "              '杭州',\n",
       "              '南昌',\n",
       "              '福州',\n",
       "              '广州',\n",
       "              '长沙',\n",
       "              '太原',\n",
       "              '西安',\n",
       "              '北京',\n",
       "              '天津',\n",
       "              '呼和浩特',\n",
       "              '香港',\n",
       "              '澳门'],\n",
       "             '郑州': ['石家庄',\n",
       "              '武汉',\n",
       "              '济南',\n",
       "              '南京',\n",
       "              '合肥',\n",
       "              '南昌',\n",
       "              '广州',\n",
       "              '长沙',\n",
       "              '太原',\n",
       "              '西安',\n",
       "              '北京',\n",
       "              '天津',\n",
       "              '呼和浩特',\n",
       "              '香港',\n",
       "              '澳门'],\n",
       "             '济南': ['石家庄',\n",
       "              '武汉',\n",
       "              '郑州',\n",
       "              '南京',\n",
       "              '合肥',\n",
       "              '杭州',\n",
       "              '南昌',\n",
       "              '福州',\n",
       "              '长沙',\n",
       "              '太原',\n",
       "              '北京',\n",
       "              '上海',\n",
       "              '天津',\n",
       "              '呼和浩特'],\n",
       "             '南京': ['石家庄',\n",
       "              '武汉',\n",
       "              '郑州',\n",
       "              '济南',\n",
       "              '合肥',\n",
       "              '杭州',\n",
       "              '南昌',\n",
       "              '福州',\n",
       "              '长沙',\n",
       "              '北京',\n",
       "              '上海',\n",
       "              '天津'],\n",
       "             '合肥': ['石家庄',\n",
       "              '武汉',\n",
       "              '郑州',\n",
       "              '济南',\n",
       "              '南京',\n",
       "              '杭州',\n",
       "              '南昌',\n",
       "              '福州',\n",
       "              '广州',\n",
       "              '长沙',\n",
       "              '太原',\n",
       "              '北京',\n",
       "              '上海',\n",
       "              '天津',\n",
       "              '香港',\n",
       "              '澳门'],\n",
       "             '杭州': ['武汉', '济南', '南京', '合肥', '南昌', '福州', '北京', '上海', '天津'],\n",
       "             '南昌': ['石家庄',\n",
       "              '武汉',\n",
       "              '郑州',\n",
       "              '济南',\n",
       "              '南京',\n",
       "              '合肥',\n",
       "              '杭州',\n",
       "              '福州',\n",
       "              '广州',\n",
       "              '长沙',\n",
       "              '太原',\n",
       "              '北京',\n",
       "              '上海',\n",
       "              '天津',\n",
       "              '香港',\n",
       "              '澳门'],\n",
       "             '福州': ['武汉',\n",
       "              '济南',\n",
       "              '南京',\n",
       "              '合肥',\n",
       "              '杭州',\n",
       "              '南昌',\n",
       "              '广州',\n",
       "              '上海',\n",
       "              '香港',\n",
       "              '澳门'],\n",
       "             '广州': ['石家庄',\n",
       "              '武汉',\n",
       "              '郑州',\n",
       "              '合肥',\n",
       "              '南昌',\n",
       "              '福州',\n",
       "              '长沙',\n",
       "              '太原',\n",
       "              '西安',\n",
       "              '南宁',\n",
       "              '香港',\n",
       "              '澳门'],\n",
       "             '长沙': ['石家庄',\n",
       "              '武汉',\n",
       "              '郑州',\n",
       "              '济南',\n",
       "              '南京',\n",
       "              '合肥',\n",
       "              '南昌',\n",
       "              '广州',\n",
       "              '太原',\n",
       "              '西安',\n",
       "              '北京',\n",
       "              '天津',\n",
       "              '呼和浩特',\n",
       "              '南宁',\n",
       "              '香港',\n",
       "              '澳门'],\n",
       "             '沈阳': ['长春', '哈尔滨', '上海'],\n",
       "             '长春': ['沈阳', '哈尔滨'],\n",
       "             '哈尔滨': ['沈阳', '长春'],\n",
       "             '太原': ['石家庄',\n",
       "              '武汉',\n",
       "              '郑州',\n",
       "              '济南',\n",
       "              '合肥',\n",
       "              '南昌',\n",
       "              '广州',\n",
       "              '长沙',\n",
       "              '西安',\n",
       "              '北京',\n",
       "              '天津',\n",
       "              '呼和浩特',\n",
       "              '银川',\n",
       "              '澳门'],\n",
       "             '西安': ['兰州',\n",
       "              '成都',\n",
       "              '石家庄',\n",
       "              '贵阳',\n",
       "              '武汉',\n",
       "              '郑州',\n",
       "              '广州',\n",
       "              '长沙',\n",
       "              '太原',\n",
       "              '重庆',\n",
       "              '呼和浩特',\n",
       "              '南宁',\n",
       "              '银川'],\n",
       "             '北京': ['石家庄',\n",
       "              '武汉',\n",
       "              '郑州',\n",
       "              '济南',\n",
       "              '南京',\n",
       "              '合肥',\n",
       "              '杭州',\n",
       "              '南昌',\n",
       "              '长沙',\n",
       "              '太原',\n",
       "              '天津',\n",
       "              '呼和浩特'],\n",
       "             '上海': ['济南', '南京', '合肥', '杭州', '南昌', '福州', '沈阳', '天津'],\n",
       "             '重庆': ['兰州', '西宁', '成都', '拉萨', '贵阳', '西安', '呼和浩特', '南宁', '银川'],\n",
       "             '天津': ['石家庄',\n",
       "              '武汉',\n",
       "              '郑州',\n",
       "              '济南',\n",
       "              '南京',\n",
       "              '合肥',\n",
       "              '杭州',\n",
       "              '南昌',\n",
       "              '长沙',\n",
       "              '太原',\n",
       "              '北京',\n",
       "              '上海',\n",
       "              '呼和浩特'],\n",
       "             '呼和浩特': ['石家庄',\n",
       "              '武汉',\n",
       "              '郑州',\n",
       "              '济南',\n",
       "              '长沙',\n",
       "              '太原',\n",
       "              '西安',\n",
       "              '北京',\n",
       "              '重庆',\n",
       "              '天津',\n",
       "              '银川'],\n",
       "             '南宁': ['兰州',\n",
       "              '成都',\n",
       "              '拉萨',\n",
       "              '贵阳',\n",
       "              '广州',\n",
       "              '长沙',\n",
       "              '西安',\n",
       "              '重庆',\n",
       "              '银川',\n",
       "              '香港',\n",
       "              '澳门'],\n",
       "             '银川': ['兰州',\n",
       "              '西宁',\n",
       "              '成都',\n",
       "              '拉萨',\n",
       "              '贵阳',\n",
       "              '太原',\n",
       "              '西安',\n",
       "              '重庆',\n",
       "              '呼和浩特',\n",
       "              '南宁'],\n",
       "             '香港': ['武汉', '郑州', '合肥', '南昌', '福州', '广州', '长沙', '南宁', '澳门'],\n",
       "             '澳门': ['武汉',\n",
       "              '郑州',\n",
       "              '合肥',\n",
       "              '南昌',\n",
       "              '福州',\n",
       "              '广州',\n",
       "              '长沙',\n",
       "              '太原',\n",
       "              '南宁',\n",
       "              '香港']})"
      ]
     },
     "execution_count": 24,
     "metadata": {},
     "output_type": "execute_result"
    }
   ],
   "source": [
    "cities_connection"
   ]
  },
  {
   "cell_type": "code",
   "execution_count": null,
   "metadata": {},
   "outputs": [],
   "source": [
    "### Draw connection graph"
   ]
  },
  {
   "cell_type": "code",
   "execution_count": 25,
   "metadata": {},
   "outputs": [],
   "source": [
    "cities_connection_graph = nx.Graph(cities_connection)"
   ]
  },
  {
   "cell_type": "code",
   "execution_count": 28,
   "metadata": {},
   "outputs": [
    {
     "data": {
      "image/png": "[encoded data removed]",
      "text/plain": [
       "<Figure size 432x288 with 1 Axes>"
      ]
     },
     "metadata": {},
     "output_type": "display_data"
    }
   ],
   "source": [
    "nx.draw(cities_connection_graph,city_info,with_labels=True,node_size =20)"
   ]
  },
  {
   "cell_type": "code",
   "execution_count": null,
   "metadata": {},
   "outputs": [],
   "source": [
    "### BFS 1 version"
   ]
  },
  {
   "cell_type": "code",
   "execution_count": 38,
   "metadata": {},
   "outputs": [],
   "source": [
    "def search_1(graph,start,destination):\n",
    "    pathes = [[start]] #list 用来存储待搜索路径\n",
    "    visited = set() #set用来存储已搜索的节点\n",
    "    \n",
    "    while pathes:\n",
    "        path = pathes.pop(0)  #提取第一条路径\n",
    "        froniter = path[-1]  #提取即将要探索的节点\n",
    "        if froniter in visited:\n",
    "            continue  #检查如果该点已经探索过  则不用再探索\n",
    "        \n",
    "        successors = graph[froniter]\n",
    "        \n",
    "        for city in successors:  #遍历子节点\n",
    "            if city in path:continue  # check loop 检查会不会形成环\n",
    "            \n",
    "            new_path = path + [city]\n",
    "            \n",
    "            pathes.append(new_path)  #bsf   #将新路径加到list里面\n",
    "            #pathes = [new_path] + pathes #dfs  深度优先\n",
    "            \n",
    "            if city == destination: #检查目的地是不是已经搜索到了\n",
    "                return new_path\n",
    "        visited.add(froniter)           \n",
    "        "
   ]
  },
  {
   "cell_type": "code",
   "execution_count": 39,
   "metadata": {},
   "outputs": [
    {
     "data": {
      "text/plain": [
       "['北京', '武汉', '香港']"
      ]
     },
     "execution_count": 39,
     "metadata": {},
     "output_type": "execute_result"
    }
   ],
   "source": [
    "search_1(cities_connection,\"北京\",\"香港\")"
   ]
  },
  {
   "cell_type": "code",
   "execution_count": null,
   "metadata": {},
   "outputs": [],
   "source": [
    "### Optimal search using variation of BFS"
   ]
  },
  {
   "cell_type": "code",
   "execution_count": 40,
   "metadata": {},
   "outputs": [],
   "source": [
    "def search_2(graph, start, destination, search_strategy):\n",
    "    pathes = [[start]]\n",
    "    visited = set()\n",
    "    while pathes:\n",
    "        path = pathes.pop(0)\n",
    "        froniter = path[-1]\n",
    "        if froniter in visited : continue\n",
    "        \n",
    "        if froniter == destination:\n",
    "            return path\n",
    "        \n",
    "        successors = graph[froniter]\n",
    "        \n",
    "        for city in successors:\n",
    "            if city in path:continue  #check loop\n",
    "                \n",
    "            new_path = path + [city]\n",
    "            \n",
    "            pathes.append(new_path)  #bfs\n",
    "        \n",
    "        pathes = search_strategy(pathes)\n",
    "        visited.add(froniter)"
   ]
  },
  {
   "cell_type": "code",
   "execution_count": 41,
   "metadata": {},
   "outputs": [],
   "source": [
    "def sort_by_distance(pathes):\n",
    "    def get_distance_of_path(path):\n",
    "        distance = 0\n",
    "        for i,_ in enumerate(path[:-1]):\n",
    "            distance += get_city_distance(path[i],path[i+1])\n",
    "        return distance\n",
    "    return sorted(pathes,key=get_distance_of_path)"
   ]
  },
  {
   "cell_type": "code",
   "execution_count": 43,
   "metadata": {},
   "outputs": [],
   "source": [
    "def get_distance_of_path(path):\n",
    "    distance = 0\n",
    "    for i,_ in enumerate(path[:-1]):\n",
    "        distance += get_city_distance(path[i],path[i+1])\n",
    "    return distance"
   ]
  },
  {
   "cell_type": "code",
   "execution_count": 44,
   "metadata": {},
   "outputs": [
    {
     "data": {
      "text/plain": [
       "2037.4049251141844"
      ]
     },
     "execution_count": 44,
     "metadata": {},
     "output_type": "execute_result"
    }
   ],
   "source": [
    "get_distance_of_path([\"哈尔滨\",\"北京\",\"广州\"])"
   ]
  },
  {
   "cell_type": "code",
   "execution_count": 45,
   "metadata": {},
   "outputs": [
    {
     "data": {
      "text/plain": [
       "['北京', '济南', '上海']"
      ]
     },
     "execution_count": 45,
     "metadata": {},
     "output_type": "execute_result"
    }
   ],
   "source": [
    "search_2(cities_connection,\"北京\",\"上海\",search_strategy=lambda x:x)"
   ]
  },
  {
   "cell_type": "code",
   "execution_count": 46,
   "metadata": {},
   "outputs": [
    {
     "data": {
      "text/plain": [
       "['上海', '天津', '北京']"
      ]
     },
     "execution_count": 46,
     "metadata": {},
     "output_type": "execute_result"
    }
   ],
   "source": [
    "search_2(cities_connection,\"上海\",\"北京\",search_strategy=sort_by_distance)"
   ]
  },
  {
   "cell_type": "code",
   "execution_count": null,
   "metadata": {},
   "outputs": [],
   "source": [
    "## Machine Learning"
   ]
  },
  {
   "cell_type": "code",
   "execution_count": 49,
   "metadata": {},
   "outputs": [
    {
     "data": {
      "text/plain": [
       "<matplotlib.collections.PathCollection at 0x1742f6a8be0>"
      ]
     },
     "execution_count": 49,
     "metadata": {},
     "output_type": "execute_result"
    },
    {
     "data": {
      "image/png": "[encoded data removed]",
      "text/plain": [
       "<Figure size 432x288 with 1 Axes>"
      ]
     },
     "metadata": {
      "needs_background": "light"
     },
     "output_type": "display_data"
    }
   ],
   "source": [
    "from sklearn.datasets import load_boston\n",
    "import random\n",
    "dataset = load_boston()\n",
    "\n",
    "x,y=dataset['data'],dataset['target']\n",
    "\n",
    "X_rm = x[:,5]\n",
    "plt.scatter(X_rm,y)"
   ]
  },
  {
   "cell_type": "code",
   "execution_count": null,
   "metadata": {},
   "outputs": [],
   "source": [
    "### Gridient descent"
   ]
  },
  {
   "cell_type": "code",
   "execution_count": 55,
   "metadata": {},
   "outputs": [],
   "source": [
    "# define target function\n",
    "# y = k * rm + b\n",
    "\n",
    "def price(rm,k,b):\n",
    "    return k * rm + b"
   ]
  },
  {
   "cell_type": "code",
   "execution_count": null,
   "metadata": {},
   "outputs": [],
   "source": [
    "### Define mean square loss"
   ]
  },
  {
   "cell_type": "markdown",
   "metadata": {},
   "source": [
    "$$ loss = \\frac{1}{n} \\sum{(y_i - \\hat{y_i})}^2$$"
   ]
  },
  {
   "cell_type": "markdown",
   "metadata": {},
   "source": [
    "$$ loss = \\frac{1}{n} \\sum{(y_i - (kx_i + b_i))}^2 $$"
   ]
  },
  {
   "cell_type": "code",
   "execution_count": 182,
   "metadata": {},
   "outputs": [],
   "source": [
    "# define loss function\n",
    "\n",
    "def loss(y,y_hat):\n",
    "    return sum((y_i - y_hat_i)**2 for y_i, y_hat_i in zip(list(y),list(y_hat)))/len(list(y))"
   ]
  },
  {
   "cell_type": "code",
   "execution_count": null,
   "metadata": {},
   "outputs": [],
   "source": [
    "### define partial derivatives"
   ]
  },
  {
   "cell_type": "markdown",
   "metadata": {},
   "source": [
    "$$ \\frac{\\partial{loss}}{\\partial{k}} = -\\frac{2}{n}\\sum(y_i - \\hat{y_i})x_i$$"
   ]
  },
  {
   "cell_type": "markdown",
   "metadata": {},
   "source": [
    "$$ \\frac{\\partial{loss}}{\\partial{b}} = -\\frac{2}{n}\\sum(y_i - \\hat{y_i})$$"
   ]
  },
  {
   "cell_type": "code",
   "execution_count": 183,
   "metadata": {},
   "outputs": [],
   "source": [
    "# define partial derivative \n",
    "def partial_derivative_k(x, y, y_hat): \n",
    "    n = len(y)\n",
    "    gradient = 0\n",
    "    for x_i, y_i, y_hat_i in zip(list(x),list(y),list(y_hat)):\n",
    "        gradient += (y_i-y_hat_i) * x_i\n",
    "    return -2/n * gradient\n",
    "\n",
    "def partial_derivative_b(y, y_hat):\n",
    "    n = len(y)\n",
    "    gradient = 0\n",
    "    for y_i, y_hat_i in zip(list(y),list(y_hat)):\n",
    "        gradient += (y_i-y_hat_i)\n",
    "    return -2 / n * gradient"
   ]
  },
  {
   "cell_type": "code",
   "execution_count": 184,
   "metadata": {},
   "outputs": [
    {
     "name": "stdout",
     "output_type": "stream",
     "text": [
      "Iteration 0, the loss is 121.37781233534494, parameters k is 7.20975990817827 and b is -31.496437953600505\n",
      "Iteration 1, the loss is 109.17402216598282, parameters k is 7.3212102738070595 and b is -31.47900087513206\n",
      "Iteration 2, the loss is 98.88857700990188, parameters k is 7.42352781841436 and b is -31.462999520421175\n",
      "Iteration 3, the loss is 90.21992713635314, parameters k is 7.517461018686631 and b is -31.44831622513825\n",
      "Iteration 4, the loss is 82.9139242150134, parameters k is 7.603697010201405 and b is -31.43484296808698\n",
      "Iteration 5, the loss is 76.75637016437454, parameters k is 7.682866614613462 and b is -31.422480580905216\n",
      "Iteration 6, the loss is 71.56673726637645, parameters k is 7.755548954839947 and b is -31.41113802253446\n",
      "Iteration 7, the loss is 67.1928754328463, parameters k is 7.822275692009841 and b is -31.400731713149924\n",
      "Iteration 8, the loss is 63.50655145073678, parameters k is 7.883534915175914 and b is -31.391184922678104\n",
      "Iteration 9, the loss is 60.39968942521287, parameters k is 7.9397747122468925 and b is -31.382427209428133\n",
      "Iteration 10, the loss is 57.78120219744279, parameters k is 7.991406448265295 and b is -31.37439390472988\n",
      "Iteration 11, the loss is 55.574320840213595, parameters k is 8.038807775015314 and b is -31.367025639808347\n",
      "Iteration 12, the loss is 53.71434393720046, parameters k is 8.082325393979492 and b is -31.360267911432853\n",
      "Iteration 13, the loss is 52.14674065898557, parameters k is 8.122277592858358 and b is -31.354070683163307\n",
      "Iteration 14, the loss is 50.825552021578986, parameters k is 8.15895657421064 and b is -31.348388019276147\n",
      "Iteration 15, the loss is 49.712043455344755, parameters k is 8.192630593250668 and b is -31.34317774869176\n",
      "Iteration 16, the loss is 48.77356918018488, parameters k is 8.223545920443454 and b is -31.338401156444583\n",
      "Iteration 17, the loss is 47.98261509259311, parameters k is 8.251928643256077 and b is -31.33402270043864\n",
      "Iteration 18, the loss is 47.315992103827725, parameters k is 8.277986320247239 and b is -31.330009751416302\n",
      "Iteration 19, the loss is 46.75415627939158, parameters k is 8.301909499596578 and b is -31.326332354237756\n",
      "Iteration 20, the loss is 46.28063584758668, parameters k is 8.323873113183517 and b is -31.322963008724752\n",
      "Iteration 21, the loss is 45.881548278112064, parameters k is 8.344037756414926 and b is -31.319876468465214\n",
      "Iteration 22, the loss is 45.545193272353764, parameters k is 8.362550863165028 and b is -31.317049556106717\n",
      "Iteration 23, the loss is 45.26170973260962, parameters k is 8.379547784423568 and b is -31.314460993787534\n",
      "Iteration 24, the loss is 45.02278665322888, parameters k is 8.395152778543803 and b is -31.31209124746463\n",
      "Iteration 25, the loss is 44.82141945753993, parameters k is 8.409479920335103 and b is -31.309922383999695\n",
      "Iteration 26, the loss is 44.651704636820156, parameters k is 8.422633935651247 and b is -31.30793793995764\n",
      "Iteration 27, the loss is 44.50866667051075, parameters k is 8.434710967580347 and b is -31.306122801157642\n",
      "Iteration 28, the loss is 44.38811215330032, parameters k is 8.445799279842001 and b is -31.304463092095563\n",
      "Iteration 29, the loss is 44.286506852359196, parameters k is 8.455979902537797 and b is -31.302946074428682\n",
      "Iteration 30, the loss is 44.200872090271716, parameters k is 8.465327224979601 and b is -31.301560053780094\n",
      "Iteration 31, the loss is 44.12869741581022, parameters k is 8.473909539932837 and b is -31.300294294180897\n",
      "Iteration 32, the loss is 44.06786700222119, parameters k is 8.481789543256516 and b is -31.299138939524255\n",
      "Iteration 33, the loss is 44.01659761515931, parameters k is 8.489024792595487 and b is -31.298084941456647\n",
      "Iteration 34, the loss is 43.97338633160655, parameters k is 8.495668128480718 and b is -31.29712399317877\n",
      "Iteration 35, the loss is 43.93696647699267, parameters k is 8.501768060918499 and b is -31.296248468671745\n",
      "Iteration 36, the loss is 43.90627048867598, parameters k is 8.507369124296861 and b is -31.295451366904054\n",
      "Iteration 37, the loss is 43.880398617012624, parameters k is 8.512512203205794 and b is -31.294726260610926\n",
      "Iteration 38, the loss is 43.85859254638693, parameters k is 8.517234831554985 and b is -31.29406724927152\n",
      "Iteration 39, the loss is 43.84021316282234, parameters k is 8.521571467177495 and b is -31.293468915939837\n",
      "Iteration 40, the loss is 43.82472181636001, parameters k is 8.525553743928391 and b is -31.292926287613536\n",
      "Iteration 41, the loss is 43.81166452885414, parameters k is 8.529210703122741 and b is -31.292434798850703\n",
      "Iteration 42, the loss is 43.80065868418519, parameters k is 8.532569006006197 and b is -31.291990258368408\n",
      "Iteration 43, the loss is 43.7913818106745, parameters k is 8.535653128812633 and b is -31.291588818378646\n",
      "Iteration 44, the loss is 43.78356212682015, parameters k is 8.538485541835923 and b is -31.29122694643735\n",
      "Iteration 45, the loss is 43.77697057317399, parameters k is 8.541086873825948 and b is -31.29090139960051\n",
      "Iteration 46, the loss is 43.771414096748714, parameters k is 8.543476062911607 and b is -31.2906092006983\n",
      "Iteration 47, the loss is 43.76672999106742, parameters k is 8.545670495154978 and b is -31.290347616553664\n",
      "Iteration 48, the loss is 43.76278112591473, parameters k is 8.547686131750348 and b is -31.29011413798599\n",
      "Iteration 49, the loss is 43.759451926936926, parameters k is 8.549537625798676 and b is -31.289906461453576\n",
      "Iteration 50, the loss is 43.756644987219, parameters k is 8.551238429511868 and b is -31.289722472200552\n",
      "Iteration 51, the loss is 43.754278211496576, parameters k is 8.552800892631154 and b is -31.28956022878504\n",
      "Iteration 52, the loss is 43.75228240927745, parameters k is 8.554236352779643 and b is -31.289417948875254\n",
      "Iteration 53, the loss is 43.750599266305706, parameters k is 8.555555218410053 and b is -31.28929399620971\n",
      "Iteration 54, the loss is 43.74917963489808, parameters k is 8.5567670449545 and b is -31.289186868626082\n",
      "Iteration 55, the loss is 43.747982093025264, parameters k is 8.557880604733468 and b is -31.28909518707117\n",
      "Iteration 56, the loss is 43.74697172989687, parameters k is 8.558903951135408 and b is -31.289017685511524\n",
      "Iteration 57, the loss is 43.74611912244169, parameters k is 8.559844477536526 and b is -31.288953201670974\n",
      "Iteration 58, the loss is 43.74539947267922, parameters k is 8.560708971391824 and b is -31.28890066852723\n",
      "Iteration 59, the loss is 43.74479188068905, parameters k is 8.561503663893133 and b is -31.288859106505395\n",
      "Iteration 60, the loss is 43.74427873186447, parameters k is 8.562234275557437 and b is -31.288827616311245\n",
      "Iteration 61, the loss is 43.743845180485664, parameters k is 8.562906058079028 and b is -31.288805372351863\n",
      "Iteration 62, the loss is 43.74347871447058, parameters k is 8.563523832751683 and b is -31.28879161669547\n",
      "Iteration 63, the loss is 43.74316878854458, parameters k is 8.564092025741967 and b is -31.288785653526293\n",
      "Iteration 64, the loss is 43.74290651507276, parameters k is 8.56461470047173 and b is -31.288786844053867\n",
      "Iteration 65, the loss is 43.742684403490784, parameters k is 8.565095587346697 and b is -31.288794601839545\n",
      "Iteration 66, the loss is 43.74249614069624, parameters k is 8.565538111048681 and b is -31.288808388506034\n",
      "Iteration 67, the loss is 43.74233640595978, parameters k is 8.56594541559106 and b is -31.28882770979854\n",
      "Iteration 68, the loss is 43.74220071493175, parameters k is 8.566320387320845 and b is -31.288852111968726\n",
      "Iteration 69, the loss is 43.74208528816923, parameters k is 8.56666567603563 and b is -31.288881178455025\n",
      "Iteration 70, the loss is 43.74198694032985, parameters k is 8.566983714369902 and b is -31.28891452683501\n",
      "Iteration 71, the loss is 43.74190298678371, parameters k is 8.567276735592557 and b is -31.288951806027544\n",
      "Iteration 72, the loss is 43.74183116490509, parameters k is 8.567546789945828 and b is -31.288992693724197\n",
      "Iteration 73, the loss is 43.741769567736156, parameters k is 8.567795759645163 and b is -31.289036894031206\n",
      "Iteration 74, the loss is 43.741716588079, parameters k is 8.568025372649794 and b is -31.289084135304666\n",
      "Iteration 75, the loss is 43.74167087137536, parameters k is 8.56823721530474 and b is -31.28913416816315\n",
      "Iteration 76, the loss is 43.74163127599361, parameters k is 8.568432743946746 and b is -31.289186763663185\n",
      "Iteration 77, the loss is 43.7415968397581, parameters k is 8.56861329555906 and b is -31.289241711624275\n",
      "Iteration 78, the loss is 43.741566751740336, parameters k is 8.568780097553004 and b is -31.289298819091186\n",
      "Iteration 79, the loss is 43.74154032848346, parameters k is 8.568934276747889 and b is -31.289357908922256\n",
      "Iteration 80, the loss is 43.741516993965426, parameters k is 8.569076867615001 and b is -31.289418818493402\n",
      "Iteration 81, the loss is 43.7414962627103, parameters k is 8.569208819845946 and b is -31.289481398508343\n",
      "Iteration 82, the loss is 43.74147772555553, parameters k is 8.569331005300727 and b is -31.289545511906308\n",
      "Iteration 83, the loss is 43.741461037655796, parameters k is 8.569444224386414 and b is -31.2896110328593\n",
      "Iteration 84, the loss is 43.74144590837317, parameters k is 8.569549211913033 and b is -31.289677845851504\n",
      "Iteration 85, the loss is 43.741432092755616, parameters k is 8.569646642469548 and b is -31.28974584483416\n",
      "Iteration 86, the loss is 43.741419384355844, parameters k is 8.569737135359253 and b is -31.28981493244971\n",
      "Iteration 87, the loss is 43.74140760917847, parameters k is 8.569821259130684 and b is -31.289885019319478\n",
      "Iteration 88, the loss is 43.74139662057915, parameters k is 8.569899535737216 and b is -31.2899560233898\n",
      "Iteration 89, the loss is 43.74138629496468, parameters k is 8.569972444355736 and b is -31.290027869331684\n",
      "Iteration 90, the loss is 43.74137652816995, parameters k is 8.570040424892387 and b is -31.29010048798971\n",
      "Iteration 91, the loss is 43.741367232403796, parameters k is 8.570103881200975 and b is -31.29017381587606\n",
      "Iteration 92, the loss is 43.741358333675144, parameters k is 8.570163184037632 and b is -31.29024779470603\n",
      "Iteration 93, the loss is 43.74134976962375, parameters k is 8.570218673773317 and b is -31.290322370971634\n",
      "Iteration 94, the loss is 43.7413414876921, parameters k is 8.570270662884024 and b is -31.29039749555011\n",
      "Iteration 95, the loss is 43.74133344358416, parameters k is 8.570319438236902 and b is -31.290473123344533\n",
      "Iteration 96, the loss is 43.74132559996699, parameters k is 8.570365263189018 and b is -31.290549212953888\n",
      "Iteration 97, the loss is 43.74131792537602, parameters k is 8.570408379514115 and b is -31.290625726370166\n",
      "Iteration 98, the loss is 43.74131039329285, parameters k is 8.570449009171465 and b is -31.290702628700288\n",
      "Iteration 99, the loss is 43.74130298136734, parameters k is 8.57048735592976 and b is -31.290779887910833\n",
      "Iteration 100, the loss is 43.74129567076285, parameters k is 8.57052360685791 and b is -31.29085747459367\n",
      "Iteration 101, the loss is 43.74128844560362, parameters k is 8.570557933693662 and b is -31.290935361750797\n",
      "Iteration 102, the loss is 43.74128129250941, parameters k is 8.570590494100072 and b is -31.29101352459684\n",
      "Iteration 103, the loss is 43.7412742002033, parameters k is 8.570621432818982 and b is -31.291091940377687\n",
      "Iteration 104, the loss is 43.74126715918101, parameters k is 8.57065088272997 and b is -31.291170588204047\n",
      "Iteration 105, the loss is 43.74126016143219, parameters k is 8.570678965822525 and b is -31.2912494488986\n",
      "Iteration 106, the loss is 43.741253200205804, parameters k is 8.57070579408854 and b is -31.291328504855702\n",
      "Iteration 107, the loss is 43.74124626981186, parameters k is 8.57073147034165 and b is -31.29140773991258\n",
      "Iteration 108, the loss is 43.7412393654549, parameters k is 8.570756088969448 and b is -31.291487139231066\n",
      "Iteration 109, the loss is 43.74123248309331, parameters k is 8.570779736624024 and b is -31.291566689189068\n",
      "Iteration 110, the loss is 43.741225619320595, parameters k is 8.570802492855933 and b is -31.29164637728088\n",
      "Iteration 111, the loss is 43.74121877126598, parameters k is 8.570824430696197 and b is -31.291726192025703\n",
      "Iteration 112, the loss is 43.741211936509714, parameters k is 8.57084561719061 and b is -31.291806122883646\n",
      "Iteration 113, the loss is 43.74120511301265, parameters k is 8.570866113890256 and b is -31.291886160178617\n",
      "Iteration 114, the loss is 43.74119829905591, parameters k is 8.570885977301824 and b is -31.291966295027525\n",
      "Iteration 115, the loss is 43.74119149319109, parameters k is 8.57090525930102 and b is -31.292046519275292\n",
      "Iteration 116, the loss is 43.74118469419726, parameters k is 8.5709240075121 and b is -31.292126825435194\n",
      "Iteration 117, the loss is 43.741177901045454, parameters k is 8.570942265656289 and b is -31.29220720663408\n",
      "Iteration 118, the loss is 43.74117111286849, parameters k is 8.570960073871662 and b is -31.29228765656209\n",
      "Iteration 119, the loss is 43.74116432893552, parameters k is 8.570977469006793 and b is -31.292368169426492\n",
      "Iteration 120, the loss is 43.741157548630426, parameters k is 8.570994484890347 and b is -31.292448739909293\n",
      "Iteration 121, the loss is 43.74115077143418, parameters k is 8.571011152578572 and b is -31.29252936312834\n",
      "Iteration 122, the loss is 43.74114399690908, parameters k is 8.571027500582518 and b is -31.292610034601605\n",
      "Iteration 123, the loss is 43.74113722468639, parameters k is 8.571043555076622 and b is -31.292690750214376\n",
      "Iteration 124, the loss is 43.7411304544554, parameters k is 8.571059340090205 and b is -31.292771506189176\n",
      "Iteration 125, the loss is 43.741123685953895, parameters k is 8.571074877683277 and b is -31.292852299058104\n",
      "Iteration 126, the loss is 43.74111691896134, parameters k is 8.571090188107927 and b is -31.29293312563748\n",
      "Iteration 127, the loss is 43.74111015329159, parameters k is 8.571105289956495 and b is -31.293013983004535\n",
      "Iteration 128, the loss is 43.741103388787664, parameters k is 8.571120200297594 and b is -31.29309486847605\n",
      "Iteration 129, the loss is 43.74109662531758, parameters k is 8.571134934800984 and b is -31.293175779588708\n",
      "Iteration 130, the loss is 43.74108986276976, parameters k is 8.571149507852217 and b is -31.293256714081075\n",
      "Iteration 131, the loss is 43.741083101050435, parameters k is 8.571163932657887 and b is -31.293337669877054\n",
      "Iteration 132, the loss is 43.74107634008041, parameters k is 8.571178221342242 and b is -31.2934186450707\n",
      "Iteration 133, the loss is 43.74106957979299, parameters k is 8.571192385035896 and b is -31.293499637912277\n",
      "Iteration 134, the loss is 43.74106282013195, parameters k is 8.57120643395726 and b is -31.29358064679544\n",
      "Iteration 135, the loss is 43.741056061049896, parameters k is 8.571220377487295 and b is -31.293661670245505\n",
      "Iteration 136, the loss is 43.741049302506845, parameters k is 8.571234224238154 and b is -31.293742706908645\n",
      "Iteration 137, the loss is 43.74104254446928, parameters k is 8.571247982116184 and b is -31.293823755541993\n",
      "Iteration 138, the loss is 43.74103578690864, parameters k is 8.571261658379768 and b is -31.29390481500454\n",
      "Iteration 139, the loss is 43.741029029801254, parameters k is 8.571275259692436 and b is -31.293985884248798\n",
      "Iteration 140, the loss is 43.74102227312668, parameters k is 8.571288792171611 and b is -31.29406696231312\n",
      "Iteration 141, the loss is 43.741015516868096, parameters k is 8.571302261433363 and b is -31.294148048314682\n",
      "Iteration 142, the loss is 43.74100876101116, parameters k is 8.571315672633503 and b is -31.29422914144301\n",
      "Iteration 143, the loss is 43.741002005543805, parameters k is 8.571329030505296 and b is -31.294310240954065\n",
      "Iteration 144, the loss is 43.74099525045572, parameters k is 8.5713423393941 and b is -31.294391346164776\n",
      "Iteration 145, the loss is 43.740988495738534, parameters k is 8.571355603289147 and b is -31.294472456448066\n",
      "Iteration 146, the loss is 43.7409817413848, parameters k is 8.571368825852737 and b is -31.294553571228253\n",
      "Iteration 147, the loss is 43.74097498738861, parameters k is 8.571382010447024 and b is -31.29463468997683\n",
      "Iteration 148, the loss is 43.740968233744695, parameters k is 8.571395160158625 and b is -31.294715812208626\n",
      "Iteration 149, the loss is 43.74096148044879, parameters k is 8.57140827782119 and b is -31.294796937478214\n",
      "Iteration 150, the loss is 43.74095472749722, parameters k is 8.57142136603614 and b is -31.29487806537669\n",
      "Iteration 151, the loss is 43.74094797488683, parameters k is 8.571434427191697 and b is -31.29495919552866\n",
      "Iteration 152, the loss is 43.74094122261505, parameters k is 8.571447463480363 and b is -31.2950403275895\n",
      "Iteration 153, the loss is 43.74093447067969, parameters k is 8.571460476914949 and b is -31.295121461242836\n",
      "Iteration 154, the loss is 43.74092771907896, parameters k is 8.571473469343312 and b is -31.295202596198223\n",
      "Iteration 155, the loss is 43.74092096781124, parameters k is 8.571486442461865 and b is -31.295283732189024\n",
      "Iteration 156, the loss is 43.74091421687522, parameters k is 8.571499397827996 and b is -31.295364868970456\n",
      "Iteration 157, the loss is 43.74090746626971, parameters k is 8.571512336871457 and b is -31.295446006317803\n",
      "Iteration 158, the loss is 43.74090071599392, parameters k is 8.571525260904828 and b is -31.29552714402477\n",
      "Iteration 159, the loss is 43.740893966046926, parameters k is 8.571538171133113 and b is -31.295608281901973\n",
      "Iteration 160, the loss is 43.740887216428135, parameters k is 8.571551068662567 and b is -31.295689419775552\n",
      "Iteration 161, the loss is 43.740880467136854, parameters k is 8.571563954508777 and b is -31.2957705574859\n",
      "Iteration 162, the loss is 43.74087371817273, parameters k is 8.571576829604103 and b is -31.295851694886487\n",
      "Iteration 163, the loss is 43.740866969535254, parameters k is 8.571589694804493 and b is -31.29593283184281\n",
      "Iteration 164, the loss is 43.74086022122422, parameters k is 8.571602550895744 and b is -31.296013968231378\n",
      "Iteration 165, the loss is 43.74085347323917, parameters k is 8.571615398599258 and b is -31.296095103938836\n",
      "Iteration 166, the loss is 43.74084672557999, parameters k is 8.571628238577315 and b is -31.29617623886112\n",
      "Iteration 167, the loss is 43.740839978246335, parameters k is 8.571641071437917 and b is -31.29625737290269\n",
      "Iteration 168, the loss is 43.7408332312381, parameters k is 8.571653897739237 and b is -31.296338505975854\n",
      "Iteration 169, the loss is 43.740826484555086, parameters k is 8.571666717993706 and b is -31.2964196380001\n",
      "Iteration 170, the loss is 43.74081973819722, parameters k is 8.571679532671759 and b is -31.29650076890152\n",
      "Iteration 171, the loss is 43.74081299216436, parameters k is 8.571692342205278 and b is -31.296581898612274\n",
      "Iteration 172, the loss is 43.74080624645635, parameters k is 8.57170514699075 and b is -31.296663027070075\n",
      "Iteration 173, the loss is 43.74079950107316, parameters k is 8.571717947392168 and b is -31.29674415421775\n",
      "Iteration 174, the loss is 43.740792756014706, parameters k is 8.571730743743695 and b is -31.296825280002814\n",
      "Iteration 175, the loss is 43.740786011280974, parameters k is 8.571743536352109 and b is -31.29690640437709\n",
      "Iteration 176, the loss is 43.74077926687182, parameters k is 8.571756325499047 and b is -31.296987527296352\n",
      "Iteration 177, the loss is 43.74077252278718, parameters k is 8.571769111443064 and b is -31.29706864872\n",
      "Iteration 178, the loss is 43.740765779027114, parameters k is 8.571781894421528 and b is -31.29714976861077\n",
      "Iteration 179, the loss is 43.74075903559141, parameters k is 8.571794674652352 and b is -31.297230886934447\n",
      "Iteration 180, the loss is 43.740752292480295, parameters k is 8.571807452335591 and b is -31.297312003659634\n",
      "Iteration 181, the loss is 43.74074554969349, parameters k is 8.571820227654905 and b is -31.29739311875751\n",
      "Iteration 182, the loss is 43.740738807231104, parameters k is 8.571833000778904 and b is -31.29747423220161\n",
      "Iteration 183, the loss is 43.740732065093, parameters k is 8.57184577186238 and b is -31.297555343967648\n",
      "Iteration 184, the loss is 43.74072532327917, parameters k is 8.571858541047439 and b is -31.297636454033334\n",
      "Iteration 185, the loss is 43.740718581789736, parameters k is 8.57187130846454 and b is -31.29771756237821\n",
      "Iteration 186, the loss is 43.74071184062448, parameters k is 8.571884074233456 and b is -31.297798668983493\n",
      "Iteration 187, the loss is 43.74070509978353, parameters k is 8.571896838464138 and b is -31.297879773831944\n",
      "Iteration 188, the loss is 43.740698359266794, parameters k is 8.571909601257532 and b is -31.297960876907748\n",
      "Iteration 189, the loss is 43.74069161907427, parameters k is 8.571922362706308 and b is -31.29804197819638\n",
      "Iteration 190, the loss is 43.740684879205894, parameters k is 8.571935122895544 and b is -31.298123077684515\n",
      "Iteration 191, the loss is 43.74067813966172, parameters k is 8.571947881903347 and b is -31.29820417535992\n",
      "Iteration 192, the loss is 43.74067140044163, parameters k is 8.571960639801418 and b is -31.298285271211373\n",
      "Iteration 193, the loss is 43.740664661545715, parameters k is 8.571973396655588 and b is -31.298366365228574\n",
      "Iteration 194, the loss is 43.7406579229739, parameters k is 8.571986152526293 and b is -31.29844745740207\n",
      "Iteration 195, the loss is 43.74065118472618, parameters k is 8.571998907469013 and b is -31.298528547723183\n",
      "Iteration 196, the loss is 43.74064444680258, parameters k is 8.572011661534685 and b is -31.298609636183958\n",
      "Iteration 197, the loss is 43.740637709202986, parameters k is 8.57202441477007 and b is -31.298690722777092\n",
      "Iteration 198, the loss is 43.74063097192743, parameters k is 8.572037167218099 and b is -31.298771807495882\n",
      "Iteration 199, the loss is 43.74062423497591, parameters k is 8.572049918918186 and b is -31.29885289033418\n"
     ]
    }
   ],
   "source": [
    "#initialized parameters\n",
    "\n",
    "k = random.random() * 200 - 100  # -100 100\n",
    "b = random.random() * 200 - 100  # -100 100\n",
    "\n",
    "learning_rate = 1e-3\n",
    "\n",
    "iteration_num = 200 \n",
    "losses = []\n",
    "for i in range(iteration_num):\n",
    "    \n",
    "    price_use_current_parameters = [price(r, k, b) for r in X_rm]  # \\hat{y}\n",
    "    \n",
    "    current_loss = loss(y, price_use_current_parameters)\n",
    "    losses.append(current_loss)\n",
    "    print(\"Iteration {}, the loss is {}, parameters k is {} and b is {}\".format(i,current_loss,k,b))\n",
    "    \n",
    "    k_gradient = partial_derivative_k(X_rm, y, price_use_current_parameters)\n",
    "    b_gradient = partial_derivative_b(y, price_use_current_parameters)\n",
    "    \n",
    "    k = k + (-1 * k_gradient) * learning_rate\n",
    "    b = b + (-1 * b_gradient) * learning_rate\n",
    "best_k = k\n",
    "best_b = b"
   ]
  },
  {
   "cell_type": "code",
   "execution_count": 185,
   "metadata": {},
   "outputs": [
    {
     "data": {
      "text/plain": [
       "[<matplotlib.lines.Line2D at 0x17430a54c50>]"
      ]
     },
     "execution_count": 185,
     "metadata": {},
     "output_type": "execute_result"
    },
    {
     "data": {
      "image/png": "[encoded data removed]",
      "text/plain": [
       "<Figure size 1080x720 with 1 Axes>"
      ]
     },
     "metadata": {
      "needs_background": "light"
     },
     "output_type": "display_data"
    }
   ],
   "source": [
    "plt.plot(list(range(iteration_num)),losses)"
   ]
  },
  {
   "cell_type": "code",
   "execution_count": 187,
   "metadata": {},
   "outputs": [
    {
     "data": {
      "text/plain": [
       "<matplotlib.collections.PathCollection at 0x17430d3fcc0>"
      ]
     },
     "execution_count": 187,
     "metadata": {},
     "output_type": "execute_result"
    },
    {
     "data": {
      "image/png": "[encoded data removed]",
      "text/plain": [
       "<Figure size 1080x720 with 1 Axes>"
      ]
     },
     "metadata": {
      "needs_background": "light"
     },
     "output_type": "display_data"
    }
   ],
   "source": [
    "price_use_best_parameters = [price(r, best_k, best_b) for r in X_rm]\n",
    "\n",
    "plt.scatter(X_rm,y)\n",
    "plt.scatter(X_rm,price_use_current_parameters)"
   ]
  },
  {
   "cell_type": "code",
   "execution_count": null,
   "metadata": {},
   "outputs": [],
   "source": []
  },
  {
   "cell_type": "markdown",
   "metadata": {},
   "source": [
    "#### 2. 回答以下理论题目"
   ]
  },
  {
   "cell_type": "markdown",
   "metadata": {},
   "source": [
    "###       < 评阅点 >： 答案是否正确完整"
   ]
  },
  {
   "cell_type": "markdown",
   "metadata": {},
   "source": [
    "###### 2.1 What conditions are required to make the BFS return the optimal solution ?"
   ]
  },
  {
   "cell_type": "code",
   "execution_count": null,
   "metadata": {},
   "outputs": [],
   "source": [
    "1.All costs between two nodes are positive or zero.\n",
    "2.Sort the list used to maintain the searching in every iteration.\n",
    "Under thes two coditions, BFS is guaranteed to find optimal result."
   ]
  },
  {
   "cell_type": "markdown",
   "metadata": {},
   "source": [
    "##### 2.2 Is there a way to make DFS find the optimal solution ? (You may need to read some material about iterative DFS)"
   ]
  },
  {
   "cell_type": "code",
   "execution_count": null,
   "metadata": {},
   "outputs": [],
   "source": [
    "DFS在处理一些“目标节点较浅”的问题时往往效率不够高。解决的办法是设定一个深度限制d，使得我们只在深度d范围内搜索。这样如果目标节点在该范围内，那么就很轻易地找到了解。而只要我们让d从1开始逐渐递增，那么就可以在有限步内找到目标节点。这就是迭代加深搜索思想。"
   ]
  },
  {
   "cell_type": "markdown",
   "metadata": {},
   "source": [
    "##### 2.3 In what conditions BFS is a better choice than DFS and vice versa ?"
   ]
  },
  {
   "cell_type": "code",
   "execution_count": null,
   "metadata": {},
   "outputs": [],
   "source": [
    "广度优先遍历与深度优先遍历的区别在于：广度优先遍历是以层为顺序，将某一层上的所有节点都搜索到了之后才向下一层搜索；而深度优先遍历是将某一条枝桠上的所有节点都搜索到了之后，才转向搜索另一条枝桠上的所有节点。"
   ]
  },
  {
   "cell_type": "markdown",
   "metadata": {},
   "source": [
    "##### 2.4 When can we use machine learning ?"
   ]
  },
  {
   "cell_type": "code",
   "execution_count": null,
   "metadata": {},
   "outputs": [],
   "source": [
    "机器学习（Machine Learning，ML）是指从有限的观测数据中学习（或“猜测”）出具有一般性的规律，并利用这些规律对未知数据进行预测的方法。\n",
    "使用机器学习的几个关键因素：1、存在一个模式或者说表现可以让我们对它进行改进提高；2、规则并不容易那么定义；3、需要有数据。\n",
    "机器学习的类型：分类、聚类、回归、降维，\n",
    "具体案例：垃圾邮件分类。房价预测。数据挖掘。推荐系统。语音和手写识别。\n",
    "当然，ML 并不是适用于所有问题类型的解决方案。"
   ]
  },
  {
   "cell_type": "markdown",
   "metadata": {},
   "source": [
    "##### 2.5 What is the gradient of a function ?"
   ]
  },
  {
   "cell_type": "code",
   "execution_count": null,
   "metadata": {},
   "outputs": [],
   "source": [
    "梯度是一个向量即有方向有大小。\n",
    "\n",
    "梯度的方向与取得最大方向导数的方向一致，模为方向导数的最大值。\n",
    "方向导数最大的方向就是梯度的方向，方向导数的最大值就是梯度的值。\n",
    "\n",
    "梯度是机器学习深度学习中求解参数中非常关键的一个概念"
   ]
  },
  {
   "cell_type": "markdown",
   "metadata": {},
   "source": [
    "##### 2.6 How can we find the maximum value of a function using the information of gradient ?"
   ]
  },
  {
   "cell_type": "code",
   "execution_count": null,
   "metadata": {},
   "outputs": [],
   "source": [
    "如果我们要求解一个最大值问题，就需要向梯度正方向迭代进行搜索，逐渐接近函数的局部最大解，这个过程则被称为梯度上升法。"
   ]
  },
  {
   "cell_type": "markdown",
   "metadata": {},
   "source": [
    "#### 3. 实践部分  寻找地铁路线"
   ]
  },
  {
   "cell_type": "markdown",
   "metadata": {},
   "source": [
    "### < 评阅点 >  1: 爬虫爬取数据是否完整;  2:搜索算法是否正确"
   ]
  },
  {
   "cell_type": "markdown",
   "metadata": {},
   "source": [
    "In this part, although we recommend you to use Beijing subway, you still can use the subway map of any cities that you are interested in. "
   ]
  },
  {
   "cell_type": "markdown",
   "metadata": {},
   "source": [
    "![title](img/ditu.png)"
   ]
  },
  {
   "cell_type": "markdown",
   "metadata": {},
   "source": [
    "Please using the search policy to implement an agent. This agent receives two input, one is @param start station and the other is @param destination. Your agent should give the optimal route based on Beijing Subway system."
   ]
  },
  {
   "cell_type": "markdown",
   "metadata": {},
   "source": [
    "Deadline: 2019-May"
   ]
  },
  {
   "cell_type": "markdown",
   "metadata": {},
   "source": [
    "#### Procedures"
   ]
  },
  {
   "cell_type": "markdown",
   "metadata": {},
   "source": [
    "#### 1. Get data from web.  "
   ]
  },
  {
   "cell_type": "markdown",
   "metadata": {},
   "source": [
    "Some tips: "
   ]
  },
  {
   "cell_type": "markdown",
   "metadata": {},
   "source": [
    "a. You might need this package: requests[https://2.python-requests.org/en/master/] to get webpages"
   ]
  },
  {
   "cell_type": "markdown",
   "metadata": {},
   "source": [
    "b.You might need to use Regular Expression and Beautiful Soap package to parse the webpages"
   ]
  },
  {
   "cell_type": "code",
   "execution_count": null,
   "metadata": {},
   "outputs": [],
   "source": [
    "#http://map.amap.com/service/subway?_1590290810514&srhdata=5000_drw_chongqing.json"
   ]
  },
  {
   "cell_type": "code",
   "execution_count": 67,
   "metadata": {},
   "outputs": [],
   "source": [
    "import re\n",
    "from collections import defaultdict\n",
    "import bs4\n",
    "import requests\n",
    "from requests.compat import urljoin"
   ]
  },
  {
   "cell_type": "code",
   "execution_count": 68,
   "metadata": {},
   "outputs": [],
   "source": [
    "url = r'https://baike.baidu.com/item/%E9%87%8D%E5%BA%86%E8%BD%A8%E9%81%93%E4%BA%A4%E9%80%9A'\n",
    "headers = {\"user-agent\": \"Mozilla/5.0 (Windows NT 10.0; Win64; x64) AppleWebKit/537.36 (KHTML, like Gecko) Chrome/79.0.3945.88 Safari/537.36\"}\n"
   ]
  },
  {
   "cell_type": "code",
   "execution_count": 69,
   "metadata": {},
   "outputs": [],
   "source": [
    "def get_line_urls(url, name='重庆轨道交通'):\n",
    "    r = requests.get(url, headers=headers)\n",
    "    r.encoding = 'utf-8'\n",
    "\n",
    "    s = bs4.BeautifulSoup(r.text)\n",
    "\n",
    "    url_map = {}\n",
    "    for link in s.find_all('a'):\n",
    "        line_name = link.string\n",
    "        if line_name and line_name.startswith(name):\n",
    "            try:\n",
    "                href = link.get('href')\n",
    "                url = urljoin('https://baike.baidu.com/', href)\n",
    "                url_map[line_name] = url\n",
    "            except:\n",
    "                pass\n",
    "    return url_map"
   ]
  },
  {
   "cell_type": "code",
   "execution_count": 70,
   "metadata": {},
   "outputs": [],
   "source": [
    "url_map = get_line_urls(url)"
   ]
  },
  {
   "cell_type": "code",
   "execution_count": 71,
   "metadata": {},
   "outputs": [
    {
     "data": {
      "text/plain": [
       "{'重庆轨道交通2号线': 'https://baike.baidu.com/item/%E9%87%8D%E5%BA%86%E8%BD%A8%E9%81%93%E4%BA%A4%E9%80%9A2%E5%8F%B7%E7%BA%BF',\n",
       " '重庆轨道交通1号线': 'https://baike.baidu.com/item/%E9%87%8D%E5%BA%86%E8%BD%A8%E9%81%93%E4%BA%A4%E9%80%9A1%E5%8F%B7%E7%BA%BF',\n",
       " '重庆轨道交通3号线': 'https://baike.baidu.com/item/%E9%87%8D%E5%BA%86%E8%BD%A8%E9%81%93%E4%BA%A4%E9%80%9A3%E5%8F%B7%E7%BA%BF',\n",
       " '重庆轨道交通4号线': 'https://baike.baidu.com/item/%E9%87%8D%E5%BA%86%E8%BD%A8%E9%81%93%E4%BA%A4%E9%80%9A4%E5%8F%B7%E7%BA%BF',\n",
       " '重庆轨道交通5号线': 'https://baike.baidu.com/item/%E9%87%8D%E5%BA%86%E8%BD%A8%E9%81%93%E4%BA%A4%E9%80%9A5%E5%8F%B7%E7%BA%BF',\n",
       " '重庆轨道交通6号线': 'https://baike.baidu.com/item/%E9%87%8D%E5%BA%86%E8%BD%A8%E9%81%93%E4%BA%A4%E9%80%9A6%E5%8F%B7%E7%BA%BF',\n",
       " '重庆轨道交通10号线': 'https://baike.baidu.com/item/%E9%87%8D%E5%BA%86%E8%BD%A8%E9%81%93%E4%BA%A4%E9%80%9A10%E5%8F%B7%E7%BA%BF',\n",
       " '重庆轨道交通环线': 'https://baike.baidu.com/item/%E9%87%8D%E5%BA%86%E8%BD%A8%E9%81%93%E4%BA%A4%E9%80%9A%E7%8E%AF%E7%BA%BF/6262744',\n",
       " '重庆轨道交通18号线': 'https://baike.baidu.com/item/%E9%87%8D%E5%BA%86%E8%BD%A8%E9%81%93%E4%BA%A4%E9%80%9A18%E5%8F%B7%E7%BA%BF/22162379',\n",
       " '重庆轨道交通9号线': 'https://baike.baidu.com/item/%E9%87%8D%E5%BA%86%E8%BD%A8%E9%81%93%E4%BA%A4%E9%80%9A9%E5%8F%B7%E7%BA%BF'}"
      ]
     },
     "execution_count": 71,
     "metadata": {},
     "output_type": "execute_result"
    }
   ],
   "source": [
    "url_map"
   ]
  },
  {
   "cell_type": "code",
   "execution_count": null,
   "metadata": {},
   "outputs": [],
   "source": [
    "####获取各线路URL信息并保存"
   ]
  },
  {
   "cell_type": "code",
   "execution_count": 74,
   "metadata": {},
   "outputs": [],
   "source": [
    "line_list = ['1号线', '2号线', '3号线', '4号线', '6号线', '10号线', '9号线', '18号线', '环线']\n",
    "line_url = {k:v for k,v in url_map.items() if k[6:] in line_list}"
   ]
  },
  {
   "cell_type": "code",
   "execution_count": 75,
   "metadata": {},
   "outputs": [
    {
     "data": {
      "text/plain": [
       "{'重庆轨道交通2号线': 'https://baike.baidu.com/item/%E9%87%8D%E5%BA%86%E8%BD%A8%E9%81%93%E4%BA%A4%E9%80%9A2%E5%8F%B7%E7%BA%BF',\n",
       " '重庆轨道交通1号线': 'https://baike.baidu.com/item/%E9%87%8D%E5%BA%86%E8%BD%A8%E9%81%93%E4%BA%A4%E9%80%9A1%E5%8F%B7%E7%BA%BF',\n",
       " '重庆轨道交通3号线': 'https://baike.baidu.com/item/%E9%87%8D%E5%BA%86%E8%BD%A8%E9%81%93%E4%BA%A4%E9%80%9A3%E5%8F%B7%E7%BA%BF',\n",
       " '重庆轨道交通4号线': 'https://baike.baidu.com/item/%E9%87%8D%E5%BA%86%E8%BD%A8%E9%81%93%E4%BA%A4%E9%80%9A4%E5%8F%B7%E7%BA%BF',\n",
       " '重庆轨道交通6号线': 'https://baike.baidu.com/item/%E9%87%8D%E5%BA%86%E8%BD%A8%E9%81%93%E4%BA%A4%E9%80%9A6%E5%8F%B7%E7%BA%BF',\n",
       " '重庆轨道交通10号线': 'https://baike.baidu.com/item/%E9%87%8D%E5%BA%86%E8%BD%A8%E9%81%93%E4%BA%A4%E9%80%9A10%E5%8F%B7%E7%BA%BF',\n",
       " '重庆轨道交通环线': 'https://baike.baidu.com/item/%E9%87%8D%E5%BA%86%E8%BD%A8%E9%81%93%E4%BA%A4%E9%80%9A%E7%8E%AF%E7%BA%BF/6262744',\n",
       " '重庆轨道交通18号线': 'https://baike.baidu.com/item/%E9%87%8D%E5%BA%86%E8%BD%A8%E9%81%93%E4%BA%A4%E9%80%9A18%E5%8F%B7%E7%BA%BF/22162379',\n",
       " '重庆轨道交通9号线': 'https://baike.baidu.com/item/%E9%87%8D%E5%BA%86%E8%BD%A8%E9%81%93%E4%BA%A4%E9%80%9A9%E5%8F%B7%E7%BA%BF'}"
      ]
     },
     "execution_count": 75,
     "metadata": {},
     "output_type": "execute_result"
    }
   ],
   "source": [
    "line_url"
   ]
  },
  {
   "cell_type": "code",
   "execution_count": 76,
   "metadata": {},
   "outputs": [
    {
     "name": "stdout",
     "output_type": "stream",
     "text": [
      "The history saving thread hit an unexpected error (OperationalError('database or disk is full')).History will not be written to the database.\n"
     ]
    }
   ],
   "source": [
    "for name, url in line_url.items():\n",
    "    r = requests.get(url, headers=headers)\n",
    "    r.encoding = 'utf-8'\n",
    "    filename = name + '.txt'\n",
    "    with open(filename, 'w', encoding='utf-8') as f:\n",
    "        f.write(r.text)"
   ]
  },
  {
   "cell_type": "code",
   "execution_count": 77,
   "metadata": {},
   "outputs": [],
   "source": [
    "line_url = {'重庆轨道交通2号线': 'https://baike.baidu.com/item/%E9%87%8D%E5%BA%86%E8%BD%A8%E9%81%93%E4%BA%A4%E9%80%9A2%E5%8F%B7%E7%BA%BF',\n",
    " '重庆轨道交通1号线': 'https://baike.baidu.com/item/%E9%87%8D%E5%BA%86%E8%BD%A8%E9%81%93%E4%BA%A4%E9%80%9A1%E5%8F%B7%E7%BA%BF',\n",
    " '重庆轨道交通3号线': 'https://baike.baidu.com/item/%E9%87%8D%E5%BA%86%E8%BD%A8%E9%81%93%E4%BA%A4%E9%80%9A3%E5%8F%B7%E7%BA%BF',\n",
    " '重庆轨道交通4号线': 'https://baike.baidu.com/item/%E9%87%8D%E5%BA%86%E8%BD%A8%E9%81%93%E4%BA%A4%E9%80%9A4%E5%8F%B7%E7%BA%BF',\n",
    " '重庆轨道交通6号线': 'https://baike.baidu.com/item/%E9%87%8D%E5%BA%86%E8%BD%A8%E9%81%93%E4%BA%A4%E9%80%9A6%E5%8F%B7%E7%BA%BF',\n",
    " '重庆轨道交通10号线': 'https://baike.baidu.com/item/%E9%87%8D%E5%BA%86%E8%BD%A8%E9%81%93%E4%BA%A4%E9%80%9A10%E5%8F%B7%E7%BA%BF',\n",
    " '重庆轨道交通环线': 'https://baike.baidu.com/item/%E9%87%8D%E5%BA%86%E8%BD%A8%E9%81%93%E4%BA%A4%E9%80%9A%E7%8E%AF%E7%BA%BF/6262744',\n",
    " '重庆轨道交通18号线': 'https://baike.baidu.com/item/%E9%87%8D%E5%BA%86%E8%BD%A8%E9%81%93%E4%BA%A4%E9%80%9A18%E5%8F%B7%E7%BA%BF/22162379',\n",
    " '重庆轨道交通9号线': 'https://baike.baidu.com/item/%E9%87%8D%E5%BA%86%E8%BD%A8%E9%81%93%E4%BA%A4%E9%80%9A9%E5%8F%B7%E7%BA%BF'}"
   ]
  },
  {
   "cell_type": "code",
   "execution_count": 78,
   "metadata": {},
   "outputs": [],
   "source": [
    "text1 = '<tr><td width=\"131\" valign=\"top\">站名</td><td width=\"195\" valign=\"top\">所在区域</td><td width=\"153\" valign=\"top\">换乘线路</td><td width=\"180\" valign=\"top\">开通时间</td></tr>'\n",
    "text2 = '<tr><td><div class=\"para\" label-module=\"para\">序号</div></td><td><div class=\"para\" label-module=\"para\">车站名称</div></td><td><div class=\"para\" label-module=\"para\">中心里程</div></td><td><div class=\"para\" label-module=\"para\">右线站间距（m）</div></td><td><div class=\"para\" label-module=\"para\">站 型</div></td><td width=\"134\" height=\"38\">换乘线路</td></tr>'\n",
    "text3 = '<tr></tr>'"
   ]
  },
  {
   "cell_type": "code",
   "execution_count": 79,
   "metadata": {},
   "outputs": [],
   "source": [
    "s1 = bs4.BeautifulSoup(text1).tr\n",
    "s2 = bs4.BeautifulSoup(text2).tr\n",
    "s3 = bs4.BeautifulSoup(text3).tr"
   ]
  },
  {
   "cell_type": "code",
   "execution_count": 80,
   "metadata": {},
   "outputs": [
    {
     "data": {
      "text/plain": [
       "bs4.element.Tag"
      ]
     },
     "execution_count": 80,
     "metadata": {},
     "output_type": "execute_result"
    }
   ],
   "source": [
    "type(s3)"
   ]
  },
  {
   "cell_type": "code",
   "execution_count": 81,
   "metadata": {},
   "outputs": [
    {
     "name": "stdout",
     "output_type": "stream",
     "text": [
      "<class 'bs4.element.Tag'>\n",
      "<td valign=\"top\" width=\"131\">站名</td>\n",
      "<class 'bs4.element.Tag'>\n",
      "<td valign=\"top\" width=\"195\">所在区域</td>\n",
      "<class 'bs4.element.Tag'>\n",
      "<td valign=\"top\" width=\"153\">换乘线路</td>\n",
      "<class 'bs4.element.Tag'>\n",
      "<td valign=\"top\" width=\"180\">开通时间</td>\n"
     ]
    }
   ],
   "source": [
    "for s in s1.children:\n",
    "    print(type(s))\n",
    "    print(s)"
   ]
  },
  {
   "cell_type": "code",
   "execution_count": 82,
   "metadata": {},
   "outputs": [],
   "source": [
    "def find_station_col(header):\n",
    "    cols = header.children\n",
    "    if cols is None: return\n",
    "    for i, col in enumerate(cols):\n",
    "        if '站名' in str(col):\n",
    "            return i"
   ]
  },
  {
   "cell_type": "code",
   "execution_count": 84,
   "metadata": {},
   "outputs": [
    {
     "data": {
      "text/plain": [
       "1"
      ]
     },
     "execution_count": 84,
     "metadata": {},
     "output_type": "execute_result"
    }
   ],
   "source": [
    "find_station_col(s2)"
   ]
  },
  {
   "cell_type": "code",
   "execution_count": 85,
   "metadata": {},
   "outputs": [],
   "source": [
    "def find_station(row, station_col):\n",
    "    cols = list(row.children)\n",
    "    try:\n",
    "        s = cols[station_col]\n",
    "        pat = re.compile('>([^<>]+)<')\n",
    "        match = pat.search(str(s))\n",
    "        return match.group(1)\n",
    "    except:\n",
    "        return None"
   ]
  },
  {
   "cell_type": "code",
   "execution_count": 86,
   "metadata": {},
   "outputs": [],
   "source": [
    "def find_stations(table):\n",
    "    stations = []\n",
    "    rows = table.find_all('tr')\n",
    "    header = rows[0]\n",
    "    station_col = find_station_col(header)\n",
    "    if station_col is not None:\n",
    "        for row in rows[1:]:\n",
    "            station = find_station(row, station_col)\n",
    "            if station:\n",
    "                stations.append(station)\n",
    "    return stations"
   ]
  },
  {
   "cell_type": "code",
   "execution_count": null,
   "metadata": {},
   "outputs": [],
   "source": [
    "### 多个表中获取站名列表"
   ]
  },
  {
   "cell_type": "code",
   "execution_count": 87,
   "metadata": {},
   "outputs": [],
   "source": [
    "def complete_stations(tables):\n",
    "    return max([find_stations(table) for table in tables], key=len)"
   ]
  },
  {
   "cell_type": "code",
   "execution_count": null,
   "metadata": {},
   "outputs": [],
   "source": [
    "###　从保存的文件中获取站名列表"
   ]
  },
  {
   "cell_type": "code",
   "execution_count": 91,
   "metadata": {},
   "outputs": [],
   "source": [
    "def get_stations(filename):\n",
    "    r = open(filename, 'r', encoding='utf-8')\n",
    "    s = bs4.BeautifulSoup(r)\n",
    "    r.close()\n",
    "    tables = s.find_all('table')\n",
    "    if tables:\n",
    "        return complete_stations(tables)"
   ]
  },
  {
   "cell_type": "code",
   "execution_count": 92,
   "metadata": {},
   "outputs": [
    {
     "data": {
      "text/plain": [
       "['重庆图书馆站',\n",
       " '天星桥站',\n",
       " '沙坪坝站',\n",
       " '重庆大学站',\n",
       " '玉带山站',\n",
       " '南桥寺站',\n",
       " '体育公园站',\n",
       " '冉家坝站',\n",
       " '动步公园站',\n",
       " '洪湖东路站',\n",
       " '民安大道站',\n",
       " '重庆北站南广场站',\n",
       " '渝鲁站',\n",
       " '五里店站',\n",
       " '弹子石站',\n",
       " '涂山站',\n",
       " '仁济站',\n",
       " '上新街站',\n",
       " '上浩站',\n",
       " '海棠溪站',\n",
       " '罗家坝站',\n",
       " '四公里站',\n",
       " '南湖站',\n",
       " '海峡路站',\n",
       " '谢家湾站',\n",
       " '奥体中心站',\n",
       " '陈家坪站',\n",
       " '彩云湖站',\n",
       " '二郎站']"
      ]
     },
     "execution_count": 92,
     "metadata": {},
     "output_type": "execute_result"
    }
   ],
   "source": [
    "stations = get_stations('重庆轨道交通环线.txt')\n",
    "stations"
   ]
  },
  {
   "cell_type": "code",
   "execution_count": 93,
   "metadata": {},
   "outputs": [],
   "source": [
    "line_stations = defaultdict(list)\n",
    "\n",
    "for name in line_url:\n",
    "    stations = get_stations(name+'.txt')\n",
    "    line_stations[name] = stations"
   ]
  },
  {
   "cell_type": "code",
   "execution_count": 94,
   "metadata": {},
   "outputs": [
    {
     "data": {
      "text/plain": [
       "defaultdict(list,\n",
       "            {'重庆轨道交通2号线': ['较场口站',\n",
       "              '临江门站',\n",
       "              '黄花园站',\n",
       "              '大溪沟站',\n",
       "              '曾家岩站',\n",
       "              '牛角沱站',\n",
       "              '李子坝站',\n",
       "              '佛图关站',\n",
       "              '大坪站',\n",
       "              '袁家岗站',\n",
       "              '谢家湾站',\n",
       "              '杨家坪站',\n",
       "              '动物园站',\n",
       "              '大堰村站',\n",
       "              '马王场站',\n",
       "              '平安站',\n",
       "              '大渡口站',\n",
       "              '新山村站',\n",
       "              '天堂堡站',\n",
       "              '建桥站',\n",
       "              '金家湾站',\n",
       "              '刘家坝站',\n",
       "              '白居寺站',\n",
       "              '大江站',\n",
       "              '鱼洞站'],\n",
       "             '重庆轨道交通1号线': ['朝天门站',\n",
       "              '小什字站',\n",
       "              '较场口站',\n",
       "              '七星岗站',\n",
       "              '两路口站',\n",
       "              '鹅岭站',\n",
       "              '大坪站',\n",
       "              '石油路站',\n",
       "              '歇台子站',\n",
       "              '石桥铺站',\n",
       "              '高庙村站',\n",
       "              '马家岩站',\n",
       "              '小龙坎站',\n",
       "              '沙坪坝站',\n",
       "              '杨公桥站',\n",
       "              '烈士墓站',\n",
       "              '磁器口站',\n",
       "              '石井坡站',\n",
       "              '双碑站',\n",
       "              '赖家桥站',\n",
       "              '微电园站',\n",
       "              '陈家桥站',\n",
       "              '大学城站',\n",
       "              '尖顶坡站',\n",
       "              '璧山站'],\n",
       "             '重庆轨道交通3号线': ['鱼洞站',\n",
       "              '金竹站',\n",
       "              '鱼胡路站',\n",
       "              '学堂湾站',\n",
       "              '大山村站',\n",
       "              '花溪站',\n",
       "              '岔路口站',\n",
       "              '九公里站',\n",
       "              '麒龙站',\n",
       "              '八公里站',\n",
       "              '重庆交通大学站',\n",
       "              '六公里站',\n",
       "              '重庆工商大学站',\n",
       "              '四公里站',\n",
       "              '南坪站',\n",
       "              '工贸站',\n",
       "              '铜元局站',\n",
       "              '两路口站',\n",
       "              '牛角沱站',\n",
       "              '华新街站',\n",
       "              '观音桥站',\n",
       "              '红旗河沟站',\n",
       "              '嘉州路站',\n",
       "              '郑家院子站',\n",
       "              '唐家院子站',\n",
       "              '狮子坪站',\n",
       "              '重庆北站南广场站',\n",
       "              '龙头寺站',\n",
       "              '童家院子站',\n",
       "              '金渝站',\n",
       "              '金童路站',\n",
       "              '鸳鸯站',\n",
       "              '园博园站',\n",
       "              '翠云站',\n",
       "              '长福路站',\n",
       "              '回兴站',\n",
       "              '双龙站',\n",
       "              '碧津站',\n",
       "              '江北机场T2航站楼站',\n",
       "              '双凤桥站',\n",
       "              '空港广场站',\n",
       "              '高堡湖站',\n",
       "              '观月路站',\n",
       "              '莲花站',\n",
       "              '举人坝站'],\n",
       "             '重庆轨道交通4号线': ['民安大道站',\n",
       "              '重庆北站北广场站',\n",
       "              '头塘站',\n",
       "              '保税港站',\n",
       "              '寸滩站',\n",
       "              '黑石子站',\n",
       "              '港城站（暂缓开通）',\n",
       "              '太平冲站',\n",
       "              '唐家沱站'],\n",
       "             '重庆轨道交通6号线': ['茶园站',\n",
       "              '邱家湾站',\n",
       "              '长生桥站',\n",
       "              '刘家坪站',\n",
       "              '上新街站',\n",
       "              '小什字站',\n",
       "              '大剧院站',\n",
       "              '江北城站',\n",
       "              '五里店站',\n",
       "              '红土地站',\n",
       "              '黄泥塝站',\n",
       "              '红旗河沟站',\n",
       "              '花卉园站',\n",
       "              '大龙山站',\n",
       "              '冉家坝站',\n",
       "              '光电园站',\n",
       "              '大竹林站',\n",
       "              '康庄站',\n",
       "              '九曲河站',\n",
       "              '礼嘉站',\n",
       "              '金山寺站',\n",
       "              '曹家湾站',\n",
       "              '蔡家站',\n",
       "              '向家岗站',\n",
       "              '龙凤溪站',\n",
       "              '状元碑站',\n",
       "              '西南大学站',\n",
       "              '北碚站',\n",
       "              '礼嘉站',\n",
       "              '欢乐谷站',\n",
       "              '黄茅坪站',\n",
       "              '高义口站',\n",
       "              '国博中心站',\n",
       "              '悦来站'],\n",
       "             '重庆轨道交通10号线': ['鲤鱼池站',\n",
       "              '红土地站',\n",
       "              '龙头寺公园站',\n",
       "              '重庆北站南广场站',\n",
       "              '重庆北站北广场站',\n",
       "              '民心佳园站',\n",
       "              '三亚湾站',\n",
       "              '上湾路站',\n",
       "              '环山公园站',\n",
       "              '长河站',\n",
       "              '江北机场T3航站楼站',\n",
       "              '江北机场T2航站楼站',\n",
       "              '渝北广场站',\n",
       "              '鹿山站',\n",
       "              '中央公园东站',\n",
       "              '中央公园站',\n",
       "              '中央公园西站',\n",
       "              '悦来站',\n",
       "              '王家庄站'],\n",
       "             '重庆轨道交通环线': ['重庆图书馆站',\n",
       "              '天星桥站',\n",
       "              '沙坪坝站',\n",
       "              '重庆大学站',\n",
       "              '玉带山站',\n",
       "              '南桥寺站',\n",
       "              '体育公园站',\n",
       "              '冉家坝站',\n",
       "              '动步公园站',\n",
       "              '洪湖东路站',\n",
       "              '民安大道站',\n",
       "              '重庆北站南广场站',\n",
       "              '渝鲁站',\n",
       "              '五里店站',\n",
       "              '弹子石站',\n",
       "              '涂山站',\n",
       "              '仁济站',\n",
       "              '上新街站',\n",
       "              '上浩站',\n",
       "              '海棠溪站',\n",
       "              '罗家坝站',\n",
       "              '四公里站',\n",
       "              '南湖站',\n",
       "              '海峡路站',\n",
       "              '谢家湾站',\n",
       "              '奥体中心站',\n",
       "              '陈家坪站',\n",
       "              '彩云湖站',\n",
       "              '二郎站'],\n",
       "             '重庆轨道交通18号线': [],\n",
       "             '重庆轨道交通9号线': ['新桥',\n",
       "              '高滩岩',\n",
       "              '天梨路',\n",
       "              '沙坪坝',\n",
       "              '小龙坎',\n",
       "              '土湾',\n",
       "              '红岩村',\n",
       "              '富华路',\n",
       "              '化龙桥',\n",
       "              '李家坪',\n",
       "              '蚂蝗梁',\n",
       "              '观音桥',\n",
       "              '鲤鱼池',\n",
       "              '刘家台',\n",
       "              '江北城',\n",
       "              '五里店',\n",
       "              '溉澜溪',\n",
       "              '头塘',\n",
       "              '保税港',\n",
       "              '何家梁',\n",
       "              '石盘河',\n",
       "              '上湾路',\n",
       "              '青岗坪',\n",
       "              '宝圣湖',\n",
       "              '兴科大道',\n",
       "              '春华大道',\n",
       "              '兰桂大道',\n",
       "              '中央公园东',\n",
       "              '从岩寺',\n",
       "              '花石沟']})"
      ]
     },
     "execution_count": 94,
     "metadata": {},
     "output_type": "execute_result"
    }
   ],
   "source": [
    "line_stations "
   ]
  },
  {
   "cell_type": "code",
   "execution_count": null,
   "metadata": {},
   "outputs": [],
   "source": [
    "###　获取每个站点的下一站点"
   ]
  },
  {
   "cell_type": "code",
   "execution_count": 95,
   "metadata": {},
   "outputs": [],
   "source": [
    "def overlapping_pairs(items):\n",
    "    return [items[i:i+2] for i in range(len(items)-1)]"
   ]
  },
  {
   "cell_type": "code",
   "execution_count": 98,
   "metadata": {},
   "outputs": [],
   "source": [
    "def next_station(line_stations):\n",
    "    next = defaultdict(set)\n",
    "    for name, stations in line_stations.items():\n",
    "        for a, b in overlapping_pairs(stations):\n",
    "            next[a].add(b)\n",
    "            next[b].add(a)\n",
    "    return next\n",
    "            "
   ]
  },
  {
   "cell_type": "code",
   "execution_count": 99,
   "metadata": {},
   "outputs": [
    {
     "data": {
      "text/plain": [
       "defaultdict(set,\n",
       "            {'较场口站': {'七星岗站', '临江门站', '小什字站'},\n",
       "             '临江门站': {'较场口站', '黄花园站'},\n",
       "             '黄花园站': {'临江门站', '大溪沟站'},\n",
       "             '大溪沟站': {'曾家岩站', '黄花园站'},\n",
       "             '曾家岩站': {'大溪沟站', '牛角沱站'},\n",
       "             '牛角沱站': {'两路口站', '华新街站', '曾家岩站', '李子坝站'},\n",
       "             '李子坝站': {'佛图关站', '牛角沱站'},\n",
       "             '佛图关站': {'大坪站', '李子坝站'},\n",
       "             '大坪站': {'佛图关站', '石油路站', '袁家岗站', '鹅岭站'},\n",
       "             '袁家岗站': {'大坪站', '谢家湾站'},\n",
       "             '谢家湾站': {'奥体中心站', '杨家坪站', '海峡路站', '袁家岗站'},\n",
       "             '杨家坪站': {'动物园站', '谢家湾站'},\n",
       "             '动物园站': {'大堰村站', '杨家坪站'},\n",
       "             '大堰村站': {'动物园站', '马王场站'},\n",
       "             '马王场站': {'大堰村站', '平安站'},\n",
       "             '平安站': {'大渡口站', '马王场站'},\n",
       "             '大渡口站': {'平安站', '新山村站'},\n",
       "             '新山村站': {'大渡口站', '天堂堡站'},\n",
       "             '天堂堡站': {'建桥站', '新山村站'},\n",
       "             '建桥站': {'天堂堡站', '金家湾站'},\n",
       "             '金家湾站': {'刘家坝站', '建桥站'},\n",
       "             '刘家坝站': {'白居寺站', '金家湾站'},\n",
       "             '白居寺站': {'刘家坝站', '大江站'},\n",
       "             '大江站': {'白居寺站', '鱼洞站'},\n",
       "             '鱼洞站': {'大江站', '金竹站'},\n",
       "             '朝天门站': {'小什字站'},\n",
       "             '小什字站': {'上新街站', '大剧院站', '朝天门站', '较场口站'},\n",
       "             '七星岗站': {'两路口站', '较场口站'},\n",
       "             '两路口站': {'七星岗站', '牛角沱站', '铜元局站', '鹅岭站'},\n",
       "             '鹅岭站': {'两路口站', '大坪站'},\n",
       "             '石油路站': {'大坪站', '歇台子站'},\n",
       "             '歇台子站': {'石桥铺站', '石油路站'},\n",
       "             '石桥铺站': {'歇台子站', '高庙村站'},\n",
       "             '高庙村站': {'石桥铺站', '马家岩站'},\n",
       "             '马家岩站': {'小龙坎站', '高庙村站'},\n",
       "             '小龙坎站': {'沙坪坝站', '马家岩站'},\n",
       "             '沙坪坝站': {'天星桥站', '小龙坎站', '杨公桥站', '重庆大学站'},\n",
       "             '杨公桥站': {'沙坪坝站', '烈士墓站'},\n",
       "             '烈士墓站': {'杨公桥站', '磁器口站'},\n",
       "             '磁器口站': {'烈士墓站', '石井坡站'},\n",
       "             '石井坡站': {'双碑站', '磁器口站'},\n",
       "             '双碑站': {'石井坡站', '赖家桥站'},\n",
       "             '赖家桥站': {'双碑站', '微电园站'},\n",
       "             '微电园站': {'赖家桥站', '陈家桥站'},\n",
       "             '陈家桥站': {'大学城站', '微电园站'},\n",
       "             '大学城站': {'尖顶坡站', '陈家桥站'},\n",
       "             '尖顶坡站': {'大学城站', '璧山站'},\n",
       "             '璧山站': {'尖顶坡站'},\n",
       "             '金竹站': {'鱼洞站', '鱼胡路站'},\n",
       "             '鱼胡路站': {'学堂湾站', '金竹站'},\n",
       "             '学堂湾站': {'大山村站', '鱼胡路站'},\n",
       "             '大山村站': {'学堂湾站', '花溪站'},\n",
       "             '花溪站': {'大山村站', '岔路口站'},\n",
       "             '岔路口站': {'九公里站', '花溪站'},\n",
       "             '九公里站': {'岔路口站', '麒龙站'},\n",
       "             '麒龙站': {'九公里站', '八公里站'},\n",
       "             '八公里站': {'重庆交通大学站', '麒龙站'},\n",
       "             '重庆交通大学站': {'八公里站', '六公里站'},\n",
       "             '六公里站': {'重庆交通大学站', '重庆工商大学站'},\n",
       "             '重庆工商大学站': {'六公里站', '四公里站'},\n",
       "             '四公里站': {'南坪站', '南湖站', '罗家坝站', '重庆工商大学站'},\n",
       "             '南坪站': {'四公里站', '工贸站'},\n",
       "             '工贸站': {'南坪站', '铜元局站'},\n",
       "             '铜元局站': {'两路口站', '工贸站'},\n",
       "             '华新街站': {'牛角沱站', '观音桥站'},\n",
       "             '观音桥站': {'华新街站', '红旗河沟站'},\n",
       "             '红旗河沟站': {'嘉州路站', '花卉园站', '观音桥站', '黄泥塝站'},\n",
       "             '嘉州路站': {'红旗河沟站', '郑家院子站'},\n",
       "             '郑家院子站': {'唐家院子站', '嘉州路站'},\n",
       "             '唐家院子站': {'狮子坪站', '郑家院子站'},\n",
       "             '狮子坪站': {'唐家院子站', '重庆北站南广场站'},\n",
       "             '重庆北站南广场站': {'民安大道站',\n",
       "              '渝鲁站',\n",
       "              '狮子坪站',\n",
       "              '重庆北站北广场站',\n",
       "              '龙头寺公园站',\n",
       "              '龙头寺站'},\n",
       "             '龙头寺站': {'童家院子站', '重庆北站南广场站'},\n",
       "             '童家院子站': {'金渝站', '龙头寺站'},\n",
       "             '金渝站': {'童家院子站', '金童路站'},\n",
       "             '金童路站': {'金渝站', '鸳鸯站'},\n",
       "             '鸳鸯站': {'园博园站', '金童路站'},\n",
       "             '园博园站': {'翠云站', '鸳鸯站'},\n",
       "             '翠云站': {'园博园站', '长福路站'},\n",
       "             '长福路站': {'回兴站', '翠云站'},\n",
       "             '回兴站': {'双龙站', '长福路站'},\n",
       "             '双龙站': {'回兴站', '碧津站'},\n",
       "             '碧津站': {'双龙站', '江北机场T2航站楼站'},\n",
       "             '江北机场T2航站楼站': {'双凤桥站', '江北机场T3航站楼站', '渝北广场站', '碧津站'},\n",
       "             '双凤桥站': {'江北机场T2航站楼站', '空港广场站'},\n",
       "             '空港广场站': {'双凤桥站', '高堡湖站'},\n",
       "             '高堡湖站': {'空港广场站', '观月路站'},\n",
       "             '观月路站': {'莲花站', '高堡湖站'},\n",
       "             '莲花站': {'举人坝站', '观月路站'},\n",
       "             '举人坝站': {'莲花站'},\n",
       "             '民安大道站': {'洪湖东路站', '重庆北站北广场站', '重庆北站南广场站'},\n",
       "             '重庆北站北广场站': {'头塘站', '民安大道站', '民心佳园站', '重庆北站南广场站'},\n",
       "             '头塘站': {'保税港站', '重庆北站北广场站'},\n",
       "             '保税港站': {'头塘站', '寸滩站'},\n",
       "             '寸滩站': {'保税港站', '黑石子站'},\n",
       "             '黑石子站': {'寸滩站', '港城站（暂缓开通）'},\n",
       "             '港城站（暂缓开通）': {'太平冲站', '黑石子站'},\n",
       "             '太平冲站': {'唐家沱站', '港城站（暂缓开通）'},\n",
       "             '唐家沱站': {'太平冲站'},\n",
       "             '茶园站': {'邱家湾站'},\n",
       "             '邱家湾站': {'茶园站', '长生桥站'},\n",
       "             '长生桥站': {'刘家坪站', '邱家湾站'},\n",
       "             '刘家坪站': {'上新街站', '长生桥站'},\n",
       "             '上新街站': {'上浩站', '仁济站', '刘家坪站', '小什字站'},\n",
       "             '大剧院站': {'小什字站', '江北城站'},\n",
       "             '江北城站': {'五里店站', '大剧院站'},\n",
       "             '五里店站': {'弹子石站', '江北城站', '渝鲁站', '红土地站'},\n",
       "             '红土地站': {'五里店站', '鲤鱼池站', '黄泥塝站', '龙头寺公园站'},\n",
       "             '黄泥塝站': {'红土地站', '红旗河沟站'},\n",
       "             '花卉园站': {'大龙山站', '红旗河沟站'},\n",
       "             '大龙山站': {'冉家坝站', '花卉园站'},\n",
       "             '冉家坝站': {'体育公园站', '光电园站', '动步公园站', '大龙山站'},\n",
       "             '光电园站': {'冉家坝站', '大竹林站'},\n",
       "             '大竹林站': {'光电园站', '康庄站'},\n",
       "             '康庄站': {'九曲河站', '大竹林站'},\n",
       "             '九曲河站': {'康庄站', '礼嘉站'},\n",
       "             '礼嘉站': {'九曲河站', '北碚站', '欢乐谷站', '金山寺站'},\n",
       "             '金山寺站': {'曹家湾站', '礼嘉站'},\n",
       "             '曹家湾站': {'蔡家站', '金山寺站'},\n",
       "             '蔡家站': {'向家岗站', '曹家湾站'},\n",
       "             '向家岗站': {'蔡家站', '龙凤溪站'},\n",
       "             '龙凤溪站': {'向家岗站', '状元碑站'},\n",
       "             '状元碑站': {'西南大学站', '龙凤溪站'},\n",
       "             '西南大学站': {'北碚站', '状元碑站'},\n",
       "             '北碚站': {'礼嘉站', '西南大学站'},\n",
       "             '欢乐谷站': {'礼嘉站', '黄茅坪站'},\n",
       "             '黄茅坪站': {'欢乐谷站', '高义口站'},\n",
       "             '高义口站': {'国博中心站', '黄茅坪站'},\n",
       "             '国博中心站': {'悦来站', '高义口站'},\n",
       "             '悦来站': {'中央公园西站', '国博中心站', '王家庄站'},\n",
       "             '鲤鱼池站': {'红土地站'},\n",
       "             '龙头寺公园站': {'红土地站', '重庆北站南广场站'},\n",
       "             '民心佳园站': {'三亚湾站', '重庆北站北广场站'},\n",
       "             '三亚湾站': {'上湾路站', '民心佳园站'},\n",
       "             '上湾路站': {'三亚湾站', '环山公园站'},\n",
       "             '环山公园站': {'上湾路站', '长河站'},\n",
       "             '长河站': {'江北机场T3航站楼站', '环山公园站'},\n",
       "             '江北机场T3航站楼站': {'江北机场T2航站楼站', '长河站'},\n",
       "             '渝北广场站': {'江北机场T2航站楼站', '鹿山站'},\n",
       "             '鹿山站': {'中央公园东站', '渝北广场站'},\n",
       "             '中央公园东站': {'中央公园站', '鹿山站'},\n",
       "             '中央公园站': {'中央公园东站', '中央公园西站'},\n",
       "             '中央公园西站': {'中央公园站', '悦来站'},\n",
       "             '王家庄站': {'悦来站'},\n",
       "             '重庆图书馆站': {'天星桥站'},\n",
       "             '天星桥站': {'沙坪坝站', '重庆图书馆站'},\n",
       "             '重庆大学站': {'沙坪坝站', '玉带山站'},\n",
       "             '玉带山站': {'南桥寺站', '重庆大学站'},\n",
       "             '南桥寺站': {'体育公园站', '玉带山站'},\n",
       "             '体育公园站': {'冉家坝站', '南桥寺站'},\n",
       "             '动步公园站': {'冉家坝站', '洪湖东路站'},\n",
       "             '洪湖东路站': {'动步公园站', '民安大道站'},\n",
       "             '渝鲁站': {'五里店站', '重庆北站南广场站'},\n",
       "             '弹子石站': {'五里店站', '涂山站'},\n",
       "             '涂山站': {'仁济站', '弹子石站'},\n",
       "             '仁济站': {'上新街站', '涂山站'},\n",
       "             '上浩站': {'上新街站', '海棠溪站'},\n",
       "             '海棠溪站': {'上浩站', '罗家坝站'},\n",
       "             '罗家坝站': {'四公里站', '海棠溪站'},\n",
       "             '南湖站': {'四公里站', '海峡路站'},\n",
       "             '海峡路站': {'南湖站', '谢家湾站'},\n",
       "             '奥体中心站': {'谢家湾站', '陈家坪站'},\n",
       "             '陈家坪站': {'奥体中心站', '彩云湖站'},\n",
       "             '彩云湖站': {'二郎站', '陈家坪站'},\n",
       "             '二郎站': {'彩云湖站'},\n",
       "             '新桥': {'高滩岩'},\n",
       "             '高滩岩': {'天梨路', '新桥'},\n",
       "             '天梨路': {'沙坪坝', '高滩岩'},\n",
       "             '沙坪坝': {'天梨路', '小龙坎'},\n",
       "             '小龙坎': {'土湾', '沙坪坝'},\n",
       "             '土湾': {'小龙坎', '红岩村'},\n",
       "             '红岩村': {'土湾', '富华路'},\n",
       "             '富华路': {'化龙桥', '红岩村'},\n",
       "             '化龙桥': {'富华路', '李家坪'},\n",
       "             '李家坪': {'化龙桥', '蚂蝗梁'},\n",
       "             '蚂蝗梁': {'李家坪', '观音桥'},\n",
       "             '观音桥': {'蚂蝗梁', '鲤鱼池'},\n",
       "             '鲤鱼池': {'刘家台', '观音桥'},\n",
       "             '刘家台': {'江北城', '鲤鱼池'},\n",
       "             '江北城': {'五里店', '刘家台'},\n",
       "             '五里店': {'江北城', '溉澜溪'},\n",
       "             '溉澜溪': {'五里店', '头塘'},\n",
       "             '头塘': {'保税港', '溉澜溪'},\n",
       "             '保税港': {'何家梁', '头塘'},\n",
       "             '何家梁': {'保税港', '石盘河'},\n",
       "             '石盘河': {'上湾路', '何家梁'},\n",
       "             '上湾路': {'石盘河', '青岗坪'},\n",
       "             '青岗坪': {'上湾路', '宝圣湖'},\n",
       "             '宝圣湖': {'兴科大道', '青岗坪'},\n",
       "             '兴科大道': {'宝圣湖', '春华大道'},\n",
       "             '春华大道': {'兰桂大道', '兴科大道'},\n",
       "             '兰桂大道': {'中央公园东', '春华大道'},\n",
       "             '中央公园东': {'从岩寺', '兰桂大道'},\n",
       "             '从岩寺': {'中央公园东', '花石沟'},\n",
       "             '花石沟': {'从岩寺'}})"
      ]
     },
     "execution_count": 99,
     "metadata": {},
     "output_type": "execute_result"
    }
   ],
   "source": [
    "nexts = next_station(line_stations)\n",
    "nexts"
   ]
  },
  {
   "cell_type": "code",
   "execution_count": 100,
   "metadata": {},
   "outputs": [],
   "source": [
    "url='http://map.amap.com/service/subway?_1590290810514&srhdata=5000_drw_chongqing.json'"
   ]
  },
  {
   "cell_type": "code",
   "execution_count": 101,
   "metadata": {},
   "outputs": [],
   "source": [
    "import json\n",
    "from collections import defaultdict"
   ]
  },
  {
   "cell_type": "code",
   "execution_count": 102,
   "metadata": {},
   "outputs": [],
   "source": [
    "#保存\n",
    "# with open('subway.json', 'w', encoding='utf-8') as f:\n",
    "#     r = requests.get(url)\n",
    "#     json.dump(r.json(), f, indent=4)"
   ]
  },
  {
   "cell_type": "code",
   "execution_count": 103,
   "metadata": {},
   "outputs": [],
   "source": [
    "with open('subway.json', 'r', encoding='utf-8') as f:\n",
    "    data = json.load(f)"
   ]
  },
  {
   "cell_type": "code",
   "execution_count": 104,
   "metadata": {},
   "outputs": [
    {
     "data": {
      "text/plain": [
       "dict"
      ]
     },
     "execution_count": 104,
     "metadata": {},
     "output_type": "execute_result"
    }
   ],
   "source": [
    "#type(data)"
   ]
  },
  {
   "cell_type": "code",
   "execution_count": 109,
   "metadata": {},
   "outputs": [],
   "source": [
    "#data['l']"
   ]
  },
  {
   "cell_type": "code",
   "execution_count": 110,
   "metadata": {},
   "outputs": [],
   "source": [
    "line_stops = defaultdict(list)\n",
    "for line in data['l']:\n",
    "    full_name = line['kn']\n",
    "    name = line['ln']\n",
    "    stops_info = line['st']\n",
    "    for stop_info in stops_info:\n",
    "        stop = stop_info['n']\n",
    "        long, lat = map(float, stop_info['sl'].split(','))\n",
    "        line_stops[(full_name, name)].append((stop, (long, lat)))   "
   ]
  },
  {
   "cell_type": "code",
   "execution_count": 111,
   "metadata": {},
   "outputs": [
    {
     "name": "stdout",
     "output_type": "stream",
     "text": [
      "defaultdict(<class 'list'>,\n",
      "            {('轨道交通10号线', '10号线'): [('鲤鱼池', (106.550159, 29.573995)),\n",
      "                                    ('红土地', (106.551176, 29.584019)),\n",
      "                                    ('龙头寺公园', (106.550608, 29.598653)),\n",
      "                                    ('重庆北站南广场', (106.549274, 29.606696)),\n",
      "                                    ('重庆北站北广场', (106.551195, 29.612922)),\n",
      "                                    ('民心佳园', (106.567621, 29.626609)),\n",
      "                                    ('三亚湾', (106.584785, 29.638338)),\n",
      "                                    ('上湾路', (106.608952, 29.649889)),\n",
      "                                    ('环山公园', (106.622117, 29.658846)),\n",
      "                                    ('长河', (106.629425, 29.674056)),\n",
      "                                    ('江北机场T3航站楼', (106.655275, 29.708424)),\n",
      "                                    ('江北机场T2航站楼', (106.638292, 29.718703)),\n",
      "                                    ('渝北广场', (106.629849, 29.718544)),\n",
      "                                    ('鹿山', (106.608363, 29.720589)),\n",
      "                                    ('中央公园东', (106.591963, 29.723653)),\n",
      "                                    ('中央公园', (106.583722, 29.723671)),\n",
      "                                    ('中央公园西', (106.572323, 29.723702)),\n",
      "                                    ('悦来', (106.547955, 29.725508)),\n",
      "                                    ('王家庄', (106.54557, 29.74348))],\n",
      "             ('轨道交通1号线', '1号线'): [('小什字', (106.583593, 29.560028)),\n",
      "                                  ('较场口', (106.574352, 29.553575)),\n",
      "                                  ('七星岗', (106.563142, 29.554871)),\n",
      "                                  ('两路口', (106.549342, 29.552621)),\n",
      "                                  ('鹅岭', (106.533923, 29.547986)),\n",
      "                                  ('大坪', (106.519184, 29.541886)),\n",
      "                                  ('石油路', (106.508308, 29.53811)),\n",
      "                                  ('歇台子', (106.498353, 29.53548)),\n",
      "                                  ('石桥铺', (106.484891, 29.532771)),\n",
      "                                  ('高庙村', (106.469211, 29.536409)),\n",
      "                                  ('马家岩', (106.468033, 29.544984)),\n",
      "                                  ('小龙坎', (106.468325, 29.553658)),\n",
      "                                  ('沙坪坝', (106.460425, 29.556003)),\n",
      "                                  ('杨公桥', (106.450227, 29.561544)),\n",
      "                                  ('烈士墓', (106.445437, 29.567434)),\n",
      "                                  ('磁器口', (106.44642, 29.576719)),\n",
      "                                  ('石井坡', (106.444283, 29.589415)),\n",
      "                                  ('双碑', (106.44437, 29.605775)),\n",
      "                                  ('赖家桥', (106.381441, 29.610285)),\n",
      "                                  ('微电园', (106.362894, 29.609665)),\n",
      "                                  ('陈家桥', (106.328499, 29.607427)),\n",
      "                                  ('大学城', (106.308908, 29.60735)),\n",
      "                                  ('尖顶坡', (106.292967, 29.607324)),\n",
      "                                  ('璧山', (106.232616, 29.612254))],\n",
      "             ('轨道交通2号线', '2号线'): [('较场口', (106.574352, 29.553575)),\n",
      "                                  ('临江门', (106.574228, 29.558281)),\n",
      "                                  ('黄花园', (106.564839, 29.563396)),\n",
      "                                  ('大溪沟', (106.558397, 29.566175)),\n",
      "                                  ('曾家岩', (106.550111, 29.566468)),\n",
      "                                  ('牛角沱', (106.542605, 29.560679)),\n",
      "                                  ('李子坝', (106.53766, 29.552892)),\n",
      "                                  ('佛图关', (106.531503, 29.549345)),\n",
      "                                  ('大坪', (106.519184, 29.541886)),\n",
      "                                  ('袁家岗', (106.513742, 29.528808)),\n",
      "                                  ('谢家湾', (106.517591, 29.519096)),\n",
      "                                  ('杨家坪', (106.513903, 29.507839)),\n",
      "                                  ('动物园', (106.509401, 29.500053)),\n",
      "                                  ('大堰村', (106.499192, 29.499619)),\n",
      "                                  ('马王场', (106.488749, 29.496091)),\n",
      "                                  ('平安', (106.485049, 29.488733)),\n",
      "                                  ('大渡口', (106.478209, 29.481837)),\n",
      "                                  ('新山村', (106.476401, 29.471978)),\n",
      "                                  ('天堂堡', (106.472268, 29.466585)),\n",
      "                                  ('建桥', (106.474727, 29.44994)),\n",
      "                                  ('金家湾', (106.475526, 29.437798)),\n",
      "                                  ('刘家坝', (106.482735, 29.427529)),\n",
      "                                  ('白居寺', (106.491974, 29.414619)),\n",
      "                                  ('大江', (106.501082, 29.384138)),\n",
      "                                  ('鱼洞', (106.505897, 29.375867))],\n",
      "             ('轨道交通3号线', '3号线'): [('鱼洞', (106.505897, 29.375867)),\n",
      "                                  ('金竹', (106.523885, 29.375547)),\n",
      "                                  ('鱼胡路', (106.539122, 29.377762)),\n",
      "                                  ('学堂湾', (106.542983, 29.398062)),\n",
      "                                  ('大山村', (106.543657, 29.412858)),\n",
      "                                  ('花溪', (106.550211, 29.432287)),\n",
      "                                  ('岔路口', (106.554512, 29.448579)),\n",
      "                                  ('九公里', (106.559086, 29.458466)),\n",
      "                                  ('麒龙', (106.562563, 29.466957)),\n",
      "                                  ('八公里', (106.565862, 29.478103)),\n",
      "                                  ('重庆交通大学', (106.572766, 29.488581)),\n",
      "                                  ('六公里', (106.573332, 29.497788)),\n",
      "                                  ('重庆工商大学', (106.573876, 29.507337)),\n",
      "                                  ('四公里', (106.576142, 29.516665)),\n",
      "                                  ('南坪', (106.569885, 29.52599)),\n",
      "                                  ('工贸', (106.563399, 29.531553)),\n",
      "                                  ('铜元局', (106.551562, 29.536006)),\n",
      "                                  ('两路口', (106.549342, 29.552621)),\n",
      "                                  ('牛角沱', (106.542605, 29.560679)),\n",
      "                                  ('华新街', (106.537132, 29.563956)),\n",
      "                                  ('观音桥', (106.532469, 29.573462)),\n",
      "                                  ('红旗河沟', (106.526215, 29.585387)),\n",
      "                                  ('嘉州路', (106.522156, 29.595523)),\n",
      "                                  ('郑家院子', (106.529943, 29.599459)),\n",
      "                                  ('唐家院子', (106.540633, 29.599152)),\n",
      "                                  ('狮子坪', (106.549203, 29.60131)),\n",
      "                                  ('重庆北站南广场', (106.549274, 29.606696)),\n",
      "                                  ('龙头寺', (106.549627, 29.61677)),\n",
      "                                  ('童家院子', (106.555093, 29.628394)),\n",
      "                                  ('金渝', (106.570667, 29.635366)),\n",
      "                                  ('金童路', (106.567399, 29.643318)),\n",
      "                                  ('鸳鸯', (106.560147, 29.661318)),\n",
      "                                  ('园博园', (106.563771, 29.674628)),\n",
      "                                  ('翠云', (106.572687, 29.685865)),\n",
      "                                  ('长福路', (106.588609, 29.687603)),\n",
      "                                  ('回兴', (106.605868, 29.690383)),\n",
      "                                  ('双龙', (106.618788, 29.697889)),\n",
      "                                  ('碧津', (106.632644, 29.711154)),\n",
      "                                  ('江北机场T2航站楼', (106.638292, 29.718703))],\n",
      "             ('轨道交通3号线北延伸段(空港线)', '3号线北延伸段'): [('碧津', (106.632644, 29.711154)),\n",
      "                                               ('双凤桥', (106.632667, 29.728923)),\n",
      "                                               ('空港广场',\n",
      "                                                (106.633616, 29.736328)),\n",
      "                                               ('高堡湖', (106.642982, 29.751896)),\n",
      "                                               ('观月路', (106.652796, 29.774956)),\n",
      "                                               ('莲花', (106.655893, 29.785521)),\n",
      "                                               ('举人坝',\n",
      "                                                (106.667441, 29.791376))],\n",
      "             ('轨道交通4号线', '4号线'): [('唐家沱', (106.65914, 29.605695)),\n",
      "                                  ('太平冲', (106.641522, 29.605873)),\n",
      "                                  ('黑石子', (106.621014, 29.624639)),\n",
      "                                  ('寸滩', (106.606153, 29.621815)),\n",
      "                                  ('保税港', (106.583495, 29.617052)),\n",
      "                                  ('头塘', (106.573325, 29.60821)),\n",
      "                                  ('重庆北站北广场', (106.551195, 29.612922)),\n",
      "                                  ('民安大道', (106.529107, 29.608917))],\n",
      "             ('轨道交通5号线', '5号线'): [('大石坝', (106.495224, 29.570787)),\n",
      "                                  ('大龙山', (106.498792, 29.589491)),\n",
      "                                  ('冉家坝', (106.498822, 29.598255)),\n",
      "                                  ('幸福广场', (106.508201, 29.61656)),\n",
      "                                  ('人和', (106.522248, 29.623325)),\n",
      "                                  ('和睦路', (106.533455, 29.62968)),\n",
      "                                  ('重光', (106.530077, 29.649028)),\n",
      "                                  ('湖霞街', (106.538581, 29.659787)),\n",
      "                                  ('丹鹤', (106.550959, 29.666655)),\n",
      "                                  ('园博中心', (106.560443, 29.67529))],\n",
      "             ('轨道交通6号线', '6号线'): [('茶园', (106.642898, 29.487559)),\n",
      "                                  ('邱家湾', (106.64961, 29.497915)),\n",
      "                                  ('长生桥', (106.658049, 29.510924)),\n",
      "                                  ('刘家坪', (106.655733, 29.524717)),\n",
      "                                  ('上新街', (106.597196, 29.556094)),\n",
      "                                  ('小什字', (106.583593, 29.560028)),\n",
      "                                  ('大剧院', (106.576944, 29.569584)),\n",
      "                                  ('江北城', (106.572066, 29.575825)),\n",
      "                                  ('五里店', (106.565175, 29.58517)),\n",
      "                                  ('红土地', (106.551176, 29.584019)),\n",
      "                                  ('黄泥塝', (106.538072, 29.588466)),\n",
      "                                  ('红旗河沟', (106.526215, 29.585387)),\n",
      "                                  ('花卉园', (106.512935, 29.583226)),\n",
      "                                  ('大龙山', (106.498792, 29.589491)),\n",
      "                                  ('冉家坝', (106.498822, 29.598255)),\n",
      "                                  ('光电园', (106.499401, 29.616077)),\n",
      "                                  ('大竹林', (106.478351, 29.628054)),\n",
      "                                  ('康庄', (106.478971, 29.634788)),\n",
      "                                  ('九曲河', (106.482875, 29.653996)),\n",
      "                                  ('礼嘉', (106.488115, 29.667234)),\n",
      "                                  ('金山寺', (106.492104, 29.679292)),\n",
      "                                  ('曹家湾', (106.494307, 29.721)),\n",
      "                                  ('蔡家', (106.49227, 29.736017)),\n",
      "                                  ('向家岗', (106.472957, 29.739202)),\n",
      "                                  ('龙凤溪', (106.403911, 29.789492)),\n",
      "                                  ('状元碑', (106.398891, 29.803187)),\n",
      "                                  ('西南大学', (106.423756, 29.816263)),\n",
      "                                  ('北碚', (106.437504, 29.825288))],\n",
      "             ('轨道交通6号线支线(国博线)', '6号线支线(国博线)'): [('悦来', (106.547955, 29.725508)),\n",
      "                                                ('国博中心',\n",
      "                                                 (106.545523, 29.716516)),\n",
      "                                                ('高义口',\n",
      "                                                 (106.527902, 29.702776)),\n",
      "                                                ('黄茅坪',\n",
      "                                                 (106.531485, 29.676213)),\n",
      "                                                ('欢乐谷',\n",
      "                                                 (106.508619, 29.669213)),\n",
      "                                                ('礼嘉',\n",
      "                                                 (106.488115, 29.667234))],\n",
      "             ('轨道交通环线', '环线'): [('重庆图书馆', (106.45555, 29.532135)),\n",
      "                                ('沙坪坝', (106.460425, 29.556003)),\n",
      "                                ('重庆大学', (106.463078, 29.568137)),\n",
      "                                ('玉带山', (106.476119, 29.580583)),\n",
      "                                ('南桥寺', (106.482436, 29.590358)),\n",
      "                                ('体育公园', (106.487624, 29.598666)),\n",
      "                                ('冉家坝', (106.498822, 29.598255)),\n",
      "                                ('动步公园', (106.504857, 29.60317)),\n",
      "                                ('洪湖东路', (106.512396, 29.607646)),\n",
      "                                ('民安大道', (106.529107, 29.608917)),\n",
      "                                ('重庆北站南广场', (106.549274, 29.606696)),\n",
      "                                ('渝鲁', (106.559502, 29.595985)),\n",
      "                                ('五里店', (106.565175, 29.58517)),\n",
      "                                ('弹子石', (106.592558, 29.585809)),\n",
      "                                ('涂山', (106.600619, 29.57597)),\n",
      "                                ('上新街', (106.597196, 29.556094)),\n",
      "                                ('海棠溪', (106.587098, 29.534515)),\n",
      "                                ('罗家坝', (106.582936, 29.526321)),\n",
      "                                ('四公里', (106.576142, 29.516665)),\n",
      "                                ('南湖', (106.556997, 29.516859)),\n",
      "                                ('海峡路', (106.546527, 29.518779)),\n",
      "                                ('谢家湾', (106.517591, 29.519096)),\n",
      "                                ('奥体中心', (106.502398, 29.523086)),\n",
      "                                ('陈家坪', (106.489965, 29.52406)),\n",
      "                                ('彩云湖', (106.471832, 29.516037)),\n",
      "                                ('二郎', (106.462156, 29.505032))]})\n"
     ]
    }
   ],
   "source": [
    "import pprint\n",
    "pprint.pprint(line_stops)"
   ]
  },
  {
   "cell_type": "code",
   "execution_count": 112,
   "metadata": {},
   "outputs": [],
   "source": [
    "stop_location = {}\n",
    "for s in line_stops.values():\n",
    "    for stop, location in s:\n",
    "        stop_location[stop] = location"
   ]
  },
  {
   "cell_type": "code",
   "execution_count": 113,
   "metadata": {},
   "outputs": [
    {
     "data": {
      "text/plain": [
       "{'小什字': (106.583593, 29.560028),\n",
       " '较场口': (106.574352, 29.553575),\n",
       " '七星岗': (106.563142, 29.554871),\n",
       " '两路口': (106.549342, 29.552621),\n",
       " '鹅岭': (106.533923, 29.547986),\n",
       " '大坪': (106.519184, 29.541886),\n",
       " '石油路': (106.508308, 29.53811),\n",
       " '歇台子': (106.498353, 29.53548),\n",
       " '石桥铺': (106.484891, 29.532771),\n",
       " '高庙村': (106.469211, 29.536409),\n",
       " '马家岩': (106.468033, 29.544984),\n",
       " '小龙坎': (106.468325, 29.553658),\n",
       " '沙坪坝': (106.460425, 29.556003),\n",
       " '杨公桥': (106.450227, 29.561544),\n",
       " '烈士墓': (106.445437, 29.567434),\n",
       " '磁器口': (106.44642, 29.576719),\n",
       " '石井坡': (106.444283, 29.589415),\n",
       " '双碑': (106.44437, 29.605775),\n",
       " '赖家桥': (106.381441, 29.610285),\n",
       " '微电园': (106.362894, 29.609665),\n",
       " '陈家桥': (106.328499, 29.607427),\n",
       " '大学城': (106.308908, 29.60735),\n",
       " '尖顶坡': (106.292967, 29.607324),\n",
       " '璧山': (106.232616, 29.612254),\n",
       " '临江门': (106.574228, 29.558281),\n",
       " '黄花园': (106.564839, 29.563396),\n",
       " '大溪沟': (106.558397, 29.566175),\n",
       " '曾家岩': (106.550111, 29.566468),\n",
       " '牛角沱': (106.542605, 29.560679),\n",
       " '李子坝': (106.53766, 29.552892),\n",
       " '佛图关': (106.531503, 29.549345),\n",
       " '袁家岗': (106.513742, 29.528808),\n",
       " '谢家湾': (106.517591, 29.519096),\n",
       " '杨家坪': (106.513903, 29.507839),\n",
       " '动物园': (106.509401, 29.500053),\n",
       " '大堰村': (106.499192, 29.499619),\n",
       " '马王场': (106.488749, 29.496091),\n",
       " '平安': (106.485049, 29.488733),\n",
       " '大渡口': (106.478209, 29.481837),\n",
       " '新山村': (106.476401, 29.471978),\n",
       " '天堂堡': (106.472268, 29.466585),\n",
       " '建桥': (106.474727, 29.44994),\n",
       " '金家湾': (106.475526, 29.437798),\n",
       " '刘家坝': (106.482735, 29.427529),\n",
       " '白居寺': (106.491974, 29.414619),\n",
       " '大江': (106.501082, 29.384138),\n",
       " '鱼洞': (106.505897, 29.375867),\n",
       " '金竹': (106.523885, 29.375547),\n",
       " '鱼胡路': (106.539122, 29.377762),\n",
       " '学堂湾': (106.542983, 29.398062),\n",
       " '大山村': (106.543657, 29.412858),\n",
       " '花溪': (106.550211, 29.432287),\n",
       " '岔路口': (106.554512, 29.448579),\n",
       " '九公里': (106.559086, 29.458466),\n",
       " '麒龙': (106.562563, 29.466957),\n",
       " '八公里': (106.565862, 29.478103),\n",
       " '重庆交通大学': (106.572766, 29.488581),\n",
       " '六公里': (106.573332, 29.497788),\n",
       " '重庆工商大学': (106.573876, 29.507337),\n",
       " '四公里': (106.576142, 29.516665),\n",
       " '南坪': (106.569885, 29.52599),\n",
       " '工贸': (106.563399, 29.531553),\n",
       " '铜元局': (106.551562, 29.536006),\n",
       " '华新街': (106.537132, 29.563956),\n",
       " '观音桥': (106.532469, 29.573462),\n",
       " '红旗河沟': (106.526215, 29.585387),\n",
       " '嘉州路': (106.522156, 29.595523),\n",
       " '郑家院子': (106.529943, 29.599459),\n",
       " '唐家院子': (106.540633, 29.599152),\n",
       " '狮子坪': (106.549203, 29.60131),\n",
       " '重庆北站南广场': (106.549274, 29.606696),\n",
       " '龙头寺': (106.549627, 29.61677),\n",
       " '童家院子': (106.555093, 29.628394),\n",
       " '金渝': (106.570667, 29.635366),\n",
       " '金童路': (106.567399, 29.643318),\n",
       " '鸳鸯': (106.560147, 29.661318),\n",
       " '园博园': (106.563771, 29.674628),\n",
       " '翠云': (106.572687, 29.685865),\n",
       " '长福路': (106.588609, 29.687603),\n",
       " '回兴': (106.605868, 29.690383),\n",
       " '双龙': (106.618788, 29.697889),\n",
       " '碧津': (106.632644, 29.711154),\n",
       " '江北机场T2航站楼': (106.638292, 29.718703),\n",
       " '双凤桥': (106.632667, 29.728923),\n",
       " '空港广场': (106.633616, 29.736328),\n",
       " '高堡湖': (106.642982, 29.751896),\n",
       " '观月路': (106.652796, 29.774956),\n",
       " '莲花': (106.655893, 29.785521),\n",
       " '举人坝': (106.667441, 29.791376),\n",
       " '唐家沱': (106.65914, 29.605695),\n",
       " '太平冲': (106.641522, 29.605873),\n",
       " '黑石子': (106.621014, 29.624639),\n",
       " '寸滩': (106.606153, 29.621815),\n",
       " '保税港': (106.583495, 29.617052),\n",
       " '头塘': (106.573325, 29.60821),\n",
       " '重庆北站北广场': (106.551195, 29.612922),\n",
       " '民安大道': (106.529107, 29.608917),\n",
       " '大石坝': (106.495224, 29.570787),\n",
       " '大龙山': (106.498792, 29.589491),\n",
       " '冉家坝': (106.498822, 29.598255),\n",
       " '幸福广场': (106.508201, 29.61656),\n",
       " '人和': (106.522248, 29.623325),\n",
       " '和睦路': (106.533455, 29.62968),\n",
       " '重光': (106.530077, 29.649028),\n",
       " '湖霞街': (106.538581, 29.659787),\n",
       " '丹鹤': (106.550959, 29.666655),\n",
       " '园博中心': (106.560443, 29.67529),\n",
       " '茶园': (106.642898, 29.487559),\n",
       " '邱家湾': (106.64961, 29.497915),\n",
       " '长生桥': (106.658049, 29.510924),\n",
       " '刘家坪': (106.655733, 29.524717),\n",
       " '上新街': (106.597196, 29.556094),\n",
       " '大剧院': (106.576944, 29.569584),\n",
       " '江北城': (106.572066, 29.575825),\n",
       " '五里店': (106.565175, 29.58517),\n",
       " '红土地': (106.551176, 29.584019),\n",
       " '黄泥塝': (106.538072, 29.588466),\n",
       " '花卉园': (106.512935, 29.583226),\n",
       " '光电园': (106.499401, 29.616077),\n",
       " '大竹林': (106.478351, 29.628054),\n",
       " '康庄': (106.478971, 29.634788),\n",
       " '九曲河': (106.482875, 29.653996),\n",
       " '礼嘉': (106.488115, 29.667234),\n",
       " '金山寺': (106.492104, 29.679292),\n",
       " '曹家湾': (106.494307, 29.721),\n",
       " '蔡家': (106.49227, 29.736017),\n",
       " '向家岗': (106.472957, 29.739202),\n",
       " '龙凤溪': (106.403911, 29.789492),\n",
       " '状元碑': (106.398891, 29.803187),\n",
       " '西南大学': (106.423756, 29.816263),\n",
       " '北碚': (106.437504, 29.825288),\n",
       " '悦来': (106.547955, 29.725508),\n",
       " '国博中心': (106.545523, 29.716516),\n",
       " '高义口': (106.527902, 29.702776),\n",
       " '黄茅坪': (106.531485, 29.676213),\n",
       " '欢乐谷': (106.508619, 29.669213),\n",
       " '鲤鱼池': (106.550159, 29.573995),\n",
       " '龙头寺公园': (106.550608, 29.598653),\n",
       " '民心佳园': (106.567621, 29.626609),\n",
       " '三亚湾': (106.584785, 29.638338),\n",
       " '上湾路': (106.608952, 29.649889),\n",
       " '环山公园': (106.622117, 29.658846),\n",
       " '长河': (106.629425, 29.674056),\n",
       " '江北机场T3航站楼': (106.655275, 29.708424),\n",
       " '渝北广场': (106.629849, 29.718544),\n",
       " '鹿山': (106.608363, 29.720589),\n",
       " '中央公园东': (106.591963, 29.723653),\n",
       " '中央公园': (106.583722, 29.723671),\n",
       " '中央公园西': (106.572323, 29.723702),\n",
       " '王家庄': (106.54557, 29.74348),\n",
       " '重庆图书馆': (106.45555, 29.532135),\n",
       " '重庆大学': (106.463078, 29.568137),\n",
       " '玉带山': (106.476119, 29.580583),\n",
       " '南桥寺': (106.482436, 29.590358),\n",
       " '体育公园': (106.487624, 29.598666),\n",
       " '动步公园': (106.504857, 29.60317),\n",
       " '洪湖东路': (106.512396, 29.607646),\n",
       " '渝鲁': (106.559502, 29.595985),\n",
       " '弹子石': (106.592558, 29.585809),\n",
       " '涂山': (106.600619, 29.57597),\n",
       " '海棠溪': (106.587098, 29.534515),\n",
       " '罗家坝': (106.582936, 29.526321),\n",
       " '南湖': (106.556997, 29.516859),\n",
       " '海峡路': (106.546527, 29.518779),\n",
       " '奥体中心': (106.502398, 29.523086),\n",
       " '陈家坪': (106.489965, 29.52406),\n",
       " '彩云湖': (106.471832, 29.516037),\n",
       " '二郎': (106.462156, 29.505032)}"
      ]
     },
     "execution_count": 113,
     "metadata": {},
     "output_type": "execute_result"
    }
   ],
   "source": [
    "stop_location"
   ]
  },
  {
   "cell_type": "code",
   "execution_count": 169,
   "metadata": {},
   "outputs": [],
   "source": [
    "import math\n",
    "def geo_distance(origin, destination):\n",
    "    \"\"\"\n",
    "    Calculate the Haversine distance.\n",
    "\n",
    "    Parameters\n",
    "    ----------\n",
    "    origin : tuple of float\n",
    "        (lat, long)\n",
    "    destination : tuple of float\n",
    "        (lat, long)\n",
    "\n",
    "    Returns\n",
    "    -------\n",
    "    distance_in_km : float\n",
    "\n",
    "    Examples\n",
    "    --------\n",
    "    >>> origin = (48.1372, 11.5756)  # Munich\n",
    "    >>> destination = (52.5186, 13.4083)  # Berlin\n",
    "    >>> round(distance(origin, destination), 1)\n",
    "    504.2\n",
    "    \"\"\"\n",
    "    lat1, lon1 = origin\n",
    "    lat2, lon2 = destination\n",
    "    radius = 6371  # km\n",
    "\n",
    "    dlat = math.radians(lat2 - lat1)\n",
    "    dlon = math.radians(lon2 - lon1)\n",
    "    a = (math.sin(dlat / 2) * math.sin(dlat / 2) +\n",
    "         math.cos(math.radians(lat1)) * math.cos(math.radians(lat2)) *\n",
    "         math.sin(dlon / 2) * math.sin(dlon / 2))\n",
    "    c = 2 * math.atan2(math.sqrt(a), math.sqrt(1 - a))\n",
    "    d = radius * c\n",
    "\n",
    "    return d\n",
    "def get_geo_distance(city1, city2):\n",
    "    return geo_distance(stop_location[city1], stop_location[city2])"
   ]
  },
  {
   "cell_type": "code",
   "execution_count": 170,
   "metadata": {},
   "outputs": [
    {
     "data": {
      "text/plain": [
       "36.98864605977062"
      ]
     },
     "execution_count": 170,
     "metadata": {},
     "output_type": "execute_result"
    }
   ],
   "source": [
    "get_geo_distance('璧山','五里店') "
   ]
  },
  {
   "cell_type": "code",
   "execution_count": 123,
   "metadata": {},
   "outputs": [],
   "source": [
    "import networkx as nx\n",
    "%matplotlib inline\n",
    "import matplotlib.pyplot as plt\n",
    "plt.rcParams['figure.figsize'] = (15, 10)\n",
    "plt.rcParams['font.sans-serif'] = ['SimHei']\n",
    "plt.rcParams['axes.unicode_minus'] = False\n",
    "stop_graph = nx.Graph()"
   ]
  },
  {
   "cell_type": "code",
   "execution_count": 124,
   "metadata": {},
   "outputs": [],
   "source": [
    "stop_graph.add_nodes_from(list(stop_location.keys()))"
   ]
  },
  {
   "cell_type": "code",
   "execution_count": 144,
   "metadata": {},
   "outputs": [
    {
     "data": {
      "image/png": "[encoded data removed]",
      "text/plain": [
       "<Figure size 1080x720 with 1 Axes>"
      ]
     },
     "metadata": {},
     "output_type": "display_data"
    }
   ],
   "source": [
    "nx.draw(stop_graph, stop_location, with_labels=True, node_size=40, font_size=12, node_color='blue')"
   ]
  },
  {
   "cell_type": "code",
   "execution_count": 126,
   "metadata": {},
   "outputs": [],
   "source": [
    "line_stops_info = {k[0]:list([i[0] for i in v]) for k,v in line_stops.items()}"
   ]
  },
  {
   "cell_type": "code",
   "execution_count": 127,
   "metadata": {},
   "outputs": [
    {
     "data": {
      "text/plain": [
       "{'轨道交通1号线': ['小什字',\n",
       "  '较场口',\n",
       "  '七星岗',\n",
       "  '两路口',\n",
       "  '鹅岭',\n",
       "  '大坪',\n",
       "  '石油路',\n",
       "  '歇台子',\n",
       "  '石桥铺',\n",
       "  '高庙村',\n",
       "  '马家岩',\n",
       "  '小龙坎',\n",
       "  '沙坪坝',\n",
       "  '杨公桥',\n",
       "  '烈士墓',\n",
       "  '磁器口',\n",
       "  '石井坡',\n",
       "  '双碑',\n",
       "  '赖家桥',\n",
       "  '微电园',\n",
       "  '陈家桥',\n",
       "  '大学城',\n",
       "  '尖顶坡',\n",
       "  '璧山'],\n",
       " '轨道交通2号线': ['较场口',\n",
       "  '临江门',\n",
       "  '黄花园',\n",
       "  '大溪沟',\n",
       "  '曾家岩',\n",
       "  '牛角沱',\n",
       "  '李子坝',\n",
       "  '佛图关',\n",
       "  '大坪',\n",
       "  '袁家岗',\n",
       "  '谢家湾',\n",
       "  '杨家坪',\n",
       "  '动物园',\n",
       "  '大堰村',\n",
       "  '马王场',\n",
       "  '平安',\n",
       "  '大渡口',\n",
       "  '新山村',\n",
       "  '天堂堡',\n",
       "  '建桥',\n",
       "  '金家湾',\n",
       "  '刘家坝',\n",
       "  '白居寺',\n",
       "  '大江',\n",
       "  '鱼洞'],\n",
       " '轨道交通3号线': ['鱼洞',\n",
       "  '金竹',\n",
       "  '鱼胡路',\n",
       "  '学堂湾',\n",
       "  '大山村',\n",
       "  '花溪',\n",
       "  '岔路口',\n",
       "  '九公里',\n",
       "  '麒龙',\n",
       "  '八公里',\n",
       "  '重庆交通大学',\n",
       "  '六公里',\n",
       "  '重庆工商大学',\n",
       "  '四公里',\n",
       "  '南坪',\n",
       "  '工贸',\n",
       "  '铜元局',\n",
       "  '两路口',\n",
       "  '牛角沱',\n",
       "  '华新街',\n",
       "  '观音桥',\n",
       "  '红旗河沟',\n",
       "  '嘉州路',\n",
       "  '郑家院子',\n",
       "  '唐家院子',\n",
       "  '狮子坪',\n",
       "  '重庆北站南广场',\n",
       "  '龙头寺',\n",
       "  '童家院子',\n",
       "  '金渝',\n",
       "  '金童路',\n",
       "  '鸳鸯',\n",
       "  '园博园',\n",
       "  '翠云',\n",
       "  '长福路',\n",
       "  '回兴',\n",
       "  '双龙',\n",
       "  '碧津',\n",
       "  '江北机场T2航站楼'],\n",
       " '轨道交通3号线北延伸段(空港线)': ['碧津', '双凤桥', '空港广场', '高堡湖', '观月路', '莲花', '举人坝'],\n",
       " '轨道交通4号线': ['唐家沱', '太平冲', '黑石子', '寸滩', '保税港', '头塘', '重庆北站北广场', '民安大道'],\n",
       " '轨道交通5号线': ['大石坝',\n",
       "  '大龙山',\n",
       "  '冉家坝',\n",
       "  '幸福广场',\n",
       "  '人和',\n",
       "  '和睦路',\n",
       "  '重光',\n",
       "  '湖霞街',\n",
       "  '丹鹤',\n",
       "  '园博中心'],\n",
       " '轨道交通6号线': ['茶园',\n",
       "  '邱家湾',\n",
       "  '长生桥',\n",
       "  '刘家坪',\n",
       "  '上新街',\n",
       "  '小什字',\n",
       "  '大剧院',\n",
       "  '江北城',\n",
       "  '五里店',\n",
       "  '红土地',\n",
       "  '黄泥塝',\n",
       "  '红旗河沟',\n",
       "  '花卉园',\n",
       "  '大龙山',\n",
       "  '冉家坝',\n",
       "  '光电园',\n",
       "  '大竹林',\n",
       "  '康庄',\n",
       "  '九曲河',\n",
       "  '礼嘉',\n",
       "  '金山寺',\n",
       "  '曹家湾',\n",
       "  '蔡家',\n",
       "  '向家岗',\n",
       "  '龙凤溪',\n",
       "  '状元碑',\n",
       "  '西南大学',\n",
       "  '北碚'],\n",
       " '轨道交通6号线支线(国博线)': ['悦来', '国博中心', '高义口', '黄茅坪', '欢乐谷', '礼嘉'],\n",
       " '轨道交通10号线': ['鲤鱼池',\n",
       "  '红土地',\n",
       "  '龙头寺公园',\n",
       "  '重庆北站南广场',\n",
       "  '重庆北站北广场',\n",
       "  '民心佳园',\n",
       "  '三亚湾',\n",
       "  '上湾路',\n",
       "  '环山公园',\n",
       "  '长河',\n",
       "  '江北机场T3航站楼',\n",
       "  '江北机场T2航站楼',\n",
       "  '渝北广场',\n",
       "  '鹿山',\n",
       "  '中央公园东',\n",
       "  '中央公园',\n",
       "  '中央公园西',\n",
       "  '悦来',\n",
       "  '王家庄'],\n",
       " '轨道交通环线': ['重庆图书馆',\n",
       "  '沙坪坝',\n",
       "  '重庆大学',\n",
       "  '玉带山',\n",
       "  '南桥寺',\n",
       "  '体育公园',\n",
       "  '冉家坝',\n",
       "  '动步公园',\n",
       "  '洪湖东路',\n",
       "  '民安大道',\n",
       "  '重庆北站南广场',\n",
       "  '渝鲁',\n",
       "  '五里店',\n",
       "  '弹子石',\n",
       "  '涂山',\n",
       "  '上新街',\n",
       "  '海棠溪',\n",
       "  '罗家坝',\n",
       "  '四公里',\n",
       "  '南湖',\n",
       "  '海峡路',\n",
       "  '谢家湾',\n",
       "  '奥体中心',\n",
       "  '陈家坪',\n",
       "  '彩云湖',\n",
       "  '二郎']}"
      ]
     },
     "execution_count": 127,
     "metadata": {},
     "output_type": "execute_result"
    }
   ],
   "source": [
    "line_stops_info"
   ]
  },
  {
   "cell_type": "code",
   "execution_count": 128,
   "metadata": {},
   "outputs": [],
   "source": [
    "def overlapping_pairs(items):\n",
    "    return [items[i:i+2] for i in range(len(items)-1)]"
   ]
  },
  {
   "cell_type": "code",
   "execution_count": 129,
   "metadata": {},
   "outputs": [],
   "source": [
    "def nexts(line_stops_info):\n",
    "    next_stops = defaultdict(set)\n",
    "    for name, stops in line_stops_info.items():\n",
    "        for a, b in overlapping_pairs(stops):\n",
    "            next_stops[a].add(b)\n",
    "            next_stops[b].add(a)\n",
    "    return next_stops"
   ]
  },
  {
   "cell_type": "code",
   "execution_count": 130,
   "metadata": {},
   "outputs": [
    {
     "data": {
      "text/plain": [
       "defaultdict(set,\n",
       "            {'小什字': {'上新街', '大剧院', '较场口'},\n",
       "             '较场口': {'七星岗', '临江门', '小什字'},\n",
       "             '七星岗': {'两路口', '较场口'},\n",
       "             '两路口': {'七星岗', '牛角沱', '铜元局', '鹅岭'},\n",
       "             '鹅岭': {'两路口', '大坪'},\n",
       "             '大坪': {'佛图关', '石油路', '袁家岗', '鹅岭'},\n",
       "             '石油路': {'大坪', '歇台子'},\n",
       "             '歇台子': {'石桥铺', '石油路'},\n",
       "             '石桥铺': {'歇台子', '高庙村'},\n",
       "             '高庙村': {'石桥铺', '马家岩'},\n",
       "             '马家岩': {'小龙坎', '高庙村'},\n",
       "             '小龙坎': {'沙坪坝', '马家岩'},\n",
       "             '沙坪坝': {'小龙坎', '杨公桥', '重庆图书馆', '重庆大学'},\n",
       "             '杨公桥': {'沙坪坝', '烈士墓'},\n",
       "             '烈士墓': {'杨公桥', '磁器口'},\n",
       "             '磁器口': {'烈士墓', '石井坡'},\n",
       "             '石井坡': {'双碑', '磁器口'},\n",
       "             '双碑': {'石井坡', '赖家桥'},\n",
       "             '赖家桥': {'双碑', '微电园'},\n",
       "             '微电园': {'赖家桥', '陈家桥'},\n",
       "             '陈家桥': {'大学城', '微电园'},\n",
       "             '大学城': {'尖顶坡', '陈家桥'},\n",
       "             '尖顶坡': {'大学城', '璧山'},\n",
       "             '璧山': {'尖顶坡'},\n",
       "             '临江门': {'较场口', '黄花园'},\n",
       "             '黄花园': {'临江门', '大溪沟'},\n",
       "             '大溪沟': {'曾家岩', '黄花园'},\n",
       "             '曾家岩': {'大溪沟', '牛角沱'},\n",
       "             '牛角沱': {'两路口', '华新街', '曾家岩', '李子坝'},\n",
       "             '李子坝': {'佛图关', '牛角沱'},\n",
       "             '佛图关': {'大坪', '李子坝'},\n",
       "             '袁家岗': {'大坪', '谢家湾'},\n",
       "             '谢家湾': {'奥体中心', '杨家坪', '海峡路', '袁家岗'},\n",
       "             '杨家坪': {'动物园', '谢家湾'},\n",
       "             '动物园': {'大堰村', '杨家坪'},\n",
       "             '大堰村': {'动物园', '马王场'},\n",
       "             '马王场': {'大堰村', '平安'},\n",
       "             '平安': {'大渡口', '马王场'},\n",
       "             '大渡口': {'平安', '新山村'},\n",
       "             '新山村': {'大渡口', '天堂堡'},\n",
       "             '天堂堡': {'建桥', '新山村'},\n",
       "             '建桥': {'天堂堡', '金家湾'},\n",
       "             '金家湾': {'刘家坝', '建桥'},\n",
       "             '刘家坝': {'白居寺', '金家湾'},\n",
       "             '白居寺': {'刘家坝', '大江'},\n",
       "             '大江': {'白居寺', '鱼洞'},\n",
       "             '鱼洞': {'大江', '金竹'},\n",
       "             '金竹': {'鱼洞', '鱼胡路'},\n",
       "             '鱼胡路': {'学堂湾', '金竹'},\n",
       "             '学堂湾': {'大山村', '鱼胡路'},\n",
       "             '大山村': {'学堂湾', '花溪'},\n",
       "             '花溪': {'大山村', '岔路口'},\n",
       "             '岔路口': {'九公里', '花溪'},\n",
       "             '九公里': {'岔路口', '麒龙'},\n",
       "             '麒龙': {'九公里', '八公里'},\n",
       "             '八公里': {'重庆交通大学', '麒龙'},\n",
       "             '重庆交通大学': {'八公里', '六公里'},\n",
       "             '六公里': {'重庆交通大学', '重庆工商大学'},\n",
       "             '重庆工商大学': {'六公里', '四公里'},\n",
       "             '四公里': {'南坪', '南湖', '罗家坝', '重庆工商大学'},\n",
       "             '南坪': {'四公里', '工贸'},\n",
       "             '工贸': {'南坪', '铜元局'},\n",
       "             '铜元局': {'两路口', '工贸'},\n",
       "             '华新街': {'牛角沱', '观音桥'},\n",
       "             '观音桥': {'华新街', '红旗河沟'},\n",
       "             '红旗河沟': {'嘉州路', '花卉园', '观音桥', '黄泥塝'},\n",
       "             '嘉州路': {'红旗河沟', '郑家院子'},\n",
       "             '郑家院子': {'唐家院子', '嘉州路'},\n",
       "             '唐家院子': {'狮子坪', '郑家院子'},\n",
       "             '狮子坪': {'唐家院子', '重庆北站南广场'},\n",
       "             '重庆北站南广场': {'民安大道', '渝鲁', '狮子坪', '重庆北站北广场', '龙头寺', '龙头寺公园'},\n",
       "             '龙头寺': {'童家院子', '重庆北站南广场'},\n",
       "             '童家院子': {'金渝', '龙头寺'},\n",
       "             '金渝': {'童家院子', '金童路'},\n",
       "             '金童路': {'金渝', '鸳鸯'},\n",
       "             '鸳鸯': {'园博园', '金童路'},\n",
       "             '园博园': {'翠云', '鸳鸯'},\n",
       "             '翠云': {'园博园', '长福路'},\n",
       "             '长福路': {'回兴', '翠云'},\n",
       "             '回兴': {'双龙', '长福路'},\n",
       "             '双龙': {'回兴', '碧津'},\n",
       "             '碧津': {'双凤桥', '双龙', '江北机场T2航站楼'},\n",
       "             '江北机场T2航站楼': {'江北机场T3航站楼', '渝北广场', '碧津'},\n",
       "             '双凤桥': {'碧津', '空港广场'},\n",
       "             '空港广场': {'双凤桥', '高堡湖'},\n",
       "             '高堡湖': {'空港广场', '观月路'},\n",
       "             '观月路': {'莲花', '高堡湖'},\n",
       "             '莲花': {'举人坝', '观月路'},\n",
       "             '举人坝': {'莲花'},\n",
       "             '唐家沱': {'太平冲'},\n",
       "             '太平冲': {'唐家沱', '黑石子'},\n",
       "             '黑石子': {'太平冲', '寸滩'},\n",
       "             '寸滩': {'保税港', '黑石子'},\n",
       "             '保税港': {'头塘', '寸滩'},\n",
       "             '头塘': {'保税港', '重庆北站北广场'},\n",
       "             '重庆北站北广场': {'头塘', '民安大道', '民心佳园', '重庆北站南广场'},\n",
       "             '民安大道': {'洪湖东路', '重庆北站北广场', '重庆北站南广场'},\n",
       "             '大石坝': {'大龙山'},\n",
       "             '大龙山': {'冉家坝', '大石坝', '花卉园'},\n",
       "             '冉家坝': {'体育公园', '光电园', '动步公园', '大龙山', '幸福广场'},\n",
       "             '幸福广场': {'人和', '冉家坝'},\n",
       "             '人和': {'和睦路', '幸福广场'},\n",
       "             '和睦路': {'人和', '重光'},\n",
       "             '重光': {'和睦路', '湖霞街'},\n",
       "             '湖霞街': {'丹鹤', '重光'},\n",
       "             '丹鹤': {'园博中心', '湖霞街'},\n",
       "             '园博中心': {'丹鹤'},\n",
       "             '茶园': {'邱家湾'},\n",
       "             '邱家湾': {'茶园', '长生桥'},\n",
       "             '长生桥': {'刘家坪', '邱家湾'},\n",
       "             '刘家坪': {'上新街', '长生桥'},\n",
       "             '上新街': {'刘家坪', '小什字', '海棠溪', '涂山'},\n",
       "             '大剧院': {'小什字', '江北城'},\n",
       "             '江北城': {'五里店', '大剧院'},\n",
       "             '五里店': {'弹子石', '江北城', '渝鲁', '红土地'},\n",
       "             '红土地': {'五里店', '鲤鱼池', '黄泥塝', '龙头寺公园'},\n",
       "             '黄泥塝': {'红土地', '红旗河沟'},\n",
       "             '花卉园': {'大龙山', '红旗河沟'},\n",
       "             '光电园': {'冉家坝', '大竹林'},\n",
       "             '大竹林': {'光电园', '康庄'},\n",
       "             '康庄': {'九曲河', '大竹林'},\n",
       "             '九曲河': {'康庄', '礼嘉'},\n",
       "             '礼嘉': {'九曲河', '欢乐谷', '金山寺'},\n",
       "             '金山寺': {'曹家湾', '礼嘉'},\n",
       "             '曹家湾': {'蔡家', '金山寺'},\n",
       "             '蔡家': {'向家岗', '曹家湾'},\n",
       "             '向家岗': {'蔡家', '龙凤溪'},\n",
       "             '龙凤溪': {'向家岗', '状元碑'},\n",
       "             '状元碑': {'西南大学', '龙凤溪'},\n",
       "             '西南大学': {'北碚', '状元碑'},\n",
       "             '北碚': {'西南大学'},\n",
       "             '悦来': {'中央公园西', '国博中心', '王家庄'},\n",
       "             '国博中心': {'悦来', '高义口'},\n",
       "             '高义口': {'国博中心', '黄茅坪'},\n",
       "             '黄茅坪': {'欢乐谷', '高义口'},\n",
       "             '欢乐谷': {'礼嘉', '黄茅坪'},\n",
       "             '鲤鱼池': {'红土地'},\n",
       "             '龙头寺公园': {'红土地', '重庆北站南广场'},\n",
       "             '民心佳园': {'三亚湾', '重庆北站北广场'},\n",
       "             '三亚湾': {'上湾路', '民心佳园'},\n",
       "             '上湾路': {'三亚湾', '环山公园'},\n",
       "             '环山公园': {'上湾路', '长河'},\n",
       "             '长河': {'江北机场T3航站楼', '环山公园'},\n",
       "             '江北机场T3航站楼': {'江北机场T2航站楼', '长河'},\n",
       "             '渝北广场': {'江北机场T2航站楼', '鹿山'},\n",
       "             '鹿山': {'中央公园东', '渝北广场'},\n",
       "             '中央公园东': {'中央公园', '鹿山'},\n",
       "             '中央公园': {'中央公园东', '中央公园西'},\n",
       "             '中央公园西': {'中央公园', '悦来'},\n",
       "             '王家庄': {'悦来'},\n",
       "             '重庆图书馆': {'沙坪坝'},\n",
       "             '重庆大学': {'沙坪坝', '玉带山'},\n",
       "             '玉带山': {'南桥寺', '重庆大学'},\n",
       "             '南桥寺': {'体育公园', '玉带山'},\n",
       "             '体育公园': {'冉家坝', '南桥寺'},\n",
       "             '动步公园': {'冉家坝', '洪湖东路'},\n",
       "             '洪湖东路': {'动步公园', '民安大道'},\n",
       "             '渝鲁': {'五里店', '重庆北站南广场'},\n",
       "             '弹子石': {'五里店', '涂山'},\n",
       "             '涂山': {'上新街', '弹子石'},\n",
       "             '海棠溪': {'上新街', '罗家坝'},\n",
       "             '罗家坝': {'四公里', '海棠溪'},\n",
       "             '南湖': {'四公里', '海峡路'},\n",
       "             '海峡路': {'南湖', '谢家湾'},\n",
       "             '奥体中心': {'谢家湾', '陈家坪'},\n",
       "             '陈家坪': {'奥体中心', '彩云湖'},\n",
       "             '彩云湖': {'二郎', '陈家坪'},\n",
       "             '二郎': {'彩云湖'}})"
      ]
     },
     "execution_count": 130,
     "metadata": {},
     "output_type": "execute_result"
    }
   ],
   "source": [
    "next_stops = nexts(line_stops_info)\n",
    "next_stops"
   ]
  },
  {
   "cell_type": "code",
   "execution_count": 131,
   "metadata": {},
   "outputs": [],
   "source": [
    "def search(start, end):\n",
    "    explored = set()\n",
    "    frontier = [[start]]\n",
    "    while frontier:\n",
    "        path = frontier.pop(0)\n",
    "        s = path[-1]\n",
    "        for next in next_stops[s]:\n",
    "            if next not in explored:\n",
    "                explored.add(next)\n",
    "                path2 = path + [next]\n",
    "                if next == end:\n",
    "                    return '-->'.join(path2)\n",
    "                else:\n",
    "                    frontier.append(path2)\n",
    "        \n",
    "    return []   "
   ]
  },
  {
   "cell_type": "code",
   "execution_count": 140,
   "metadata": {},
   "outputs": [
    {
     "data": {
      "text/plain": [
       "'沙坪坝-->小龙坎-->马家岩-->高庙村-->石桥铺-->歇台子-->石油路-->大坪-->鹅岭-->两路口'"
      ]
     },
     "execution_count": 140,
     "metadata": {},
     "output_type": "execute_result"
    }
   ],
   "source": [
    "path = search('沙坪坝', '两路口')\n",
    "path"
   ]
  },
  {
   "cell_type": "code",
   "execution_count": null,
   "metadata": {},
   "outputs": [],
   "source": []
  },
  {
   "cell_type": "markdown",
   "metadata": {},
   "source": [
    "##### 2. Preprocessing data"
   ]
  },
  {
   "cell_type": "markdown",
   "metadata": {},
   "source": [
    "Some tips:"
   ]
  },
  {
   "cell_type": "markdown",
   "metadata": {},
   "source": [
    "a. Find a suitable way to save the data you get from the web. (Note: The way you use to save the data should be able to be used to create the graph that your agent is going to explore)"
   ]
  },
  {
   "cell_type": "markdown",
   "metadata": {},
   "source": [
    "#### 3. Build the search agent"
   ]
  },
  {
   "cell_type": "markdown",
   "metadata": {},
   "source": [
    "Build the search agent based ont he graph you built."
   ]
  },
  {
   "cell_type": "markdown",
   "metadata": {},
   "source": [
    "for example, if you use Beijing subway graoh, and you run:"
   ]
  },
  {
   "cell_type": "markdown",
   "metadata": {},
   "source": [
    "\\>>> search(\"奥体中心“，”天安门“）"
   ]
  },
  {
   "cell_type": "markdown",
   "metadata": {},
   "source": [
    "You should get the result as follows: 奥体中心 -> A ->B ->C ... -> 天安门"
   ]
  },
  {
   "cell_type": "code",
   "execution_count": 171,
   "metadata": {},
   "outputs": [],
   "source": [
    "def minimum_transfer_priority(pathes):\n",
    "    return min(pathes, key=len)"
   ]
  },
  {
   "cell_type": "code",
   "execution_count": 172,
   "metadata": {},
   "outputs": [],
   "source": [
    "def maximum_transfer_priority(pathes):\n",
    "    return max(pathes, key=len)"
   ]
  },
  {
   "cell_type": "code",
   "execution_count": 156,
   "metadata": {},
   "outputs": [],
   "source": [
    "def shortest_path_first(pathes):\n",
    "    \n",
    "    if len(pathes) <= 1: return pathes\n",
    "    \n",
    "    def get_path_distnace(path):\n",
    "        distance = 0\n",
    "        for i in range(1, len(path)):\n",
    "            distance += get_geo_distance(path[i - 1], path[i])\n",
    "        return distance\n",
    "\n",
    "    return sorted(pathes, key=get_path_distnace)\n",
    "\n",
    "def transfer_stations_first(pathes): \n",
    "    return sorted(pathes, key=len)\n",
    "\n",
    "\n",
    "def transfer_as_much_possible(pathes):\n",
    "    return sorted(pathes, key=len, reverse=True)"
   ]
  },
  {
   "cell_type": "code",
   "execution_count": 157,
   "metadata": {},
   "outputs": [],
   "source": [
    "def shortest_path_priority(pathes):\n",
    "    def path_distance(path):\n",
    "        return sum(get_geo_distance(stop1, stop2) for stop1, stop2 in overlapping_pairs(path))\n",
    "    return min(pathes, key=path_distance)"
   ]
  },
  {
   "cell_type": "code",
   "execution_count": 159,
   "metadata": {},
   "outputs": [],
   "source": [
    "def search(start, destination, strategy):\n",
    "    pathes = []\n",
    "    explored = set()\n",
    "    frontier = [[start]]\n",
    "    while frontier:\n",
    "        path = frontier.pop(0)\n",
    "        s = path[-1]\n",
    "        for next in next_stops[s]:\n",
    "            if next not in explored:\n",
    "                # explored.add(next) \n",
    "                path2 = path + [next]\n",
    "                if next == destination:\n",
    "                    pathes.append(path2)\n",
    "                else:\n",
    "                    frontier.append(path2)\n",
    "        explored.add(s)\n",
    "    return strategy(pathes)"
   ]
  },
  {
   "cell_type": "code",
   "execution_count": 174,
   "metadata": {},
   "outputs": [
    {
     "data": {
      "text/plain": [
       "['沙坪坝', '重庆大学', '玉带山', '南桥寺', '体育公园', '冉家坝', '大龙山', '花卉园', '红旗河沟']"
      ]
     },
     "execution_count": 174,
     "metadata": {},
     "output_type": "execute_result"
    }
   ],
   "source": [
    "search('沙坪坝', '红旗河沟', strategy=minimum_transfer_priority)"
   ]
  },
  {
   "cell_type": "code",
   "execution_count": 175,
   "metadata": {},
   "outputs": [
    {
     "data": {
      "text/plain": [
       "['沙坪坝',\n",
       " '重庆大学',\n",
       " '玉带山',\n",
       " '南桥寺',\n",
       " '体育公园',\n",
       " '冉家坝',\n",
       " '动步公园',\n",
       " '洪湖东路',\n",
       " '民安大道',\n",
       " '重庆北站北广场',\n",
       " '重庆北站南广场',\n",
       " '狮子坪',\n",
       " '唐家院子',\n",
       " '郑家院子',\n",
       " '嘉州路',\n",
       " '红旗河沟']"
      ]
     },
     "execution_count": 175,
     "metadata": {},
     "output_type": "execute_result"
    }
   ],
   "source": [
    "search('沙坪坝', '红旗河沟', strategy=maximum_transfer_priority)"
   ]
  },
  {
   "cell_type": "code",
   "execution_count": 177,
   "metadata": {},
   "outputs": [],
   "source": [
    "#search('沙坪坝', '红旗河沟', strategy=transfer_stations_first)"
   ]
  },
  {
   "cell_type": "code",
   "execution_count": 179,
   "metadata": {},
   "outputs": [],
   "source": [
    "#search('沙坪坝', '红旗河沟', strategy=transfer_as_much_possible)"
   ]
  },
  {
   "cell_type": "code",
   "execution_count": 181,
   "metadata": {},
   "outputs": [
    {
     "data": {
      "text/plain": [
       "['沙坪坝', '重庆大学', '玉带山', '南桥寺', '体育公园', '冉家坝', '大龙山', '花卉园', '红旗河沟']"
      ]
     },
     "execution_count": 181,
     "metadata": {},
     "output_type": "execute_result"
    }
   ],
   "source": [
    "search('沙坪坝', '红旗河沟', strategy=shortest_path_priority)"
   ]
  },
  {
   "cell_type": "code",
   "execution_count": 165,
   "metadata": {},
   "outputs": [],
   "source": [
    "def search2(start, destination):\n",
    "    pathes = []\n",
    "    explored = set()\n",
    "    frontier = [[start]]\n",
    "    while frontier:\n",
    "        path = frontier.pop(0)\n",
    "        s = path[-1]\n",
    "        for next in next_stops[s]:\n",
    "            if next not in explored:\n",
    "                # explored.add(next) \n",
    "                path2 = path + [next]\n",
    "                if next == destination:\n",
    "                    return path2\n",
    "                else:\n",
    "                    frontier.append(path2)\n",
    "        explored.add(s)\n",
    "    return []"
   ]
  },
  {
   "cell_type": "code",
   "execution_count": 188,
   "metadata": {},
   "outputs": [
    {
     "data": {
      "text/plain": [
       "['大学城',\n",
       " '陈家桥',\n",
       " '微电园',\n",
       " '赖家桥',\n",
       " '双碑',\n",
       " '石井坡',\n",
       " '磁器口',\n",
       " '烈士墓',\n",
       " '杨公桥',\n",
       " '沙坪坝',\n",
       " '重庆大学',\n",
       " '玉带山',\n",
       " '南桥寺',\n",
       " '体育公园',\n",
       " '冉家坝',\n",
       " '光电园',\n",
       " '大竹林',\n",
       " '康庄',\n",
       " '九曲河',\n",
       " '礼嘉',\n",
       " '金山寺',\n",
       " '曹家湾',\n",
       " '蔡家',\n",
       " '向家岗',\n",
       " '龙凤溪',\n",
       " '状元碑',\n",
       " '西南大学']"
      ]
     },
     "execution_count": 188,
     "metadata": {},
     "output_type": "execute_result"
    }
   ],
   "source": [
    "search2('大学城', '西南大学')"
   ]
  },
  {
   "cell_type": "code",
   "execution_count": null,
   "metadata": {},
   "outputs": [],
   "source": [
    "参考\n",
    "https://blog.csdn.net/wuShiJingZuo/article/details/89666912\n",
    "http://map.amap.com/subway/index.html?&5000\n",
    "http://map.amap.com/service/subway?_1590290810514&srhdata=5000_drw_chongqing.json\n",
    "https://zoutao.blog.csdn.net/article/details/103353340"
   ]
  },
  {
   "cell_type": "code",
   "execution_count": null,
   "metadata": {},
   "outputs": [],
   "source": []
  },
  {
   "cell_type": "markdown",
   "metadata": {},
   "source": [
    "### (Optional) Improve your agent to make it able to find a path based on different strategies"
   ]
  },
  {
   "cell_type": "markdown",
   "metadata": {},
   "source": [
    "###  <评阅点> : 是否正确得到不同目标下的路径。"
   ]
  },
  {
   "cell_type": "markdown",
   "metadata": {},
   "source": [
    "Some ideas you might want to try:"
   ]
  },
  {
   "cell_type": "markdown",
   "metadata": {},
   "source": [
    "a. Find the shortest path between two stations."
   ]
  },
  {
   "cell_type": "markdown",
   "metadata": {},
   "source": [
    "b. Find the path that requires minimum transfers between two stations."
   ]
  },
  {
   "cell_type": "markdown",
   "metadata": {},
   "source": [
    "c. Combine the previous two ideas, find a more suitable path."
   ]
  },
  {
   "cell_type": "markdown",
   "metadata": {},
   "source": [
    "Compare your results with results obtained by using some apps such as Baidu map, A map, Google map or Apple map. If there is difference, try to explanate it."
   ]
  },
  {
   "cell_type": "markdown",
   "metadata": {},
   "source": [
    "## Congratulations ! You have finished the assignment of week 2."
   ]
  },
  {
   "cell_type": "markdown",
   "metadata": {},
   "source": [
    "![title](img/agent.png)"
   ]
  },
  {
   "cell_type": "markdown",
   "metadata": {},
   "source": [
    "### If you have any suggestions regarding the teaching, please feel free to send them to my eamil (eric.lee.xiao@gmail.com) "
   ]
  },
  {
   "cell_type": "code",
   "execution_count": null,
   "metadata": {},
   "outputs": [],
   "source": []
  }
 ],
 "metadata": {
  "kernelspec": {
   "display_name": "Python 3",
   "language": "python",
   "name": "python3"
  },
  "language_info": {
   "codemirror_mode": {
    "name": "ipython",
    "version": 3
   },
   "file_extension": ".py",
   "mimetype": "text/x-python",
   "name": "python",
   "nbconvert_exporter": "python",
   "pygments_lexer": "ipython3",
   "version": "3.7.3"
  },
  "toc": {
   "base_numbering": 1,
   "nav_menu": {},
   "number_sections": true,
   "sideBar": true,
   "skip_h1_title": false,
   "title_cell": "Table of Contents",
   "title_sidebar": "Contents",
   "toc_cell": false,
   "toc_position": {},
   "toc_section_display": true,
   "toc_window_display": false
  }
 },
 "nbformat": 4,
 "nbformat_minor": 2
}
