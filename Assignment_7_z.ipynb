{
 "cells": [
  {
   "cell_type": "markdown",
   "metadata": {},
   "source": [
    "# Assignment 7"
   ]
  },
  {
   "cell_type": "markdown",
   "metadata": {},
   "source": [
    "### 1. 复习上课内容以及复现课程代码"
   ]
  },
  {
   "cell_type": "markdown",
   "metadata": {},
   "source": [
    "在本部分，你需要复习上课内容和课程代码后，自己复现课程代码。"
   ]
  },
  {
   "cell_type": "markdown",
   "metadata": {},
   "source": [
    "### 2. 回答一下理论题目"
   ]
  },
  {
   "cell_type": "markdown",
   "metadata": {},
   "source": [
    "#### 1. What does a neuron compute?"
   ]
  },
  {
   "cell_type": "markdown",
   "metadata": {},
   "source": [
    "神经元的计算过程是先对输入的数据进行线性计算，然后再通过一个非线性激活函数输出结果。\n",
    "具体可表示为$y=activation(Wx+b)$，其中activation()是一个非线性的激活函数，例如sigmoid(),relu(),tanh()等。"
   ]
  },
  {
   "cell_type": "markdown",
   "metadata": {},
   "source": [
    "####  2. Why we use non-linear activation funcitons in neural networks?"
   ]
  },
  {
   "cell_type": "markdown",
   "metadata": {},
   "source": [
    "神经网络中的激活函数是为了让模型具有非线性拟合能力，可以拟合数据中非常复杂的非线性关系。\n",
    "\n",
    "如果不加激活函数的话只能处理线性可分的问题，即使经过n层变换也相当于做了一次wx+b。\n",
    "\n",
    "激活函数的要求：（1）可导可微，（2）非线性变化，（3）梯度不能剧烈\n"
   ]
  },
  {
   "cell_type": "markdown",
   "metadata": {},
   "source": [
    "#### 3. What is the 'Logistic Loss' ?"
   ]
  },
  {
   "cell_type": "markdown",
   "metadata": {},
   "source": [
    "logistic loss本质是一个对数似然函数，对于一个二分类的数据集${(x_1,y_1),(x_2,y_2),...,(x_n,y_n)},y_i=0,1$，令$P_i=P(y_i=1|x_i)$，则logistic loss为：  \n",
    "    \n",
    "   $$\\begin{eqnarray*}\n",
    "    L(\\theta)&=&log[\\prod P_i^{y_ i} (1-P_i)^{1-y_i}]\\\\\n",
    "    &=&\\sum[y_ilog(P_i)+(1-y_i)log(1-P_i)]\\\\\n",
    "    &=&\\sum[y_i(\\theta x_i)-log(1+e^{\\theta x_i})]\n",
    "    \\end{eqnarray*}$$"
   ]
  },
  {
   "cell_type": "markdown",
   "metadata": {},
   "source": [
    "#### 4. Assume that you are building a binary classifier for detecting if an image containing cats, which activation functions would you recommen using for the output layer ?\n",
    "\n",
    "A. ReLU    \n",
    "B. Leaky ReLU    \n",
    "C. sigmoid    \n",
    "D. tanh  "
   ]
  },
  {
   "cell_type": "markdown",
   "metadata": {},
   "source": [
    "选C"
   ]
  },
  {
   "cell_type": "markdown",
   "metadata": {},
   "source": [
    "**Sigmoid**作为激活函数的特点：\n",
    "\n",
    "优点：平滑、易于求导。\n",
    "\n",
    "缺点：\n",
    "\n",
    "激活函数计算量大（在正向传播和反向传播中都包含幂运算和除法）；\n",
    "反向传播求误差梯度时，求导涉及除法；\n",
    "Sigmoid导数取值范围是[0, 0.25]，由于神经网络反向传播时的“链式反应”，很容易就会出现梯度消失的情况。\n",
    "\n",
    "**tanh**作为激活函数的特点：\n",
    "\n",
    "相比Sigmoid函数，\n",
    "\n",
    "tanh的输出范围时(-1, 1)，解决了Sigmoid函数的不是zero-centered输出问题；\n",
    "幂运算的问题仍然存在；\n",
    "tanh导数范围在(0, 1)之间，相比sigmoid的(0, 0.25)，梯度消失（gradient vanishing）问题会得到缓解，但仍然还会存在。\n",
    "\n",
    "**ReLU**作为激活函数的特点：\n",
    "\n",
    "相比Sigmoid和tanh，ReLU摒弃了复杂的计算，提高了运算速度。\n",
    "解决了梯度消失问题，收敛速度快于Sigmoid和tanh函数，但要防范ReLU的梯度爆炸\n",
    "容易得到更好的模型，但也要防止训练中出现模型‘Dead’情况。\n",
    "\n",
    "**Leaky ReLU**中的[公式]为常数，一般设置 0.01。这个函数通常比 Relu 激活函数效果要好，但是效果不是很稳定，所以在实际中 Leaky ReLu 使用的并不多。\n"
   ]
  },
  {
   "cell_type": "markdown",
   "metadata": {},
   "source": [
    "#### 5. Why we don't use zero initialization for all parameters ?"
   ]
  },
  {
   "cell_type": "markdown",
   "metadata": {},
   "source": [
    "如果所有的参数都初始化为0，那么在反向传播的时候，所有神经元的参数更新幅度以及更新值都一样了，每个隐藏层都退化成一个神经元，结果就和线性回归没什么区别了。"
   ]
  },
  {
   "cell_type": "markdown",
   "metadata": {},
   "source": [
    "#### 6. Can you implement the softmax function using python ? "
   ]
  },
  {
   "cell_type": "markdown",
   "metadata": {},
   "source": [
    "****\n",
    "实现一个softmax函数，观察一个向量经过softmax函数之后，最大值于最小值比例的变化，最大值于第二大值比例的变化，最小值于第二小值比例的变化."
   ]
  },
  {
   "cell_type": "code",
   "execution_count": 2,
   "metadata": {},
   "outputs": [
    {
     "name": "stdout",
     "output_type": "stream",
     "text": [
      "输入的向量为: [1, 2, 3, 4, 5]\n",
      "输入的向量为: [0.01165623 0.03168492 0.08612854 0.23412166 0.63640865]\n",
      "原来向量的最大最小值比例为:5.0,经过softmax函数之后的比例为:54.59815003314424\n",
      "原来向量的最大值与第二大值比例为：1.25，经过softmax函数之后的比例为：2.718281828459045\n",
      "原来向量的最小值与第二小值比例为：0.5，经过softmax函数之后的比例为：0.3678794411714423\n"
     ]
    }
   ],
   "source": [
    "import numpy as np\n",
    "\n",
    "def softmax(vector):\n",
    "    return np.exp(vector) / np.sum(np.exp(vector))\n",
    "\n",
    "a = [1,2,3,4,5]\n",
    "b = softmax(a)\n",
    "print('输入的向量为:',a)\n",
    "print('输入的向量为:',b)\n",
    "print('原来向量的最大最小值比例为:{},经过softmax函数之后的比例为:{}'.format(np.max(a)/np.min(a), np.max(b)/np.min(b)))\n",
    "print('原来向量的最大值与第二大值比例为：{}，经过softmax函数之后的比例为：{}'.format(np.max(a)/np.sort(a)[-2], np.max(b)/np.sort(b)[-2]))\n",
    "print('原来向量的最小值与第二小值比例为：{}，经过softmax函数之后的比例为：{}'.format(np.min(a)/np.sort(a)[1], np.min(b)/np.sort(b)[1]))\n"
   ]
  },
  {
   "cell_type": "markdown",
   "metadata": {},
   "source": [
    "### 3.实践题"
   ]
  },
  {
   "cell_type": "markdown",
   "metadata": {},
   "source": [
    "#### In this practical part, you will build a simple digits recognizer to check if the digit in the image is larger than 5. This assignmnet will guide you step by step to finish your first small project in this course ."
   ]
  },
  {
   "cell_type": "markdown",
   "metadata": {},
   "source": [
    "#### 1 - Packages  \n",
    "sklearn is a famous package for machine learning.   \n",
    "matplotlib is a common package for vasualization."
   ]
  },
  {
   "cell_type": "code",
   "execution_count": 8,
   "metadata": {},
   "outputs": [],
   "source": [
    "from sklearn import datasets\n",
    "import matplotlib.pyplot as plt\n",
    "from sklearn.model_selection import train_test_split\n",
    "import numpy as np"
   ]
  },
  {
   "cell_type": "markdown",
   "metadata": {},
   "source": [
    "#### 2 - Overvie of the dataset  \n",
    "    - a training set has m_train images labeled as 0 if the digit < 5 or 1 if the digit >= 5\n",
    "    - a test set contains m_test images labels as if the digit < 5 or 1 if the digit >= 5\n",
    "    - eah image if of shape (num_px, num_px ). Thus, each image is square(height=num_px and  width = num_px)"
   ]
  },
  {
   "cell_type": "code",
   "execution_count": 9,
   "metadata": {},
   "outputs": [],
   "source": [
    "# Loading the data \n",
    "digits = datasets.load_digits()"
   ]
  },
  {
   "cell_type": "code",
   "execution_count": 10,
   "metadata": {},
   "outputs": [
    {
     "data": {
      "image/png": "[encoded data removed]",
      "text/plain": [
       "<Figure size 432x288 with 10 Axes>"
      ]
     },
     "metadata": {},
     "output_type": "display_data"
    }
   ],
   "source": [
    "# Vilizating the data\n",
    "for i in range(1,11):\n",
    "    plt.subplot(2,5,i)\n",
    "    plt.imshow(digits.data[i-1].reshape([8,8]),cmap=plt.cm.gray_r)\n",
    "    plt.text(3,10,str(digits.target[i-1]))\n",
    "    plt.xticks([])\n",
    "    plt.yticks([])\n",
    "plt.show()"
   ]
  },
  {
   "cell_type": "code",
   "execution_count": 11,
   "metadata": {},
   "outputs": [],
   "source": [
    "# Split the data into training set and test set \n",
    "X_train, X_test, y_train, y_test = train_test_split(digits.data, digits.target, test_size=0.25)"
   ]
  },
  {
   "cell_type": "code",
   "execution_count": 12,
   "metadata": {},
   "outputs": [],
   "source": [
    "# reformulate the label. \n",
    "# If the digit is smaller than 5, the label is 0.\n",
    "# If the digit is larger than 5, the label is 1.\n",
    "\n",
    "y_train[y_train < 5 ] = 0\n",
    "y_train[y_train >= 5] = 1\n",
    "y_test[y_test < 5] = 0\n",
    "y_test[y_test >= 5] = 1"
   ]
  },
  {
   "cell_type": "code",
   "execution_count": 7,
   "metadata": {},
   "outputs": [
    {
     "name": "stdout",
     "output_type": "stream",
     "text": [
      "(1347, 64)\n",
      "(450, 64)\n",
      "(1347,)\n",
      "(450,)\n"
     ]
    }
   ],
   "source": [
    "print(X_train.shape)\n",
    "print(X_test.shape)\n",
    "print(y_train.shape)\n",
    "print(y_test.shape)"
   ]
  },
  {
   "cell_type": "markdown",
   "metadata": {},
   "source": [
    "#### 3- Architecture of the neural network"
   ]
  },
  {
   "cell_type": "markdown",
   "metadata": {},
   "source": [
    "![title](./networks.png)"
   ]
  },
  {
   "cell_type": "markdown",
   "metadata": {},
   "source": [
    "##### Mathematical expression of the algorithm:"
   ]
  },
  {
   "cell_type": "markdown",
   "metadata": {},
   "source": [
    "For one example $x^{(i)}$:   \n",
    " $$ z^{(i)} = w^T * x^{(i)} +b $$   \n",
    " $$ y^{(i)} = a^{(i)} = sigmoid(z^{(i)})$$   \n",
    " $$L(a^{(i)},y^{(i)}) = -y^{(i)} log(a^{(i)})-(1-y^{(i)})log(1-a^{(i)})$$"
   ]
  },
  {
   "cell_type": "markdown",
   "metadata": {},
   "source": [
    "The total cost over all training examples:\n",
    "$$ J = \\frac{1}{m}\\sum_{i=1}^{m}L(a^{(i)},y^{(i)}) $$"
   ]
  },
  {
   "cell_type": "markdown",
   "metadata": {},
   "source": [
    "#### 4 - Building the algorithm"
   ]
  },
  {
   "cell_type": "markdown",
   "metadata": {},
   "source": [
    "##### 4.1- Activation function    \n",
    "###### Exercise:\n",
    "Finish the sigmoid funciton "
   ]
  },
  {
   "cell_type": "code",
   "execution_count": 13,
   "metadata": {},
   "outputs": [],
   "source": [
    "# sigmoid函数\n",
    "def sigmoid(x):\n",
    "    s = 1 / (1 + np.exp(-x))\n",
    "    return s"
   ]
  },
  {
   "cell_type": "code",
   "execution_count": 15,
   "metadata": {},
   "outputs": [
    {
     "name": "stdout",
     "output_type": "stream",
     "text": [
      "sigmoid([0,2]) = [0.5        0.88079708]\n"
     ]
    }
   ],
   "source": [
    "# Test your code \n",
    "# The result should be [0.5 0.88079708]\n",
    "print(\"sigmoid([0,2]) = \" + str(sigmoid(np.array([0,2]))))"
   ]
  },
  {
   "cell_type": "markdown",
   "metadata": {},
   "source": [
    "##### 4.1-Initializaing parameters\n",
    "###### Exercise:\n",
    "Finishe the initialize_parameters function below"
   ]
  },
  {
   "cell_type": "code",
   "execution_count": 17,
   "metadata": {},
   "outputs": [],
   "source": [
    "#Random innitialize the parameters\n",
    "\n",
    "def initialize_parameters(dim):\n",
    "    '''\n",
    "    Argument: dim -- size of the w vector\n",
    "    \n",
    "    Returns:\n",
    "    w -- initialized vector of shape (dim,1)\n",
    "    b -- initializaed scalar\n",
    "    '''\n",
    "    \n",
    "    w = np.random.randn(dim,1) * 0.001  \n",
    "    b = np.random.randn(1)[0] * 0.01\n",
    "        \n",
    "    assert(w.shape == (dim,1))\n",
    "    assert(isinstance(b,float) or isinstance(b,int))\n",
    "    \n",
    "    return w,b"
   ]
  },
  {
   "cell_type": "markdown",
   "metadata": {},
   "source": [
    "#### 4.3-Forward and backward propagation"
   ]
  },
  {
   "cell_type": "markdown",
   "metadata": {},
   "source": [
    "###### Some mathematical expressions\n",
    "Forward Propagation:   \n",
    ". X    \n",
    ". A = $\\sigma(w^T*X+b) = (a^{(1)},a^{(2)},...,a^{(m)}$   \n",
    ". J = $-\\frac{1}{m} \\sum_{i=1}^{m}y^{(i)}log(a^{(i)}+(1-y^{(i)})log(1-a^{(i)})$       "
   ]
  },
  {
   "cell_type": "markdown",
   "metadata": {},
   "source": [
    "Some derivative: \n",
    "$$\\frac{\\partial{J}}{\\partial{w}} = \\frac{1}{m}X*(A-Y)^T$$   \n",
    "$$\\frac{\\partial{J}}{\\partial{b}} = \\frac{1}{m}\\sum_{i=1}^m(a^{(i)}-y^{(i)}) $$"
   ]
  },
  {
   "cell_type": "markdown",
   "metadata": {},
   "source": [
    "###### Exercise:\n",
    "Finish the function below:"
   ]
  },
  {
   "cell_type": "code",
   "execution_count": 20,
   "metadata": {},
   "outputs": [],
   "source": [
    "def propagate(w,b,X,Y):\n",
    "    '''\n",
    "    Implement the cost function and its gradient for the propagation\n",
    "    \n",
    "    Arguments:\n",
    "    w - weights\n",
    "    b - bias\n",
    "    X - data\n",
    "    Y - ground truth\n",
    "    '''\n",
    "    m = X.shape[1]\n",
    "    A = sigmoid(np.dot(np.transpose(w),X) + b)  #\n",
    "    cost = -np.mean(Y * np.log(A) + (1 - Y) * np.log(1 - A))\n",
    "    \n",
    "    dw = np.dot(X, np.transpose(A - Y)) / m\n",
    "    db = np.mean(A - Y)\n",
    "    \n",
    "    assert(dw.shape == w.shape)\n",
    "    assert(db.dtype == float)\n",
    "    cost = np.squeeze(cost)\n",
    "    assert(cost.shape == ())\n",
    "    \n",
    "    grads = {'dw':dw,\n",
    "             'db':db}\n",
    "    return grads, cost"
   ]
  },
  {
   "cell_type": "code",
   "execution_count": 34,
   "metadata": {},
   "outputs": [],
   "source": [
    "def propagate(w, b, X, Y):\n",
    "    m = X.shape[1]\n",
    "\n",
    "    A = sigmoid(np.dot(w.T, X) + b)            \n",
    "    cost = -1 / m * np.sum(Y * np.log(A) + (1 - Y) * np.log(1 - A))         \n",
    "    dw = 1 / m * np.dot(X, (A - Y).T)\n",
    "    db = 1 / m * np.sum(A - Y)\n",
    "    \n",
    "\n",
    "    assert(dw.shape == w.shape)\n",
    "    assert(db.dtype == float)\n",
    "    cost = np.squeeze(cost)\n",
    "    assert(cost.shape == ())\n",
    "\n",
    "    grads = {\"dw\": dw,\n",
    "             \"db\": db}\n",
    "\n",
    "    return grads, cost\n"
   ]
  },
  {
   "cell_type": "code",
   "execution_count": 35,
   "metadata": {},
   "outputs": [
    {
     "data": {
      "text/plain": [
       "-0.7244117094785937"
      ]
     },
     "execution_count": 35,
     "metadata": {},
     "output_type": "execute_result"
    }
   ],
   "source": [
    "A = sigmoid(np.array([[0.02,0.5,0.3]]))\n",
    "b = np.log(1 - A)\n",
    "-np.mean(b * b)"
   ]
  },
  {
   "cell_type": "markdown",
   "metadata": {},
   "source": [
    "##### 4.4 -Optimization"
   ]
  },
  {
   "cell_type": "markdown",
   "metadata": {},
   "source": [
    "###### Exercise:\n",
    "Minimizing the cost function using gradient descent.   \n",
    "$$\\theta = \\theta - \\alpha*d\\theta$$ where $\\alpha$ is the learning rate."
   ]
  },
  {
   "cell_type": "code",
   "execution_count": 36,
   "metadata": {},
   "outputs": [],
   "source": [
    "def optimize(w, b, X, Y, num_iterations, learning_rate, print_cost=False):\n",
    "    '''\n",
    "    This function optimize w and b by running a gradient descen algorithm\n",
    "    \n",
    "    Arguments:\n",
    "    w - weights\n",
    "    b - bias\n",
    "    X - data\n",
    "    Y - ground truth\n",
    "    num_iterations -- number of iterations of the optimization loop\n",
    "    learning_rate -- learning rate of the gradient descent update rule\n",
    "    print_cost -- True to print the loss every 100 steps\n",
    "    \n",
    "    Returns:\n",
    "    params - dictionary containing the weights w and bias b\n",
    "    grads -- dictionary containing the gradients of the weights and bias with respect to the cost function\n",
    "    costs -- list of all the costs computed during the optimization, this will be used to plot the learning curve.\n",
    "    \n",
    "    '''\n",
    "    \n",
    "    costs = []\n",
    "    \n",
    "    for i in range(num_iterations):\n",
    "        \n",
    "        grads, cost = propagate(w,b,X,Y)\n",
    "        \n",
    "        dw = grads['dw']\n",
    "        db = grads['db']\n",
    "        \n",
    "        w = w - learning_rate * dw\n",
    "        b = b - learning_rate * db\n",
    "        \n",
    "        if i % 100 == 0:\n",
    "            costs.append(cost)\n",
    "        if print_cost and i % 100 == 0:\n",
    "            print (\"Cost after iteration %i: %f\" %(i, cost))\n",
    "    \n",
    "    params = {\"w\":w,\n",
    "              \"b\":b}\n",
    "    \n",
    "    grads = {\"dw\":dw,\n",
    "             \"db\":db}\n",
    "    \n",
    "    return params, grads, costs"
   ]
  },
  {
   "cell_type": "markdown",
   "metadata": {},
   "source": [
    "###### Exercise\n",
    "The previous function will output the learned w and b. We are able to use w and b to predict the labels for a dataset X. Implement the predict() function.    \n",
    "Two steps to finish this task:   \n",
    "1. Calculate $\\hat{Y} = A = \\sigma(w^T*X+b)$   \n",
    "2. Convert the entries of a into 0 (if activation <= 0.5) or 1 (if activation > 0.5), stores the predictions in a vector Y_prediction. If you wish, you can use an if/else statement in a for loop (though there is also a way to vectorize this)."
   ]
  },
  {
   "cell_type": "code",
   "execution_count": 40,
   "metadata": {},
   "outputs": [],
   "source": [
    "def predict(w, b, X):\n",
    "    '''\n",
    "    Predict whether the label is 0 or 1 using learned logistic regression parameters (w, b)\n",
    "    \n",
    "    Arguments:\n",
    "    w -- weights\n",
    "    b -- bias \n",
    "    X -- data \n",
    "    \n",
    "    Returns:\n",
    "    Y_prediction -- a numpy array (vector) containing all predictions (0/1) for the examples in X\n",
    "    '''\n",
    "    m = X.shape[1]\n",
    "    Y_prediction = np.zeros((1,m))\n",
    "    w = w.reshape(X.shape[0],1)\n",
    "    \n",
    "    A = sigmoid(np.dot(np.transpose(w),X) + b)  # (1,m)\n",
    "    \n",
    "    for i in range(A.shape[1]):\n",
    "        if A[0][i] >= 0.5:\n",
    "            Y_prediction[0][i] = 1\n",
    "    \n",
    "    assert(Y_prediction.shape == (1,m))\n",
    "    \n",
    "    return Y_prediction"
   ]
  },
  {
   "cell_type": "markdown",
   "metadata": {},
   "source": [
    "##### 5- Merge all functions into a model"
   ]
  },
  {
   "cell_type": "markdown",
   "metadata": {},
   "source": [
    "Congratulations !! You have finished all the necessary components for constructing a model. Now, Let's take the challenge to merge all the implemented function into one model."
   ]
  },
  {
   "cell_type": "code",
   "execution_count": 57,
   "metadata": {},
   "outputs": [],
   "source": [
    "def model(X_train, Y_train, X_test, Y_test, num_iterations, learning_rate,print_cost):\n",
    "    \"\"\"\n",
    "    Build the logistic regression model by calling all the functions you have implemented.\n",
    "    Arguments:\n",
    "    X_train - training set\n",
    "    Y_train - training label\n",
    "    X_test - test set\n",
    "    Y_test - test label\n",
    "    num_iteration - hyperparameter representing the number of iterations to optimize the parameters\n",
    "    learning_rate -- hyperparameter representing the learning rate used in the update rule of optimize()\n",
    "    print_cost -- Set to true to print the cost every 100 iterations\n",
    "    \n",
    "    Returns:\n",
    "    d - dictionary should contain following information w,b,training_accuracy, test_accuracy,cost\n",
    "    eg: d = {\"w\":w,\n",
    "             \"b\":b,\n",
    "             \"training_accuracy\": traing_accuracy,\n",
    "             \"test_accuracy\":test_accuracy,\n",
    "             \"cost\":cost}\n",
    "    \"\"\"\n",
    "    X_train = np.transpose(X_train)\n",
    "    X_test = np.transpose(X_test)\n",
    "    Y_train = Y_train.reshape(1,Y_train.shape[0])\n",
    "    Y_test = Y_test.reshape(1, Y_test.shape[0])\n",
    "    \n",
    "    w,b = initialize_parameters(X_train.shape[0])\n",
    "    params, grads, costs = optimize(w, b, X_train, Y_train, num_iterations, learning_rate, print_cost)\n",
    "    w = params[\"w\"]\n",
    "    b = params[\"b\"]\n",
    "    pred_train = predict(w, b, X_train)\n",
    "    traing_accuracy = np.mean(pred_train == Y_train)\n",
    "    pred_test = predict(w, b, X_test)\n",
    "    test_accuracy = np.mean(pred_test == Y_test)\n",
    "    \n",
    "    d = {\"w\":w,\n",
    "         \"b\":b,\n",
    "         \"training_accuracy\": traing_accuracy,\n",
    "         \"test_accuracy\":test_accuracy,\n",
    "         \"cost\":costs}\n",
    "    return d    "
   ]
  },
  {
   "cell_type": "code",
   "execution_count": 60,
   "metadata": {},
   "outputs": [
    {
     "name": "stdout",
     "output_type": "stream",
     "text": [
      "Cost after iteration 0: 0.692173\n",
      "Cost after iteration 100: 0.326000\n",
      "Cost after iteration 200: 0.301497\n",
      "Cost after iteration 300: 0.262642\n",
      "Cost after iteration 400: 0.240986\n",
      "Cost after iteration 500: 0.235917\n",
      "Cost after iteration 600: 0.231252\n",
      "Cost after iteration 700: 0.229364\n",
      "Cost after iteration 800: 0.228594\n",
      "Cost after iteration 900: 0.228184\n"
     ]
    },
    {
     "data": {
      "text/plain": [
       "{'w': array([[-3.34942281e-05],\n",
       "        [-1.76580488e-02],\n",
       "        [ 2.15696393e-02],\n",
       "        [-3.89830416e-02],\n",
       "        [ 8.99886970e-02],\n",
       "        [ 9.19133975e-02],\n",
       "        [ 1.66416009e-01],\n",
       "        [-3.28416125e-02],\n",
       "        [ 1.23863180e-02],\n",
       "        [-1.45733691e-01],\n",
       "        [ 1.34130750e-01],\n",
       "        [ 1.31782215e-01],\n",
       "        [-6.78185429e-02],\n",
       "        [-4.48849712e-02],\n",
       "        [-1.75212199e-02],\n",
       "        [ 3.37587005e-02],\n",
       "        [-8.00806096e-03],\n",
       "        [ 8.66589796e-02],\n",
       "        [ 1.48009203e-01],\n",
       "        [-5.46179836e-02],\n",
       "        [-2.24151199e-01],\n",
       "        [-1.06993570e-01],\n",
       "        [-1.06754478e-01],\n",
       "        [-3.91889124e-02],\n",
       "        [-8.88326147e-03],\n",
       "        [-2.33845334e-01],\n",
       "        [ 5.64417854e-02],\n",
       "        [ 2.19588086e-01],\n",
       "        [ 2.38785025e-03],\n",
       "        [ 2.22363121e-01],\n",
       "        [-1.71399607e-01],\n",
       "        [-9.89275586e-03],\n",
       "        [ 1.08157655e-03],\n",
       "        [-2.79082638e-01],\n",
       "        [-3.98483872e-02],\n",
       "        [ 1.78071105e-01],\n",
       "        [-6.29811796e-02],\n",
       "        [-4.06986206e-02],\n",
       "        [ 6.37519452e-02],\n",
       "        [ 4.45121740e-04],\n",
       "        [-5.35842336e-03],\n",
       "        [ 1.68500366e-03],\n",
       "        [ 9.19616329e-02],\n",
       "        [-5.84755852e-02],\n",
       "        [ 1.44508865e-01],\n",
       "        [ 5.92843115e-02],\n",
       "        [ 8.77512957e-02],\n",
       "        [ 1.07392141e-02],\n",
       "        [-2.09163201e-03],\n",
       "        [ 1.52160837e-02],\n",
       "        [ 1.27267822e-03],\n",
       "        [-6.26513672e-02],\n",
       "        [-3.52924269e-01],\n",
       "        [-2.65373686e-02],\n",
       "        [ 6.29720757e-02],\n",
       "        [-1.95859847e-02],\n",
       "        [-8.35104630e-04],\n",
       "        [-2.56890966e-02],\n",
       "        [ 1.35245457e-02],\n",
       "        [-3.10469019e-02],\n",
       "        [-1.79745574e-01],\n",
       "        [-6.21673023e-02],\n",
       "        [-9.84365051e-02],\n",
       "        [-1.15998483e-01]]),\n",
       " 'b': -0.009257871618037596,\n",
       " 'training_accuracy': 0.9161098737936154,\n",
       " 'test_accuracy': 0.8822222222222222,\n",
       " 'cost': [0.692172536075482,\n",
       "  0.3259997858069523,\n",
       "  0.30149710317442086,\n",
       "  0.26264167640905817,\n",
       "  0.24098558082084112,\n",
       "  0.2359170155251974,\n",
       "  0.23125247924698702,\n",
       "  0.22936448231965934,\n",
       "  0.2285940945034365,\n",
       "  0.22818444667904547]}"
      ]
     },
     "execution_count": 60,
     "metadata": {},
     "output_type": "execute_result"
    }
   ],
   "source": [
    "d = model(X_train, y_train, X_test, y_test, num_iterations=1000, learning_rate=0.01,print_cost=True)\n",
    "d"
   ]
  },
  {
   "cell_type": "markdown",
   "metadata": {},
   "source": [
    "### 4.选做题"
   ]
  },
  {
   "cell_type": "markdown",
   "metadata": {},
   "source": [
    "Congratulations on building your first logistic regression model. It is your time to analyze it further."
   ]
  },
  {
   "cell_type": "markdown",
   "metadata": {},
   "source": [
    "##### 4.1 Observe the effect of learning rate on the leraning process.   \n",
    "Hits: plot the learning curve with different learning rate"
   ]
  },
  {
   "cell_type": "code",
   "execution_count": 63,
   "metadata": {},
   "outputs": [
    {
     "data": {
      "image/png": "[encoded data removed]",
      "text/plain": [
       "<Figure size 432x288 with 1 Axes>"
      ]
     },
     "metadata": {
      "needs_background": "light"
     },
     "output_type": "display_data"
    }
   ],
   "source": [
    "import matplotlib\n",
    "import matplotlib.pyplot as plt\n",
    "\n",
    "lr_list = [0.01, 0.001, 0.0001]\n",
    "num_iterations = 2000\n",
    "iter_num = [i for i in range(0, num_iterations, 100)]\n",
    "\n",
    "for lr in lr_list:\n",
    "    d = model(X_train, y_train, X_test, y_test, num_iterations, learning_rate=lr,print_cost=False)\n",
    "    costs = d['cost']\n",
    "    plt.plot(iter_num, costs, label='lr{}'.format(lr))\n",
    "plt.title('learning curve with different learning rate')\n",
    "plt.xlabel('num_iterations')\n",
    "plt.ylabel('loss')\n",
    "plt.legend()\n",
    "plt.show()"
   ]
  },
  {
   "cell_type": "markdown",
   "metadata": {},
   "source": [
    "##### 4.2 Observe the effect of iteration_num on the test accuracy."
   ]
  },
  {
   "cell_type": "code",
   "execution_count": 65,
   "metadata": {},
   "outputs": [
    {
     "data": {
      "image/png": "[encoded data removed]",
      "text/plain": [
       "<Figure size 432x288 with 1 Axes>"
      ]
     },
     "metadata": {
      "needs_background": "light"
     },
     "output_type": "display_data"
    }
   ],
   "source": [
    "iter_list = [i for i in range(100,2000,100)]\n",
    "test_accuracy = []\n",
    "for num in iter_list:\n",
    "    d = model(X_train, y_train, X_test, y_test, num_iterations=num, learning_rate=0.01,print_cost=False)\n",
    "    test_accuracy.append(d['test_accuracy'])\n",
    "plt.plot(iter_list,test_accuracy)\n",
    "plt.title('iteration_num on the test accuracy')\n",
    "plt.xlabel('num_iterations')\n",
    "plt.ylabel('test_accuracy')\n",
    "\n",
    "plt.grid(axis='y',linestyle='--')\n",
    "plt.show()"
   ]
  },
  {
   "cell_type": "markdown",
   "metadata": {},
   "source": [
    "# Challenge ! ! !\n",
    "\n",
    "The original data have images labeled 0,1,2,3,4,5,6,7,8,9. In our logistic model, we only detect if the digit in the image is larger or smaller than 5. Now, Let's go for a more challenging problem. Try to use softmax function to build a model to recognize which digit (0,1,2,3,4,5,6,7,8,9) is in the image."
   ]
  },
  {
   "cell_type": "code",
   "execution_count": 83,
   "metadata": {},
   "outputs": [],
   "source": [
    "X_train, X_test, Y_train, Y_test = train_test_split(digits.data, digits.target, test_size=0.25)"
   ]
  },
  {
   "cell_type": "code",
   "execution_count": 88,
   "metadata": {},
   "outputs": [],
   "source": [
    "def initialize_parameters(m,n):\n",
    "    w = np.random.randn(m, n) * 0.001\n",
    "    b = np.random.randn(n) * 0.01\n",
    "    return w, b"
   ]
  },
  {
   "cell_type": "code",
   "execution_count": 91,
   "metadata": {},
   "outputs": [
    {
     "data": {
      "text/plain": [
       "array([[0.13447071, 0.36552929, 0.13447071, 0.36552929],\n",
       "       [0.53444665, 0.19661193, 0.07232949, 0.19661193]])"
      ]
     },
     "execution_count": 91,
     "metadata": {},
     "output_type": "execute_result"
    }
   ],
   "source": [
    "def softmax(z):\n",
    "    return np.exp(z) / np.sum(np.exp(z),axis = -1).reshape(-1,1)\n",
    "\n",
    "softmax([[1,2,1,2],[2,1,0,1]])"
   ]
  },
  {
   "cell_type": "code",
   "execution_count": 125,
   "metadata": {},
   "outputs": [],
   "source": [
    "def propagate(w,b,X,Y):\n",
    "    m = X.shape[0]\n",
    "    A = softmax(np.dot(X,w) + b) \n",
    "    cost = np.mean(-np.sum(Y * np.log(A),axis = -1))\n",
    "    \n",
    "    dw = np.dot(X.T, (A- Y)) / m\n",
    "    db = np.mean(A - Y, axis = 0)\n",
    "    \n",
    "    grads = {'dw':dw,\n",
    "           'db': db }\n",
    "    \n",
    "    return grads, cost"
   ]
  },
  {
   "cell_type": "code",
   "execution_count": 126,
   "metadata": {},
   "outputs": [],
   "source": [
    "def optimize(w, b, X, Y, num_iterations,learning_rate, print_cost= False):\n",
    "    \n",
    "    costs = []\n",
    "    \n",
    "    for i in range(num_iterations):\n",
    "        \n",
    "        grads, cost = propagate(w, b, X, Y)\n",
    "        \n",
    "        dw = grads['dw']\n",
    "        db = grads['db']\n",
    "        \n",
    "        w = w - learning_rate * dw\n",
    "        b = b - learning_rate * db\n",
    "        \n",
    "        if i % 100 == 0:\n",
    "            costs.append(cost)\n",
    "            \n",
    "        if print_cost and i % 100 == 0:\n",
    "            print(\"Cost after iteration % i: %f\" % (i, cost))\n",
    "            \n",
    "    params = {'w':w,\n",
    "             'b':b}\n",
    "    \n",
    "    grads = {'dw':dw,\n",
    "            'db':db}\n",
    "    \n",
    "    return params, grads, costs\n",
    "    "
   ]
  },
  {
   "cell_type": "code",
   "execution_count": 130,
   "metadata": {},
   "outputs": [],
   "source": [
    "def predict(w, b, X):\n",
    "    A = softmax(np.dot(X, w) + b)\n",
    "    \n",
    "    Y_prediction = np.argmax(A, axis = -1)\n",
    "    \n",
    "    return Y_prediction"
   ]
  },
  {
   "cell_type": "code",
   "execution_count": 131,
   "metadata": {},
   "outputs": [],
   "source": [
    "def model(X_train, Y_train, X_test, Y_test, num_iterations, learning_rate,print_cost):\n",
    "    y_train = np.eye(10)[Y_train]\n",
    "    y_test = np.eye(10)[Y_test]\n",
    "    \n",
    "    w,b = initialize_parameters(64, 10)\n",
    "    params, grads, costs = optimize(w, b, X_train, y_train, num_iterations, learning_rate, print_cost)\n",
    "    w = params['w']\n",
    "    b = params['b']\n",
    "    pred_train = predict(w, b, X_train)\n",
    "    traing_accuracy = np.mean(pred_train == Y_train)\n",
    "    pred_test = predict(w, b, X_test)\n",
    "    test_accuracy = np.mean(pred_test == Y_test)\n",
    "    \n",
    "    d = {\"training_accuracy\":traing_accuracy,\n",
    "        \"test_accuracy\":test_accuracy}\n",
    "    \n",
    "    return d, params   \n",
    "    "
   ]
  },
  {
   "cell_type": "code",
   "execution_count": 132,
   "metadata": {},
   "outputs": [
    {
     "name": "stdout",
     "output_type": "stream",
     "text": [
      "Cost after iteration  0: 2.308655\n",
      "Cost after iteration  100: 0.165202\n",
      "Cost after iteration  200: 0.117795\n",
      "Cost after iteration  300: 0.096301\n",
      "Cost after iteration  400: 0.083033\n",
      "Cost after iteration  500: 0.073668\n",
      "Cost after iteration  600: 0.066555\n",
      "Cost after iteration  700: 0.060901\n",
      "Cost after iteration  800: 0.056267\n",
      "Cost after iteration  900: 0.052384\n",
      "Cost after iteration  1000: 0.049072\n",
      "Cost after iteration  1100: 0.046205\n",
      "Cost after iteration  1200: 0.043695\n",
      "Cost after iteration  1300: 0.041473\n",
      "Cost after iteration  1400: 0.039490\n",
      "Cost after iteration  1500: 0.037706\n",
      "Cost after iteration  1600: 0.036092\n",
      "Cost after iteration  1700: 0.034622\n",
      "Cost after iteration  1800: 0.033277\n",
      "Cost after iteration  1900: 0.032041\n"
     ]
    },
    {
     "data": {
      "text/plain": [
       "{'training_accuracy': 0.9985152190051967, 'test_accuracy': 0.9688888888888889}"
      ]
     },
     "execution_count": 132,
     "metadata": {},
     "output_type": "execute_result"
    }
   ],
   "source": [
    "d,params = model(X_train, Y_train, X_test, Y_test, num_iterations=2000, learning_rate=0.01, print_cost=True)\n",
    "d"
   ]
  },
  {
   "cell_type": "code",
   "execution_count": 133,
   "metadata": {},
   "outputs": [
    {
     "data": {
      "text/plain": [
       "array([6, 6, 0, 4, 9, 5, 8, 6, 2, 0], dtype=int64)"
      ]
     },
     "execution_count": 133,
     "metadata": {},
     "output_type": "execute_result"
    }
   ],
   "source": [
    "predict(params['w'],params['b'], X_test[:10])"
   ]
  },
  {
   "cell_type": "code",
   "execution_count": 134,
   "metadata": {},
   "outputs": [
    {
     "data": {
      "text/plain": [
       "array([6, 6, 0, 4, 9, 5, 8, 6, 2, 0])"
      ]
     },
     "execution_count": 134,
     "metadata": {},
     "output_type": "execute_result"
    }
   ],
   "source": [
    "Y_test[:10]"
   ]
  },
  {
   "cell_type": "markdown",
   "metadata": {},
   "source": [
    "# Congratulations ! You have completed assigment 7. "
   ]
  },
  {
   "cell_type": "code",
   "execution_count": null,
   "metadata": {},
   "outputs": [],
   "source": [
    "参考\n",
    "https://blog.csdn.net/z526830652/article/details/79782505\n",
    "https://blog.csdn.net/qq_16540387/article/details/79201363"
   ]
  }
 ],
 "metadata": {
  "kernelspec": {
   "display_name": "Python 3",
   "language": "python",
   "name": "python3"
  },
  "language_info": {
   "codemirror_mode": {
    "name": "ipython",
    "version": 3
   },
   "file_extension": ".py",
   "mimetype": "text/x-python",
   "name": "python",
   "nbconvert_exporter": "python",
   "pygments_lexer": "ipython3",
   "version": "3.7.3"
  },
  "toc": {
   "base_numbering": 1,
   "nav_menu": {},
   "number_sections": true,
   "sideBar": true,
   "skip_h1_title": false,
   "title_cell": "Table of Contents",
   "title_sidebar": "Contents",
   "toc_cell": false,
   "toc_position": {},
   "toc_section_display": true,
   "toc_window_display": false
  }
 },
 "nbformat": 4,
 "nbformat_minor": 2
}
