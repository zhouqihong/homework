{
 "cells": [
  {
   "cell_type": "markdown",
   "metadata": {},
   "source": [
    "切钢筋问题，钢筋价目表\n",
    "\n",
    "\n",
    "\n",
    "| 长度 | 1    | 2    | 3    | 4    | 5    | 6    | 7    | 8    | 9    | 10   | 11   |\n",
    "| ---- | ---- | ---- | ---- | ---- | ---- | ---- | ---- | ---- | ---- | ---- | ---- |\n",
    "| 价钱 | 1    | 5    | 8    | 9    | 10   | 17   | 17   | 20   | 24   | 30   | 35   |\n"
   ]
  },
  {
   "cell_type": "code",
   "execution_count": 48,
   "metadata": {},
   "outputs": [],
   "source": [
    "original_price = [1,5,8,9,10,17,17,20,24,30,35] "
   ]
  },
  {
   "cell_type": "code",
   "execution_count": 49,
   "metadata": {},
   "outputs": [],
   "source": [
    "from collections import defaultdict"
   ]
  },
  {
   "cell_type": "code",
   "execution_count": 50,
   "metadata": {},
   "outputs": [],
   "source": [
    "price = defaultdict(int)   "
   ]
  },
  {
   "cell_type": "code",
   "execution_count": 51,
   "metadata": {},
   "outputs": [],
   "source": [
    "for i,p in enumerate(original_price):\n",
    "    price[i+1] = p\n"
   ]
  },
  {
   "cell_type": "code",
   "execution_count": 52,
   "metadata": {},
   "outputs": [
    {
     "data": {
      "text/plain": [
       "defaultdict(int,\n",
       "            {1: 1,\n",
       "             2: 5,\n",
       "             3: 8,\n",
       "             4: 9,\n",
       "             5: 10,\n",
       "             6: 17,\n",
       "             7: 17,\n",
       "             8: 20,\n",
       "             9: 24,\n",
       "             10: 30,\n",
       "             11: 35})"
      ]
     },
     "execution_count": 52,
     "metadata": {},
     "output_type": "execute_result"
    }
   ],
   "source": [
    "price  #用字典把钢材的长度和价格存起来"
   ]
  },
  {
   "cell_type": "markdown",
   "metadata": {},
   "source": [
    "### Get the max splitting by enumerate\n",
    "\n",
    "10m\n",
    "max(price[10],r[1]+r[9],r[2]+r[8],……r[9]+r[1])\n",
    "r[1]+r[9]\n",
    "\n",
    "r(1)==> return max(price[1],[])price[1]\n",
    "r(9)==> return max(price[9],[r(1)+r(8),r(2),r(7)……])"
   ]
  },
  {
   "cell_type": "code",
   "execution_count": 53,
   "metadata": {},
   "outputs": [],
   "source": [
    "def r(n):\n",
    "    \n",
    "    return max(\n",
    "    [price[n]] + [r(i) + r(n-i) for i in range(1,n)]\n",
    "    )  "
   ]
  },
  {
   "cell_type": "code",
   "execution_count": 54,
   "metadata": {},
   "outputs": [
    {
     "data": {
      "text/plain": [
       "30"
      ]
     },
     "execution_count": 54,
     "metadata": {},
     "output_type": "execute_result"
    }
   ],
   "source": [
    "r(10)  #10米按最好的方式切返回的是30"
   ]
  },
  {
   "cell_type": "code",
   "execution_count": 55,
   "metadata": {},
   "outputs": [
    {
     "data": {
      "text/plain": [
       "35"
      ]
     },
     "execution_count": 55,
     "metadata": {},
     "output_type": "execute_result"
    }
   ],
   "source": [
    "r(11)  #11米最优"
   ]
  },
  {
   "cell_type": "code",
   "execution_count": 56,
   "metadata": {},
   "outputs": [
    {
     "name": "stdout",
     "output_type": "stream",
     "text": [
      "19.537925004959106\n"
     ]
    }
   ],
   "source": [
    "import time\n",
    "start = time.time()\n",
    "r(15)  #15米长的钢材需要多长时间\n",
    "end = time.time()\n",
    "print(end-start)"
   ]
  },
  {
   "cell_type": "code",
   "execution_count": 57,
   "metadata": {},
   "outputs": [],
   "source": [
    "#斐不拉契数列[1,1,2,3,5,]，这个数列从第3项开始，每一项都等于前两项之和。\n",
    "def fibonacci(n):  #输入的是n，n的长度已经限定了\n",
    "    if n <=2:  #如果小于等于2就返回1\n",
    "        return 1\n",
    "    else:\n",
    "        return fibonacci(n-1) + fibonacci(n-2)"
   ]
  },
  {
   "cell_type": "code",
   "execution_count": 58,
   "metadata": {},
   "outputs": [
    {
     "name": "stdout",
     "output_type": "stream",
     "text": [
      "5702887\n",
      "5.764782905578613\n"
     ]
    }
   ],
   "source": [
    "\n",
    "start = time.time()\n",
    "print(fibonacci(34))\n",
    "end = time.time()\n",
    "print(end-start)"
   ]
  },
  {
   "cell_type": "code",
   "execution_count": 59,
   "metadata": {},
   "outputs": [],
   "source": [
    "mem=defaultdict()  #mem=memory，建立一个字典，用于存储计算过的\n",
    "def fibonacci_op(n):\n",
    "    if n in mem:  #如果已经在mem字典里面了，就直接返回\n",
    "        return mem[n]\n",
    "    else:\n",
    "        if n <= 2:\n",
    "            mem[n] = 1  #先记住在mem里面\n",
    "            return n\n",
    "        else:\n",
    "            result = fibonacci_op(n-1) + fibonacci_op(n-2)  #调用递归函数，每个递归都存入到一个表，每次递归都把存储里面，空间兑换时间\n",
    "            mem[n] = result #计算新的同样记录在mem里面\n",
    "            return result\n",
    "        #1递归方程；2出口，出口表示分多少种情况"
   ]
  },
  {
   "cell_type": "code",
   "execution_count": 60,
   "metadata": {},
   "outputs": [
    {
     "name": "stdout",
     "output_type": "stream",
     "text": [
      "14662949395604\n",
      "0.0007262229919433594\n"
     ]
    }
   ],
   "source": [
    "start = time.time()\n",
    "print(fibonacci_op(64)) #加上记忆模块后，可以减少时间的计算\n",
    "end = time.time()\n",
    "print(end-start)"
   ]
  },
  {
   "cell_type": "code",
   "execution_count": 21,
   "metadata": {},
   "outputs": [],
   "source": [
    "### 装饰器,给函数增加新的功能，但是不改变函数内部"
   ]
  },
  {
   "cell_type": "code",
   "execution_count": 61,
   "metadata": {},
   "outputs": [],
   "source": [
    "#args 是 arguments 的缩写，表示位置参数；kwargs 是 keyword arguments 的缩写，表示关键字参数。位置参数在关键字参数的前面\n",
    "def get_time(func):  #定义装饰器\n",
    "    def wrapper(*args,**kwargs):\n",
    "        start = time.time()\n",
    "        func(*args,**kwargs)\n",
    "        end = time.time()\n",
    "        print('消耗时间:{}'.format(end-start))\n",
    "    return wrapper"
   ]
  },
  {
   "cell_type": "code",
   "execution_count": 62,
   "metadata": {},
   "outputs": [],
   "source": [
    "def f1(func):\n",
    "    def wrapper(*args,**kwargs):\n",
    "        print('Started')\n",
    "        func(*args,**kwargs)\n",
    "        print('End')\n",
    "    return wrapper"
   ]
  },
  {
   "cell_type": "code",
   "execution_count": 63,
   "metadata": {},
   "outputs": [],
   "source": [
    "def f():\n",
    "    print('Hello,world'*5)"
   ]
  },
  {
   "cell_type": "code",
   "execution_count": 64,
   "metadata": {},
   "outputs": [],
   "source": [
    "f = f1(f)"
   ]
  },
  {
   "cell_type": "code",
   "execution_count": 65,
   "metadata": {},
   "outputs": [
    {
     "name": "stdout",
     "output_type": "stream",
     "text": [
      "Started\n",
      "Hello,worldHello,worldHello,worldHello,worldHello,world\n",
      "End\n"
     ]
    }
   ],
   "source": [
    "f()"
   ]
  },
  {
   "cell_type": "code",
   "execution_count": 66,
   "metadata": {},
   "outputs": [
    {
     "name": "stdout",
     "output_type": "stream",
     "text": [
      "wrapper\n"
     ]
    }
   ],
   "source": [
    "print(f.__name__)"
   ]
  },
  {
   "cell_type": "code",
   "execution_count": 67,
   "metadata": {},
   "outputs": [],
   "source": [
    "@f1  #装饰器\n",
    "def g(a):\n",
    "    print(a)"
   ]
  },
  {
   "cell_type": "code",
   "execution_count": 68,
   "metadata": {},
   "outputs": [
    {
     "name": "stdout",
     "output_type": "stream",
     "text": [
      "Started\n",
      "Hello,world!\n",
      "End\n"
     ]
    }
   ],
   "source": [
    "g('Hello,world!')"
   ]
  },
  {
   "cell_type": "code",
   "execution_count": 69,
   "metadata": {},
   "outputs": [],
   "source": [
    "@get_time\n",
    "def g(a):\n",
    "    print(a)"
   ]
  },
  {
   "cell_type": "code",
   "execution_count": 70,
   "metadata": {},
   "outputs": [
    {
     "name": "stdout",
     "output_type": "stream",
     "text": [
      "Hello,world!\n",
      "消耗时间:0.0008471012115478516\n"
     ]
    }
   ],
   "source": [
    "g('Hello,world!')"
   ]
  },
  {
   "cell_type": "code",
   "execution_count": 71,
   "metadata": {},
   "outputs": [],
   "source": [
    "def k(*arg,**kwargs):\n",
    "    print(kwargs)"
   ]
  },
  {
   "cell_type": "code",
   "execution_count": 72,
   "metadata": {},
   "outputs": [
    {
     "name": "stdout",
     "output_type": "stream",
     "text": [
      "{'b': 5}\n"
     ]
    }
   ],
   "source": [
    "k(6,b=5)"
   ]
  },
  {
   "cell_type": "code",
   "execution_count": 73,
   "metadata": {},
   "outputs": [],
   "source": [
    "from functools import wraps"
   ]
  },
  {
   "cell_type": "code",
   "execution_count": 74,
   "metadata": {},
   "outputs": [],
   "source": [
    "def memo(f):  #定义memo装饰器\n",
    "    already_computed = {}  #建立一个计算过的字典\n",
    "    @wraps(f)\n",
    "    def _wrap(arg):\n",
    "        if arg in already_computed:\n",
    "            result = already_computed[arg]\n",
    "        else:\n",
    "            result = f(arg)\n",
    "            already_computed[arg] = result\n",
    "        return result\n",
    "    return _wrap"
   ]
  },
  {
   "cell_type": "code",
   "execution_count": 75,
   "metadata": {},
   "outputs": [],
   "source": [
    "#用装饰器的办法解决Cut Rod 问题"
   ]
  },
  {
   "cell_type": "code",
   "execution_count": 76,
   "metadata": {},
   "outputs": [],
   "source": [
    "solution = {} #建立一个字典"
   ]
  },
  {
   "cell_type": "code",
   "execution_count": 77,
   "metadata": {},
   "outputs": [],
   "source": [
    "@memo\n",
    "def r_op(n):\n",
    "    \"\"\"\n",
    "    Args: n 是钢铁的长度\n",
    "    Return:最大价格\n",
    "    \"\"\"\n",
    "    max_price, max_split = max(\n",
    "        [(price[n],0)] + [(r(i) + r(n-i),i) for i in range(1,n)],key=lambda x:x[0]\n",
    "    )\n",
    "    solution[n] = (n-max_split,max_split) #看怎么切钢材，当为某个长度的时候，应该怎么切\n",
    "    \n",
    "    return max_price"
   ]
  },
  {
   "cell_type": "code",
   "execution_count": 10,
   "metadata": {},
   "outputs": [],
   "source": [
    "# s = time.time()\n",
    "# r_op(25)\n",
    "# e = time.time()\n",
    "# print(e-s)\n"
   ]
  },
  {
   "cell_type": "code",
   "execution_count": 78,
   "metadata": {},
   "outputs": [
    {
     "data": {
      "text/plain": [
       "35"
      ]
     },
     "execution_count": 78,
     "metadata": {},
     "output_type": "execute_result"
    }
   ],
   "source": [
    "r_op(11)"
   ]
  },
  {
   "cell_type": "code",
   "execution_count": 79,
   "metadata": {},
   "outputs": [
    {
     "data": {
      "text/plain": [
       "defaultdict(int,\n",
       "            {1: 1,\n",
       "             2: 5,\n",
       "             3: 8,\n",
       "             4: 9,\n",
       "             5: 10,\n",
       "             6: 17,\n",
       "             7: 17,\n",
       "             8: 20,\n",
       "             9: 24,\n",
       "             10: 30,\n",
       "             11: 35,\n",
       "             15: 0,\n",
       "             14: 0,\n",
       "             13: 0,\n",
       "             12: 0})"
      ]
     },
     "execution_count": 79,
     "metadata": {},
     "output_type": "execute_result"
    }
   ],
   "source": [
    "price"
   ]
  },
  {
   "cell_type": "code",
   "execution_count": 80,
   "metadata": {},
   "outputs": [
    {
     "data": {
      "text/plain": [
       "{11: (11, 0)}"
      ]
     },
     "execution_count": 80,
     "metadata": {},
     "output_type": "execute_result"
    }
   ],
   "source": [
    "solution #返回的是应该怎么切 20 ->(17,3),17->(11,6),3->(3,0),11->(11,0),6->(6,0).\n",
    "#所以，20米的最优切法是11米，6米，3米。"
   ]
  },
  {
   "cell_type": "code",
   "execution_count": null,
   "metadata": {},
   "outputs": [],
   "source": [
    "#怎么解决parse solution，如果给20米怎么切，17米怎么切，11米怎么切，6米怎么切"
   ]
  },
  {
   "cell_type": "code",
   "execution_count": 81,
   "metadata": {},
   "outputs": [],
   "source": [
    "def parse_solution(n):\n",
    "    left_split,right_split = solution[n] #输入n米最优切法是什么，比如以20为例，left_split为17，right_split为3\n",
    "    \n",
    "    if right_split == 0:return [left_split] #如果为0就直接返回左边\n",
    "    \n",
    "    return parse_solution(left_split) + parse_solution(right_split) #返回17米怎么切，3米怎么一切。"
   ]
  },
  {
   "cell_type": "code",
   "execution_count": 11,
   "metadata": {},
   "outputs": [],
   "source": [
    "#r(24)"
   ]
  },
  {
   "cell_type": "code",
   "execution_count": 12,
   "metadata": {},
   "outputs": [],
   "source": [
    "#parse_solution(20)  #20米返回的结果是11，6,3"
   ]
  },
  {
   "cell_type": "markdown",
   "metadata": {},
   "source": [
    "# 编辑距离"
   ]
  },
  {
   "cell_type": "markdown",
   "metadata": {},
   "source": [
    "字符替换：Edit Distance\n",
    "\n",
    "Intention 变成 execution\n",
    "\n",
    "| I    | N    | T    | E    | *    | N    | T    | I    | O    | N    |\n",
    "| ---- | ---- | ---- | ---- | ---- | ---- | ---- | ---- | ---- | ---- |\n",
    "| *    | E    | X    | E    | C    | U    | T    | I    | O    | N    |\n",
    "\n",
    "三个步骤\n",
    "+ 1 Insertion\n",
    "+ 2 Deletion\n",
    "+ 3 Substitution"
   ]
  },
  {
   "cell_type": "markdown",
   "metadata": {},
   "source": [
    "分析：字符串a 长度为n ，字符串b 长度为m\n",
    "\n",
    "定位到两串字符a和b的最末端位置，会有三种情况出现：\n",
    "+ a和b匹配,这里又分为a[-1]==b[-1] 和 a[-1]!=b[-1] 两种情况\n",
    "+ a和b前m-1项匹配\n",
    "+ a前n-1和b匹配\n",
    "\n",
    "在这三种情况中筛选出distance最小的那个即是我们的答案\n",
    "(三种情况中，每一种情况又回到了开始时候的新的a,b的计算)"
   ]
  },
  {
   "cell_type": "markdown",
   "metadata": {},
   "source": [
    "**The Edit Distance Prolem**\n",
    "\n",
    "**edit_distance:**\n",
    "\n",
    "**Input:** two strings  x of length n , y of length m\n",
    "\n",
    "**Output:** min distance and its path\n",
    "\n",
    "1:if n=0 then return m //base case\n",
    "\n",
    "2:if m=0 then return n //base case\n",
    "\n",
    "3:x_1 = 1 to n-1 element of x\n",
    "\n",
    "4:y_1 = 1 to m-1 element of y\n",
    "\n",
    "5:candidates = \n",
    "\n",
    "    edit_distance(x_1, y) + 1\n",
    "    edit_distance(x, y_1) + 1 \n",
    "    edit_distance(x_1, y_1) + 2 if x[i]==y[i] else edit_distance(x_1, y_1)\n",
    "\n",
    "6:max of candidates"
   ]
  },
  {
   "cell_type": "code",
   "execution_count": 13,
   "metadata": {},
   "outputs": [],
   "source": [
    "solution = {}"
   ]
  },
  {
   "cell_type": "code",
   "execution_count": 14,
   "metadata": {},
   "outputs": [],
   "source": [
    "from functools import lru_cache #lru_cache相当于装饰器的功能"
   ]
  },
  {
   "cell_type": "code",
   "execution_count": 15,
   "metadata": {},
   "outputs": [],
   "source": [
    "@lru_cache(maxsize=2**10)\n",
    "def edit_distance(string1,string2):\n",
    "    '''从末端元素分析'''\n",
    "    if len(string1) == 0:return len(string2) #s1 = '',s2='word',如果s1长度为0，s2等于另外一个的长度。如果把s2变为s1,就删除s2里面所有的字母\n",
    "    if len(string2) == 0:return len(string1) #s1 = 'word'，s2='' s1为单词的长度，s2为0，把s2变为S1，就要在s2里面插入s1里的字母\n",
    "    \n",
    "    tail_s1 = string1[-1] #s1 = 'word' s2='work'  tail_s1 = 'd'  tail_s2 ='k'\n",
    "    tail_s2 = string2[-1]\n",
    "    \n",
    "    candidates = [\n",
    "        (edit_distance(string1[:-1],string2) + 1,'DEL {}'.format(tail_s1)),\n",
    "        #string 1 delete tail, #edit_distance('wor','work'),[-1]切片，不包括尾部的字符，从后往前推，往前递归，+1最后一步操作\n",
    "        (edit_distance(string1,string2[:-1]) + 1,'ADD {}'.format(tail_s2)),\n",
    "        #string 1 add tail of string2) ('work','wor')\n",
    "    ]\n",
    "    \n",
    "    if tail_s1 == tail_s2: #如果两个是一样的distance就为0,word,word\n",
    "        both_forward = (edit_distance(string1[:-1],string2[:-1]) + 0,'') #edit_distance('wor','wor'),''表示不需要操作\n",
    "    else: #如果两个被操作字符不一样 就+1。 word,work\n",
    "        both_forward = (edit_distance(string1[:-1], string2[:-1]) + 1, 'SUB {} => {}'.format(tail_s1, tail_s2))\n",
    "    \n",
    "    candidates.append(both_forward) #可能的三种操作，candidates = [distance(DEL),distance(INSERT),distance(SUB,NOSUB)]\n",
    "    \n",
    "    #输入是列表的元组，对元组[0]排序，元组[1]为操作，返回编辑距离最小的元组\n",
    "    min_distance,operation = min(candidates, key = lambda x: x[0]) #找最短，candidates三种操作的列表，每个操作是元组，第一个元素是编辑距离x[0]，第二个元素数具体操作\n",
    "    \n",
    "    # solution是字典，键是两个字符[(string1,string2)]，对应的值是最优的操作opertion\n",
    "    solution[(string1,string2)] = operation  #输入string1和string2的情况下，选择operation是最优的\n",
    "   \n",
    "    \n",
    "    return min_distance    #返回最短"
   ]
  },
  {
   "cell_type": "code",
   "execution_count": 16,
   "metadata": {},
   "outputs": [
    {
     "data": {
      "text/plain": [
       "3"
      ]
     },
     "execution_count": 16,
     "metadata": {},
     "output_type": "execute_result"
    }
   ],
   "source": [
    "edit_distance('ABCDECG','ABCCEF')"
   ]
  },
  {
   "cell_type": "code",
   "execution_count": 17,
   "metadata": {},
   "outputs": [
    {
     "data": {
      "text/plain": [
       "{('A', 'A'): '',\n",
       " ('A', 'AB'): 'ADD B',\n",
       " ('A', 'ABC'): 'ADD C',\n",
       " ('A', 'ABCC'): 'ADD C',\n",
       " ('A', 'ABCCE'): 'ADD E',\n",
       " ('A', 'ABCCEF'): 'ADD F',\n",
       " ('AB', 'A'): 'DEL B',\n",
       " ('AB', 'AB'): '',\n",
       " ('AB', 'ABC'): 'ADD C',\n",
       " ('AB', 'ABCC'): 'ADD C',\n",
       " ('AB', 'ABCCE'): 'ADD E',\n",
       " ('AB', 'ABCCEF'): 'ADD F',\n",
       " ('ABC', 'A'): 'DEL C',\n",
       " ('ABC', 'AB'): 'DEL C',\n",
       " ('ABC', 'ABC'): '',\n",
       " ('ABC', 'ABCC'): 'ADD C',\n",
       " ('ABC', 'ABCCE'): 'ADD E',\n",
       " ('ABC', 'ABCCEF'): 'ADD F',\n",
       " ('ABCD', 'A'): 'DEL D',\n",
       " ('ABCD', 'AB'): 'DEL D',\n",
       " ('ABCD', 'ABC'): 'DEL D',\n",
       " ('ABCD', 'ABCC'): 'SUB D => C',\n",
       " ('ABCD', 'ABCCE'): 'ADD E',\n",
       " ('ABCD', 'ABCCEF'): 'ADD F',\n",
       " ('ABCDE', 'A'): 'DEL E',\n",
       " ('ABCDE', 'AB'): 'DEL E',\n",
       " ('ABCDE', 'ABC'): 'DEL E',\n",
       " ('ABCDE', 'ABCC'): 'DEL E',\n",
       " ('ABCDE', 'ABCCE'): '',\n",
       " ('ABCDE', 'ABCCEF'): 'ADD F',\n",
       " ('ABCDEC', 'A'): 'DEL C',\n",
       " ('ABCDEC', 'AB'): 'DEL C',\n",
       " ('ABCDEC', 'ABC'): 'DEL C',\n",
       " ('ABCDEC', 'ABCC'): '',\n",
       " ('ABCDEC', 'ABCCE'): 'DEL C',\n",
       " ('ABCDEC', 'ABCCEF'): 'SUB C => F',\n",
       " ('ABCDECG', 'A'): 'DEL G',\n",
       " ('ABCDECG', 'AB'): 'DEL G',\n",
       " ('ABCDECG', 'ABC'): 'DEL G',\n",
       " ('ABCDECG', 'ABCC'): 'DEL G',\n",
       " ('ABCDECG', 'ABCCE'): 'DEL G',\n",
       " ('ABCDECG', 'ABCCEF'): 'DEL G'}"
      ]
     },
     "execution_count": 17,
     "metadata": {},
     "output_type": "execute_result"
    }
   ],
   "source": [
    "solution"
   ]
  },
  {
   "cell_type": "markdown",
   "metadata": {},
   "source": [
    "# Todo: Parse Solution is our homework"
   ]
  },
  {
   "cell_type": "markdown",
   "metadata": {},
   "source": [
    "Complete the Edit-Distance Problem Solution, by which we could get the detailed transformer procedure of two string X and Y.\n",
    "\n",
    "找出编辑距离变换的最优做法~~怎么增删改最短\n"
   ]
  },
  {
   "cell_type": "code",
   "execution_count": 18,
   "metadata": {},
   "outputs": [],
   "source": [
    "result = [] # 记录string1转换到string2的步骤"
   ]
  },
  {
   "cell_type": "code",
   "execution_count": 19,
   "metadata": {},
   "outputs": [],
   "source": [
    "def parse_solution_edit(string1,string2):\n",
    "    '''\n",
    "    solution parse\n",
    "    :param string1:\n",
    "    :param string2:\n",
    "    :return:\n",
    "    '''\n",
    "    res=[]\n",
    "    if string1==string2:return 0\n",
    "    if string1==\"\" or string2==\"\":return [x for x in solution.values()]\n",
    "    if len(string1)>len(string2):\n",
    "        max=len(string1)\n",
    "    else:\n",
    "        max=len(string2)\n",
    "    i=0\n",
    "    j=0\n",
    "    index=0\n",
    "    while index<max:\n",
    "        key=(string1[:len(string1)-i],string2[:len(string2)-j])\n",
    "        i+=1\n",
    "        j+=1\n",
    "        if \"ADD\" in solution[key]:\n",
    "            i-=1\n",
    "        elif \"DEL\" in solution[key]:\n",
    "            j-=1\n",
    "        if solution[key]!='':\n",
    "            res.append(solution[key])\n",
    "        index+=1\n",
    "    return [x for x in reversed(res)]"
   ]
  },
  {
   "cell_type": "code",
   "execution_count": 20,
   "metadata": {},
   "outputs": [
    {
     "data": {
      "text/plain": [
       "['SUB D => C', 'SUB C => F', 'DEL G']"
      ]
     },
     "execution_count": 20,
     "metadata": {},
     "output_type": "execute_result"
    }
   ],
   "source": [
    "parse_solution_edit('ABCDECG','ABCCEF')"
   ]
  },
  {
   "cell_type": "code",
   "execution_count": 32,
   "metadata": {},
   "outputs": [],
   "source": [
    "# another approach\n",
    "import numpy as np\n",
    "def word_distance(string1,string2):\n",
    "    arr = np.zeros((len(string1),len(string2)),dtype = int)\n",
    "    for i, s1 in enumerate(string1):\n",
    "        for j, s2 in enumerate(string2):\n",
    "            if s1 == s2:                           \n",
    "                arr[i][j] = 1\n",
    "            elif s1 != s2:\n",
    "                arr[i][j] = 0                \n",
    "    tag = []\n",
    "    for c in range(min(len(string1),len(string2))):\n",
    "        tag.append(arr[c][c])\n",
    "    solution = []\n",
    "    for r,k in enumerate(tag):\n",
    "        if k != 1:\n",
    "            solution.append('POS {} SUB {} => {}'.format(r,string1[r], string2[r]))\n",
    "    if len(string1) < len(string2):\n",
    "        for s in string2[len(string1):]:\n",
    "            solution.append('ADD {}'.format(s))\n",
    "    if len(string1) > len(string2):\n",
    "        for s in string1[len(string2):]:\n",
    "            solution.append('DEL {}'.format(s))\n",
    "    maxIndex = np.where(arr == np.max(arr))\n",
    "    return solution\n"
   ]
  },
  {
   "cell_type": "code",
   "execution_count": 33,
   "metadata": {},
   "outputs": [
    {
     "data": {
      "text/plain": [
       "['POS 3 SUB D => C', 'POS 5 SUB C => F', 'DEL G']"
      ]
     },
     "execution_count": 33,
     "metadata": {},
     "output_type": "execute_result"
    }
   ],
   "source": [
    "word_distance('ABCDECG','ABCCEF')"
   ]
  },
  {
   "cell_type": "code",
   "execution_count": null,
   "metadata": {},
   "outputs": [],
   "source": []
  },
  {
   "cell_type": "code",
   "execution_count": 92,
   "metadata": {},
   "outputs": [],
   "source": [
    "chinese_dataset = '../data/article_9k.txt'"
   ]
  },
  {
   "cell_type": "code",
   "execution_count": 93,
   "metadata": {},
   "outputs": [],
   "source": [
    "CHINESE_CHARATERS = open(chinese_dataset,encoding='utf-8').read()"
   ]
  },
  {
   "cell_type": "code",
   "execution_count": 94,
   "metadata": {},
   "outputs": [
    {
     "data": {
      "text/plain": [
       "'\\ufeff此外自本周6月12日起除小米手机6等15款机型外其余机型已暂停更新发布含开发版体验版内测稳定版暂不受影响以确保工程师可以集中全部精力进行系统优化工作有人猜测这也是将精力主要用到MIUI9的研发之中M'"
      ]
     },
     "execution_count": 94,
     "metadata": {},
     "output_type": "execute_result"
    }
   ],
   "source": [
    "CHINESE_CHARATERS[:100]"
   ]
  },
  {
   "cell_type": "code",
   "execution_count": 95,
   "metadata": {},
   "outputs": [],
   "source": [
    "import pinyin\n",
    "import re\n",
    "from collections import Counter,defaultdict"
   ]
  },
  {
   "cell_type": "code",
   "execution_count": 96,
   "metadata": {},
   "outputs": [
    {
     "data": {
      "text/plain": [
       "'nihao，houlang'"
      ]
     },
     "execution_count": 96,
     "metadata": {},
     "output_type": "execute_result"
    }
   ],
   "source": [
    "pinyin.get('你好，后浪',format='strip',delimiter='')"
   ]
  },
  {
   "cell_type": "code",
   "execution_count": 97,
   "metadata": {},
   "outputs": [],
   "source": [
    "def chinese_to_pinyin(character):\n",
    "    \"\"\"\n",
    "    #format参数可以设置输出拼音的方式\n",
    "    #strip：去掉注音\n",
    "    #numerical：将注音以数字的方式放在最后\n",
    "    #delimiter:定界符\n",
    "    \"\"\"\n",
    "    return pinyin.get(character,format='strip',delimiter=' ')\n",
    "\n"
   ]
  },
  {
   "cell_type": "code",
   "execution_count": 98,
   "metadata": {},
   "outputs": [],
   "source": [
    "CHINESE_CHARACTERS_CORPUS = chinese_to_pinyin(CHINESE_CHARATERS) #汉字转换为拼音，比较耗时"
   ]
  },
  {
   "cell_type": "code",
   "execution_count": 99,
   "metadata": {},
   "outputs": [
    {
     "data": {
      "text/plain": [
       "129433036"
      ]
     },
     "execution_count": 99,
     "metadata": {},
     "output_type": "execute_result"
    }
   ],
   "source": [
    "len(CHINESE_CHARACTERS_CORPUS)"
   ]
  },
  {
   "cell_type": "code",
   "execution_count": 100,
   "metadata": {},
   "outputs": [],
   "source": [
    "def tokens(text):\n",
    "    \"List all the pinyin characters\"\n",
    "    return re.findall('[a-z]+',text.lower())  #找出所有字母"
   ]
  },
  {
   "cell_type": "code",
   "execution_count": 101,
   "metadata": {},
   "outputs": [
    {
     "data": {
      "text/plain": [
       "'\\ufeff ci wai zi ben zhou 6 yue 1 2 ri qi chu xiao mi shou ji 6 deng 1 5 kuan ji xing wai qi yu ji xing y'"
      ]
     },
     "execution_count": 101,
     "metadata": {},
     "output_type": "execute_result"
    }
   ],
   "source": [
    "CHINESE_CHARACTERS_CORPUS [:100]"
   ]
  },
  {
   "cell_type": "code",
   "execution_count": 102,
   "metadata": {},
   "outputs": [
    {
     "data": {
      "text/plain": [
       "['ci',\n",
       " 'wai',\n",
       " 'zi',\n",
       " 'ben',\n",
       " 'zhou',\n",
       " 'yue',\n",
       " 'ri',\n",
       " 'qi',\n",
       " 'chu',\n",
       " 'xiao',\n",
       " 'mi',\n",
       " 'shou',\n",
       " 'ji',\n",
       " 'deng',\n",
       " 'kuan',\n",
       " 'ji',\n",
       " 'xing',\n",
       " 'wai',\n",
       " 'qi',\n",
       " 'yu',\n",
       " 'ji',\n",
       " 'xing',\n",
       " 'y']"
      ]
     },
     "execution_count": 102,
     "metadata": {},
     "output_type": "execute_result"
    }
   ],
   "source": [
    "tokens(CHINESE_CHARACTERS_CORPUS [:100])"
   ]
  },
  {
   "cell_type": "code",
   "execution_count": 103,
   "metadata": {},
   "outputs": [],
   "source": [
    "PINYIN_COUNT = Counter(tokens(CHINESE_CHARACTERS_CORPUS))"
   ]
  },
  {
   "cell_type": "code",
   "execution_count": 104,
   "metadata": {},
   "outputs": [],
   "source": [
    "def correct(word):\n",
    "    'Find the most possible pinyin based on edit distance'\n",
    "    #优先编辑距离为0，其次为1，其次为2；otherwise default to word itself\n",
    "    candidates = (known(edits0(word)) or  #找出编辑距离为0的词\n",
    "                 known(edits1(word)) or   #找出编辑距离为1的词\n",
    "                 known(edits2(word)) or   #找出编辑距离为2的词\n",
    "                 [word])  #单词本身\n",
    "    #数据类型,如果第一个不存在（空字典，列表，字符），跳到第二个。\n",
    "    return max(candidates,key=PINYIN_COUNT.get) #返回出现次数最多的"
   ]
  },
  {
   "cell_type": "code",
   "execution_count": 105,
   "metadata": {},
   "outputs": [],
   "source": [
    "def known(words):\n",
    "    '返回的是pinyin'\n",
    "    return {w for w in words if w in PINYIN_COUNT}  #返回拼音集合\n",
    "\n",
    "def edits0(word):\n",
    "    '编辑距离为0返回的是单词本身'\n",
    "    return {word}  #编辑距离为0的集合\n",
    "    \n",
    "def edits2(word): #编辑距离2 = 编辑距离1的词的基础上再加一个编辑距离1\n",
    "    '返回编辑距离为2的拼音'\n",
    "    return {e2 for e1 in edits1(word) for e2 in edits1(e1)} #在编辑距离为1的的词里面再计算一次编辑聚类为1的词"
   ]
  },
  {
   "cell_type": "code",
   "execution_count": 106,
   "metadata": {},
   "outputs": [],
   "source": [
    "alphabet = 'abcdefghijklmnopqrstuvwxyz'\n",
    "\n",
    "def splits(word):\n",
    "    '返回的是可能的列表配对'\n",
    "    return [(word[:i],word[i:])\n",
    "           for i in range(len(word)+1)]\n",
    "\n",
    "def edits1(word):\n",
    "    '编辑距离为1返回，可能是插入，可能删掉，替换'\n",
    "    pairs = splits(word) #输入为拼音，找出所有输入编辑距离为1的\n",
    "    deletes = [a+b[1:] for (a,b) in pairs if b] #删除，(inyin,pnyin,piyin,pinin,pinyn,pinyin)\n",
    "    transposes = [a+b[1] + b[0] + b[2:] for (a,b) in pairs if len(b)>1] #翻转（ipnyin）位置改变\n",
    "    replaces = [a+c+b[1:] for (a,b) in pairs for c in alphabet if b] #取代\n",
    "    inserts = [a+c+b for (a,b) in pairs for c in alphabet]##\n",
    "    return set(deletes+transposes+replaces+inserts)"
   ]
  },
  {
   "cell_type": "code",
   "execution_count": 107,
   "metadata": {},
   "outputs": [
    {
     "data": {
      "text/plain": [
       "[('', 'pinyin'),\n",
       " ('p', 'inyin'),\n",
       " ('pi', 'nyin'),\n",
       " ('pin', 'yin'),\n",
       " ('piny', 'in'),\n",
       " ('pinyi', 'n'),\n",
       " ('pinyin', '')]"
      ]
     },
     "execution_count": 107,
     "metadata": {},
     "output_type": "execute_result"
    }
   ],
   "source": [
    "splits('pinyin')"
   ]
  },
  {
   "cell_type": "code",
   "execution_count": 108,
   "metadata": {},
   "outputs": [
    {
     "name": "stdout",
     "output_type": "stream",
     "text": [
      "{'pinyin'}\n"
     ]
    }
   ],
   "source": [
    "print(edits0('pinyin'))"
   ]
  },
  {
   "cell_type": "code",
   "execution_count": 109,
   "metadata": {},
   "outputs": [
    {
     "name": "stdout",
     "output_type": "stream",
     "text": [
      "{'pinyn', 'pinypn', 'piiyin', 'ptnyin', 'linyin', 'pityin', 'pninyin', 'spinyin', 'pixnyin', 'cinyin', 'pcnyin', 'pminyin', 'pinynin', 'pinyiv', 'pikyin', 'wpinyin', 'pinyijn', 'dpinyin', 'pinlyin', 'pinyinm', 'jpinyin', 'pinlin', 'ipinyin', 'pinyoin', 'binyin', 'pianyin', 'pinyinh', 'piznyin', 'piwyin', 'pigyin', 'pidnyin', 'iinyin', 'pbinyin', 'pibnyin', 'picyin', 'pinygin', 'pinbin', 'pinyisn', 'pinjyin', 'pinybin', 'opinyin', 'pcinyin', 'einyin', 'pinyinl', 'pintyin', 'pinyind', 'pinyian', 'pinyon', 'pvinyin', 'kpinyin', 'pinyipn', 'pinyinj', 'pinymin', 'pinyio', 'pinyinx', 'pinypin', 'pinyjn', 'cpinyin', 'pingin', 'rinyin', 'pitnyin', 'pinain', 'pinyien', 'pinqin', 'pinyink', 'prnyin', 'pinysin', 'pinyinn', 'bpinyin', 'pinyjin', 'winyin', 'pqnyin', 'pinyiin', 'piniin', 'pinyid', 'pqinyin', 'oinyin', 'prinyin', 'ppnyin', 'painyin', 'pinmyin', 'pinykn', 'piryin', 'pdnyin', 'pxinyin', 'pinyiun', 'pinyixn', 'pinyih', 'tinyin', 'piniyin', 'pinyxn', 'pinyiz', 'pwinyin', 'ipnyin', 'pinyimn', 'pipnyin', 'xpinyin', 'piqyin', 'pintin', 'kinyin', 'pinrin', 'pinyhin', 'pinyil', 'pinyiny', 'psinyin', 'pivnyin', 'pinyins', 'pinydin', 'piyin', 'pingyin', 'npinyin', 'puinyin', 'pjnyin', 'pixyin', 'pinyic', 'pinxin', 'upinyin', 'pionyin', 'pincin', 'pienyin', 'pinyino', 'piunyin', 'pineyin', 'pynyin', 'pinyinp', 'inyin', 'pinyion', 'lpinyin', 'pinpin', 'pihnyin', 'pinyiu', 'qpinyin', 'picnyin', 'pinyicn', 'pinyie', 'ypinyin', 'pinyikn', 'pignyin', 'pinhin', 'pinyini', 'pindin', 'pginyin', 'pinyinv', 'piynin', 'pinyfin', 'pinymn', 'pinyitn', 'pinyit', 'piniyn', 'pilnyin', 'pinxyin', 'pinywn', 'pinybn', 'epinyin', 'pinyun', 'yinyin', 'pinywin', 'vpinyin', 'pinyyin', 'pinycin', 'pznyin', 'rpinyin', 'peinyin', 'pinyrn', 'pinygn', 'pknyin', 'piqnyin', 'pinyain', 'pinyivn', 'pyinyin', 'pimyin', 'piynyin', 'pinuyin', 'minyin', 'pinyir', 'penyin', 'pinycn', 'pinyim', 'pinyan', 'pijyin', 'pkinyin', 'pinyiln', 'pinyis', 'pinyinr', 'pinyidn', 'pfinyin', 'mpinyin', 'pirnyin', 'pinyizn', 'pdinyin', 'piwnyin', 'pinyzn', 'panyin', 'pinwin', 'pinydn', 'sinyin', 'pnnyin', 'pinyiq', 'pinyij', 'pipyin', 'ainyin', 'vinyin', 'pinyvin', 'pihyin', 'pinsin', 'pinytn', 'pinyirn', 'pnyin', 'pibyin', 'pifyin', 'pinyni', 'pzinyin', 'pivyin', 'pinyiy', 'pinyqn', 'pinyinu', 'pinyen', 'pinqyin', 'pinvyin', 'fpinyin', 'zinyin', 'pfnyin', 'tpinyin', 'pinylin', 'pinyqin', 'piknyin', 'pinytin', 'hinyin', 'pizyin', 'ninyin', 'plinyin', 'pinyyn', 'pinyein', 'pinfyin', 'pinyihn', 'pisyin', 'piayin', 'hpinyin', 'pinyiyn', 'pinin', 'pinyina', 'gpinyin', 'pinyrin', 'plnyin', 'pinhyin', 'pinyiwn', 'uinyin', 'pinyign', 'zpinyin', 'pinyii', 'pindyin', 'pinyuin', 'piuyin', 'poinyin', 'pinying', 'pinuin', 'pinwyin', 'pinykin', 'pijnyin', 'phnyin', 'pgnyin', 'apinyin', 'pinnyin', 'ginyin', 'psnyin', 'pinyinf', 'pwnyin', 'pioyin', 'pinayin', 'pinyinw', 'pbnyin', 'pinbyin', 'punyin', 'pinyiw', 'pinyint', 'pinyia', 'xinyin', 'pinzin', 'pinyzin', 'pinsyin', 'pinzyin', 'pidyin', 'pimnyin', 'pinmin', 'pinyibn', 'pinyinb', 'ponyin', 'pniyin', 'pinkin', 'phinyin', 'pinpyin', 'pinoin', 'dinyin', 'pinkyin', 'pieyin', 'pinyinz', 'piinyin', 'pinyfn', 'pinryin', 'pilyin', 'jinyin', 'pincyin', 'ppinyin', 'pinyib', 'pinyip', 'pinyvn', 'qinyin', 'pifnyin', 'pinyxin', 'pinyinc', 'pinyix', 'pinoyin', 'pinjin', 'pinyln', 'pjinyin', 'pinyifn', 'ptinyin', 'pinyik', 'pmnyin', 'pinyhn', 'pinnin', 'pinysn', 'piyyin', 'pinyinq', 'pvnyin', 'pinfin', 'pinein', 'finyin', 'pinyiqn', 'pinyig', 'pinyi', 'pisnyin', 'pinyin', 'pxnyin', 'pinyif', 'pinynn', 'pinyine', 'pinvin'}\n"
     ]
    }
   ],
   "source": [
    "print(edits1('pinyin'))"
   ]
  },
  {
   "cell_type": "code",
   "execution_count": 110,
   "metadata": {},
   "outputs": [
    {
     "data": {
      "text/plain": [
       "'zhou'"
      ]
     },
     "execution_count": 110,
     "metadata": {},
     "output_type": "execute_result"
    }
   ],
   "source": [
    "correct('zhhou')"
   ]
  },
  {
   "cell_type": "code",
   "execution_count": 111,
   "metadata": {},
   "outputs": [
    {
     "data": {
      "text/plain": [
       "'zhu'"
      ]
     },
     "execution_count": 111,
     "metadata": {},
     "output_type": "execute_result"
    }
   ],
   "source": [
    "correct('zohu')"
   ]
  },
  {
   "cell_type": "code",
   "execution_count": 112,
   "metadata": {},
   "outputs": [],
   "source": [
    "def correct_sequence_pinyin(text_pinyin):\n",
    "    return ' '.join(map(correct,text_pinyin.split()))  #map将correct函数用到 text_pinyin.split()列表里面的每一个函数"
   ]
  },
  {
   "cell_type": "code",
   "execution_count": 113,
   "metadata": {},
   "outputs": [
    {
     "data": {
      "text/plain": [
       "'wo xiang shang qin hua da xue'"
      ]
     },
     "execution_count": 113,
     "metadata": {},
     "output_type": "execute_result"
    }
   ],
   "source": [
    "correct_sequence_pinyin('wo xiaang shagn qin hua da xue')"
   ]
  },
  {
   "cell_type": "code",
   "execution_count": null,
   "metadata": {},
   "outputs": [],
   "source": [
    "#语言模型"
   ]
  },
  {
   "cell_type": "code",
   "execution_count": 103,
   "metadata": {},
   "outputs": [
    {
     "data": {
      "text/plain": [
       "120"
      ]
     },
     "execution_count": 103,
     "metadata": {},
     "output_type": "execute_result"
    }
   ],
   "source": [
    "from functools import reduce\n",
    "import operator as op\n",
    "reduce(op.mul,[1,2,3,4,5])  #mul表示相乘"
   ]
  },
  {
   "cell_type": "code",
   "execution_count": 104,
   "metadata": {},
   "outputs": [],
   "source": [
    "#定义1-gram模型\n",
    "def _1_gram_prob_words(words):\n",
    "    return reduce(op.mul,[prob_one_word(w) for w in words]) #循环元素里做一个连乘"
   ]
  },
  {
   "cell_type": "code",
   "execution_count": 106,
   "metadata": {},
   "outputs": [],
   "source": [
    "#定义_2gram模型\n",
    "def _2_gram_model(words:str):  \n",
    "    words  = words.split()\n",
    "    prob = 1\n",
    "    for i in range(len(words)-1): #因为后面有+1,所以要减1，否则就报错了\n",
    "        word = words[i]\n",
    "        next_word = words[i+1]  #i+1就超出范围了\n",
    "        \n",
    "        _two_gram_prob = prob_2_word(word+next_word)\n",
    "        _one_gram_prob = prob_one_word(next_word)\n",
    "        \n",
    "        prob *= _two_gram_prob / _one_gram_prob  ##连乘\n",
    "        \n",
    "    prob *= prob_one_word(words[-1])  \n",
    "    \n",
    "    return prob"
   ]
  },
  {
   "cell_type": "code",
   "execution_count": 122,
   "metadata": {},
   "outputs": [],
   "source": [
    "def get_candidates_deep(word):\n",
    "    candidates = (known(edists0(word)) or\n",
    "                  known(edists1(word)) or\n",
    "                  known(edists2(word)) or\n",
    "                  set([word]))\n",
    "                  \n",
    "    return candidates"
   ]
  },
  {
   "cell_type": "code",
   "execution_count": 123,
   "metadata": {},
   "outputs": [],
   "source": [
    "def correct_words_pair_2_gram(word_pair,topn=10):\n",
    "    head,tail = word_pair.split()\n",
    "    \n",
    "    head_candidates = get_candidates_deep(head)\n",
    "    tail_candidates = get_candidates_deep(tail)\n",
    "    \n",
    "    return sorted([(h,t) for h in head_candidates for t in tail_candidates],\n",
    "               key = lambda x:_2_gram_model(' '.join(x)),reverse=True)[:topn]"
   ]
  },
  {
   "cell_type": "code",
   "execution_count": 34,
   "metadata": {},
   "outputs": [],
   "source": [
    "correct_words_pair_2_gram('ssangyxe')"
   ]
  },
  {
   "cell_type": "markdown",
   "metadata": {},
   "source": [
    "# Todo.Complete the Pinyin auto-correction problem\n",
    " \n",
    "\n",
    "\n",
    "### 如何在不带空格的时候完成自动修整？--> 如何完成拼音的自动分割？   \n",
    "###### 提示：使用语言模型"
   ]
  },
  {
   "cell_type": "code",
   "execution_count": 36,
   "metadata": {},
   "outputs": [],
   "source": [
    "woyaoshangqinghua\n",
    "w yaoshangqinghua\n",
    "wo yaoshangqinghua\n",
    "woyao shangqinghua\n",
    "\n",
    "-> DP\n",
    "\n",
    "#输入woyaoshangqingh\n",
    "输出：wo yao shang qing hua, #类比切钢材， DP算法，需要一个指标评判多好多坏，需要用到语言模型，后面就可以用纠正函数去纠正了"
   ]
  },
  {
   "cell_type": "code",
   "execution_count": null,
   "metadata": {},
   "outputs": [],
   "source": [
    "https://blog.csdn.net/qq_32562429/article/details/98170958"
   ]
  },
  {
   "cell_type": "code",
   "execution_count": 2,
   "metadata": {},
   "outputs": [],
   "source": [
    "import pinyin\n",
    "import re\n",
    "from collections import Counter,defaultdict"
   ]
  },
  {
   "cell_type": "code",
   "execution_count": 3,
   "metadata": {},
   "outputs": [],
   "source": [
    "with open('../data/article_9k.txt',encoding='utf-8') as f:\n",
    "    texts = f.read()"
   ]
  },
  {
   "cell_type": "code",
   "execution_count": 4,
   "metadata": {},
   "outputs": [],
   "source": [
    "pinyin_corpus = pinyin.get(texts, format='strip',delimiter=' ')\n",
    "pinyin_corpus = re.findall('[a-z]+',pinyin_corpus.lower())\n",
    "pinyin_corpus = ''.join(pinyin_corpus)"
   ]
  },
  {
   "cell_type": "code",
   "execution_count": 10,
   "metadata": {},
   "outputs": [],
   "source": [
    "alphabet = 'abcdefghijklmnopqrstuvwxyz'\n",
    "\n",
    "def splits(word):\n",
    "    return [(word[:i],word[i:]) for i in range(len(word)+1)]\n",
    "\n",
    "def edits1(word):\n",
    "    pairs = splits(word)\n",
    "    deletes = [a+b[1:] for (a,b) in pairs if b]\n",
    "    transposes = [a+b[1] + b[0] + b[2:] for (a,b) in pairs if len(b)>1] \n",
    "    replaces = [a+c+b[1:] for (a,b) in pairs for c in alphabet if b]\n",
    "    inserts = [a+c+b for (a,b) in pairs for c in alphabet]\n",
    "    return set(deletes+transposes+replaces+inserts)\n",
    "\n",
    "def edits2(word):\n",
    "    return {e2 for e1 in edits1(word) for e2 in edits1(e1)}"
   ]
  },
  {
   "cell_type": "code",
   "execution_count": 11,
   "metadata": {},
   "outputs": [],
   "source": [
    "def correct_pinyin(word):\n",
    "    if word in pinyin_corpus:\n",
    "        return word\n",
    "    else:\n",
    "        edits1_words = edits1(word)\n",
    "        correct_words_1 = [(w, len(re.findall(w, pinyin_corpus))) for w in edits1_words if w in pinyin_corpus]\n",
    "        if len(correct_words_1) != 0:\n",
    "            return max(correct_words_1, key = lambda x: x[1])[0]\n",
    "        else:\n",
    "            edits2_words = edits2(word)\n",
    "            correct_words_2 = [(w, len(re.findall(w, pinyin_corpus))) for w in edits2_words if w in pinyin_corpus]\n",
    "            if len(correct_words_2) != 0:\n",
    "                return max(correct_words_2, key = lambda x: x[1])[0]\n",
    "            else:\n",
    "                return word"
   ]
  },
  {
   "cell_type": "code",
   "execution_count": 14,
   "metadata": {},
   "outputs": [
    {
     "data": {
      "text/plain": [
       "'beijingdaxue'"
      ]
     },
     "execution_count": 14,
     "metadata": {},
     "output_type": "execute_result"
    }
   ],
   "source": [
    "correct_pinyin('biejingdaxue')"
   ]
  },
  {
   "cell_type": "code",
   "execution_count": null,
   "metadata": {},
   "outputs": [],
   "source": [
    "#待优化"
   ]
  }
 ],
 "metadata": {
  "kernelspec": {
   "display_name": "Python 3",
   "language": "python",
   "name": "python3"
  },
  "language_info": {
   "codemirror_mode": {
    "name": "ipython",
    "version": 3
   },
   "file_extension": ".py",
   "mimetype": "text/x-python",
   "name": "python",
   "nbconvert_exporter": "python",
   "pygments_lexer": "ipython3",
   "version": "3.7.3"
  },
  "toc": {
   "base_numbering": 1,
   "nav_menu": {},
   "number_sections": true,
   "sideBar": true,
   "skip_h1_title": false,
   "title_cell": "Table of Contents",
   "title_sidebar": "Contents",
   "toc_cell": false,
   "toc_position": {},
   "toc_section_display": true,
   "toc_window_display": false
  }
 },
 "nbformat": 4,
 "nbformat_minor": 2
}
