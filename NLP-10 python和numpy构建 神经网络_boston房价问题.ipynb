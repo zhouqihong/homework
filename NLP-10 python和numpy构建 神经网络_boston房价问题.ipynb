{
 "cells": [
  {
   "cell_type": "markdown",
   "metadata": {},
   "source": [
    "# 目标 用python和numpy构建神经网络"
   ]
  },
  {
   "cell_type": "markdown",
   "metadata": {},
   "source": [
    "Node\n",
    "forward: function,how to calculate the inputs\n",
    "backwards:Function,how to get the gradients when backprogogation\n",
    "gradients:Mapper,the gradient map the node of its inputs node \n",
    "inputs:List,the input nodes of this node\n",
    "outputs:List,the output node of this node"
   ]
  },
  {
   "cell_type": "markdown",
   "metadata": {},
   "source": [
    "## 面向对象的方式组织"
   ]
  },
  {
   "cell_type": "code",
   "execution_count": 136,
   "metadata": {},
   "outputs": [],
   "source": [
    "def add(a, b):\n",
    "    return a +ｂ"
   ]
  },
  {
   "cell_type": "code",
   "execution_count": 137,
   "metadata": {},
   "outputs": [],
   "source": [
    "var_int = 10\n",
    "var_2_int = 10"
   ]
  },
  {
   "cell_type": "code",
   "execution_count": 138,
   "metadata": {},
   "outputs": [
    {
     "data": {
      "text/plain": [
       "20"
      ]
     },
     "execution_count": 138,
     "metadata": {},
     "output_type": "execute_result"
    }
   ],
   "source": [
    "add(var_int, var_2_int)"
   ]
  },
  {
   "cell_type": "code",
   "execution_count": 139,
   "metadata": {},
   "outputs": [],
   "source": [
    "var_int = [100, 200]\n",
    "var_2_int = [122, 122233, 1231]"
   ]
  },
  {
   "cell_type": "code",
   "execution_count": 140,
   "metadata": {},
   "outputs": [
    {
     "data": {
      "text/plain": [
       "[100, 200, 122, 122233, 1231]"
      ]
     },
     "execution_count": 140,
     "metadata": {},
     "output_type": "execute_result"
    }
   ],
   "source": [
    "add(var_int, var_2_int)"
   ]
  },
  {
   "cell_type": "markdown",
   "metadata": {},
   "source": [
    "## 构建基类"
   ]
  },
  {
   "cell_type": "code",
   "execution_count": 301,
   "metadata": {},
   "outputs": [],
   "source": [
    "class Node:\n",
    "    \"\"\"每个Node在神经网络中将有这属性attributes和函数方法methods\"\"\"\n",
    "    def __init__(self,inputs=[]): #python里面添加s复数\n",
    "        \"\"\"if the node is the operator of \"ax+b\",the inputs will be x node, and the outputs of this is its sucessors\n",
    "        and the value is *ax+b*\n",
    "        \"\"\"\n",
    "        self.inputs = inputs \n",
    "       # self.outputs = outputs\n",
    "        self.value = None\n",
    "        self.outputs = []\n",
    "        self.gradients = {} #是一个空字典\n",
    "        \n",
    "        for node in self.inputs:  \n",
    "            node.outputs.append(self) # 建立一个链接关系\n",
    "        \n",
    "    def forward(self):\n",
    "        \"\"\"Forward propogation\n",
    "        compute the output value based on input nodes and store the value into self.value\n",
    "        \"\"\"\n",
    "        \n",
    "        raise NotImplemented #是一个虚类,没有实现\n",
    "    \n",
    "    def backward(self):\n",
    "        \"\"\"Back propogation\n",
    "        \n",
    "        compute the gradient of each input node and store the value into \"self.gredients\" \n",
    "        \"\"\"\n",
    "        \n",
    "        raise NotImplemented\n",
    "        "
   ]
  },
  {
   "cell_type": "code",
   "execution_count": 302,
   "metadata": {},
   "outputs": [],
   "source": [
    "class Input(Node):\n",
    "    def __init__(self, name=''):\n",
    "        Node.__init__(self,inputs=[])\n",
    "        self.name= name\n",
    "        \n",
    "    def forward(self, value=None):\n",
    "        if value is not None:\n",
    "            self.value = value\n",
    "        \n",
    "    \n",
    "    def backward(self):\n",
    "        self.gradients = {}\n",
    "        \n",
    "        for n in self.outputs:\n",
    "            grad_cost = n.gradients[self] #n对于self的偏导\n",
    "            self.gradients[self] = grad_cost #自己对自己的偏导\n",
    "            \n",
    "    def __repr__(self):\n",
    "         return 'Input Node: {}'.format(self.name)"
   ]
  },
  {
   "cell_type": "code",
   "execution_count": 303,
   "metadata": {},
   "outputs": [],
   "source": [
    "import numpy as np"
   ]
  },
  {
   "cell_type": "code",
   "execution_count": 304,
   "metadata": {},
   "outputs": [],
   "source": [
    "X = np.array([1,2,3])"
   ]
  },
  {
   "cell_type": "code",
   "execution_count": 305,
   "metadata": {},
   "outputs": [],
   "source": [
    "W = np.array([[1,2],[2,4],[3,5]])"
   ]
  },
  {
   "cell_type": "code",
   "execution_count": 306,
   "metadata": {},
   "outputs": [
    {
     "data": {
      "text/plain": [
       "(3,)"
      ]
     },
     "execution_count": 306,
     "metadata": {},
     "output_type": "execute_result"
    }
   ],
   "source": [
    "X.shape"
   ]
  },
  {
   "cell_type": "code",
   "execution_count": 307,
   "metadata": {},
   "outputs": [
    {
     "data": {
      "text/plain": [
       "(3, 2)"
      ]
     },
     "execution_count": 307,
     "metadata": {},
     "output_type": "execute_result"
    }
   ],
   "source": [
    "W.shape"
   ]
  },
  {
   "cell_type": "code",
   "execution_count": 308,
   "metadata": {},
   "outputs": [],
   "source": [
    "B = np.array([1,3])"
   ]
  },
  {
   "cell_type": "code",
   "execution_count": 309,
   "metadata": {},
   "outputs": [
    {
     "data": {
      "text/plain": [
       "array([15, 28])"
      ]
     },
     "execution_count": 309,
     "metadata": {},
     "output_type": "execute_result"
    }
   ],
   "source": [
    "np.dot(X, W) + B"
   ]
  },
  {
   "cell_type": "code",
   "execution_count": 310,
   "metadata": {},
   "outputs": [],
   "source": [
    "class Linear(Node):\n",
    "    def __init__(self, nodes, weights, bias):\n",
    "        self.w_node = weights\n",
    "        self.x_node = nodes\n",
    "        self.b_node = bias\n",
    "        Node.__init__(self, inputs=[nodes, weights, bias])\n",
    "    \n",
    "    def forward(self):\n",
    "        \"\"\"compute the wx + b using numpy\"\"\"\n",
    "        self.value = np.dot(self.x_node.value, self.w_node.value) + self.b_node.value\n",
    "    \n",
    "    def backward(self):\n",
    "        \n",
    "        for node in self.outputs:\n",
    "            #gradient_cost = node.gradients[self] #gradient_cost是一个矩阵\n",
    "            grad_cost = node.gradients[self]\n",
    "            \n",
    "            self.gradients[self.w_node] = np.dot(self.x_node.value.T, grad_cost) #加转置？？？\n",
    "            self.gradients[self.b_node] = np.sum(grad_cost * 1,axis=0, keepdims=False)\n",
    "            self.gradients[self.x_node] = np.dot(grad_cost, self.w_node.value.T)"
   ]
  },
  {
   "cell_type": "code",
   "execution_count": 311,
   "metadata": {},
   "outputs": [],
   "source": [
    "class Sigmoid(Node):\n",
    "    def __init__(self, node):\n",
    "        Node.__init__(self, [node])\n",
    "        self.x_node = node\n",
    "        \n",
    "    def _sigmoid(self,x):\n",
    "        return 1. / (1 + np.exp(-1 * x)) #sigmoid函数\n",
    "    \n",
    "    def forward(self):\n",
    "        self.value = self._sigmoid(self.x_node.value)\n",
    "        \n",
    "    def backward(self):\n",
    "        y = self.value\n",
    "        \n",
    "        self.partial = y * (1 - y)\n",
    "        \n",
    "        for n in self.outputs:\n",
    "            grad_cost = n.gradients[self]\n",
    "            \n",
    "            self.gradients[self.x_node] = grad_cost * self.partial     "
   ]
  },
  {
   "cell_type": "code",
   "execution_count": 312,
   "metadata": {},
   "outputs": [],
   "source": [
    "W1 = np.array([[1, 1], [1, 2], [1, 3]])\n",
    "W2 = np.array([[1, 1], [0, 2], [1, 4]])"
   ]
  },
  {
   "cell_type": "code",
   "execution_count": 313,
   "metadata": {},
   "outputs": [
    {
     "data": {
      "text/plain": [
       "array([[0],\n",
       "       [0],\n",
       "       [1],\n",
       "       [0],\n",
       "       [0],\n",
       "       [1]], dtype=int32)"
      ]
     },
     "execution_count": 313,
     "metadata": {},
     "output_type": "execute_result"
    }
   ],
   "source": [
    "(W1.reshape(-1, 1) - W2.reshape(-1, 1)) ** 2"
   ]
  },
  {
   "cell_type": "code",
   "execution_count": 314,
   "metadata": {},
   "outputs": [],
   "source": [
    "class MSE(Node):\n",
    "    def __init__(self, y_true, y_hat):\n",
    "        self.y_true_node = y_true\n",
    "        self.y_hat_node = y_hat\n",
    "        Node.__init__(self, inputs=[y_true, y_hat])\n",
    "    \n",
    "    def forward(self):\n",
    "        y_true_flatten = self.y_true_node.value.reshape(-1,1)\n",
    "        y_hat_flatten = self.y_hat_node.value.reshape(-1,1)  #写成了reshaper\n",
    "       \n",
    "        self.diff = y_true_flatten - y_hat_flatten\n",
    "        \n",
    "        self.value = np.mean(self.diff**2)\n",
    "    \n",
    "    def backward(self):\n",
    "        n = self.y_hat_node.value.shape[0]\n",
    "        \n",
    "        self.gradients[self.y_true_node] = (2 / n) * self.diff\n",
    "        self.gradients[self.y_hat_node] = (-2 / n) * self.diff     "
   ]
  },
  {
   "cell_type": "code",
   "execution_count": 315,
   "metadata": {},
   "outputs": [],
   "source": [
    "def training_one_batch(topological_sorted_graph):\n",
    "    #graph 是经过拓扑排序之后的一个list\n",
    "    for node in topological_sorted_graph:\n",
    "        node.forward()\n",
    "        \n",
    "    for node in topological_sorted_graph[::-1]:\n",
    "        node.backward()"
   ]
  },
  {
   "cell_type": "markdown",
   "metadata": {},
   "source": [
    "## 框架\n",
    "def topological_sort():\n",
    "    pass\n",
    "  \n",
    "def sgd_update():\n",
    "    pass\n",
    "\n",
    "from sklearn.datasets import load_boston\n",
    "data = load_boston"
   ]
  },
  {
   "cell_type": "code",
   "execution_count": 316,
   "metadata": {},
   "outputs": [],
   "source": [
    "def topological_sort(data_with_value):\n",
    "    feed_dict = data_with_value\n",
    "    input_nodes = [n for n in feed_dict.keys()]\n",
    "\n",
    "    G = {}\n",
    "    nodes = [n for n in input_nodes]\n",
    "    while len(nodes) > 0:\n",
    "        n = nodes.pop(0)\n",
    "        if n not in G:\n",
    "            G[n] = {'in':set(), 'out':set()}\n",
    "        for m in n.outputs:\n",
    "            if m not in G:\n",
    "                G[m] = {'in': set(),'out':set()}\n",
    "            G[n]['out'].add(m)\n",
    "            G[m]['in'].add(n)\n",
    "            nodes.append(m)\n",
    "            \n",
    "    L = []\n",
    "    S = set(input_nodes)\n",
    "    while len(S) >0:\n",
    "        n = S.pop()\n",
    "        \n",
    "        if isinstance(n, Input):\n",
    "            n.value = feed_dict[n]\n",
    "            ## if n is Input Node, set n'value as \n",
    "            ## feed_dict[n]\n",
    "            ## else, n's value is caculate as its\n",
    "            ## inbounds\n",
    "            \n",
    "        L.append(n)\n",
    "        for m in n.outputs:\n",
    "            G[n]['out'].remove(m)\n",
    "            G[m]['in'].remove(n)\n",
    "            # if no other incoming edges add to S\n",
    "            if len(G[m]['in']) == 0:\n",
    "                S.add(m)\n",
    "    return L\n",
    "            "
   ]
  },
  {
   "cell_type": "code",
   "execution_count": 317,
   "metadata": {},
   "outputs": [],
   "source": [
    "def sgd_update(trainable_nodes, learning_rate=1e-2):   #1e-2????\n",
    "    for t in trainable_nodes:\n",
    "        t.value += -1 * learning_rate * t.gradients[t]"
   ]
  },
  {
   "cell_type": "code",
   "execution_count": 318,
   "metadata": {},
   "outputs": [],
   "source": [
    "from sklearn.datasets import load_boston"
   ]
  },
  {
   "cell_type": "code",
   "execution_count": 319,
   "metadata": {},
   "outputs": [],
   "source": [
    "data = load_boston()"
   ]
  },
  {
   "cell_type": "code",
   "execution_count": 320,
   "metadata": {},
   "outputs": [],
   "source": [
    "X_ = data['data']   "
   ]
  },
  {
   "cell_type": "code",
   "execution_count": 321,
   "metadata": {},
   "outputs": [],
   "source": [
    "#help(load_boston) 查里面的每个维度"
   ]
  },
  {
   "cell_type": "code",
   "execution_count": 322,
   "metadata": {},
   "outputs": [
    {
     "data": {
      "text/plain": [
       "array([1, 2, 3])"
      ]
     },
     "execution_count": 322,
     "metadata": {},
     "output_type": "execute_result"
    }
   ],
   "source": [
    "X"
   ]
  },
  {
   "cell_type": "code",
   "execution_count": 323,
   "metadata": {},
   "outputs": [],
   "source": [
    "y_ = data['target']"
   ]
  },
  {
   "cell_type": "code",
   "execution_count": 324,
   "metadata": {},
   "outputs": [
    {
     "data": {
      "text/plain": [
       "array([6.320e-03, 1.800e+01, 2.310e+00, 0.000e+00, 5.380e-01, 6.575e+00,\n",
       "       6.520e+01, 4.090e+00, 1.000e+00, 2.960e+02, 1.530e+01, 3.969e+02,\n",
       "       4.980e+00])"
      ]
     },
     "execution_count": 324,
     "metadata": {},
     "output_type": "execute_result"
    }
   ],
   "source": [
    "X_[0]"
   ]
  },
  {
   "cell_type": "code",
   "execution_count": 325,
   "metadata": {},
   "outputs": [
    {
     "data": {
      "text/plain": [
       "24.0"
      ]
     },
     "execution_count": 325,
     "metadata": {},
     "output_type": "execute_result"
    }
   ],
   "source": [
    "y_[0]"
   ]
  },
  {
   "cell_type": "code",
   "execution_count": 326,
   "metadata": {},
   "outputs": [],
   "source": [
    "X_ =(X_ - np.mean(X_, axis=0)) / np.std(X_,axis=0)"
   ]
  },
  {
   "cell_type": "code",
   "execution_count": 327,
   "metadata": {},
   "outputs": [],
   "source": [
    "n_features = X_.shape[1]"
   ]
  },
  {
   "cell_type": "code",
   "execution_count": 328,
   "metadata": {},
   "outputs": [],
   "source": [
    "n_hidden = 10"
   ]
  },
  {
   "cell_type": "code",
   "execution_count": 329,
   "metadata": {},
   "outputs": [],
   "source": [
    "n_hidden_2 = 10"
   ]
  },
  {
   "cell_type": "code",
   "execution_count": 330,
   "metadata": {},
   "outputs": [
    {
     "data": {
      "text/plain": [
       "(3,)"
      ]
     },
     "execution_count": 330,
     "metadata": {},
     "output_type": "execute_result"
    }
   ],
   "source": [
    "X.shape"
   ]
  },
  {
   "cell_type": "code",
   "execution_count": 331,
   "metadata": {},
   "outputs": [],
   "source": [
    "#?np.random.randn # 生成标准正态分布"
   ]
  },
  {
   "cell_type": "code",
   "execution_count": 332,
   "metadata": {},
   "outputs": [],
   "source": [
    "W1_, b1_ = np.random.randn(n_features,n_hidden), np.zeros(n_hidden)"
   ]
  },
  {
   "cell_type": "code",
   "execution_count": 333,
   "metadata": {},
   "outputs": [],
   "source": [
    "#b1 = np.zeros(n_hidden) #可以分开写，也可以两行合并在一起"
   ]
  },
  {
   "cell_type": "code",
   "execution_count": 334,
   "metadata": {},
   "outputs": [],
   "source": [
    "W2_, b2_ = np.random.randn(n_hidden,1), np.zeros(1)"
   ]
  },
  {
   "cell_type": "code",
   "execution_count": 335,
   "metadata": {},
   "outputs": [],
   "source": [
    "#W1_, b1_ = np.random.randn(n_features, n_hidden),np.zeros(n_hidden)"
   ]
  },
  {
   "cell_type": "code",
   "execution_count": 336,
   "metadata": {},
   "outputs": [],
   "source": [
    "#W2_, b2_ = np.random.randn(n_hidden, 1), np.zeros(1)"
   ]
  },
  {
   "cell_type": "code",
   "execution_count": 337,
   "metadata": {},
   "outputs": [],
   "source": [
    "#b1 = np.zeros(n_hidden)"
   ]
  },
  {
   "cell_type": "code",
   "execution_count": 338,
   "metadata": {},
   "outputs": [],
   "source": [
    "#W2 = np.random.randn(n_hidden, 1)"
   ]
  },
  {
   "cell_type": "code",
   "execution_count": 339,
   "metadata": {},
   "outputs": [],
   "source": [
    "#b2 = np.zeros(1)"
   ]
  },
  {
   "cell_type": "markdown",
   "metadata": {},
   "source": [
    "# Build a graph connection\n",
    "## 1st.Build Nodes in this graph"
   ]
  },
  {
   "cell_type": "code",
   "execution_count": 340,
   "metadata": {},
   "outputs": [],
   "source": [
    "X, y = Input(name='X'),Input(name='y') \n",
    "W1, b1 = Input('W1'), Input(name='b1')\n",
    "W2, b2 = Input('W2'), Input(name='b2')"
   ]
  },
  {
   "cell_type": "markdown",
   "metadata": {},
   "source": [
    "## 2nd build connection relationship"
   ]
  },
  {
   "cell_type": "code",
   "execution_count": 341,
   "metadata": {},
   "outputs": [],
   "source": [
    "linear_output = Linear(X, W1, b1)\n",
    "sigmoid_output = Sigmoid(linear_output)\n",
    "yhat = Linear(sigmoid_output, W2, b2)\n",
    "loss = MSE(y, yhat)"
   ]
  },
  {
   "cell_type": "code",
   "execution_count": 342,
   "metadata": {},
   "outputs": [],
   "source": [
    "input_node_with_value = {\n",
    "    X: X_,\n",
    "    y: y_,\n",
    "    W1: W1_,\n",
    "    W2: W2_,\n",
    "    b1: b1_,\n",
    "    b2: b2_,\n",
    "}"
   ]
  },
  {
   "cell_type": "code",
   "execution_count": 343,
   "metadata": {},
   "outputs": [],
   "source": [
    "input_node_with_value = {  # -> feed_dict \n",
    "    X: X_, \n",
    "    y: y_, \n",
    "    W1: W1_, \n",
    "    W2: W2_, \n",
    "    b1: b1_, \n",
    "    b2: b2_\n",
    "}"
   ]
  },
  {
   "cell_type": "code",
   "execution_count": 344,
   "metadata": {},
   "outputs": [],
   "source": [
    "graph = topological_sort(input_node_with_value)"
   ]
  },
  {
   "cell_type": "code",
   "execution_count": 345,
   "metadata": {},
   "outputs": [
    {
     "data": {
      "text/plain": [
       "[Input Node: X,\n",
       " Input Node: W1,\n",
       " Input Node: b2,\n",
       " Input Node: W2,\n",
       " Input Node: b1,\n",
       " Input Node: y,\n",
       " <__main__.Linear at 0x2107f159f60>,\n",
       " <__main__.Sigmoid at 0x2107f159eb8>,\n",
       " <__main__.Linear at 0x2107f159c18>,\n",
       " <__main__.MSE at 0x2107f159908>]"
      ]
     },
     "execution_count": 345,
     "metadata": {},
     "output_type": "execute_result"
    }
   ],
   "source": [
    "graph"
   ]
  },
  {
   "cell_type": "code",
   "execution_count": 346,
   "metadata": {},
   "outputs": [],
   "source": [
    "from sklearn.utils import resample"
   ]
  },
  {
   "cell_type": "code",
   "execution_count": 347,
   "metadata": {},
   "outputs": [
    {
     "data": {
      "text/plain": [
       "array([54, 50, 47, 59, 64, 71, 16, 61, 24, 27])"
      ]
     },
     "execution_count": 347,
     "metadata": {},
     "output_type": "execute_result"
    }
   ],
   "source": [
    "np.random.choice(range(100), size=10, replace=True)"
   ]
  },
  {
   "cell_type": "code",
   "execution_count": 348,
   "metadata": {},
   "outputs": [],
   "source": [
    "def run(dictionary):\n",
    "    return topological_sort(dictionary)"
   ]
  },
  {
   "cell_type": "code",
   "execution_count": 349,
   "metadata": {},
   "outputs": [
    {
     "name": "stdout",
     "output_type": "stream",
     "text": [
      "Epoch: 1, loss = 605.148\n",
      "Epoch: 101, loss = 36.621\n",
      "Epoch: 201, loss = 25.506\n",
      "Epoch: 301, loss = 20.415\n",
      "Epoch: 401, loss = 17.558\n",
      "Epoch: 501, loss = 16.164\n",
      "Epoch: 601, loss = 16.766\n",
      "Epoch: 701, loss = 12.621\n",
      "Epoch: 801, loss = 13.406\n",
      "Epoch: 901, loss = 17.585\n",
      "Epoch: 1001, loss = 12.682\n",
      "Epoch: 1101, loss = 12.054\n",
      "Epoch: 1201, loss = 12.078\n",
      "Epoch: 1301, loss = 9.461\n",
      "Epoch: 1401, loss = 13.730\n",
      "Epoch: 1501, loss = 9.836\n",
      "Epoch: 1601, loss = 9.716\n",
      "Epoch: 1701, loss = 10.322\n",
      "Epoch: 1801, loss = 7.831\n",
      "Epoch: 1901, loss = 8.775\n",
      "Epoch: 2001, loss = 8.155\n",
      "Epoch: 2101, loss = 9.931\n",
      "Epoch: 2201, loss = 10.466\n",
      "Epoch: 2301, loss = 7.083\n",
      "Epoch: 2401, loss = 13.768\n",
      "Epoch: 2501, loss = 11.887\n",
      "Epoch: 2601, loss = 7.427\n",
      "Epoch: 2701, loss = 8.563\n",
      "Epoch: 2801, loss = 8.477\n",
      "Epoch: 2901, loss = 6.808\n",
      "Epoch: 3001, loss = 8.833\n",
      "Epoch: 3101, loss = 10.271\n",
      "Epoch: 3201, loss = 8.665\n",
      "Epoch: 3301, loss = 10.342\n",
      "Epoch: 3401, loss = 8.553\n",
      "Epoch: 3501, loss = 9.967\n",
      "Epoch: 3601, loss = 9.031\n",
      "Epoch: 3701, loss = 7.492\n",
      "Epoch: 3801, loss = 6.979\n",
      "Epoch: 3901, loss = 7.737\n",
      "Epoch: 4001, loss = 8.871\n",
      "Epoch: 4101, loss = 7.521\n",
      "Epoch: 4201, loss = 7.947\n",
      "Epoch: 4301, loss = 8.346\n",
      "Epoch: 4401, loss = 7.434\n",
      "Epoch: 4501, loss = 8.203\n",
      "Epoch: 4601, loss = 6.583\n",
      "Epoch: 4701, loss = 6.544\n",
      "Epoch: 4801, loss = 8.995\n",
      "Epoch: 4901, loss = 6.363\n"
     ]
    }
   ],
   "source": [
    "losses = []\n",
    "epochs = 5000\n",
    "\n",
    "batch_size = 64\n",
    "\n",
    "steps_per_epoch = X_.shape[0] // batch_size\n",
    "\n",
    "\n",
    "for i in range(epochs):\n",
    "    loss = 0\n",
    "    \n",
    "    for batch in range(steps_per_epoch):\n",
    "        #indices = np.random.choice(range(X_.shape[0]), size=10, replace=True)\n",
    "        #X_batch = X_[indices]\n",
    "        #y_batch = y_[indices]\n",
    "        X_batch, y_batch = resample(X_, y_, n_samples=batch_size)\n",
    "        \n",
    "        X.value = X_batch\n",
    "        y.value = y_batch\n",
    "        \n",
    "#         input_node_with_value = {  # -> feed_dict \n",
    "#             X: X_batch, \n",
    "#             y: y_batch, \n",
    "#             W1: W1.value, \n",
    "#             W2: W2.value, \n",
    "#             b1: b1.value, \n",
    "#             b2: b2.value,\n",
    "#         }\n",
    "        \n",
    "#         graph = topological_sort(input_node_with_value)\n",
    "        \n",
    "        training_one_batch(graph)\n",
    "        \n",
    "        learning_rate = 1e-3\n",
    "        \n",
    "        sgd_update(trainable_nodes=[W1, W2, b1, b2], learning_rate=learning_rate)\n",
    "        \n",
    "        loss += graph[-1].value\n",
    "        \n",
    "    if i % 100 == 0:\n",
    "        print('Epoch: {}, loss = {:.3f}'.format(i+1, loss/steps_per_epoch))\n",
    "        losses.append(loss)"
   ]
  },
  {
   "cell_type": "code",
   "execution_count": 350,
   "metadata": {},
   "outputs": [],
   "source": [
    "import matplotlib.pyplot as plt"
   ]
  },
  {
   "cell_type": "code",
   "execution_count": 351,
   "metadata": {},
   "outputs": [
    {
     "data": {
      "text/plain": [
       "[<matplotlib.lines.Line2D at 0x21000184828>]"
      ]
     },
     "execution_count": 351,
     "metadata": {},
     "output_type": "execute_result"
    },
    {
     "data": {
      "image/png": "[encoded data removed]",
      "text/plain": [
       "<Figure size 432x288 with 1 Axes>"
      ]
     },
     "metadata": {
      "needs_background": "light"
     },
     "output_type": "display_data"
    }
   ],
   "source": [
    "plt.plot(losses)"
   ]
  },
  {
   "cell_type": "markdown",
   "metadata": {},
   "source": [
    "学习心得：夯实基础很重要，写程序5分钟，debug两天，血的教训！多谢李明晓老师的帮助，很多基础性的错误，这次错误在__inti_(少写了短横)，reshaper多了“r”，diff，少些了“i”，加油！视频中老师的代码也可能出错，以最后的版本为准！\n",
    "AttributeError: 'numpy.ndarray' object has no attribute 'reshaper'\n",
    "20190915于北京"
   ]
  }
 ],
 "metadata": {
  "kernelspec": {
   "display_name": "Python 3",
   "language": "python",
   "name": "python3"
  },
  "language_info": {
   "codemirror_mode": {
    "name": "ipython",
    "version": 3
   },
   "file_extension": ".py",
   "mimetype": "text/x-python",
   "name": "python",
   "nbconvert_exporter": "python",
   "pygments_lexer": "ipython3",
   "version": "3.7.3"
  }
 },
 "nbformat": 4,
 "nbformat_minor": 2
}
