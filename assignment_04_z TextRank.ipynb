{
 "cells": [
  {
   "cell_type": "code",
   "execution_count": 13,
   "metadata": {},
   "outputs": [],
   "source": [
    "import pandas as pd\n",
    "import numpy as np\n",
    "import jieba\n",
    "from gensim.models import Word2Vec\n",
    "from tqdm import tqdm_notebook\n",
    "import re"
   ]
  },
  {
   "cell_type": "code",
   "execution_count": 4,
   "metadata": {},
   "outputs": [],
   "source": [
    "# 读取数据，创建训练词向量的语料\n",
    "data = pd.read_csv('../data/sqlResult_1558435.csv',encoding='gb18030')\n",
    "data = data.dropna(subset=['content'])\n",
    "texts = list(data['content'])[:100]\n",
    "corpus = [list(jieba.cut(text.strip())) for text in texts]"
   ]
  },
  {
   "cell_type": "code",
   "execution_count": 5,
   "metadata": {},
   "outputs": [
    {
     "name": "stderr",
     "output_type": "stream",
     "text": [
      "C:\\ProgramData\\Anaconda3\\lib\\site-packages\\gensim\\models\\base_any2vec.py:743: UserWarning: C extension not loaded, training will be slow. Install a C compiler and reinstall gensim for fast training.\n",
      "  \"C extension not loaded, training will be slow. \"\n"
     ]
    },
    {
     "name": "stdout",
     "output_type": "stream",
     "text": [
      "324.49342250823975\n"
     ]
    }
   ],
   "source": [
    "# 训词向量\n",
    "import time\n",
    "start = time.time()\n",
    "w2v_model = Word2Vec(corpus[:100], size=50, window=5, min_count=1, workers=4)\n",
    "end = time.time()\n",
    "print(end - start)"
   ]
  },
  {
   "cell_type": "code",
   "execution_count": null,
   "metadata": {},
   "outputs": [],
   "source": [
    "#model.save('../data/w2v_model')"
   ]
  },
  {
   "cell_type": "code",
   "execution_count": 41,
   "metadata": {},
   "outputs": [],
   "source": [
    "# 创建图的节点（词语）\n",
    "def create_nodes(word_list, window_size):\n",
    "    nodes_dict = {}\n",
    "    word_list_len = len(word_list)\n",
    "    for index, word in enumerate(word_list):\n",
    "        left = index - window_size + 1    # 词窗左边界\n",
    "        right = index + window_size      # 词窗右边界\n",
    "        win_words = set(word_list[left:right])  # 和word在一个词窗里共现的所有词语\n",
    "        if word not in nodes_dict:\n",
    "            nodes_dict[word] = win_words\n",
    "        else:\n",
    "            nodes_dict[word] = nodes_dict[word] | win_words\n",
    "    return nodes_dict\n",
    "\n",
    "\n",
    "# 创建概率转移矩阵(基于词向量的相似度)\n",
    "def create_matrix(word_list, nodes_dict):\n",
    "    word_set = set(word_list)\n",
    "    matrix = np.zeros([len(word_set), len(word_set)])\n",
    "    word_index = {}    # 记录词的index\n",
    "    index_dict = {}   # 记录节点index对应的词\n",
    "\n",
    "    for i, v in enumerate(word_set):\n",
    "        word_index[v] = i\n",
    "        index_dict[i] = v\n",
    "    for word_i in word_list:\n",
    "        for word_j in nodes_dict[word_i]:\n",
    "            if word_i != word_j:\n",
    "                wv_i = w2v_model.wv[word_i]\n",
    "                wv_j = w2v_model.wv[word_j]\n",
    "                matrix[word_index[word_i]][word_index[word_j]] = np.dot(wv_i,wv_j)/(np.linalg.norm(wv_i)*np.linalg.norm(wv_j)) + 1\n",
    "    matrix = matrix / np.sum(matrix, axis=0)  # 列归一化\n",
    "    return matrix, index_dict\n",
    "\n",
    "\n",
    "# textrank迭代计算\n",
    "def textrank(word_list, matrix, iternum, d=0.85):\n",
    "    textrank_value = np.ones([len(set(word_list)), 1])\n",
    "    for i in tqdm_notebook(range(iternum)):\n",
    "        textrank_value = (1 - d) + d * np.dot(matrix, textrank_value)\n",
    "    return textrank_value\n",
    "\n",
    "\n",
    "# 根据textrank值抽取top k的词语作为关键词\n",
    "def keyword_extract(index_dict, textrank_value, top_k):\n",
    "    word_tr = {}\n",
    "    for i in range(len(textrank_value)):\n",
    "        word_tr[index_dict[i]] = textrank_value[i][0]\n",
    "    sorted_words = sorted(word_tr.items(), key = lambda x : x[1], reverse=True)\n",
    "    return sorted_words[:top_k]\n"
   ]
  },
  {
   "cell_type": "code",
   "execution_count": 51,
   "metadata": {},
   "outputs": [
    {
     "data": {
      "application/vnd.jupyter.widget-view+json": {
       "model_id": "566a863851c84a7bb9acd0bfe68ddbe4",
       "version_major": 2,
       "version_minor": 0
      },
      "text/plain": [
       "HBox(children=(IntProgress(value=0), HTML(value='')))"
      ]
     },
     "metadata": {},
     "output_type": "display_data"
    },
    {
     "name": "stdout",
     "output_type": "stream",
     "text": [
      "\n"
     ]
    }
   ],
   "source": [
    "# 导入停用词\n",
    "with open('../data/chinese_stopwords.txt','r',encoding='utf-8') as f:\n",
    "    stop_words = f.read().split('\\n')\n",
    "\n",
    "# 选择第一篇新闻进行测试\n",
    "# window_size=4，iternum=100，top_k=20\n",
    "document = texts[0]\n",
    "word_list = list(jieba.cut(re.sub('\\d| |\\r|\\n', ' ',document)))\n",
    "word_list = [w for w in word_list if w not in stop_words]\n",
    "nodes_dict = create_nodes(word_list, window_size=4)\n",
    "matrix, index_dict = create_matrix(word_list, nodes_dict)\n",
    "textrank_value = textrank(word_list, matrix, iternum=100)\n",
    "keywords = keyword_extract(index_dict, textrank_value, top_k=20)"
   ]
  },
  {
   "cell_type": "code",
   "execution_count": 52,
   "metadata": {},
   "outputs": [
    {
     "data": {
      "text/plain": [
       "[('MIUI', 2.067905053348265),\n",
       " ('发布', 1.967453042280757),\n",
       " ('机型', 1.753317935797683),\n",
       " ('精力', 1.5840166306620995),\n",
       " ('手机', 1.3402941223971716),\n",
       " ('外', 1.2657300257913153),\n",
       " ('款', 1.245150053410471),\n",
       " ('更新', 1.217069594010498),\n",
       " ('小米', 1.1948312651145234),\n",
       " ('含', 1.0964931194929033),\n",
       " ('开发', 1.0705965378166495),\n",
       " ('暂停', 1.0560225284166422),\n",
       " ('版', 1.0469212412442719),\n",
       " ('影响', 1.0193426365149258),\n",
       " ('工程师', 1.017312660126139),\n",
       " ('体验版', 1.01365011068498),\n",
       " ('内测', 1.012520850273949),\n",
       " ('月', 1.011669676366555),\n",
       " ('确保', 1.0111396337477805),\n",
       " ('稳定版', 1.0104822221734147)]"
      ]
     },
     "execution_count": 52,
     "metadata": {},
     "output_type": "execute_result"
    }
   ],
   "source": [
    "# 查看第一篇新闻的关键词以及textrank值\n",
    "keywords"
   ]
  },
  {
   "cell_type": "code",
   "execution_count": null,
   "metadata": {},
   "outputs": [],
   "source": [
    "#本地训练词向量耗时太久,内存爆掉，沮丧。换到服务器，colab就省时多了。"
   ]
  }
 ],
 "metadata": {
  "kernelspec": {
   "display_name": "Python 3",
   "language": "python",
   "name": "python3"
  },
  "language_info": {
   "codemirror_mode": {
    "name": "ipython",
    "version": 3
   },
   "file_extension": ".py",
   "mimetype": "text/x-python",
   "name": "python",
   "nbconvert_exporter": "python",
   "pygments_lexer": "ipython3",
   "version": "3.7.3"
  },
  "toc": {
   "base_numbering": 1,
   "nav_menu": {},
   "number_sections": true,
   "sideBar": true,
   "skip_h1_title": false,
   "title_cell": "Table of Contents",
   "title_sidebar": "Contents",
   "toc_cell": false,
   "toc_position": {},
   "toc_section_display": true,
   "toc_window_display": false
  }
 },
 "nbformat": 4,
 "nbformat_minor": 2
}
