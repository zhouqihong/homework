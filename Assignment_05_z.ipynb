{
 "cells": [
  {
   "cell_type": "markdown",
   "metadata": {},
   "source": [
    "## Assignment-05"
   ]
  },
  {
   "cell_type": "markdown",
   "metadata": {},
   "source": [
    "同学们，今天我们的学习了基本的机器学习概念，相比你已经对机器学习的这些方法有一个基本的认识了。值得说明的是，机器学习不仅仅是一系列方法，更重要的是一种思维体系，即：依据以往的、现有的数据，构建某种方法来解决未见过的问题。而且决策树，贝叶斯只是实现这个目标的一个方法，包括之后的神经网络。很有可能有一天，神经网络也会被淘汰，但是重要的是我们要理解机器学习的目标，就是尽可能的自动化解决未知的问题。"
   ]
  },
  {
   "cell_type": "markdown",
   "metadata": {},
   "source": [
    "## Part-1 Programming Review 编程回顾"
   ]
  },
  {
   "cell_type": "markdown",
   "metadata": {},
   "source": [
    "#### 1. Re-code the Linear-Regression Model using scikit-learning(10 points)"
   ]
  },
  {
   "cell_type": "code",
   "execution_count": 26,
   "metadata": {},
   "outputs": [],
   "source": [
    "import random\n",
    "import numpy as np\n",
    "import matplotlib.pyplot as plt\n",
    "from sklearn.linear_model import LinearRegression\n",
    "%matplotlib inline"
   ]
  },
  {
   "cell_type": "code",
   "execution_count": 27,
   "metadata": {},
   "outputs": [],
   "source": [
    "random_data = np.random.random((100, 2))  "
   ]
  },
  {
   "cell_type": "code",
   "execution_count": 78,
   "metadata": {},
   "outputs": [],
   "source": [
    "#random_data"
   ]
  },
  {
   "cell_type": "code",
   "execution_count": 29,
   "metadata": {},
   "outputs": [],
   "source": [
    "X = random_data[:,0]  \n",
    "y = random_data[:,1] "
   ]
  },
  {
   "cell_type": "code",
   "execution_count": 30,
   "metadata": {},
   "outputs": [],
   "source": [
    "def assmuing_function(x):\n",
    "    # 体重 -> 高血压的概率\n",
    "    # 收入 -> 买豪车的概率\n",
    "    # 实质是一种潜在的函数关系 + 一个随机变化\n",
    "    return 15.4 * x + 3 + random.randint(-1,1)   "
   ]
  },
  {
   "cell_type": "code",
   "execution_count": 31,
   "metadata": {},
   "outputs": [],
   "source": [
    "y = [assmuing_function(x) for x in X] "
   ]
  },
  {
   "cell_type": "code",
   "execution_count": 33,
   "metadata": {},
   "outputs": [
    {
     "data": {
      "text/plain": [
       "<matplotlib.collections.PathCollection at 0x1786f347390>"
      ]
     },
     "execution_count": 33,
     "metadata": {},
     "output_type": "execute_result"
    },
    {
     "data": {
      "image/png": "[encoded data removed]",
      "text/plain": [
       "<Figure size 432x288 with 1 Axes>"
      ]
     },
     "metadata": {
      "needs_background": "light"
     },
     "output_type": "display_data"
    }
   ],
   "source": [
    "plt.scatter(X,y)  "
   ]
  },
  {
   "cell_type": "code",
   "execution_count": 35,
   "metadata": {},
   "outputs": [],
   "source": [
    "y = np.array(y)  #数组"
   ]
  },
  {
   "cell_type": "code",
   "execution_count": 36,
   "metadata": {},
   "outputs": [],
   "source": [
    "reg = LinearRegression().fit(X.reshape(-1,1),y) #reshape,改变数组，y是训练的目标，是预测的值，fit是训练拟合，返回的是训练好的模型"
   ]
  },
  {
   "cell_type": "code",
   "execution_count": 37,
   "metadata": {},
   "outputs": [
    {
     "data": {
      "text/plain": [
       "(100,)"
      ]
     },
     "execution_count": 37,
     "metadata": {},
     "output_type": "execute_result"
    }
   ],
   "source": [
    "X.shape"
   ]
  },
  {
   "cell_type": "code",
   "execution_count": 40,
   "metadata": {},
   "outputs": [],
   "source": [
    "#X #一维数据"
   ]
  },
  {
   "cell_type": "code",
   "execution_count": 41,
   "metadata": {},
   "outputs": [],
   "source": [
    "#X.reshape(-1,1) #二维数据，一个[]表示1维，2个[]表示2维。"
   ]
  },
  {
   "cell_type": "code",
   "execution_count": 42,
   "metadata": {},
   "outputs": [
    {
     "data": {
      "text/plain": [
       "array([15.45610614])"
      ]
     },
     "execution_count": 42,
     "metadata": {},
     "output_type": "execute_result"
    }
   ],
   "source": [
    "reg.coef_ #系数"
   ]
  },
  {
   "cell_type": "code",
   "execution_count": 43,
   "metadata": {},
   "outputs": [
    {
     "data": {
      "text/plain": [
       "2.9693119593490405"
      ]
     },
     "execution_count": 43,
     "metadata": {},
     "output_type": "execute_result"
    }
   ],
   "source": [
    "reg.intercept_  #偏置/截距"
   ]
  },
  {
   "cell_type": "code",
   "execution_count": 45,
   "metadata": {},
   "outputs": [],
   "source": [
    "def f(x):\n",
    "    return reg.coef_ * x + reg.intercept_  "
   ]
  },
  {
   "cell_type": "code",
   "execution_count": 46,
   "metadata": {},
   "outputs": [
    {
     "data": {
      "text/plain": [
       "[<matplotlib.lines.Line2D at 0x1786f381c88>]"
      ]
     },
     "execution_count": 46,
     "metadata": {},
     "output_type": "execute_result"
    },
    {
     "data": {
      "image/png": "[encoded data removed]",
      "text/plain": [
       "<Figure size 432x288 with 1 Axes>"
      ]
     },
     "metadata": {
      "needs_background": "light"
     },
     "output_type": "display_data"
    }
   ],
   "source": [
    "plt.scatter(X,y)\n",
    "plt.plot(X,f(X),color='purple')"
   ]
  },
  {
   "cell_type": "code",
   "execution_count": null,
   "metadata": {},
   "outputs": [],
   "source": []
  },
  {
   "cell_type": "markdown",
   "metadata": {},
   "source": [
    "#### 2. Complete the unfinished KNN Model using pure python to solve the previous Line-Regression problem. (8 points)"
   ]
  },
  {
   "cell_type": "code",
   "execution_count": 61,
   "metadata": {},
   "outputs": [],
   "source": [
    "from collections import Counter\n",
    "from scipy.spatial.distance import cosine"
   ]
  },
  {
   "cell_type": "code",
   "execution_count": 62,
   "metadata": {},
   "outputs": [],
   "source": [
    "random_data = np.random.random((20,2)) \n",
    "X = random_data[:,0]\n",
    "y = random_data[:,1]"
   ]
  },
  {
   "cell_type": "code",
   "execution_count": 63,
   "metadata": {},
   "outputs": [],
   "source": [
    "y = (y >= 0.4) + 0  #y>0.4就是1类，小于0.4就是0类,高级写法"
   ]
  },
  {
   "cell_type": "code",
   "execution_count": 64,
   "metadata": {},
   "outputs": [],
   "source": [
    "def model(X,y):\n",
    "    return[(Xi,yi) for Xi,yi in zip(X,y)] #KNN的模型只是记录，把所有的点计入到list。列表里面是元组"
   ]
  },
  {
   "cell_type": "code",
   "execution_count": 65,
   "metadata": {},
   "outputs": [],
   "source": [
    "def distance(x1, x2):\n",
    "    return cosine(x1,x2)  #用cosine计算两个点，夹角越小，越相近。"
   ]
  },
  {
   "cell_type": "code",
   "execution_count": 66,
   "metadata": {},
   "outputs": [],
   "source": [
    "def predict(x,k=5):  #k个最近的邻居，物以类聚。 \n",
    "    most_similars = sorted(model(X,y),key=lambda xi: distance(xi[0],x))[:k] #计算所有点的距离，排序。[:k]前k个。\n",
    "    #对元组排序，需要指明Key。xi是一个元组，第0个元素是x，对特征算距离。\n",
    "    #需要做的是对5个点进行投票操作，然后选出属于哪一类   \n",
    "    target_list = [x[1] for x in most_similars] # 目标的列表，每个邻居都有对应的标签\n",
    "    label = Counter(target_list).most_common()[0][0] #投票操作,第一个[0]目标label，第二个[0]投票的，most_common为元组的字典\n",
    "    return label"
   ]
  },
  {
   "cell_type": "code",
   "execution_count": 67,
   "metadata": {},
   "outputs": [
    {
     "data": {
      "text/plain": [
       "1"
      ]
     },
     "execution_count": 67,
     "metadata": {},
     "output_type": "execute_result"
    }
   ],
   "source": [
    "predict(0.3,1)"
   ]
  },
  {
   "cell_type": "markdown",
   "metadata": {},
   "source": [
    "#### 3. Re-code the Decision Tree, which could sort the features by salience. (12 points)"
   ]
  },
  {
   "cell_type": "code",
   "execution_count": 48,
   "metadata": {},
   "outputs": [],
   "source": [
    "from collections import Counter\n",
    "import pandas as pd\n",
    "import numpy as np\n",
    "from icecream import ic"
   ]
  },
  {
   "cell_type": "code",
   "execution_count": null,
   "metadata": {},
   "outputs": [],
   "source": [
    "#Entropy(S) = -(P/|S|)log2(P/|S|)-(N/|S|)log2(N/|S|) 。熵，不确定性, 根据熵决定分裂的节点。"
   ]
  },
  {
   "cell_type": "code",
   "execution_count": 49,
   "metadata": {},
   "outputs": [],
   "source": [
    "def entropy(elements):\n",
    "    counter = Counter(elements)\n",
    "    probs = [counter[c] / len(elements) for c in elements]\n",
    "    return - sum(p * np.log2(p) for p in probs) #算每个特征的熵，分类根据特征。"
   ]
  },
  {
   "cell_type": "code",
   "execution_count": 50,
   "metadata": {},
   "outputs": [
    {
     "data": {
      "text/plain": [
       "-0.0"
      ]
     },
     "execution_count": 50,
     "metadata": {},
     "output_type": "execute_result"
    }
   ],
   "source": [
    "entropy([0,0,0,0])"
   ]
  },
  {
   "cell_type": "code",
   "execution_count": 51,
   "metadata": {},
   "outputs": [
    {
     "data": {
      "text/plain": [
       "1.0"
      ]
     },
     "execution_count": 51,
     "metadata": {},
     "output_type": "execute_result"
    }
   ],
   "source": [
    "entropy([1,0]) #有波动，不确定越高"
   ]
  },
  {
   "cell_type": "code",
   "execution_count": 52,
   "metadata": {},
   "outputs": [],
   "source": [
    "#随机构建数据，根据性别、收入、成员数目，预测是否会买房子\n",
    "mock_data = {\n",
    "    'gender':['F','F','F','F','M','M','M'],\n",
    "    'income':['+10','-10','+10','+10','+10','+10','-10'],\n",
    "    'family_number':[1,1,2,1,1,1,2],\n",
    "    'bought':[1,1,1,0,0,0,1],\n",
    "}"
   ]
  },
  {
   "cell_type": "code",
   "execution_count": 53,
   "metadata": {},
   "outputs": [],
   "source": [
    "dataset = pd.DataFrame.from_dict(mock_data)"
   ]
  },
  {
   "cell_type": "code",
   "execution_count": 54,
   "metadata": {},
   "outputs": [
    {
     "data": {
      "text/html": [
       "<div>\n",
       "<style scoped>\n",
       "    .dataframe tbody tr th:only-of-type {\n",
       "        vertical-align: middle;\n",
       "    }\n",
       "\n",
       "    .dataframe tbody tr th {\n",
       "        vertical-align: top;\n",
       "    }\n",
       "\n",
       "    .dataframe thead th {\n",
       "        text-align: right;\n",
       "    }\n",
       "</style>\n",
       "<table border=\"1\" class=\"dataframe\">\n",
       "  <thead>\n",
       "    <tr style=\"text-align: right;\">\n",
       "      <th></th>\n",
       "      <th>gender</th>\n",
       "      <th>income</th>\n",
       "      <th>family_number</th>\n",
       "      <th>bought</th>\n",
       "    </tr>\n",
       "  </thead>\n",
       "  <tbody>\n",
       "    <tr>\n",
       "      <th>0</th>\n",
       "      <td>F</td>\n",
       "      <td>+10</td>\n",
       "      <td>1</td>\n",
       "      <td>1</td>\n",
       "    </tr>\n",
       "    <tr>\n",
       "      <th>1</th>\n",
       "      <td>F</td>\n",
       "      <td>-10</td>\n",
       "      <td>1</td>\n",
       "      <td>1</td>\n",
       "    </tr>\n",
       "    <tr>\n",
       "      <th>2</th>\n",
       "      <td>F</td>\n",
       "      <td>+10</td>\n",
       "      <td>2</td>\n",
       "      <td>1</td>\n",
       "    </tr>\n",
       "    <tr>\n",
       "      <th>3</th>\n",
       "      <td>F</td>\n",
       "      <td>+10</td>\n",
       "      <td>1</td>\n",
       "      <td>0</td>\n",
       "    </tr>\n",
       "    <tr>\n",
       "      <th>4</th>\n",
       "      <td>M</td>\n",
       "      <td>+10</td>\n",
       "      <td>1</td>\n",
       "      <td>0</td>\n",
       "    </tr>\n",
       "    <tr>\n",
       "      <th>5</th>\n",
       "      <td>M</td>\n",
       "      <td>+10</td>\n",
       "      <td>1</td>\n",
       "      <td>0</td>\n",
       "    </tr>\n",
       "    <tr>\n",
       "      <th>6</th>\n",
       "      <td>M</td>\n",
       "      <td>-10</td>\n",
       "      <td>2</td>\n",
       "      <td>1</td>\n",
       "    </tr>\n",
       "  </tbody>\n",
       "</table>\n",
       "</div>"
      ],
      "text/plain": [
       "  gender income  family_number  bought\n",
       "0      F    +10              1       1\n",
       "1      F    -10              1       1\n",
       "2      F    +10              2       1\n",
       "3      F    +10              1       0\n",
       "4      M    +10              1       0\n",
       "5      M    +10              1       0\n",
       "6      M    -10              2       1"
      ]
     },
     "execution_count": 54,
     "metadata": {},
     "output_type": "execute_result"
    }
   ],
   "source": [
    "dataset #有3个feature可以做判断，gender,income,family_number"
   ]
  },
  {
   "cell_type": "code",
   "execution_count": 55,
   "metadata": {},
   "outputs": [
    {
     "data": {
      "text/plain": [
       "{1, 2}"
      ]
     },
     "execution_count": 55,
     "metadata": {},
     "output_type": "execute_result"
    }
   ],
   "source": [
    "set(mock_data['family_number'])  "
   ]
  },
  {
   "cell_type": "code",
   "execution_count": 56,
   "metadata": {},
   "outputs": [],
   "source": [
    "sub_split_1 = dataset[dataset['family_number'] == 1]['bought'].tolist() "
   ]
  },
  {
   "cell_type": "code",
   "execution_count": 57,
   "metadata": {},
   "outputs": [
    {
     "data": {
      "text/plain": [
       "[1, 1, 0, 0, 0]"
      ]
     },
     "execution_count": 57,
     "metadata": {},
     "output_type": "execute_result"
    }
   ],
   "source": [
    "sub_split_1  "
   ]
  },
  {
   "cell_type": "code",
   "execution_count": 58,
   "metadata": {},
   "outputs": [],
   "source": [
    "sub_split_2 = dataset[dataset['family_number'] != 1]['bought'].tolist()"
   ]
  },
  {
   "cell_type": "code",
   "execution_count": 59,
   "metadata": {},
   "outputs": [
    {
     "data": {
      "text/plain": [
       "[1, 1]"
      ]
     },
     "execution_count": 59,
     "metadata": {},
     "output_type": "execute_result"
    }
   ],
   "source": [
    "sub_split_2"
   ]
  },
  {
   "cell_type": "code",
   "execution_count": 60,
   "metadata": {},
   "outputs": [
    {
     "data": {
      "text/plain": [
       "1.7029146752921864"
      ]
     },
     "execution_count": 60,
     "metadata": {},
     "output_type": "execute_result"
    }
   ],
   "source": [
    "5/7*entropy(sub_split_1) + 2/7*entropy(sub_split_2)"
   ]
  },
  {
   "cell_type": "code",
   "execution_count": 61,
   "metadata": {},
   "outputs": [],
   "source": [
    "_sub_split_2 = dataset[dataset['gender'] != 'M']['bought'].tolist() #'女'"
   ]
  },
  {
   "cell_type": "code",
   "execution_count": 62,
   "metadata": {},
   "outputs": [
    {
     "data": {
      "text/plain": [
       "[1, 1, 1, 0]"
      ]
     },
     "execution_count": 62,
     "metadata": {},
     "output_type": "execute_result"
    }
   ],
   "source": [
    "_sub_split_2"
   ]
  },
  {
   "cell_type": "code",
   "execution_count": 63,
   "metadata": {},
   "outputs": [],
   "source": [
    "_sub_split_1 = dataset[dataset['gender'] != 'F']['bought'].tolist()#‘男’"
   ]
  },
  {
   "cell_type": "code",
   "execution_count": 64,
   "metadata": {},
   "outputs": [
    {
     "data": {
      "text/plain": [
       "[0, 0, 1]"
      ]
     },
     "execution_count": 64,
     "metadata": {},
     "output_type": "execute_result"
    }
   ],
   "source": [
    "_sub_split_1"
   ]
  },
  {
   "cell_type": "code",
   "execution_count": 65,
   "metadata": {},
   "outputs": [
    {
     "data": {
      "text/plain": [
       "1.3800214281593393"
      ]
     },
     "execution_count": 65,
     "metadata": {},
     "output_type": "execute_result"
    }
   ],
   "source": [
    "3/7*entropy(_sub_split_1) + 4/7*entropy(_sub_split_2)"
   ]
  },
  {
   "cell_type": "code",
   "execution_count": 66,
   "metadata": {},
   "outputs": [
    {
     "data": {
      "text/plain": [
       "['gender', 'income', 'family_number', 'bought']"
      ]
     },
     "execution_count": 66,
     "metadata": {},
     "output_type": "execute_result"
    }
   ],
   "source": [
    "dataset.columns.tolist()"
   ]
  },
  {
   "cell_type": "code",
   "execution_count": 67,
   "metadata": {},
   "outputs": [],
   "source": [
    "def find_the_min_spliter(training_data: pd.DataFrame, target:str) -> str:\n",
    "    \"\"\"找出最小的进行拆分。\n",
    "    \"\"\"\n",
    "    x_fields =  set(training_data.columns.tolist()) - {target} #去掉target\"bought\"\n",
    "    \n",
    "    spliter = None\n",
    "    min_entropy = float('inf') #inf正无穷\n",
    "    \n",
    "    for f in x_fields:  #遍历\n",
    "        ic(f)\n",
    "        values = set(training_data[f]) ##这里面的f就是每条记录的结果,类似于列的列头,然后把所有的结果进行统计，放到数组里面\n",
    "        ic(values)\n",
    "        for v in values: #对每个可能性做循环，对分裂后的每一个计算条件熵\n",
    "            sub_spliter_1 = training_data[training_data[f] == v][target].tolist() #分裂节点的可能性，target为标签，看取值的可能性\n",
    "            ic(sub_split_1)\n",
    "            entropy_1 = entropy(sub_spliter_1) #第一个信息熵\n",
    "            ic(entropy_1)\n",
    "            sub_spliter_2 = training_data[training_data[f] != v][target].tolist() #不等于v的可能性多少\n",
    "            ic(sub_split_2)\n",
    "            entropy_2 =entropy(sub_spliter_2)\n",
    "            ic(entropy_2)\n",
    "            rate_1 = len(training_data[training_data[f] == v]) / len(training_data)\n",
    "            rate_2 = len(training_data[training_data[f] != v]) / len(training_data)        \n",
    "            entropy_v = rate_1*entropy_1 + rate_2*entropy_2  \n",
    "            ic(entropy_v)\n",
    "            \n",
    "            if entropy_v <= min_entropy:\n",
    "                min_entropy = entropy_v\n",
    "                spliter = (f,v)\n",
    "    print('spliter is :{}'.format(spliter))\n",
    "    print('the min entropy is:{}'.format(min_entropy))\n",
    "    \n",
    "    return spliter\n",
    "    \n",
    "    "
   ]
  },
  {
   "cell_type": "code",
   "execution_count": 68,
   "metadata": {},
   "outputs": [
    {
     "name": "stderr",
     "output_type": "stream",
     "text": [
      "ic| f: 'family_number'\n",
      "ic| values: {1, 2}\n",
      "ic| sub_split_1: [1, 1, 0, 0, 0]\n",
      "ic| entropy_1: 2.384080545409061\n",
      "ic| sub_split_2: [1, 1]\n",
      "ic| entropy_2: -0.0\n",
      "ic| entropy_v: 1.7029146752921864\n",
      "ic| sub_split_1: [1, 1, 0, 0, 0]\n",
      "ic| entropy_1: -0.0\n",
      "ic| sub_split_2: [1, 1]\n",
      "ic| entropy_2: 2.384080545409061\n",
      "ic| entropy_v: 1.7029146752921864\n",
      "ic| f: 'income'\n",
      "ic| values: {'+10', '-10'}\n",
      "ic| sub_split_1: [1, 1, 0, 0, 0]\n",
      "ic| entropy_1: 2.384080545409061\n",
      "ic| sub_split_2: [1, 1]\n",
      "ic| entropy_2: -0.0\n",
      "ic| entropy_v: 1.7029146752921864\n",
      "ic| sub_split_1: [1, 1, 0, 0, 0]\n",
      "ic| entropy_1: -0.0\n",
      "ic| sub_split_2: [1, 1]\n",
      "ic| entropy_2: 2.384080545409061\n",
      "ic| entropy_v: 1.7029146752921864\n",
      "ic| f: 'gender'\n",
      "ic| values: {'F', 'M'}\n",
      "ic| sub_split_1: [1, 1, 0, 0, 0]\n",
      "ic| entropy_1: 1.4338343733773984\n",
      "ic| sub_split_2: [1, 1]\n",
      "ic| entropy_2: 1.3082708345352603\n",
      "ic| entropy_v: 1.3800214281593393\n",
      "ic| sub_split_1: [1, 1, 0, 0, 0]\n",
      "ic| entropy_1: 1.3082708345352603\n",
      "ic| sub_split_2: [1, 1]\n",
      "ic| entropy_2: 1.4338343733773984\n",
      "ic| entropy_v: 1.3800214281593393\n"
     ]
    },
    {
     "name": "stdout",
     "output_type": "stream",
     "text": [
      "spliter is :('gender', 'M')\n",
      "the min entropy is:1.3800214281593393\n"
     ]
    },
    {
     "data": {
      "text/plain": [
       "('gender', 'M')"
      ]
     },
     "execution_count": 68,
     "metadata": {},
     "output_type": "execute_result"
    }
   ],
   "source": [
    "find_the_min_spliter(dataset,'bought')"
   ]
  },
  {
   "cell_type": "code",
   "execution_count": 73,
   "metadata": {},
   "outputs": [],
   "source": [
    "sub_df = dataset[dataset['family_number'] == 1]"
   ]
  },
  {
   "cell_type": "code",
   "execution_count": 74,
   "metadata": {},
   "outputs": [
    {
     "data": {
      "text/html": [
       "<div>\n",
       "<style scoped>\n",
       "    .dataframe tbody tr th:only-of-type {\n",
       "        vertical-align: middle;\n",
       "    }\n",
       "\n",
       "    .dataframe tbody tr th {\n",
       "        vertical-align: top;\n",
       "    }\n",
       "\n",
       "    .dataframe thead th {\n",
       "        text-align: right;\n",
       "    }\n",
       "</style>\n",
       "<table border=\"1\" class=\"dataframe\">\n",
       "  <thead>\n",
       "    <tr style=\"text-align: right;\">\n",
       "      <th></th>\n",
       "      <th>gender</th>\n",
       "      <th>income</th>\n",
       "      <th>family_number</th>\n",
       "      <th>bought</th>\n",
       "    </tr>\n",
       "  </thead>\n",
       "  <tbody>\n",
       "    <tr>\n",
       "      <th>4</th>\n",
       "      <td>M</td>\n",
       "      <td>+10</td>\n",
       "      <td>1</td>\n",
       "      <td>0</td>\n",
       "    </tr>\n",
       "    <tr>\n",
       "      <th>5</th>\n",
       "      <td>M</td>\n",
       "      <td>+10</td>\n",
       "      <td>1</td>\n",
       "      <td>0</td>\n",
       "    </tr>\n",
       "    <tr>\n",
       "      <th>6</th>\n",
       "      <td>M</td>\n",
       "      <td>-10</td>\n",
       "      <td>2</td>\n",
       "      <td>1</td>\n",
       "    </tr>\n",
       "  </tbody>\n",
       "</table>\n",
       "</div>"
      ],
      "text/plain": [
       "  gender income  family_number  bought\n",
       "4      M    +10              1       0\n",
       "5      M    +10              1       0\n",
       "6      M    -10              2       1"
      ]
     },
     "execution_count": 74,
     "metadata": {},
     "output_type": "execute_result"
    }
   ],
   "source": [
    "dataset[dataset['gender'] != 'F']"
   ]
  },
  {
   "cell_type": "code",
   "execution_count": 75,
   "metadata": {},
   "outputs": [
    {
     "data": {
      "text/html": [
       "<div>\n",
       "<style scoped>\n",
       "    .dataframe tbody tr th:only-of-type {\n",
       "        vertical-align: middle;\n",
       "    }\n",
       "\n",
       "    .dataframe tbody tr th {\n",
       "        vertical-align: top;\n",
       "    }\n",
       "\n",
       "    .dataframe thead th {\n",
       "        text-align: right;\n",
       "    }\n",
       "</style>\n",
       "<table border=\"1\" class=\"dataframe\">\n",
       "  <thead>\n",
       "    <tr style=\"text-align: right;\">\n",
       "      <th></th>\n",
       "      <th>gender</th>\n",
       "      <th>income</th>\n",
       "      <th>family_number</th>\n",
       "      <th>bought</th>\n",
       "    </tr>\n",
       "  </thead>\n",
       "  <tbody>\n",
       "    <tr>\n",
       "      <th>0</th>\n",
       "      <td>F</td>\n",
       "      <td>+10</td>\n",
       "      <td>1</td>\n",
       "      <td>1</td>\n",
       "    </tr>\n",
       "    <tr>\n",
       "      <th>1</th>\n",
       "      <td>F</td>\n",
       "      <td>-10</td>\n",
       "      <td>1</td>\n",
       "      <td>1</td>\n",
       "    </tr>\n",
       "    <tr>\n",
       "      <th>2</th>\n",
       "      <td>F</td>\n",
       "      <td>+10</td>\n",
       "      <td>2</td>\n",
       "      <td>1</td>\n",
       "    </tr>\n",
       "    <tr>\n",
       "      <th>3</th>\n",
       "      <td>F</td>\n",
       "      <td>+10</td>\n",
       "      <td>1</td>\n",
       "      <td>0</td>\n",
       "    </tr>\n",
       "  </tbody>\n",
       "</table>\n",
       "</div>"
      ],
      "text/plain": [
       "  gender income  family_number  bought\n",
       "0      F    +10              1       1\n",
       "1      F    -10              1       1\n",
       "2      F    +10              2       1\n",
       "3      F    +10              1       0"
      ]
     },
     "execution_count": 75,
     "metadata": {},
     "output_type": "execute_result"
    }
   ],
   "source": [
    "dataset[dataset['gender'] != 'M']"
   ]
  },
  {
   "cell_type": "code",
   "execution_count": 77,
   "metadata": {},
   "outputs": [
    {
     "name": "stderr",
     "output_type": "stream",
     "text": [
      "ic| f: 'family_number'\n",
      "ic| values: {1}\n",
      "ic| sub_split_1: [1, 1, 0, 0, 0]\n",
      "ic| entropy_1: 1.3082708345352603\n",
      "ic| sub_split_2: [1, 1]\n",
      "ic| entropy_2: 0\n",
      "ic| entropy_v: 1.3082708345352603\n",
      "ic| f: 'income'\n",
      "ic| values: {'+10', '-10'}\n",
      "ic| sub_split_1: [1, 1, 0, 0, 0]\n",
      "ic| entropy_1: 1.0\n",
      "ic| sub_split_2: [1, 1]\n",
      "ic| entropy_2: -0.0\n",
      "ic| entropy_v: 0.6666666666666666\n",
      "ic| sub_split_1: [1, 1, 0, 0, 0]\n",
      "ic| entropy_1: -0.0\n",
      "ic| sub_split_2: [1, 1]\n",
      "ic| entropy_2: 1.0\n",
      "ic| entropy_v: 0.6666666666666666\n",
      "ic| f: 'gender'\n",
      "ic| values: {'F'}\n",
      "ic| sub_split_1: [1, 1, 0, 0, 0]\n",
      "ic| entropy_1: 1.3082708345352603\n",
      "ic| sub_split_2: [1, 1]\n",
      "ic| entropy_2: 0\n",
      "ic| entropy_v: 1.3082708345352603\n"
     ]
    },
    {
     "name": "stdout",
     "output_type": "stream",
     "text": [
      "spliter is :('income', '-10')\n",
      "the min entropy is:0.6666666666666666\n"
     ]
    },
    {
     "data": {
      "text/plain": [
       "('income', '-10')"
      ]
     },
     "execution_count": 77,
     "metadata": {},
     "output_type": "execute_result"
    }
   ],
   "source": [
    "find_the_min_spliter(sub_df[sub_df['gender'] != 'M'], 'bought')"
   ]
  },
  {
   "cell_type": "markdown",
   "metadata": {},
   "source": [
    "## Part-2 Question and Answer 问答"
   ]
  },
  {
   "cell_type": "markdown",
   "metadata": {},
   "source": [
    "#### 1. What's the *model*? why  all the models are wrong, but some are useful? (5 points) "
   ]
  },
  {
   "cell_type": "markdown",
   "metadata": {},
   "source": [
    "Ans:\n",
    "\n",
    "模型是求解学习问题的一系列前提假设/inductive bias，根据已知数据寻找模型参数的过程就是训练，最终搜索到的映射f被称为训练出来的模型。\n",
    "\n",
    "\n",
    "\"所有模型都是错的，但有些是有用的。\"出自于统计学家George Box。\n",
    "\n",
    "所有模型都只是模拟真实世界的一种工具，正如科学是探索真实世界的一种方法一样，并没有绝对的真理，而是通过不断地提出假设并进行实证来否定之前错误的观点，从而在不断纠错中持续前进。无论是什么模型，都有可能被证明是错误的，也很容易被更好的模型所替代。但是只要建模时能深入地理解数据的本质和模型的内涵，总是能使得模型可以解决现实的问题，这就已经足够了。"
   ]
  },
  {
   "cell_type": "markdown",
   "metadata": {},
   "source": [
    "#### 2. What's the underfitting and overfitting? List the reasons that could make model overfitting or underfitting. (10 points)"
   ]
  },
  {
   "cell_type": "markdown",
   "metadata": {},
   "source": [
    "Ans:\n",
    "**欠拟合** 当模型在训练集和测试集表现得都不好时候我们称这种现象为欠拟合。\n",
    "\n",
    "**过拟合** 过拟合指的是训练数据拟合程度过高的情况，也就是说模型在训练集上表现得好，但是在测试集合新的数据集上表现较差。类比女友化妆。\n",
    "\n",
    "**欠拟合出现的原因**\n",
    "1.模型复杂度过低\n",
    "2.特征量过少\n",
    "\n",
    "**过拟合出现的原因**\n",
    "1.建模样本选取有误，如样本数量太少，选样方法错误，样本标签错误等，导致选取的样本数据不足以代表预定的分类规则\n",
    "2.样本噪音干扰过大，使得机器将部分噪音认为是特征从而扰乱了预设的分类规则\n",
    "3.假设的模型无法合理存在，或者说是假设成立的条件实际并不成立\n",
    "4.参数太多，模型复杂多过高\n",
    "\n",
    "**降低过拟合**\n",
    "1.增加数据量。更多的数据可以让模型学习到更多的有效特征，减小噪声的影响，从另一方面上讲，增加数据的数量也起到了减小方差的作用。\n",
    "2.降低模型的复杂度。神经网络：减少网络的层数，减少每一层网络的神经元个数。树模型：减枝，降低树的深度。\n",
    "3.正则化：L1：绝对值之和，让一部分特征缩小到0，常用于特征选择。L2:平方之和，让特征的系数都进行缩小，使求解稳定快速。\n",
    "4.集成学习方法，多模型进行融合。\n",
    "Boosting：该类模型中，后一个模型的输入会受到前一个模型的输出的影响。\n",
    "Bagging：该模型中，模型之间相互独立，没有过大影响。\n",
    "\n",
    "**降低欠拟合**\n",
    "1.增加新的特征。\n",
    "2.增加模型的复杂度。简单的模型学习能力较差，通过增加模型的复杂度可以使模型有更强的拟合能力。\n",
    "3.减少正则化的系数。正则化是用来防止过拟合的，当模型欠拟合时我们需要有针对的减少他们的系数。\n",
    "4.使用非线性模型。\n"
   ]
  },
  {
   "cell_type": "markdown",
   "metadata": {},
   "source": [
    "#### 3. What's the precision, recall, AUC, F1, F2score. What are they mainly target on? (12')"
   ]
  },
  {
   "cell_type": "markdown",
   "metadata": {},
   "source": [
    "Ans:\n",
    "\n",
    "**精确率**Precison:预测为正样本中有多少正确的概率。公式=正确识别的个体总数 /  识别出的个体总数。Precision = TP / TP+FP。\n",
    "\n",
    "**召回率**Recall:也叫查全率，反映正样本被预测为正的比例。公式=正确识别的个体总数 /  测试集中存在的个体总数。Recall = TP / TP + FN。\n",
    "\n",
    "**准确率**Accuracy:所有正确分类的样本与总样本比例。Accuracy = TP+TN /TP + TN + FN + FN。\n",
    "\n",
    "**AUC** Area Under Curve：ROC曲线下的面积（ROC的积分），通常大于0.5小于1。随机挑选一个正样本以及一个负样本，分类器判定正样本的值高于负样本的概率就是AUC直。AUC值（面积）越大的分类器，性能越好。\n",
    "\n",
    "**F1**:F1分数的公式为 = 2*查准率*查全率 / (查准率 + 查全率).F1 = 2Precision*Recall/Precision+Recall。\n",
    "\n",
    "**F2**: 在公式中β=2. F2 = (1+β**2)×Precision×Recall /β**2（Precision+Recall）\n",
    "\n"
   ]
  },
  {
   "cell_type": "markdown",
   "metadata": {},
   "source": [
    "#### 4. Based on our course and yourself mind, what's the machine learning?  (8')"
   ]
  },
  {
   "cell_type": "markdown",
   "metadata": {},
   "source": [
    "Ans:机器学习是一门涉及统计学、系统辨识、逼近理论、神经网络、优化理论、计算机科学、脑科学等诸多领域的交叉学科，研究计算机怎样模拟或实现人类的学习行为，以获取新的知识和技能，重新组织已有的知识结构使之不断改善自身的性能，是人工智能技术的核心。基于数据的机器学习是现代智能技术中的重要方法之一，研究从观测数据（样本）出发寻找规律，利用这些规律对未来数据或无法观测的数据进行预测。根据学习模式、学习方法以及算法的不同，机器学习有不同的分类方法：\n",
    "1）根据学习模式将机器学习分为监督学习、无监督学习和强化学习等；\n",
    "2）根据学习方法可以将机器学习氛围传统机器学习和深度学习；\n",
    "3）此外，机器学习的常见算法还包括迁移学习、主动学习和演化学习等。"
   ]
  },
  {
   "cell_type": "markdown",
   "metadata": {},
   "source": [
    "#### 5. \"正确定义了机器学习模型的评价标准(evaluation)， 问题基本上就已经解决一半\". 这句话是否正确？你是怎么看待的？ (8‘)"
   ]
  },
  {
   "cell_type": "markdown",
   "metadata": {},
   "source": [
    "评价指标是机器学习任务中非常重要的一环。不同的机器学习任务有着不同的评价指标，同时同一种机器学习任务也有着不同的评价指标，每个指标的着重点不一样。\n",
    "\n",
    "不同的机器学习任务有着不同的性能评价指标。例如，在垃圾邮件检测系统中，这个系统本质上是一个二分类问题（区分垃圾邮件vs正常邮件），可以使用准确率（Accuracy）、对数损失函数（log-loss）、AUC等评价方法。在股票预测中，这其实是一个实数序列数据预测问题，可以使用平方根误差（root mean square error， RMSE）等指标；又如在搜索引擎中进行与查询相关的项目排序中，可以使用精确率－召回率（precision-recall）等等。\n",
    "\n",
    "在对比不同模型的能力时，使用不同的评价指标可能会导致不同的结果，这就说明：模型的好坏是相对的，好的模型不仅仅取决于数据和算法，还取决于场景需求。\n",
    "\n",
    "\"正确定义了机器学习模型的评价标准(evaluation)， 问题基本上就已经解决一半\"。 站在不同角度会得到不同的答案。\n",
    "\n",
    "对于任务型人际对话系统，主流评价思路仍然是以人工评价结果为目标。事实上，对话系统评价的最终目标是评测用户的满意度，但总有许多因素造成我们无法将评价结果与用户的体验完全吻合，即使通过给出的人工制定的评价指标来对一个系统进行测评，也会造成不同程度的偏差，而且也很难将所有特征罗列出来加以对比达到全面的评价效果，因此现有的评价过程大都无法准确的满足用户的要求。\n",
    "\n",
    "对于开放域的人际对话系统，目前的的评价指标包括两个大房企：客观指标和模拟评分。客观指标主要包含词重叠评价句子和基于词向量的评价矩阵。模拟人工评分主要是通过神经网络的训练方法，用于机器来模拟人的打分过程，从而实现对对话系统的评价。但是这些方法都有自己的步骤，如评价句子更多的是用于非对话系统的其他NLP任务中，还没有针对人机对话任务进行很好的整合迁移；而直接抛开细节的评分模拟，很可能也忽略了重要的因素，所以效果不是非常出众。所以，对于对话系统评价的研究还有很多的空间可以探索。对于题目我认为不对，怎么去设置一个完整的平价标准，但是理想的评价标准不好实现，会带来新的问题，怎么用算法去实现一个复杂的目标。比如对话系统，设定的评价标准跟人工一模一样，这个评价标准就设定的不太好。"
   ]
  },
  {
   "cell_type": "markdown",
   "metadata": {},
   "source": [
    "## Part-03 Programming Practice 编程练习"
   ]
  },
  {
   "cell_type": "markdown",
   "metadata": {},
   "source": [
    "1. In our course and previous practice, we complete some importance components of Decision Tree. In this problem, you need to build a **completed** Decision Tree Model. You show finish a `predicate()` function, which accepts three parameters **<gender, income, family_number>**, and outputs the predicated 'bought': 1 or 0.  (20 points)"
   ]
  },
  {
   "cell_type": "code",
   "execution_count": 104,
   "metadata": {},
   "outputs": [],
   "source": [
    "from collections import Counter\n",
    "import pandas as pd\n",
    "import numpy as np"
   ]
  },
  {
   "cell_type": "code",
   "execution_count": 108,
   "metadata": {},
   "outputs": [],
   "source": [
    "def entropy(elements):\n",
    "    counter = Counter(elements)\n",
    "    probs = [counter[c] / len(elements) for c in elements]\n",
    "    return - sum(p * np.log2(p) for p in probs)"
   ]
  },
  {
   "cell_type": "code",
   "execution_count": 143,
   "metadata": {},
   "outputs": [],
   "source": [
    "#创建数据集\n",
    "def createDateSet():     \n",
    "    mock_data = {\n",
    "    'gender':['F', 'F', 'F', 'F', 'M', 'M', 'M'],\n",
    "    'income': ['+10', '-10', '+10', '+10', '+10', '+10', '-10'],\n",
    "    'family_number': [1, 1, 2, 1, 1, 1, 2],\n",
    "    'bought': [1, 1, 1, 0, 0, 0, 1],\n",
    "}\n",
    "    dataSet = pd.DataFrame(mock_data)\n",
    "    return dataSet"
   ]
  },
  {
   "cell_type": "code",
   "execution_count": 145,
   "metadata": {},
   "outputs": [
    {
     "data": {
      "text/html": [
       "<div>\n",
       "<style scoped>\n",
       "    .dataframe tbody tr th:only-of-type {\n",
       "        vertical-align: middle;\n",
       "    }\n",
       "\n",
       "    .dataframe tbody tr th {\n",
       "        vertical-align: top;\n",
       "    }\n",
       "\n",
       "    .dataframe thead th {\n",
       "        text-align: right;\n",
       "    }\n",
       "</style>\n",
       "<table border=\"1\" class=\"dataframe\">\n",
       "  <thead>\n",
       "    <tr style=\"text-align: right;\">\n",
       "      <th></th>\n",
       "      <th>gender</th>\n",
       "      <th>income</th>\n",
       "      <th>family_number</th>\n",
       "      <th>bought</th>\n",
       "    </tr>\n",
       "  </thead>\n",
       "  <tbody>\n",
       "    <tr>\n",
       "      <th>0</th>\n",
       "      <td>F</td>\n",
       "      <td>+10</td>\n",
       "      <td>1</td>\n",
       "      <td>1</td>\n",
       "    </tr>\n",
       "    <tr>\n",
       "      <th>1</th>\n",
       "      <td>F</td>\n",
       "      <td>-10</td>\n",
       "      <td>1</td>\n",
       "      <td>1</td>\n",
       "    </tr>\n",
       "    <tr>\n",
       "      <th>2</th>\n",
       "      <td>F</td>\n",
       "      <td>+10</td>\n",
       "      <td>2</td>\n",
       "      <td>1</td>\n",
       "    </tr>\n",
       "    <tr>\n",
       "      <th>3</th>\n",
       "      <td>F</td>\n",
       "      <td>+10</td>\n",
       "      <td>1</td>\n",
       "      <td>0</td>\n",
       "    </tr>\n",
       "    <tr>\n",
       "      <th>4</th>\n",
       "      <td>M</td>\n",
       "      <td>+10</td>\n",
       "      <td>1</td>\n",
       "      <td>0</td>\n",
       "    </tr>\n",
       "    <tr>\n",
       "      <th>5</th>\n",
       "      <td>M</td>\n",
       "      <td>+10</td>\n",
       "      <td>1</td>\n",
       "      <td>0</td>\n",
       "    </tr>\n",
       "    <tr>\n",
       "      <th>6</th>\n",
       "      <td>M</td>\n",
       "      <td>-10</td>\n",
       "      <td>2</td>\n",
       "      <td>1</td>\n",
       "    </tr>\n",
       "  </tbody>\n",
       "</table>\n",
       "</div>"
      ],
      "text/plain": [
       "  gender income  family_number  bought\n",
       "0      F    +10              1       1\n",
       "1      F    -10              1       1\n",
       "2      F    +10              2       1\n",
       "3      F    +10              1       0\n",
       "4      M    +10              1       0\n",
       "5      M    +10              1       0\n",
       "6      M    -10              2       1"
      ]
     },
     "execution_count": 145,
     "metadata": {},
     "output_type": "execute_result"
    }
   ],
   "source": [
    "dataSet=createDateSet()\n",
    "dataSet"
   ]
  },
  {
   "cell_type": "code",
   "execution_count": 114,
   "metadata": {},
   "outputs": [],
   "source": [
    "def find_the_min_spliter(training_data: pd.DataFrame, target:str) -> str:\n",
    "    \"\"\"找出最小的进行拆分。\n",
    "    \"\"\"\n",
    "    x_fields =  set(training_data.columns.tolist()) - {target} #去掉target\"bought\"\n",
    "    \n",
    "    spliter = None\n",
    "    min_entropy = float('inf') #inf正无穷\n",
    "    \n",
    "    for f in x_fields:  #遍历\n",
    "        values = set(training_data[f]) ##这里面的f就是每条记录的结果,类似于列的列头,然后把所有的结果进行统计，放到数组里面\n",
    "        for v in values: #对每个可能性做循环，对分裂后的每一个计算条件熵\n",
    "            sub_spliter_1 = training_data[training_data[f] == v][target].tolist() #分裂节点的可能性，target为标签，看取值的可能性\n",
    "            entropy_1 = entropy(sub_spliter_1) #第一个信息熵\n",
    "            \n",
    "            sub_spliter_2 = training_data[training_data[f] != v][target].tolist() #不等于v的可能性多少\n",
    "            \n",
    "            entropy_2 =entropy(sub_spliter_2)\n",
    "           \n",
    "            rate_1 = len(training_data[training_data[f] == v]) / len(training_data)\n",
    "            rate_2 = len(training_data[training_data[f] != v]) / len(training_data)        \n",
    "            entropy_v = rate_1*entropy_1 + rate_2*entropy_2  \n",
    "            \n",
    "            \n",
    "            if entropy_v <= min_entropy:\n",
    "                min_entropy = entropy_v\n",
    "                spliter = (f,v)    #元组，feature,value\n",
    "    print('spliter is :{}'.format(spliter))\n",
    "    print('the min entropy is:{}'.format(min_entropy))\n",
    "    \n",
    "    return spliter"
   ]
  },
  {
   "cell_type": "code",
   "execution_count": 146,
   "metadata": {},
   "outputs": [],
   "source": [
    "#构建决策树\n",
    "def createTree(dataSet):\n",
    "    featlist = list(dataSet.columns)                          #提取出数据集所有的列\n",
    "    classlist = dataSet['bought'].value_counts()              #取最后一列标签 \n",
    "    if len(classlist)==1 or dataSet.shape[1]==1:    \n",
    "        return classlist.index[0]                            #[0]是计数最多的\n",
    "    split_feat = find_the_min_spliter(dataSet,'bought')[0]   #元组取第一号\n",
    "    myTree = {split_feat:{}}                                 #采用字典嵌套的方式存储树信息\n",
    "    valuelist = set(dataSet[split_feat])                     #提取最佳切分列所有属性值\n",
    "    for value in valuelist:                                  #对每一个属性值递归建树\n",
    "        myTree[split_feat][value] = createTree(dataSet[dataSet[split_feat] == value].drop(split_feat,axis=1))\n",
    "    return myTree"
   ]
  },
  {
   "cell_type": "code",
   "execution_count": 149,
   "metadata": {},
   "outputs": [
    {
     "name": "stdout",
     "output_type": "stream",
     "text": [
      "spliter is :('gender', 'M')\n",
      "the min entropy is:1.3800214281593393\n",
      "spliter is :('income', '-10')\n",
      "the min entropy is:0.9812031259014452\n",
      "spliter is :('family_number', 2)\n",
      "the min entropy is:0.6666666666666666\n",
      "spliter is :('income', '-10')\n",
      "the min entropy is:-0.0\n"
     ]
    },
    {
     "data": {
      "text/plain": [
       "{'gender': {'F': {'income': {'+10': {'family_number': {1: 1, 2: 1}},\n",
       "    '-10': 1}},\n",
       "  'M': {'income': {'+10': 0, '-10': 1}}}}"
      ]
     },
     "execution_count": 149,
     "metadata": {},
     "output_type": "execute_result"
    }
   ],
   "source": [
    "myTree = createTree(dataSet)\n",
    "myTree"
   ]
  },
  {
   "cell_type": "code",
   "execution_count": 153,
   "metadata": {},
   "outputs": [],
   "source": [
    "def predicate(gender, income, family_number, myTree):\n",
    "    test_sample = {'gender':gender, 'income':income, 'family_number':family_number}\n",
    "    for key, value in myTree.items():\n",
    "        if type(value[test_sample[key]]) == dict:\n",
    "            label = predicate(gender, income, family_number,value[test_sample[key]])\n",
    "        else:\n",
    "            label = value[test_sample[key]]\n",
    "    return label"
   ]
  },
  {
   "cell_type": "code",
   "execution_count": 167,
   "metadata": {},
   "outputs": [
    {
     "data": {
      "text/plain": [
       "0"
      ]
     },
     "execution_count": 167,
     "metadata": {},
     "output_type": "execute_result"
    }
   ],
   "source": [
    "predicate('M','+10',1,myTree)"
   ]
  },
  {
   "cell_type": "code",
   "execution_count": null,
   "metadata": {},
   "outputs": [],
   "source": []
  }
 ],
 "metadata": {
  "kernelspec": {
   "display_name": "Python 3",
   "language": "python",
   "name": "python3"
  },
  "language_info": {
   "codemirror_mode": {
    "name": "ipython",
    "version": 3
   },
   "file_extension": ".py",
   "mimetype": "text/x-python",
   "name": "python",
   "nbconvert_exporter": "python",
   "pygments_lexer": "ipython3",
   "version": "3.7.3"
  },
  "toc": {
   "base_numbering": 1,
   "nav_menu": {},
   "number_sections": true,
   "sideBar": true,
   "skip_h1_title": false,
   "title_cell": "Table of Contents",
   "title_sidebar": "Contents",
   "toc_cell": false,
   "toc_position": {},
   "toc_section_display": true,
   "toc_window_display": false
  }
 },
 "nbformat": 4,
 "nbformat_minor": 2
}
