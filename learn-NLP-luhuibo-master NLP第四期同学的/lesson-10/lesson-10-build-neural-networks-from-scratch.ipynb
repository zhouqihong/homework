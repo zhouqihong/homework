{
  "cells": [
    {
      "cell_type": "markdown",
      "metadata": {
        "pycharm": {}
      },
      "source": [
        "# Lecture-10 Build a neural network from sractch"
      ]
    },
    {
      "cell_type": "markdown",
      "metadata": {
        "pycharm": {}
      },
      "source": [
        "## Target: using python and numpy implement a neural network framework."
      ]
    },
    {
      "cell_type": "markdown",
      "metadata": {
        "pycharm": {}
      },
      "source": [
        "\u003e Node:\n",
        "+ forward: *Function*, how to calculate the inputs\n",
        "+ backwards: *Function*, how to get the gradients when backpropogation\n",
        "+ gradients: *Mapper*, the gradient map the this node of its inputs node\n",
        "+ inputs: *List*, the input nodes of this node\n",
        "+ outputs: *List*, the output node of this node\n",
        " "
      ]
    },
    {
      "cell_type": "markdown",
      "metadata": {
        "pycharm": {}
      },
      "source": [
        "## 面向对象的方式来组织这个"
      ]
    },
    {
      "cell_type": "code",
      "execution_count": 1,
      "metadata": {
        "pycharm": {}
      },
      "outputs": [],
      "source": [
        "def add(a, b):\n",
        "    return a + b"
      ]
    },
    {
      "cell_type": "code",
      "execution_count": 2,
      "metadata": {
        "pycharm": {}
      },
      "outputs": [],
      "source": [
        "var_int \u003d 10\n",
        "var_2_int \u003d 20"
      ]
    },
    {
      "cell_type": "code",
      "execution_count": 3,
      "metadata": {
        "pycharm": {}
      },
      "outputs": [
        {
          "data": {
            "text/plain": [
              "30"
            ]
          },
          "execution_count": 3,
          "metadata": {},
          "output_type": "execute_result"
        }
      ],
      "source": [
        "add(var_int, var_2_int)"
      ]
    },
    {
      "cell_type": "code",
      "execution_count": 4,
      "metadata": {
        "pycharm": {}
      },
      "outputs": [],
      "source": [
        "var_int \u003d [100, 200] # 如果在C/Java里边，这句话根本就不能通过编译\n",
        "var_2_int \u003d [122, 122233, 1231]"
      ]
    },
    {
      "cell_type": "code",
      "execution_count": 5,
      "metadata": {
        "pycharm": {}
      },
      "outputs": [
        {
          "data": {
            "text/plain": [
              "[100, 200, 122, 122233, 1231]"
            ]
          },
          "execution_count": 5,
          "metadata": {},
          "output_type": "execute_result"
        }
      ],
      "source": [
        "add(var_int, var_2_int)"
      ]
    },
    {
      "cell_type": "markdown",
      "metadata": {
        "pycharm": {}
      },
      "source": [
        "## Confusing -\u003e 读你代码的人很困惑，当时间过去。。。，你自己也看不懂了"
      ]
    },
    {
      "cell_type": "markdown",
      "metadata": {
        "pycharm": {}
      },
      "source": [
        "## 构建基类"
      ]
    },
    {
      "cell_type": "code",
      "execution_count": 6,
      "metadata": {
        "pycharm": {}
      },
      "outputs": [],
      "source": [
        "class Node:\n",
        "    \"\"\"\n",
        "    Each node in neural networks will have these attributes and methods\n",
        "    \"\"\"\n",
        "    def __init__(self, inputs\u003d[]):\n",
        "        \"\"\"\n",
        "        if the node is the operator of \"ax + b\", the inputs will be x node , and the outputs \n",
        "        of this is its successors. \n",
        "        \n",
        "        and the value is *ax + b*\n",
        "        \"\"\"\n",
        "        self.inputs \u003d inputs # input_list \u003c- C, Java \u003c- 匈牙利命名法 -\u003e Python 特别不建议\n",
        "       # self.outputs \u003d outputs # output_list \n",
        "        self.value \u003d None \n",
        "        self.outputs \u003d []\n",
        "        self.gradients \u003d {}\n",
        "        \n",
        "        for node in self.inputs:\n",
        "            node.outputs.append(self) # build a connection relationship\n",
        "    \n",
        "    def forward(self):\n",
        "        \"\"\"Forward propogation\n",
        "        \n",
        "        compute the output value based on input nodes and store the value \n",
        "        into *self.value*\n",
        "        \"\"\"\n",
        "        raise NotImplemented\n",
        "    \n",
        "    def backward(self):\n",
        "        \"\"\" Back propogation\n",
        "        \n",
        "        compute the gradient of each input node and store the value \n",
        "        into \"self.gredients\"\n",
        "        \"\"\"\n",
        "        raise NotImplemented"
      ]
    },
    {
      "cell_type": "markdown",
      "metadata": {
        "pycharm": {}
      },
      "source": []
    },
    {
      "cell_type": "code",
      "execution_count": 7,
      "metadata": {
        "pycharm": {}
      },
      "outputs": [],
      "source": [
        "class Input(Node):\n",
        "    def __init__(self, name\u003d\u0027\u0027):\n",
        "        Node.__init__(self, inputs\u003d[])\n",
        "        self.name\u003d name\n",
        "    \n",
        "    def forward(self, value\u003dNone):\n",
        "        if value is not None:\n",
        "            self.value \u003d value\n",
        "        \n",
        "    def backward(self):\n",
        "        self.gradients \u003d {}\n",
        "        \n",
        "        for n in self.outputs:\n",
        "            grad_cost \u003d n.gradients[self]\n",
        "            self.gradients[self] \u003d grad_cost\n",
        "    \n",
        "    def __repr__(self):\n",
        "        return \u0027Input Node: {}\u0027.format(self.name)"
      ]
    },
    {
      "cell_type": "code",
      "execution_count": 8,
      "metadata": {
        "pycharm": {}
      },
      "outputs": [],
      "source": [
        "import numpy as np"
      ]
    },
    {
      "cell_type": "code",
      "execution_count": 9,
      "metadata": {
        "pycharm": {}
      },
      "outputs": [],
      "source": [
        "X \u003d np.array([1, 2, 3])"
      ]
    },
    {
      "cell_type": "code",
      "execution_count": 10,
      "metadata": {
        "pycharm": {}
      },
      "outputs": [],
      "source": [
        "W \u003d np.array([[1, 2], [2, 4], [3, 5]])"
      ]
    },
    {
      "cell_type": "code",
      "execution_count": 11,
      "metadata": {
        "pycharm": {}
      },
      "outputs": [
        {
          "data": {
            "text/plain": [
              "(3,)"
            ]
          },
          "execution_count": 11,
          "metadata": {},
          "output_type": "execute_result"
        }
      ],
      "source": [
        "X.shape"
      ]
    },
    {
      "cell_type": "code",
      "execution_count": 12,
      "metadata": {
        "pycharm": {}
      },
      "outputs": [
        {
          "data": {
            "text/plain": [
              "(3, 2)"
            ]
          },
          "execution_count": 12,
          "metadata": {},
          "output_type": "execute_result"
        }
      ],
      "source": [
        "W.shape"
      ]
    },
    {
      "cell_type": "code",
      "execution_count": 13,
      "metadata": {
        "pycharm": {}
      },
      "outputs": [],
      "source": [
        "B \u003d np.array([1, 3])"
      ]
    },
    {
      "cell_type": "code",
      "execution_count": 14,
      "metadata": {
        "pycharm": {}
      },
      "outputs": [
        {
          "data": {
            "text/plain": [
              "array([15, 28])"
            ]
          },
          "execution_count": 14,
          "metadata": {},
          "output_type": "execute_result"
        }
      ],
      "source": [
        "np.dot(X, W) + B"
      ]
    },
    {
      "cell_type": "code",
      "execution_count": 15,
      "metadata": {
        "pycharm": {}
      },
      "outputs": [],
      "source": [
        "class Linear(Node):\n",
        "    def __init__(self, nodes, weights, bias):\n",
        "        self.w_node \u003d weights\n",
        "        self.x_node \u003d nodes\n",
        "        self.b_node \u003d bias\n",
        "        Node.__init__(self, inputs\u003d[nodes, weights, bias])\n",
        "    \n",
        "    def forward(self): \n",
        "        \"\"\"compute the wx + b using numpy\"\"\"\n",
        "        self.value \u003d np.dot(self.x_node.value, self.w_node.value) + self.b_node.value\n",
        "        \n",
        "    \n",
        "    def backward(self):\n",
        "        \n",
        "        for node in self.outputs:\n",
        "            #gradient_of_loss_of_this_output_node \u003d node.gradient[self]\n",
        "            grad_cost \u003d node.gradients[self]\n",
        "            \n",
        "            self.gradients[self.w_node] \u003d np.dot(self.x_node.value.T, grad_cost)\n",
        "            self.gradients[self.b_node] \u003d np.sum(grad_cost * 1, axis\u003d0, keepdims\u003dFalse)\n",
        "            self.gradients[self.x_node] \u003d np.dot(grad_cost, self.w_node.value.T)\n",
        "    "
      ]
    },
    {
      "cell_type": "code",
      "execution_count": 16,
      "metadata": {
        "pycharm": {}
      },
      "outputs": [],
      "source": [
        "class Sigmoid(Node):\n",
        "    def __init__(self, node):\n",
        "        Node.__init__(self, [node])\n",
        "        self.x_node \u003d node\n",
        "    \n",
        "    def _sigmoid(self, x):\n",
        "        return 1. / (1 + np.exp(-1 * x))\n",
        "    \n",
        "    def forward(self):\n",
        "        self.value \u003d self._sigmoid(self.x_node.value)\n",
        "    \n",
        "    def backward(self):\n",
        "        y \u003d self.value\n",
        "        \n",
        "        self.partial \u003d y * (1 - y)\n",
        "        \n",
        "        for n in self.outputs:\n",
        "            grad_cost \u003d n.gradients[self]\n",
        "            \n",
        "            self.gradients[self.x_node] \u003d grad_cost * self.partial"
      ]
    },
    {
      "cell_type": "code",
      "execution_count": 17,
      "metadata": {
        "pycharm": {}
      },
      "outputs": [],
      "source": [
        "W1 \u003d np.array([[1, 1], [1, 2], [1, 3]])\n",
        "W2 \u003d np.array([[1, 1], [0, 2], [1, 4]])"
      ]
    },
    {
      "cell_type": "code",
      "execution_count": 18,
      "metadata": {
        "pycharm": {}
      },
      "outputs": [
        {
          "data": {
            "text/plain": [
              "array([[0],\n",
              "       [0],\n",
              "       [1],\n",
              "       [0],\n",
              "       [0],\n",
              "       [1]])"
            ]
          },
          "execution_count": 18,
          "metadata": {},
          "output_type": "execute_result"
        }
      ],
      "source": [
        "(W1.reshape(-1, 1) - W2.reshape(-1, 1)) ** 2"
      ]
    },
    {
      "cell_type": "code",
      "execution_count": 19,
      "metadata": {
        "pycharm": {}
      },
      "outputs": [],
      "source": [
        "class MSE(Node):\n",
        "    def __init__(self, y_true, y_hat):\n",
        "        self.y_true_node \u003d y_true\n",
        "        self.y_hat_node \u003d y_hat\n",
        "        Node.__init__(self, inputs\u003d[y_true, y_hat])\n",
        "    \n",
        "    def forward(self):\n",
        "        y_true_flatten \u003d self.y_true_node.value.reshape(-1, 1)\n",
        "        y_hat_flatten \u003d self.y_hat_node.value.reshape(-1, 1)\n",
        "        \n",
        "        self.diff \u003d y_true_flatten - y_hat_flatten\n",
        "        \n",
        "        self.value \u003d np.mean(self.diff**2)\n",
        "        \n",
        "    def backward(self):\n",
        "        n \u003d self.y_hat_node.value.shape[0]\n",
        "        \n",
        "        self.gradients[self.y_true_node] \u003d (2 / n) * self.diff\n",
        "        self.gradients[self.y_hat_node] \u003d  (-2 / n) * self.diff"
      ]
    },
    {
      "cell_type": "code",
      "execution_count": 20,
      "metadata": {
        "pycharm": {}
      },
      "outputs": [],
      "source": [
        "def training_one_batch(topological_sorted_graph):\n",
        "    # graph 是经过拓扑排序之后的 一个list\n",
        "    for node in topological_sorted_graph:\n",
        "        node.forward()\n",
        "        \n",
        "    for node in topological_sorted_graph[::-1]:\n",
        "        node.backward()"
      ]
    },
    {
      "cell_type": "code",
      "execution_count": 21,
      "metadata": {
        "pycharm": {}
      },
      "outputs": [],
      "source": [
        "def topological_sort(data_with_value):\n",
        "    feed_dict \u003d data_with_value \n",
        "    input_nodes \u003d [n for n in feed_dict.keys()]\n",
        "\n",
        "    G \u003d {}\n",
        "    nodes \u003d [n for n in input_nodes]\n",
        "    while len(nodes) \u003e 0:\n",
        "        n \u003d nodes.pop(0)\n",
        "        if n not in G:\n",
        "            G[n] \u003d {\u0027in\u0027: set(), \u0027out\u0027: set()}\n",
        "        for m in n.outputs:\n",
        "            if m not in G:\n",
        "                G[m] \u003d {\u0027in\u0027: set(), \u0027out\u0027: set()}\n",
        "            G[n][\u0027out\u0027].add(m)\n",
        "            G[m][\u0027in\u0027].add(n)\n",
        "            nodes.append(m)\n",
        "\n",
        "    L \u003d []\n",
        "    S \u003d set(input_nodes)\n",
        "    while len(S) \u003e 0:\n",
        "        n \u003d S.pop()\n",
        "\n",
        "        if isinstance(n, Input):\n",
        "            n.value \u003d feed_dict[n]\n",
        "            ## if n is Input Node, set n\u0027value as \n",
        "            ## feed_dict[n]\n",
        "            ## else, n\u0027s value is caculate as its\n",
        "            ## inbounds\n",
        "\n",
        "        L.append(n)\n",
        "        for m in n.outputs:\n",
        "            G[n][\u0027out\u0027].remove(m)\n",
        "            G[m][\u0027in\u0027].remove(n)\n",
        "            # if no other incoming edges add to S\n",
        "            if len(G[m][\u0027in\u0027]) \u003d\u003d 0:\n",
        "                S.add(m)\n",
        "    return L"
      ]
    },
    {
      "cell_type": "code",
      "execution_count": 22,
      "metadata": {
        "pycharm": {}
      },
      "outputs": [],
      "source": [
        "def sgd_update(trainable_nodes, learning_rate\u003d1e-2):\n",
        "    for t in trainable_nodes:\n",
        "        t.value +\u003d -1 * learning_rate * t.gradients[t]"
      ]
    },
    {
      "cell_type": "code",
      "execution_count": 23,
      "metadata": {
        "pycharm": {}
      },
      "outputs": [],
      "source": [
        "from sklearn.datasets import load_boston"
      ]
    },
    {
      "cell_type": "code",
      "execution_count": 24,
      "metadata": {
        "pycharm": {}
      },
      "outputs": [],
      "source": [
        "data \u003d load_boston()"
      ]
    },
    {
      "cell_type": "code",
      "execution_count": 25,
      "metadata": {
        "pycharm": {}
      },
      "outputs": [],
      "source": [
        "X_ \u003d data[\u0027data\u0027]"
      ]
    },
    {
      "cell_type": "code",
      "execution_count": 26,
      "metadata": {
        "pycharm": {}
      },
      "outputs": [
        {
          "data": {
            "text/plain": [
              "array([1, 2, 3])"
            ]
          },
          "execution_count": 26,
          "metadata": {},
          "output_type": "execute_result"
        }
      ],
      "source": [
        "X"
      ]
    },
    {
      "cell_type": "code",
      "execution_count": 27,
      "metadata": {
        "pycharm": {}
      },
      "outputs": [],
      "source": [
        "y_ \u003d data[\u0027target\u0027]"
      ]
    },
    {
      "cell_type": "code",
      "execution_count": 28,
      "metadata": {
        "pycharm": {}
      },
      "outputs": [
        {
          "data": {
            "text/plain": [
              "array([6.320e-03, 1.800e+01, 2.310e+00, 0.000e+00, 5.380e-01, 6.575e+00,\n",
              "       6.520e+01, 4.090e+00, 1.000e+00, 2.960e+02, 1.530e+01, 3.969e+02,\n",
              "       4.980e+00])"
            ]
          },
          "execution_count": 28,
          "metadata": {},
          "output_type": "execute_result"
        }
      ],
      "source": [
        "X_[0]"
      ]
    },
    {
      "cell_type": "code",
      "execution_count": 29,
      "metadata": {
        "pycharm": {}
      },
      "outputs": [
        {
          "data": {
            "text/plain": [
              "24.0"
            ]
          },
          "execution_count": 29,
          "metadata": {},
          "output_type": "execute_result"
        }
      ],
      "source": [
        "y_[0]"
      ]
    },
    {
      "cell_type": "code",
      "execution_count": 30,
      "metadata": {
        "pycharm": {}
      },
      "outputs": [],
      "source": [
        "X_ \u003d (X_ - np.mean(X_, axis\u003d0)) / np.std(X_, axis\u003d0)"
      ]
    },
    {
      "cell_type": "code",
      "execution_count": 31,
      "metadata": {
        "pycharm": {}
      },
      "outputs": [],
      "source": [
        "n_features \u003d X_.shape[1]"
      ]
    },
    {
      "cell_type": "code",
      "execution_count": 32,
      "metadata": {
        "pycharm": {}
      },
      "outputs": [],
      "source": [
        "n_hidden \u003d 10"
      ]
    },
    {
      "cell_type": "code",
      "execution_count": 65,
      "metadata": {
        "pycharm": {}
      },
      "outputs": [],
      "source": [
        "n_hidden_2 \u003d 10"
      ]
    },
    {
      "cell_type": "code",
      "execution_count": 33,
      "metadata": {
        "pycharm": {}
      },
      "outputs": [
        {
          "data": {
            "text/plain": [
              "(3,)"
            ]
          },
          "execution_count": 33,
          "metadata": {},
          "output_type": "execute_result"
        }
      ],
      "source": [
        "X.shape"
      ]
    },
    {
      "cell_type": "code",
      "execution_count": 94,
      "metadata": {
        "pycharm": {}
      },
      "outputs": [],
      "source": [
        "W1_, b1_ \u003d np.random.randn(n_features, n_hidden), np.zeros(n_hidden)"
      ]
    },
    {
      "cell_type": "code",
      "execution_count": 95,
      "metadata": {
        "pycharm": {}
      },
      "outputs": [],
      "source": [
        "W2_, b2_ \u003d np.random.randn(n_hidden, 1), np.zeros(1)"
      ]
    },
    {
      "cell_type": "code",
      "execution_count": 67,
      "metadata": {
        "pycharm": {}
      },
      "outputs": [],
      "source": [
        "#W3, b3 \u003d np.random.randn(n_hidden_2, 1), np.zeros(1)"
      ]
    },
    {
      "cell_type": "markdown",
      "metadata": {
        "pycharm": {}
      },
      "source": [
        "## Build a graph connection "
      ]
    },
    {
      "cell_type": "markdown",
      "metadata": {
        "pycharm": {}
      },
      "source": [
        "### 1st. Build Nodes in this graph"
      ]
    },
    {
      "cell_type": "code",
      "execution_count": 96,
      "metadata": {
        "pycharm": {}
      },
      "outputs": [],
      "source": [
        "X, y \u003d Input(name\u003d\u0027X\u0027), Input(name\u003d\u0027y\u0027)  # tensorflow -\u003e placeholder\n",
        "W1, b1 \u003d Input(name\u003d\u0027W1\u0027), Input(name\u003d\u0027b1\u0027)\n",
        "W2, b2 \u003d Input(name\u003d\u0027W2\u0027), Input(name\u003d\u0027b2\u0027)\n",
        "#W3, b3 \u003d Input(name\u003d\u0027W3\u0027), Input(name\u003d\u0027b3\u0027)"
      ]
    },
    {
      "cell_type": "markdown",
      "metadata": {
        "pycharm": {}
      },
      "source": [
        "### 2nd build connection relationship"
      ]
    },
    {
      "cell_type": "code",
      "execution_count": 97,
      "metadata": {
        "pycharm": {}
      },
      "outputs": [],
      "source": [
        "linear_output \u003d Linear(X, W1, b1)\n",
        "sigmoid_output \u003d Sigmoid(linear_output)\n",
        "yhat \u003d Linear(sigmoid_output, W2, b2)\n",
        "loss \u003d MSE(y, yhat)"
      ]
    },
    {
      "cell_type": "markdown",
      "metadata": {
        "pycharm": {}
      },
      "source": [
        "## 我们可以把它的网络变得更复杂"
      ]
    },
    {
      "cell_type": "code",
      "execution_count": 98,
      "metadata": {
        "pycharm": {}
      },
      "outputs": [],
      "source": [
        "input_node_with_value \u003d {  # -\u003e feed_dict \n",
        "    X: X_, \n",
        "    y: y_, \n",
        "    W1: W1_, \n",
        "    W2: W2_, \n",
        "    b1: b1_, \n",
        "    b2: b2_\n",
        "}"
      ]
    },
    {
      "cell_type": "code",
      "execution_count": 99,
      "metadata": {
        "pycharm": {}
      },
      "outputs": [],
      "source": [
        "graph \u003d topological_sort(input_node_with_value)"
      ]
    },
    {
      "cell_type": "code",
      "execution_count": 100,
      "metadata": {
        "pycharm": {}
      },
      "outputs": [
        {
          "data": {
            "text/plain": [
              "[Input Node: X,\n",
              " Input Node: y,\n",
              " Input Node: b2,\n",
              " Input Node: W1,\n",
              " Input Node: W2,\n",
              " Input Node: b1,\n",
              " \u003c__main__.Linear at 0x1a1689f470\u003e,\n",
              " \u003c__main__.Sigmoid at 0x1a1689f160\u003e,\n",
              " \u003c__main__.Linear at 0x1a168aff60\u003e,\n",
              " \u003c__main__.MSE at 0x1a168afc50\u003e]"
            ]
          },
          "execution_count": 100,
          "metadata": {},
          "output_type": "execute_result"
        }
      ],
      "source": [
        "graph"
      ]
    },
    {
      "cell_type": "code",
      "execution_count": 79,
      "metadata": {
        "pycharm": {}
      },
      "outputs": [],
      "source": [
        "from sklearn.utils import resample"
      ]
    },
    {
      "cell_type": "code",
      "execution_count": 80,
      "metadata": {
        "pycharm": {}
      },
      "outputs": [
        {
          "data": {
            "text/plain": [
              "array([83, 70, 59, 62, 75, 33, 77, 90, 62, 95])"
            ]
          },
          "execution_count": 80,
          "metadata": {},
          "output_type": "execute_result"
        }
      ],
      "source": [
        "np.random.choice(range(100), size\u003d10, replace\u003dTrue)"
      ]
    },
    {
      "cell_type": "code",
      "execution_count": 81,
      "metadata": {
        "pycharm": {}
      },
      "outputs": [],
      "source": [
        "def run(dictionary):\n",
        "    return topological_sort(dictionary)"
      ]
    },
    {
      "cell_type": "code",
      "execution_count": 101,
      "metadata": {
        "pycharm": {}
      },
      "outputs": [
        {
          "name": "stdout",
          "output_type": "stream",
          "text": [
            "Epoch: 1, loss \u003d 458.436\n",
            "Epoch: 101, loss \u003d 28.778\n",
            "Epoch: 201, loss \u003d 26.937\n",
            "Epoch: 301, loss \u003d 19.990\n",
            "Epoch: 401, loss \u003d 17.155\n",
            "Epoch: 501, loss \u003d 18.943\n",
            "Epoch: 601, loss \u003d 14.676\n",
            "Epoch: 701, loss \u003d 16.661\n",
            "Epoch: 801, loss \u003d 17.277\n",
            "Epoch: 901, loss \u003d 13.624\n",
            "Epoch: 1001, loss \u003d 11.756\n",
            "Epoch: 1101, loss \u003d 11.063\n",
            "Epoch: 1201, loss \u003d 9.900\n",
            "Epoch: 1301, loss \u003d 10.024\n",
            "Epoch: 1401, loss \u003d 12.768\n",
            "Epoch: 1501, loss \u003d 9.900\n",
            "Epoch: 1601, loss \u003d 10.541\n",
            "Epoch: 1701, loss \u003d 9.809\n",
            "Epoch: 1801, loss \u003d 10.497\n",
            "Epoch: 1901, loss \u003d 7.950\n",
            "Epoch: 2001, loss \u003d 9.849\n",
            "Epoch: 2101, loss \u003d 8.608\n",
            "Epoch: 2201, loss \u003d 10.012\n",
            "Epoch: 2301, loss \u003d 9.045\n",
            "Epoch: 2401, loss \u003d 8.824\n",
            "Epoch: 2501, loss \u003d 9.972\n",
            "Epoch: 2601, loss \u003d 8.601\n",
            "Epoch: 2701, loss \u003d 7.197\n",
            "Epoch: 2801, loss \u003d 7.217\n",
            "Epoch: 2901, loss \u003d 6.875\n",
            "Epoch: 3001, loss \u003d 8.351\n",
            "Epoch: 3101, loss \u003d 7.603\n",
            "Epoch: 3201, loss \u003d 6.910\n",
            "Epoch: 3301, loss \u003d 6.652\n",
            "Epoch: 3401, loss \u003d 7.069\n",
            "Epoch: 3501, loss \u003d 10.080\n",
            "Epoch: 3601, loss \u003d 8.520\n",
            "Epoch: 3701, loss \u003d 6.104\n",
            "Epoch: 3801, loss \u003d 9.234\n",
            "Epoch: 3901, loss \u003d 7.771\n",
            "Epoch: 4001, loss \u003d 5.938\n",
            "Epoch: 4101, loss \u003d 7.579\n",
            "Epoch: 4201, loss \u003d 7.776\n",
            "Epoch: 4301, loss \u003d 7.385\n",
            "Epoch: 4401, loss \u003d 6.630\n",
            "Epoch: 4501, loss \u003d 5.970\n",
            "Epoch: 4601, loss \u003d 7.778\n",
            "Epoch: 4701, loss \u003d 8.245\n",
            "Epoch: 4801, loss \u003d 6.231\n",
            "Epoch: 4901, loss \u003d 6.546\n"
          ]
        }
      ],
      "source": [
        "losses \u003d []\n",
        "epochs \u003d 5000\n",
        "\n",
        "batch_size \u003d 64\n",
        "\n",
        "steps_per_epoch \u003d X_.shape[0] // batch_size\n",
        "\n",
        "\n",
        "for i in range(epochs):\n",
        "    loss \u003d 0\n",
        "    \n",
        "    for batch in range(steps_per_epoch):\n",
        "        #indices \u003d np.random.choice(range(X_.shape[0]), size\u003d10, replace\u003dTrue)\n",
        "        #X_batch \u003d X_[indices]\n",
        "        #y_batch \u003d y_[indices]\n",
        "        X_batch, y_batch \u003d resample(X_, y_, n_samples\u003dbatch_size)\n",
        "        \n",
        "        X.value \u003d X_batch\n",
        "        y.value \u003d y_batch\n",
        "        \n",
        "#         input_node_with_value \u003d {  # -\u003e feed_dict \n",
        "#             X: X_batch, \n",
        "#             y: y_batch, \n",
        "#             W1: W1.value, \n",
        "#             W2: W2.value, \n",
        "#             b1: b1.value, \n",
        "#             b2: b2.value,\n",
        "#         }\n",
        "        \n",
        "#         graph \u003d topological_sort(input_node_with_value)\n",
        "        \n",
        "        training_one_batch(graph)\n",
        "        \n",
        "        learning_rate \u003d 1e-3\n",
        "        \n",
        "        sgd_update(trainable_nodes\u003d[W1, W2, b1, b2], learning_rate\u003dlearning_rate)\n",
        "        \n",
        "        loss +\u003d graph[-1].value\n",
        "        \n",
        "    if i % 100 \u003d\u003d 0:\n",
        "        print(\u0027Epoch: {}, loss \u003d {:.3f}\u0027.format(i+1, loss/steps_per_epoch))\n",
        "        losses.append(loss)"
      ]
    },
    {
      "cell_type": "code",
      "execution_count": 83,
      "metadata": {
        "pycharm": {}
      },
      "outputs": [],
      "source": [
        "import matplotlib.pyplot as plt"
      ]
    },
    {
      "cell_type": "code",
      "execution_count": 103,
      "metadata": {
        "pycharm": {}
      },
      "outputs": [
        {
          "data": {
            "text/plain": [
              "[\u003cmatplotlib.lines.Line2D at 0x1a16a132e8\u003e]"
            ]
          },
          "execution_count": 103,
          "metadata": {},
          "output_type": "execute_result"
        },
        {
          "data": {
            "image/png": "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\u003d\n",
            "text/plain": [
              "\u003cFigure size 432x288 with 1 Axes\u003e"
            ]
          },
          "metadata": {
            "needs_background": "light"
          },
          "output_type": "display_data"
        }
      ],
      "source": [
        "plt.plot(losses)"
      ]
    },
    {
      "cell_type": "code",
      "execution_count": 105,
      "metadata": {
        "pycharm": {}
      },
      "outputs": [
        {
          "data": {
            "text/plain": [
              "array([[-8.41231704e-01, -4.17912611e-01, -9.79667968e-01,\n",
              "        -9.93939844e-01, -1.20677268e+00,  1.33196830e-02,\n",
              "         2.12823015e+00, -1.42477979e+00,  3.76380168e-01,\n",
              "        -4.97291131e-01],\n",
              "       [ 2.29352668e+00,  2.42248024e-01,  1.24560124e-02,\n",
              "         9.52687374e-01, -5.12767569e-01, -3.63405898e-01,\n",
              "         1.03284051e+00, -2.18890303e-01, -1.12423916e-03,\n",
              "         3.39130709e-01],\n",
              "       [ 1.07514523e+00,  1.23763558e+00,  9.07164709e-02,\n",
              "         9.84150479e-01,  1.35108907e+00,  6.93577477e-01,\n",
              "        -5.09242107e-01,  4.24469668e-01, -7.70880937e-01,\n",
              "        -1.59567675e+00],\n",
              "       [ 3.36424072e-03, -1.01822612e+00,  7.32448153e-03,\n",
              "        -4.40168362e-03,  3.82733931e+00, -3.74574327e-01,\n",
              "         7.30528197e-03, -5.67214278e-01, -2.18322328e-01,\n",
              "         8.12763511e-02],\n",
              "       [-3.42829125e+00,  1.11352868e+00, -1.31610337e+00,\n",
              "         3.28411659e-01,  1.46576347e+00,  2.31788350e-01,\n",
              "         2.99047627e+00,  8.31093900e-01, -4.06194686e-01,\n",
              "        -9.86004557e-01],\n",
              "       [-1.25081419e+00,  2.97293428e-01,  1.58205318e+00,\n",
              "         1.48209402e+00,  1.98985477e+00,  2.11083606e+00,\n",
              "         5.00337556e-01,  1.12902706e+00, -1.43969283e-01,\n",
              "        -8.81491285e-01],\n",
              "       [-2.68375191e-01,  2.34551249e-01,  8.67457805e-01,\n",
              "        -7.71342189e-01, -1.13804326e+00, -1.25634100e+00,\n",
              "        -1.18954968e+00,  1.60899181e-01,  8.64936612e-01,\n",
              "         4.48716075e-01],\n",
              "       [-1.59778420e+00, -1.34118007e+00, -8.69176413e-01,\n",
              "        -4.50811373e-01,  1.30236812e+00,  6.07501772e-01,\n",
              "        -3.14675526e+00,  8.49089952e-01,  5.06751387e-01,\n",
              "        -3.92210486e+00],\n",
              "       [ 1.52958045e+00, -3.20205864e-01,  2.45761556e+00,\n",
              "         1.77469295e+00, -1.22829171e+00,  3.32641616e+00,\n",
              "         1.98552044e+00, -2.74664674e+00,  1.13224185e+00,\n",
              "        -1.50731435e+00],\n",
              "       [-1.46637872e+00,  9.93823947e-01, -2.64607675e-01,\n",
              "         2.13083584e+00, -2.49773193e+00,  3.64183933e-01,\n",
              "        -1.24316017e+00, -1.08183240e+00, -1.77855039e-01,\n",
              "         8.73556868e-01],\n",
              "       [-3.33160020e-01,  1.24687873e-01,  2.41721659e-01,\n",
              "        -5.62239983e-01, -4.61704392e-01,  3.84732190e-01,\n",
              "        -1.62606281e+00,  9.73359730e-01, -9.14158133e-01,\n",
              "        -4.20000223e-01],\n",
              "       [ 1.22659336e+00, -4.70220224e-01, -9.50813047e-01,\n",
              "         9.27805929e-01,  6.19487542e-01, -1.97198594e+00,\n",
              "        -1.71202887e+00,  1.61476207e+00,  1.85526234e-01,\n",
              "         2.63769679e-01],\n",
              "       [-1.59788970e+00, -2.52532619e-01, -2.78884583e+00,\n",
              "        -2.16408878e+00,  2.83120902e+00,  4.36721286e-01,\n",
              "         3.29362868e-02,  9.86760304e-01, -3.35205292e+00,\n",
              "        -2.38209671e+00]])"
            ]
          },
          "execution_count": 105,
          "metadata": {},
          "output_type": "execute_result"
        }
      ],
      "source": [
        "W1.value"
      ]
    },
    {
      "cell_type": "code",
      "execution_count": 106,
      "metadata": {
        "pycharm": {}
      },
      "outputs": [
        {
          "data": {
            "text/plain": [
              "array([[ 7.66479385],\n",
              "       [-2.65509922],\n",
              "       [ 6.10007003],\n",
              "       [ 7.34485196],\n",
              "       [ 6.07696602],\n",
              "       [ 4.80457455],\n",
              "       [ 4.86742412],\n",
              "       [ 4.66231273],\n",
              "       [ 6.97347865],\n",
              "       [ 7.34414908]])"
            ]
          },
          "execution_count": 106,
          "metadata": {},
          "output_type": "execute_result"
        }
      ],
      "source": [
        "W2.value"
      ]
    },
    {
      "cell_type": "code",
      "execution_count": 107,
      "metadata": {
        "pycharm": {}
      },
      "outputs": [
        {
          "data": {
            "text/plain": [
              "array([-0.41733926, -0.48772236, -0.59338101, -0.27259857, -0.74026221,\n",
              "        0.19427445,  0.36716642,  0.55715988, -0.8678825 , -0.98732948,\n",
              "       -0.30309415,  0.44105193, -0.49243937])"
            ]
          },
          "execution_count": 107,
          "metadata": {},
          "output_type": "execute_result"
        }
      ],
      "source": [
        "X_[1]"
      ]
    },
    {
      "cell_type": "markdown",
      "metadata": {
        "pycharm": {}
      },
      "source": [
        "linear_output \u003d Linear(X, W1, b1)\n",
        "sigmoid_output \u003d Sigmoid(linear_output)\n",
        "yhat \u003d Linear(sigmoid_output, W2, b2)\n",
        "loss \u003d MSE(y, yhat)"
      ]
    },
    {
      "cell_type": "code",
      "execution_count": 108,
      "metadata": {
        "pycharm": {}
      },
      "outputs": [],
      "source": [
        "x1 \u003d Input()"
      ]
    },
    {
      "cell_type": "code",
      "execution_count": 109,
      "metadata": {
        "pycharm": {}
      },
      "outputs": [],
      "source": [
        "x1.value \u003d X_[1]"
      ]
    },
    {
      "cell_type": "code",
      "execution_count": 117,
      "metadata": {
        "pycharm": {}
      },
      "outputs": [],
      "source": [
        "y_of_x1 \u003d  Linear(Sigmoid(Linear(x1, W1, b1)), W2, b2)"
      ]
    },
    {
      "cell_type": "code",
      "execution_count": 119,
      "metadata": {
        "pycharm": {}
      },
      "outputs": [
        {
          "data": {
            "text/plain": [
              "(13, 10)"
            ]
          },
          "execution_count": 119,
          "metadata": {},
          "output_type": "execute_result"
        }
      ],
      "source": [
        "W1.value.shape"
      ]
    },
    {
      "cell_type": "code",
      "execution_count": 124,
      "metadata": {
        "pycharm": {}
      },
      "outputs": [],
      "source": "def _sigmoid(x):\n        return 1. / (1 + np.exp(-1 * x))"
    },
    {
      "cell_type": "code",
      "execution_count": 127,
      "metadata": {
        "pycharm": {}
      },
      "outputs": [
        {
          "data": {
            "text/plain": [
              "array([23.94078679])"
            ]
          },
          "execution_count": 127,
          "metadata": {},
          "output_type": "execute_result"
        }
      ],
      "source": [
        "np.dot(_sigmoid(np.dot(X_[1], W1.value) + b1.value), W2.value) + b2.value"
      ]
    },
    {
      "cell_type": "code",
      "execution_count": 129,
      "metadata": {
        "pycharm": {}
      },
      "outputs": [
        {
          "data": {
            "text/plain": [
              "21.6"
            ]
          },
          "execution_count": 129,
          "metadata": {},
          "output_type": "execute_result"
        }
      ],
      "source": [
        "y_[1]"
      ]
    },
    {
      "cell_type": "code",
      "execution_count": 118,
      "metadata": {
        "pycharm": {}
      },
      "outputs": [
        {
          "data": {
            "text/plain": [
              "\u003c__main__.Linear at 0x1a187c02b0\u003e"
            ]
          },
          "execution_count": 118,
          "metadata": {},
          "output_type": "execute_result"
        }
      ],
      "source": [
        "y_of_x1"
      ]
    }
  ],
  "metadata": {
    "kernelspec": {
      "display_name": "Python 3",
      "language": "python",
      "name": "python3"
    },
    "language_info": {
      "codemirror_mode": {
        "name": "ipython",
        "version": 3
      },
      "file_extension": ".py",
      "mimetype": "text/x-python",
      "name": "python",
      "nbconvert_exporter": "python",
      "pygments_lexer": "ipython3",
      "version": "3.7.3"
    }
  },
  "nbformat": 4,
  "nbformat_minor": 2
}