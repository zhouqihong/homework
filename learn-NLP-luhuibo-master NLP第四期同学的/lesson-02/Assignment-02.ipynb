{
 "cells": [
  {
   "cell_type": "markdown",
   "metadata": {},
   "source": [
    "## Assignments for Week-02"
   ]
  },
  {
   "cell_type": "markdown",
   "metadata": {},
   "source": [
    "In this course, we learnt what's the search problem and what's the machine leanring. In this assignment, we need you do some more practice."
   ]
  },
  {
   "cell_type": "markdown",
   "metadata": {},
   "source": [
    "### 1. Re-code the house price machine learning\n",
    "\n",
    "###### 1. Random Choose Method to get optimal *k* and *b*\n",
    "###### 2.Supervised Direction to get optimal *k* and *b*\n",
    "###### 3.Gradient Descent to get optimal *k* and *b*\n",
    "###### 4. Try different Loss function and learning rate. \n",
    "\n",
    "For example, you can change the loss function: $Loss = \\frac{1}{n} sum({y_i - \\hat{y_i}})^2$ to $Loss = \\frac{1}{n} sum(|{y_i - \\hat{y_i}}|)$\n",
    "\n",
    "And you can change the learning rate and observe the performance."
   ]
  },
  {
   "cell_type": "markdown",
   "metadata": {},
   "source": [
    "![](https://timgsa.baidu.com/timg?image&quality=80&size=b9999_10000&sec=1562414412237&di=8377c38d7b50c6f8d45b92ccc78dc1e7&imgtype=0&src=http%3A%2F%2Fmmbiz.qpic.cn%2Fmmbiz_jpg%2FlSyiavfm6wPgQDuDYa42IMgSkLOcPJU91RbkMibGy7VHLrhhNVLibTYk1iaLcmXKTdHc4icTDVia59QFXwqpW8cLflaw%2F640%3Fwx_fmt%3Djpeg)"
   ]
  },
  {
   "cell_type": "markdown",
   "metadata": {},
   "source": [
    "## 2. Answer following questions:\n",
    "\n",
    "\n",
    "###### 1. Why do we need machine learning methods instead of creating a complicated formula?\n"
   ]
  },
  {
   "cell_type": "markdown",
   "metadata": {},
   "source": [
    "Ans:"
   ]
  },
  {
   "cell_type": "markdown",
   "metadata": {},
   "source": [
    "###### 2.  Wha't's the disadvantages of `the 1st Random Choosen` methods in our course? "
   ]
  },
  {
   "cell_type": "markdown",
   "metadata": {},
   "source": [
    "Ans:"
   ]
  },
  {
   "cell_type": "markdown",
   "metadata": {},
   "source": [
    "###### 3. Is the `2nd method supervised direction` better than 1st one?  What's the disadvantages of `the 2nd supversied directin` method? "
   ]
  },
  {
   "cell_type": "markdown",
   "metadata": {},
   "source": [
    "Ans:"
   ]
  },
  {
   "cell_type": "markdown",
   "metadata": {},
   "source": [
    "###### 4. Why do we use `Derivative / Gredient` to fit a target function? "
   ]
  },
  {
   "cell_type": "markdown",
   "metadata": {},
   "source": [
    "Ans:"
   ]
  },
  {
   "cell_type": "markdown",
   "metadata": {},
   "source": [
    "###### 5. In the words 'Gredient Descent', what's the `Gredient` and what's the `Descent`?"
   ]
  },
  {
   "cell_type": "markdown",
   "metadata": {},
   "source": [
    "Ans:"
   ]
  },
  {
   "cell_type": "markdown",
   "metadata": {},
   "source": [
    "###### 6. What's the advantages of `the 3rd gradient descent method` compared to the previous methods?"
   ]
  },
  {
   "cell_type": "markdown",
   "metadata": {},
   "source": [
    "Ans:"
   ]
  },
  {
   "cell_type": "markdown",
   "metadata": {},
   "source": [
    "###### 7. Using the simple words to describe: What's the machine leanring."
   ]
  },
  {
   "cell_type": "markdown",
   "metadata": {},
   "source": [
    "Ans:"
   ]
  },
  {
   "cell_type": "markdown",
   "metadata": {},
   "source": [
    "## 3. Finish the search problem"
   ]
  },
  {
   "cell_type": "markdown",
   "metadata": {},
   "source": [
    "Please using the search policy to implement an agent. This agent receives two input, one is @param start station and the other is @param destination. Your agent should give the optimal route based on Beijing Subway system. "
   ]
  },
  {
   "cell_type": "markdown",
   "metadata": {},
   "source": [
    "> Deadline: 2019-July-13\n",
    "\n",
    ">Submit: Submit the source code and result to github. \n",
    "\n"
   ]
  },
  {
   "cell_type": "markdown",
   "metadata": {},
   "source": [
    "![](https://timgsa.baidu.com/timg?image&quality=80&size=b9999_10000&sec=1562414356407&di=b57814aafd215bb8b8d9d8cd37c573d6&imgtype=0&src=http%3A%2F%2Fcli.clewm.net%2Ffile%2F2015%2F03%2F24%2F174ed60082b8422ac0636cfd3efb9e7f.jpg)"
   ]
  },
  {
   "cell_type": "markdown",
   "metadata": {},
   "source": [
    "#### Dataflow: "
   ]
  },
  {
   "cell_type": "markdown",
   "metadata": {},
   "source": [
    "##### 1.\tGet data from web page.\n",
    "\n",
    "> a.\tGet web page source from: https://baike.baidu.com/item/%E5%8C%97%E4%BA%AC%E5%9C%B0%E9%93%81/408485\n",
    "\n",
    "> b.\tYou may need @package **requests**[https://2.python-requests.org/en/master/] page to get the response via url\n",
    "\n",
    "> c.\tYou may need save the page source to file system.\n",
    "\n",
    "> d.\tThe target of this step is to get station information of all the subway lines;\n",
    "\n",
    "> e.\tYou may need install @package beautiful soup[https://www.crummy.com/software/BeautifulSoup/bs4/doc/]  to get the url information, or just use > Regular Expression to get the url.  Our recommendation is that using the Regular Expression and BeautiflSoup both. \n",
    "\n",
    "> f.\tYou may need BFS to get all the related page url from one url. \n",
    "Question: Why do we use BFS to traverse web page (or someone said, build a web spider)?  Can DFS do this job? which is better? "
   ]
  },
  {
   "cell_type": "markdown",
   "metadata": {},
   "source": [
    "## 用广州地铁线路图代替北京的，用 wiki+高德地图代替百度的"
   ]
  },
  {
   "cell_type": "code",
   "execution_count": 1,
   "metadata": {},
   "outputs": [],
   "source": [
    "import requests\n",
    "import re\n",
    "from bs4 import BeautifulSoup\n",
    "from collections import defaultdict\n",
    "\n",
    "\n",
    "def get_each_line_station(url):\n",
    "    \"\"\"\n",
    "    获取每一条地铁线的站点信息\n",
    "    :param url: https://zh.wikipedia.org/wiki/%E5%B9%BF%E5%B7%9E%E5%9C%B0%E9%93%811%E5%8F%B7%E7%BA%BF （如：1号线）\n",
    "    :return: list列表存储的所有站点信息\n",
    "    \"\"\"\n",
    "    resp = requests.get(url, timeout=30)\n",
    "    resp.encoding = 'utf-8'\n",
    "    s = BeautifulSoup(resp.text, \"html.parser\")\n",
    "    tab = s.find_all('table', attrs={\"class\": \"wikitable\", \"align\": \"center\"})\n",
    "    station_list = re.findall(r'<th><a href=\"/wiki/.+\" title=\".+\">(.+)</a>', str(tab))\n",
    "\n",
    "    return station_list\n",
    "\n",
    "\n",
    "def get_cantion_metro(lines_dict):\n",
    "    \"\"\"\n",
    "    获取广州的所有地铁信息\n",
    "    :param lines_dict: 输入的字典形式为:{'1号线': 'https:/..','2号线': 'https:/..'}\n",
    "    :return: {'1号线': ['广州东站', '体育中心', ...],'2号线':[]...}\n",
    "    \"\"\"\n",
    "    for k_name, v_url in lines_dict.items():\n",
    "        lines_dict[k_name] = get_each_line_station(lines_dict[k_name])\n",
    "    return lines_dict\n",
    "\n",
    "\n",
    "def get_all_stations(lines_dict):\n",
    "    \"\"\"\n",
    "    将一个城市的所有地铁站信息存储到一个List中\n",
    "    :param lines_dict:\n",
    "    :return:\n",
    "    \"\"\"\n",
    "    stations = set()\n",
    "    for k_name, v_value in lines_dict.items():\n",
    "        stations.update(lines_dict[k_name])\n",
    "    return stations"
   ]
  },
  {
   "cell_type": "code",
   "execution_count": 2,
   "metadata": {},
   "outputs": [
    {
     "name": "stdout",
     "output_type": "stream",
     "text": [
      "<class 'list'>\n",
      "获取到广州的地铁路线为：\n",
      "('/wiki/%E5%B9%BF%E5%B7%9E%E5%9C%B0%E9%93%811%E5%8F%B7%E7%BA%BF', '1号线')\n",
      "('/wiki/%E5%B9%BF%E5%B7%9E%E5%9C%B0%E9%93%812%E5%8F%B7%E7%BA%BF', '2号线')\n",
      "('/wiki/%E5%B9%BF%E5%B7%9E%E5%9C%B0%E9%93%813%E5%8F%B7%E7%BA%BF', '3号线')\n",
      "('/wiki/%E5%B9%BF%E5%B7%9E%E5%9C%B0%E9%93%814%E5%8F%B7%E7%BA%BF', '4号线')\n",
      "('/wiki/%E5%B9%BF%E5%B7%9E%E5%9C%B0%E9%93%815%E5%8F%B7%E7%BA%BF', '5号线')\n",
      "('/wiki/%E5%B9%BF%E5%B7%9E%E5%9C%B0%E9%93%816%E5%8F%B7%E7%BA%BF', '6号线')\n",
      "('/wiki/%E5%B9%BF%E5%B7%9E%E5%9C%B0%E9%93%817%E5%8F%B7%E7%BA%BF', '7号线')\n",
      "('/wiki/%E5%B9%BF%E5%B7%9E%E5%9C%B0%E9%93%818%E5%8F%B7%E7%BA%BF', '8号线')\n",
      "('/wiki/%E5%B9%BF%E5%B7%9E%E5%9C%B0%E9%93%819%E5%8F%B7%E7%BA%BF', '9号线')\n",
      "('/wiki/%E5%B9%BF%E5%B7%9E%E5%9C%B0%E9%93%8113%E5%8F%B7%E7%BA%BF', '13号线')\n",
      "('/wiki/%E5%B9%BF%E5%B7%9E%E5%9C%B0%E9%93%8114%E5%8F%B7%E7%BA%BF', '14号线')\n",
      "('/wiki/%E5%B9%BF%E5%B7%9E%E5%9C%B0%E9%93%8121%E5%8F%B7%E7%BA%BF', '21号线')\n",
      "('/wiki/%E5%B9%BF%E4%BD%9B%E7%BA%BF', '广佛线')\n",
      "('/wiki/%E7%8F%A0%E6%B1%9F%E6%96%B0%E5%9F%8E%E6%97%85%E5%AE%A2%E8%87%AA%E5%8A%A8%E8%BE%93%E9%80%81%E7%B3%BB%E7%BB%9F', 'APM线')\n",
      "{'1号线': 'https://zh.wikipedia.org/wiki/%E5%B9%BF%E5%B7%9E%E5%9C%B0%E9%93%811%E5%8F%B7%E7%BA%BF', '2号线': 'https://zh.wikipedia.org/wiki/%E5%B9%BF%E5%B7%9E%E5%9C%B0%E9%93%812%E5%8F%B7%E7%BA%BF', '3号线': 'https://zh.wikipedia.org/wiki/%E5%B9%BF%E5%B7%9E%E5%9C%B0%E9%93%813%E5%8F%B7%E7%BA%BF', '4号线': 'https://zh.wikipedia.org/wiki/%E5%B9%BF%E5%B7%9E%E5%9C%B0%E9%93%814%E5%8F%B7%E7%BA%BF', '5号线': 'https://zh.wikipedia.org/wiki/%E5%B9%BF%E5%B7%9E%E5%9C%B0%E9%93%815%E5%8F%B7%E7%BA%BF', '6号线': 'https://zh.wikipedia.org/wiki/%E5%B9%BF%E5%B7%9E%E5%9C%B0%E9%93%816%E5%8F%B7%E7%BA%BF', '7号线': 'https://zh.wikipedia.org/wiki/%E5%B9%BF%E5%B7%9E%E5%9C%B0%E9%93%817%E5%8F%B7%E7%BA%BF', '8号线': 'https://zh.wikipedia.org/wiki/%E5%B9%BF%E5%B7%9E%E5%9C%B0%E9%93%818%E5%8F%B7%E7%BA%BF', '9号线': 'https://zh.wikipedia.org/wiki/%E5%B9%BF%E5%B7%9E%E5%9C%B0%E9%93%819%E5%8F%B7%E7%BA%BF', '13号线': 'https://zh.wikipedia.org/wiki/%E5%B9%BF%E5%B7%9E%E5%9C%B0%E9%93%8113%E5%8F%B7%E7%BA%BF', '14号线': 'https://zh.wikipedia.org/wiki/%E5%B9%BF%E5%B7%9E%E5%9C%B0%E9%93%8114%E5%8F%B7%E7%BA%BF', '21号线': 'https://zh.wikipedia.org/wiki/%E5%B9%BF%E5%B7%9E%E5%9C%B0%E9%93%8121%E5%8F%B7%E7%BA%BF', '广佛线': 'https://zh.wikipedia.org/wiki/%E5%B9%BF%E4%BD%9B%E7%BA%BF', 'APM线': 'https://zh.wikipedia.org/wiki/%E7%8F%A0%E6%B1%9F%E6%96%B0%E5%9F%8E%E6%97%85%E5%AE%A2%E8%87%AA%E5%8A%A8%E8%BE%93%E9%80%81%E7%B3%BB%E7%BB%9F'}\n"
     ]
    }
   ],
   "source": [
    "    # 在国内使用requests请求wiki,google等国外的地址，需要设置代理，将小飞机设置为全局代理\n",
    "    response = requests.get('https://zh.wikipedia.org/wiki/%E5%B9%BF%E5%B7%9E%E5%9C%B0%E9%93%81')\n",
    "    response.encoding = 'utf-8'\n",
    "    # 解析wiki的html，得到beautiful对象\n",
    "    soup = BeautifulSoup(response.text, \"html.parser\")\n",
    "    # 查找bs想要获取的表格，查看html代码，表格的头数据是：\n",
    "    # <table class=\"wikitable\" align=\"center\" style=\"width: 100%;\">，变成soup的find_all是attrs={}\n",
    "    tables = soup.find_all('table', attrs={\"class\": \"wikitable\", \"align\": \"center\", \"style\": \"width: 100%;\"})\n",
    "    # print(tables)   #将数据丢到xx.html文件展示\n",
    "    pattern = re.compile(r'<a.+?href=\"(/wiki/.+)\" title=\".+\">(.+线)</a>')\n",
    "    lines = pattern.findall(str(tables))\n",
    "    print(type(lines))\n",
    "    print('获取到广州的地铁路线为：')\n",
    "    for line in lines:\n",
    "        print(line)\n",
    "    # 将获取的线路存到字典中\n",
    "    canton_lines = {}\n",
    "    for line in lines:\n",
    "        canton_lines[line[1]] = 'https://zh.wikipedia.org' + line[0]\n",
    "    print(canton_lines)"
   ]
  },
  {
   "cell_type": "code",
   "execution_count": 3,
   "metadata": {},
   "outputs": [
    {
     "name": "stdout",
     "output_type": "stream",
     "text": [
      "====================\n",
      "{'1号线': ['广州东站', '体育中心', '体育西路', '杨箕', '东山口', '烈士陵园', '农讲所', '公园前', '西门口', '陈家祠', '长寿路', '黄沙', '芳村', '花地湾', '坑口', '西塱'], '2号线': ['嘉禾望岗', '黄边', '江夏', '萧岗', '白云文化广场', '白云公园', '飞翔公园', '三元里', '广州火车站', '越秀公园', '纪念堂', '公园前', '海珠广场', '市二宫', '江南西', '昌岗', '江泰路', '东晓南', '南洲', '洛溪', '南浦', '会江', '石壁', '广州南站'], '3号线': ['番禺广场', '市桥', '汉溪长隆', '大石', '厦滘', '沥滘', '大塘', '客村', '广州塔', '珠江新城', '石牌桥', '岗顶', '华师', '五山', '天河客运站', '林和西', '广州东站', '燕塘', '梅花园', '京溪南方医院', '同和', '永泰', '白云大道北', '嘉禾望岗', '龙归', '人和', '高增', '机场南'], '4号线': ['黄村', '车陂', '车陂南', '万胜围', '官洲', '大学城北', '大学城南', '新造', '石碁', '海傍', '低涌', '东涌', '庆盛', '黄阁汽车城', '黄阁', '蕉门', '金洲', '飛沙角', '广隆', '大涌', '塘坑', '南橫', '南沙客运港'], '5号线': ['文冲', '大沙东', '大沙地', '鱼珠', '三溪', '东圃', '车陂南', '科韵路', '员村', '潭村', '猎德', '珠江新城', '五羊邨', '杨箕', '动物园', '区庄', '淘金', '小北', '广州火车站', '西村', '西场', '中山八', '坦尾', '滘口'], '6号线': ['浔峰岗', '横沙', '沙贝', '河沙', '坦尾', '如意坊', '黄沙', '文化公园', '一德路', '海珠广场', '北京路', '團一大廣場', '东湖', '东山口', '区庄', '黄花岗', '沙河顶', '天平架', '燕塘', '天河客运站', '长湴', '植物园', '龙洞', '柯木塱', '高塘石', '黄陂', '金峰', '暹崗', '蘇元', '蘿崗', '香雪'], '7号线': ['广州南站', '石壁', '谢村', '钟村', '汉溪长隆', '南村万博', '员岗', '板桥', '大学城南'], '8号线': ['凤凰新村', '沙园', '宝岗大道', '昌岗', '晓港', '中大', '鹭江', '客村', '赤岗', '磨碟沙', '新港东', '琶洲', '万胜围'], '9号线': ['高增', '清塘', '清㘵', '莲塘', '马鞍山公园', '花都广场', '花果山公园', '花城路', '广州北站', '花都汽车城', '飞鹅岭'], '13号线': ['鱼珠', '裕丰围', '双岗', '南海神庙', '夏园', '南岗', '沙村', '白江', '新塘', '官湖', '新沙'], '14号线': ['東風', '从化客运站', '赤草', '神岗', '太平', '新和', '馬瀝', '钟落潭', '竹料', '太和', '夏良', '白雲東平', '嘉禾望岗', '紅衛', '新南', '楓下', '何棠下', '旺村', '湯村', '镇龙北'], '21号线': ['鎮龍西', '中新', '坑貝', '鳳崗', '朱村', '山田', '钟岗', '增城广场'], '广佛线': ['瀝滘', '南洲', '石溪', '燕岗', '沙園', '沙涌', '鶴洞', '西塱', '菊树', '龙溪', '金融高新区', '千灯湖', '𧒽岗', '南桂路', '桂城', '朝安', '普君北路', '祖庙', '同济路', '季华园', '魁奇路', '瀾石', '世紀蓮', '東平', '新城東'], 'APM线': ['林和西', '体育中心南', '天河南', '黃埔大道', '婦兒中心', '花城大道', '大剧院', '海心沙', '广州塔']}\n"
     ]
    }
   ],
   "source": [
    "    all_lines = get_cantion_metro(canton_lines)\n",
    "    print('=' * 20)\n",
    "    print(all_lines)"
   ]
  },
  {
   "cell_type": "markdown",
   "metadata": {},
   "source": [
    "##### 2.\tPreprocessing data from page source.\n",
    "\n",
    "> a.\tBased on the page source gotten from url. You may need some more preprocessing of the page. \n",
    "\n",
    "> b.\tthe Regular Expression you may need to process the text information.\n",
    "\n",
    "> c.\tYou may need @package networkx, @package matplotlib to visualize data. \n",
    "\n",
    "> d.\tYou should build a dictionary or graph which could represent the connection information of Beijing subway routes. \n",
    "\n",
    "> e.\tYou may need the defaultdict, set data structures to implement this procedure. "
   ]
  },
  {
   "cell_type": "code",
   "execution_count": 4,
   "metadata": {},
   "outputs": [
    {
     "name": "stdout",
     "output_type": "stream",
     "text": [
      "广州市地铁站的个数： 224\n",
      "{'清塘', '瀝滘', '同和', '镇龙北', '西门口', '𧒽岗', '厦滘', '车陂南', '蕉门', '陈家祠', '体育中心', '石碁', '柯木塱', '庆盛', '动物园', '海珠广场', '南村万博', '猎德', '新城東', '石壁', '浔峰岗', '暹崗', '赤岗', '琶洲', '南海神庙', '坦尾', '紅衛', '大沙东', '淘金', '钟村', '江夏', '员村', '石溪', '车陂', '烈士陵园', '清㘵', '大涌', '大学城南', '魁奇路', '燕塘', '白云公园', '馬瀝', '东圃', '长寿路', '河沙', '文化公园', '萧岗', '朝安', '東平', '天河客运站', '黄阁汽车城', '黄边', '五羊邨', '高塘石', '东晓南', '海傍', '鶴洞', '宝岗大道', '公园前', '大石', '南沙客运港', '白云文化广场', '同济路', '西场', '东山口', '林和西', '世紀蓮', '中山八', '千灯湖', '鳳崗', '普君北路', '裕丰围', '黄花岗', '中大', '汉溪长隆', '鱼珠', '飞翔公园', '番禺广场', '植物园', '纪念堂', '三溪', '磨碟沙', '太平', '燕岗', '洛溪', '祖庙', '马鞍山公园', '黃埔大道', '区庄', '金洲', '员岗', '江南西', '芳村', '永泰', '海心沙', '中新', '杨箕', '东湖', '官湖', '小北', '湯村', '江泰路', '新造', '團一大廣場', '香雪', '朱村', '花城大道', '塘坑', '蘿崗', '东涌', '低涌', '旺村', '鹭江', '晓港', '竹料', '珠江新城', '体育西路', '婦兒中心', '板桥', '坑口', '广州火车站', '北京路', '天河南', '沙贝', '三元里', '大塘', '新塘', '龙洞', '天平架', '白江', '黄沙', '滘口', '机场南', '人和', '梅花园', '莲塘', '山田', '黄阁', '农讲所', '菊树', '市桥', '新沙', '一德路', '夏园', '岗顶', '赤草', '广州北站', '谢村', '南浦', '南橫', '增城广场', '潭村', '南岗', '昌岗', '花都广场', '東風', '会江', '白云大道北', '双岗', '客村', '沙园', '新港东', '坑貝', '钟岗', '广隆', '沙河顶', '金融高新区', '华师', '西塱', '黄村', '越秀公园', '广州塔', '龙溪', '新南', '横沙', '大沙地', '沙園', '花地湾', '官洲', '太和', '南洲', '广州南站', '京溪南方医院', '高增', '何棠下', '龙归', '蘇元', '万胜围', '大剧院', '五山', '金峰', '夏良', '花果山公园', '市二宫', '沥滘', '沙村', '嘉禾望岗', '白雲東平', '季华园', '鎮龍西', '沙涌', '花城路', '凤凰新村', '神岗', '新和', '科韵路', '花都汽车城', '从化客运站', '石牌桥', '瀾石', '南桂路', '黄陂', '体育中心南', '飛沙角', '飞鹅岭', '楓下', '大学城北', '长湴', '广州东站', '如意坊', '桂城', '文冲', '西村', '钟落潭'}\n"
     ]
    }
   ],
   "source": [
    "    all_stations = get_all_stations(all_lines)\n",
    "    print('广州市地铁站的个数：', len(all_stations))\n",
    "    print(all_stations)"
   ]
  },
  {
   "cell_type": "code",
   "execution_count": 5,
   "metadata": {},
   "outputs": [],
   "source": [
    "\n",
    "def get_longitude_latitude(city_info, station):\n",
    "    \"\"\"\n",
    "    利用高德地图查询对应的地铁站经纬度信息，下面的key需要自己去高德官网申请\n",
    "    https://lbs.amap.com/api/webservice/guide/api/georegeo\n",
    "    :param city_info: 具体城市的地铁，如：广州市地铁\n",
    "    :param station: 具体的地铁站名称，如：珠江新城站\n",
    "    :return: 经纬度\n",
    "    \"\"\"\n",
    "    addr = city_info + station\n",
    "    parameters = {'address': addr, 'key': '98a3444618af14c0f20c601f5a442000'}\n",
    "    base = 'https://restapi.amap.com/v3/geocode/geo'\n",
    "    resp = requests.get(base, parameters, timeout=60)  # 超时设置为60s，翻墙开了全局代理会慢点的\n",
    "    #print('*要查找的地点：' + addr)\n",
    "    answer = resp.json()\n",
    "    x, y = answer['geocodes'][0]['location'].split(',')\n",
    "    coor = (float(x), float(y))\n",
    "    print('=' + station + '的坐标是：', coor)\n",
    "    return coor\n",
    "\n",
    "\n",
    "\n",
    "def get_station_location(station_connection):\n",
    "    \"\"\"\n",
    "    获取广州市所有地铁站的经纬度信息\n",
    "    :param station_connection:处理过的地铁连接信息list，\n",
    "    类似defaultdict(<class 'list'>, {'广州东站': ['体育中心', '林和西', '燕塘'], '体育中心': ['广州东站', '体育西路']...\n",
    "    :return:字典dict\n",
    "    \"\"\"\n",
    "    station_location = {}\n",
    "    for station in station_connection:\n",
    "        md_station = station + \"站\"\n",
    "        station_location[station] = get_longitude_latitude(city_info='广州市地铁', station=md_station)\n",
    "    return station_location"
   ]
  },
  {
   "cell_type": "code",
   "execution_count": 6,
   "metadata": {},
   "outputs": [
    {
     "name": "stdout",
     "output_type": "stream",
     "text": [
      "=清塘站的坐标是： (113.264434, 23.129162)\n",
      "=瀝滘站的坐标是： (113.264434, 23.129162)\n",
      "=同和站的坐标是： (113.326229, 23.196997)\n",
      "=镇龙北站的坐标是： (113.264434, 23.129162)\n",
      "=西门口站的坐标是： (113.255323, 23.125064)\n",
      "=𧒽岗站的坐标是： (113.264434, 23.129162)\n",
      "=厦滘站的坐标是： (113.320299, 23.037735)\n",
      "=车陂南站的坐标是： (113.39177, 23.115919)\n",
      "=蕉门站的坐标是： (113.264434, 23.129162)\n",
      "=陈家祠站的坐标是： (113.245821, 23.125483)\n",
      "=体育中心站的坐标是： (113.328186, 23.135496)\n",
      "=石碁站的坐标是： (113.465702, 22.957804)\n",
      "=柯木塱站的坐标是： (113.264434, 23.129162)\n",
      "=庆盛站的坐标是： (113.264434, 23.129162)\n",
      "=动物园站的坐标是： (113.306899, 23.134906)\n",
      "=海珠广场站的坐标是： (113.265421, 23.114518)\n",
      "=南村万博站的坐标是： (113.264434, 23.129162)\n",
      "=猎德站的坐标是： (113.331732, 23.118085)\n",
      "=新城東站的坐标是： (113.264434, 23.129162)\n",
      "=石壁站的坐标是： (113.277964, 22.994136)\n",
      "=浔峰岗站的坐标是： (113.201985, 23.164148)\n",
      "=暹崗站的坐标是： (113.45875, 23.168063)\n",
      "=赤岗站的坐标是： (113.330623, 23.095768)\n",
      "=琶洲站的坐标是： (113.320865, 23.09575)\n",
      "=南海神庙站的坐标是： (113.496064, 23.083994)\n",
      "=坦尾站的坐标是： (113.21495, 23.12565)\n",
      "=紅衛站的坐标是： (113.264434, 23.129162)\n",
      "=大沙东站的坐标是： (113.458777, 23.10546)\n",
      "=淘金站的坐标是： (113.28675, 23.136)\n",
      "=钟村站的坐标是： (113.264434, 23.129162)\n",
      "=江夏站的坐标是： (113.284042, 23.206917)\n",
      "=员村站的坐标是： (113.364111, 23.115197)\n",
      "=石溪站的坐标是： (113.264434, 23.129162)\n",
      "=车陂站的坐标是： (113.395636, 23.123956)\n",
      "=烈士陵园站的坐标是： (113.28659, 23.126612)\n",
      "=清㘵站的坐标是： (113.264434, 23.129162)\n",
      "=大涌站的坐标是： (113.264434, 23.129162)\n",
      "=大学城南站的坐标是： (113.3846, 23.09798)\n",
      "=魁奇路站的坐标是： (113.264434, 23.129162)\n",
      "=燕塘站的坐标是： (113.264434, 23.129162)\n",
      "=白云公园站的坐标是： (113.271042, 23.181446)\n",
      "=馬瀝站的坐标是： (113.264434, 23.129162)\n",
      "=东圃站的坐标是： (113.40126, 23.109922)\n",
      "=长寿路站的坐标是： (113.264434, 23.129162)\n",
      "=河沙站的坐标是： (113.215558, 23.136949)\n",
      "=文化公园站的坐标是： (113.248251, 23.109169)\n",
      "=萧岗站的坐标是： (113.280697, 23.19858)\n",
      "=朝安站的坐标是： (113.264434, 23.129162)\n",
      "=東平站的坐标是： (113.264434, 23.129162)\n",
      "=天河客运站站的坐标是： (113.342309, 23.170892)\n",
      "=黄阁汽车城站的坐标是： (113.50929, 22.835932)\n",
      "=黄边站的坐标是： (113.287122, 23.217544)\n",
      "=五羊邨站的坐标是： (113.31355, 23.1195)\n",
      "=高塘石站的坐标是： (113.264434, 23.129162)\n",
      "=东晓南站的坐标是： (113.293992, 23.071314)\n",
      "=海傍站的坐标是： (113.384549, 23.097781)\n",
      "=鶴洞站的坐标是： (113.264434, 23.129162)\n",
      "=宝岗大道站的坐标是： (113.264434, 23.129162)\n",
      "=公园前站的坐标是： (113.264666, 23.125205)\n",
      "=大石站的坐标是： (113.321744, 23.017761)\n",
      "=南沙客运港站的坐标是： (113.264434, 23.129162)\n",
      "=白云文化广场站的坐标是： (113.275209, 23.192289)\n",
      "=同济路站的坐标是： (113.264434, 23.129162)\n",
      "=西场站的坐标是： (113.236725, 23.1375)\n",
      "=东山口站的坐标是： (113.294729, 23.124047)\n",
      "=林和西站的坐标是： (113.32398, 23.14172)\n",
      "=世紀蓮站的坐标是： (113.264434, 23.129162)\n",
      "=中山八站的坐标是： (113.264434, 23.129162)\n",
      "=千灯湖站的坐标是： (113.264434, 23.129162)\n",
      "=鳳崗站的坐标是： (113.264434, 23.129162)\n",
      "=普君北路站的坐标是： (113.264434, 23.129162)\n",
      "=裕丰围站的坐标是： (113.264434, 23.129162)\n",
      "=黄花岗站的坐标是： (113.264434, 23.129162)\n",
      "=中大站的坐标是： (113.2925, 23.091173)\n",
      "=汉溪长隆站的坐标是： (113.33143, 22.993677)\n",
      "=鱼珠站的坐标是： (113.321778, 23.119509)\n",
      "=飞翔公园站的坐标是： (113.263364, 23.16844)\n",
      "=番禺广场站的坐标是： (113.3843, 22.934005)\n",
      "=植物园站的坐标是： (113.264434, 23.129162)\n",
      "=纪念堂站的坐标是： (113.288265, 23.122081)\n",
      "=三溪站的坐标是： (113.264434, 23.129162)\n",
      "=磨碟沙站的坐标是： (113.341285, 23.098689)\n",
      "=太平站的坐标是： (113.264434, 23.129162)\n",
      "=燕岗站的坐标是： (113.27175, 23.075417)\n",
      "=洛溪站的坐标是： (113.298894, 23.043237)\n",
      "=祖庙站的坐标是： (113.264434, 23.129162)\n",
      "=马鞍山公园站的坐标是： (113.264434, 23.129162)\n",
      "=黃埔大道站的坐标是： (113.324733, 23.126305)\n",
      "=区庄站的坐标是： (113.29606, 23.13469)\n",
      "=金洲站的坐标是： (113.264434, 23.129162)\n",
      "=员岗站的坐标是： (113.365858, 23.015541)\n",
      "=江南西站的坐标是： (113.272125, 23.095232)\n",
      "=芳村站的坐标是： (113.235982, 23.098094)\n",
      "=永泰站的坐标是： (113.304967, 23.220475)\n",
      "=海心沙站的坐标是： (113.264434, 23.129162)\n",
      "=中新站的坐标是： (113.264434, 23.129162)\n",
      "=杨箕站的坐标是： (113.309276, 23.128258)\n",
      "=东湖站的坐标是： (113.28525, 23.11375)\n",
      "=官湖站的坐标是： (113.264434, 23.129162)\n",
      "=小北站的坐标是： (113.278314, 23.139249)\n",
      "=湯村站的坐标是： (113.264434, 23.129162)\n",
      "=江泰路站的坐标是： (113.280106, 23.083712)\n",
      "=新造站的坐标是： (113.417773, 23.023636)\n",
      "=團一大廣場站的坐标是： (113.278266, 23.118111)\n",
      "=香雪站的坐标是： (113.502732, 23.172516)\n",
      "=朱村站的坐标是： (113.264434, 23.129162)\n",
      "=花城大道站的坐标是： (113.264434, 23.129162)\n",
      "=塘坑站的坐标是： (113.264434, 23.129162)\n",
      "=蘿崗站的坐标是： (113.264434, 23.129162)\n",
      "=东涌站的坐标是： (113.264434, 23.129162)\n",
      "=低涌站的坐标是： (113.264434, 23.129162)\n",
      "=旺村站的坐标是： (113.264434, 23.129162)\n",
      "=鹭江站的坐标是： (113.307735, 23.095863)\n",
      "=晓港站的坐标是： (113.282229, 23.092732)\n",
      "=竹料站的坐标是： (113.264434, 23.129162)\n",
      "=珠江新城站的坐标是： (113.326435, 23.119315)\n",
      "=体育西路站的坐标是： (113.321801, 23.131598)\n",
      "=婦兒中心站的坐标是： (113.264434, 23.129162)\n",
      "=板桥站的坐标是： (113.38771, 23.016567)\n",
      "=坑口站的坐标是： (113.226375, 23.077825)\n",
      "=广州火车站站的坐标是： (113.258171, 23.147675)\n",
      "=北京路站的坐标是： (113.269444, 23.117931)\n",
      "=天河南站的坐标是： (113.264434, 23.129162)\n",
      "=沙贝站的坐标是： (113.213294, 23.154998)\n",
      "=三元里站的坐标是： (113.267187, 23.162749)\n",
      "=大塘站的坐标是： (113.264434, 23.129162)\n",
      "=新塘站的坐标是： (113.264434, 23.129162)\n",
      "=龙洞站的坐标是： (113.376875, 23.19095)\n",
      "=天平架站的坐标是： (113.318791, 23.160871)\n",
      "=白江站的坐标是： (113.264434, 23.129162)\n",
      "=黄沙站的坐标是： (113.240019, 23.110721)\n",
      "=滘口站的坐标是： (113.208333, 23.113833)\n",
      "=机场南站的坐标是： (113.264434, 23.129162)\n",
      "=人和站的坐标是： (113.295204, 23.335454)\n",
      "=梅花园站的坐标是： (113.320146, 23.174479)\n",
      "=莲塘站的坐标是： (113.264434, 23.129162)\n",
      "=山田站的坐标是： (113.264434, 23.129162)\n",
      "=黄阁站的坐标是： (113.264434, 23.129162)\n",
      "=农讲所站的坐标是： (113.27494, 23.126736)\n",
      "=菊树站的坐标是： (113.212504, 23.066398)\n",
      "=市桥站的坐标是： (113.361434, 22.948287)\n",
      "=新沙站的坐标是： (113.264434, 23.129162)\n",
      "=一德路站的坐标是： (113.264434, 23.129162)\n",
      "=夏园站的坐标是： (113.264434, 23.129162)\n",
      "=岗顶站的坐标是： (113.339106, 23.133828)\n",
      "=赤草站的坐标是： (113.264434, 23.129162)\n",
      "=广州北站站的坐标是： (113.264434, 23.129162)\n",
      "=谢村站的坐标是： (113.264434, 23.129162)\n",
      "=南浦站的坐标是： (113.294309, 23.034219)\n",
      "=南橫站的坐标是： (113.264434, 23.129162)\n",
      "=增城广场站的坐标是： (113.264434, 23.129162)\n",
      "=潭村站的坐标是： (113.346437, 23.116951)\n",
      "=南岗站的坐标是： (113.264434, 23.129162)\n",
      "=昌岗站的坐标是： (113.270261, 23.08264)\n",
      "=花都广场站的坐标是： (113.264434, 23.129162)\n",
      "=東風站的坐标是： (113.264434, 23.129162)\n",
      "=会江站的坐标是： (113.28394, 23.014612)\n",
      "=白云大道北站的坐标是： (113.296723, 23.220726)\n",
      "=双岗站的坐标是： (113.264434, 23.129162)\n",
      "=客村站的坐标是： (113.320274, 23.095846)\n",
      "=沙园站的坐标是： (113.259578, 23.088612)\n",
      "=新港东站的坐标是： (113.357142, 23.098233)\n",
      "=坑貝站的坐标是： (113.264434, 23.129162)\n",
      "=钟岗站的坐标是： (113.264434, 23.129162)\n",
      "=广隆站的坐标是： (113.264434, 23.129162)\n",
      "=沙河顶站的坐标是： (113.264434, 23.129162)\n",
      "=金融高新区站的坐标是： (113.264434, 23.129162)\n",
      "=华师站的坐标是： (113.345389, 23.140737)\n",
      "=西塱站的坐标是： (113.264434, 23.129162)\n",
      "=黄村站的坐标是： (113.407792, 23.128337)\n",
      "=越秀公园站的坐标是： (113.261847, 23.140104)\n",
      "=广州塔站的坐标是： (113.323618, 23.106375)\n",
      "=龙溪站的坐标是： (113.192391, 23.066029)\n",
      "=新南站的坐标是： (113.264434, 23.129162)\n",
      "=横沙站的坐标是： (113.206887, 23.160243)\n",
      "=大沙地站的坐标是： (113.445923, 23.102982)\n",
      "=沙園站的坐标是： (113.259578, 23.088612)\n",
      "=花地湾站的坐标是： (113.232645, 23.089279)\n",
      "=官洲站的坐标是： (113.375846, 23.068252)\n",
      "=太和站的坐标是： (113.264434, 23.129162)\n",
      "=南洲站的坐标是： (113.29775, 23.063536)\n",
      "=广州南站站的坐标是： (113.264434, 23.129162)\n",
      "=京溪南方医院站的坐标是： (113.329608, 23.188692)\n",
      "=高增站的坐标是： (113.264434, 23.129162)\n",
      "=何棠下站的坐标是： (113.264434, 23.129162)\n",
      "=龙归站的坐标是： (113.301003, 23.288877)\n",
      "=蘇元站的坐标是： (113.466538, 23.169863)\n",
      "=万胜围站的坐标是： (113.382841, 23.096829)\n",
      "=大剧院站的坐标是： (113.264434, 23.129162)\n",
      "=五山站的坐标是： (113.354096, 23.152)\n",
      "=金峰站的坐标是： (113.264434, 23.129162)\n",
      "=夏良站的坐标是： (113.264434, 23.129162)\n",
      "=花果山公园站的坐标是： (113.264434, 23.129162)\n",
      "=市二宫站的坐标是： (113.270657, 23.105518)\n",
      "=沥滘站的坐标是： (113.264434, 23.129162)\n",
      "=沙村站的坐标是： (113.264434, 23.129162)\n",
      "=嘉禾望岗站的坐标是： (113.28906, 23.238302)\n",
      "=白雲東平站的坐标是： (113.264434, 23.129162)\n",
      "=季华园站的坐标是： (113.264434, 23.129162)\n",
      "=鎮龍西站的坐标是： (113.264434, 23.129162)\n",
      "=沙涌站的坐标是： (113.246741, 23.082978)\n",
      "=花城路站的坐标是： (113.264434, 23.129162)\n",
      "=凤凰新村站的坐标是： (113.344276, 23.170602)\n",
      "=神岗站的坐标是： (113.264434, 23.129162)\n",
      "=新和站的坐标是： (113.264434, 23.129162)\n",
      "=科韵路站的坐标是： (113.37375, 23.11775)\n",
      "=花都汽车城站的坐标是： (113.264434, 23.129162)\n",
      "=从化客运站站的坐标是： (113.264434, 23.129162)\n",
      "=石牌桥站的坐标是： (113.333142, 23.135041)\n",
      "=瀾石站的坐标是： (113.264434, 23.129162)\n",
      "=南桂路站的坐标是： (113.264434, 23.129162)\n",
      "=黄陂站的坐标是： (113.264434, 23.129162)\n",
      "=体育中心南站的坐标是： (113.264434, 23.129162)\n",
      "=飛沙角站的坐标是： (113.264434, 23.129162)\n",
      "=飞鹅岭站的坐标是： (113.264434, 23.129162)\n",
      "=楓下站的坐标是： (113.264434, 23.129162)\n",
      "=大学城北站的坐标是： (113.386173, 23.057322)\n",
      "=长湴站的坐标是： (113.349306, 23.17838)\n",
      "=广州东站站的坐标是： (113.325403, 23.150295)\n",
      "=如意坊站的坐标是： (113.231393, 23.116396)\n",
      "=桂城站的坐标是： (113.264434, 23.129162)\n",
      "=文冲站的坐标是： (113.47842, 23.101222)\n",
      "=西村站的坐标是： (113.239708, 23.141292)\n",
      "=钟落潭站的坐标是： (113.264434, 23.129162)\n",
      "224\n"
     ]
    }
   ],
   "source": [
    "all_locations = get_station_location(all_stations)\n",
    "print(len(all_locations))"
   ]
  },
  {
   "cell_type": "code",
   "execution_count": 7,
   "metadata": {},
   "outputs": [
    {
     "name": "stdout",
     "output_type": "stream",
     "text": [
      "{'清塘': (113.264434, 23.129162), '瀝滘': (113.264434, 23.129162), '同和': (113.326229, 23.196997), '镇龙北': (113.264434, 23.129162), '西门口': (113.255323, 23.125064), '𧒽岗': (113.264434, 23.129162), '厦滘': (113.320299, 23.037735), '车陂南': (113.39177, 23.115919), '蕉门': (113.264434, 23.129162), '陈家祠': (113.245821, 23.125483), '体育中心': (113.328186, 23.135496), '石碁': (113.465702, 22.957804), '柯木塱': (113.264434, 23.129162), '庆盛': (113.264434, 23.129162), '动物园': (113.306899, 23.134906), '海珠广场': (113.265421, 23.114518), '南村万博': (113.264434, 23.129162), '猎德': (113.331732, 23.118085), '新城東': (113.264434, 23.129162), '石壁': (113.277964, 22.994136), '浔峰岗': (113.201985, 23.164148), '暹崗': (113.45875, 23.168063), '赤岗': (113.330623, 23.095768), '琶洲': (113.320865, 23.09575), '南海神庙': (113.496064, 23.083994), '坦尾': (113.21495, 23.12565), '紅衛': (113.264434, 23.129162), '大沙东': (113.458777, 23.10546), '淘金': (113.28675, 23.136), '钟村': (113.264434, 23.129162), '江夏': (113.284042, 23.206917), '员村': (113.364111, 23.115197), '石溪': (113.264434, 23.129162), '车陂': (113.395636, 23.123956), '烈士陵园': (113.28659, 23.126612), '清㘵': (113.264434, 23.129162), '大涌': (113.264434, 23.129162), '大学城南': (113.3846, 23.09798), '魁奇路': (113.264434, 23.129162), '燕塘': (113.264434, 23.129162), '白云公园': (113.271042, 23.181446), '馬瀝': (113.264434, 23.129162), '东圃': (113.40126, 23.109922), '长寿路': (113.264434, 23.129162), '河沙': (113.215558, 23.136949), '文化公园': (113.248251, 23.109169), '萧岗': (113.280697, 23.19858), '朝安': (113.264434, 23.129162), '東平': (113.264434, 23.129162), '天河客运站': (113.342309, 23.170892), '黄阁汽车城': (113.50929, 22.835932), '黄边': (113.287122, 23.217544), '五羊邨': (113.31355, 23.1195), '高塘石': (113.264434, 23.129162), '东晓南': (113.293992, 23.071314), '海傍': (113.384549, 23.097781), '鶴洞': (113.264434, 23.129162), '宝岗大道': (113.264434, 23.129162), '公园前': (113.264666, 23.125205), '大石': (113.321744, 23.017761), '南沙客运港': (113.264434, 23.129162), '白云文化广场': (113.275209, 23.192289), '同济路': (113.264434, 23.129162), '西场': (113.236725, 23.1375), '东山口': (113.294729, 23.124047), '林和西': (113.32398, 23.14172), '世紀蓮': (113.264434, 23.129162), '中山八': (113.264434, 23.129162), '千灯湖': (113.264434, 23.129162), '鳳崗': (113.264434, 23.129162), '普君北路': (113.264434, 23.129162), '裕丰围': (113.264434, 23.129162), '黄花岗': (113.264434, 23.129162), '中大': (113.2925, 23.091173), '汉溪长隆': (113.33143, 22.993677), '鱼珠': (113.321778, 23.119509), '飞翔公园': (113.263364, 23.16844), '番禺广场': (113.3843, 22.934005), '植物园': (113.264434, 23.129162), '纪念堂': (113.288265, 23.122081), '三溪': (113.264434, 23.129162), '磨碟沙': (113.341285, 23.098689), '太平': (113.264434, 23.129162), '燕岗': (113.27175, 23.075417), '洛溪': (113.298894, 23.043237), '祖庙': (113.264434, 23.129162), '马鞍山公园': (113.264434, 23.129162), '黃埔大道': (113.324733, 23.126305), '区庄': (113.29606, 23.13469), '金洲': (113.264434, 23.129162), '员岗': (113.365858, 23.015541), '江南西': (113.272125, 23.095232), '芳村': (113.235982, 23.098094), '永泰': (113.304967, 23.220475), '海心沙': (113.264434, 23.129162), '中新': (113.264434, 23.129162), '杨箕': (113.309276, 23.128258), '东湖': (113.28525, 23.11375), '官湖': (113.264434, 23.129162), '小北': (113.278314, 23.139249), '湯村': (113.264434, 23.129162), '江泰路': (113.280106, 23.083712), '新造': (113.417773, 23.023636), '團一大廣場': (113.278266, 23.118111), '香雪': (113.502732, 23.172516), '朱村': (113.264434, 23.129162), '花城大道': (113.264434, 23.129162), '塘坑': (113.264434, 23.129162), '蘿崗': (113.264434, 23.129162), '东涌': (113.264434, 23.129162), '低涌': (113.264434, 23.129162), '旺村': (113.264434, 23.129162), '鹭江': (113.307735, 23.095863), '晓港': (113.282229, 23.092732), '竹料': (113.264434, 23.129162), '珠江新城': (113.326435, 23.119315), '体育西路': (113.321801, 23.131598), '婦兒中心': (113.264434, 23.129162), '板桥': (113.38771, 23.016567), '坑口': (113.226375, 23.077825), '广州火车站': (113.258171, 23.147675), '北京路': (113.269444, 23.117931), '天河南': (113.264434, 23.129162), '沙贝': (113.213294, 23.154998), '三元里': (113.267187, 23.162749), '大塘': (113.264434, 23.129162), '新塘': (113.264434, 23.129162), '龙洞': (113.376875, 23.19095), '天平架': (113.318791, 23.160871), '白江': (113.264434, 23.129162), '黄沙': (113.240019, 23.110721), '滘口': (113.208333, 23.113833), '机场南': (113.264434, 23.129162), '人和': (113.295204, 23.335454), '梅花园': (113.320146, 23.174479), '莲塘': (113.264434, 23.129162), '山田': (113.264434, 23.129162), '黄阁': (113.264434, 23.129162), '农讲所': (113.27494, 23.126736), '菊树': (113.212504, 23.066398), '市桥': (113.361434, 22.948287), '新沙': (113.264434, 23.129162), '一德路': (113.264434, 23.129162), '夏园': (113.264434, 23.129162), '岗顶': (113.339106, 23.133828), '赤草': (113.264434, 23.129162), '广州北站': (113.264434, 23.129162), '谢村': (113.264434, 23.129162), '南浦': (113.294309, 23.034219), '南橫': (113.264434, 23.129162), '增城广场': (113.264434, 23.129162), '潭村': (113.346437, 23.116951), '南岗': (113.264434, 23.129162), '昌岗': (113.270261, 23.08264), '花都广场': (113.264434, 23.129162), '東風': (113.264434, 23.129162), '会江': (113.28394, 23.014612), '白云大道北': (113.296723, 23.220726), '双岗': (113.264434, 23.129162), '客村': (113.320274, 23.095846), '沙园': (113.259578, 23.088612), '新港东': (113.357142, 23.098233), '坑貝': (113.264434, 23.129162), '钟岗': (113.264434, 23.129162), '广隆': (113.264434, 23.129162), '沙河顶': (113.264434, 23.129162), '金融高新区': (113.264434, 23.129162), '华师': (113.345389, 23.140737), '西塱': (113.264434, 23.129162), '黄村': (113.407792, 23.128337), '越秀公园': (113.261847, 23.140104), '广州塔': (113.323618, 23.106375), '龙溪': (113.192391, 23.066029), '新南': (113.264434, 23.129162), '横沙': (113.206887, 23.160243), '大沙地': (113.445923, 23.102982), '沙園': (113.259578, 23.088612), '花地湾': (113.232645, 23.089279), '官洲': (113.375846, 23.068252), '太和': (113.264434, 23.129162), '南洲': (113.29775, 23.063536), '广州南站': (113.264434, 23.129162), '京溪南方医院': (113.329608, 23.188692), '高增': (113.264434, 23.129162), '何棠下': (113.264434, 23.129162), '龙归': (113.301003, 23.288877), '蘇元': (113.466538, 23.169863), '万胜围': (113.382841, 23.096829), '大剧院': (113.264434, 23.129162), '五山': (113.354096, 23.152), '金峰': (113.264434, 23.129162), '夏良': (113.264434, 23.129162), '花果山公园': (113.264434, 23.129162), '市二宫': (113.270657, 23.105518), '沥滘': (113.264434, 23.129162), '沙村': (113.264434, 23.129162), '嘉禾望岗': (113.28906, 23.238302), '白雲東平': (113.264434, 23.129162), '季华园': (113.264434, 23.129162), '鎮龍西': (113.264434, 23.129162), '沙涌': (113.246741, 23.082978), '花城路': (113.264434, 23.129162), '凤凰新村': (113.344276, 23.170602), '神岗': (113.264434, 23.129162), '新和': (113.264434, 23.129162), '科韵路': (113.37375, 23.11775), '花都汽车城': (113.264434, 23.129162), '从化客运站': (113.264434, 23.129162), '石牌桥': (113.333142, 23.135041), '瀾石': (113.264434, 23.129162), '南桂路': (113.264434, 23.129162), '黄陂': (113.264434, 23.129162), '体育中心南': (113.264434, 23.129162), '飛沙角': (113.264434, 23.129162), '飞鹅岭': (113.264434, 23.129162), '楓下': (113.264434, 23.129162), '大学城北': (113.386173, 23.057322), '长湴': (113.349306, 23.17838), '广州东站': (113.325403, 23.150295), '如意坊': (113.231393, 23.116396), '桂城': (113.264434, 23.129162), '文冲': (113.47842, 23.101222), '西村': (113.239708, 23.141292), '钟落潭': (113.264434, 23.129162)}\n"
     ]
    }
   ],
   "source": [
    "print(all_locations)"
   ]
  },
  {
   "cell_type": "code",
   "execution_count": 8,
   "metadata": {},
   "outputs": [
    {
     "data": {
      "text/plain": [
       "224"
      ]
     },
     "execution_count": 8,
     "metadata": {},
     "output_type": "execute_result"
    }
   ],
   "source": [
    "len(all_locations)"
   ]
  },
  {
   "cell_type": "code",
   "execution_count": 9,
   "metadata": {},
   "outputs": [],
   "source": [
    "import matplotlib\n",
    "\n",
    "# 指定默认字体\n",
    "matplotlib.rcParams['font.sans-serif'] = ['SimHei']\n",
    "matplotlib.rcParams['font.family'] = 'sans-serif'\n",
    "# 解决负号'-'显示为方块的问题\n",
    "matplotlib.rcParams['axes.unicode_minus'] = False\n",
    "\n",
    "%matplotlib inline\n",
    "import matplotlib.pyplot as plt\n",
    "import math\n",
    "import networkx as nx"
   ]
  },
  {
   "cell_type": "code",
   "execution_count": 10,
   "metadata": {},
   "outputs": [
    {
     "data": {
      "image/png": "[encoded data removed]",
      "text/plain": [
       "<Figure size 432x288 with 1 Axes>"
      ]
     },
     "metadata": {},
     "output_type": "display_data"
    }
   ],
   "source": [
    "subway_graph = nx.Graph()\n",
    "subway_graph.add_nodes_from(list(all_locations.keys()))\n",
    "nx.draw(subway_graph, all_locations, with_labels=False, node_size=10)"
   ]
  },
  {
   "cell_type": "code",
   "execution_count": 11,
   "metadata": {},
   "outputs": [],
   "source": [
    "#找到为什么画出来的图少了一些点，因为使用高德地图API，打印出来的经纬度有一些是重复的，这个后面有时间再处理下"
   ]
  },
  {
   "cell_type": "code",
   "execution_count": 13,
   "metadata": {},
   "outputs": [],
   "source": [
    "def get_station_connetoins(all_lines_dict):\n",
    "    connections = defaultdict(list)\n",
    "    for s_key in all_lines_dict.keys():  # generate real station network\n",
    "        for i in range(len(all_lines_dict[s_key])):\n",
    "            if i == 0:\n",
    "                connections[all_lines_dict[s_key][i]].append(all_lines_dict[s_key][i + 1])\n",
    "            elif i == len(all_lines_dict[s_key]) - 1:\n",
    "                connections[all_lines_dict[s_key][i]].append(all_lines_dict[s_key][i - 1])\n",
    "            else:\n",
    "                connections[all_lines_dict[s_key][i]].append(all_lines_dict[s_key][i - 1])\n",
    "                connections[all_lines_dict[s_key][i]].append(all_lines_dict[s_key][i + 1])\n",
    "    print('所有相连接站点信息:', len(connections))\n",
    "    return connections"
   ]
  },
  {
   "cell_type": "code",
   "execution_count": 14,
   "metadata": {},
   "outputs": [
    {
     "name": "stdout",
     "output_type": "stream",
     "text": [
      "所有相连接站点信息: 224\n"
     ]
    }
   ],
   "source": [
    "all_connection = get_station_connetoins(all_lines)"
   ]
  },
  {
   "cell_type": "code",
   "execution_count": 15,
   "metadata": {},
   "outputs": [
    {
     "name": "stdout",
     "output_type": "stream",
     "text": [
      "defaultdict(<class 'list'>, {'广州东站': ['体育中心', '林和西', '燕塘'], '体育中心': ['广州东站', '体育西路'], '体育西路': ['体育中心', '杨箕'], '杨箕': ['体育西路', '东山口', '五羊邨', '动物园'], '东山口': ['杨箕', '烈士陵园', '东湖', '区庄'], '烈士陵园': ['东山口', '农讲所'], '农讲所': ['烈士陵园', '公园前'], '公园前': ['农讲所', '西门口', '纪念堂', '海珠广场'], '西门口': ['公园前', '陈家祠'], '陈家祠': ['西门口', '长寿路'], '长寿路': ['陈家祠', '黄沙'], '黄沙': ['长寿路', '芳村', '如意坊', '文化公园'], '芳村': ['黄沙', '花地湾'], '花地湾': ['芳村', '坑口'], '坑口': ['花地湾', '西塱'], '西塱': ['坑口', '鶴洞', '菊树'], '嘉禾望岗': ['黄边', '白云大道北', '龙归', '白雲東平', '紅衛'], '黄边': ['嘉禾望岗', '江夏'], '江夏': ['黄边', '萧岗'], '萧岗': ['江夏', '白云文化广场'], '白云文化广场': ['萧岗', '白云公园'], '白云公园': ['白云文化广场', '飞翔公园'], '飞翔公园': ['白云公园', '三元里'], '三元里': ['飞翔公园', '广州火车站'], '广州火车站': ['三元里', '越秀公园', '小北', '西村'], '越秀公园': ['广州火车站', '纪念堂'], '纪念堂': ['越秀公园', '公园前'], '海珠广场': ['公园前', '市二宫', '一德路', '北京路'], '市二宫': ['海珠广场', '江南西'], '江南西': ['市二宫', '昌岗'], '昌岗': ['江南西', '江泰路', '宝岗大道', '晓港'], '江泰路': ['昌岗', '东晓南'], '东晓南': ['江泰路', '南洲'], '南洲': ['东晓南', '洛溪', '瀝滘', '石溪'], '洛溪': ['南洲', '南浦'], '南浦': ['洛溪', '会江'], '会江': ['南浦', '石壁'], '石壁': ['会江', '广州南站', '广州南站', '谢村'], '广州南站': ['石壁', '石壁'], '番禺广场': ['市桥'], '市桥': ['番禺广场', '汉溪长隆'], '汉溪长隆': ['市桥', '大石', '钟村', '南村万博'], '大石': ['汉溪长隆', '厦滘'], '厦滘': ['大石', '沥滘'], '沥滘': ['厦滘', '大塘'], '大塘': ['沥滘', '客村'], '客村': ['大塘', '广州塔', '鹭江', '赤岗'], '广州塔': ['客村', '珠江新城', '海心沙'], '珠江新城': ['广州塔', '石牌桥', '猎德', '五羊邨'], '石牌桥': ['珠江新城', '岗顶'], '岗顶': ['石牌桥', '华师'], '华师': ['岗顶', '五山'], '五山': ['华师', '天河客运站'], '天河客运站': ['五山', '林和西', '燕塘', '长湴'], '林和西': ['天河客运站', '广州东站', '体育中心南'], '燕塘': ['广州东站', '梅花园', '天平架', '天河客运站'], '梅花园': ['燕塘', '京溪南方医院'], '京溪南方医院': ['梅花园', '同和'], '同和': ['京溪南方医院', '永泰'], '永泰': ['同和', '白云大道北'], '白云大道北': ['永泰', '嘉禾望岗'], '龙归': ['嘉禾望岗', '人和'], '人和': ['龙归', '高增'], '高增': ['人和', '机场南', '清塘'], '机场南': ['高增'], '黄村': ['车陂'], '车陂': ['黄村', '车陂南'], '车陂南': ['车陂', '万胜围', '东圃', '科韵路'], '万胜围': ['车陂南', '官洲', '琶洲'], '官洲': ['万胜围', '大学城北'], '大学城北': ['官洲', '大学城南'], '大学城南': ['大学城北', '新造', '板桥'], '新造': ['大学城南', '石碁'], '石碁': ['新造', '海傍'], '海傍': ['石碁', '低涌'], '低涌': ['海傍', '东涌'], '东涌': ['低涌', '庆盛'], '庆盛': ['东涌', '黄阁汽车城'], '黄阁汽车城': ['庆盛', '黄阁'], '黄阁': ['黄阁汽车城', '蕉门'], '蕉门': ['黄阁', '金洲'], '金洲': ['蕉门', '飛沙角'], '飛沙角': ['金洲', '广隆'], '广隆': ['飛沙角', '大涌'], '大涌': ['广隆', '塘坑'], '塘坑': ['大涌', '南橫'], '南橫': ['塘坑', '南沙客运港'], '南沙客运港': ['南橫'], '文冲': ['大沙东'], '大沙东': ['文冲', '大沙地'], '大沙地': ['大沙东', '鱼珠'], '鱼珠': ['大沙地', '三溪', '裕丰围'], '三溪': ['鱼珠', '东圃'], '东圃': ['三溪', '车陂南'], '科韵路': ['车陂南', '员村'], '员村': ['科韵路', '潭村'], '潭村': ['员村', '猎德'], '猎德': ['潭村', '珠江新城'], '五羊邨': ['珠江新城', '杨箕'], '动物园': ['杨箕', '区庄'], '区庄': ['动物园', '淘金', '东山口', '黄花岗'], '淘金': ['区庄', '小北'], '小北': ['淘金', '广州火车站'], '西村': ['广州火车站', '西场'], '西场': ['西村', '中山八'], '中山八': ['西场', '坦尾'], '坦尾': ['中山八', '滘口', '河沙', '如意坊'], '滘口': ['坦尾'], '浔峰岗': ['横沙'], '横沙': ['浔峰岗', '沙贝'], '沙贝': ['横沙', '河沙'], '河沙': ['沙贝', '坦尾'], '如意坊': ['坦尾', '黄沙'], '文化公园': ['黄沙', '一德路'], '一德路': ['文化公园', '海珠广场'], '北京路': ['海珠广场', '團一大廣場'], '團一大廣場': ['北京路', '东湖'], '东湖': ['團一大廣場', '东山口'], '黄花岗': ['区庄', '沙河顶'], '沙河顶': ['黄花岗', '天平架'], '天平架': ['沙河顶', '燕塘'], '长湴': ['天河客运站', '植物园'], '植物园': ['长湴', '龙洞'], '龙洞': ['植物园', '柯木塱'], '柯木塱': ['龙洞', '高塘石'], '高塘石': ['柯木塱', '黄陂'], '黄陂': ['高塘石', '金峰'], '金峰': ['黄陂', '暹崗'], '暹崗': ['金峰', '蘇元'], '蘇元': ['暹崗', '蘿崗'], '蘿崗': ['蘇元', '香雪'], '香雪': ['蘿崗'], '谢村': ['石壁', '钟村'], '钟村': ['谢村', '汉溪长隆'], '南村万博': ['汉溪长隆', '员岗'], '员岗': ['南村万博', '板桥'], '板桥': ['员岗', '大学城南'], '凤凰新村': ['沙园'], '沙园': ['凤凰新村', '宝岗大道'], '宝岗大道': ['沙园', '昌岗'], '晓港': ['昌岗', '中大'], '中大': ['晓港', '鹭江'], '鹭江': ['中大', '客村'], '赤岗': ['客村', '磨碟沙'], '磨碟沙': ['赤岗', '新港东'], '新港东': ['磨碟沙', '琶洲'], '琶洲': ['新港东', '万胜围'], '清塘': ['高增', '清㘵'], '清㘵': ['清塘', '莲塘'], '莲塘': ['清㘵', '马鞍山公园'], '马鞍山公园': ['莲塘', '花都广场'], '花都广场': ['马鞍山公园', '花果山公园'], '花果山公园': ['花都广场', '花城路'], '花城路': ['花果山公园', '广州北站'], '广州北站': ['花城路', '花都汽车城'], '花都汽车城': ['广州北站', '飞鹅岭'], '飞鹅岭': ['花都汽车城'], '裕丰围': ['鱼珠', '双岗'], '双岗': ['裕丰围', '南海神庙'], '南海神庙': ['双岗', '夏园'], '夏园': ['南海神庙', '南岗'], '南岗': ['夏园', '沙村'], '沙村': ['南岗', '白江'], '白江': ['沙村', '新塘'], '新塘': ['白江', '官湖'], '官湖': ['新塘', '新沙'], '新沙': ['官湖'], '東風': ['从化客运站'], '从化客运站': ['東風', '赤草'], '赤草': ['从化客运站', '神岗'], '神岗': ['赤草', '太平'], '太平': ['神岗', '新和'], '新和': ['太平', '馬瀝'], '馬瀝': ['新和', '钟落潭'], '钟落潭': ['馬瀝', '竹料'], '竹料': ['钟落潭', '太和'], '太和': ['竹料', '夏良'], '夏良': ['太和', '白雲東平'], '白雲東平': ['夏良', '嘉禾望岗'], '紅衛': ['嘉禾望岗', '新南'], '新南': ['紅衛', '楓下'], '楓下': ['新南', '何棠下'], '何棠下': ['楓下', '旺村'], '旺村': ['何棠下', '湯村'], '湯村': ['旺村', '镇龙北'], '镇龙北': ['湯村'], '鎮龍西': ['中新'], '中新': ['鎮龍西', '坑貝'], '坑貝': ['中新', '鳳崗'], '鳳崗': ['坑貝', '朱村'], '朱村': ['鳳崗', '山田'], '山田': ['朱村', '钟岗'], '钟岗': ['山田', '增城广场'], '增城广场': ['钟岗'], '瀝滘': ['南洲'], '石溪': ['南洲', '燕岗'], '燕岗': ['石溪', '沙園'], '沙園': ['燕岗', '沙涌'], '沙涌': ['沙園', '鶴洞'], '鶴洞': ['沙涌', '西塱'], '菊树': ['西塱', '龙溪'], '龙溪': ['菊树', '金融高新区'], '金融高新区': ['龙溪', '千灯湖'], '千灯湖': ['金融高新区', '𧒽岗'], '𧒽岗': ['千灯湖', '南桂路'], '南桂路': ['𧒽岗', '桂城'], '桂城': ['南桂路', '朝安'], '朝安': ['桂城', '普君北路'], '普君北路': ['朝安', '祖庙'], '祖庙': ['普君北路', '同济路'], '同济路': ['祖庙', '季华园'], '季华园': ['同济路', '魁奇路'], '魁奇路': ['季华园', '瀾石'], '瀾石': ['魁奇路', '世紀蓮'], '世紀蓮': ['瀾石', '東平'], '東平': ['世紀蓮', '新城東'], '新城東': ['東平'], '体育中心南': ['林和西', '天河南'], '天河南': ['体育中心南', '黃埔大道'], '黃埔大道': ['天河南', '婦兒中心'], '婦兒中心': ['黃埔大道', '花城大道'], '花城大道': ['婦兒中心', '大剧院'], '大剧院': ['花城大道', '海心沙'], '海心沙': ['大剧院', '广州塔']})\n"
     ]
    }
   ],
   "source": [
    "print(all_connection)"
   ]
  },
  {
   "cell_type": "code",
   "execution_count": null,
   "metadata": {},
   "outputs": [],
   "source": []
  },
  {
   "cell_type": "markdown",
   "metadata": {},
   "source": [
    "##### 3. Build the search agent\n",
    "\n",
    "> Build the search agent based on the graph we build.\n",
    "\n",
    "for example, when you run: \n",
    "\n",
    "```python\n",
    ">>> search('奥体中心', '天安门') \n",
    "```\n",
    "you need get the result: \n",
    "\n",
    "奥体中心-> A -> B -> C -> ... -> 天安门\n",
    "\n"
   ]
  },
  {
   "cell_type": "code",
   "execution_count": 22,
   "metadata": {},
   "outputs": [],
   "source": [
    "def search(start, end, all_connection):\n",
    "    \"\"\"\n",
    "    找到2个地铁站的路线路\n",
    "    :param start:地铁站,str\n",
    "    :param end:地铁站,str\n",
    "    :param all_connection:所有相连接站点信息defaultdict\n",
    "    :return:列表\n",
    "    \"\"\"\n",
    "    pathes = [[start]]\n",
    "    passed = [start]\n",
    "\n",
    "    while pathes:\n",
    "        path = pathes.pop(0)\n",
    "        frontier = path[-1]\n",
    "        nxt = all_connection.get(frontier)\n",
    "        for station in nxt:\n",
    "            if station in passed:\n",
    "                continue\n",
    "            else:\n",
    "                new_path = path + [station]\n",
    "                pathes.append(new_path)\n",
    "                if station == end: return new_path\n",
    "                passed.append(station)"
   ]
  },
  {
   "cell_type": "code",
   "execution_count": 23,
   "metadata": {},
   "outputs": [],
   "source": [
    "def pretty_print(lst):\n",
    "    print(\"->\".join(lst))"
   ]
  },
  {
   "cell_type": "code",
   "execution_count": 24,
   "metadata": {},
   "outputs": [
    {
     "name": "stdout",
     "output_type": "stream",
     "text": [
      "广州东站->体育中心->体育西路->杨箕->五羊邨->珠江新城->猎德->潭村->员村->科韵路->车陂南->万胜围\n"
     ]
    }
   ],
   "source": [
    "    pretty_print(search(start='广州东站', end='万胜围', all_connection=all_connection))"
   ]
  },
  {
   "cell_type": "code",
   "execution_count": 25,
   "metadata": {},
   "outputs": [
    {
     "name": "stdout",
     "output_type": "stream",
     "text": [
      "广州东站->体育中心->体育西路->杨箕->五羊邨->珠江新城->猎德->潭村->员村->科韵路->车陂南->万胜围->官洲->大学城北->大学城南\n"
     ]
    }
   ],
   "source": [
    "    pretty_print(search(start='广州东站', end='大学城南', all_connection=all_connection))"
   ]
  },
  {
   "cell_type": "code",
   "execution_count": 26,
   "metadata": {},
   "outputs": [
    {
     "name": "stdout",
     "output_type": "stream",
     "text": [
      "大学城南->大学城北->官洲->万胜围->车陂南->科韵路->员村->潭村->猎德->珠江新城->五羊邨->杨箕->体育西路->体育中心->广州东站\n"
     ]
    }
   ],
   "source": [
    "    pretty_print(search(start='大学城南', end='广州东站', all_connection=all_connection))"
   ]
  },
  {
   "cell_type": "markdown",
   "metadata": {},
   "source": [
    "## （Optional）Create different policies for transfer system.\n"
   ]
  },
  {
   "cell_type": "markdown",
   "metadata": {},
   "source": [
    "以下部门为可选部分，请酌情完成。 并不要求全部同学完成。"
   ]
  },
  {
   "cell_type": "markdown",
   "metadata": {},
   "source": [
    "As much as you can to use the already implemented search agent. You just need to define the **is_goal()**, **get_successor()**, **strategy()** three functions. \n",
    "\n",
    "> a.\tDefine different policies for transfer system. \n",
    "\n",
    "> b.\tSuch as Shortest Path Priority（路程最短优先）, Minimum Transfer Priority(最少换乘优先), Comprehensive Priority(综合优先)\n",
    "\n",
    "> c.\tImplement Continuous transfer. Based on the Agent you implemented, please add this feature: Besides the @param start and @param destination two stations, add some more stations, we called @param by_way, it means, our path should from the start and end, but also include the  @param by_way stations. \n",
    "\n",
    "e.g \n",
    "```\n",
    "1. Input:  start=A,  destination=B, by_way=[C] \n",
    "    Output: [A, … .., C, …. B]\n",
    "2. Input: start=A, destination=B, by_way=[C, D, E]\n",
    "    Output: [A … C … E … D … B]  \n",
    "    # based on your policy, the E station could be reached firstly. \n",
    "![image.png](attachment:image.png)\n",
    "```"
   ]
  },
  {
   "cell_type": "markdown",
   "metadata": {},
   "source": [
    "##### 5.\tTest your result with commercial applications. \n",
    "\n",
    "将你的结果和高德地图或者百度地图进行比较，如果有不同，请分析原因\n"
   ]
  },
  {
   "cell_type": "markdown",
   "metadata": {},
   "source": [
    "恭喜，完成本次课程，你对常用的人工智能方法以及有一定的了解了。基于规则的，基于概率模型的，基于搜索的，基于机器学习的。 可以说，我们现在通常见到的方法都能够归属到这几类方法中。 这就是**人工智能**，并没有很难是吧？ 继续加油！"
   ]
  },
  {
   "cell_type": "markdown",
   "metadata": {},
   "source": [
    "![](https://timgsa.baidu.com/timg?image&quality=80&size=b9999_10000&sec=1562415163815&di=4b29a2a863a8285212033760f288ed7a&imgtype=0&src=http%3A%2F%2F5b0988e595225.cdn.sohucs.com%2Fimages%2F20180710%2F8704194a1d7f46a383ddc29d40c9bca5.jpeg)"
   ]
  }
 ],
 "metadata": {
  "kernelspec": {
   "display_name": "Python 3",
   "language": "python",
   "name": "python3"
  },
  "language_info": {
   "codemirror_mode": {
    "name": "ipython",
    "version": 3
   },
   "file_extension": ".py",
   "mimetype": "text/x-python",
   "name": "python",
   "nbconvert_exporter": "python",
   "pygments_lexer": "ipython3",
   "version": "3.7.0"
  }
 },
 "nbformat": 4,
 "nbformat_minor": 2
}
