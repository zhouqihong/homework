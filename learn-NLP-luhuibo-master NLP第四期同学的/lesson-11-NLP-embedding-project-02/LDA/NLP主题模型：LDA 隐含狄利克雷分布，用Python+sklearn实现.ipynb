{
  "cells": [
    {
      "cell_type": "markdown",
      "metadata": {
        "collapsed": true,
        "pycharm": {
          "is_executing": false,
          "name": "#%% md \n"
        }
      },
      "source": [
        "## Introduction\n",
        "Topic Models, in a nutshell, are a type of statistical language models used for uncovering hidden structure in a collection of texts. In a practical and more intuitively, you can think of it as a task of:\n",
        "\n",
        "**Dimensionality Reduction**, where rather than representing a text T in its feature space as {Word_i: count(Word_i, T) for Word_i in Vocabulary}, you can represent it in a topic space as {Topic_i: Weight(Topic_i, T) for Topic_i in Topics}\n",
        "\n",
        "**Unsupervised Learning**, where it can be compared to clustering, as in the case of clustering, the number of topics, like the number of clusters, is an output parameter. By doing topic modeling, we build clusters of words rather than clusters of texts. A text is thus a mixture of all the topics, each having a specific weight\n",
        "\n",
        "**Tagging**, abstract “topics” that occur in a collection of documents that best represents the information in them.\n",
        "\n",
        "There are several existing algorithms you can use to perform the topic modeling. The most common of it are, **Latent Semantic Analysis (LSA/LSI), Probabilistic Latent Semantic Analysis (pLSA), and Latent Dirichlet Allocation (LDA)**\n",
        "\n",
        "\n",
        "In this article, we’ll take a closer look at **LDA**, and implement our first topic model using the sklearn implementation in python 3.6.5\n",
        "\n",
        "**简而言之**，主题模型: 它是一种统计模型，用于标记出现在文档集合中的抽象“主题”，这些主题最能代表这个文档集合中的信息。\n",
        "\n",
        "\n",
        "获取主题模型使用了许多技术，如：Latent Semantic Analysis (LSA/LSI), Probabilistic Latent Semantic Analysis (pLSA), and Latent Dirichlet Allocation (LDA)\n",
        "\n",
        "**本文主要结合LDA+sklearn 来实现，内容通俗易懂~~**\n",
        "\n",
        "\n",
        "## Theoretical Overview\n",
        "\n",
        "**根据定义，LDA是给定语料库的生成概率模型。其基本思想是将文档表示为潜在主题的随机混合，并对每个主题通过单词分布进行特征化。**\n",
        "![LDA的底层算法, http://chdoig.github.io/pytexas2015-topic-modeling/#/3/4](https://www.github.com/Valuebai/my-markdown-img/raw/master/小书匠/1571642518975.png)\n",
        "\n",
        "We can describe the generative process of LDA as, given the M number of documents, N number of words, and prior K number of topics, the model trains to output:\n",
        "psi, the distribution of words for each topic K\n",
        "phi, the distribution of topics for each document i\n",
        "\n",
        "我们可以把LDA的处理过程进行如下描述，给定M个文档、N个单词和估计的K个主题, LDA模型训练输出的结果：\n",
        "- psi，表示每个主题K的单词分布\n",
        "- phi，表示每个文档 i 的主题分布。\n",
        "\n",
        "## Parameters of LDA\n",
        "\u003e **Alpha parameter** is Dirichlet prior concentration parameter that represents document-topic density — with a higher alpha, documents are assumed to be made up of more topics and result in more specific topic distribution per document.\n",
        "\n",
        "\u003e **Beta parameter** is the same prior concentration parameter that represents topic-word density — with high beta, topics are assumed to made of up most of the words and result in a more specific word distribution per topic.\n",
        "\n",
        "\u003e **α参数**是Dirichlet先验浓度参数,表示文档-主题密度，α值越高，就可以假定文档由更多的主题组成，从而导致每个文档的主题分布更加具体。\n",
        "\n",
        "\u003e **β参数**与先验浓度参数相同,表示主题词密度的，β值越高，就可以假定主题由大部分单词组成，从而导致每个主题的单词分布更加具体。\n",
        "\n",
        "## LDA Implementation\n",
        "\n",
        "[LDA的代码实现，具体看github: https://github.com/kapadias/mediumposts/blob/master/nlp/published_notebooks/Introduction%20to%20Topic%20Modeling.ipynb](https://github.com/kapadias/mediumposts/blob/master/nlp/published_notebooks/Introduction%20to%20Topic%20Modeling.ipynb)\n",
        "\n",
        "有时候打不开，可以用https://nbviewer.jupyter.org 进行加载\n",
        "\n",
        "1. Loading data 加载数据\n",
        "\n",
        "2. Data cleaning 数据清洗\n",
        " \n",
        "3. Exploratory analysis 探索性分析\n",
        "\n",
        "4. Preparing data for LDA analysis 为LDA分析准备数据\n",
        "\n",
        "5. LDA model training LDA模型训练\n",
        "\n",
        "6. Analyzing LDA model results 分析LDA模型结果\n",
        "\n",
        "gensim的实现流程，参考\n",
        "\n",
        "![gensim流程](https://www.github.com/Valuebai/my-markdown-img/raw/master/小书匠/1571649222856.png)\n",
        "\n",
        "\n",
        "## 1. Loading data 加载数据\n",
        "\n",
        "在本教程中，我们将使用NIPS大会上发表的论文数据集。NIPS大会(神经信息处理系统)是机器学习领域最负盛名的年度事件之一。在每次的NIPS大会上，参会者都会发表大量的研究论文。此CSV文件包含了从1987年到2016年(29年!)发表的不同的NIPS论文的信息。这些论文讨论了机器学习领域的各种各样的主题，从神经网络到优化方法等等。\n",
        "\n",
        "首先，我们将研究CSV文件，以确定我们可以使用什么类型的数据进行分析，以及它的结构是怎样的。一篇研究论文通常由标题、摘要和正文组成。"
      ]
    },
    {
      "cell_type": "markdown",
      "metadata": {
        "pycharm": {}
      },
      "source": [
        "```md\n",
        "nips_papers.csv.gz文件的下载地址\n",
        "链接：https://pan.baidu.com/s/1su3q9Rr2luU89Kr9K7rPIA\u0026shfl\u003dsharepset \n",
        "提取码：jva4 \n",
        "复制这段内容后打开百度网盘手机App，操作更方便哦\n",
        "```"
      ]
    },
    {
      "cell_type": "code",
      "execution_count": 4,
      "metadata": {
        "pycharm": {}
      },
      "outputs": [
        {
          "data": {
            "text/html": [
              "\u003cdiv\u003e\n",
              "\u003cstyle scoped\u003e\n",
              "    .dataframe tbody tr th:only-of-type {\n",
              "        vertical-align: middle;\n",
              "    }\n",
              "\n",
              "    .dataframe tbody tr th {\n",
              "        vertical-align: top;\n",
              "    }\n",
              "\n",
              "    .dataframe thead th {\n",
              "        text-align: right;\n",
              "    }\n",
              "\u003c/style\u003e\n",
              "\u003ctable border\u003d\"1\" class\u003d\"dataframe\"\u003e\n",
              "  \u003cthead\u003e\n",
              "    \u003ctr style\u003d\"text-align: right;\"\u003e\n",
              "      \u003cth\u003e\u003c/th\u003e\n",
              "      \u003cth\u003eid\u003c/th\u003e\n",
              "      \u003cth\u003eyear\u003c/th\u003e\n",
              "      \u003cth\u003etitle\u003c/th\u003e\n",
              "      \u003cth\u003eevent_type\u003c/th\u003e\n",
              "      \u003cth\u003epdf_name\u003c/th\u003e\n",
              "      \u003cth\u003eabstract\u003c/th\u003e\n",
              "      \u003cth\u003epaper_text\u003c/th\u003e\n",
              "    \u003c/tr\u003e\n",
              "  \u003c/thead\u003e\n",
              "  \u003ctbody\u003e\n",
              "    \u003ctr\u003e\n",
              "      \u003ctd\u003e0\u003c/td\u003e\n",
              "      \u003ctd\u003e1\u003c/td\u003e\n",
              "      \u003ctd\u003e1987\u003c/td\u003e\n",
              "      \u003ctd\u003eSelf-Organization of Associative Database and ...\u003c/td\u003e\n",
              "      \u003ctd\u003eNaN\u003c/td\u003e\n",
              "      \u003ctd\u003e1-self-organization-of-associative-database-an...\u003c/td\u003e\n",
              "      \u003ctd\u003eAbstract Missing\u003c/td\u003e\n",
              "      \u003ctd\u003e767\\n\\nSELF-ORGANIZATION OF ASSOCIATIVE DATABA...\u003c/td\u003e\n",
              "    \u003c/tr\u003e\n",
              "    \u003ctr\u003e\n",
              "      \u003ctd\u003e1\u003c/td\u003e\n",
              "      \u003ctd\u003e10\u003c/td\u003e\n",
              "      \u003ctd\u003e1987\u003c/td\u003e\n",
              "      \u003ctd\u003eA Mean Field Theory of Layer IV of Visual Cort...\u003c/td\u003e\n",
              "      \u003ctd\u003eNaN\u003c/td\u003e\n",
              "      \u003ctd\u003e10-a-mean-field-theory-of-layer-iv-of-visual-c...\u003c/td\u003e\n",
              "      \u003ctd\u003eAbstract Missing\u003c/td\u003e\n",
              "      \u003ctd\u003e683\\n\\nA MEAN FIELD THEORY OF LAYER IV OF VISU...\u003c/td\u003e\n",
              "    \u003c/tr\u003e\n",
              "    \u003ctr\u003e\n",
              "      \u003ctd\u003e2\u003c/td\u003e\n",
              "      \u003ctd\u003e100\u003c/td\u003e\n",
              "      \u003ctd\u003e1988\u003c/td\u003e\n",
              "      \u003ctd\u003eStoring Covariance by the Associative Long-Ter...\u003c/td\u003e\n",
              "      \u003ctd\u003eNaN\u003c/td\u003e\n",
              "      \u003ctd\u003e100-storing-covariance-by-the-associative-long...\u003c/td\u003e\n",
              "      \u003ctd\u003eAbstract Missing\u003c/td\u003e\n",
              "      \u003ctd\u003e394\\n\\nSTORING COVARIANCE BY THE ASSOCIATIVE\\n...\u003c/td\u003e\n",
              "    \u003c/tr\u003e\n",
              "    \u003ctr\u003e\n",
              "      \u003ctd\u003e3\u003c/td\u003e\n",
              "      \u003ctd\u003e1000\u003c/td\u003e\n",
              "      \u003ctd\u003e1994\u003c/td\u003e\n",
              "      \u003ctd\u003eBayesian Query Construction for Neural Network...\u003c/td\u003e\n",
              "      \u003ctd\u003eNaN\u003c/td\u003e\n",
              "      \u003ctd\u003e1000-bayesian-query-construction-for-neural-ne...\u003c/td\u003e\n",
              "      \u003ctd\u003eAbstract Missing\u003c/td\u003e\n",
              "      \u003ctd\u003eBayesian Query Construction for Neural\\nNetwor...\u003c/td\u003e\n",
              "    \u003c/tr\u003e\n",
              "    \u003ctr\u003e\n",
              "      \u003ctd\u003e4\u003c/td\u003e\n",
              "      \u003ctd\u003e1001\u003c/td\u003e\n",
              "      \u003ctd\u003e1994\u003c/td\u003e\n",
              "      \u003ctd\u003eNeural Network Ensembles, Cross Validation, an...\u003c/td\u003e\n",
              "      \u003ctd\u003eNaN\u003c/td\u003e\n",
              "      \u003ctd\u003e1001-neural-network-ensembles-cross-validation...\u003c/td\u003e\n",
              "      \u003ctd\u003eAbstract Missing\u003c/td\u003e\n",
              "      \u003ctd\u003eNeural Network Ensembles, Cross\\nValidation, a...\u003c/td\u003e\n",
              "    \u003c/tr\u003e\n",
              "  \u003c/tbody\u003e\n",
              "\u003c/table\u003e\n",
              "\u003c/div\u003e"
            ],
            "text/plain": [
              "     id  year                                              title event_type  \\\n",
              "0     1  1987  Self-Organization of Associative Database and ...        NaN   \n",
              "1    10  1987  A Mean Field Theory of Layer IV of Visual Cort...        NaN   \n",
              "2   100  1988  Storing Covariance by the Associative Long-Ter...        NaN   \n",
              "3  1000  1994  Bayesian Query Construction for Neural Network...        NaN   \n",
              "4  1001  1994  Neural Network Ensembles, Cross Validation, an...        NaN   \n",
              "\n",
              "                                            pdf_name          abstract  \\\n",
              "0  1-self-organization-of-associative-database-an...  Abstract Missing   \n",
              "1  10-a-mean-field-theory-of-layer-iv-of-visual-c...  Abstract Missing   \n",
              "2  100-storing-covariance-by-the-associative-long...  Abstract Missing   \n",
              "3  1000-bayesian-query-construction-for-neural-ne...  Abstract Missing   \n",
              "4  1001-neural-network-ensembles-cross-validation...  Abstract Missing   \n",
              "\n",
              "                                          paper_text  \n",
              "0  767\\n\\nSELF-ORGANIZATION OF ASSOCIATIVE DATABA...  \n",
              "1  683\\n\\nA MEAN FIELD THEORY OF LAYER IV OF VISU...  \n",
              "2  394\\n\\nSTORING COVARIANCE BY THE ASSOCIATIVE\\n...  \n",
              "3  Bayesian Query Construction for Neural\\nNetwor...  \n",
              "4  Neural Network Ensembles, Cross\\nValidation, a...  "
            ]
          },
          "execution_count": 4,
          "metadata": {},
          "output_type": "execute_result"
        }
      ],
      "source": [
        "# Importing modules\n",
        "import pandas as pd\n",
        "\n",
        "\n",
        "# Read data into papers\n",
        "papers \u003d pd.read_csv(\u0027../../data/nips_papers.csv.gz\u0027)\n",
        "\n",
        "# Print head\n",
        "papers.head()"
      ]
    },
    {
      "cell_type": "markdown",
      "metadata": {
        "pycharm": {}
      },
      "source": [
        "## 2. Data cleaning 数据清洗\n",
        " ### **去掉多余列**\n",
        "\n",
        "\n",
        "对于论文的分析，我们只对与论文相关的文本数据以及论文发表年份感兴趣。由于该文件包含一些元数据，如id和文件名，因此删除所有不包含有用文本信息的列是很有必要的。"
      ]
    },
    {
      "cell_type": "code",
      "execution_count": 5,
      "metadata": {
        "pycharm": {}
      },
      "outputs": [
        {
          "data": {
            "text/html": [
              "\u003cdiv\u003e\n",
              "\u003cstyle scoped\u003e\n",
              "    .dataframe tbody tr th:only-of-type {\n",
              "        vertical-align: middle;\n",
              "    }\n",
              "\n",
              "    .dataframe tbody tr th {\n",
              "        vertical-align: top;\n",
              "    }\n",
              "\n",
              "    .dataframe thead th {\n",
              "        text-align: right;\n",
              "    }\n",
              "\u003c/style\u003e\n",
              "\u003ctable border\u003d\"1\" class\u003d\"dataframe\"\u003e\n",
              "  \u003cthead\u003e\n",
              "    \u003ctr style\u003d\"text-align: right;\"\u003e\n",
              "      \u003cth\u003e\u003c/th\u003e\n",
              "      \u003cth\u003eyear\u003c/th\u003e\n",
              "      \u003cth\u003etitle\u003c/th\u003e\n",
              "      \u003cth\u003eabstract\u003c/th\u003e\n",
              "      \u003cth\u003epaper_text\u003c/th\u003e\n",
              "    \u003c/tr\u003e\n",
              "  \u003c/thead\u003e\n",
              "  \u003ctbody\u003e\n",
              "    \u003ctr\u003e\n",
              "      \u003ctd\u003e0\u003c/td\u003e\n",
              "      \u003ctd\u003e1987\u003c/td\u003e\n",
              "      \u003ctd\u003eSelf-Organization of Associative Database and ...\u003c/td\u003e\n",
              "      \u003ctd\u003eAbstract Missing\u003c/td\u003e\n",
              "      \u003ctd\u003e767\\n\\nSELF-ORGANIZATION OF ASSOCIATIVE DATABA...\u003c/td\u003e\n",
              "    \u003c/tr\u003e\n",
              "    \u003ctr\u003e\n",
              "      \u003ctd\u003e1\u003c/td\u003e\n",
              "      \u003ctd\u003e1987\u003c/td\u003e\n",
              "      \u003ctd\u003eA Mean Field Theory of Layer IV of Visual Cort...\u003c/td\u003e\n",
              "      \u003ctd\u003eAbstract Missing\u003c/td\u003e\n",
              "      \u003ctd\u003e683\\n\\nA MEAN FIELD THEORY OF LAYER IV OF VISU...\u003c/td\u003e\n",
              "    \u003c/tr\u003e\n",
              "    \u003ctr\u003e\n",
              "      \u003ctd\u003e2\u003c/td\u003e\n",
              "      \u003ctd\u003e1988\u003c/td\u003e\n",
              "      \u003ctd\u003eStoring Covariance by the Associative Long-Ter...\u003c/td\u003e\n",
              "      \u003ctd\u003eAbstract Missing\u003c/td\u003e\n",
              "      \u003ctd\u003e394\\n\\nSTORING COVARIANCE BY THE ASSOCIATIVE\\n...\u003c/td\u003e\n",
              "    \u003c/tr\u003e\n",
              "    \u003ctr\u003e\n",
              "      \u003ctd\u003e3\u003c/td\u003e\n",
              "      \u003ctd\u003e1994\u003c/td\u003e\n",
              "      \u003ctd\u003eBayesian Query Construction for Neural Network...\u003c/td\u003e\n",
              "      \u003ctd\u003eAbstract Missing\u003c/td\u003e\n",
              "      \u003ctd\u003eBayesian Query Construction for Neural\\nNetwor...\u003c/td\u003e\n",
              "    \u003c/tr\u003e\n",
              "    \u003ctr\u003e\n",
              "      \u003ctd\u003e4\u003c/td\u003e\n",
              "      \u003ctd\u003e1994\u003c/td\u003e\n",
              "      \u003ctd\u003eNeural Network Ensembles, Cross Validation, an...\u003c/td\u003e\n",
              "      \u003ctd\u003eAbstract Missing\u003c/td\u003e\n",
              "      \u003ctd\u003eNeural Network Ensembles, Cross\\nValidation, a...\u003c/td\u003e\n",
              "    \u003c/tr\u003e\n",
              "  \u003c/tbody\u003e\n",
              "\u003c/table\u003e\n",
              "\u003c/div\u003e"
            ],
            "text/plain": [
              "   year                                              title          abstract  \\\n",
              "0  1987  Self-Organization of Associative Database and ...  Abstract Missing   \n",
              "1  1987  A Mean Field Theory of Layer IV of Visual Cort...  Abstract Missing   \n",
              "2  1988  Storing Covariance by the Associative Long-Ter...  Abstract Missing   \n",
              "3  1994  Bayesian Query Construction for Neural Network...  Abstract Missing   \n",
              "4  1994  Neural Network Ensembles, Cross Validation, an...  Abstract Missing   \n",
              "\n",
              "                                          paper_text  \n",
              "0  767\\n\\nSELF-ORGANIZATION OF ASSOCIATIVE DATABA...  \n",
              "1  683\\n\\nA MEAN FIELD THEORY OF LAYER IV OF VISU...  \n",
              "2  394\\n\\nSTORING COVARIANCE BY THE ASSOCIATIVE\\n...  \n",
              "3  Bayesian Query Construction for Neural\\nNetwor...  \n",
              "4  Neural Network Ensembles, Cross\\nValidation, a...  "
            ]
          },
          "execution_count": 5,
          "metadata": {},
          "output_type": "execute_result"
        }
      ],
      "source": [
        "# Remove the columns\n",
        "papers \u003d papers.drop(columns\u003d[\u0027id\u0027, \u0027event_type\u0027, \u0027pdf_name\u0027], axis\u003d1)\n",
        "# Print out the first rows of papers\n",
        "papers.head()"
      ]
    },
    {
      "cell_type": "markdown",
      "metadata": {
        "pycharm": {}
      },
      "source": [
        "### **删除标点符号/转换为小写**\n",
        "\n",
        "\n",
        "现在，我们将对论文文本内容执行一些简单的预处理，以便它们更易于分析。我们将使用一个正则表达式来删除标题中的任何标点符号。然后我们将执行小写字母转换。"
      ]
    },
    {
      "cell_type": "code",
      "execution_count": 6,
      "metadata": {
        "pycharm": {}
      },
      "outputs": [
        {
          "data": {
            "text/plain": [
              "0    767\\n\\nself-organization of associative databa...\n",
              "1    683\\n\\na mean field theory of layer iv of visu...\n",
              "2    394\\n\\nstoring covariance by the associative\\n...\n",
              "3    bayesian query construction for neural\\nnetwor...\n",
              "4    neural network ensembles cross\\nvalidation and...\n",
              "Name: paper_text_processed, dtype: object"
            ]
          },
          "execution_count": 6,
          "metadata": {},
          "output_type": "execute_result"
        }
      ],
      "source": [
        "# Load the regular expression library\n",
        "import re\n",
        "# Remove punctuation\n",
        "papers[\u0027paper_text_processed\u0027] \u003d papers[\u0027paper_text\u0027].map(lambda x: re.sub(\u0027[,\\.!?]\u0027, \u0027\u0027, x))\n",
        "# Convert the titles to lowercase\n",
        "papers[\u0027paper_text_processed\u0027] \u003d papers[\u0027paper_text_processed\u0027].map(lambda x: x.lower())\n",
        "# Print out the first rows of papers\n",
        "papers[\u0027paper_text_processed\u0027].head()"
      ]
    },
    {
      "cell_type": "markdown",
      "metadata": {
        "pycharm": {}
      },
      "source": [
        "## 3. Exploratory analysis 探索性分析\n",
        "\n",
        "\n",
        "为了验证预处理是否正确执行，我们可以对研究论文的文本创建一个[词云](https://github.com/amueller/word_cloud)。这将给我们一个最常见单词的可视化表示。可视化是理解我们是否仍然在正确的轨道上的关键!此外，它还允许我们在进一步分析文本数据之前验证是否需要对文本数据进行额外的预处理。\n",
        "\n",
        "\n",
        "\n",
        "Python有大量的开放库!我们将使用Andreas Mueller的wordcloud库，而不是自己开发一种方法来创建词云："
      ]
    },
    {
      "cell_type": "code",
      "execution_count": 7,
      "metadata": {
        "pycharm": {}
      },
      "outputs": [
        {
          "data": {
            "text/plain": [
              "\u003cwordcloud.wordcloud.WordCloud at 0x2e12b554550\u003e"
            ]
          },
          "execution_count": 7,
          "metadata": {},
          "output_type": "execute_result"
        },
        {
          "data": {
            "image/png": "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\u003d\n",
            "text/plain": [
              "\u003cPIL.Image.Image image mode\u003dRGB size\u003d400x200 at 0x2E12B98AAC8\u003e"
            ]
          },
          "execution_count": 7,
          "metadata": {},
          "output_type": "execute_result"
        }
      ],
      "source": [
        "# Import the wordcloud library\n",
        "from wordcloud import WordCloud\n",
        "# Join the different processed titles together.\n",
        "long_string \u003d \u0027,\u0027.join(list(papers[\u0027paper_text_processed\u0027].values))\n",
        "# Create a WordCloud object\n",
        "wordcloud \u003d WordCloud(background_color\u003d\"white\", max_words\u003d5000, contour_width\u003d3, contour_color\u003d\u0027steelblue\u0027)\n",
        "# Generate a word cloud\n",
        "wordcloud.generate(long_string)\n",
        "# Visualize the word cloud\n",
        "wordcloud.to_image()"
      ]
    },
    {
      "cell_type": "markdown",
      "metadata": {
        "pycharm": {}
      },
      "source": [
        "## 4. Preparing data for LDA analysis 为LDA分析准备数据\n",
        "\n",
        "LDA不直接处理文本数据。首先，需要将文档转换为简单的向量表示形式。然后，LDA将使用这个表示来确定主题。“文档向量”的每个条目都对应于一个单词在文档中出现的次数(词袋模型，即BOW表示)。\n",
        "\n",
        "\n",
        "\n",
        "接下来，我们将把标题列表转换为向量列表，所有向量的长度都等于对应的词汇。\n",
        "\n",
        "\n",
        "\n",
        "然后，我们将根据这个操作的结果(文档向量列表)来标出最常见的10个单词。作为检查，这些单词也应该出现在词云中。 "
      ]
    },
    {
      "cell_type": "code",
      "execution_count": 9,
      "metadata": {
        "pycharm": {}
      },
      "outputs": [
        {
          "data": {
            "image/png": "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\u003d\n",
            "text/plain": [
              "\u003cFigure size 1080x667.491 with 1 Axes\u003e"
            ]
          },
          "metadata": {
            "needs_background": "light"
          },
          "output_type": "display_data"
        }
      ],
      "source": [
        "# Load the library with the CountVectorizer method\n",
        "from sklearn.feature_extraction.text import CountVectorizer\n",
        "import numpy as np\n",
        "import matplotlib.pyplot as plt\n",
        "import seaborn as sns\n",
        "sns.set_style(\u0027whitegrid\u0027)\n",
        "%matplotlib inline\n",
        "# Helper function\n",
        "def plot_10_most_common_words(count_data, count_vectorizer):\n",
        "    import matplotlib.pyplot as plt\n",
        "    words \u003d count_vectorizer.get_feature_names()\n",
        "    total_counts \u003d np.zeros(len(words))\n",
        "    for t in count_data:\n",
        "        total_counts+\u003dt.toarray()[0]\n",
        "    \n",
        "    count_dict \u003d (zip(words, total_counts))\n",
        "    count_dict \u003d sorted(count_dict, key\u003dlambda x:x[1], reverse\u003dTrue)[0:10]\n",
        "    words \u003d [w[0] for w in count_dict]\n",
        "    counts \u003d [w[1] for w in count_dict]\n",
        "    x_pos \u003d np.arange(len(words)) \n",
        "    \n",
        "    plt.figure(2, figsize\u003d(15, 15/1.6180))\n",
        "    plt.subplot(title\u003d\u002710 most common words\u0027)\n",
        "    sns.set_context(\"notebook\", font_scale\u003d1.25, rc\u003d{\"lines.linewidth\": 2.5})\n",
        "    sns.barplot(x_pos, counts, palette\u003d\u0027husl\u0027)\n",
        "    plt.xticks(x_pos, words, rotation\u003d90) \n",
        "    plt.xlabel(\u0027words\u0027)\n",
        "    plt.ylabel(\u0027counts\u0027)\n",
        "    plt.show()\n",
        "# Initialise the count vectorizer with the English stop words\n",
        "count_vectorizer \u003d CountVectorizer(stop_words\u003d\u0027english\u0027)\n",
        "# Fit and transform the processed titles\n",
        "count_data \u003d count_vectorizer.fit_transform(papers[\u0027paper_text_processed\u0027])\n",
        "# Visualise the 10 most common words\n",
        "plot_10_most_common_words(count_data, count_vectorizer)"
      ]
    },
    {
      "cell_type": "raw",
      "metadata": {
        "pycharm": {}
      },
      "source": [
        "```md\n",
        "文本数据预处理的第一步通常是进行分词，分词后会进行向量化的操作。在介绍向量化之前，我们先来了解下词袋模型。\n",
        "\n",
        " \n",
        "1.词袋模型（Bag of words，简称 BoW ）\n",
        " \n",
        "  词袋模型假设我们不考虑文本中词与词之间的上下文关系，仅仅只考虑所有词的权重。而权重与词在文本中出现的频率有关。\n",
        "\n",
        "  词袋模型首先会进行分词，在分词之后，通过统计每个词在文本中出现的次数，我们就可以得到该文本基于词的特征，如果将各个文本样本的这些词与对应的词频放在一起，就是我们常说的向量化。向量化完毕后一般也会使用 TF-IDF 进行特征的权重修正，再将特征进行标准化。 再进行一些其他的特征工程后，就可以将数据带入机器学习模型中计算。\n",
        "\n",
        "  词袋模型的三部曲：分词（tokenizing），统计修订词特征值（counting）与标准化（normalizing）。\n",
        "\n",
        "  词袋模型有很大的局限性，因为它仅仅考虑了词频，没有考虑上下文的关系，因此会丢失一部分文本的语义。\n",
        "\n",
        "  在词袋模型统计词频的时候，可以使用 sklearn 中的 CountVectorizer 来完成。下面具体说明。\n",
        "\n",
        " \n",
        "\n",
        "2.词频向量化\n",
        " \n",
        "\n",
        "  CountVectorizer 类会将文本中的词语转换为词频矩阵，例如矩阵中包含一个元素a[i][j]，它表示j词在i类文本下的词频。它通过 fit_transform 函数计算各个词语出现的次数，通过get_feature_names()可获取词袋中所有文本的关键字，通过 toarray()可看到词频矩阵的结果。\n",
        "\n",
        "官方文件中提到其参数很多默认值就很好，无需再改动，详细参数设置参见：点击打开链接。https://sklearn.apachecn.org/\n",
        "```"
      ]
    },
    {
      "cell_type": "markdown",
      "metadata": {
        "pycharm": {}
      },
      "source": [
        "## 5. LDA model training and results visualization LDA模型训练和结果视觉化\n",
        "\n",
        "我们唯一要调整的参数是LDA算法中的主题数量。通常，人们会计算“perplexity（困惑度）”指标来确定多少数量的主题是最好的，然后迭代不同数量的主题，直到找到最低的“perplexity”。在下一篇文章中，我们将介绍模型评估和调优概念，并探讨广泛使用的自然语言处理工具包Gensim。"
      ]
    },
    {
      "cell_type": "code",
      "execution_count": 10,
      "metadata": {
        "pycharm": {}
      },
      "outputs": [
        {
          "data": {
            "text/plain": [
              "LatentDirichletAllocation(batch_size\u003d128, doc_topic_prior\u003dNone,\n",
              "                          evaluate_every\u003d-1, learning_decay\u003d0.7,\n",
              "                          learning_method\u003d\u0027batch\u0027, learning_offset\u003d10.0,\n",
              "                          max_doc_update_iter\u003d100, max_iter\u003d10,\n",
              "                          mean_change_tol\u003d0.001, n_components\u003d5, n_jobs\u003d-1,\n",
              "                          perp_tol\u003d0.1, random_state\u003dNone,\n",
              "                          topic_word_prior\u003dNone, total_samples\u003d1000000.0,\n",
              "                          verbose\u003d0)"
            ]
          },
          "execution_count": 10,
          "metadata": {},
          "output_type": "execute_result"
        },
        {
          "name": "stdout",
          "output_type": "stream",
          "text": [
            "Topics found via LDA:\n",
            "\n",
            "Topic #0:\n",
            "network neural model time input learning figure networks neurons output\n",
            "\n",
            "Topic #1:\n",
            "learning algorithm function set bound state optimal problem theorem policy\n",
            "\n",
            "Topic #2:\n",
            "model data distribution models log algorithm inference 10 variables gaussian\n",
            "\n",
            "Topic #3:\n",
            "model data image training learning using set features images feature\n",
            "\n",
            "Topic #4:\n",
            "matrix data algorithm problem learning set 10 function method linear\n"
          ]
        }
      ],
      "source": [
        "import warnings\n",
        "warnings.simplefilter(\"ignore\", DeprecationWarning)\n",
        "# Load the LDA model from sk-learn\n",
        "from sklearn.decomposition import LatentDirichletAllocation as LDA\n",
        " \n",
        "# Helper function\n",
        "def print_topics(model, count_vectorizer, n_top_words):\n",
        "    words \u003d count_vectorizer.get_feature_names()\n",
        "    for topic_idx, topic in enumerate(model.components_):\n",
        "        print(\"\\nTopic #%d:\" % topic_idx)\n",
        "        print(\" \".join([words[i]\n",
        "                        for i in topic.argsort()[:-n_top_words - 1:-1]]))\n",
        "        \n",
        "# Tweak the two parameters below\n",
        "number_topics \u003d 5\n",
        "number_words \u003d 10\n",
        "# Create and fit the LDA model\n",
        "lda \u003d LDA(n_components\u003dnumber_topics, n_jobs\u003d-1)\n",
        "lda.fit(count_data)\n",
        "# Print the topics found by the LDA model\n",
        "print(\"Topics found via LDA:\")\n",
        "print_topics(lda, count_vectorizer, number_words)"
      ]
    },
    {
      "cell_type": "markdown",
      "metadata": {
        "pycharm": {}
      },
      "source": [
        "## 6. Analyzing LDA model results 分析LDA模型结果\n",
        "\n",
        "Now that we have a trained model let’s visualize the topics for interpretability. To do so, we’ll use a popular visualization package, pyLDAvis which is designed to help interactively with:\n",
        "\n",
        "[pyLDAvis包](https://github.com/bmabey/pyLDAvis)的目的是帮助用户在主题模型中解释适合于文本数据集的主题。pyLDAvis开发的交互式可视化工具对以下两方面都很有帮助:\n",
        "\n",
        "\n",
        "\n",
        "1. 更好地理解和解释个别主题\n",
        "\n",
        "2. 更好地理解主题之间的关系。\n",
        "\n",
        "\n",
        "\n",
        "对于(1),通过使用不同的λ参数，你可以手动选择每个主题以查看其最频繁的和/或“相关的”词语。当你试图为每个主题指定一个人可解释的名称或“含义”时，这将有所帮助。\n",
        "\n",
        "\n",
        "\n",
        "对于(2)，探索主题间距图（Intertopic Distance Plot ）可以帮助你了解主题之间的关系，包括主题组之间潜在的高级结构。"
      ]
    },
    {
      "cell_type": "code",
      "execution_count": null,
      "metadata": {
        "pycharm": {}
      },
      "outputs": [],
      "source": "%%time\nfrom pyLDAvis import sklearn as sklearn_lda\nimport pickle\nimport pyLDAvis\nimport os\n\nLDAvis_data_filepath \u003d os.path.join(\u0027./ldavis_prepared_\u0027 + str(number_topics))\n# # this is a bit time consuming - make the if statement True\n# # if you want to execute visualization prep yourself\nif 1 \u003d\u003d 1:\n    LDAvis_prepared \u003d sklearn_lda.prepare(lda, count_data, count_vectorizer)\nwith open(LDAvis_data_filepath, \u0027w\u0027) as f:\n    pickle.dump(LDAvis_prepared, f)\n\n# load the pre-prepared pyLDAvis data from disk\nwith open(LDAvis_data_filepath) as f:\n    LDAvis_prepared \u003d pickle.load(f)\npyLDAvis.save_html(LDAvis_prepared, \u0027./ldavis_prepared_\u0027 + str(number_topics) + \u0027.html\u0027)\n\n# 在win10上运行要很久，先中断了，有时间再跑下\n"
    },
    {
      "cell_type": "markdown",
      "source": "# 或者用下面的代码，自己调整下参数\n15.可视化主题 - 关键字\n现在已经构建了LDA模型，下一步是检查生成的主题和关联的关键字。没有比pyLDAvis包的交互式图表更好的工具，并且设计为与jupyter笔记本一起使用。\n\n# Visualize the topics\npyLDAvis.enable_notebook()\nvis \u003d pyLDAvis.gensim.prepare(lda_model, corpus, id2word)\nvis\n",
      "metadata": {
        "pycharm": {
          "metadata": false,
          "name": "#%% md\n"
        }
      }
    },
    {
      "cell_type": "markdown",
      "metadata": {
        "pycharm": {}
      },
      "source": "## Closing Notes\n\n在过去的十年里，机器学习已经变得越来越流行，最近在计算可用性方面的进步已经导致研究该领域的人数的指数级增长，人们正在寻找如何将新方法结合起来，从而推动自然语言处理领域的发展。通常，我们将主题模型视为黑箱算法，但我希望这篇文章能够阐明它背后的数学原理、直觉和高级代码，并帮助你开始处理任何文本数据。\n\n\n\n如上所述，在下一篇文章中，我们将更深入地了解如何评估主题模型的性能，优化超参数，使其能够部署到生产环境中。\n\n## Sources:\n\n- [1] Topic model — Wikipedia. https://en.wikipedia.org/wiki/Topic_model\n- [2] Distributed Strategies for Topic Modeling. https://www.ideals.illinois.edu/bitstream/handle/2142/46405/ParallelTopicModels.pdf?sequence\u003d2\u0026isAllowed\u003dy\n- [3] Topic Mapping — Software — Resources — Amaral Lab. https://amaral.northwestern.edu/resources/software/topic-mapping\n- [4] A Survey of Topic Modeling in Text Mining. https://thesai.org/Downloads/Volume6No1/Paper_21-A_Survey_of_Topic_Modeling_in_Text_Mining.pdf\n\n- 原文（英文）发表地址：[Topic Modeling in Python: Latent Dirichlet Allocation (LDA)](https://towardsdatascience.com/end-to-end-topic-modeling-in-python-latent-dirichlet-allocation-lda-35ce4ed6b3e0)\n\n- 中文发表地址：[Python中的端对端主题建模: 隐含狄利克雷分布(LDA)](https://mp.weixin.qq.com/s?__biz\u003dMjM5NzU0MzU0Nw\u003d\u003d\u0026mid\u003d2651382805\u0026idx\u003d1\u0026sn\u003d440b18df09f2c9e67a6c025d4239093c\u0026scene\u003d0#wechat_redirect)\n- 【Me】https://github.com/Valuebai/"
    },
    {
      "cell_type": "code",
      "execution_count": null,
      "metadata": {
        "pycharm": {}
      },
      "outputs": [],
      "source": []
    }
  ],
  "metadata": {
    "kernelspec": {
      "display_name": "Python 3",
      "language": "python",
      "name": "python3"
    },
    "language_info": {
      "codemirror_mode": {
        "name": "ipython",
        "version": 3
      },
      "file_extension": ".py",
      "mimetype": "text/x-python",
      "name": "python",
      "nbconvert_exporter": "python",
      "pygments_lexer": "ipython3",
      "version": "3.6.5"
    }
  },
  "nbformat": 4,
  "nbformat_minor": 1
}