{
 "cells": [
  {
   "cell_type": "markdown",
   "metadata": {},
   "source": [
    "## Advanced Python Programming - Lecture-01"
   ]
  },
  {
   "cell_type": "markdown",
   "metadata": {},
   "source": [
    "Not: Python高级编程 "
   ]
  },
  {
   "cell_type": "markdown",
   "metadata": {},
   "source": [
    "主要是想和大家聊一下 介绍一下比较重要的编程方法，编程方法在各个语言里都有用到。"
   ]
  },
  {
   "cell_type": "markdown",
   "metadata": {},
   "source": [
    "## Profiler 和 Decorator "
   ]
  },
  {
   "cell_type": "code",
   "execution_count": 46,
   "metadata": {},
   "outputs": [
    {
     "name": "stdout",
     "output_type": "stream",
     "text": [
      "test cases passed\n"
     ]
    }
   ],
   "source": [
    "def is_primer(n):\n",
    "    \"\"\"质数的判断\"\"\"\n",
    "    if n < 2: return False\n",
    "    \n",
    "    for i in range(2, n):\n",
    "        if n % i == 0: \n",
    "            #print('{} could be divided by #{}#'.format(n, i))\n",
    "            return False\n",
    "    \n",
    "    return True\n",
    "\n",
    "assert not is_primer(0)\n",
    "assert not is_primer(1)\n",
    "assert is_primer(2)\n",
    "assert is_primer(5)\n",
    "assert not is_primer(10)\n",
    "assert not is_primer(33)\n",
    "assert is_primer(101)\n",
    "\n",
    "print('test cases passed')\n",
    "\n",
    "def get_primers(n):\n",
    "    \"\"\"我们获取所以从1到n中的质数\"\"\"\n",
    "    \n",
    "    results = []\n",
    "    \n",
    "    for i in range(2, n+1):\n",
    "        if is_primer(i):\n",
    "            results.append(i)\n",
    "    \n",
    "    return results\n"
   ]
  },
  {
   "cell_type": "code",
   "execution_count": 28,
   "metadata": {},
   "outputs": [
    {
     "name": "stdout",
     "output_type": "stream",
     "text": [
      "CPU times: user 5.39 s, sys: 34.3 ms, total: 5.42 s\n",
      "Wall time: 5.48 s\n"
     ]
    }
   ],
   "source": [
    "%time r = get_primers(40000)"
   ]
  },
  {
   "cell_type": "markdown",
   "metadata": {},
   "source": [
    "## Instructions "
   ]
  },
  {
   "cell_type": "markdown",
   "metadata": {},
   "source": [
    "$$ O(n^2), O(nlgn) $$"
   ]
  },
  {
   "cell_type": "markdown",
   "metadata": {},
   "source": [
    "## 为什么程序这么慢呢？ "
   ]
  },
  {
   "cell_type": "markdown",
   "metadata": {},
   "source": [
    "## Don Knuth 1971 \"Software -Practice and Experience\""
   ]
  },
  {
   "cell_type": "markdown",
   "metadata": {},
   "source": [
    "如果一个非IO密集的，那么约3%的行数代码，占用了超过80%的时间"
   ]
  },
  {
   "cell_type": "markdown",
   "metadata": {},
   "source": [
    "?? 如果我们发现程序比较慢的时候，第一步要考虑什么呢？ 要观察瓶颈"
   ]
  },
  {
   "cell_type": "markdown",
   "metadata": {},
   "source": [
    "那么瓶颈怎么出现呢？ "
   ]
  },
  {
   "cell_type": "markdown",
   "metadata": {},
   "source": [
    "## Monitor"
   ]
  },
  {
   "cell_type": "markdown",
   "metadata": {},
   "source": [
    "## 减肥的第一步，买称"
   ]
  },
  {
   "cell_type": "code",
   "execution_count": 31,
   "metadata": {},
   "outputs": [
    {
     "name": "stdout",
     "output_type": "stream",
     "text": [
      " "
     ]
    }
   ],
   "source": [
    "%prun r = get_primers(40000)"
   ]
  },
  {
   "cell_type": "markdown",
   "metadata": {},
   "source": [
    "所以的语言都有：Profiler\n",
    "\n",
    "+ 以函数/方法（function/method）为维度的性能观察\n",
    "+ 以一行一行为维度的性能观察"
   ]
  },
  {
   "cell_type": "code",
   "execution_count": 33,
   "metadata": {},
   "outputs": [],
   "source": [
    "%load_ext line_profiler"
   ]
  },
  {
   "cell_type": "code",
   "execution_count": 47,
   "metadata": {},
   "outputs": [],
   "source": [
    "%lprun -f is_primer get_primers(10000)"
   ]
  },
  {
   "cell_type": "code",
   "execution_count": null,
   "metadata": {},
   "outputs": [],
   "source": [
    "9 -> 2, 3, 4, 5, 6, 7, 8\n",
    "100 -> 2, 3, 4, 5, 6, 7, 8, 9, 10"
   ]
  },
  {
   "cell_type": "code",
   "execution_count": 39,
   "metadata": {},
   "outputs": [
    {
     "name": "stdout",
     "output_type": "stream",
     "text": [
      "9 could be divided by #3#\n"
     ]
    },
    {
     "data": {
      "text/plain": [
       "False"
      ]
     },
     "execution_count": 39,
     "metadata": {},
     "output_type": "execute_result"
    }
   ],
   "source": [
    "N --- \n",
    "n**2 == N --- "
   ]
  },
  {
   "cell_type": "code",
   "execution_count": null,
   "metadata": {},
   "outputs": [],
   "source": [
    "16 -> 2 * 8; 4 * 4; 8 * 2"
   ]
  },
  {
   "cell_type": "code",
   "execution_count": null,
   "metadata": {},
   "outputs": [],
   "source": [
    "30 -> 2 * 15; 3 * 10; 5 * 6; 平方根 6 * 5; 10 * 3; 15 * 2"
   ]
  },
  {
   "cell_type": "markdown",
   "metadata": {},
   "source": [
    "## Version-2"
   ]
  },
  {
   "cell_type": "code",
   "execution_count": 52,
   "metadata": {},
   "outputs": [
    {
     "name": "stdout",
     "output_type": "stream",
     "text": [
      "test cases passed\n"
     ]
    }
   ],
   "source": [
    "def is_primer_2(n):\n",
    "    \"\"\"质数的判断\"\"\"\n",
    "    if n < 2: return False\n",
    "    \n",
    "    root = int(n ** 0.5) + 1\n",
    "    \n",
    "    for i in range(2, root):\n",
    "        if n % i == 0: \n",
    "            #print('{} could be divided by #{}#'.format(n, i))\n",
    "            return False\n",
    "    \n",
    "    return True\n",
    "\n",
    "assert not is_primer_2(0)\n",
    "assert not is_primer_2(1)\n",
    "assert is_primer_2(2)\n",
    "assert is_primer_2(5)\n",
    "assert not is_primer_2(10)\n",
    "assert not is_primer_2(33)\n",
    "assert is_primer_2(101)\n",
    "\n",
    "print('test cases passed')\n",
    "\n",
    "def get_primers_2(n):\n",
    "    \"\"\"我们获取所以从1到n中的质数\"\"\"\n",
    "    \n",
    "    results = []\n",
    "    \n",
    "    for i in range(2, n+1):\n",
    "        if is_primer_2(i):\n",
    "            results.append(i)\n",
    "    \n",
    "    return results\n"
   ]
  },
  {
   "cell_type": "code",
   "execution_count": 75,
   "metadata": {},
   "outputs": [
    {
     "name": "stdout",
     "output_type": "stream",
     "text": [
      "CPU times: user 206 ms, sys: 2.78 ms, total: 209 ms\n",
      "Wall time: 209 ms\n"
     ]
    }
   ],
   "source": [
    "%time r = get_primers_2(100000)"
   ]
  },
  {
   "cell_type": "code",
   "execution_count": 60,
   "metadata": {},
   "outputs": [],
   "source": [
    "%lprun -f is_primer_2 get_primers_2(10000)"
   ]
  },
  {
   "cell_type": "markdown",
   "metadata": {},
   "source": [
    "## Version-3"
   ]
  },
  {
   "cell_type": "markdown",
   "metadata": {},
   "source": [
    "1. 这个世界上所以的整数里边，有1/2的数字会被2整除\n",
    "2. 这个世界上所以的整数里边，有1/3的数字会被3整除\n",
    "3. 这个世界上所以的整数里边，有1/5的数字会被5整除\n",
    "\n",
    "1/2 + 1/3 + 1/5 == (15 + 10 + 6) / 30 == 21 / 30 \n"
   ]
  },
  {
   "cell_type": "code",
   "execution_count": 77,
   "metadata": {},
   "outputs": [
    {
     "name": "stdout",
     "output_type": "stream",
     "text": [
      "test cases passed\n"
     ]
    }
   ],
   "source": [
    "def could_be_divide(n, m): return n != m and n % m == 0 \n",
    "\n",
    "def is_primer_3(n):\n",
    "    \"\"\"质数的判断\"\"\"\n",
    "    if n < 2: return False\n",
    "    \n",
    "    if any(could_be_divide(n, i) for i in [2, 3, 5]): return False\n",
    "    \n",
    "#    if n != 2 and n % 2 == 0: return False\n",
    "#    if n != 3 and n % 3 == 0: return False\n",
    "#    if n != 5 and n % 5 == 0: return False\n",
    "    # 者三句话，减少了21/30的循环计算\n",
    "    \n",
    "    root = int(n ** 0.5) + 1\n",
    "    \n",
    "    for i in range(7, root):\n",
    "        if n % i == 0: \n",
    "            #print('{} could be divided by #{}#'.format(n, i))\n",
    "            return False\n",
    "    \n",
    "    return True\n",
    "\n",
    "assert not is_primer_3(0)\n",
    "assert not is_primer_3(1)\n",
    "assert is_primer_3(2)\n",
    "assert is_primer_3(5)\n",
    "assert not is_primer_3(10)\n",
    "assert not is_primer_3(33)\n",
    "assert is_primer_3(101)\n",
    "\n",
    "print('test cases passed')\n",
    "\n",
    "def get_primers_3(n):\n",
    "    \"\"\"我们获取所以从1到n中的质数\"\"\"\n",
    "    \n",
    "    results = []\n",
    "    \n",
    "    for i in range(2, n+1):\n",
    "        if is_primer_3(i):\n",
    "            results.append(i)\n",
    "    \n",
    "    return results\n"
   ]
  },
  {
   "cell_type": "code",
   "execution_count": 76,
   "metadata": {},
   "outputs": [
    {
     "name": "stdout",
     "output_type": "stream",
     "text": [
      "CPU times: user 173 ms, sys: 3.54 ms, total: 176 ms\n",
      "Wall time: 175 ms\n"
     ]
    }
   ],
   "source": [
    "import time\n",
    "\n",
    "s = time.time()\n",
    "\n",
    "get_primers_3(100000)\n",
    "\n",
    "print('using time = {}'.format(time.time() - s))"
   ]
  },
  {
   "cell_type": "code",
   "execution_count": null,
   "metadata": {},
   "outputs": [],
   "source": [
    "%time get_primers_3(100000)"
   ]
  },
  {
   "cell_type": "code",
   "execution_count": 72,
   "metadata": {},
   "outputs": [],
   "source": [
    "%lprun -f is_primer_3 get_primers_3(10000)"
   ]
  },
  {
   "cell_type": "markdown",
   "metadata": {},
   "source": [
    "## 并不是要和大家讲这个质数怎么求解，当你的程序变慢的时候，你改怎么办？ 或者说，你怎么知道程序的运行时间"
   ]
  },
  {
   "cell_type": "markdown",
   "metadata": {},
   "source": [
    "## 对话机器人 -> 短文本相似度匹配 + 文本检索"
   ]
  },
  {
   "cell_type": "markdown",
   "metadata": {},
   "source": [
    "我去的时候 项目已经进行到一半了，但是输入一段文字，要隔5秒钟，才能得到回复"
   ]
  },
  {
   "cell_type": "markdown",
   "metadata": {},
   "source": [
    "经过短短4天的优化，一轮问答的速度从5s变成了250ms；"
   ]
  },
  {
   "cell_type": "markdown",
   "metadata": {},
   "source": [
    "## 算法调优 模型的准确率\n",
    "## -> 时间"
   ]
  },
  {
   "cell_type": "markdown",
   "metadata": {},
   "source": [
    "## decorator -> 面向函数"
   ]
  },
  {
   "cell_type": "markdown",
   "metadata": {},
   "source": [
    "## 造一辆车"
   ]
  },
  {
   "cell_type": "markdown",
   "metadata": {},
   "source": [
    "+ 思维方式叫做： 流程(Procedure) --> 过程\n",
    "+ 还有一种思维方式： Object --> 对象\n",
    "+ Oriented\n",
    "+ 想一想，完成造车这件事情，功能（Function）--> 函数"
   ]
  },
  {
   "cell_type": "markdown",
   "metadata": {},
   "source": [
    "## 计算机科学里边，面向这两个字：\n",
    "+ 面向XX\n",
    "\n",
    "+ XX可以被用作函数的参数\n",
    "+ XX可以被用作返回值\n",
    "+ XX可以被变量赋值"
   ]
  },
  {
   "cell_type": "markdown",
   "metadata": {},
   "source": [
    "## Python -> 面向函数？"
   ]
  },
  {
   "cell_type": "markdown",
   "metadata": {},
   "source": [
    "+ 函数是可以作为变量的\n",
    "+ 函数是可以作为参数的\n",
    "+ 函数是可以作为返回值的"
   ]
  },
  {
   "cell_type": "code",
   "execution_count": 80,
   "metadata": {},
   "outputs": [],
   "source": [
    "def get_primers_f(n, primer_func):\n",
    "    \"\"\"我们获取所以从1到n中的质数\"\"\"\n",
    "    \n",
    "    results = []\n",
    "    \n",
    "    for i in range(2, n+1):\n",
    "        if primer_func(i):\n",
    "            results.append(i)\n",
    "            \n",
    "    return results"
   ]
  },
  {
   "cell_type": "code",
   "execution_count": 82,
   "metadata": {},
   "outputs": [],
   "source": [
    "r = get_primers_f(100, is_primer)"
   ]
  },
  {
   "cell_type": "code",
   "execution_count": 83,
   "metadata": {},
   "outputs": [],
   "source": [
    "r = get_primers_f(100, is_primer_2)"
   ]
  },
  {
   "cell_type": "code",
   "execution_count": 85,
   "metadata": {},
   "outputs": [],
   "source": [
    "%lprun -f is_primer_3 get_primers_f(10000, is_primer_3)"
   ]
  },
  {
   "cell_type": "code",
   "execution_count": 86,
   "metadata": {},
   "outputs": [],
   "source": [
    "from functools import partial"
   ]
  },
  {
   "cell_type": "code",
   "execution_count": 89,
   "metadata": {},
   "outputs": [],
   "source": [
    "get_p_2 = partial(get_primers_f, primer_func=is_primer_2)"
   ]
  },
  {
   "cell_type": "code",
   "execution_count": 93,
   "metadata": {},
   "outputs": [
    {
     "name": "stdout",
     "output_type": "stream",
     "text": [
      "CPU times: user 82 µs, sys: 1 µs, total: 83 µs\n",
      "Wall time: 86.1 µs\n"
     ]
    }
   ],
   "source": [
    "%time r = get_primers_f(100, is_primer_2)"
   ]
  },
  {
   "cell_type": "code",
   "execution_count": 96,
   "metadata": {},
   "outputs": [],
   "source": [
    "import time"
   ]
  },
  {
   "cell_type": "code",
   "execution_count": 126,
   "metadata": {},
   "outputs": [],
   "source": [
    "def get_primers_f(n, primer_func):\n",
    "    \"\"\"我们获取所以从1到n中的质数\"\"\"\n",
    "    #s = time.time()\n",
    "    \n",
    "    results = []\n",
    "    \n",
    "    for i in range(2, n+1):\n",
    "        if primer_func(i):\n",
    "            results.append(i)\n",
    "    \n",
    "    #e = time.time() \n",
    "    \n",
    "    #print('used time: {}'.format(e - s))\n",
    "    return results"
   ]
  },
  {
   "cell_type": "code",
   "execution_count": 117,
   "metadata": {},
   "outputs": [
    {
     "data": {
      "text/plain": [
       "[2,\n",
       " 3,\n",
       " 5,\n",
       " 7,\n",
       " 11,\n",
       " 13,\n",
       " 17,\n",
       " 19,\n",
       " 23,\n",
       " 29,\n",
       " 31,\n",
       " 37,\n",
       " 41,\n",
       " 43,\n",
       " 47,\n",
       " 53,\n",
       " 59,\n",
       " 61,\n",
       " 67,\n",
       " 71,\n",
       " 73,\n",
       " 79,\n",
       " 83,\n",
       " 89,\n",
       " 97]"
      ]
     },
     "execution_count": 117,
     "metadata": {},
     "output_type": "execute_result"
    }
   ],
   "source": [
    "get_primers_f(100, is_primer_2)"
   ]
  },
  {
   "cell_type": "code",
   "execution_count": 99,
   "metadata": {},
   "outputs": [
    {
     "name": "stdout",
     "output_type": "stream",
     "text": [
      "used time: 0.00011301040649414062\n"
     ]
    }
   ],
   "source": [
    "r = get_primers_f(100, is_primer)"
   ]
  },
  {
   "cell_type": "code",
   "execution_count": 100,
   "metadata": {},
   "outputs": [
    {
     "name": "stdout",
     "output_type": "stream",
     "text": [
      "used time: 7.390975952148438e-05\n"
     ]
    }
   ],
   "source": [
    "r = get_primers_f(100, is_primer_2)"
   ]
  },
  {
   "cell_type": "code",
   "execution_count": 101,
   "metadata": {},
   "outputs": [
    {
     "name": "stdout",
     "output_type": "stream",
     "text": [
      "used time: 0.00010824203491210938\n"
     ]
    }
   ],
   "source": [
    "r = get_primers_f(100, is_primer_3)"
   ]
  },
  {
   "cell_type": "code",
   "execution_count": 137,
   "metadata": {},
   "outputs": [],
   "source": [
    "from functools import wraps"
   ]
  },
  {
   "cell_type": "code",
   "execution_count": 170,
   "metadata": {},
   "outputs": [],
   "source": [
    "called_time = 0\n",
    "\n",
    "def get_time_with_cached(func):\n",
    "    cached = {}\n",
    "    \n",
    "    @wraps(func)\n",
    "    def _time(arg1, arg2):\n",
    "        \"\"\"My name is _time function\"\"\"\n",
    "        s = time.time()\n",
    "        \n",
    "        global called_time \n",
    "\n",
    "        called_time += 1\n",
    "        \n",
    "        if (arg1, arg2) in cached: return cached[(arg1, arg2)]\n",
    "        else:\n",
    "            result = func(arg1, arg2)\n",
    "            cached[(arg1, arg2)] = result\n",
    "        \n",
    "        print('used time:{} '.format(time.time() - s))\n",
    "        print('function called time is : {}'.format(called_time))\n",
    "        return result\n",
    "    \n",
    "    return _time"
   ]
  },
  {
   "cell_type": "code",
   "execution_count": 127,
   "metadata": {},
   "outputs": [],
   "source": [
    "get_primers_f = get_time(get_primers_f) #每次都这样很麻烦，Python里边从2.6开始，就加了个新的notation。@"
   ]
  },
  {
   "cell_type": "code",
   "execution_count": 128,
   "metadata": {},
   "outputs": [
    {
     "data": {
      "text/plain": [
       "<function __main__.get_time.<locals>._time(arg1, arg2)>"
      ]
     },
     "execution_count": 128,
     "metadata": {},
     "output_type": "execute_result"
    }
   ],
   "source": [
    "get_primers_f"
   ]
  },
  {
   "cell_type": "code",
   "execution_count": 125,
   "metadata": {},
   "outputs": [
    {
     "name": "stdout",
     "output_type": "stream",
     "text": [
      "used time:9.703636169433594e-05 \n",
      "used time:0.0001590251922607422 \n"
     ]
    },
    {
     "data": {
      "text/plain": [
       "[2,\n",
       " 3,\n",
       " 5,\n",
       " 7,\n",
       " 11,\n",
       " 13,\n",
       " 17,\n",
       " 19,\n",
       " 23,\n",
       " 29,\n",
       " 31,\n",
       " 37,\n",
       " 41,\n",
       " 43,\n",
       " 47,\n",
       " 53,\n",
       " 59,\n",
       " 61,\n",
       " 67,\n",
       " 71,\n",
       " 73,\n",
       " 79,\n",
       " 83,\n",
       " 89,\n",
       " 97]"
      ]
     },
     "execution_count": 125,
     "metadata": {},
     "output_type": "execute_result"
    }
   ],
   "source": [
    "get_primers_f(100, is_primer) #接受同样的参数 返回同样的值 只是多了一个操作"
   ]
  },
  {
   "cell_type": "code",
   "execution_count": 187,
   "metadata": {},
   "outputs": [],
   "source": [
    "@get_time_with_cached # exactly ==> get_primers_f = get_time(get_primers_f)\n",
    "def get_primers_with_decorator(n, primer_func):\n",
    "    \"\"\"我们获取所以从1到n中的质数\"\"\"\n",
    "    #s = time.time()\n",
    "    \n",
    "    results = []\n",
    "    \n",
    "    for i in range(2, n+1):\n",
    "        if primer_func(i):\n",
    "            results.append(i)\n",
    "    \n",
    "    #e = time.time() \n",
    "    \n",
    "    #print('used time: {}'.format(e - s))\n",
    "    return results"
   ]
  },
  {
   "cell_type": "code",
   "execution_count": 188,
   "metadata": {},
   "outputs": [
    {
     "name": "stdout",
     "output_type": "stream",
     "text": [
      "used time:0.5714240074157715 \n",
      "function called time is : 14\n"
     ]
    }
   ],
   "source": [
    "r1 = get_primers_with_decorator(12351, is_primer)"
   ]
  },
  {
   "cell_type": "markdown",
   "metadata": {},
   "source": [
    "## Python面向函数，面向对象\n",
    "\n",
    "+ C: 面向过程的 Oriented Procedure\n",
    "+ Java: 面向对象 Oriented Object\n",
    "+ Scala: 面向函数 Oriented Function\n",
    "\n",
    "+ Python: OF, OO, OP\n",
    "+ C++: OO, OP"
   ]
  },
  {
   "cell_type": "code",
   "execution_count": 189,
   "metadata": {},
   "outputs": [
    {
     "ename": "NameError",
     "evalue": "name 'cond1' is not defined",
     "output_type": "error",
     "traceback": [
      "\u001b[0;31m---------------------------------------------------------------------------\u001b[0m",
      "\u001b[0;31mNameError\u001b[0m                                 Traceback (most recent call last)",
      "\u001b[0;32m<ipython-input-189-d11f8b711eb6>\u001b[0m in \u001b[0;36m<module>\u001b[0;34m\u001b[0m\n\u001b[1;32m      1\u001b[0m func_mapper = {\n\u001b[0;32m----> 2\u001b[0;31m     \u001b[0mcond1\u001b[0m\u001b[0;34m:\u001b[0m \u001b[0mfunc1\u001b[0m\u001b[0;34m,\u001b[0m\u001b[0;34m\u001b[0m\u001b[0;34m\u001b[0m\u001b[0m\n\u001b[0m\u001b[1;32m      3\u001b[0m     \u001b[0mcond2\u001b[0m\u001b[0;34m:\u001b[0m \u001b[0mfunc2\u001b[0m\u001b[0;34m,\u001b[0m\u001b[0;34m\u001b[0m\u001b[0;34m\u001b[0m\u001b[0m\n\u001b[1;32m      4\u001b[0m     \u001b[0mcond3\u001b[0m\u001b[0;34m:\u001b[0m \u001b[0mfunc3\u001b[0m\u001b[0;34m\u001b[0m\u001b[0;34m\u001b[0m\u001b[0m\n\u001b[1;32m      5\u001b[0m }\n",
      "\u001b[0;31mNameError\u001b[0m: name 'cond1' is not defined"
     ]
    }
   ],
   "source": [
    "func_mapper = {\n",
    "    cond1: func1,\n",
    "    cond2: func2,\n",
    "    cond3: func3\n",
    "}"
   ]
  },
  {
   "cell_type": "code",
   "execution_count": null,
   "metadata": {},
   "outputs": [],
   "source": [
    "for cond, func in func_mapper:\n",
    "    if cond(x): func(x)"
   ]
  },
  {
   "cell_type": "code",
   "execution_count": null,
   "metadata": {},
   "outputs": [],
   "source": [
    "if xxx:\n",
    "    func1():\n",
    "if XXX2():\n",
    "    func2()\n"
   ]
  }
 ],
 "metadata": {
  "kernelspec": {
   "display_name": "Python 3",
   "language": "python",
   "name": "python3"
  },
  "language_info": {
   "codemirror_mode": {
    "name": "ipython",
    "version": 3
   },
   "file_extension": ".py",
   "mimetype": "text/x-python",
   "name": "python",
   "nbconvert_exporter": "python",
   "pygments_lexer": "ipython3",
   "version": "3.6.9"
  }
 },
 "nbformat": 4,
 "nbformat_minor": 2
}
