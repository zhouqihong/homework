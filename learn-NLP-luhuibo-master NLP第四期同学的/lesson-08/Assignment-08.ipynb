{
 "cells": [
  {
   "cell_type": "markdown",
   "metadata": {},
   "source": [
    "## Assignment-07 First Step of using machine learning and models."
   ]
  },
  {
   "cell_type": "markdown",
   "metadata": {},
   "source": [
    "![](https://github.com/Computing-Intelligence/jupyters_and_slides/raw/master/entrance-test/images/kkb-ai.png)"
   ]
  },
  {
   "cell_type": "code",
   "execution_count": 3,
   "metadata": {
    "collapsed": true
   },
   "outputs": [],
   "source": [
    "#fname = '/Users/gaominquan/Downloads/sqlResult_1558435 2.csv'"
   ]
  },
  {
   "cell_type": "code",
   "execution_count": 4,
   "metadata": {
    "collapsed": true
   },
   "outputs": [],
   "source": [
    "#import pandas as pd"
   ]
  },
  {
   "cell_type": "code",
   "execution_count": null,
   "metadata": {
    "collapsed": true
   },
   "outputs": [],
   "source": [
    "#content = pd.read_csv(fname, encoding='gb18030')"
   ]
  },
  {
   "cell_type": "code",
   "execution_count": null,
   "metadata": {
    "collapsed": true,
    "scrolled": true
   },
   "outputs": [],
   "source": [
    "#content.head()"
   ]
  },
  {
   "cell_type": "code",
   "execution_count": null,
   "metadata": {
    "collapsed": true
   },
   "outputs": [],
   "source": [
    "#xinhua_news = content[content['source'] == '新华社']"
   ]
  },
  {
   "cell_type": "code",
   "execution_count": null,
   "metadata": {
    "collapsed": true
   },
   "outputs": [],
   "source": [
    "#len(xinhua_news) / len(content)"
   ]
  },
  {
   "cell_type": "markdown",
   "metadata": {},
   "source": [
    "### 任务描述"
   ]
  },
  {
   "cell_type": "markdown",
   "metadata": {},
   "source": [
    "报社等相关的机构，往往会遇到一个问题，就是别人家的机构使用自己的文章但是并没有标明来源。 在本次任务中，我们将解决新华社的文章被抄袭引用的问题。"
   ]
  },
  {
   "cell_type": "markdown",
   "metadata": {},
   "source": [
    "给定的数据集合中，存在一些新闻预料，该预料是来自新华社，但是其来源并不是新华社，请设计技巧学习模型解决该问题。"
   ]
  },
  {
   "cell_type": "markdown",
   "metadata": {},
   "source": [
    "![](https://timgsa.baidu.com/timg?image&quality=80&size=b9999_10000&sec=1566105348906&di=ee9a2de91207767364853d4decc6cca3&imgtype=0&src=http://mmbiz.qpic.cn/mmbiz_png/TicO2kbP6Ao5sCsSQDpehZiczLdC6hDCNvoicjcOCEKX2bLxBc9gVOw28zHyFibfIWq9ceRibP6HDTKReGkr6YyTfQQ/640?wx_fmt=png)"
   ]
  },
  {
   "cell_type": "markdown",
   "metadata": {},
   "source": [
    "### Step1: 数据分析"
   ]
  },
  {
   "cell_type": "markdown",
   "metadata": {},
   "source": [
    "请在课程的GitHub中下载数据集，然后使用pandas进行读取。"
   ]
  },
  {
   "cell_type": "code",
   "execution_count": 1,
   "metadata": {
    "collapsed": true
   },
   "outputs": [],
   "source": [
    "# it‘s your time\n",
    "fname = 'C:\\%users\\\\672\\\\Desktop\\\\慧科\\\\jupyters_and_slides-master\\\\2019-summer\\\\lession-07/1558435.csv'"
   ]
  },
  {
   "cell_type": "code",
   "execution_count": 2,
   "metadata": {
    "collapsed": true
   },
   "outputs": [],
   "source": [
    "import pandas as pd"
   ]
  },
  {
   "cell_type": "code",
   "execution_count": 3,
   "metadata": {
    "collapsed": true
   },
   "outputs": [],
   "source": [
    "content = pd.read_csv(fname,encoding='gb18030')"
   ]
  },
  {
   "cell_type": "code",
   "execution_count": 4,
   "metadata": {
    "scrolled": true
   },
   "outputs": [
    {
     "data": {
      "text/html": [
       "<div>\n",
       "<style scoped>\n",
       "    .dataframe tbody tr th:only-of-type {\n",
       "        vertical-align: middle;\n",
       "    }\n",
       "\n",
       "    .dataframe tbody tr th {\n",
       "        vertical-align: top;\n",
       "    }\n",
       "\n",
       "    .dataframe thead th {\n",
       "        text-align: right;\n",
       "    }\n",
       "</style>\n",
       "<table border=\"1\" class=\"dataframe\">\n",
       "  <thead>\n",
       "    <tr style=\"text-align: right;\">\n",
       "      <th></th>\n",
       "      <th>id</th>\n",
       "      <th>author</th>\n",
       "      <th>source</th>\n",
       "      <th>content</th>\n",
       "      <th>feature</th>\n",
       "      <th>title</th>\n",
       "      <th>url</th>\n",
       "    </tr>\n",
       "  </thead>\n",
       "  <tbody>\n",
       "    <tr>\n",
       "      <th>0</th>\n",
       "      <td>89617</td>\n",
       "      <td>NaN</td>\n",
       "      <td>快科技@http://www.kkj.cn/</td>\n",
       "      <td>此外，自本周（6月12日）起，除小米手机6等15款机型外，其余机型已暂停更新发布（含开发版/...</td>\n",
       "      <td>{\"type\":\"科技\",\"site\":\"cnbeta\",\"commentNum\":\"37\"...</td>\n",
       "      <td>小米MIUI 9首批机型曝光：共计15款</td>\n",
       "      <td>http://www.cnbeta.com/articles/tech/623597.htm</td>\n",
       "    </tr>\n",
       "    <tr>\n",
       "      <th>1</th>\n",
       "      <td>89616</td>\n",
       "      <td>NaN</td>\n",
       "      <td>快科技@http://www.kkj.cn/</td>\n",
       "      <td>骁龙835作为唯一通过Windows 10桌面平台认证的ARM处理器，高通强调，不会因为只考...</td>\n",
       "      <td>{\"type\":\"科技\",\"site\":\"cnbeta\",\"commentNum\":\"15\"...</td>\n",
       "      <td>骁龙835在Windows 10上的性能表现有望改善</td>\n",
       "      <td>http://www.cnbeta.com/articles/tech/623599.htm</td>\n",
       "    </tr>\n",
       "    <tr>\n",
       "      <th>2</th>\n",
       "      <td>89615</td>\n",
       "      <td>NaN</td>\n",
       "      <td>快科技@http://www.kkj.cn/</td>\n",
       "      <td>此前的一加3T搭载的是3400mAh电池，DashCharge快充规格为5V/4A。\\r\\n...</td>\n",
       "      <td>{\"type\":\"科技\",\"site\":\"cnbeta\",\"commentNum\":\"18\"...</td>\n",
       "      <td>一加手机5细节曝光：3300mAh、充半小时用1天</td>\n",
       "      <td>http://www.cnbeta.com/articles/tech/623601.htm</td>\n",
       "    </tr>\n",
       "    <tr>\n",
       "      <th>3</th>\n",
       "      <td>89614</td>\n",
       "      <td>NaN</td>\n",
       "      <td>新华社</td>\n",
       "      <td>这是6月18日在葡萄牙中部大佩德罗冈地区拍摄的被森林大火烧毁的汽车。新华社记者张立云摄\\r\\n</td>\n",
       "      <td>{\"type\":\"国际新闻\",\"site\":\"环球\",\"commentNum\":\"0\",\"j...</td>\n",
       "      <td>葡森林火灾造成至少62人死亡 政府宣布进入紧急状态（组图）</td>\n",
       "      <td>http://world.huanqiu.com/hot/2017-06/10866126....</td>\n",
       "    </tr>\n",
       "    <tr>\n",
       "      <th>4</th>\n",
       "      <td>89613</td>\n",
       "      <td>胡淑丽_MN7479</td>\n",
       "      <td>深圳大件事</td>\n",
       "      <td>（原标题：44岁女子跑深圳约会网友被拒，暴雨中裸身奔走……）\\r\\n@深圳交警微博称：昨日清...</td>\n",
       "      <td>{\"type\":\"新闻\",\"site\":\"网易热门\",\"commentNum\":\"978\",...</td>\n",
       "      <td>44岁女子约网友被拒暴雨中裸奔 交警为其披衣相随</td>\n",
       "      <td>http://news.163.com/17/0618/00/CN617P3Q0001875...</td>\n",
       "    </tr>\n",
       "  </tbody>\n",
       "</table>\n",
       "</div>"
      ],
      "text/plain": [
       "      id      author                  source  \\\n",
       "0  89617         NaN  快科技@http://www.kkj.cn/   \n",
       "1  89616         NaN  快科技@http://www.kkj.cn/   \n",
       "2  89615         NaN  快科技@http://www.kkj.cn/   \n",
       "3  89614         NaN                     新华社   \n",
       "4  89613  胡淑丽_MN7479                   深圳大件事   \n",
       "\n",
       "                                             content  \\\n",
       "0  此外，自本周（6月12日）起，除小米手机6等15款机型外，其余机型已暂停更新发布（含开发版/...   \n",
       "1  骁龙835作为唯一通过Windows 10桌面平台认证的ARM处理器，高通强调，不会因为只考...   \n",
       "2  此前的一加3T搭载的是3400mAh电池，DashCharge快充规格为5V/4A。\\r\\n...   \n",
       "3    这是6月18日在葡萄牙中部大佩德罗冈地区拍摄的被森林大火烧毁的汽车。新华社记者张立云摄\\r\\n   \n",
       "4  （原标题：44岁女子跑深圳约会网友被拒，暴雨中裸身奔走……）\\r\\n@深圳交警微博称：昨日清...   \n",
       "\n",
       "                                             feature  \\\n",
       "0  {\"type\":\"科技\",\"site\":\"cnbeta\",\"commentNum\":\"37\"...   \n",
       "1  {\"type\":\"科技\",\"site\":\"cnbeta\",\"commentNum\":\"15\"...   \n",
       "2  {\"type\":\"科技\",\"site\":\"cnbeta\",\"commentNum\":\"18\"...   \n",
       "3  {\"type\":\"国际新闻\",\"site\":\"环球\",\"commentNum\":\"0\",\"j...   \n",
       "4  {\"type\":\"新闻\",\"site\":\"网易热门\",\"commentNum\":\"978\",...   \n",
       "\n",
       "                           title  \\\n",
       "0           小米MIUI 9首批机型曝光：共计15款   \n",
       "1     骁龙835在Windows 10上的性能表现有望改善   \n",
       "2      一加手机5细节曝光：3300mAh、充半小时用1天   \n",
       "3  葡森林火灾造成至少62人死亡 政府宣布进入紧急状态（组图）   \n",
       "4       44岁女子约网友被拒暴雨中裸奔 交警为其披衣相随   \n",
       "\n",
       "                                                 url  \n",
       "0     http://www.cnbeta.com/articles/tech/623597.htm  \n",
       "1     http://www.cnbeta.com/articles/tech/623599.htm  \n",
       "2     http://www.cnbeta.com/articles/tech/623601.htm  \n",
       "3  http://world.huanqiu.com/hot/2017-06/10866126....  \n",
       "4  http://news.163.com/17/0618/00/CN617P3Q0001875...  "
      ]
     },
     "execution_count": 4,
     "metadata": {},
     "output_type": "execute_result"
    }
   ],
   "source": [
    "content.head()"
   ]
  },
  {
   "cell_type": "code",
   "execution_count": 5,
   "metadata": {
    "collapsed": true
   },
   "outputs": [],
   "source": [
    "xinhua_news = content[content['source'] == '新华社']"
   ]
  },
  {
   "cell_type": "code",
   "execution_count": 6,
   "metadata": {},
   "outputs": [
    {
     "data": {
      "text/plain": [
       "0.8778051801676133"
      ]
     },
     "execution_count": 6,
     "metadata": {},
     "output_type": "execute_result"
    }
   ],
   "source": [
    "len(xinhua_news) / len(content)"
   ]
  },
  {
   "cell_type": "code",
   "execution_count": null,
   "metadata": {
    "collapsed": true
   },
   "outputs": [],
   "source": []
  },
  {
   "cell_type": "markdown",
   "metadata": {},
   "source": [
    "### Step2: 数据预处理"
   ]
  },
  {
   "cell_type": "markdown",
   "metadata": {},
   "source": [
    "将pandas中的数据，依据是否是新华社的文章，请改变成新的数据dataframe: <content, y>, 其中，content是文章内容，y是0或者1. 你可能要使用到pandas的dataframe操作。https://pandas.pydata.org/pandas-docs/stable/reference/api/pandas.DataFrame.apply.html"
   ]
  },
  {
   "cell_type": "code",
   "execution_count": 7,
   "metadata": {},
   "outputs": [
    {
     "data": {
      "text/plain": [
       "pandas.core.frame.DataFrame"
      ]
     },
     "execution_count": 7,
     "metadata": {},
     "output_type": "execute_result"
    }
   ],
   "source": [
    "type(content)"
   ]
  },
  {
   "cell_type": "code",
   "execution_count": 8,
   "metadata": {},
   "outputs": [
    {
     "data": {
      "text/plain": [
       "89611"
      ]
     },
     "execution_count": 8,
     "metadata": {},
     "output_type": "execute_result"
    }
   ],
   "source": [
    "len(content)"
   ]
  },
  {
   "cell_type": "code",
   "execution_count": 9,
   "metadata": {},
   "outputs": [
    {
     "data": {
      "text/plain": [
       "87054"
      ]
     },
     "execution_count": 9,
     "metadata": {},
     "output_type": "execute_result"
    }
   ],
   "source": [
    "# it's your time\n",
    "content_1 = content.dropna(subset = ['content']) #剔除内容为空的行\n",
    "len(content_1)"
   ]
  },
  {
   "cell_type": "code",
   "execution_count": 10,
   "metadata": {},
   "outputs": [
    {
     "data": {
      "text/html": [
       "<div>\n",
       "<style scoped>\n",
       "    .dataframe tbody tr th:only-of-type {\n",
       "        vertical-align: middle;\n",
       "    }\n",
       "\n",
       "    .dataframe tbody tr th {\n",
       "        vertical-align: top;\n",
       "    }\n",
       "\n",
       "    .dataframe thead th {\n",
       "        text-align: right;\n",
       "    }\n",
       "</style>\n",
       "<table border=\"1\" class=\"dataframe\">\n",
       "  <thead>\n",
       "    <tr style=\"text-align: right;\">\n",
       "      <th></th>\n",
       "      <th>id</th>\n",
       "      <th>author</th>\n",
       "      <th>source</th>\n",
       "      <th>content</th>\n",
       "      <th>feature</th>\n",
       "      <th>title</th>\n",
       "      <th>url</th>\n",
       "    </tr>\n",
       "  </thead>\n",
       "  <tbody>\n",
       "    <tr>\n",
       "      <th>0</th>\n",
       "      <td>89617</td>\n",
       "      <td>NaN</td>\n",
       "      <td>快科技@http://www.kkj.cn/</td>\n",
       "      <td>此外，自本周（6月12日）起，除小米手机6等15款机型外，其余机型已暂停更新发布（含开发版/...</td>\n",
       "      <td>{\"type\":\"科技\",\"site\":\"cnbeta\",\"commentNum\":\"37\"...</td>\n",
       "      <td>小米MIUI 9首批机型曝光：共计15款</td>\n",
       "      <td>http://www.cnbeta.com/articles/tech/623597.htm</td>\n",
       "    </tr>\n",
       "    <tr>\n",
       "      <th>1</th>\n",
       "      <td>89616</td>\n",
       "      <td>NaN</td>\n",
       "      <td>快科技@http://www.kkj.cn/</td>\n",
       "      <td>骁龙835作为唯一通过Windows 10桌面平台认证的ARM处理器，高通强调，不会因为只考...</td>\n",
       "      <td>{\"type\":\"科技\",\"site\":\"cnbeta\",\"commentNum\":\"15\"...</td>\n",
       "      <td>骁龙835在Windows 10上的性能表现有望改善</td>\n",
       "      <td>http://www.cnbeta.com/articles/tech/623599.htm</td>\n",
       "    </tr>\n",
       "    <tr>\n",
       "      <th>2</th>\n",
       "      <td>89615</td>\n",
       "      <td>NaN</td>\n",
       "      <td>快科技@http://www.kkj.cn/</td>\n",
       "      <td>此前的一加3T搭载的是3400mAh电池，DashCharge快充规格为5V/4A。\\r\\n...</td>\n",
       "      <td>{\"type\":\"科技\",\"site\":\"cnbeta\",\"commentNum\":\"18\"...</td>\n",
       "      <td>一加手机5细节曝光：3300mAh、充半小时用1天</td>\n",
       "      <td>http://www.cnbeta.com/articles/tech/623601.htm</td>\n",
       "    </tr>\n",
       "    <tr>\n",
       "      <th>3</th>\n",
       "      <td>89614</td>\n",
       "      <td>NaN</td>\n",
       "      <td>新华社</td>\n",
       "      <td>这是6月18日在葡萄牙中部大佩德罗冈地区拍摄的被森林大火烧毁的汽车。新华社记者张立云摄\\r\\n</td>\n",
       "      <td>{\"type\":\"国际新闻\",\"site\":\"环球\",\"commentNum\":\"0\",\"j...</td>\n",
       "      <td>葡森林火灾造成至少62人死亡 政府宣布进入紧急状态（组图）</td>\n",
       "      <td>http://world.huanqiu.com/hot/2017-06/10866126....</td>\n",
       "    </tr>\n",
       "    <tr>\n",
       "      <th>4</th>\n",
       "      <td>89613</td>\n",
       "      <td>胡淑丽_MN7479</td>\n",
       "      <td>深圳大件事</td>\n",
       "      <td>（原标题：44岁女子跑深圳约会网友被拒，暴雨中裸身奔走……）\\r\\n@深圳交警微博称：昨日清...</td>\n",
       "      <td>{\"type\":\"新闻\",\"site\":\"网易热门\",\"commentNum\":\"978\",...</td>\n",
       "      <td>44岁女子约网友被拒暴雨中裸奔 交警为其披衣相随</td>\n",
       "      <td>http://news.163.com/17/0618/00/CN617P3Q0001875...</td>\n",
       "    </tr>\n",
       "    <tr>\n",
       "      <th>5</th>\n",
       "      <td>89612</td>\n",
       "      <td>张怡</td>\n",
       "      <td>中国证券报?中证网</td>\n",
       "      <td>受到A股被纳入MSCI指数的利好消息刺激，A股市场从周三开始再度上演龙马行情，周四上午金...</td>\n",
       "      <td>{\"type\":\"市场\",\"site\":\"中证网\",\"commentNum\":\"0\",\"jo...</td>\n",
       "      <td>金融股一枝独秀 配置价值犹存</td>\n",
       "      <td>http://www.cs.com.cn/gppd/201706/t20170623_533...</td>\n",
       "    </tr>\n",
       "    <tr>\n",
       "      <th>6</th>\n",
       "      <td>89611</td>\n",
       "      <td>NaN</td>\n",
       "      <td>威锋网@http://www.feng.com/</td>\n",
       "      <td>虽然至今夏普智能手机在市场上无法排得上号，已经完全没落，并于 2013 年退出中国市场，但是...</td>\n",
       "      <td>{\"type\":\"科技\",\"site\":\"cnbeta\",\"commentNum\":\"21\"...</td>\n",
       "      <td>配骁龙660 全面屏鼻祖夏普新机酝酿中</td>\n",
       "      <td>http://www.cnbeta.com/articles/tech/623603.htm</td>\n",
       "    </tr>\n",
       "    <tr>\n",
       "      <th>7</th>\n",
       "      <td>89610</td>\n",
       "      <td>申玉彬 整理</td>\n",
       "      <td>中国证券报?中证网</td>\n",
       "      <td>沙漠雄鹰：震荡有利消化套牢筹码\\r\\n　　周四开盘上证50在银行券商大蓝筹带动下一度涨近...</td>\n",
       "      <td>{\"type\":\"市场\",\"site\":\"中证网\",\"commentNum\":\"0\",\"jo...</td>\n",
       "      <td>博友早评：震荡有利消化套牢筹码</td>\n",
       "      <td>http://www.cs.com.cn/gppd/201706/t20170623_533...</td>\n",
       "    </tr>\n",
       "    <tr>\n",
       "      <th>8</th>\n",
       "      <td>89609</td>\n",
       "      <td>李杭_BJS4645</td>\n",
       "      <td>荆楚网-楚天都市报</td>\n",
       "      <td>（原标题：武汉警方一下子抓了808人，还都是俊男靓女！原来他们每天偷偷摸摸干这事！）\\r\\n...</td>\n",
       "      <td>{\"type\":\"新闻\",\"site\":\"网易热门\",\"commentNum\":\"1600\"...</td>\n",
       "      <td>武汉千余警察出动 抓获808名俊男靓女全是诈骗犯</td>\n",
       "      <td>http://news.163.com/17/0614/14/CMT9N8G80001899...</td>\n",
       "    </tr>\n",
       "    <tr>\n",
       "      <th>9</th>\n",
       "      <td>89608</td>\n",
       "      <td>吴瞬</td>\n",
       "      <td>中国证券报?中证网</td>\n",
       "      <td>6月21日，A股纳入MSCI指数尘埃落定，但当天被寄予厚望的券商股并未扛起反弹大旗。22...</td>\n",
       "      <td>{\"type\":\"市场\",\"site\":\"中证网\",\"commentNum\":\"0\",\"jo...</td>\n",
       "      <td>纳入MSCI指数 A股长期配置价值提升</td>\n",
       "      <td>http://www.cs.com.cn/gppd/201706/t20170623_533...</td>\n",
       "    </tr>\n",
       "    <tr>\n",
       "      <th>10</th>\n",
       "      <td>89607</td>\n",
       "      <td>NaN</td>\n",
       "      <td>证券时报网</td>\n",
       "      <td>证券时报网（www.stcn.com）06月23日讯\\r\\n　　据上证报道，6月初以来，...</td>\n",
       "      <td>{\"type\":\"市场\",\"site\":\"中证网\",\"commentNum\":\"0\",\"jo...</td>\n",
       "      <td>私募：蓝筹风格难切换 业绩估值相配是王道</td>\n",
       "      <td>http://www.cs.com.cn/gppd/201706/t20170623_533...</td>\n",
       "    </tr>\n",
       "    <tr>\n",
       "      <th>11</th>\n",
       "      <td>89606</td>\n",
       "      <td>NaN</td>\n",
       "      <td>证券时报网</td>\n",
       "      <td>?\\r\\n　　巨丰早评：市场将再次探底\\r\\n　　【巨丰观点】\\r\\n　　周四大盘冲高回落，...</td>\n",
       "      <td>{\"type\":\"市场\",\"site\":\"中证网\",\"commentNum\":\"0\",\"jo...</td>\n",
       "      <td>早间机构看市：市场将再次探底 两类股逢低布局</td>\n",
       "      <td>http://www.cs.com.cn/gppd/201706/t20170623_533...</td>\n",
       "    </tr>\n",
       "    <tr>\n",
       "      <th>12</th>\n",
       "      <td>89605</td>\n",
       "      <td>NaN</td>\n",
       "      <td>中国新闻网</td>\n",
       "      <td>中新网6月19日电 据外媒报道，美国底特律一名男子1976年因为一根头发被定谋杀罪，监禁41...</td>\n",
       "      <td>{\"type\":\"国际新闻\",\"site\":\"环球\",\"commentNum\":\"0\",\"j...</td>\n",
       "      <td>因为犯罪现场的一根头发，他坐冤狱41年后终获释</td>\n",
       "      <td>http://world.huanqiu.com/hot/2017-06/10866136....</td>\n",
       "    </tr>\n",
       "    <tr>\n",
       "      <th>13</th>\n",
       "      <td>89604</td>\n",
       "      <td>申玉彬 整理</td>\n",
       "      <td>中国证券报?中证网</td>\n",
       "      <td>曹先生：风格转换前的阵痛\\r\\n　　今日早盘两地低开，之后一度震荡走高，领涨的仍然是上证...</td>\n",
       "      <td>{\"type\":\"市场\",\"site\":\"中证网\",\"commentNum\":\"0\",\"jo...</td>\n",
       "      <td>博友午评：风格转换前的阵痛</td>\n",
       "      <td>http://www.cs.com.cn/gppd/201706/t20170623_533...</td>\n",
       "    </tr>\n",
       "    <tr>\n",
       "      <th>14</th>\n",
       "      <td>89603</td>\n",
       "      <td>NaN</td>\n",
       "      <td>国际在线</td>\n",
       "      <td>6月21日，MSCI在官网发布公告称，从明年6月起将中国A股纳入MSCI新兴市场指数和MSC...</td>\n",
       "      <td>{\"type\":\"观点滚动\",\"site\":\"参考消息\",\"commentNum\":\"0\",...</td>\n",
       "      <td>MSCI闯关成功会是A股的一针强心剂吗？</td>\n",
       "      <td>http://column.cankaoxiaoxi.com/plgd/2017/0623/...</td>\n",
       "    </tr>\n",
       "    <tr>\n",
       "      <th>15</th>\n",
       "      <td>89602</td>\n",
       "      <td>费天元</td>\n",
       "      <td>中国证券网</td>\n",
       "      <td>中国证券网讯（记者 费天元）沪深两市周五临近午盘出现快速跳水，沪指连续跌穿5日、10日及...</td>\n",
       "      <td>{\"type\":\"市场\",\"site\":\"中证网\",\"commentNum\":\"0\",\"jo...</td>\n",
       "      <td>地产股拉升难阻市场颓势 三大指数早盘集体跳水</td>\n",
       "      <td>http://www.cs.com.cn/gppd/201706/t20170623_533...</td>\n",
       "    </tr>\n",
       "    <tr>\n",
       "      <th>16</th>\n",
       "      <td>89601</td>\n",
       "      <td>NaN</td>\n",
       "      <td>solidot@</td>\n",
       "      <td>九成以上的源包用逐位对应的方式构建，未来版本的 Debian 还将提供验证包的工具和元数据；...</td>\n",
       "      <td>{\"type\":\"软件\",\"site\":\"cnbeta\",\"commentNum\":\"12\"...</td>\n",
       "      <td>Debian 9 Stretch 发布</td>\n",
       "      <td>http://www.cnbeta.com/articles/soft/623605.htm</td>\n",
       "    </tr>\n",
       "    <tr>\n",
       "      <th>17</th>\n",
       "      <td>89600</td>\n",
       "      <td>NaN</td>\n",
       "      <td>新华网</td>\n",
       "      <td>国歌法草案首次提请最高立法机关审议\\r\\n点击图片进入下一页\\r\\n新闻：十二届全国人大常委...</td>\n",
       "      <td>{\"type\":\"观点滚动\",\"site\":\"参考消息\",\"commentNum\":\"0\",...</td>\n",
       "      <td>[及时点]我们不需要“百变老太太”</td>\n",
       "      <td>http://column.cankaoxiaoxi.com/plgd/2017/0623/...</td>\n",
       "    </tr>\n",
       "    <tr>\n",
       "      <th>18</th>\n",
       "      <td>89599</td>\n",
       "      <td>张怡</td>\n",
       "      <td>中国证券报?中证网</td>\n",
       "      <td>中证网讯 （本报记者 张怡）今日，三板做市指数继续低开下行，盘中最低触及1057.91点...</td>\n",
       "      <td>{\"type\":\"市场\",\"site\":\"中证网\",\"commentNum\":\"0\",\"jo...</td>\n",
       "      <td>新三板午评：三板做市指数刷新阶段低点</td>\n",
       "      <td>http://www.cs.com.cn/gppd/201706/t20170623_533...</td>\n",
       "    </tr>\n",
       "    <tr>\n",
       "      <th>19</th>\n",
       "      <td>89598</td>\n",
       "      <td>周佳 整理</td>\n",
       "      <td>中国证券报?中证网</td>\n",
       "      <td>提示声明：\\r\\n　　本文涉及的行业及个股分析来源于券商研究报告，仅为分析人士对该行业及...</td>\n",
       "      <td>{\"type\":\"市场\",\"site\":\"中证网\",\"commentNum\":\"0\",\"jo...</td>\n",
       "      <td>机构解析：下周热点板块及个股探秘（附股）</td>\n",
       "      <td>http://www.cs.com.cn/gppd/hyyj/201706/t2017062...</td>\n",
       "    </tr>\n",
       "    <tr>\n",
       "      <th>20</th>\n",
       "      <td>89597</td>\n",
       "      <td>NaN</td>\n",
       "      <td>泡泡网</td>\n",
       "      <td>原标题：叙利亚被“袭机”事件惹怒俄罗斯 警告将瞄准美战机\\r\\n　　海外网6月19日电 ...</td>\n",
       "      <td>{\"type\":\"军事\",\"site\":\"新浪\",\"commentNum\":\" 95\",\"j...</td>\n",
       "      <td>美军击落叙战机激怒俄罗斯 俄警告将瞄准美军战机</td>\n",
       "      <td>http://mil.news.sina.com.cn/world/2017-06-20/d...</td>\n",
       "    </tr>\n",
       "    <tr>\n",
       "      <th>21</th>\n",
       "      <td>89596</td>\n",
       "      <td>周佳 整理</td>\n",
       "      <td>中国证券报?中证网</td>\n",
       "      <td>提示声明：\\r\\n　　本文涉及的行业及个股分析来源于券商研究报告，仅为分析人士对该行业及...</td>\n",
       "      <td>{\"type\":\"市场\",\"site\":\"中证网\",\"commentNum\":\"0\",\"jo...</td>\n",
       "      <td>机构推荐：下周具备布局潜力金股</td>\n",
       "      <td>http://www.cs.com.cn/gppd/tzpj/201706/t2017062...</td>\n",
       "    </tr>\n",
       "    <tr>\n",
       "      <th>22</th>\n",
       "      <td>89595</td>\n",
       "      <td>NaN</td>\n",
       "      <td>威锋网@http://www.feng.com/</td>\n",
       "      <td>就在这几天，一位微博名为“摩卡 RQ ”的手机、芯片、移动互联网三界知名独立评论人爆料称，O...</td>\n",
       "      <td>{\"type\":\"科技\",\"site\":\"cnbeta\",\"commentNum\":\"56\"...</td>\n",
       "      <td>业内人士解释为什么OPPO供货能力强无敌</td>\n",
       "      <td>http://www.cnbeta.com/articles/tech/623607.htm</td>\n",
       "    </tr>\n",
       "    <tr>\n",
       "      <th>23</th>\n",
       "      <td>89594</td>\n",
       "      <td>张怡</td>\n",
       "      <td>中国证券报?中证网</td>\n",
       "      <td>中证网讯 （本报记者 张怡）与此前两日蓝筹股强势格局不同，周五，A股市场主要指数低开之后...</td>\n",
       "      <td>{\"type\":\"市场\",\"site\":\"中证网\",\"commentNum\":\"0\",\"jo...</td>\n",
       "      <td>中证午评：A股跳水 蓝筹暂歇热点熄火</td>\n",
       "      <td>http://www.cs.com.cn/gppd/201706/t20170623_533...</td>\n",
       "    </tr>\n",
       "    <tr>\n",
       "      <th>24</th>\n",
       "      <td>89593</td>\n",
       "      <td>屠震林 PS040</td>\n",
       "      <td>凤凰体育</td>\n",
       "      <td>北京时间6月20日，江苏苏宁足球俱乐部发布了足协杯第四轮江苏苏宁易购队主场对阵河南建业队的官...</td>\n",
       "      <td>{\"type\":\"体育\",\"site\":\"凤凰\",\"commentNum\":\"1\",\"joi...</td>\n",
       "      <td>“齐心协力”--江苏苏宁发布足协杯对阵河南建业海报</td>\n",
       "      <td>http://sports.ifeng.com/a/20170620/51284188_0....</td>\n",
       "    </tr>\n",
       "    <tr>\n",
       "      <th>25</th>\n",
       "      <td>89592</td>\n",
       "      <td>NaN</td>\n",
       "      <td>新华网</td>\n",
       "      <td>当地时间2017年6月17日，土耳其马尼萨省，在土耳其第1步兵训练大队司令部军营，590名土...</td>\n",
       "      <td>{\"type\":\"国际新闻\",\"site\":\"环球\",\"commentNum\":\"0\",\"j...</td>\n",
       "      <td>土耳其近590名士兵疑食物中毒 被送往医院救治（组图）</td>\n",
       "      <td>http://world.huanqiu.com/hot/2017-06/10866176....</td>\n",
       "    </tr>\n",
       "    <tr>\n",
       "      <th>26</th>\n",
       "      <td>89591</td>\n",
       "      <td>NaN</td>\n",
       "      <td>雷锋网@</td>\n",
       "      <td>今年3月份，王劲从百度自动驾驶事业部任上离职，随后创办景驰科技。在随后的日子里，景驰很快组建...</td>\n",
       "      <td>{\"type\":\"科技\",\"site\":\"cnbeta\",\"commentNum\":\"4\",...</td>\n",
       "      <td>又一自动驾驶公司拿加州路测牌照 这回是王劲的景驰</td>\n",
       "      <td>http://www.cnbeta.com/articles/tech/623609.htm</td>\n",
       "    </tr>\n",
       "    <tr>\n",
       "      <th>27</th>\n",
       "      <td>89590</td>\n",
       "      <td>NaN</td>\n",
       "      <td>新华网</td>\n",
       "      <td>英国与欧盟的“脱欧”谈判于19日正式开始。然而此时，英国首相特雷莎·梅正面临着空前的政治压力...</td>\n",
       "      <td>{\"type\":\"国际新闻\",\"site\":\"环球\",\"commentNum\":\"0\",\"j...</td>\n",
       "      <td>火灾与脱欧炙烤英国首相 特雷莎·梅面临空前政治压力</td>\n",
       "      <td>http://world.huanqiu.com/hot/2017-06/10866198....</td>\n",
       "    </tr>\n",
       "    <tr>\n",
       "      <th>28</th>\n",
       "      <td>89589</td>\n",
       "      <td>NaN</td>\n",
       "      <td>中超球评</td>\n",
       "      <td>中超联赛第13轮比赛已经全部结束，这轮比赛中最让人觉得结果有些出乎意料的，莫过于卡佩罗执教江...</td>\n",
       "      <td>{\"type\":\"体育\",\"site\":\"凤凰\",\"commentNum\":\"0\",\"joi...</td>\n",
       "      <td>江苏保级真悬了 近3年1铁律证明其几乎保级无望</td>\n",
       "      <td>http://sports.ifeng.com/a/20170620/51284719_0....</td>\n",
       "    </tr>\n",
       "    <tr>\n",
       "      <th>29</th>\n",
       "      <td>89588</td>\n",
       "      <td>NaN</td>\n",
       "      <td>中国经济周刊</td>\n",
       "      <td>文章导读： 供应商围堵追债、20多位高管离职、上千人被裁员、孤注一掷史上最大规模的降价…...</td>\n",
       "      <td>{\"type\":\"科技\",\"site\":\"新浪\",\"commentNum\":\" 6\",\"jo...</td>\n",
       "      <td>乐视危局：靠卖资产续命 员工被猎头大规模拉黑</td>\n",
       "      <td>http://tech.sina.com.cn/i/2017-06-20/doc-ifyhf...</td>\n",
       "    </tr>\n",
       "    <tr>\n",
       "      <th>...</th>\n",
       "      <td>...</td>\n",
       "      <td>...</td>\n",
       "      <td>...</td>\n",
       "      <td>...</td>\n",
       "      <td>...</td>\n",
       "      <td>...</td>\n",
       "      <td>...</td>\n",
       "    </tr>\n",
       "    <tr>\n",
       "      <th>89581</th>\n",
       "      <td>30</td>\n",
       "      <td>INACIO ROSA</td>\n",
       "      <td>新华社</td>\n",
       "      <td>新华社照片，外代，2017年6月7日\\n（外代二线）足球——世预赛：葡萄牙备战\\n6月6日，...</td>\n",
       "      <td>{\"type\":\"足球\",\"site\":\"新华社\",\"url\":\"http://home.x...</td>\n",
       "      <td>[2]（外代二线）足球——世预赛：葡萄牙备战</td>\n",
       "      <td>http://home.xinhua-news.com/gdsdetailxhsnew/22...</td>\n",
       "    </tr>\n",
       "    <tr>\n",
       "      <th>89582</th>\n",
       "      <td>29</td>\n",
       "      <td>INACIO ROSA</td>\n",
       "      <td>新华社</td>\n",
       "      <td>新华社照片，外代，2017年6月7日\\n（外代二线）足球——世预赛：葡萄牙备战\\n6月6日，...</td>\n",
       "      <td>{\"type\":\"足球\",\"site\":\"新华社\",\"url\":\"http://home.x...</td>\n",
       "      <td>[3]（外代二线）足球——世预赛：葡萄牙备战</td>\n",
       "      <td>http://home.xinhua-news.com/gdsdetailxhsnew/22...</td>\n",
       "    </tr>\n",
       "    <tr>\n",
       "      <th>89583</th>\n",
       "      <td>28</td>\n",
       "      <td>INACIO ROSA</td>\n",
       "      <td>新华社</td>\n",
       "      <td>新华社照片，外代，2017年6月7日\\n（外代二线）足球——世预赛：葡萄牙备战\\n6月6日，...</td>\n",
       "      <td>{\"type\":\"足球\",\"site\":\"新华社\",\"url\":\"http://home.x...</td>\n",
       "      <td>[4]（外代二线）足球——世预赛：葡萄牙备战</td>\n",
       "      <td>http://home.xinhua-news.com/gdsdetailxhsnew/22...</td>\n",
       "    </tr>\n",
       "    <tr>\n",
       "      <th>89584</th>\n",
       "      <td>27</td>\n",
       "      <td>INACIO ROSA</td>\n",
       "      <td>新华社</td>\n",
       "      <td>新华社照片，外代，2017年6月7日\\n（外代二线）足球——世预赛：葡萄牙备战\\n6月6日，...</td>\n",
       "      <td>{\"type\":\"足球\",\"site\":\"新华社\",\"url\":\"http://home.x...</td>\n",
       "      <td>[5]（外代二线）足球——世预赛：葡萄牙备战</td>\n",
       "      <td>http://home.xinhua-news.com/gdsdetailxhsnew/22...</td>\n",
       "    </tr>\n",
       "    <tr>\n",
       "      <th>89585</th>\n",
       "      <td>26</td>\n",
       "      <td>INACIO ROSA</td>\n",
       "      <td>新华社</td>\n",
       "      <td>新华社照片，外代，2017年6月7日\\n（外代二线）足球——世预赛：葡萄牙备战\\n6月6日，...</td>\n",
       "      <td>{\"type\":\"足球\",\"site\":\"新华社\",\"url\":\"http://home.x...</td>\n",
       "      <td>[6]（外代二线）足球——世预赛：葡萄牙备战</td>\n",
       "      <td>http://home.xinhua-news.com/gdsdetailxhsnew/22...</td>\n",
       "    </tr>\n",
       "    <tr>\n",
       "      <th>89586</th>\n",
       "      <td>25</td>\n",
       "      <td>INACIO ROSA</td>\n",
       "      <td>新华社</td>\n",
       "      <td>新华社照片，外代，2017年6月7日\\n（外代二线）足球——世预赛：葡萄牙备战\\n6月6日，...</td>\n",
       "      <td>{\"type\":\"足球\",\"site\":\"新华社\",\"url\":\"http://home.x...</td>\n",
       "      <td>[7]（外代二线）足球——世预赛：葡萄牙备战</td>\n",
       "      <td>http://home.xinhua-news.com/gdsdetailxhsnew/22...</td>\n",
       "    </tr>\n",
       "    <tr>\n",
       "      <th>89587</th>\n",
       "      <td>24</td>\n",
       "      <td>LOVELY GHOSH</td>\n",
       "      <td>新华社</td>\n",
       "      <td>新华社照片，外代，2017年6月7日\\n（外代二线）蚕丝生产\\n6月6日，在印度特里普拉邦特...</td>\n",
       "      <td>{\"type\":\"其它\",\"site\":\"新华社\",\"url\":\"http://home.x...</td>\n",
       "      <td>[1]（外代二线）蚕丝生产</td>\n",
       "      <td>http://home.xinhua-news.com/gdsdetailxhsnew/22...</td>\n",
       "    </tr>\n",
       "    <tr>\n",
       "      <th>89588</th>\n",
       "      <td>23</td>\n",
       "      <td>LOVELY GHOSH</td>\n",
       "      <td>新华社</td>\n",
       "      <td>新华社照片，外代，2017年6月7日\\n（外代二线）蚕丝生产\\n6月6日，在印度特里普拉邦特...</td>\n",
       "      <td>{\"type\":\"其它\",\"site\":\"新华社\",\"url\":\"http://home.x...</td>\n",
       "      <td>[2]（外代二线）蚕丝生产</td>\n",
       "      <td>http://home.xinhua-news.com/gdsdetailxhsnew/22...</td>\n",
       "    </tr>\n",
       "    <tr>\n",
       "      <th>89589</th>\n",
       "      <td>22</td>\n",
       "      <td>LOVELY GHOSH</td>\n",
       "      <td>新华社</td>\n",
       "      <td>新华社照片，外代，2017年6月7日\\n（外代二线）蚕丝生产\\n5月30日，在印度特里普拉邦...</td>\n",
       "      <td>{\"type\":\"其它\",\"site\":\"新华社\",\"url\":\"http://home.x...</td>\n",
       "      <td>[3]（外代二线）蚕丝生产</td>\n",
       "      <td>http://home.xinhua-news.com/gdsdetailxhsnew/22...</td>\n",
       "    </tr>\n",
       "    <tr>\n",
       "      <th>89590</th>\n",
       "      <td>21</td>\n",
       "      <td>LOVELY GHOSH</td>\n",
       "      <td>新华社</td>\n",
       "      <td>新华社照片，外代，2017年6月7日\\n（外代二线）蚕丝生产\\n6月6日，在印度特里普拉邦特...</td>\n",
       "      <td>{\"type\":\"其它\",\"site\":\"新华社\",\"url\":\"http://home.x...</td>\n",
       "      <td>[4]（外代二线）蚕丝生产</td>\n",
       "      <td>http://home.xinhua-news.com/gdsdetailxhsnew/22...</td>\n",
       "    </tr>\n",
       "    <tr>\n",
       "      <th>89591</th>\n",
       "      <td>20</td>\n",
       "      <td>LOVELY GHOSH</td>\n",
       "      <td>新华社</td>\n",
       "      <td>新华社照片，外代，2017年6月7日\\n（外代二线）蚕丝生产\\n5月30日，在印度特里普拉邦...</td>\n",
       "      <td>{\"type\":\"其它\",\"site\":\"新华社\",\"url\":\"http://home.x...</td>\n",
       "      <td>[5]（外代二线）蚕丝生产</td>\n",
       "      <td>http://home.xinhua-news.com/gdsdetailxhsnew/22...</td>\n",
       "    </tr>\n",
       "    <tr>\n",
       "      <th>89592</th>\n",
       "      <td>19</td>\n",
       "      <td>张旌</td>\n",
       "      <td>新华社</td>\n",
       "      <td>\\n\\n2017年4月27日，在首尔光化门广场，民众在集会上手举反“萨德”标语。（新华社记者...</td>\n",
       "      <td>{\"type\":\"其它\",\"site\":\"新华社\",\"url\":\"http://home.x...</td>\n",
       "      <td>“萨德”环评将重启　在韩部署或推迟一年</td>\n",
       "      <td>http://home.xinhua-news.com/gdsdetailxhsnew/22...</td>\n",
       "    </tr>\n",
       "    <tr>\n",
       "      <th>89593</th>\n",
       "      <td>18</td>\n",
       "      <td>NaN</td>\n",
       "      <td>新华社</td>\n",
       "      <td>\\n新华社巴格达6月6日电（记者魏玉栋　程帅朋）伊拉克西部安巴尔省一处市场6日晚发生自杀式爆...</td>\n",
       "      <td>{\"type\":\"其它\",\"site\":\"新华社\",\"url\":\"http://home.x...</td>\n",
       "      <td>伊拉克安巴尔省发生自杀式袭击７人死亡</td>\n",
       "      <td>http://home.xinhua-news.com/gdsdetailxhsnew/22...</td>\n",
       "    </tr>\n",
       "    <tr>\n",
       "      <th>89594</th>\n",
       "      <td>17</td>\n",
       "      <td>LISELOTTE SABROE</td>\n",
       "      <td>新华社</td>\n",
       "      <td>新华社照片，外代，2017年6月7日\\n（外代二线）足球——国际友谊赛：德国平丹麦\\n6月6...</td>\n",
       "      <td>{\"type\":\"足球\",\"site\":\"新华社\",\"url\":\"http://home.x...</td>\n",
       "      <td>[1]（外代二线）足球——国际友谊赛：德国平丹麦</td>\n",
       "      <td>http://home.xinhua-news.com/gdsdetailxhsnew/22...</td>\n",
       "    </tr>\n",
       "    <tr>\n",
       "      <th>89595</th>\n",
       "      <td>16</td>\n",
       "      <td>LISELOTTE SABROE</td>\n",
       "      <td>新华社</td>\n",
       "      <td>新华社照片，外代，2017年6月7日\\n（外代二线）足球——国际友谊赛：德国平丹麦\\n6月6...</td>\n",
       "      <td>{\"type\":\"足球\",\"site\":\"新华社\",\"url\":\"http://home.x...</td>\n",
       "      <td>[3]（外代二线）足球——国际友谊赛：德国平丹麦</td>\n",
       "      <td>http://home.xinhua-news.com/gdsdetailxhsnew/22...</td>\n",
       "    </tr>\n",
       "    <tr>\n",
       "      <th>89596</th>\n",
       "      <td>15</td>\n",
       "      <td>LISELOTTE SABROE</td>\n",
       "      <td>新华社</td>\n",
       "      <td>新华社照片，外代，2017年6月7日\\n（外代二线）足球——国际友谊赛：德国平丹麦\\n6月6...</td>\n",
       "      <td>{\"type\":\"足球\",\"site\":\"新华社\",\"url\":\"http://home.x...</td>\n",
       "      <td>[2]（外代二线）足球——国际友谊赛：德国平丹麦</td>\n",
       "      <td>http://home.xinhua-news.com/gdsdetailxhsnew/22...</td>\n",
       "    </tr>\n",
       "    <tr>\n",
       "      <th>89597</th>\n",
       "      <td>14</td>\n",
       "      <td>LISELOTTE SABROE</td>\n",
       "      <td>新华社</td>\n",
       "      <td>新华社照片，外代，2017年6月7日\\n（外代二线）足球——国际友谊赛：德国平丹麦\\n6月6...</td>\n",
       "      <td>{\"type\":\"足球\",\"site\":\"新华社\",\"url\":\"http://home.x...</td>\n",
       "      <td>[4]（外代二线）足球——国际友谊赛：德国平丹麦</td>\n",
       "      <td>http://home.xinhua-news.com/gdsdetailxhsnew/22...</td>\n",
       "    </tr>\n",
       "    <tr>\n",
       "      <th>89598</th>\n",
       "      <td>13</td>\n",
       "      <td>LISELOTTE SABROE</td>\n",
       "      <td>新华社</td>\n",
       "      <td>新华社照片，外代，2017年6月7日\\n（外代二线）足球——国际友谊赛：德国平丹麦\\n6月6...</td>\n",
       "      <td>{\"type\":\"足球\",\"site\":\"新华社\",\"url\":\"http://home.x...</td>\n",
       "      <td>[6]（外代二线）足球——国际友谊赛：德国平丹麦</td>\n",
       "      <td>http://home.xinhua-news.com/gdsdetailxhsnew/22...</td>\n",
       "    </tr>\n",
       "    <tr>\n",
       "      <th>89599</th>\n",
       "      <td>12</td>\n",
       "      <td>LISELOTTE SABROE</td>\n",
       "      <td>新华社</td>\n",
       "      <td>新华社照片，外代，2017年6月7日\\n（外代二线）足球——国际友谊赛：德国平丹麦\\n6月6...</td>\n",
       "      <td>{\"type\":\"足球\",\"site\":\"新华社\",\"url\":\"http://home.x...</td>\n",
       "      <td>[5]（外代二线）足球——国际友谊赛：德国平丹麦</td>\n",
       "      <td>http://home.xinhua-news.com/gdsdetailxhsnew/22...</td>\n",
       "    </tr>\n",
       "    <tr>\n",
       "      <th>89600</th>\n",
       "      <td>11</td>\n",
       "      <td>LISELOTTE SABROE</td>\n",
       "      <td>新华社</td>\n",
       "      <td>新华社照片，外代，2017年6月7日\\n（外代二线）足球——国际友谊赛：德国平丹麦\\n6月6...</td>\n",
       "      <td>{\"type\":\"足球\",\"site\":\"新华社\",\"url\":\"http://home.x...</td>\n",
       "      <td>[8]（外代二线）足球——国际友谊赛：德国平丹麦</td>\n",
       "      <td>http://home.xinhua-news.com/gdsdetailxhsnew/22...</td>\n",
       "    </tr>\n",
       "    <tr>\n",
       "      <th>89601</th>\n",
       "      <td>10</td>\n",
       "      <td>LISELOTTE SABROE</td>\n",
       "      <td>新华社</td>\n",
       "      <td>新华社照片，外代，2017年6月7日\\n（外代二线）足球——国际友谊赛：德国平丹麦\\n6月6...</td>\n",
       "      <td>{\"type\":\"足球\",\"site\":\"新华社\",\"url\":\"http://home.x...</td>\n",
       "      <td>[7]（外代二线）足球——国际友谊赛：德国平丹麦</td>\n",
       "      <td>http://home.xinhua-news.com/gdsdetailxhsnew/22...</td>\n",
       "    </tr>\n",
       "    <tr>\n",
       "      <th>89602</th>\n",
       "      <td>9</td>\n",
       "      <td>LISELOTTE SABROE</td>\n",
       "      <td>新华社</td>\n",
       "      <td>新华社照片，外代，2017年6月7日\\n（外代二线）足球——国际友谊赛：德国平丹麦\\n6月6...</td>\n",
       "      <td>{\"type\":\"足球\",\"site\":\"新华社\",\"url\":\"http://home.x...</td>\n",
       "      <td>[9]（外代二线）足球——国际友谊赛：德国平丹麦</td>\n",
       "      <td>http://home.xinhua-news.com/gdsdetailxhsnew/22...</td>\n",
       "    </tr>\n",
       "    <tr>\n",
       "      <th>89603</th>\n",
       "      <td>8</td>\n",
       "      <td>郑焕松</td>\n",
       "      <td>新华社</td>\n",
       "      <td>新华社照片，北京，2017年6月7日\\n电影《血战湘江》举行清华大学巡映活动\\n6月6日，电...</td>\n",
       "      <td>{\"type\":\"社会\",\"site\":\"新华社\",\"url\":\"http://home.x...</td>\n",
       "      <td>（文化）（1）电影《血战湘江》举行清华大学巡映活动</td>\n",
       "      <td>http://home.xinhua-news.com/gdsdetailxhsnew/22...</td>\n",
       "    </tr>\n",
       "    <tr>\n",
       "      <th>89604</th>\n",
       "      <td>7</td>\n",
       "      <td>郑焕松</td>\n",
       "      <td>新华社</td>\n",
       "      <td>新华社照片，北京，2017年6月7日\\n电影《血战湘江》举行清华大学巡映活动\\n6月6日，清...</td>\n",
       "      <td>{\"type\":\"社会\",\"site\":\"新华社\",\"url\":\"http://home.x...</td>\n",
       "      <td>（文化）（2）电影《血战湘江》举行清华大学巡映活动</td>\n",
       "      <td>http://home.xinhua-news.com/gdsdetailxhsnew/22...</td>\n",
       "    </tr>\n",
       "    <tr>\n",
       "      <th>89605</th>\n",
       "      <td>6</td>\n",
       "      <td>郑焕松</td>\n",
       "      <td>新华社</td>\n",
       "      <td>新华社照片，北京，2017年6月7日\\n电影《血战湘江》举行清华大学巡映活动\\n6月6日，电...</td>\n",
       "      <td>{\"type\":\"社会\",\"site\":\"新华社\",\"url\":\"http://home.x...</td>\n",
       "      <td>（文化）（3）电影《血战湘江》举行清华大学巡映活动</td>\n",
       "      <td>http://home.xinhua-news.com/gdsdetailxhsnew/22...</td>\n",
       "    </tr>\n",
       "    <tr>\n",
       "      <th>89606</th>\n",
       "      <td>5</td>\n",
       "      <td>邹峥</td>\n",
       "      <td>新华社</td>\n",
       "      <td>新华社照片，多伦多，2017年6月7日\\n（体育）（2）冰球——国家女子冰球队海外选秀在多伦...</td>\n",
       "      <td>{\"type\":\"冰球\",\"site\":\"新华社\",\"url\":\"http://home.x...</td>\n",
       "      <td>（体育）（2）冰球——国家女子冰球队海外选秀在多伦多展开</td>\n",
       "      <td>http://home.xinhua-news.com/gdsdetailxhsnew/22...</td>\n",
       "    </tr>\n",
       "    <tr>\n",
       "      <th>89607</th>\n",
       "      <td>4</td>\n",
       "      <td>王衡</td>\n",
       "      <td>新华社</td>\n",
       "      <td>新华社兰州6月3日电（王衡、徐丹）记者从甘肃省交通运输厅获悉，甘肃近日集中开建高速公路、普通...</td>\n",
       "      <td>{\"type\":\"宏观经济\",\"site\":\"新华社\",\"url\":\"http://home...</td>\n",
       "      <td>（经济）甘肃集中开工35个重点交通建设项目</td>\n",
       "      <td>http://home.xinhua-news.com/gdsdetailxhsnew/22...</td>\n",
       "    </tr>\n",
       "    <tr>\n",
       "      <th>89608</th>\n",
       "      <td>3</td>\n",
       "      <td>张旌</td>\n",
       "      <td>新华社</td>\n",
       "      <td>\\n\\n2017年5月29日，在法国巴黎郊外的凡尔赛宫，法国总统马克龙出席新闻发布会。（新华...</td>\n",
       "      <td>{\"type\":\"其它\",\"site\":\"新华社\",\"url\":\"http://home.x...</td>\n",
       "      <td>法国议会选举　马克龙有望获“压倒性胜利”</td>\n",
       "      <td>http://home.xinhua-news.com/gdsdetailxhsnew/22...</td>\n",
       "    </tr>\n",
       "    <tr>\n",
       "      <th>89609</th>\n",
       "      <td>2</td>\n",
       "      <td>夏文辉</td>\n",
       "      <td>新华社</td>\n",
       "      <td>\\n\\n2017年5月25日，在美国马萨诸塞州剑桥市，哈佛大学毕业生在毕业典礼上欢呼。（新华...</td>\n",
       "      <td>{\"type\":\"其它\",\"site\":\"新华社\",\"url\":\"http://home.x...</td>\n",
       "      <td>哈佛大学为何取消这些新生入选资格？</td>\n",
       "      <td>http://home.xinhua-news.com/gdsdetailxhsnew/22...</td>\n",
       "    </tr>\n",
       "    <tr>\n",
       "      <th>89610</th>\n",
       "      <td>1</td>\n",
       "      <td>王子江 张寒</td>\n",
       "      <td>新华社</td>\n",
       "      <td>新华社德国杜塞尔多夫６月６日电题：乒乓女球迷　\\n　　新华社记者王子江、张寒\\n　　熊老...</td>\n",
       "      <td>{\"type\":\"体育\",\"site\":\"新华社\",\"url\":\"http://home.x...</td>\n",
       "      <td>（体育）题：乒乓女球迷</td>\n",
       "      <td>http://home.xinhua-news.com/gdsdetailxhsnew/22...</td>\n",
       "    </tr>\n",
       "  </tbody>\n",
       "</table>\n",
       "<p>87054 rows × 7 columns</p>\n",
       "</div>"
      ],
      "text/plain": [
       "          id            author                    source  \\\n",
       "0      89617               NaN    快科技@http://www.kkj.cn/   \n",
       "1      89616               NaN    快科技@http://www.kkj.cn/   \n",
       "2      89615               NaN    快科技@http://www.kkj.cn/   \n",
       "3      89614               NaN                       新华社   \n",
       "4      89613        胡淑丽_MN7479                     深圳大件事   \n",
       "5      89612                张怡                 中国证券报?中证网   \n",
       "6      89611               NaN  威锋网@http://www.feng.com/   \n",
       "7      89610            申玉彬 整理                 中国证券报?中证网   \n",
       "8      89609        李杭_BJS4645                 荆楚网-楚天都市报   \n",
       "9      89608                吴瞬                 中国证券报?中证网   \n",
       "10     89607               NaN                     证券时报网   \n",
       "11     89606               NaN                     证券时报网   \n",
       "12     89605               NaN                     中国新闻网   \n",
       "13     89604            申玉彬 整理                 中国证券报?中证网   \n",
       "14     89603               NaN                      国际在线   \n",
       "15     89602               费天元                     中国证券网   \n",
       "16     89601               NaN                  solidot@   \n",
       "17     89600               NaN                       新华网   \n",
       "18     89599                张怡                 中国证券报?中证网   \n",
       "19     89598             周佳 整理                 中国证券报?中证网   \n",
       "20     89597               NaN                       泡泡网   \n",
       "21     89596             周佳 整理                 中国证券报?中证网   \n",
       "22     89595               NaN  威锋网@http://www.feng.com/   \n",
       "23     89594                张怡                 中国证券报?中证网   \n",
       "24     89593         屠震林 PS040                      凤凰体育   \n",
       "25     89592               NaN                       新华网   \n",
       "26     89591               NaN                      雷锋网@   \n",
       "27     89590               NaN                       新华网   \n",
       "28     89589               NaN                      中超球评   \n",
       "29     89588               NaN                    中国经济周刊   \n",
       "...      ...               ...                       ...   \n",
       "89581     30       INACIO ROSA                       新华社   \n",
       "89582     29       INACIO ROSA                       新华社   \n",
       "89583     28       INACIO ROSA                       新华社   \n",
       "89584     27       INACIO ROSA                       新华社   \n",
       "89585     26       INACIO ROSA                       新华社   \n",
       "89586     25       INACIO ROSA                       新华社   \n",
       "89587     24      LOVELY GHOSH                       新华社   \n",
       "89588     23      LOVELY GHOSH                       新华社   \n",
       "89589     22      LOVELY GHOSH                       新华社   \n",
       "89590     21      LOVELY GHOSH                       新华社   \n",
       "89591     20      LOVELY GHOSH                       新华社   \n",
       "89592     19                张旌                       新华社   \n",
       "89593     18               NaN                       新华社   \n",
       "89594     17  LISELOTTE SABROE                       新华社   \n",
       "89595     16  LISELOTTE SABROE                       新华社   \n",
       "89596     15  LISELOTTE SABROE                       新华社   \n",
       "89597     14  LISELOTTE SABROE                       新华社   \n",
       "89598     13  LISELOTTE SABROE                       新华社   \n",
       "89599     12  LISELOTTE SABROE                       新华社   \n",
       "89600     11  LISELOTTE SABROE                       新华社   \n",
       "89601     10  LISELOTTE SABROE                       新华社   \n",
       "89602      9  LISELOTTE SABROE                       新华社   \n",
       "89603      8               郑焕松                       新华社   \n",
       "89604      7               郑焕松                       新华社   \n",
       "89605      6               郑焕松                       新华社   \n",
       "89606      5                邹峥                       新华社   \n",
       "89607      4                王衡                       新华社   \n",
       "89608      3                张旌                       新华社   \n",
       "89609      2               夏文辉                       新华社   \n",
       "89610      1            王子江 张寒                       新华社   \n",
       "\n",
       "                                                 content  \\\n",
       "0      此外，自本周（6月12日）起，除小米手机6等15款机型外，其余机型已暂停更新发布（含开发版/...   \n",
       "1      骁龙835作为唯一通过Windows 10桌面平台认证的ARM处理器，高通强调，不会因为只考...   \n",
       "2      此前的一加3T搭载的是3400mAh电池，DashCharge快充规格为5V/4A。\\r\\n...   \n",
       "3        这是6月18日在葡萄牙中部大佩德罗冈地区拍摄的被森林大火烧毁的汽车。新华社记者张立云摄\\r\\n   \n",
       "4      （原标题：44岁女子跑深圳约会网友被拒，暴雨中裸身奔走……）\\r\\n@深圳交警微博称：昨日清...   \n",
       "5      　　受到A股被纳入MSCI指数的利好消息刺激，A股市场从周三开始再度上演龙马行情，周四上午金...   \n",
       "6      虽然至今夏普智能手机在市场上无法排得上号，已经完全没落，并于 2013 年退出中国市场，但是...   \n",
       "7      　　沙漠雄鹰：震荡有利消化套牢筹码\\r\\n　　周四开盘上证50在银行券商大蓝筹带动下一度涨近...   \n",
       "8      （原标题：武汉警方一下子抓了808人，还都是俊男靓女！原来他们每天偷偷摸摸干这事！）\\r\\n...   \n",
       "9      　　6月21日，A股纳入MSCI指数尘埃落定，但当天被寄予厚望的券商股并未扛起反弹大旗。22...   \n",
       "10     　　证券时报网（www.stcn.com）06月23日讯\\r\\n　　据上证报道，6月初以来，...   \n",
       "11     ?\\r\\n　　巨丰早评：市场将再次探底\\r\\n　　【巨丰观点】\\r\\n　　周四大盘冲高回落，...   \n",
       "12     中新网6月19日电 据外媒报道，美国底特律一名男子1976年因为一根头发被定谋杀罪，监禁41...   \n",
       "13     　　曹先生：风格转换前的阵痛\\r\\n　　今日早盘两地低开，之后一度震荡走高，领涨的仍然是上证...   \n",
       "14     6月21日，MSCI在官网发布公告称，从明年6月起将中国A股纳入MSCI新兴市场指数和MSC...   \n",
       "15     　　中国证券网讯（记者 费天元）沪深两市周五临近午盘出现快速跳水，沪指连续跌穿5日、10日及...   \n",
       "16     九成以上的源包用逐位对应的方式构建，未来版本的 Debian 还将提供验证包的工具和元数据；...   \n",
       "17     国歌法草案首次提请最高立法机关审议\\r\\n点击图片进入下一页\\r\\n新闻：十二届全国人大常委...   \n",
       "18     　　中证网讯 （本报记者 张怡）今日，三板做市指数继续低开下行，盘中最低触及1057.91点...   \n",
       "19     　　提示声明：\\r\\n　　本文涉及的行业及个股分析来源于券商研究报告，仅为分析人士对该行业及...   \n",
       "20     　　原标题：叙利亚被“袭机”事件惹怒俄罗斯 警告将瞄准美战机\\r\\n　　海外网6月19日电 ...   \n",
       "21     　　提示声明：\\r\\n　　本文涉及的行业及个股分析来源于券商研究报告，仅为分析人士对该行业及...   \n",
       "22     就在这几天，一位微博名为“摩卡 RQ ”的手机、芯片、移动互联网三界知名独立评论人爆料称，O...   \n",
       "23     　　中证网讯 （本报记者 张怡）与此前两日蓝筹股强势格局不同，周五，A股市场主要指数低开之后...   \n",
       "24     北京时间6月20日，江苏苏宁足球俱乐部发布了足协杯第四轮江苏苏宁易购队主场对阵河南建业队的官...   \n",
       "25     当地时间2017年6月17日，土耳其马尼萨省，在土耳其第1步兵训练大队司令部军营，590名土...   \n",
       "26     今年3月份，王劲从百度自动驾驶事业部任上离职，随后创办景驰科技。在随后的日子里，景驰很快组建...   \n",
       "27     英国与欧盟的“脱欧”谈判于19日正式开始。然而此时，英国首相特雷莎·梅正面临着空前的政治压力...   \n",
       "28     中超联赛第13轮比赛已经全部结束，这轮比赛中最让人觉得结果有些出乎意料的，莫过于卡佩罗执教江...   \n",
       "29     　　文章导读： 供应商围堵追债、20多位高管离职、上千人被裁员、孤注一掷史上最大规模的降价…...   \n",
       "...                                                  ...   \n",
       "89581  新华社照片，外代，2017年6月7日\\n（外代二线）足球——世预赛：葡萄牙备战\\n6月6日，...   \n",
       "89582  新华社照片，外代，2017年6月7日\\n（外代二线）足球——世预赛：葡萄牙备战\\n6月6日，...   \n",
       "89583  新华社照片，外代，2017年6月7日\\n（外代二线）足球——世预赛：葡萄牙备战\\n6月6日，...   \n",
       "89584  新华社照片，外代，2017年6月7日\\n（外代二线）足球——世预赛：葡萄牙备战\\n6月6日，...   \n",
       "89585  新华社照片，外代，2017年6月7日\\n（外代二线）足球——世预赛：葡萄牙备战\\n6月6日，...   \n",
       "89586  新华社照片，外代，2017年6月7日\\n（外代二线）足球——世预赛：葡萄牙备战\\n6月6日，...   \n",
       "89587  新华社照片，外代，2017年6月7日\\n（外代二线）蚕丝生产\\n6月6日，在印度特里普拉邦特...   \n",
       "89588  新华社照片，外代，2017年6月7日\\n（外代二线）蚕丝生产\\n6月6日，在印度特里普拉邦特...   \n",
       "89589  新华社照片，外代，2017年6月7日\\n（外代二线）蚕丝生产\\n5月30日，在印度特里普拉邦...   \n",
       "89590  新华社照片，外代，2017年6月7日\\n（外代二线）蚕丝生产\\n6月6日，在印度特里普拉邦特...   \n",
       "89591  新华社照片，外代，2017年6月7日\\n（外代二线）蚕丝生产\\n5月30日，在印度特里普拉邦...   \n",
       "89592  \\n\\n2017年4月27日，在首尔光化门广场，民众在集会上手举反“萨德”标语。（新华社记者...   \n",
       "89593  \\n新华社巴格达6月6日电（记者魏玉栋　程帅朋）伊拉克西部安巴尔省一处市场6日晚发生自杀式爆...   \n",
       "89594  新华社照片，外代，2017年6月7日\\n（外代二线）足球——国际友谊赛：德国平丹麦\\n6月6...   \n",
       "89595  新华社照片，外代，2017年6月7日\\n（外代二线）足球——国际友谊赛：德国平丹麦\\n6月6...   \n",
       "89596  新华社照片，外代，2017年6月7日\\n（外代二线）足球——国际友谊赛：德国平丹麦\\n6月6...   \n",
       "89597  新华社照片，外代，2017年6月7日\\n（外代二线）足球——国际友谊赛：德国平丹麦\\n6月6...   \n",
       "89598  新华社照片，外代，2017年6月7日\\n（外代二线）足球——国际友谊赛：德国平丹麦\\n6月6...   \n",
       "89599  新华社照片，外代，2017年6月7日\\n（外代二线）足球——国际友谊赛：德国平丹麦\\n6月6...   \n",
       "89600  新华社照片，外代，2017年6月7日\\n（外代二线）足球——国际友谊赛：德国平丹麦\\n6月6...   \n",
       "89601  新华社照片，外代，2017年6月7日\\n（外代二线）足球——国际友谊赛：德国平丹麦\\n6月6...   \n",
       "89602  新华社照片，外代，2017年6月7日\\n（外代二线）足球——国际友谊赛：德国平丹麦\\n6月6...   \n",
       "89603  新华社照片，北京，2017年6月7日\\n电影《血战湘江》举行清华大学巡映活动\\n6月6日，电...   \n",
       "89604  新华社照片，北京，2017年6月7日\\n电影《血战湘江》举行清华大学巡映活动\\n6月6日，清...   \n",
       "89605  新华社照片，北京，2017年6月7日\\n电影《血战湘江》举行清华大学巡映活动\\n6月6日，电...   \n",
       "89606  新华社照片，多伦多，2017年6月7日\\n（体育）（2）冰球——国家女子冰球队海外选秀在多伦...   \n",
       "89607  新华社兰州6月3日电（王衡、徐丹）记者从甘肃省交通运输厅获悉，甘肃近日集中开建高速公路、普通...   \n",
       "89608  \\n\\n2017年5月29日，在法国巴黎郊外的凡尔赛宫，法国总统马克龙出席新闻发布会。（新华...   \n",
       "89609  \\n\\n2017年5月25日，在美国马萨诸塞州剑桥市，哈佛大学毕业生在毕业典礼上欢呼。（新华...   \n",
       "89610  　　新华社德国杜塞尔多夫６月６日电题：乒乓女球迷　\\n　　新华社记者王子江、张寒\\n　　熊老...   \n",
       "\n",
       "                                                 feature  \\\n",
       "0      {\"type\":\"科技\",\"site\":\"cnbeta\",\"commentNum\":\"37\"...   \n",
       "1      {\"type\":\"科技\",\"site\":\"cnbeta\",\"commentNum\":\"15\"...   \n",
       "2      {\"type\":\"科技\",\"site\":\"cnbeta\",\"commentNum\":\"18\"...   \n",
       "3      {\"type\":\"国际新闻\",\"site\":\"环球\",\"commentNum\":\"0\",\"j...   \n",
       "4      {\"type\":\"新闻\",\"site\":\"网易热门\",\"commentNum\":\"978\",...   \n",
       "5      {\"type\":\"市场\",\"site\":\"中证网\",\"commentNum\":\"0\",\"jo...   \n",
       "6      {\"type\":\"科技\",\"site\":\"cnbeta\",\"commentNum\":\"21\"...   \n",
       "7      {\"type\":\"市场\",\"site\":\"中证网\",\"commentNum\":\"0\",\"jo...   \n",
       "8      {\"type\":\"新闻\",\"site\":\"网易热门\",\"commentNum\":\"1600\"...   \n",
       "9      {\"type\":\"市场\",\"site\":\"中证网\",\"commentNum\":\"0\",\"jo...   \n",
       "10     {\"type\":\"市场\",\"site\":\"中证网\",\"commentNum\":\"0\",\"jo...   \n",
       "11     {\"type\":\"市场\",\"site\":\"中证网\",\"commentNum\":\"0\",\"jo...   \n",
       "12     {\"type\":\"国际新闻\",\"site\":\"环球\",\"commentNum\":\"0\",\"j...   \n",
       "13     {\"type\":\"市场\",\"site\":\"中证网\",\"commentNum\":\"0\",\"jo...   \n",
       "14     {\"type\":\"观点滚动\",\"site\":\"参考消息\",\"commentNum\":\"0\",...   \n",
       "15     {\"type\":\"市场\",\"site\":\"中证网\",\"commentNum\":\"0\",\"jo...   \n",
       "16     {\"type\":\"软件\",\"site\":\"cnbeta\",\"commentNum\":\"12\"...   \n",
       "17     {\"type\":\"观点滚动\",\"site\":\"参考消息\",\"commentNum\":\"0\",...   \n",
       "18     {\"type\":\"市场\",\"site\":\"中证网\",\"commentNum\":\"0\",\"jo...   \n",
       "19     {\"type\":\"市场\",\"site\":\"中证网\",\"commentNum\":\"0\",\"jo...   \n",
       "20     {\"type\":\"军事\",\"site\":\"新浪\",\"commentNum\":\" 95\",\"j...   \n",
       "21     {\"type\":\"市场\",\"site\":\"中证网\",\"commentNum\":\"0\",\"jo...   \n",
       "22     {\"type\":\"科技\",\"site\":\"cnbeta\",\"commentNum\":\"56\"...   \n",
       "23     {\"type\":\"市场\",\"site\":\"中证网\",\"commentNum\":\"0\",\"jo...   \n",
       "24     {\"type\":\"体育\",\"site\":\"凤凰\",\"commentNum\":\"1\",\"joi...   \n",
       "25     {\"type\":\"国际新闻\",\"site\":\"环球\",\"commentNum\":\"0\",\"j...   \n",
       "26     {\"type\":\"科技\",\"site\":\"cnbeta\",\"commentNum\":\"4\",...   \n",
       "27     {\"type\":\"国际新闻\",\"site\":\"环球\",\"commentNum\":\"0\",\"j...   \n",
       "28     {\"type\":\"体育\",\"site\":\"凤凰\",\"commentNum\":\"0\",\"joi...   \n",
       "29     {\"type\":\"科技\",\"site\":\"新浪\",\"commentNum\":\" 6\",\"jo...   \n",
       "...                                                  ...   \n",
       "89581  {\"type\":\"足球\",\"site\":\"新华社\",\"url\":\"http://home.x...   \n",
       "89582  {\"type\":\"足球\",\"site\":\"新华社\",\"url\":\"http://home.x...   \n",
       "89583  {\"type\":\"足球\",\"site\":\"新华社\",\"url\":\"http://home.x...   \n",
       "89584  {\"type\":\"足球\",\"site\":\"新华社\",\"url\":\"http://home.x...   \n",
       "89585  {\"type\":\"足球\",\"site\":\"新华社\",\"url\":\"http://home.x...   \n",
       "89586  {\"type\":\"足球\",\"site\":\"新华社\",\"url\":\"http://home.x...   \n",
       "89587  {\"type\":\"其它\",\"site\":\"新华社\",\"url\":\"http://home.x...   \n",
       "89588  {\"type\":\"其它\",\"site\":\"新华社\",\"url\":\"http://home.x...   \n",
       "89589  {\"type\":\"其它\",\"site\":\"新华社\",\"url\":\"http://home.x...   \n",
       "89590  {\"type\":\"其它\",\"site\":\"新华社\",\"url\":\"http://home.x...   \n",
       "89591  {\"type\":\"其它\",\"site\":\"新华社\",\"url\":\"http://home.x...   \n",
       "89592  {\"type\":\"其它\",\"site\":\"新华社\",\"url\":\"http://home.x...   \n",
       "89593  {\"type\":\"其它\",\"site\":\"新华社\",\"url\":\"http://home.x...   \n",
       "89594  {\"type\":\"足球\",\"site\":\"新华社\",\"url\":\"http://home.x...   \n",
       "89595  {\"type\":\"足球\",\"site\":\"新华社\",\"url\":\"http://home.x...   \n",
       "89596  {\"type\":\"足球\",\"site\":\"新华社\",\"url\":\"http://home.x...   \n",
       "89597  {\"type\":\"足球\",\"site\":\"新华社\",\"url\":\"http://home.x...   \n",
       "89598  {\"type\":\"足球\",\"site\":\"新华社\",\"url\":\"http://home.x...   \n",
       "89599  {\"type\":\"足球\",\"site\":\"新华社\",\"url\":\"http://home.x...   \n",
       "89600  {\"type\":\"足球\",\"site\":\"新华社\",\"url\":\"http://home.x...   \n",
       "89601  {\"type\":\"足球\",\"site\":\"新华社\",\"url\":\"http://home.x...   \n",
       "89602  {\"type\":\"足球\",\"site\":\"新华社\",\"url\":\"http://home.x...   \n",
       "89603  {\"type\":\"社会\",\"site\":\"新华社\",\"url\":\"http://home.x...   \n",
       "89604  {\"type\":\"社会\",\"site\":\"新华社\",\"url\":\"http://home.x...   \n",
       "89605  {\"type\":\"社会\",\"site\":\"新华社\",\"url\":\"http://home.x...   \n",
       "89606  {\"type\":\"冰球\",\"site\":\"新华社\",\"url\":\"http://home.x...   \n",
       "89607  {\"type\":\"宏观经济\",\"site\":\"新华社\",\"url\":\"http://home...   \n",
       "89608  {\"type\":\"其它\",\"site\":\"新华社\",\"url\":\"http://home.x...   \n",
       "89609  {\"type\":\"其它\",\"site\":\"新华社\",\"url\":\"http://home.x...   \n",
       "89610  {\"type\":\"体育\",\"site\":\"新华社\",\"url\":\"http://home.x...   \n",
       "\n",
       "                               title  \\\n",
       "0               小米MIUI 9首批机型曝光：共计15款   \n",
       "1         骁龙835在Windows 10上的性能表现有望改善   \n",
       "2          一加手机5细节曝光：3300mAh、充半小时用1天   \n",
       "3      葡森林火灾造成至少62人死亡 政府宣布进入紧急状态（组图）   \n",
       "4           44岁女子约网友被拒暴雨中裸奔 交警为其披衣相随   \n",
       "5                     金融股一枝独秀 配置价值犹存   \n",
       "6                配骁龙660 全面屏鼻祖夏普新机酝酿中   \n",
       "7                    博友早评：震荡有利消化套牢筹码   \n",
       "8           武汉千余警察出动 抓获808名俊男靓女全是诈骗犯   \n",
       "9                纳入MSCI指数 A股长期配置价值提升   \n",
       "10              私募：蓝筹风格难切换 业绩估值相配是王道   \n",
       "11            早间机构看市：市场将再次探底 两类股逢低布局   \n",
       "12           因为犯罪现场的一根头发，他坐冤狱41年后终获释   \n",
       "13                     博友午评：风格转换前的阵痛   \n",
       "14              MSCI闯关成功会是A股的一针强心剂吗？   \n",
       "15            地产股拉升难阻市场颓势 三大指数早盘集体跳水   \n",
       "16               Debian 9 Stretch 发布   \n",
       "17                 [及时点]我们不需要“百变老太太”   \n",
       "18                新三板午评：三板做市指数刷新阶段低点   \n",
       "19              机构解析：下周热点板块及个股探秘（附股）   \n",
       "20           美军击落叙战机激怒俄罗斯 俄警告将瞄准美军战机   \n",
       "21                   机构推荐：下周具备布局潜力金股   \n",
       "22              业内人士解释为什么OPPO供货能力强无敌   \n",
       "23                中证午评：A股跳水 蓝筹暂歇热点熄火   \n",
       "24         “齐心协力”--江苏苏宁发布足协杯对阵河南建业海报   \n",
       "25       土耳其近590名士兵疑食物中毒 被送往医院救治（组图）   \n",
       "26          又一自动驾驶公司拿加州路测牌照 这回是王劲的景驰   \n",
       "27         火灾与脱欧炙烤英国首相 特雷莎·梅面临空前政治压力   \n",
       "28           江苏保级真悬了 近3年1铁律证明其几乎保级无望   \n",
       "29            乐视危局：靠卖资产续命 员工被猎头大规模拉黑   \n",
       "...                              ...   \n",
       "89581         [2]（外代二线）足球——世预赛：葡萄牙备战   \n",
       "89582         [3]（外代二线）足球——世预赛：葡萄牙备战   \n",
       "89583         [4]（外代二线）足球——世预赛：葡萄牙备战   \n",
       "89584         [5]（外代二线）足球——世预赛：葡萄牙备战   \n",
       "89585         [6]（外代二线）足球——世预赛：葡萄牙备战   \n",
       "89586         [7]（外代二线）足球——世预赛：葡萄牙备战   \n",
       "89587                  [1]（外代二线）蚕丝生产   \n",
       "89588                  [2]（外代二线）蚕丝生产   \n",
       "89589                  [3]（外代二线）蚕丝生产   \n",
       "89590                  [4]（外代二线）蚕丝生产   \n",
       "89591                  [5]（外代二线）蚕丝生产   \n",
       "89592            “萨德”环评将重启　在韩部署或推迟一年   \n",
       "89593             伊拉克安巴尔省发生自杀式袭击７人死亡   \n",
       "89594       [1]（外代二线）足球——国际友谊赛：德国平丹麦   \n",
       "89595       [3]（外代二线）足球——国际友谊赛：德国平丹麦   \n",
       "89596       [2]（外代二线）足球——国际友谊赛：德国平丹麦   \n",
       "89597       [4]（外代二线）足球——国际友谊赛：德国平丹麦   \n",
       "89598       [6]（外代二线）足球——国际友谊赛：德国平丹麦   \n",
       "89599       [5]（外代二线）足球——国际友谊赛：德国平丹麦   \n",
       "89600       [8]（外代二线）足球——国际友谊赛：德国平丹麦   \n",
       "89601       [7]（外代二线）足球——国际友谊赛：德国平丹麦   \n",
       "89602       [9]（外代二线）足球——国际友谊赛：德国平丹麦   \n",
       "89603      （文化）（1）电影《血战湘江》举行清华大学巡映活动   \n",
       "89604      （文化）（2）电影《血战湘江》举行清华大学巡映活动   \n",
       "89605      （文化）（3）电影《血战湘江》举行清华大学巡映活动   \n",
       "89606   （体育）（2）冰球——国家女子冰球队海外选秀在多伦多展开   \n",
       "89607          （经济）甘肃集中开工35个重点交通建设项目   \n",
       "89608           法国议会选举　马克龙有望获“压倒性胜利”   \n",
       "89609              哈佛大学为何取消这些新生入选资格？   \n",
       "89610                   （体育）题：乒乓女球迷　   \n",
       "\n",
       "                                                     url  \n",
       "0         http://www.cnbeta.com/articles/tech/623597.htm  \n",
       "1         http://www.cnbeta.com/articles/tech/623599.htm  \n",
       "2         http://www.cnbeta.com/articles/tech/623601.htm  \n",
       "3      http://world.huanqiu.com/hot/2017-06/10866126....  \n",
       "4      http://news.163.com/17/0618/00/CN617P3Q0001875...  \n",
       "5      http://www.cs.com.cn/gppd/201706/t20170623_533...  \n",
       "6         http://www.cnbeta.com/articles/tech/623603.htm  \n",
       "7      http://www.cs.com.cn/gppd/201706/t20170623_533...  \n",
       "8      http://news.163.com/17/0614/14/CMT9N8G80001899...  \n",
       "9      http://www.cs.com.cn/gppd/201706/t20170623_533...  \n",
       "10     http://www.cs.com.cn/gppd/201706/t20170623_533...  \n",
       "11     http://www.cs.com.cn/gppd/201706/t20170623_533...  \n",
       "12     http://world.huanqiu.com/hot/2017-06/10866136....  \n",
       "13     http://www.cs.com.cn/gppd/201706/t20170623_533...  \n",
       "14     http://column.cankaoxiaoxi.com/plgd/2017/0623/...  \n",
       "15     http://www.cs.com.cn/gppd/201706/t20170623_533...  \n",
       "16        http://www.cnbeta.com/articles/soft/623605.htm  \n",
       "17     http://column.cankaoxiaoxi.com/plgd/2017/0623/...  \n",
       "18     http://www.cs.com.cn/gppd/201706/t20170623_533...  \n",
       "19     http://www.cs.com.cn/gppd/hyyj/201706/t2017062...  \n",
       "20     http://mil.news.sina.com.cn/world/2017-06-20/d...  \n",
       "21     http://www.cs.com.cn/gppd/tzpj/201706/t2017062...  \n",
       "22        http://www.cnbeta.com/articles/tech/623607.htm  \n",
       "23     http://www.cs.com.cn/gppd/201706/t20170623_533...  \n",
       "24     http://sports.ifeng.com/a/20170620/51284188_0....  \n",
       "25     http://world.huanqiu.com/hot/2017-06/10866176....  \n",
       "26        http://www.cnbeta.com/articles/tech/623609.htm  \n",
       "27     http://world.huanqiu.com/hot/2017-06/10866198....  \n",
       "28     http://sports.ifeng.com/a/20170620/51284719_0....  \n",
       "29     http://tech.sina.com.cn/i/2017-06-20/doc-ifyhf...  \n",
       "...                                                  ...  \n",
       "89581  http://home.xinhua-news.com/gdsdetailxhsnew/22...  \n",
       "89582  http://home.xinhua-news.com/gdsdetailxhsnew/22...  \n",
       "89583  http://home.xinhua-news.com/gdsdetailxhsnew/22...  \n",
       "89584  http://home.xinhua-news.com/gdsdetailxhsnew/22...  \n",
       "89585  http://home.xinhua-news.com/gdsdetailxhsnew/22...  \n",
       "89586  http://home.xinhua-news.com/gdsdetailxhsnew/22...  \n",
       "89587  http://home.xinhua-news.com/gdsdetailxhsnew/22...  \n",
       "89588  http://home.xinhua-news.com/gdsdetailxhsnew/22...  \n",
       "89589  http://home.xinhua-news.com/gdsdetailxhsnew/22...  \n",
       "89590  http://home.xinhua-news.com/gdsdetailxhsnew/22...  \n",
       "89591  http://home.xinhua-news.com/gdsdetailxhsnew/22...  \n",
       "89592  http://home.xinhua-news.com/gdsdetailxhsnew/22...  \n",
       "89593  http://home.xinhua-news.com/gdsdetailxhsnew/22...  \n",
       "89594  http://home.xinhua-news.com/gdsdetailxhsnew/22...  \n",
       "89595  http://home.xinhua-news.com/gdsdetailxhsnew/22...  \n",
       "89596  http://home.xinhua-news.com/gdsdetailxhsnew/22...  \n",
       "89597  http://home.xinhua-news.com/gdsdetailxhsnew/22...  \n",
       "89598  http://home.xinhua-news.com/gdsdetailxhsnew/22...  \n",
       "89599  http://home.xinhua-news.com/gdsdetailxhsnew/22...  \n",
       "89600  http://home.xinhua-news.com/gdsdetailxhsnew/22...  \n",
       "89601  http://home.xinhua-news.com/gdsdetailxhsnew/22...  \n",
       "89602  http://home.xinhua-news.com/gdsdetailxhsnew/22...  \n",
       "89603  http://home.xinhua-news.com/gdsdetailxhsnew/22...  \n",
       "89604  http://home.xinhua-news.com/gdsdetailxhsnew/22...  \n",
       "89605  http://home.xinhua-news.com/gdsdetailxhsnew/22...  \n",
       "89606  http://home.xinhua-news.com/gdsdetailxhsnew/22...  \n",
       "89607  http://home.xinhua-news.com/gdsdetailxhsnew/22...  \n",
       "89608  http://home.xinhua-news.com/gdsdetailxhsnew/22...  \n",
       "89609  http://home.xinhua-news.com/gdsdetailxhsnew/22...  \n",
       "89610  http://home.xinhua-news.com/gdsdetailxhsnew/22...  \n",
       "\n",
       "[87054 rows x 7 columns]"
      ]
     },
     "execution_count": 10,
     "metadata": {},
     "output_type": "execute_result"
    }
   ],
   "source": [
    "content_1"
   ]
  },
  {
   "cell_type": "code",
   "execution_count": 11,
   "metadata": {
    "collapsed": true
   },
   "outputs": [],
   "source": [
    "label = (content_1.source == '新华社').astype(int)\n",
    "content = content_1.content"
   ]
  },
  {
   "cell_type": "code",
   "execution_count": 12,
   "metadata": {
    "collapsed": true
   },
   "outputs": [],
   "source": [
    "new = pd.DataFrame({'content':content, 'label':label})"
   ]
  },
  {
   "cell_type": "code",
   "execution_count": 13,
   "metadata": {},
   "outputs": [
    {
     "data": {
      "text/html": [
       "<div>\n",
       "<style scoped>\n",
       "    .dataframe tbody tr th:only-of-type {\n",
       "        vertical-align: middle;\n",
       "    }\n",
       "\n",
       "    .dataframe tbody tr th {\n",
       "        vertical-align: top;\n",
       "    }\n",
       "\n",
       "    .dataframe thead th {\n",
       "        text-align: right;\n",
       "    }\n",
       "</style>\n",
       "<table border=\"1\" class=\"dataframe\">\n",
       "  <thead>\n",
       "    <tr style=\"text-align: right;\">\n",
       "      <th></th>\n",
       "      <th>content</th>\n",
       "      <th>label</th>\n",
       "    </tr>\n",
       "  </thead>\n",
       "  <tbody>\n",
       "    <tr>\n",
       "      <th>0</th>\n",
       "      <td>此外，自本周（6月12日）起，除小米手机6等15款机型外，其余机型已暂停更新发布（含开发版/...</td>\n",
       "      <td>0</td>\n",
       "    </tr>\n",
       "    <tr>\n",
       "      <th>1</th>\n",
       "      <td>骁龙835作为唯一通过Windows 10桌面平台认证的ARM处理器，高通强调，不会因为只考...</td>\n",
       "      <td>0</td>\n",
       "    </tr>\n",
       "    <tr>\n",
       "      <th>2</th>\n",
       "      <td>此前的一加3T搭载的是3400mAh电池，DashCharge快充规格为5V/4A。\\r\\n...</td>\n",
       "      <td>0</td>\n",
       "    </tr>\n",
       "  </tbody>\n",
       "</table>\n",
       "</div>"
      ],
      "text/plain": [
       "                                             content  label\n",
       "0  此外，自本周（6月12日）起，除小米手机6等15款机型外，其余机型已暂停更新发布（含开发版/...      0\n",
       "1  骁龙835作为唯一通过Windows 10桌面平台认证的ARM处理器，高通强调，不会因为只考...      0\n",
       "2  此前的一加3T搭载的是3400mAh电池，DashCharge快充规格为5V/4A。\\r\\n...      0"
      ]
     },
     "execution_count": 13,
     "metadata": {},
     "output_type": "execute_result"
    }
   ],
   "source": [
    "new[:3]"
   ]
  },
  {
   "cell_type": "code",
   "execution_count": 14,
   "metadata": {},
   "outputs": [
    {
     "name": "stdout",
     "output_type": "stream",
     "text": [
      "1    78661\n",
      "0     8393\n",
      "Name: label, dtype: int64\n"
     ]
    }
   ],
   "source": [
    "Survived_freq = new.label.value_counts()\n",
    "print(Survived_freq)"
   ]
  },
  {
   "cell_type": "code",
   "execution_count": 15,
   "metadata": {},
   "outputs": [
    {
     "name": "stdout",
     "output_type": "stream",
     "text": [
      "6000\n"
     ]
    }
   ],
   "source": [
    "content_1['source'] = content_1['source'].fillna('')\n",
    "data_pos = content_1[content_1['source'].str.contains('新华')]\n",
    "data_neg = content_1[content_1['source'].str.contains('新华') == 0]\n",
    "\n",
    "#n = 5000\n",
    "N_sample = 6000\n",
    "data_neg = data_neg.sample(n = (int)(N_sample/2))\n",
    "data_pos = data_pos.sample(n = (int)(N_sample/2))\n",
    "\n",
    "data_sampled = data_pos.append(data_neg)\n",
    "print(len(data_sampled))"
   ]
  },
  {
   "cell_type": "markdown",
   "metadata": {},
   "source": [
    "#正负样本不均衡"
   ]
  },
  {
   "cell_type": "code",
   "execution_count": 16,
   "metadata": {
    "collapsed": true
   },
   "outputs": [],
   "source": [
    "label = (data_sampled.source == '新华社').astype(int)\n",
    "content = data_sampled.content"
   ]
  },
  {
   "cell_type": "code",
   "execution_count": 17,
   "metadata": {
    "collapsed": true
   },
   "outputs": [],
   "source": [
    "new = pd.DataFrame({'content':content, 'label':label})"
   ]
  },
  {
   "cell_type": "code",
   "execution_count": 18,
   "metadata": {},
   "outputs": [
    {
     "data": {
      "text/html": [
       "<div>\n",
       "<style scoped>\n",
       "    .dataframe tbody tr th:only-of-type {\n",
       "        vertical-align: middle;\n",
       "    }\n",
       "\n",
       "    .dataframe tbody tr th {\n",
       "        vertical-align: top;\n",
       "    }\n",
       "\n",
       "    .dataframe thead th {\n",
       "        text-align: right;\n",
       "    }\n",
       "</style>\n",
       "<table border=\"1\" class=\"dataframe\">\n",
       "  <thead>\n",
       "    <tr style=\"text-align: right;\">\n",
       "      <th></th>\n",
       "      <th>content</th>\n",
       "      <th>label</th>\n",
       "    </tr>\n",
       "  </thead>\n",
       "  <tbody>\n",
       "    <tr>\n",
       "      <th>61868</th>\n",
       "      <td>新华社照片，南京，2017年5月14日\\n（体育）（3）足球——中超：江苏苏宁对阵山东鲁能\\...</td>\n",
       "      <td>1</td>\n",
       "    </tr>\n",
       "    <tr>\n",
       "      <th>14519</th>\n",
       "      <td>新华社照片，郑州，2016年11月25日\\n南水北调工程管理员陈佰忠：就要一盯到底\\n11月...</td>\n",
       "      <td>1</td>\n",
       "    </tr>\n",
       "    <tr>\n",
       "      <th>79387</th>\n",
       "      <td>新华社照片，外代，2017年5月29日\\n（外代二线）网球——法国公开赛：王蔷不敌大威\\n5...</td>\n",
       "      <td>1</td>\n",
       "    </tr>\n",
       "  </tbody>\n",
       "</table>\n",
       "</div>"
      ],
      "text/plain": [
       "                                                 content  label\n",
       "61868  新华社照片，南京，2017年5月14日\\n（体育）（3）足球——中超：江苏苏宁对阵山东鲁能\\...      1\n",
       "14519  新华社照片，郑州，2016年11月25日\\n南水北调工程管理员陈佰忠：就要一盯到底\\n11月...      1\n",
       "79387  新华社照片，外代，2017年5月29日\\n（外代二线）网球——法国公开赛：王蔷不敌大威\\n5...      1"
      ]
     },
     "execution_count": 18,
     "metadata": {},
     "output_type": "execute_result"
    }
   ],
   "source": [
    "new[:3]"
   ]
  },
  {
   "cell_type": "code",
   "execution_count": 19,
   "metadata": {},
   "outputs": [
    {
     "name": "stdout",
     "output_type": "stream",
     "text": [
      "0    3011\n",
      "1    2989\n",
      "Name: label, dtype: int64\n"
     ]
    }
   ],
   "source": [
    "Survived_freq = new.label.value_counts()\n",
    "print(Survived_freq)"
   ]
  },
  {
   "cell_type": "code",
   "execution_count": null,
   "metadata": {
    "collapsed": true
   },
   "outputs": [],
   "source": []
  },
  {
   "cell_type": "code",
   "execution_count": 20,
   "metadata": {
    "collapsed": true
   },
   "outputs": [],
   "source": [
    "table = new.content.to_list()"
   ]
  },
  {
   "cell_type": "code",
   "execution_count": 21,
   "metadata": {},
   "outputs": [
    {
     "data": {
      "text/plain": [
       "(['新华社照片，南京，2017年5月14日\\\\n（体育）（3）足球——中超：江苏苏宁对阵山东鲁能\\\\n5月14日，江苏苏宁队球员张晓彬（左）在比赛中拼抢。\\\\n当日，在2017赛季中超联赛第九轮比赛中，江苏苏宁队主场对阵山东鲁能队。\\\\n新华社记者杨磊摄',\n",
       "  '新华社照片，郑州，2016年11月25日\\\\n南水北调工程管理员陈佰忠：就要一盯到底\\\\n11月24日，在南水北调中线工程郑州管理处辖区，陈佰忠（前）与同事进行工程巡查。\\\\n陈佰忠是南水北调中线工程郑州管理处的一名工程管理员，负责闸门值守、水情数据复核、闸站内外巡查等工作。\\\\n2012年工程建设高峰期时，他来到了南水北调主体工程建设现场，在现场一盯就是四年。这四年中，他曾在风雨中彻夜坚守、排查险情、应对汛期突发状况；他曾和工友在冬季严寒中踏雪巡查、二十四小时值守。他还把遇到的常见问题收集整理、一一攻克、组织学习，使职工业务能力大幅提升……\\\\n陈佰忠和妻子2012年结婚，两人一个在工地、一个在湖北老家。说起妻子和孩子，他低下了头，眼里充满了愧疚，“怀孕期间一共陪了爱人七天，爱人也逐渐理解并接受了我在工地现场工作这个现实。”陈佰忠说，“有谁不想和自己的家人在一起呢？但既然选择了这份工作，就要一盯到底，干出成绩来！”\\\\n新华社记者李任滋摄',\n",
       "  '新华社照片，外代，2017年5月29日\\\\n（外代二线）网球——法国公开赛：王蔷不敌大威\\\\n5月28日，中国选手王蔷在比赛中回球。\\\\n当日，在法国巴黎进行的2017法国网球公开赛女子单打第一轮比赛中，中国选手王蔷以0比2不敌美国选手维纳斯·威廉姆斯，无缘第二轮。\\\\n新华社/欧新\\\\n'],\n",
       " 6000)"
      ]
     },
     "execution_count": 21,
     "metadata": {},
     "output_type": "execute_result"
    }
   ],
   "source": [
    "table[:3],   len(table)"
   ]
  },
  {
   "cell_type": "code",
   "execution_count": 22,
   "metadata": {
    "collapsed": true
   },
   "outputs": [],
   "source": [
    "from tqdm import tqdm\n",
    "import re"
   ]
  },
  {
   "cell_type": "code",
   "execution_count": 23,
   "metadata": {
    "collapsed": true
   },
   "outputs": [],
   "source": [
    "import os\n",
    "from pyltp import Segmentor, SentenceSplitter"
   ]
  },
  {
   "cell_type": "code",
   "execution_count": 24,
   "metadata": {
    "collapsed": true
   },
   "outputs": [],
   "source": [
    "model_path = 'C:\\%users\\\\672\\\\Desktop\\\\ltp_data_v3.4.0'\n",
    "cws_model_path = os.path.join(model_path, 'cws.model')"
   ]
  },
  {
   "cell_type": "code",
   "execution_count": 25,
   "metadata": {
    "collapsed": true
   },
   "outputs": [],
   "source": [
    "segmentor = Segmentor()\n",
    "segmentor.load(cws_model_path)"
   ]
  },
  {
   "cell_type": "code",
   "execution_count": 26,
   "metadata": {
    "collapsed": true
   },
   "outputs": [],
   "source": [
    "#words = segmentor.segment()"
   ]
  },
  {
   "cell_type": "markdown",
   "metadata": {},
   "source": [
    "#利用pyltp来切词"
   ]
  },
  {
   "cell_type": "code",
   "execution_count": 27,
   "metadata": {},
   "outputs": [
    {
     "name": "stderr",
     "output_type": "stream",
     "text": [
      "100%|█████████████████████████████████████████████████████████████████████████████| 6000/6000 [00:42<00:00, 141.03it/s]\n"
     ]
    },
    {
     "data": {
      "text/plain": [
       "6000"
      ]
     },
     "execution_count": 27,
     "metadata": {},
     "output_type": "execute_result"
    }
   ],
   "source": [
    "table_cut = []\n",
    "mask = []\n",
    "for sentence in tqdm(table):\n",
    "    if not isinstance(sentence, str):\n",
    "        mask.append(False)\n",
    "        continue\n",
    "    mask.append(True)\n",
    "    sentence = ''.join(re.findall(r'\\w+', sentence))\n",
    "    table_cut.append(' '.join(segmentor.segment(sentence)))\n",
    "len(table_cut)"
   ]
  },
  {
   "cell_type": "code",
   "execution_count": 28,
   "metadata": {},
   "outputs": [
    {
     "data": {
      "text/plain": [
       "['新华社 照片 南京 2017年 5月 14日 n 体育 3 足球 中超 江苏 苏宁 对阵 山东 鲁能 n5 月 14日 江苏 苏宁队 球员 张晓彬 左 在 比赛 中 拼抢 n 当日 在 2017 赛季 中超 联赛 第九 轮 比赛 中 江苏 苏宁队 主场 对阵 山东 鲁能队 n 新华社 记者 杨磊 摄',\n",
       " '新华社 照片 郑州 2016年 11月 25日 n 南水北调 工程 管理员 陈佰忠 就 要 一 盯 到底 n11 月 24日 在 南水北调 中线 工程 郑州 管理处 辖区 陈佰忠 前 与 同事 进行 工程 巡查 n 陈佰忠 是 南水北调 中线 工程 郑州 管理处 的 一 名 工程 管理员 负责 闸门 值 守 水情 数据 复核闸站 内外 巡查 等 工作 n2012 年 工程 建设 高峰期 时 他 来到 了 南水北调 主体 工程 建设 现场 在 现场 一 盯 就 是 四 年 这 四 年 中 他 曾 在 风雨 中 彻夜 坚守 排 查 险情 应 对 汛期 突发 状况 他 曾 和 工友 在 冬季 严寒 中 踏雪 巡查 二十四 小时 值 守 他 还 把 遇到 的 常见 问题 收集 整理 一一 攻克 组织 学习 使 职工 业务 能力 大幅 提升 n 陈佰忠 和 妻子 2012年 结婚 两 人 一个 在 工地 一个 在 湖北 老家 说 起 妻子 和 孩子 他 低下 了 头 眼里 充满 了 愧疚 怀孕 期间 一共 陪 了 爱人 七 天 爱人 也 逐渐 理解 并 接受 了 我 在 工地 现场 工作 这个 现实 陈佰忠 说 有 谁 不 想 和 自己 的 家人 在 一起 呢 但 既然 选择 了 这 份 工作 就 要 一 盯 到底 干 出 成绩 来 n 新华社 记者 李任滋 摄',\n",
       " '新华社 照片 外代 2017年 5月 29日 n 外代 二 线 网球 法国 公开赛 王蔷 不 敌 大威 n5 月 28日 中国 选手 王蔷 在 比赛 中 回 球 n 当日 在 法国 巴黎 进行 的 2017 法国 网球 公开赛 女子 单打 第一 轮 比赛 中 中国 选手 王蔷 以 0 比 2 不 敌 美国 选手 维纳斯 威廉姆斯 无缘 第二 轮 n 新华社 欧新 n']"
      ]
     },
     "execution_count": 28,
     "metadata": {},
     "output_type": "execute_result"
    }
   ],
   "source": [
    "table_cut[:3]"
   ]
  },
  {
   "cell_type": "markdown",
   "metadata": {},
   "source": [
    "### Step3: 使用tfidf进行文本向量化"
   ]
  },
  {
   "cell_type": "markdown",
   "metadata": {},
   "source": [
    "参考 https://scikit-learn.org/stable/modules/generated/sklearn.feature_extraction.text.TfidfVectorizer.html 对"
   ]
  },
  {
   "cell_type": "markdown",
   "metadata": {},
   "source": [
    "对文本进行向量化"
   ]
  },
  {
   "cell_type": "code",
   "execution_count": 29,
   "metadata": {
    "collapsed": true
   },
   "outputs": [],
   "source": [
    "from sklearn.feature_extraction.text import TfidfVectorizer"
   ]
  },
  {
   "cell_type": "code",
   "execution_count": 30,
   "metadata": {
    "collapsed": true
   },
   "outputs": [],
   "source": [
    "vectorizer = TfidfVectorizer(max_features = 200)\n",
    "X = vectorizer.fit_transform(table_cut)"
   ]
  },
  {
   "cell_type": "code",
   "execution_count": 31,
   "metadata": {},
   "outputs": [
    {
     "data": {
      "text/plain": [
       "(6000, 200)"
      ]
     },
     "execution_count": 31,
     "metadata": {},
     "output_type": "execute_result"
    }
   ],
   "source": [
    "X.shape"
   ]
  },
  {
   "cell_type": "code",
   "execution_count": 32,
   "metadata": {},
   "outputs": [
    {
     "name": "stdout",
     "output_type": "stream",
     "text": [
      "  (0, 122)\t0.3050603899093414\n",
      "  (0, 139)\t0.1898714644665957\n",
      "  (0, 2)\t0.1676745020353786\n",
      "  (0, 4)\t0.213629307866604\n",
      "  (0, 35)\t0.30427628461002104\n",
      "  (0, 177)\t0.34762138485203126\n",
      "  (0, 7)\t0.2763826340643063\n",
      "  (0, 142)\t0.3310620320649434\n",
      "  (0, 135)\t0.5574468701182916\n",
      "  (0, 97)\t0.2437076415211237\n",
      "  (0, 172)\t0.16607294802890069\n"
     ]
    }
   ],
   "source": [
    "print(X[0])"
   ]
  },
  {
   "cell_type": "code",
   "execution_count": 33,
   "metadata": {
    "collapsed": true
   },
   "outputs": [],
   "source": [
    "import numpy as np"
   ]
  },
  {
   "cell_type": "code",
   "execution_count": 34,
   "metadata": {
    "collapsed": true
   },
   "outputs": [],
   "source": [
    "y = new.label.values.astype(np.int)"
   ]
  },
  {
   "cell_type": "code",
   "execution_count": 35,
   "metadata": {},
   "outputs": [
    {
     "data": {
      "text/plain": [
       "(6000,)"
      ]
     },
     "execution_count": 35,
     "metadata": {},
     "output_type": "execute_result"
    }
   ],
   "source": [
    "y.shape"
   ]
  },
  {
   "cell_type": "code",
   "execution_count": 36,
   "metadata": {},
   "outputs": [
    {
     "data": {
      "text/plain": [
       "array([1, 1, 1, ..., 0, 0, 0])"
      ]
     },
     "execution_count": 36,
     "metadata": {},
     "output_type": "execute_result"
    }
   ],
   "source": [
    "y"
   ]
  },
  {
   "cell_type": "markdown",
   "metadata": {},
   "source": [
    "### Step4: 参考scikit-learning的方法，构建你的第一个机器学习模型"
   ]
  },
  {
   "cell_type": "markdown",
   "metadata": {},
   "source": [
    "+ 按照课程讲解的内容，把数据集分割为 traning_data, validation_data, test_data. https://scikit-learn.org/stable/modules/generated/sklearn.model_selection.train_test_split.html"
   ]
  },
  {
   "cell_type": "code",
   "execution_count": 37,
   "metadata": {
    "collapsed": true
   },
   "outputs": [],
   "source": [
    "from sklearn.model_selection import train_test_split"
   ]
  },
  {
   "cell_type": "code",
   "execution_count": 38,
   "metadata": {
    "collapsed": true
   },
   "outputs": [],
   "source": [
    "X_train, X_test, y_train, y_test = train_test_split(X, y, test_size=0.3, random_state=666)"
   ]
  },
  {
   "cell_type": "markdown",
   "metadata": {},
   "source": [
    "+ 参照scikit learning的示例，从构建你的第一个KNN机器学习模型。"
   ]
  },
  {
   "cell_type": "markdown",
   "metadata": {},
   "source": [
    "### Step5: 在traning_data, validation_data, test_data 上观察其相关metric: recall, precision, f1等， 并解释其含义. "
   ]
  },
  {
   "cell_type": "code",
   "execution_count": 39,
   "metadata": {
    "collapsed": true
   },
   "outputs": [],
   "source": [
    "# it's your time"
   ]
  },
  {
   "cell_type": "code",
   "execution_count": 40,
   "metadata": {
    "collapsed": true
   },
   "outputs": [],
   "source": [
    "from sklearn.linear_model import LogisticRegression"
   ]
  },
  {
   "cell_type": "code",
   "execution_count": 41,
   "metadata": {
    "collapsed": true
   },
   "outputs": [],
   "source": [
    "clf = LogisticRegression(solver='saga').fit(X_train, y_train)"
   ]
  },
  {
   "cell_type": "markdown",
   "metadata": {},
   "source": [
    "### Step6: 使用 test_data 对其进行新数据的判断, 你有没"
   ]
  },
  {
   "cell_type": "code",
   "execution_count": 42,
   "metadata": {
    "collapsed": true
   },
   "outputs": [],
   "source": [
    "# it's your time"
   ]
  },
  {
   "cell_type": "code",
   "execution_count": 43,
   "metadata": {},
   "outputs": [
    {
     "data": {
      "text/plain": [
       "0.9377777777777778"
      ]
     },
     "execution_count": 43,
     "metadata": {},
     "output_type": "execute_result"
    }
   ],
   "source": [
    "clf.score(X_test, y_test)"
   ]
  },
  {
   "cell_type": "code",
   "execution_count": 44,
   "metadata": {
    "collapsed": true
   },
   "outputs": [],
   "source": [
    "from sklearn.metrics import precision_score, recall_score, f1_score, roc_auc_score"
   ]
  },
  {
   "cell_type": "code",
   "execution_count": 45,
   "metadata": {},
   "outputs": [
    {
     "data": {
      "text/plain": [
       "0.8888888888888888"
      ]
     },
     "execution_count": 45,
     "metadata": {},
     "output_type": "execute_result"
    }
   ],
   "source": [
    "y_pred = clf.predict(X_test)\n",
    "recall_score(y_test, y_pred)"
   ]
  },
  {
   "cell_type": "code",
   "execution_count": 46,
   "metadata": {},
   "outputs": [
    {
     "data": {
      "text/plain": [
       "0.940235058764691"
      ]
     },
     "execution_count": 46,
     "metadata": {},
     "output_type": "execute_result"
    }
   ],
   "source": [
    "f1_score(y_train, clf.predict(X_train))"
   ]
  },
  {
   "cell_type": "markdown",
   "metadata": {},
   "source": [
    " recall：召回率是针对我们原来的样本而言的，它表示的是样本中的正例有多少被预测正确了\n",
    " \n",
    " precision： 准确率就是预测对的样本数占样本总数的比例 \n",
    " \n",
    " f1：F1-score 是基于召回率和精确率计算的：F1score=2∗Precision∗Recall/(Precision+Recall)"
   ]
  },
  {
   "cell_type": "markdown",
   "metadata": {},
   "source": [
    "### Step7: 调整不同的参数，观察变化"
   ]
  },
  {
   "cell_type": "code",
   "execution_count": 62,
   "metadata": {
    "collapsed": true
   },
   "outputs": [],
   "source": [
    "# it's your time\n",
    "vectorizer = TfidfVectorizer(max_features = 300)\n",
    "X = vectorizer.fit_transform(table_cut)"
   ]
  },
  {
   "cell_type": "code",
   "execution_count": 63,
   "metadata": {},
   "outputs": [
    {
     "data": {
      "text/plain": [
       "(6000, 300)"
      ]
     },
     "execution_count": 63,
     "metadata": {},
     "output_type": "execute_result"
    }
   ],
   "source": [
    "X.shape"
   ]
  },
  {
   "cell_type": "code",
   "execution_count": 64,
   "metadata": {
    "collapsed": true
   },
   "outputs": [],
   "source": [
    "X_train, X_test, y_train, y_test = train_test_split(X, y, test_size=0.3, random_state=666)"
   ]
  },
  {
   "cell_type": "code",
   "execution_count": 65,
   "metadata": {
    "collapsed": true
   },
   "outputs": [],
   "source": [
    "clf = LogisticRegression(solver='saga').fit(X_train, y_train)"
   ]
  },
  {
   "cell_type": "code",
   "execution_count": 66,
   "metadata": {},
   "outputs": [
    {
     "data": {
      "text/plain": [
       "0.9205555555555556"
      ]
     },
     "execution_count": 66,
     "metadata": {},
     "output_type": "execute_result"
    }
   ],
   "source": [
    "clf.score(X_test, y_test)"
   ]
  },
  {
   "cell_type": "code",
   "execution_count": 47,
   "metadata": {},
   "outputs": [
    {
     "data": {
      "text/plain": [
       "0.8888888888888888"
      ]
     },
     "execution_count": 47,
     "metadata": {},
     "output_type": "execute_result"
    }
   ],
   "source": [
    "y_pred = clf.predict(X_test)\n",
    "recall_score(y_test, y_pred)"
   ]
  },
  {
   "cell_type": "code",
   "execution_count": 48,
   "metadata": {},
   "outputs": [
    {
     "data": {
      "text/plain": [
       "0.940235058764691"
      ]
     },
     "execution_count": 48,
     "metadata": {},
     "output_type": "execute_result"
    }
   ],
   "source": [
    "f1_score(y_train, clf.predict(X_train))"
   ]
  },
  {
   "cell_type": "code",
   "execution_count": null,
   "metadata": {
    "collapsed": true
   },
   "outputs": [],
   "source": []
  },
  {
   "cell_type": "markdown",
   "metadata": {},
   "source": [
    "### Step8: 不断改变参数，直到性能达到“某个”点。问：“某个”怎么定义？"
   ]
  },
  {
   "cell_type": "code",
   "execution_count": 49,
   "metadata": {
    "collapsed": true
   },
   "outputs": [],
   "source": [
    "from sklearn.linear_model import LogisticRegressionCV,LinearRegression"
   ]
  },
  {
   "cell_type": "code",
   "execution_count": 50,
   "metadata": {
    "collapsed": true
   },
   "outputs": [],
   "source": [
    "estimator=[\n",
    "    \n",
    "    ('clf',LogisticRegressionCV(multi_class='ovr',fit_intercept=True, Cs=np.logspace(-2, 2, 20), cv=2, penalty='l2', solver='lbfgs', tol=0.01))\n",
    "]"
   ]
  },
  {
   "cell_type": "code",
   "execution_count": 51,
   "metadata": {},
   "outputs": [
    {
     "data": {
      "text/plain": [
       "LogisticRegression(C=1.0, class_weight=None, dual=False, fit_intercept=True,\n",
       "                   intercept_scaling=1, l1_ratio=None, max_iter=100,\n",
       "                   multi_class='multinomial', n_jobs=None, penalty='l2',\n",
       "                   random_state=None, solver='lbfgs', tol=0.01, verbose=0,\n",
       "                   warm_start=False)"
      ]
     },
     "execution_count": 51,
     "metadata": {},
     "output_type": "execute_result"
    }
   ],
   "source": [
    "# it's your time\n",
    "lr = LogisticRegression(fit_intercept=True, penalty='l2', solver='lbfgs', tol=0.01, multi_class='multinomial')\n",
    "#solver：‘newton-cg’,'lbfgs','liblinear','sag'  default:liblinear\n",
    "#'sag'=mini-batch\n",
    "#'multi_clss':\n",
    "lr.fit(X_train, y_train)"
   ]
  },
  {
   "cell_type": "code",
   "execution_count": 52,
   "metadata": {
    "collapsed": true
   },
   "outputs": [],
   "source": [
    "from sklearn import metrics"
   ]
  },
  {
   "cell_type": "code",
   "execution_count": 53,
   "metadata": {
    "collapsed": true
   },
   "outputs": [],
   "source": [
    "from sklearn.preprocessing import label_binarize"
   ]
  },
  {
   "cell_type": "code",
   "execution_count": 54,
   "metadata": {},
   "outputs": [
    {
     "name": "stdout",
     "output_type": "stream",
     "text": [
      "Logistic算法R值： 0.9547619047619048\n",
      "Logistic算法AUC值： 0.9929338612873633\n"
     ]
    }
   ],
   "source": [
    "### 6. 模型效果输出\n",
    "## 将正确的数据转换为矩阵形式\n",
    "y_test_hot = label_binarize(y_test,classes=(0,1))\n",
    "## 得到预测的损失值\n",
    "lr_y_score = lr.decision_function(X_test)\n",
    "## 计算roc的值\n",
    "lr_fpr, lr_tpr, lr_threasholds = metrics.roc_curve(y_test_hot.ravel(),lr_y_score.ravel())\n",
    "#threasholds阈值\n",
    "## 计算auc的值\n",
    "lr_auc = metrics.auc(lr_fpr, lr_tpr)\n",
    "print (\"Logistic算法R值：\", lr.score(X_train, y_train))\n",
    "print (\"Logistic算法AUC值：\", lr_auc)\n",
    "### 7. 模型预测\n",
    "lr_y_predict = lr.predict(X_test)"
   ]
  },
  {
   "cell_type": "code",
   "execution_count": 61,
   "metadata": {
    "collapsed": true
   },
   "outputs": [],
   "source": [
    "import matplotlib.pyplot as plt\n",
    "import warnings\n",
    "## 设置字符集，防止中文乱码\n",
    "mpl.rcParams['font.sans-serif']=[u'simHei']\n",
    "mpl.rcParams['axes.unicode_minus']=False"
   ]
  },
  {
   "cell_type": "code",
   "execution_count": 62,
   "metadata": {},
   "outputs": [
    {
     "data": {
      "image/png": "[encoded data removed]",
      "text/plain": [
       "<Figure size 576x432 with 1 Axes>"
      ]
     },
     "metadata": {},
     "output_type": "display_data"
    }
   ],
   "source": [
    "## 画图1：ROC曲线画图\n",
    "plt.figure(figsize=(8, 6), facecolor='w')\n",
    "plt.plot(lr_fpr,lr_tpr,c='r',lw=2,label=u'Logistic算法,AUC=%.3f' % lr_auc)\n",
    "plt.plot((0,1),(0,1),c='#a0a0a0',lw=2,ls='--')\n",
    "plt.xlim(-0.01, 1.02)#设置X轴的最大和最小值\n",
    "plt.ylim(-0.01, 1.02)#设置y轴的最大和最小值\n",
    "plt.xticks(np.arange(0, 1.1, 0.1))\n",
    "plt.yticks(np.arange(0, 1.1, 0.1))\n",
    "plt.xlabel('False Positive Rate(FPR)', fontsize=16)\n",
    "plt.ylabel('True Positive Rate(TPR)', fontsize=16)\n",
    "plt.grid(b=True, ls=':')\n",
    "plt.legend(loc='lower right', fancybox=True, framealpha=0.8, fontsize=12)\n",
    "plt.title(u'新闻数据Logistic算法的ROC/AUC', fontsize=18)\n",
    "plt.show()"
   ]
  },
  {
   "cell_type": "markdown",
   "metadata": {},
   "source": [
    "### Step9: 找出所以预测为 1， 但是实际为 0 的文章。 作为抄袭的候选者。"
   ]
  },
  {
   "cell_type": "code",
   "execution_count": 63,
   "metadata": {},
   "outputs": [
    {
     "data": {
      "text/plain": [
       "1800"
      ]
     },
     "execution_count": 63,
     "metadata": {},
     "output_type": "execute_result"
    }
   ],
   "source": [
    "len(y_pred)"
   ]
  },
  {
   "cell_type": "code",
   "execution_count": 64,
   "metadata": {},
   "outputs": [
    {
     "data": {
      "text/plain": [
       "((6000,), (6000,))"
      ]
     },
     "execution_count": 64,
     "metadata": {},
     "output_type": "execute_result"
    }
   ],
   "source": [
    "y_pred = clf.predict(X)\n",
    "y_pred.shape,y.shape"
   ]
  },
  {
   "cell_type": "code",
   "execution_count": 65,
   "metadata": {
    "collapsed": true
   },
   "outputs": [],
   "source": [
    "# it's your time\n",
    "new['y'] = y\n",
    "new['y_pred'] = y_pred"
   ]
  },
  {
   "cell_type": "code",
   "execution_count": 66,
   "metadata": {},
   "outputs": [
    {
     "data": {
      "text/html": [
       "<div>\n",
       "<style scoped>\n",
       "    .dataframe tbody tr th:only-of-type {\n",
       "        vertical-align: middle;\n",
       "    }\n",
       "\n",
       "    .dataframe tbody tr th {\n",
       "        vertical-align: top;\n",
       "    }\n",
       "\n",
       "    .dataframe thead th {\n",
       "        text-align: right;\n",
       "    }\n",
       "</style>\n",
       "<table border=\"1\" class=\"dataframe\">\n",
       "  <thead>\n",
       "    <tr style=\"text-align: right;\">\n",
       "      <th></th>\n",
       "      <th>content</th>\n",
       "      <th>label</th>\n",
       "      <th>y</th>\n",
       "      <th>y_pred</th>\n",
       "    </tr>\n",
       "  </thead>\n",
       "  <tbody>\n",
       "    <tr>\n",
       "      <th>61868</th>\n",
       "      <td>新华社照片，南京，2017年5月14日\\n（体育）（3）足球——中超：江苏苏宁对阵山东鲁能\\...</td>\n",
       "      <td>1</td>\n",
       "      <td>1</td>\n",
       "      <td>1</td>\n",
       "    </tr>\n",
       "    <tr>\n",
       "      <th>14519</th>\n",
       "      <td>新华社照片，郑州，2016年11月25日\\n南水北调工程管理员陈佰忠：就要一盯到底\\n11月...</td>\n",
       "      <td>1</td>\n",
       "      <td>1</td>\n",
       "      <td>1</td>\n",
       "    </tr>\n",
       "    <tr>\n",
       "      <th>79387</th>\n",
       "      <td>新华社照片，外代，2017年5月29日\\n（外代二线）网球——法国公开赛：王蔷不敌大威\\n5...</td>\n",
       "      <td>1</td>\n",
       "      <td>1</td>\n",
       "      <td>1</td>\n",
       "    </tr>\n",
       "    <tr>\n",
       "      <th>53764</th>\n",
       "      <td>新华社照片，永清（河北），2017年5月7日\\n河北永清：温室油桃上市\\n5月7日，游客在河...</td>\n",
       "      <td>1</td>\n",
       "      <td>1</td>\n",
       "      <td>1</td>\n",
       "    </tr>\n",
       "    <tr>\n",
       "      <th>60303</th>\n",
       "      <td>新华社照片，外代，2017年5月13日\\n（外代二线）新西伯利亚“海豚”海洋生物学和地理学中...</td>\n",
       "      <td>1</td>\n",
       "      <td>1</td>\n",
       "      <td>1</td>\n",
       "    </tr>\n",
       "    <tr>\n",
       "      <th>57910</th>\n",
       "      <td>新华社照片，外代，2017年5月11日\\n（外代二线）冰球——世锦赛：芬兰胜斯洛文尼亚\\n5...</td>\n",
       "      <td>1</td>\n",
       "      <td>1</td>\n",
       "      <td>1</td>\n",
       "    </tr>\n",
       "    <tr>\n",
       "      <th>11407</th>\n",
       "      <td>新华社照片，富源（云南），2017年3月31日\\n云南富源：又到山花烂漫时\\n这是富源县墨红...</td>\n",
       "      <td>1</td>\n",
       "      <td>1</td>\n",
       "      <td>1</td>\n",
       "    </tr>\n",
       "    <tr>\n",
       "      <th>35555</th>\n",
       "      <td>新华社照片，汕头（广东），2017年4月21日\\n南澳岛海域上演“海豚竞速”\\n从广东名矶会...</td>\n",
       "      <td>1</td>\n",
       "      <td>1</td>\n",
       "      <td>1</td>\n",
       "    </tr>\n",
       "    <tr>\n",
       "      <th>17800</th>\n",
       "      <td>新华社照片，昆明，2017年4月5日\\n昆明设置约120个共享单车临时停放点\\n4月5日，市...</td>\n",
       "      <td>1</td>\n",
       "      <td>1</td>\n",
       "      <td>1</td>\n",
       "    </tr>\n",
       "    <tr>\n",
       "      <th>86524</th>\n",
       "      <td>\\n新华社日本和歌山6月4日电（记者马峥　方艺晓）日本和歌山白浜野生动物园4日举行仪式，送别...</td>\n",
       "      <td>1</td>\n",
       "      <td>1</td>\n",
       "      <td>1</td>\n",
       "    </tr>\n",
       "  </tbody>\n",
       "</table>\n",
       "</div>"
      ],
      "text/plain": [
       "                                                 content  label  y  y_pred\n",
       "61868  新华社照片，南京，2017年5月14日\\n（体育）（3）足球——中超：江苏苏宁对阵山东鲁能\\...      1  1       1\n",
       "14519  新华社照片，郑州，2016年11月25日\\n南水北调工程管理员陈佰忠：就要一盯到底\\n11月...      1  1       1\n",
       "79387  新华社照片，外代，2017年5月29日\\n（外代二线）网球——法国公开赛：王蔷不敌大威\\n5...      1  1       1\n",
       "53764  新华社照片，永清（河北），2017年5月7日\\n河北永清：温室油桃上市\\n5月7日，游客在河...      1  1       1\n",
       "60303  新华社照片，外代，2017年5月13日\\n（外代二线）新西伯利亚“海豚”海洋生物学和地理学中...      1  1       1\n",
       "57910  新华社照片，外代，2017年5月11日\\n（外代二线）冰球——世锦赛：芬兰胜斯洛文尼亚\\n5...      1  1       1\n",
       "11407  新华社照片，富源（云南），2017年3月31日\\n云南富源：又到山花烂漫时\\n这是富源县墨红...      1  1       1\n",
       "35555  新华社照片，汕头（广东），2017年4月21日\\n南澳岛海域上演“海豚竞速”\\n从广东名矶会...      1  1       1\n",
       "17800  新华社照片，昆明，2017年4月5日\\n昆明设置约120个共享单车临时停放点\\n4月5日，市...      1  1       1\n",
       "86524  \\n新华社日本和歌山6月4日电（记者马峥　方艺晓）日本和歌山白浜野生动物园4日举行仪式，送别...      1  1       1"
      ]
     },
     "execution_count": 66,
     "metadata": {},
     "output_type": "execute_result"
    }
   ],
   "source": [
    "new.head(10)"
   ]
  },
  {
   "cell_type": "code",
   "execution_count": 67,
   "metadata": {},
   "outputs": [
    {
     "data": {
      "text/plain": [
       "34"
      ]
     },
     "execution_count": 67,
     "metadata": {},
     "output_type": "execute_result"
    }
   ],
   "source": [
    "fake_news = new[(new.y == 0) & (new.y_pred == 1)]\n",
    "len(fake_news)\n",
    "#虚假新闻1366篇"
   ]
  },
  {
   "cell_type": "code",
   "execution_count": null,
   "metadata": {
    "collapsed": true
   },
   "outputs": [],
   "source": []
  },
  {
   "cell_type": "markdown",
   "metadata": {},
   "source": [
    "### Step10： 总结该过程，什么是数据思维？什么是机器学习思维？"
   ]
  },
  {
   "cell_type": "markdown",
   "metadata": {
    "collapsed": true
   },
   "source": [
    "数据思维就是把日常碰到的问题，转化成数据，然后根据数据进行建模，最后得出结果，根据结果对商业决策进行数据支持。\n",
    "机器学习思维也一样，就是把一个普通日常的问题抽象成机器学习场景，利用机器学习方法进行建模，最终得出结果支撑业务。"
   ]
  },
  {
   "cell_type": "markdown",
   "metadata": {},
   "source": [
    "### (Optional)使用第4课讲解的 edit distance，在涉嫌抄袭的文章中，找到其重复的文字与被修改过的文字。 "
   ]
  },
  {
   "cell_type": "code",
   "execution_count": null,
   "metadata": {
    "collapsed": true
   },
   "outputs": [],
   "source": []
  },
  {
   "cell_type": "markdown",
   "metadata": {},
   "source": [
    "### Step11: 利用第8课讲述的新模型，进行操作，感受其中不同的参数、模型对性能的影响。"
   ]
  },
  {
   "cell_type": "markdown",
   "metadata": {},
   "source": [
    "本来打算用网格搜索的，后来电脑性能不足就放弃了"
   ]
  },
  {
   "cell_type": "code",
   "execution_count": 146,
   "metadata": {
    "collapsed": true
   },
   "outputs": [],
   "source": [
    "from sklearn.ensemble import AdaBoostClassifier#adaboost引入方法\n",
    "from sklearn.tree import DecisionTreeClassifier\n",
    "from sklearn.ensemble import GradientBoostingClassifier"
   ]
  },
  {
   "cell_type": "code",
   "execution_count": 148,
   "metadata": {},
   "outputs": [
    {
     "data": {
      "text/plain": [
       "AdaBoostClassifier(algorithm='SAMME.R',\n",
       "                   base_estimator=DecisionTreeClassifier(class_weight=None,\n",
       "                                                         criterion='gini',\n",
       "                                                         max_depth=2,\n",
       "                                                         max_features=None,\n",
       "                                                         max_leaf_nodes=None,\n",
       "                                                         min_impurity_decrease=0.0,\n",
       "                                                         min_impurity_split=None,\n",
       "                                                         min_samples_leaf=1,\n",
       "                                                         min_samples_split=2,\n",
       "                                                         min_weight_fraction_leaf=0.0,\n",
       "                                                         presort=False,\n",
       "                                                         random_state=None,\n",
       "                                                         splitter='best'),\n",
       "                   learning_rate=1.0, n_estimators=200, random_state=None)"
      ]
     },
     "execution_count": 148,
     "metadata": {},
     "output_type": "execute_result"
    }
   ],
   "source": [
    "#构建adaboost模型\n",
    "bdt = AdaBoostClassifier(DecisionTreeClassifier(max_depth=2),#基学习器是决策树\n",
    "                         algorithm=\"SAMME.R\",#可以不写\n",
    "                         n_estimators=200)\n",
    "#gbd=GradientBoostingClassifier()\n",
    "#数据量大的时候，可以增加内部分类器的树深度，也可以不限制树深\n",
    "#max_depth树深，数据量大的时候，一般范围在10——100之间\n",
    "#数据量小的时候，一般可以设置树深度较小，或者n_estimators较小\n",
    "#n_estimators 迭代次数或者最大弱分类器数：200次\n",
    "#base_estimator：DecisionTreeClassifier 选择弱分类器，默认为CART树\n",
    "#algorithm：SAMME 和SAMME.R 。运算规则，后者是优化算法，以概率调整权重，迭代速度快，\n",
    "#需要能计算概率的分类器支持\n",
    "#learning_rate：0<v<=1，默认为1，正则项 衰减指数\n",
    "#loss：linear、‘square’exponential’。误差计算公式：一般用linear足够\n",
    "bdt.fit(X_train, y_train)\n",
    "#gbd.fit(X_train,y_train)"
   ]
  },
  {
   "cell_type": "code",
   "execution_count": 161,
   "metadata": {},
   "outputs": [
    {
     "name": "stdout",
     "output_type": "stream",
     "text": [
      "AdaBoost算法R值： 0.9992451220112575\n",
      "AdaBoost算法AUC值： 0.9976983888772485\n"
     ]
    }
   ],
   "source": [
    "### 6. 模型效果输出\n",
    "## 将正确的数据转换为矩阵形式\n",
    "y_test_hot = label_binarize(y_test,classes=(0,1))\n",
    "## 得到预测的损失值\n",
    "bdt_y_score = bdt.decision_function(X_test)\n",
    "## 计算roc的值\n",
    "bdt_fpr, bdt_tpr, bdt_threasholds = metrics.roc_curve(y_test_hot.ravel(),bdt_y_score.ravel())\n",
    "#threasholds阈值\n",
    "## 计算auc的值\n",
    "bdt_auc = metrics.auc(bdt_fpr, bdt_tpr)\n",
    "print (\"AdaBoost算法R值：\", bdt.score(X_train, y_train))\n",
    "print (\"AdaBoost算法AUC值：\", bdt_auc)"
   ]
  },
  {
   "cell_type": "markdown",
   "metadata": {},
   "source": [
    "KNN"
   ]
  },
  {
   "cell_type": "code",
   "execution_count": 68,
   "metadata": {
    "collapsed": true
   },
   "outputs": [],
   "source": [
    "def clock(func):\n",
    "    def clocked(*args, **kwargs):\n",
    "        t0 = timeit.default_timer()\n",
    "        result = func(*args, **kwargs)\n",
    "        elapsed = timeit.default_timer() - t0\n",
    "        name = func.__name__\n",
    "        arg_str = ', '.join(repr(arg) for arg in args)\n",
    "        print(elapsed,'s')\n",
    "        #print('[%0.8fs] %s(%s) -> %r' % (elapsed, name, arg_str, result))\n",
    "        return result\n",
    "    return clocked"
   ]
  },
  {
   "cell_type": "code",
   "execution_count": 76,
   "metadata": {
    "collapsed": true
   },
   "outputs": [],
   "source": [
    "from sklearn.metrics import f1_score\n",
    "from sklearn.metrics import accuracy_score\n",
    "from sklearn.metrics import precision_score\n",
    "from sklearn.metrics import recall_score\n",
    "from sklearn.metrics import roc_auc_score\n",
    "from sklearn.metrics import confusion_matrix"
   ]
  },
  {
   "cell_type": "code",
   "execution_count": 72,
   "metadata": {
    "collapsed": true
   },
   "outputs": [],
   "source": [
    "import time, timeit"
   ]
  },
  {
   "cell_type": "code",
   "execution_count": 69,
   "metadata": {},
   "outputs": [],
   "source": [
    "\n",
    "@clock\n",
    "def get_performance(clf, x_, y_):\n",
    "    y_hat = clf.predict(x_)\n",
    "    print('f1_score is: {}'.format(f1_score(y_, y_hat)))\n",
    "    print('accuracy is: {}'.format(accuracy_score(y_, y_hat)))\n",
    "    print('percision is: {}'.format(precision_score(y_, y_hat)))\n",
    "    print('recall is: {}'.format(recall_score(y_, y_hat)))\n",
    "    #print('roc_auc is: {}'.format(roc_auc_score(y_, y_hat)))\n",
    "    #print('confusion matrix: \\n{}'.format(confusion_matrix(y_, y_hat, labels=[0, 1])))\n",
    "\n",
    "\n",
    " "
   ]
  },
  {
   "cell_type": "code",
   "execution_count": 74,
   "metadata": {
    "collapsed": true
   },
   "outputs": [],
   "source": [
    "from sklearn.neighbors import KNeighborsClassifier"
   ]
  },
  {
   "cell_type": "code",
   "execution_count": 77,
   "metadata": {},
   "outputs": [
    {
     "name": "stdout",
     "output_type": "stream",
     "text": [
      "0.0033640999999988708 s\n",
      "f1_score is: 0.8365617433414043\n",
      "accuracy is: 0.85\n",
      "percision is: 0.9080157687253614\n",
      "recall is: 0.7755331088664422\n",
      "0.7488089999999978 s\n"
     ]
    }
   ],
   "source": [
    "@clock\n",
    "def KNN(X_train, y_train):\n",
    "    clf = KNeighborsClassifier(n_neighbors = 5, weights = 'uniform', algorithm = 'auto')\n",
    "    clf.fit(X_train, y_train)\n",
    "    return clf\n",
    "#clf.fit(X_test,y_test)\n",
    "get_performance(KNN(X_train,y_train),X_test,y_test)"
   ]
  },
  {
   "cell_type": "markdown",
   "metadata": {
    "collapsed": true
   },
   "source": [
    "SVM"
   ]
  },
  {
   "cell_type": "code",
   "execution_count": 78,
   "metadata": {},
   "outputs": [
    {
     "name": "stdout",
     "output_type": "stream",
     "text": [
      "0.0029666000000361237 s\n",
      "f1_score is: 0.8365617433414043\n",
      "accuracy is: 0.85\n",
      "percision is: 0.9080157687253614\n",
      "recall is: 0.7755331088664422\n",
      "0.6173352999999793 s\n"
     ]
    }
   ],
   "source": [
    "@clock\n",
    "def SVM(X_train, y_train):\n",
    "    clf = svm.SVC(C=1,gamma=0.1,probability=True)\n",
    "    clf.fit(X_train, y_train)\n",
    "    return clf\n",
    "#clf.fit(X_test,y_test)\n",
    "get_performance(KNN(X_train,y_train),X_test,y_test)"
   ]
  }
 ],
 "metadata": {
  "kernelspec": {
   "display_name": "Python 3",
   "language": "python",
   "name": "python3"
  },
  "language_info": {
   "codemirror_mode": {
    "name": "ipython",
    "version": 3
   },
   "file_extension": ".py",
   "mimetype": "text/x-python",
   "name": "python",
   "nbconvert_exporter": "python",
   "pygments_lexer": "ipython3",
   "version": "3.6.5"
  }
 },
 "nbformat": 4,
 "nbformat_minor": 2
}



